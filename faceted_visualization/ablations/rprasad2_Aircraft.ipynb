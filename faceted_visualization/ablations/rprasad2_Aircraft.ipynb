{
 "cells": [
  {
   "cell_type": "markdown",
   "id": "80974dae",
   "metadata": {},
   "source": [
    "# Aircraft Ablations"
   ]
  },
  {
   "cell_type": "code",
   "execution_count": 3,
   "id": "initial_id",
   "metadata": {
    "ExecuteTime": {
     "end_time": "2023-12-04T00:23:20.713440Z",
     "start_time": "2023-12-04T00:23:20.710759Z"
    }
   },
   "outputs": [],
   "source": [
    "import sys\n",
    "import os\n",
    "\n",
    "if sys.platform == \"darwin\":\n",
    "    ROOT = '/Users/rohan/repositories/11785-f23-prj/faceted_visualization'\n",
    "else:\n",
    "    ROOT = '/apps/11785-f23-prj/faceted_visualization'\n",
    "\n",
    "LIBRARY_HOME = os.path.join(ROOT, 'visualizer')\n",
    "PROBE_HOME = os.path.join(ROOT, \"probes\", \"logs\", \"air\")\n",
    "LOG_PATH = os.path.join(ROOT, \"logs\")\n",
    "\n",
    "sys.path.append(ROOT)\n",
    "sys.path.append(LIBRARY_HOME)"
   ]
  },
  {
   "cell_type": "code",
   "execution_count": 4,
   "id": "b3b7c2bb",
   "metadata": {},
   "outputs": [
    {
     "name": "stdout",
     "output_type": "stream",
     "text": [
      "/apps/11785-f23-prj\n"
     ]
    }
   ],
   "source": [
    "%cd /apps/11785-f23-prj"
   ]
  },
  {
   "cell_type": "code",
   "execution_count": 5,
   "id": "beebabb3f954b46b",
   "metadata": {
    "ExecuteTime": {
     "end_time": "2023-12-04T00:23:22.204008Z",
     "start_time": "2023-12-04T00:23:20.714798Z"
    }
   },
   "outputs": [
    {
     "name": "stderr",
     "output_type": "stream",
     "text": [
      "/opt/conda/lib/python3.10/site-packages/torchvision/datapoints/__init__.py:12: UserWarning: The torchvision.datapoints and torchvision.transforms.v2 namespaces are still Beta. While we do not expect major breaking changes, some APIs may still change according to user feedback. Please submit any feedback you may have in this issue: https://github.com/pytorch/vision/issues/6753, and you can also check out https://github.com/pytorch/vision/issues/7319 to learn more about the APIs that we suspect might involve future changes. You can silence this warning by calling torchvision.disable_beta_transforms_warning().\n",
      "  warnings.warn(_BETA_TRANSFORMS_WARNING)\n",
      "/opt/conda/lib/python3.10/site-packages/torchvision/transforms/v2/__init__.py:54: UserWarning: The torchvision.datapoints and torchvision.transforms.v2 namespaces are still Beta. While we do not expect major breaking changes, some APIs may still change according to user feedback. Please submit any feedback you may have in this issue: https://github.com/pytorch/vision/issues/6753, and you can also check out https://github.com/pytorch/vision/issues/7319 to learn more about the APIs that we suspect might involve future changes. You can silence this warning by calling torchvision.disable_beta_transforms_warning().\n",
      "  warnings.warn(_BETA_TRANSFORMS_WARNING)\n"
     ]
    }
   ],
   "source": [
    "import faceted_visualization.visualizer.main\n",
    "import faceted_visualization.visualizer.render\n",
    "import faceted_visualization.visualizer.hook\n",
    "import faceted_visualization.visualizer.image\n",
    "import faceted_visualization.visualizer.helpers\n",
    "import faceted_visualization.visualizer.wb\n",
    "import faceted_visualization.visualizer.constants as constants\n",
    "import wandb\n",
    "import pprint\n",
    "import clip\n",
    "import os\n",
    "import logging\n",
    "import datetime\n",
    "import torch"
   ]
  },
  {
   "cell_type": "code",
   "execution_count": 6,
   "id": "475feba850625225",
   "metadata": {
    "ExecuteTime": {
     "end_time": "2023-12-04T00:23:22.208565Z",
     "start_time": "2023-12-04T00:23:22.205725Z"
    }
   },
   "outputs": [],
   "source": [
    "logging.basicConfig(force=True, level=\"INFO\",\n",
    "                    format=\"%(asctime)s [%(threadName)-12.12s] [%(levelname)-5.5s]  %(message)s\")\n",
    "logger = logging.getLogger()\n",
    "init_stream = True\n",
    "init_filehandler = True\n",
    "for handler in logger.handlers:\n",
    "    if isinstance(handler, logging.StreamHandler):\n",
    "        init_stream = False\n",
    "    if isinstance(handler, logging.FileHandler):\n",
    "        init_filehandler = False\n",
    "if init_stream:\n",
    "    consoleHandler = logging.StreamHandler(sys.stdout)\n",
    "    logger.addHandler(consoleHandler)\n",
    "if init_filehandler and sys.platform != \"darwin\":\n",
    "    fileHandler = logging.FileHandler(os.path.join(LOG_PATH, f\"{datetime.datetime.now().strftime('%Y%m%d%H%M%S')}.log\"))\n",
    "    fileHandler.setFormatter(\n",
    "        logging.Formatter(fmt=\"%(asctime)s [%(threadName)-12.12s] [%(levelname)-5.5s]  %(message)s\"))\n",
    "    logger.addHandler(fileHandler)"
   ]
  },
  {
   "cell_type": "code",
   "execution_count": 7,
   "id": "c55db92f",
   "metadata": {},
   "outputs": [
    {
     "name": "stderr",
     "output_type": "stream",
     "text": [
      "2023-12-05 22:20:06,002 [MainThread  ] [INFO ]  Seed = 63782774\n"
     ]
    }
   ],
   "source": [
    "generated_random_seed = faceted_visualization.visualizer.helpers.random_seed(8)\n",
    "logger.info(\"Seed = %s\", generated_random_seed)"
   ]
  },
  {
   "cell_type": "code",
   "execution_count": 10,
   "id": "14f5ccd19f6b51fa",
   "metadata": {
    "ExecuteTime": {
     "end_time": "2023-12-04T00:23:22.213206Z",
     "start_time": "2023-12-04T00:23:22.208682Z"
    }
   },
   "outputs": [
    {
     "name": "stderr",
     "output_type": "stream",
     "text": [
      "2023-12-05 22:20:42,501 [MainThread  ] [INFO ]  Sweep Configuration = \n",
      " {'method': 'grid',\n",
      " 'parameters': {'channel': {'values': [1, 128, 512, 1024, 2048, 2560]},\n",
      "                'learning_rate': {'values': [0.05]},\n",
      "                'linear_probe_layer': {'values': ['layer1_0_conv3',\n",
      "                                                  'layer1_0_relu3',\n",
      "                                                  'layer1_3_conv3',\n",
      "                                                  'layer1_3_relu3',\n",
      "                                                  'layer2_5_conv3',\n",
      "                                                  'layer2_5_relu3',\n",
      "                                                  'layer3_9_conv3',\n",
      "                                                  'layer3_9_relu3']},\n",
      "                'model': {'values': ['RN50x4']},\n",
      "                'num_iterations': {'values': [512]},\n",
      "                'objective': {'values': ['neuron', 'channel']},\n",
      "                'optimizer': {'values': ['AdamW']},\n",
      "                'random_seed': {'values': [63782774]},\n",
      "                'use_std_transforms': {'values': [True]},\n",
      "                'use_transforms': {'values': [True, False]},\n",
      "                'visualization_layer': {'values': ['layer4_5_conv3']}}}\n"
     ]
    }
   ],
   "source": [
    "parameter_dict = {\n",
    "    constants.NUMBER_OF_ITERATIONS: {\n",
    "        'values': [512]\n",
    "    },\n",
    "    constants.MODEL: {\n",
    "        'values': ['RN50x4']\n",
    "    },\n",
    "    constants.LINEAR_PROBE_LAYER: {\n",
    "        'values': [\n",
    "            'layer1_0_conv3',\n",
    "            'layer1_0_relu3',\n",
    "            'layer1_3_conv3',\n",
    "            'layer1_3_relu3',\n",
    "            'layer2_5_conv3',\n",
    "            'layer2_5_relu3',\n",
    "            'layer3_9_conv3',\n",
    "            'layer3_9_relu3'\n",
    "            \n",
    "        ]\n",
    "    },\n",
    "    constants.VISUALIZATION_LAYER: {\n",
    "        'values': [\n",
    "            'layer4_5_conv3'\n",
    "        ]\n",
    "    },\n",
    "    constants.OPTIMIZER: {\n",
    "        'values': [\n",
    "            'AdamW'\n",
    "        ]\n",
    "    },\n",
    "    constants.LEARNING_RATE: {\n",
    "        'values': [\n",
    "            0.05\n",
    "        ]\n",
    "    },\n",
    "    constants.CHANNEL: {\n",
    "        'values': [\n",
    "            1, 128, 512, 1024, 2048, 2560  \n",
    "        ]\n",
    "    },\n",
    "    constants.OBJECTIVE: {\n",
    "        'values': [\n",
    "            'neuron',\n",
    "            'channel'\n",
    "        ]\n",
    "    },\n",
    "    constants.USE_TRANSFORMS: {\n",
    "        'values': [\n",
    "            True, False\n",
    "        ]\n",
    "    },\n",
    "    constants.USE_STD_TRANSFORMS: {\n",
    "        'values': [\n",
    "            True\n",
    "        ]\n",
    "    },\n",
    "    constants.RANDOM_SEED: {\n",
    "        'values': [\n",
    "            generated_random_seed\n",
    "        ]\n",
    "    }\n",
    "}\n",
    "sweep_config = {\n",
    "    'method': 'grid',\n",
    "    'parameters': parameter_dict\n",
    "\n",
    "}\n",
    "logger.info(\"Sweep Configuration = \\n %s\", pprint.pformat(sweep_config))"
   ]
  },
  {
   "cell_type": "code",
   "execution_count": 11,
   "id": "9ba2ea01975d2704",
   "metadata": {
    "ExecuteTime": {
     "end_time": "2023-12-04T00:23:22.217255Z",
     "start_time": "2023-12-04T00:23:22.214159Z"
    }
   },
   "outputs": [
    {
     "name": "stderr",
     "output_type": "stream",
     "text": [
      "2023-12-05 22:20:42,986 [MainThread  ] [INFO ]  Selected Device = cuda:0\n"
     ]
    }
   ],
   "source": [
    "if torch.cuda.is_available():\n",
    "    DEVICE = \"cuda:0\"\n",
    "else:\n",
    "    DEVICE = \"cpu\"\n",
    "logger.info(\"Selected Device = %s\", DEVICE)"
   ]
  },
  {
   "cell_type": "code",
   "execution_count": 12,
   "id": "ebac30fa2ab59dd2",
   "metadata": {
    "ExecuteTime": {
     "end_time": "2023-12-04T00:23:22.223037Z",
     "start_time": "2023-12-04T00:23:22.221623Z"
    }
   },
   "outputs": [],
   "source": [
    "def perform_sweep(config=None):\n",
    "    with wandb.init(config) as run:\n",
    "        current_sweep_config = wandb.config\n",
    "        logger.info('Starting sweep [ run  %s ] with config = \\n%s', run.id, current_sweep_config)\n",
    "        faceted_visualization.visualizer.helpers.set_seed(current_sweep_config[constants.RANDOM_SEED])\n",
    "        model, clip_transforms = faceted_visualization.visualizer.main.get_model(current_sweep_config[constants.MODEL],\n",
    "                                                                                 device=DEVICE)\n",
    "        model_hook = faceted_visualization.visualizer.hook.register_hooks(model)\n",
    "\n",
    "        if current_sweep_config[constants.MODEL].casefold() == 'RN50x4'.casefold():\n",
    "            image_h, image_w = 288, 288\n",
    "            probe_location = os.path.join(PROBE_HOME, \n",
    "                                          current_sweep_config[constants.MODEL],\n",
    "                                          current_sweep_config[constants.LINEAR_PROBE_LAYER], \"version_4_20\", \"model_checkpoint.pth\")\n",
    "        else:\n",
    "            image_h, image_w = 224, 224\n",
    "            probe_location = os.path.join(PROBE_HOME,\n",
    "                                          current_sweep_config[constants.MODEL] + \"_\" + current_sweep_config[\n",
    "                                              constants.LINEAR_PROBE_LAYER], \"version_1\", \"model_checkpoint.pth\")\n",
    "        params, image_f = faceted_visualization.visualizer.image.generate_img(h=image_h, w=image_w,\n",
    "                                                                              decorrelate=True,\n",
    "                                                                              fft=True,\n",
    "                                                                              device=DEVICE)\n",
    "        probe_weights = faceted_visualization.visualizer.main.get_probe_weights(model_location=probe_location,\n",
    "                                                                                device=DEVICE)\n",
    "        if current_sweep_config[constants.OPTIMIZER].casefold() == \"ADAM\".casefold():\n",
    "            optimizer = torch.optim.Adam(params=params, lr=current_sweep_config[constants.LEARNING_RATE])\n",
    "        elif current_sweep_config[constants.OPTIMIZER].casefold() == \"ADAMW\".casefold():\n",
    "            optimizer = torch.optim.AdamW(params=params, lr=current_sweep_config[constants.LEARNING_RATE])\n",
    "        elif current_sweep_config[constants.OPTIMIZER].casefold() == \"SGD\".casefold():\n",
    "            optimizer = torch.optim.SGD(params=params, lr=current_sweep_config[constants.LEARNING_RATE])\n",
    "        else:\n",
    "            logger.error(\"Unknown optimizer type [ %s ] provided\", current_sweep_config[constants.OPTIMIZER])\n",
    "            raise RuntimeError(f\"Unknown optimizer type [ {current_sweep_config[constants.OPTIMIZER]} ] provided\")\n",
    "\n",
    "        transforms = faceted_visualization.visualizer.image.consolidate_transforms(\n",
    "            use_clip_transforms=current_sweep_config[constants.USE_TRANSFORMS],\n",
    "            use_standard_transforms=current_sweep_config[constants.USE_STD_TRANSFORMS],\n",
    "            clip_transforms=clip_transforms\n",
    "        )\n",
    "\n",
    "        logger.info(\"Final list of transforms = %s\", transforms.transforms if transforms is not None else \"NA\")\n",
    "\n",
    "        wandb_object = faceted_visualization.visualizer.wb.WandB(\n",
    "            is_sweep=True,\n",
    "            enabled=True,\n",
    "            api_key=None,\n",
    "            entity=None,\n",
    "            run_name=None,\n",
    "            project=None,\n",
    "            config=None,\n",
    "        )\n",
    "        \n",
    "        if current_sweep_config[constants.OBJECTIVE] == \"neuron\":\n",
    "            image_name = f\"{current_sweep_config[constants.VISUALIZATION_LAYER]}:{current_sweep_config[constants.CHANNEL]}_mid_neuron\"\n",
    "        else:\n",
    "            image_name = f\"{current_sweep_config[constants.VISUALIZATION_LAYER]}:{current_sweep_config[constants.CHANNEL]}\"\n",
    "            \n",
    "        faceted_visualization.visualizer.render.optimize(\n",
    "            num_iterations=current_sweep_config[constants.NUMBER_OF_ITERATIONS],\n",
    "            transforms=transforms,\n",
    "            image_function=image_f,\n",
    "            model=model,\n",
    "            channel=current_sweep_config[constants.CHANNEL],\n",
    "            objective=current_sweep_config[constants.OBJECTIVE],\n",
    "            layer=current_sweep_config[constants.VISUALIZATION_LAYER],\n",
    "            linear_probe_layer=current_sweep_config[constants.LINEAR_PROBE_LAYER],\n",
    "            probe_weights=probe_weights,\n",
    "            optimizer=optimizer,\n",
    "            model_hook=model_hook,\n",
    "            neuron_x=current_sweep_config.get(constants.NEURON_X, None),\n",
    "            neuron_y=current_sweep_config.get(constants.NEURON_Y, None),\n",
    "            wandb_object=wandb_object,\n",
    "            run_id=run.id,\n",
    "            device=DEVICE,\n",
    "            image_name=image_name\n",
    "            )\n",
    "\n",
    "        logger.info(\"Completed run [ %s ]\", run.id)"
   ]
  },
  {
   "cell_type": "code",
   "execution_count": null,
   "id": "78e184d24ac3dac7",
   "metadata": {
    "ExecuteTime": {
     "start_time": "2023-12-04T00:23:22.223925Z"
    },
    "is_executing": true
   },
   "outputs": [
    {
     "name": "stderr",
     "output_type": "stream",
     "text": [
      "2023-12-05 22:21:11,185 [MainThread  ] [INFO ]  Sweep ID = p3wo7ml8\n",
      "2023-12-05 22:21:11,191 [MainThread  ] [INFO ]  Starting sweep agent: entity=None, project=None, count=None\n"
     ]
    },
    {
     "name": "stdout",
     "output_type": "stream",
     "text": [
      "Create sweep with ID: p3wo7ml8\n",
      "Sweep URL: https://wandb.ai/rohanprasad/idl-project-air/sweeps/p3wo7ml8\n"
     ]
    },
    {
     "name": "stderr",
     "output_type": "stream",
     "text": [
      "\u001b[34m\u001b[1mwandb\u001b[0m: Agent Starting Run: 8ttfb7tl with config:\n",
      "\u001b[34m\u001b[1mwandb\u001b[0m: \tchannel: 1\n",
      "\u001b[34m\u001b[1mwandb\u001b[0m: \tlearning_rate: 0.05\n",
      "\u001b[34m\u001b[1mwandb\u001b[0m: \tlinear_probe_layer: layer1_0_conv3\n",
      "\u001b[34m\u001b[1mwandb\u001b[0m: \tmodel: RN50x4\n",
      "\u001b[34m\u001b[1mwandb\u001b[0m: \tnum_iterations: 512\n",
      "\u001b[34m\u001b[1mwandb\u001b[0m: \tobjective: neuron\n",
      "\u001b[34m\u001b[1mwandb\u001b[0m: \toptimizer: AdamW\n",
      "\u001b[34m\u001b[1mwandb\u001b[0m: \trandom_seed: 63782774\n",
      "\u001b[34m\u001b[1mwandb\u001b[0m: \tuse_std_transforms: True\n",
      "\u001b[34m\u001b[1mwandb\u001b[0m: \tuse_transforms: True\n",
      "\u001b[34m\u001b[1mwandb\u001b[0m: \tvisualization_layer: layer4_5_conv3\n",
      "\u001b[34m\u001b[1mwandb\u001b[0m: Currently logged in as: \u001b[33mrohanprasad\u001b[0m. Use \u001b[1m`wandb login --relogin`\u001b[0m to force relogin\n"
     ]
    },
    {
     "data": {
      "application/vnd.jupyter.widget-view+json": {
       "model_id": "b5a3958358b34528b95aa42c37ee1c6a",
       "version_major": 2,
       "version_minor": 0
      },
      "text/plain": [
       "VBox(children=(Label(value='Waiting for wandb.init()...\\r'), FloatProgress(value=0.011112680266685654, max=1.0…"
      ]
     },
     "metadata": {},
     "output_type": "display_data"
    },
    {
     "data": {
      "text/html": [
       "wandb version 0.16.1 is available!  To upgrade, please run:\n",
       " $ pip install wandb --upgrade"
      ],
      "text/plain": [
       "<IPython.core.display.HTML object>"
      ]
     },
     "metadata": {},
     "output_type": "display_data"
    },
    {
     "data": {
      "text/html": [
       "Tracking run with wandb version 0.16.0"
      ],
      "text/plain": [
       "<IPython.core.display.HTML object>"
      ]
     },
     "metadata": {},
     "output_type": "display_data"
    },
    {
     "data": {
      "text/html": [
       "Run data is saved locally in <code>/apps/11785-f23-prj/wandb/run-20231205_222112-8ttfb7tl</code>"
      ],
      "text/plain": [
       "<IPython.core.display.HTML object>"
      ]
     },
     "metadata": {},
     "output_type": "display_data"
    },
    {
     "data": {
      "text/html": [
       "Syncing run <strong><a href='https://wandb.ai/rohanprasad/idl-project-air/runs/8ttfb7tl' target=\"_blank\">winter-sweep-1</a></strong> to <a href='https://wandb.ai/rohanprasad/idl-project-air' target=\"_blank\">Weights & Biases</a> (<a href='https://wandb.me/run' target=\"_blank\">docs</a>)<br/>Sweep page: <a href='https://wandb.ai/rohanprasad/idl-project-air/sweeps/p3wo7ml8' target=\"_blank\">https://wandb.ai/rohanprasad/idl-project-air/sweeps/p3wo7ml8</a>"
      ],
      "text/plain": [
       "<IPython.core.display.HTML object>"
      ]
     },
     "metadata": {},
     "output_type": "display_data"
    },
    {
     "data": {
      "text/html": [
       " View project at <a href='https://wandb.ai/rohanprasad/idl-project-air' target=\"_blank\">https://wandb.ai/rohanprasad/idl-project-air</a>"
      ],
      "text/plain": [
       "<IPython.core.display.HTML object>"
      ]
     },
     "metadata": {},
     "output_type": "display_data"
    },
    {
     "data": {
      "text/html": [
       " View sweep at <a href='https://wandb.ai/rohanprasad/idl-project-air/sweeps/p3wo7ml8' target=\"_blank\">https://wandb.ai/rohanprasad/idl-project-air/sweeps/p3wo7ml8</a>"
      ],
      "text/plain": [
       "<IPython.core.display.HTML object>"
      ]
     },
     "metadata": {},
     "output_type": "display_data"
    },
    {
     "data": {
      "text/html": [
       " View run at <a href='https://wandb.ai/rohanprasad/idl-project-air/runs/8ttfb7tl' target=\"_blank\">https://wandb.ai/rohanprasad/idl-project-air/runs/8ttfb7tl</a>"
      ],
      "text/plain": [
       "<IPython.core.display.HTML object>"
      ]
     },
     "metadata": {},
     "output_type": "display_data"
    },
    {
     "name": "stderr",
     "output_type": "stream",
     "text": [
      "2023-12-05 22:21:24,204 [Thread-6 (_r] [INFO ]  Starting sweep [ run  8ttfb7tl ] with config = \n",
      "{'channel': 1, 'learning_rate': 0.05, 'linear_probe_layer': 'layer1_0_conv3', 'model': 'RN50x4', 'num_iterations': 512, 'objective': 'neuron', 'optimizer': 'AdamW', 'random_seed': 63782774, 'use_std_transforms': True, 'use_transforms': True, 'visualization_layer': 'layer4_5_conv3'}\n",
      "2023-12-05 22:21:24,206 [Thread-6 (_r] [INFO ]  Setting random seed to 63782774\n",
      "2023-12-05 22:21:24,209 [Thread-6 (_r] [INFO ]  Loading CLIP model [ RN50x4 ].\n",
      "2023-12-05 22:21:30,882 [Thread-6 (_r] [INFO ]  Finished loading model [ RN50x4 ]\n",
      "2023-12-05 22:21:30,884 [Thread-6 (_r] [INFO ]  Finished loading transforms [ Compose(\n",
      "    Resize(size=288, interpolation=bicubic, max_size=None, antialias=warn)\n",
      "    CenterCrop(size=(288, 288))\n",
      "    Normalize(mean=(0.48145466, 0.4578275, 0.40821073), std=(0.26862954, 0.26130258, 0.27577711))\n",
      ") ]\n",
      "2023-12-05 22:21:30,885 [Thread-6 (_r] [INFO ]  Registering hooks.\n",
      "2023-12-05 22:21:30,888 [Thread-6 (_r] [INFO ]  Finished registering hooks.\n",
      "2023-12-05 22:21:30,892 [Thread-6 (_r] [INFO ]  Retrieving weights of linear probe [ path = /apps/11785-f23-prj/faceted_visualization/probes/logs/air/RN50x4/layer1_0_conv3/version_4_20/model_checkpoint.pth ]\n",
      "2023-12-05 22:21:30,918 [Thread-6 (_r] [INFO ]  Final list of transforms = [Resize(size=288, interpolation=bicubic, max_size=None, antialias=warn), CenterCrop(size=(288, 288)), Normalize(mean=(0.48145466, 0.4578275, 0.40821073), std=(0.26862954, 0.26130258, 0.27577711)), RandomAffine(degrees=[0.0, 0.0], translate=(0.03, 0.03), interpolation=InterpolationMode.NEAREST, fill=0), RandomAffine(degrees=[0.0, 0.0], scale=(0.9, 1.1), interpolation=InterpolationMode.NEAREST, fill=0), RandomRotation(degrees=[-10.0, 10.0], interpolation=InterpolationMode.NEAREST, expand=False, fill=0), RandomAffine(degrees=[0.0, 0.0], translate=(0.015, 0.015), interpolation=InterpolationMode.NEAREST, fill=0)]\n",
      "2023-12-05 22:21:30,920 [Thread-6 (_r] [INFO ]  Starting optimization process [ run_id = 8ttfb7tl ]...\n",
      "/opt/conda/lib/python3.10/site-packages/torchvision/transforms/functional.py:1603: UserWarning: The default value of the antialias parameter of all the resizing transforms (Resize(), RandomResizedCrop(), etc.) will change from None to True in v0.17, in order to be consistent across the PIL and Tensor backends. To suppress this warning, directly pass antialias=True (recommended, future default), antialias=None (current default, which means False for Tensors and True for PIL), or antialias=False (only works on Tensors - PIL will still use antialiasing). This also applies if you are using the inference transforms from the models weights: update the call to weights.transforms(antialias=True).\n",
      "  warnings.warn(\n",
      "2023-12-05 22:21:33,394 [Thread-6 (_r] [INFO ]  Epoch: 1/512: Loss = 0.0593567 :: Learning Rate = 0.0500000\n",
      "/opt/conda/lib/python3.10/site-packages/torchvision/transforms/functional.py:1603: UserWarning: The default value of the antialias parameter of all the resizing transforms (Resize(), RandomResizedCrop(), etc.) will change from None to True in v0.17, in order to be consistent across the PIL and Tensor backends. To suppress this warning, directly pass antialias=True (recommended, future default), antialias=None (current default, which means False for Tensors and True for PIL), or antialias=False (only works on Tensors - PIL will still use antialiasing). This also applies if you are using the inference transforms from the models weights: update the call to weights.transforms(antialias=True).\n",
      "  warnings.warn(\n",
      "2023-12-05 22:21:38,779 [Thread-6 (_r] [INFO ]  Epoch: 101/512: Loss = -0.8559570 :: Learning Rate = 0.0500000\n",
      "2023-12-05 22:21:43,851 [Thread-6 (_r] [INFO ]  Epoch: 201/512: Loss = -1.2685547 :: Learning Rate = 0.0500000\n",
      "2023-12-05 22:21:48,732 [Thread-6 (_r] [INFO ]  Epoch: 301/512: Loss = -1.3974609 :: Learning Rate = 0.0500000\n",
      "2023-12-05 22:21:53,734 [Thread-6 (_r] [INFO ]  Epoch: 401/512: Loss = -1.5830078 :: Learning Rate = 0.0500000\n",
      "2023-12-05 22:21:58,833 [Thread-6 (_r] [INFO ]  Epoch: 501/512: Loss = -1.7617188 :: Learning Rate = 0.0500000\n",
      "2023-12-05 22:21:59,406 [Thread-6 (_r] [INFO ]  Epoch: 512/512: Loss = -1.4609375 :: Learning Rate = 0.0500000\n",
      "2023-12-05 22:21:59,430 [Thread-6 (_r] [INFO ]  Completed run [ 8ttfb7tl ]\n"
     ]
    },
    {
     "data": {
      "application/vnd.jupyter.widget-view+json": {
       "model_id": "",
       "version_major": 2,
       "version_minor": 0
      },
      "text/plain": [
       "VBox(children=(Label(value='1.183 MB of 1.206 MB uploaded\\r'), FloatProgress(value=0.9814653259861128, max=1.0…"
      ]
     },
     "metadata": {},
     "output_type": "display_data"
    },
    {
     "data": {
      "text/html": [
       "<style>\n",
       "    table.wandb td:nth-child(1) { padding: 0 10px; text-align: left ; width: auto;} td:nth-child(2) {text-align: left ; width: 100%}\n",
       "    .wandb-row { display: flex; flex-direction: row; flex-wrap: wrap; justify-content: flex-start; width: 100% }\n",
       "    .wandb-col { display: flex; flex-direction: column; flex-basis: 100%; flex: 1; padding: 10px; }\n",
       "    </style>\n",
       "<div class=\"wandb-row\"><div class=\"wandb-col\"><h3>Run history:</h3><br/><table class=\"wandb\"><tr><td>loss</td><td>█▄▃▂▂▁▂</td></tr></table><br/></div><div class=\"wandb-col\"><h3>Run summary:</h3><br/><table class=\"wandb\"><tr><td>loss</td><td>-1.46094</td></tr></table><br/></div></div>"
      ],
      "text/plain": [
       "<IPython.core.display.HTML object>"
      ]
     },
     "metadata": {},
     "output_type": "display_data"
    },
    {
     "data": {
      "text/html": [
       " View run <strong style=\"color:#cdcd00\">winter-sweep-1</strong> at: <a href='https://wandb.ai/rohanprasad/idl-project-air/runs/8ttfb7tl' target=\"_blank\">https://wandb.ai/rohanprasad/idl-project-air/runs/8ttfb7tl</a><br/>Synced 6 W&B file(s), 7 media file(s), 0 artifact file(s) and 0 other file(s)"
      ],
      "text/plain": [
       "<IPython.core.display.HTML object>"
      ]
     },
     "metadata": {},
     "output_type": "display_data"
    },
    {
     "data": {
      "text/html": [
       "Find logs at: <code>./wandb/run-20231205_222112-8ttfb7tl/logs</code>"
      ],
      "text/plain": [
       "<IPython.core.display.HTML object>"
      ]
     },
     "metadata": {},
     "output_type": "display_data"
    },
    {
     "name": "stderr",
     "output_type": "stream",
     "text": [
      "\u001b[34m\u001b[1mwandb\u001b[0m: Agent Starting Run: dar0w2s3 with config:\n",
      "\u001b[34m\u001b[1mwandb\u001b[0m: \tchannel: 1\n",
      "\u001b[34m\u001b[1mwandb\u001b[0m: \tlearning_rate: 0.05\n",
      "\u001b[34m\u001b[1mwandb\u001b[0m: \tlinear_probe_layer: layer1_0_conv3\n",
      "\u001b[34m\u001b[1mwandb\u001b[0m: \tmodel: RN50x4\n",
      "\u001b[34m\u001b[1mwandb\u001b[0m: \tnum_iterations: 512\n",
      "\u001b[34m\u001b[1mwandb\u001b[0m: \tobjective: neuron\n",
      "\u001b[34m\u001b[1mwandb\u001b[0m: \toptimizer: AdamW\n",
      "\u001b[34m\u001b[1mwandb\u001b[0m: \trandom_seed: 63782774\n",
      "\u001b[34m\u001b[1mwandb\u001b[0m: \tuse_std_transforms: True\n",
      "\u001b[34m\u001b[1mwandb\u001b[0m: \tuse_transforms: False\n",
      "\u001b[34m\u001b[1mwandb\u001b[0m: \tvisualization_layer: layer4_5_conv3\n"
     ]
    },
    {
     "data": {
      "text/html": [
       "wandb version 0.16.1 is available!  To upgrade, please run:\n",
       " $ pip install wandb --upgrade"
      ],
      "text/plain": [
       "<IPython.core.display.HTML object>"
      ]
     },
     "metadata": {},
     "output_type": "display_data"
    },
    {
     "data": {
      "text/html": [
       "Tracking run with wandb version 0.16.0"
      ],
      "text/plain": [
       "<IPython.core.display.HTML object>"
      ]
     },
     "metadata": {},
     "output_type": "display_data"
    },
    {
     "data": {
      "text/html": [
       "Run data is saved locally in <code>/apps/11785-f23-prj/wandb/run-20231205_222208-dar0w2s3</code>"
      ],
      "text/plain": [
       "<IPython.core.display.HTML object>"
      ]
     },
     "metadata": {},
     "output_type": "display_data"
    },
    {
     "data": {
      "text/html": [
       "Syncing run <strong><a href='https://wandb.ai/rohanprasad/idl-project-air/runs/dar0w2s3' target=\"_blank\">dulcet-sweep-2</a></strong> to <a href='https://wandb.ai/rohanprasad/idl-project-air' target=\"_blank\">Weights & Biases</a> (<a href='https://wandb.me/run' target=\"_blank\">docs</a>)<br/>Sweep page: <a href='https://wandb.ai/rohanprasad/idl-project-air/sweeps/p3wo7ml8' target=\"_blank\">https://wandb.ai/rohanprasad/idl-project-air/sweeps/p3wo7ml8</a>"
      ],
      "text/plain": [
       "<IPython.core.display.HTML object>"
      ]
     },
     "metadata": {},
     "output_type": "display_data"
    },
    {
     "data": {
      "text/html": [
       " View project at <a href='https://wandb.ai/rohanprasad/idl-project-air' target=\"_blank\">https://wandb.ai/rohanprasad/idl-project-air</a>"
      ],
      "text/plain": [
       "<IPython.core.display.HTML object>"
      ]
     },
     "metadata": {},
     "output_type": "display_data"
    },
    {
     "data": {
      "text/html": [
       " View sweep at <a href='https://wandb.ai/rohanprasad/idl-project-air/sweeps/p3wo7ml8' target=\"_blank\">https://wandb.ai/rohanprasad/idl-project-air/sweeps/p3wo7ml8</a>"
      ],
      "text/plain": [
       "<IPython.core.display.HTML object>"
      ]
     },
     "metadata": {},
     "output_type": "display_data"
    },
    {
     "data": {
      "text/html": [
       " View run at <a href='https://wandb.ai/rohanprasad/idl-project-air/runs/dar0w2s3' target=\"_blank\">https://wandb.ai/rohanprasad/idl-project-air/runs/dar0w2s3</a>"
      ],
      "text/plain": [
       "<IPython.core.display.HTML object>"
      ]
     },
     "metadata": {},
     "output_type": "display_data"
    },
    {
     "name": "stderr",
     "output_type": "stream",
     "text": [
      "2023-12-05 22:22:18,923 [Thread-10 (_] [INFO ]  Starting sweep [ run  dar0w2s3 ] with config = \n",
      "{'channel': 1, 'learning_rate': 0.05, 'linear_probe_layer': 'layer1_0_conv3', 'model': 'RN50x4', 'num_iterations': 512, 'objective': 'neuron', 'optimizer': 'AdamW', 'random_seed': 63782774, 'use_std_transforms': True, 'use_transforms': False, 'visualization_layer': 'layer4_5_conv3'}\n",
      "2023-12-05 22:22:18,925 [Thread-10 (_] [INFO ]  Setting random seed to 63782774\n",
      "2023-12-05 22:22:18,927 [Thread-10 (_] [INFO ]  Loading CLIP model [ RN50x4 ].\n",
      "2023-12-05 22:22:23,630 [Thread-10 (_] [INFO ]  Finished loading model [ RN50x4 ]\n",
      "2023-12-05 22:22:23,631 [Thread-10 (_] [INFO ]  Finished loading transforms [ Compose(\n",
      "    Resize(size=288, interpolation=bicubic, max_size=None, antialias=warn)\n",
      "    CenterCrop(size=(288, 288))\n",
      "    Normalize(mean=(0.48145466, 0.4578275, 0.40821073), std=(0.26862954, 0.26130258, 0.27577711))\n",
      ") ]\n",
      "2023-12-05 22:22:23,632 [Thread-10 (_] [INFO ]  Registering hooks.\n",
      "2023-12-05 22:22:23,778 [Thread-10 (_] [INFO ]  Finished registering hooks.\n",
      "2023-12-05 22:22:23,783 [Thread-10 (_] [INFO ]  Retrieving weights of linear probe [ path = /apps/11785-f23-prj/faceted_visualization/probes/logs/air/RN50x4/layer1_0_conv3/version_4_20/model_checkpoint.pth ]\n",
      "2023-12-05 22:22:23,789 [Thread-10 (_] [INFO ]  Final list of transforms = [RandomAffine(degrees=[0.0, 0.0], translate=(0.03, 0.03), interpolation=InterpolationMode.NEAREST, fill=0), RandomAffine(degrees=[0.0, 0.0], scale=(0.9, 1.1), interpolation=InterpolationMode.NEAREST, fill=0), RandomRotation(degrees=[-10.0, 10.0], interpolation=InterpolationMode.NEAREST, expand=False, fill=0), RandomAffine(degrees=[0.0, 0.0], translate=(0.015, 0.015), interpolation=InterpolationMode.NEAREST, fill=0)]\n",
      "2023-12-05 22:22:23,790 [Thread-10 (_] [INFO ]  Starting optimization process [ run_id = dar0w2s3 ]...\n",
      "2023-12-05 22:22:23,839 [Thread-10 (_] [INFO ]  Epoch: 1/512: Loss = 0.1158447 :: Learning Rate = 0.0500000\n",
      "2023-12-05 22:22:28,947 [Thread-10 (_] [INFO ]  Epoch: 101/512: Loss = -0.9682617 :: Learning Rate = 0.0500000\n",
      "2023-12-05 22:22:33,929 [Thread-10 (_] [INFO ]  Epoch: 201/512: Loss = -0.9736328 :: Learning Rate = 0.0500000\n",
      "2023-12-05 22:22:38,863 [Thread-10 (_] [INFO ]  Epoch: 301/512: Loss = -1.0791016 :: Learning Rate = 0.0500000\n",
      "2023-12-05 22:22:43,924 [Thread-10 (_] [INFO ]  Epoch: 401/512: Loss = -1.0322266 :: Learning Rate = 0.0500000\n",
      "2023-12-05 22:22:49,121 [Thread-10 (_] [INFO ]  Epoch: 501/512: Loss = -1.4199219 :: Learning Rate = 0.0500000\n",
      "2023-12-05 22:22:49,706 [Thread-10 (_] [INFO ]  Epoch: 512/512: Loss = -1.2939453 :: Learning Rate = 0.0500000\n",
      "2023-12-05 22:22:49,730 [Thread-10 (_] [INFO ]  Completed run [ dar0w2s3 ]\n"
     ]
    },
    {
     "data": {
      "application/vnd.jupyter.widget-view+json": {
       "model_id": "",
       "version_major": 2,
       "version_minor": 0
      },
      "text/plain": [
       "VBox(children=(Label(value='1.228 MB of 1.228 MB uploaded\\r'), FloatProgress(value=1.0, max=1.0)))"
      ]
     },
     "metadata": {},
     "output_type": "display_data"
    },
    {
     "data": {
      "text/html": [
       "<style>\n",
       "    table.wandb td:nth-child(1) { padding: 0 10px; text-align: left ; width: auto;} td:nth-child(2) {text-align: left ; width: 100%}\n",
       "    .wandb-row { display: flex; flex-direction: row; flex-wrap: wrap; justify-content: flex-start; width: 100% }\n",
       "    .wandb-col { display: flex; flex-direction: column; flex-basis: 100%; flex: 1; padding: 10px; }\n",
       "    </style>\n",
       "<div class=\"wandb-row\"><div class=\"wandb-col\"><h3>Run history:</h3><br/><table class=\"wandb\"><tr><td>loss</td><td>█▃▃▃▃▁▂</td></tr></table><br/></div><div class=\"wandb-col\"><h3>Run summary:</h3><br/><table class=\"wandb\"><tr><td>loss</td><td>-1.29395</td></tr></table><br/></div></div>"
      ],
      "text/plain": [
       "<IPython.core.display.HTML object>"
      ]
     },
     "metadata": {},
     "output_type": "display_data"
    },
    {
     "data": {
      "text/html": [
       " View run <strong style=\"color:#cdcd00\">dulcet-sweep-2</strong> at: <a href='https://wandb.ai/rohanprasad/idl-project-air/runs/dar0w2s3' target=\"_blank\">https://wandb.ai/rohanprasad/idl-project-air/runs/dar0w2s3</a><br/>Synced 6 W&B file(s), 7 media file(s), 0 artifact file(s) and 0 other file(s)"
      ],
      "text/plain": [
       "<IPython.core.display.HTML object>"
      ]
     },
     "metadata": {},
     "output_type": "display_data"
    },
    {
     "data": {
      "text/html": [
       "Find logs at: <code>./wandb/run-20231205_222208-dar0w2s3/logs</code>"
      ],
      "text/plain": [
       "<IPython.core.display.HTML object>"
      ]
     },
     "metadata": {},
     "output_type": "display_data"
    },
    {
     "name": "stderr",
     "output_type": "stream",
     "text": [
      "\u001b[34m\u001b[1mwandb\u001b[0m: Agent Starting Run: uyyojrra with config:\n",
      "\u001b[34m\u001b[1mwandb\u001b[0m: \tchannel: 1\n",
      "\u001b[34m\u001b[1mwandb\u001b[0m: \tlearning_rate: 0.05\n",
      "\u001b[34m\u001b[1mwandb\u001b[0m: \tlinear_probe_layer: layer1_0_conv3\n",
      "\u001b[34m\u001b[1mwandb\u001b[0m: \tmodel: RN50x4\n",
      "\u001b[34m\u001b[1mwandb\u001b[0m: \tnum_iterations: 512\n",
      "\u001b[34m\u001b[1mwandb\u001b[0m: \tobjective: channel\n",
      "\u001b[34m\u001b[1mwandb\u001b[0m: \toptimizer: AdamW\n",
      "\u001b[34m\u001b[1mwandb\u001b[0m: \trandom_seed: 63782774\n",
      "\u001b[34m\u001b[1mwandb\u001b[0m: \tuse_std_transforms: True\n",
      "\u001b[34m\u001b[1mwandb\u001b[0m: \tuse_transforms: True\n",
      "\u001b[34m\u001b[1mwandb\u001b[0m: \tvisualization_layer: layer4_5_conv3\n"
     ]
    },
    {
     "data": {
      "text/html": [
       "wandb version 0.16.1 is available!  To upgrade, please run:\n",
       " $ pip install wandb --upgrade"
      ],
      "text/plain": [
       "<IPython.core.display.HTML object>"
      ]
     },
     "metadata": {},
     "output_type": "display_data"
    },
    {
     "data": {
      "text/html": [
       "Tracking run with wandb version 0.16.0"
      ],
      "text/plain": [
       "<IPython.core.display.HTML object>"
      ]
     },
     "metadata": {},
     "output_type": "display_data"
    },
    {
     "data": {
      "text/html": [
       "Run data is saved locally in <code>/apps/11785-f23-prj/wandb/run-20231205_222255-uyyojrra</code>"
      ],
      "text/plain": [
       "<IPython.core.display.HTML object>"
      ]
     },
     "metadata": {},
     "output_type": "display_data"
    },
    {
     "data": {
      "text/html": [
       "Syncing run <strong><a href='https://wandb.ai/rohanprasad/idl-project-air/runs/uyyojrra' target=\"_blank\">playful-sweep-3</a></strong> to <a href='https://wandb.ai/rohanprasad/idl-project-air' target=\"_blank\">Weights & Biases</a> (<a href='https://wandb.me/run' target=\"_blank\">docs</a>)<br/>Sweep page: <a href='https://wandb.ai/rohanprasad/idl-project-air/sweeps/p3wo7ml8' target=\"_blank\">https://wandb.ai/rohanprasad/idl-project-air/sweeps/p3wo7ml8</a>"
      ],
      "text/plain": [
       "<IPython.core.display.HTML object>"
      ]
     },
     "metadata": {},
     "output_type": "display_data"
    },
    {
     "data": {
      "text/html": [
       " View project at <a href='https://wandb.ai/rohanprasad/idl-project-air' target=\"_blank\">https://wandb.ai/rohanprasad/idl-project-air</a>"
      ],
      "text/plain": [
       "<IPython.core.display.HTML object>"
      ]
     },
     "metadata": {},
     "output_type": "display_data"
    },
    {
     "data": {
      "text/html": [
       " View sweep at <a href='https://wandb.ai/rohanprasad/idl-project-air/sweeps/p3wo7ml8' target=\"_blank\">https://wandb.ai/rohanprasad/idl-project-air/sweeps/p3wo7ml8</a>"
      ],
      "text/plain": [
       "<IPython.core.display.HTML object>"
      ]
     },
     "metadata": {},
     "output_type": "display_data"
    },
    {
     "data": {
      "text/html": [
       " View run at <a href='https://wandb.ai/rohanprasad/idl-project-air/runs/uyyojrra' target=\"_blank\">https://wandb.ai/rohanprasad/idl-project-air/runs/uyyojrra</a>"
      ],
      "text/plain": [
       "<IPython.core.display.HTML object>"
      ]
     },
     "metadata": {},
     "output_type": "display_data"
    },
    {
     "name": "stderr",
     "output_type": "stream",
     "text": [
      "2023-12-05 22:23:05,999 [Thread-13 (_] [INFO ]  Starting sweep [ run  uyyojrra ] with config = \n",
      "{'channel': 1, 'learning_rate': 0.05, 'linear_probe_layer': 'layer1_0_conv3', 'model': 'RN50x4', 'num_iterations': 512, 'objective': 'channel', 'optimizer': 'AdamW', 'random_seed': 63782774, 'use_std_transforms': True, 'use_transforms': True, 'visualization_layer': 'layer4_5_conv3'}\n",
      "2023-12-05 22:23:06,001 [Thread-13 (_] [INFO ]  Setting random seed to 63782774\n",
      "2023-12-05 22:23:06,002 [Thread-13 (_] [INFO ]  Loading CLIP model [ RN50x4 ].\n",
      "2023-12-05 22:23:10,465 [Thread-13 (_] [INFO ]  Finished loading model [ RN50x4 ]\n",
      "2023-12-05 22:23:10,467 [Thread-13 (_] [INFO ]  Finished loading transforms [ Compose(\n",
      "    Resize(size=288, interpolation=bicubic, max_size=None, antialias=warn)\n",
      "    CenterCrop(size=(288, 288))\n",
      "    Normalize(mean=(0.48145466, 0.4578275, 0.40821073), std=(0.26862954, 0.26130258, 0.27577711))\n",
      ") ]\n",
      "2023-12-05 22:23:10,468 [Thread-13 (_] [INFO ]  Registering hooks.\n",
      "2023-12-05 22:23:10,470 [Thread-13 (_] [INFO ]  Finished registering hooks.\n",
      "2023-12-05 22:23:10,476 [Thread-13 (_] [INFO ]  Retrieving weights of linear probe [ path = /apps/11785-f23-prj/faceted_visualization/probes/logs/air/RN50x4/layer1_0_conv3/version_4_20/model_checkpoint.pth ]\n",
      "2023-12-05 22:23:10,481 [Thread-13 (_] [INFO ]  Final list of transforms = [Resize(size=288, interpolation=bicubic, max_size=None, antialias=warn), CenterCrop(size=(288, 288)), Normalize(mean=(0.48145466, 0.4578275, 0.40821073), std=(0.26862954, 0.26130258, 0.27577711)), RandomAffine(degrees=[0.0, 0.0], translate=(0.03, 0.03), interpolation=InterpolationMode.NEAREST, fill=0), RandomAffine(degrees=[0.0, 0.0], scale=(0.9, 1.1), interpolation=InterpolationMode.NEAREST, fill=0), RandomRotation(degrees=[-10.0, 10.0], interpolation=InterpolationMode.NEAREST, expand=False, fill=0), RandomAffine(degrees=[0.0, 0.0], translate=(0.015, 0.015), interpolation=InterpolationMode.NEAREST, fill=0)]\n",
      "2023-12-05 22:23:10,482 [Thread-13 (_] [INFO ]  Starting optimization process [ run_id = uyyojrra ]...\n",
      "/opt/conda/lib/python3.10/site-packages/torchvision/transforms/functional.py:1603: UserWarning: The default value of the antialias parameter of all the resizing transforms (Resize(), RandomResizedCrop(), etc.) will change from None to True in v0.17, in order to be consistent across the PIL and Tensor backends. To suppress this warning, directly pass antialias=True (recommended, future default), antialias=None (current default, which means False for Tensors and True for PIL), or antialias=False (only works on Tensors - PIL will still use antialiasing). This also applies if you are using the inference transforms from the models weights: update the call to weights.transforms(antialias=True).\n",
      "  warnings.warn(\n",
      "2023-12-05 22:23:10,547 [Thread-13 (_] [INFO ]  Epoch: 1/512: Loss = 0.1662598 :: Learning Rate = 0.0500000\n",
      "2023-12-05 22:23:15,704 [Thread-13 (_] [INFO ]  Epoch: 101/512: Loss = -0.2050781 :: Learning Rate = 0.0500000\n",
      "2023-12-05 22:23:20,684 [Thread-13 (_] [INFO ]  Epoch: 201/512: Loss = -0.3464355 :: Learning Rate = 0.0500000\n",
      "2023-12-05 22:23:25,704 [Thread-13 (_] [INFO ]  Epoch: 301/512: Loss = -0.5131836 :: Learning Rate = 0.0500000\n",
      "2023-12-05 22:23:30,813 [Thread-13 (_] [INFO ]  Epoch: 401/512: Loss = -0.5380859 :: Learning Rate = 0.0500000\n",
      "2023-12-05 22:23:36,220 [Thread-13 (_] [INFO ]  Epoch: 501/512: Loss = -0.7636719 :: Learning Rate = 0.0500000\n",
      "2023-12-05 22:23:36,854 [Thread-13 (_] [INFO ]  Epoch: 512/512: Loss = -0.9877930 :: Learning Rate = 0.0500000\n",
      "2023-12-05 22:23:36,879 [Thread-13 (_] [INFO ]  Completed run [ uyyojrra ]\n"
     ]
    },
    {
     "data": {
      "application/vnd.jupyter.widget-view+json": {
       "model_id": "",
       "version_major": 2,
       "version_minor": 0
      },
      "text/plain": [
       "VBox(children=(Label(value='1.288 MB of 1.288 MB uploaded\\r'), FloatProgress(value=1.0, max=1.0)))"
      ]
     },
     "metadata": {},
     "output_type": "display_data"
    },
    {
     "data": {
      "text/html": [
       "<style>\n",
       "    table.wandb td:nth-child(1) { padding: 0 10px; text-align: left ; width: auto;} td:nth-child(2) {text-align: left ; width: 100%}\n",
       "    .wandb-row { display: flex; flex-direction: row; flex-wrap: wrap; justify-content: flex-start; width: 100% }\n",
       "    .wandb-col { display: flex; flex-direction: column; flex-basis: 100%; flex: 1; padding: 10px; }\n",
       "    </style>\n",
       "<div class=\"wandb-row\"><div class=\"wandb-col\"><h3>Run history:</h3><br/><table class=\"wandb\"><tr><td>loss</td><td>█▆▅▄▄▂▁</td></tr></table><br/></div><div class=\"wandb-col\"><h3>Run summary:</h3><br/><table class=\"wandb\"><tr><td>loss</td><td>-0.98779</td></tr></table><br/></div></div>"
      ],
      "text/plain": [
       "<IPython.core.display.HTML object>"
      ]
     },
     "metadata": {},
     "output_type": "display_data"
    },
    {
     "data": {
      "text/html": [
       " View run <strong style=\"color:#cdcd00\">playful-sweep-3</strong> at: <a href='https://wandb.ai/rohanprasad/idl-project-air/runs/uyyojrra' target=\"_blank\">https://wandb.ai/rohanprasad/idl-project-air/runs/uyyojrra</a><br/>Synced 6 W&B file(s), 7 media file(s), 0 artifact file(s) and 0 other file(s)"
      ],
      "text/plain": [
       "<IPython.core.display.HTML object>"
      ]
     },
     "metadata": {},
     "output_type": "display_data"
    },
    {
     "data": {
      "text/html": [
       "Find logs at: <code>./wandb/run-20231205_222255-uyyojrra/logs</code>"
      ],
      "text/plain": [
       "<IPython.core.display.HTML object>"
      ]
     },
     "metadata": {},
     "output_type": "display_data"
    },
    {
     "name": "stderr",
     "output_type": "stream",
     "text": [
      "\u001b[34m\u001b[1mwandb\u001b[0m: Agent Starting Run: mm5ab2pi with config:\n",
      "\u001b[34m\u001b[1mwandb\u001b[0m: \tchannel: 1\n",
      "\u001b[34m\u001b[1mwandb\u001b[0m: \tlearning_rate: 0.05\n",
      "\u001b[34m\u001b[1mwandb\u001b[0m: \tlinear_probe_layer: layer1_0_conv3\n",
      "\u001b[34m\u001b[1mwandb\u001b[0m: \tmodel: RN50x4\n",
      "\u001b[34m\u001b[1mwandb\u001b[0m: \tnum_iterations: 512\n",
      "\u001b[34m\u001b[1mwandb\u001b[0m: \tobjective: channel\n",
      "\u001b[34m\u001b[1mwandb\u001b[0m: \toptimizer: AdamW\n",
      "\u001b[34m\u001b[1mwandb\u001b[0m: \trandom_seed: 63782774\n",
      "\u001b[34m\u001b[1mwandb\u001b[0m: \tuse_std_transforms: True\n",
      "\u001b[34m\u001b[1mwandb\u001b[0m: \tuse_transforms: False\n",
      "\u001b[34m\u001b[1mwandb\u001b[0m: \tvisualization_layer: layer4_5_conv3\n"
     ]
    },
    {
     "data": {
      "text/html": [
       "wandb version 0.16.1 is available!  To upgrade, please run:\n",
       " $ pip install wandb --upgrade"
      ],
      "text/plain": [
       "<IPython.core.display.HTML object>"
      ]
     },
     "metadata": {},
     "output_type": "display_data"
    },
    {
     "data": {
      "text/html": [
       "Tracking run with wandb version 0.16.0"
      ],
      "text/plain": [
       "<IPython.core.display.HTML object>"
      ]
     },
     "metadata": {},
     "output_type": "display_data"
    },
    {
     "data": {
      "text/html": [
       "Run data is saved locally in <code>/apps/11785-f23-prj/wandb/run-20231205_222345-mm5ab2pi</code>"
      ],
      "text/plain": [
       "<IPython.core.display.HTML object>"
      ]
     },
     "metadata": {},
     "output_type": "display_data"
    },
    {
     "data": {
      "text/html": [
       "Syncing run <strong><a href='https://wandb.ai/rohanprasad/idl-project-air/runs/mm5ab2pi' target=\"_blank\">earnest-sweep-4</a></strong> to <a href='https://wandb.ai/rohanprasad/idl-project-air' target=\"_blank\">Weights & Biases</a> (<a href='https://wandb.me/run' target=\"_blank\">docs</a>)<br/>Sweep page: <a href='https://wandb.ai/rohanprasad/idl-project-air/sweeps/p3wo7ml8' target=\"_blank\">https://wandb.ai/rohanprasad/idl-project-air/sweeps/p3wo7ml8</a>"
      ],
      "text/plain": [
       "<IPython.core.display.HTML object>"
      ]
     },
     "metadata": {},
     "output_type": "display_data"
    },
    {
     "data": {
      "text/html": [
       " View project at <a href='https://wandb.ai/rohanprasad/idl-project-air' target=\"_blank\">https://wandb.ai/rohanprasad/idl-project-air</a>"
      ],
      "text/plain": [
       "<IPython.core.display.HTML object>"
      ]
     },
     "metadata": {},
     "output_type": "display_data"
    },
    {
     "data": {
      "text/html": [
       " View sweep at <a href='https://wandb.ai/rohanprasad/idl-project-air/sweeps/p3wo7ml8' target=\"_blank\">https://wandb.ai/rohanprasad/idl-project-air/sweeps/p3wo7ml8</a>"
      ],
      "text/plain": [
       "<IPython.core.display.HTML object>"
      ]
     },
     "metadata": {},
     "output_type": "display_data"
    },
    {
     "data": {
      "text/html": [
       " View run at <a href='https://wandb.ai/rohanprasad/idl-project-air/runs/mm5ab2pi' target=\"_blank\">https://wandb.ai/rohanprasad/idl-project-air/runs/mm5ab2pi</a>"
      ],
      "text/plain": [
       "<IPython.core.display.HTML object>"
      ]
     },
     "metadata": {},
     "output_type": "display_data"
    },
    {
     "name": "stderr",
     "output_type": "stream",
     "text": [
      "2023-12-05 22:23:55,953 [Thread-16 (_] [INFO ]  Starting sweep [ run  mm5ab2pi ] with config = \n",
      "{'channel': 1, 'learning_rate': 0.05, 'linear_probe_layer': 'layer1_0_conv3', 'model': 'RN50x4', 'num_iterations': 512, 'objective': 'channel', 'optimizer': 'AdamW', 'random_seed': 63782774, 'use_std_transforms': True, 'use_transforms': False, 'visualization_layer': 'layer4_5_conv3'}\n",
      "2023-12-05 22:23:55,954 [Thread-16 (_] [INFO ]  Setting random seed to 63782774\n",
      "2023-12-05 22:23:55,956 [Thread-16 (_] [INFO ]  Loading CLIP model [ RN50x4 ].\n",
      "2023-12-05 22:24:00,502 [Thread-16 (_] [INFO ]  Finished loading model [ RN50x4 ]\n",
      "2023-12-05 22:24:00,504 [Thread-16 (_] [INFO ]  Finished loading transforms [ Compose(\n",
      "    Resize(size=288, interpolation=bicubic, max_size=None, antialias=warn)\n",
      "    CenterCrop(size=(288, 288))\n",
      "    Normalize(mean=(0.48145466, 0.4578275, 0.40821073), std=(0.26862954, 0.26130258, 0.27577711))\n",
      ") ]\n",
      "2023-12-05 22:24:00,505 [Thread-16 (_] [INFO ]  Registering hooks.\n",
      "2023-12-05 22:24:00,508 [Thread-16 (_] [INFO ]  Finished registering hooks.\n",
      "2023-12-05 22:24:00,512 [Thread-16 (_] [INFO ]  Retrieving weights of linear probe [ path = /apps/11785-f23-prj/faceted_visualization/probes/logs/air/RN50x4/layer1_0_conv3/version_4_20/model_checkpoint.pth ]\n",
      "2023-12-05 22:24:00,517 [Thread-16 (_] [INFO ]  Final list of transforms = [RandomAffine(degrees=[0.0, 0.0], translate=(0.03, 0.03), interpolation=InterpolationMode.NEAREST, fill=0), RandomAffine(degrees=[0.0, 0.0], scale=(0.9, 1.1), interpolation=InterpolationMode.NEAREST, fill=0), RandomRotation(degrees=[-10.0, 10.0], interpolation=InterpolationMode.NEAREST, expand=False, fill=0), RandomAffine(degrees=[0.0, 0.0], translate=(0.015, 0.015), interpolation=InterpolationMode.NEAREST, fill=0)]\n",
      "2023-12-05 22:24:00,518 [Thread-16 (_] [INFO ]  Starting optimization process [ run_id = mm5ab2pi ]...\n",
      "2023-12-05 22:24:00,587 [Thread-16 (_] [INFO ]  Epoch: 1/512: Loss = 0.0969238 :: Learning Rate = 0.0500000\n",
      "2023-12-05 22:24:05,697 [Thread-16 (_] [INFO ]  Epoch: 101/512: Loss = -0.0638428 :: Learning Rate = 0.0500000\n",
      "2023-12-05 22:24:10,694 [Thread-16 (_] [INFO ]  Epoch: 201/512: Loss = -0.0916138 :: Learning Rate = 0.0500000\n",
      "2023-12-05 22:24:15,884 [Thread-16 (_] [INFO ]  Epoch: 301/512: Loss = -0.2058105 :: Learning Rate = 0.0500000\n",
      "2023-12-05 22:24:21,113 [Thread-16 (_] [INFO ]  Epoch: 401/512: Loss = -0.0905151 :: Learning Rate = 0.0500000\n",
      "2023-12-05 22:24:26,336 [Thread-16 (_] [INFO ]  Epoch: 501/512: Loss = -0.3371582 :: Learning Rate = 0.0500000\n",
      "2023-12-05 22:24:26,932 [Thread-16 (_] [INFO ]  Epoch: 512/512: Loss = -0.2719727 :: Learning Rate = 0.0500000\n",
      "2023-12-05 22:24:26,956 [Thread-16 (_] [INFO ]  Completed run [ mm5ab2pi ]\n"
     ]
    },
    {
     "data": {
      "application/vnd.jupyter.widget-view+json": {
       "model_id": "",
       "version_major": 2,
       "version_minor": 0
      },
      "text/plain": [
       "VBox(children=(Label(value='1.307 MB of 1.307 MB uploaded\\r'), FloatProgress(value=1.0, max=1.0)))"
      ]
     },
     "metadata": {},
     "output_type": "display_data"
    },
    {
     "data": {
      "text/html": [
       "<style>\n",
       "    table.wandb td:nth-child(1) { padding: 0 10px; text-align: left ; width: auto;} td:nth-child(2) {text-align: left ; width: 100%}\n",
       "    .wandb-row { display: flex; flex-direction: row; flex-wrap: wrap; justify-content: flex-start; width: 100% }\n",
       "    .wandb-col { display: flex; flex-direction: column; flex-basis: 100%; flex: 1; padding: 10px; }\n",
       "    </style>\n",
       "<div class=\"wandb-row\"><div class=\"wandb-col\"><h3>Run history:</h3><br/><table class=\"wandb\"><tr><td>loss</td><td>█▅▅▃▅▁▂</td></tr></table><br/></div><div class=\"wandb-col\"><h3>Run summary:</h3><br/><table class=\"wandb\"><tr><td>loss</td><td>-0.27197</td></tr></table><br/></div></div>"
      ],
      "text/plain": [
       "<IPython.core.display.HTML object>"
      ]
     },
     "metadata": {},
     "output_type": "display_data"
    },
    {
     "data": {
      "text/html": [
       " View run <strong style=\"color:#cdcd00\">earnest-sweep-4</strong> at: <a href='https://wandb.ai/rohanprasad/idl-project-air/runs/mm5ab2pi' target=\"_blank\">https://wandb.ai/rohanprasad/idl-project-air/runs/mm5ab2pi</a><br/>Synced 6 W&B file(s), 7 media file(s), 0 artifact file(s) and 0 other file(s)"
      ],
      "text/plain": [
       "<IPython.core.display.HTML object>"
      ]
     },
     "metadata": {},
     "output_type": "display_data"
    },
    {
     "data": {
      "text/html": [
       "Find logs at: <code>./wandb/run-20231205_222345-mm5ab2pi/logs</code>"
      ],
      "text/plain": [
       "<IPython.core.display.HTML object>"
      ]
     },
     "metadata": {},
     "output_type": "display_data"
    },
    {
     "name": "stderr",
     "output_type": "stream",
     "text": [
      "\u001b[34m\u001b[1mwandb\u001b[0m: Agent Starting Run: gwwteoo3 with config:\n",
      "\u001b[34m\u001b[1mwandb\u001b[0m: \tchannel: 1\n",
      "\u001b[34m\u001b[1mwandb\u001b[0m: \tlearning_rate: 0.05\n",
      "\u001b[34m\u001b[1mwandb\u001b[0m: \tlinear_probe_layer: layer1_0_relu3\n",
      "\u001b[34m\u001b[1mwandb\u001b[0m: \tmodel: RN50x4\n",
      "\u001b[34m\u001b[1mwandb\u001b[0m: \tnum_iterations: 512\n",
      "\u001b[34m\u001b[1mwandb\u001b[0m: \tobjective: neuron\n",
      "\u001b[34m\u001b[1mwandb\u001b[0m: \toptimizer: AdamW\n",
      "\u001b[34m\u001b[1mwandb\u001b[0m: \trandom_seed: 63782774\n",
      "\u001b[34m\u001b[1mwandb\u001b[0m: \tuse_std_transforms: True\n",
      "\u001b[34m\u001b[1mwandb\u001b[0m: \tuse_transforms: True\n",
      "\u001b[34m\u001b[1mwandb\u001b[0m: \tvisualization_layer: layer4_5_conv3\n"
     ]
    },
    {
     "data": {
      "text/html": [
       "wandb version 0.16.1 is available!  To upgrade, please run:\n",
       " $ pip install wandb --upgrade"
      ],
      "text/plain": [
       "<IPython.core.display.HTML object>"
      ]
     },
     "metadata": {},
     "output_type": "display_data"
    },
    {
     "data": {
      "text/html": [
       "Tracking run with wandb version 0.16.0"
      ],
      "text/plain": [
       "<IPython.core.display.HTML object>"
      ]
     },
     "metadata": {},
     "output_type": "display_data"
    },
    {
     "data": {
      "text/html": [
       "Run data is saved locally in <code>/apps/11785-f23-prj/wandb/run-20231205_222436-gwwteoo3</code>"
      ],
      "text/plain": [
       "<IPython.core.display.HTML object>"
      ]
     },
     "metadata": {},
     "output_type": "display_data"
    },
    {
     "data": {
      "text/html": [
       "Syncing run <strong><a href='https://wandb.ai/rohanprasad/idl-project-air/runs/gwwteoo3' target=\"_blank\">valiant-sweep-5</a></strong> to <a href='https://wandb.ai/rohanprasad/idl-project-air' target=\"_blank\">Weights & Biases</a> (<a href='https://wandb.me/run' target=\"_blank\">docs</a>)<br/>Sweep page: <a href='https://wandb.ai/rohanprasad/idl-project-air/sweeps/p3wo7ml8' target=\"_blank\">https://wandb.ai/rohanprasad/idl-project-air/sweeps/p3wo7ml8</a>"
      ],
      "text/plain": [
       "<IPython.core.display.HTML object>"
      ]
     },
     "metadata": {},
     "output_type": "display_data"
    },
    {
     "data": {
      "text/html": [
       " View project at <a href='https://wandb.ai/rohanprasad/idl-project-air' target=\"_blank\">https://wandb.ai/rohanprasad/idl-project-air</a>"
      ],
      "text/plain": [
       "<IPython.core.display.HTML object>"
      ]
     },
     "metadata": {},
     "output_type": "display_data"
    },
    {
     "data": {
      "text/html": [
       " View sweep at <a href='https://wandb.ai/rohanprasad/idl-project-air/sweeps/p3wo7ml8' target=\"_blank\">https://wandb.ai/rohanprasad/idl-project-air/sweeps/p3wo7ml8</a>"
      ],
      "text/plain": [
       "<IPython.core.display.HTML object>"
      ]
     },
     "metadata": {},
     "output_type": "display_data"
    },
    {
     "data": {
      "text/html": [
       " View run at <a href='https://wandb.ai/rohanprasad/idl-project-air/runs/gwwteoo3' target=\"_blank\">https://wandb.ai/rohanprasad/idl-project-air/runs/gwwteoo3</a>"
      ],
      "text/plain": [
       "<IPython.core.display.HTML object>"
      ]
     },
     "metadata": {},
     "output_type": "display_data"
    },
    {
     "name": "stderr",
     "output_type": "stream",
     "text": [
      "2023-12-05 22:24:46,386 [Thread-19 (_] [INFO ]  Starting sweep [ run  gwwteoo3 ] with config = \n",
      "{'channel': 1, 'learning_rate': 0.05, 'linear_probe_layer': 'layer1_0_relu3', 'model': 'RN50x4', 'num_iterations': 512, 'objective': 'neuron', 'optimizer': 'AdamW', 'random_seed': 63782774, 'use_std_transforms': True, 'use_transforms': True, 'visualization_layer': 'layer4_5_conv3'}\n",
      "2023-12-05 22:24:46,387 [Thread-19 (_] [INFO ]  Setting random seed to 63782774\n",
      "2023-12-05 22:24:46,389 [Thread-19 (_] [INFO ]  Loading CLIP model [ RN50x4 ].\n"
     ]
    }
   ],
   "source": [
    "sweep_id = wandb.sweep(sweep_config, project=\"idl-project-air\", entity=\"rohanprasad\")\n",
    "logger.info(\"Sweep ID = %s\", sweep_id)\n",
    "wandb.agent(sweep_id, function=perform_sweep)"
   ]
  },
  {
   "cell_type": "code",
   "execution_count": null,
   "id": "50afe94d",
   "metadata": {},
   "outputs": [],
   "source": []
  }
 ],
 "metadata": {
  "kernelspec": {
   "display_name": "Python 3",
   "language": "python",
   "name": "python3"
  },
  "language_info": {
   "codemirror_mode": {
    "name": "ipython",
    "version": 3
   },
   "file_extension": ".py",
   "mimetype": "text/x-python",
   "name": "python",
   "nbconvert_exporter": "python",
   "pygments_lexer": "ipython3",
   "version": "3.10.13"
  }
 },
 "nbformat": 4,
 "nbformat_minor": 5
}

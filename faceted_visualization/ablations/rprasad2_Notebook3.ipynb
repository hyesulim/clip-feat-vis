{
 "cells": [
  {
   "cell_type": "markdown",
   "id": "80974dae",
   "metadata": {},
   "source": [
    "# sun397 Ablations"
   ]
  },
  {
   "cell_type": "code",
   "execution_count": 12,
   "id": "initial_id",
   "metadata": {
    "ExecuteTime": {
     "end_time": "2023-12-04T00:23:20.713440Z",
     "start_time": "2023-12-04T00:23:20.710759Z"
    }
   },
   "outputs": [],
   "source": [
    "import sys\n",
    "import os\n",
    "\n",
    "if sys.platform == \"darwin\":\n",
    "    ROOT = '/Users/rohan/repositories/11785-f23-prj/faceted_visualization'\n",
    "else:\n",
    "    ROOT = '/apps/11785-f23-prj/faceted_visualization'\n",
    "\n",
    "LIBRARY_HOME = os.path.join(ROOT, 'visualizer')\n",
    "PROBE_HOME = os.path.join(ROOT, \"probes\", \"logs\", \"sun397\")\n",
    "LOG_PATH = os.path.join(ROOT, \"logs\")\n",
    "\n",
    "sys.path.append(ROOT)\n",
    "sys.path.append(LIBRARY_HOME)"
   ]
  },
  {
   "cell_type": "code",
   "execution_count": 13,
   "id": "b3b7c2bb",
   "metadata": {},
   "outputs": [
    {
     "name": "stdout",
     "output_type": "stream",
     "text": [
      "/apps/11785-f23-prj\n"
     ]
    }
   ],
   "source": [
    "%cd /apps/11785-f23-prj"
   ]
  },
  {
   "cell_type": "code",
   "execution_count": 14,
   "id": "beebabb3f954b46b",
   "metadata": {
    "ExecuteTime": {
     "end_time": "2023-12-04T00:23:22.204008Z",
     "start_time": "2023-12-04T00:23:20.714798Z"
    }
   },
   "outputs": [],
   "source": [
    "import faceted_visualization.visualizer.main\n",
    "import faceted_visualization.visualizer.render\n",
    "import faceted_visualization.visualizer.hook\n",
    "import faceted_visualization.visualizer.image\n",
    "import faceted_visualization.visualizer.helpers\n",
    "import faceted_visualization.visualizer.wb\n",
    "import faceted_visualization.visualizer.constants as constants\n",
    "import wandb\n",
    "import pprint\n",
    "import clip\n",
    "import os\n",
    "import logging\n",
    "import datetime\n",
    "import torch"
   ]
  },
  {
   "cell_type": "code",
   "execution_count": 15,
   "id": "475feba850625225",
   "metadata": {
    "ExecuteTime": {
     "end_time": "2023-12-04T00:23:22.208565Z",
     "start_time": "2023-12-04T00:23:22.205725Z"
    }
   },
   "outputs": [],
   "source": [
    "logging.basicConfig(force=True, level=\"INFO\",\n",
    "                    format=\"%(asctime)s [%(threadName)-12.12s] [%(levelname)-5.5s]  %(message)s\")\n",
    "logger = logging.getLogger()\n",
    "init_stream = True\n",
    "init_filehandler = True\n",
    "for handler in logger.handlers:\n",
    "    if isinstance(handler, logging.StreamHandler):\n",
    "        init_stream = False\n",
    "    if isinstance(handler, logging.FileHandler):\n",
    "        init_filehandler = False\n",
    "if init_stream:\n",
    "    consoleHandler = logging.StreamHandler(sys.stdout)\n",
    "    logger.addHandler(consoleHandler)\n",
    "if init_filehandler and sys.platform != \"darwin\":\n",
    "    fileHandler = logging.FileHandler(os.path.join(LOG_PATH, f\"{datetime.datetime.now().strftime('%Y%m%d%H%M%S')}.log\"))\n",
    "    fileHandler.setFormatter(\n",
    "        logging.Formatter(fmt=\"%(asctime)s [%(threadName)-12.12s] [%(levelname)-5.5s]  %(message)s\"))\n",
    "    logger.addHandler(fileHandler)"
   ]
  },
  {
   "cell_type": "code",
   "execution_count": 16,
   "id": "c55db92f",
   "metadata": {},
   "outputs": [
    {
     "name": "stderr",
     "output_type": "stream",
     "text": [
      "2023-12-05 22:05:06,429 [MainThread  ] [INFO ]  Seed = 80119365\n"
     ]
    }
   ],
   "source": [
    "generated_random_seed = faceted_visualization.visualizer.helpers.random_seed(8)\n",
    "logger.info(\"Seed = %s\", generated_random_seed)"
   ]
  },
  {
   "cell_type": "code",
   "execution_count": 17,
   "id": "14f5ccd19f6b51fa",
   "metadata": {
    "ExecuteTime": {
     "end_time": "2023-12-04T00:23:22.213206Z",
     "start_time": "2023-12-04T00:23:22.208682Z"
    }
   },
   "outputs": [
    {
     "name": "stderr",
     "output_type": "stream",
     "text": [
      "2023-12-05 22:05:28,331 [MainThread  ] [INFO ]  Sweep Configuration = \n",
      " {'method': 'grid',\n",
      " 'parameters': {'channel': {'values': [1, 128, 512, 1024, 2048, 2560]},\n",
      "                'learning_rate': {'values': [0.05]},\n",
      "                'linear_probe_layer': {'values': ['layer1_0_conv3',\n",
      "                                                  'layer1_0_relu3',\n",
      "                                                  'layer1_3_conv3',\n",
      "                                                  'layer1_3_relu3',\n",
      "                                                  'layer2_5_conv3',\n",
      "                                                  'layer2_5_relu3',\n",
      "                                                  'layer3_9_conv3',\n",
      "                                                  'layer3_9_relu3']},\n",
      "                'model': {'values': ['RN50x4']},\n",
      "                'num_iterations': {'values': [512]},\n",
      "                'objective': {'values': ['neuron', 'channel']},\n",
      "                'optimizer': {'values': ['AdamW']},\n",
      "                'random_seed': {'values': [80119365]},\n",
      "                'use_std_transforms': {'values': [True]},\n",
      "                'use_transforms': {'values': [True, False]},\n",
      "                'visualization_layer': {'values': ['layer4_5_conv3']}}}\n"
     ]
    }
   ],
   "source": [
    "parameter_dict = {\n",
    "    constants.NUMBER_OF_ITERATIONS: {\n",
    "        'values': [512]\n",
    "    },\n",
    "    constants.MODEL: {\n",
    "        'values': ['RN50x4']\n",
    "    },\n",
    "    constants.LINEAR_PROBE_LAYER: {\n",
    "        'values': [\n",
    "            'layer1_0_conv3',\n",
    "            'layer1_0_relu3',\n",
    "            'layer1_3_conv3',\n",
    "            'layer1_3_relu3',\n",
    "            'layer2_5_conv3',\n",
    "            'layer2_5_relu3',\n",
    "            'layer3_9_conv3',\n",
    "            'layer3_9_relu3'\n",
    "            \n",
    "        ]\n",
    "    },\n",
    "    constants.VISUALIZATION_LAYER: {\n",
    "        'values': [\n",
    "            'layer4_5_conv3'\n",
    "        ]\n",
    "    },\n",
    "    constants.OPTIMIZER: {\n",
    "        'values': [\n",
    "            'AdamW'\n",
    "        ]\n",
    "    },\n",
    "    constants.LEARNING_RATE: {\n",
    "        'values': [\n",
    "            0.05\n",
    "        ]\n",
    "    },\n",
    "    constants.CHANNEL: {\n",
    "        'values': [\n",
    "            1, 128, 512, 1024, 2048, 2560  \n",
    "        ]\n",
    "    },\n",
    "    constants.OBJECTIVE: {\n",
    "        'values': [\n",
    "            'neuron',\n",
    "            'channel'\n",
    "        ]\n",
    "    },\n",
    "    constants.USE_TRANSFORMS: {\n",
    "        'values': [\n",
    "            True, False\n",
    "        ]\n",
    "    },\n",
    "    constants.USE_STD_TRANSFORMS: {\n",
    "        'values': [\n",
    "            True\n",
    "        ]\n",
    "    },\n",
    "    constants.RANDOM_SEED: {\n",
    "        'values': [\n",
    "            generated_random_seed\n",
    "        ]\n",
    "    }\n",
    "}\n",
    "sweep_config = {\n",
    "    'method': 'grid',\n",
    "    'parameters': parameter_dict\n",
    "\n",
    "}\n",
    "logger.info(\"Sweep Configuration = \\n %s\", pprint.pformat(sweep_config))"
   ]
  },
  {
   "cell_type": "code",
   "execution_count": 18,
   "id": "9ba2ea01975d2704",
   "metadata": {
    "ExecuteTime": {
     "end_time": "2023-12-04T00:23:22.217255Z",
     "start_time": "2023-12-04T00:23:22.214159Z"
    }
   },
   "outputs": [
    {
     "name": "stderr",
     "output_type": "stream",
     "text": [
      "2023-12-05 22:05:30,203 [MainThread  ] [INFO ]  Selected Device = cuda:1\n"
     ]
    }
   ],
   "source": [
    "if torch.cuda.is_available():\n",
    "    DEVICE = \"cuda:1\"\n",
    "else:\n",
    "    DEVICE = \"cpu\"\n",
    "logger.info(\"Selected Device = %s\", DEVICE)"
   ]
  },
  {
   "cell_type": "code",
   "execution_count": 19,
   "id": "ebac30fa2ab59dd2",
   "metadata": {
    "ExecuteTime": {
     "end_time": "2023-12-04T00:23:22.223037Z",
     "start_time": "2023-12-04T00:23:22.221623Z"
    }
   },
   "outputs": [],
   "source": [
    "def perform_sweep(config=None):\n",
    "    with wandb.init(config) as run:\n",
    "        current_sweep_config = wandb.config\n",
    "        logger.info('Starting sweep [ run  %s ] with config = \\n%s', run.id, current_sweep_config)\n",
    "        faceted_visualization.visualizer.helpers.set_seed(current_sweep_config[constants.RANDOM_SEED])\n",
    "        model, clip_transforms = faceted_visualization.visualizer.main.get_model(current_sweep_config[constants.MODEL],\n",
    "                                                                                 device=DEVICE)\n",
    "        model_hook = faceted_visualization.visualizer.hook.register_hooks(model)\n",
    "\n",
    "        if current_sweep_config[constants.MODEL].casefold() == 'RN50x4'.casefold():\n",
    "            image_h, image_w = 288, 288\n",
    "            probe_location = os.path.join(PROBE_HOME, \n",
    "                                          current_sweep_config[constants.MODEL],\n",
    "                                          current_sweep_config[constants.LINEAR_PROBE_LAYER], \"version_4_20\", \"model_checkpoint.pth\")\n",
    "        else:\n",
    "            image_h, image_w = 224, 224\n",
    "            probe_location = os.path.join(PROBE_HOME,\n",
    "                                          current_sweep_config[constants.MODEL] + \"_\" + current_sweep_config[\n",
    "                                              constants.LINEAR_PROBE_LAYER], \"version_1\", \"model_checkpoint.pth\")\n",
    "        params, image_f = faceted_visualization.visualizer.image.generate_img(h=image_h, w=image_w,\n",
    "                                                                              decorrelate=True,\n",
    "                                                                              fft=True,\n",
    "                                                                              device=DEVICE)\n",
    "        probe_weights = faceted_visualization.visualizer.main.get_probe_weights(model_location=probe_location,\n",
    "                                                                                device=DEVICE)\n",
    "        if current_sweep_config[constants.OPTIMIZER].casefold() == \"ADAM\".casefold():\n",
    "            optimizer = torch.optim.Adam(params=params, lr=current_sweep_config[constants.LEARNING_RATE])\n",
    "        elif current_sweep_config[constants.OPTIMIZER].casefold() == \"ADAMW\".casefold():\n",
    "            optimizer = torch.optim.AdamW(params=params, lr=current_sweep_config[constants.LEARNING_RATE])\n",
    "        elif current_sweep_config[constants.OPTIMIZER].casefold() == \"SGD\".casefold():\n",
    "            optimizer = torch.optim.SGD(params=params, lr=current_sweep_config[constants.LEARNING_RATE])\n",
    "        else:\n",
    "            logger.error(\"Unknown optimizer type [ %s ] provided\", current_sweep_config[constants.OPTIMIZER])\n",
    "            raise RuntimeError(f\"Unknown optimizer type [ {current_sweep_config[constants.OPTIMIZER]} ] provided\")\n",
    "\n",
    "        transforms = faceted_visualization.visualizer.image.consolidate_transforms(\n",
    "            use_clip_transforms=current_sweep_config[constants.USE_TRANSFORMS],\n",
    "            use_standard_transforms=current_sweep_config[constants.USE_STD_TRANSFORMS],\n",
    "            clip_transforms=clip_transforms\n",
    "        )\n",
    "\n",
    "        logger.info(\"Final list of transforms = %s\", transforms.transforms if transforms is not None else \"NA\")\n",
    "\n",
    "        wandb_object = faceted_visualization.visualizer.wb.WandB(\n",
    "            is_sweep=True,\n",
    "            enabled=True,\n",
    "            api_key=None,\n",
    "            entity=None,\n",
    "            run_name=None,\n",
    "            project=None,\n",
    "            config=None,\n",
    "        )\n",
    "        \n",
    "        if current_sweep_config[constants.OBJECTIVE] == \"neuron\":\n",
    "            image_name = f\"{current_sweep_config[constants.VISUALIZATION_LAYER]}:{current_sweep_config[constants.CHANNEL]}_mid_neuron\"\n",
    "        else:\n",
    "            image_name = f\"{current_sweep_config[constants.VISUALIZATION_LAYER]}:{current_sweep_config[constants.CHANNEL]}\"\n",
    "            \n",
    "        faceted_visualization.visualizer.render.optimize(\n",
    "            num_iterations=current_sweep_config[constants.NUMBER_OF_ITERATIONS],\n",
    "            transforms=transforms,\n",
    "            image_function=image_f,\n",
    "            model=model,\n",
    "            channel=current_sweep_config[constants.CHANNEL],\n",
    "            objective=current_sweep_config[constants.OBJECTIVE],\n",
    "            layer=current_sweep_config[constants.VISUALIZATION_LAYER],\n",
    "            linear_probe_layer=current_sweep_config[constants.LINEAR_PROBE_LAYER],\n",
    "            probe_weights=probe_weights,\n",
    "            optimizer=optimizer,\n",
    "            model_hook=model_hook,\n",
    "            neuron_x=current_sweep_config.get(constants.NEURON_X, None),\n",
    "            neuron_y=current_sweep_config.get(constants.NEURON_Y, None),\n",
    "            wandb_object=wandb_object,\n",
    "            run_id=run.id,\n",
    "            device=DEVICE,\n",
    "            image_name=image_name\n",
    "            )\n",
    "\n",
    "        logger.info(\"Completed run [ %s ]\", run.id)"
   ]
  },
  {
   "cell_type": "code",
   "execution_count": null,
   "id": "78e184d24ac3dac7",
   "metadata": {
    "ExecuteTime": {
     "start_time": "2023-12-04T00:23:22.223925Z"
    },
    "is_executing": true
   },
   "outputs": [
    {
     "name": "stderr",
     "output_type": "stream",
     "text": [
      "2023-12-05 22:05:39,732 [MainThread  ] [INFO ]  Sweep ID = kzps3xpf\n"
     ]
    },
    {
     "name": "stdout",
     "output_type": "stream",
     "text": [
      "Create sweep with ID: kzps3xpf\n",
      "Sweep URL: https://wandb.ai/rohanprasad/idl-project-sun397/sweeps/kzps3xpf\n"
     ]
    },
    {
     "name": "stderr",
     "output_type": "stream",
     "text": [
      "\u001b[34m\u001b[1mwandb\u001b[0m: Agent Starting Run: b2msacpp with config:\n",
      "\u001b[34m\u001b[1mwandb\u001b[0m: \tchannel: 1\n",
      "\u001b[34m\u001b[1mwandb\u001b[0m: \tlearning_rate: 0.05\n",
      "\u001b[34m\u001b[1mwandb\u001b[0m: \tlinear_probe_layer: layer1_0_conv3\n",
      "\u001b[34m\u001b[1mwandb\u001b[0m: \tmodel: RN50x4\n",
      "\u001b[34m\u001b[1mwandb\u001b[0m: \tnum_iterations: 512\n",
      "\u001b[34m\u001b[1mwandb\u001b[0m: \tobjective: neuron\n",
      "\u001b[34m\u001b[1mwandb\u001b[0m: \toptimizer: AdamW\n",
      "\u001b[34m\u001b[1mwandb\u001b[0m: \trandom_seed: 80119365\n",
      "\u001b[34m\u001b[1mwandb\u001b[0m: \tuse_std_transforms: True\n",
      "\u001b[34m\u001b[1mwandb\u001b[0m: \tuse_transforms: True\n",
      "\u001b[34m\u001b[1mwandb\u001b[0m: \tvisualization_layer: layer4_5_conv3\n"
     ]
    },
    {
     "data": {
      "text/html": [
       "wandb version 0.16.1 is available!  To upgrade, please run:\n",
       " $ pip install wandb --upgrade"
      ],
      "text/plain": [
       "<IPython.core.display.HTML object>"
      ]
     },
     "metadata": {},
     "output_type": "display_data"
    },
    {
     "data": {
      "text/html": [
       "Tracking run with wandb version 0.16.0"
      ],
      "text/plain": [
       "<IPython.core.display.HTML object>"
      ]
     },
     "metadata": {},
     "output_type": "display_data"
    },
    {
     "data": {
      "text/html": [
       "Run data is saved locally in <code>/apps/11785-f23-prj/wandb/run-20231205_220541-b2msacpp</code>"
      ],
      "text/plain": [
       "<IPython.core.display.HTML object>"
      ]
     },
     "metadata": {},
     "output_type": "display_data"
    },
    {
     "data": {
      "text/html": [
       "Syncing run <strong><a href='https://wandb.ai/rohanprasad/idl-project-sun397/runs/b2msacpp' target=\"_blank\">northern-sweep-1</a></strong> to <a href='https://wandb.ai/rohanprasad/idl-project-sun397' target=\"_blank\">Weights & Biases</a> (<a href='https://wandb.me/run' target=\"_blank\">docs</a>)<br/>Sweep page: <a href='https://wandb.ai/rohanprasad/idl-project-sun397/sweeps/kzps3xpf' target=\"_blank\">https://wandb.ai/rohanprasad/idl-project-sun397/sweeps/kzps3xpf</a>"
      ],
      "text/plain": [
       "<IPython.core.display.HTML object>"
      ]
     },
     "metadata": {},
     "output_type": "display_data"
    },
    {
     "data": {
      "text/html": [
       " View project at <a href='https://wandb.ai/rohanprasad/idl-project-sun397' target=\"_blank\">https://wandb.ai/rohanprasad/idl-project-sun397</a>"
      ],
      "text/plain": [
       "<IPython.core.display.HTML object>"
      ]
     },
     "metadata": {},
     "output_type": "display_data"
    },
    {
     "data": {
      "text/html": [
       " View sweep at <a href='https://wandb.ai/rohanprasad/idl-project-sun397/sweeps/kzps3xpf' target=\"_blank\">https://wandb.ai/rohanprasad/idl-project-sun397/sweeps/kzps3xpf</a>"
      ],
      "text/plain": [
       "<IPython.core.display.HTML object>"
      ]
     },
     "metadata": {},
     "output_type": "display_data"
    },
    {
     "data": {
      "text/html": [
       " View run at <a href='https://wandb.ai/rohanprasad/idl-project-sun397/runs/b2msacpp' target=\"_blank\">https://wandb.ai/rohanprasad/idl-project-sun397/runs/b2msacpp</a>"
      ],
      "text/plain": [
       "<IPython.core.display.HTML object>"
      ]
     },
     "metadata": {},
     "output_type": "display_data"
    },
    {
     "name": "stderr",
     "output_type": "stream",
     "text": [
      "2023-12-05 22:05:51,971 [Thread-584 (] [INFO ]  Starting sweep [ run  b2msacpp ] with config = \n",
      "{'channel': 1, 'learning_rate': 0.05, 'linear_probe_layer': 'layer1_0_conv3', 'model': 'RN50x4', 'num_iterations': 512, 'objective': 'neuron', 'optimizer': 'AdamW', 'random_seed': 80119365, 'use_std_transforms': True, 'use_transforms': True, 'visualization_layer': 'layer4_5_conv3'}\n",
      "2023-12-05 22:05:51,972 [Thread-584 (] [INFO ]  Setting random seed to 80119365\n",
      "2023-12-05 22:05:51,974 [Thread-584 (] [INFO ]  Loading CLIP model [ RN50x4 ].\n",
      "2023-12-05 22:05:56,408 [Thread-584 (] [INFO ]  Finished loading model [ RN50x4 ]\n",
      "2023-12-05 22:05:56,409 [Thread-584 (] [INFO ]  Finished loading transforms [ Compose(\n",
      "    Resize(size=288, interpolation=bicubic, max_size=None, antialias=warn)\n",
      "    CenterCrop(size=(288, 288))\n",
      "    Normalize(mean=(0.48145466, 0.4578275, 0.40821073), std=(0.26862954, 0.26130258, 0.27577711))\n",
      ") ]\n",
      "2023-12-05 22:05:56,410 [Thread-584 (] [INFO ]  Registering hooks.\n",
      "2023-12-05 22:05:56,413 [Thread-584 (] [INFO ]  Finished registering hooks.\n",
      "2023-12-05 22:05:56,417 [Thread-584 (] [INFO ]  Retrieving weights of linear probe [ path = /apps/11785-f23-prj/faceted_visualization/probes/logs/sun397/RN50x4/layer1_0_conv3/version_4_20/model_checkpoint.pth ]\n",
      "2023-12-05 22:05:56,423 [Thread-584 (] [INFO ]  Final list of transforms = [Resize(size=288, interpolation=bicubic, max_size=None, antialias=warn), CenterCrop(size=(288, 288)), Normalize(mean=(0.48145466, 0.4578275, 0.40821073), std=(0.26862954, 0.26130258, 0.27577711)), RandomAffine(degrees=[0.0, 0.0], translate=(0.03, 0.03), interpolation=InterpolationMode.NEAREST, fill=0), RandomAffine(degrees=[0.0, 0.0], scale=(0.9, 1.1), interpolation=InterpolationMode.NEAREST, fill=0), RandomRotation(degrees=[-10.0, 10.0], interpolation=InterpolationMode.NEAREST, expand=False, fill=0), RandomAffine(degrees=[0.0, 0.0], translate=(0.015, 0.015), interpolation=InterpolationMode.NEAREST, fill=0)]\n",
      "2023-12-05 22:05:56,424 [Thread-584 (] [INFO ]  Starting optimization process [ run_id = b2msacpp ]...\n",
      "/opt/conda/lib/python3.10/site-packages/torchvision/transforms/functional.py:1603: UserWarning: The default value of the antialias parameter of all the resizing transforms (Resize(), RandomResizedCrop(), etc.) will change from None to True in v0.17, in order to be consistent across the PIL and Tensor backends. To suppress this warning, directly pass antialias=True (recommended, future default), antialias=None (current default, which means False for Tensors and True for PIL), or antialias=False (only works on Tensors - PIL will still use antialiasing). This also applies if you are using the inference transforms from the models weights: update the call to weights.transforms(antialias=True).\n",
      "  warnings.warn(\n",
      "2023-12-05 22:05:56,472 [Thread-584 (] [INFO ]  Epoch: 1/512: Loss = 0.3198242 :: Learning Rate = 0.0500000\n",
      "2023-12-05 22:06:01,290 [Thread-584 (] [INFO ]  Epoch: 101/512: Loss = -0.8847656 :: Learning Rate = 0.0500000\n",
      "2023-12-05 22:06:06,129 [Thread-584 (] [INFO ]  Epoch: 201/512: Loss = -1.4609375 :: Learning Rate = 0.0500000\n",
      "2023-12-05 22:06:10,923 [Thread-584 (] [INFO ]  Epoch: 301/512: Loss = -1.8671875 :: Learning Rate = 0.0500000\n",
      "2023-12-05 22:06:15,730 [Thread-584 (] [INFO ]  Epoch: 401/512: Loss = -2.1445312 :: Learning Rate = 0.0500000\n",
      "2023-12-05 22:06:20,515 [Thread-584 (] [INFO ]  Epoch: 501/512: Loss = -2.0429688 :: Learning Rate = 0.0500000\n",
      "2023-12-05 22:06:21,064 [Thread-584 (] [INFO ]  Epoch: 512/512: Loss = -2.1816406 :: Learning Rate = 0.0500000\n",
      "2023-12-05 22:06:21,088 [Thread-584 (] [INFO ]  Completed run [ b2msacpp ]\n"
     ]
    },
    {
     "data": {
      "application/vnd.jupyter.widget-view+json": {
       "model_id": "",
       "version_major": 2,
       "version_minor": 0
      },
      "text/plain": [
       "VBox(children=(Label(value='1.198 MB of 1.220 MB uploaded\\r'), FloatProgress(value=0.9822328278295027, max=1.0…"
      ]
     },
     "metadata": {},
     "output_type": "display_data"
    },
    {
     "data": {
      "text/html": [
       "<style>\n",
       "    table.wandb td:nth-child(1) { padding: 0 10px; text-align: left ; width: auto;} td:nth-child(2) {text-align: left ; width: 100%}\n",
       "    .wandb-row { display: flex; flex-direction: row; flex-wrap: wrap; justify-content: flex-start; width: 100% }\n",
       "    .wandb-col { display: flex; flex-direction: column; flex-basis: 100%; flex: 1; padding: 10px; }\n",
       "    </style>\n",
       "<div class=\"wandb-row\"><div class=\"wandb-col\"><h3>Run history:</h3><br/><table class=\"wandb\"><tr><td>loss</td><td>█▅▃▂▁▁▁</td></tr></table><br/></div><div class=\"wandb-col\"><h3>Run summary:</h3><br/><table class=\"wandb\"><tr><td>loss</td><td>-2.18164</td></tr></table><br/></div></div>"
      ],
      "text/plain": [
       "<IPython.core.display.HTML object>"
      ]
     },
     "metadata": {},
     "output_type": "display_data"
    },
    {
     "data": {
      "text/html": [
       " View run <strong style=\"color:#cdcd00\">northern-sweep-1</strong> at: <a href='https://wandb.ai/rohanprasad/idl-project-sun397/runs/b2msacpp' target=\"_blank\">https://wandb.ai/rohanprasad/idl-project-sun397/runs/b2msacpp</a><br/>Synced 6 W&B file(s), 7 media file(s), 0 artifact file(s) and 0 other file(s)"
      ],
      "text/plain": [
       "<IPython.core.display.HTML object>"
      ]
     },
     "metadata": {},
     "output_type": "display_data"
    },
    {
     "data": {
      "text/html": [
       "Find logs at: <code>./wandb/run-20231205_220541-b2msacpp/logs</code>"
      ],
      "text/plain": [
       "<IPython.core.display.HTML object>"
      ]
     },
     "metadata": {},
     "output_type": "display_data"
    },
    {
     "name": "stderr",
     "output_type": "stream",
     "text": [
      "\u001b[34m\u001b[1mwandb\u001b[0m: Agent Starting Run: zdaf6n8y with config:\n",
      "\u001b[34m\u001b[1mwandb\u001b[0m: \tchannel: 1\n",
      "\u001b[34m\u001b[1mwandb\u001b[0m: \tlearning_rate: 0.05\n",
      "\u001b[34m\u001b[1mwandb\u001b[0m: \tlinear_probe_layer: layer1_0_conv3\n",
      "\u001b[34m\u001b[1mwandb\u001b[0m: \tmodel: RN50x4\n",
      "\u001b[34m\u001b[1mwandb\u001b[0m: \tnum_iterations: 512\n",
      "\u001b[34m\u001b[1mwandb\u001b[0m: \tobjective: neuron\n",
      "\u001b[34m\u001b[1mwandb\u001b[0m: \toptimizer: AdamW\n",
      "\u001b[34m\u001b[1mwandb\u001b[0m: \trandom_seed: 80119365\n",
      "\u001b[34m\u001b[1mwandb\u001b[0m: \tuse_std_transforms: True\n",
      "\u001b[34m\u001b[1mwandb\u001b[0m: \tuse_transforms: False\n",
      "\u001b[34m\u001b[1mwandb\u001b[0m: \tvisualization_layer: layer4_5_conv3\n"
     ]
    },
    {
     "data": {
      "text/html": [
       "wandb version 0.16.1 is available!  To upgrade, please run:\n",
       " $ pip install wandb --upgrade"
      ],
      "text/plain": [
       "<IPython.core.display.HTML object>"
      ]
     },
     "metadata": {},
     "output_type": "display_data"
    },
    {
     "data": {
      "text/html": [
       "Tracking run with wandb version 0.16.0"
      ],
      "text/plain": [
       "<IPython.core.display.HTML object>"
      ]
     },
     "metadata": {},
     "output_type": "display_data"
    },
    {
     "data": {
      "text/html": [
       "Run data is saved locally in <code>/apps/11785-f23-prj/wandb/run-20231205_220627-zdaf6n8y</code>"
      ],
      "text/plain": [
       "<IPython.core.display.HTML object>"
      ]
     },
     "metadata": {},
     "output_type": "display_data"
    },
    {
     "data": {
      "text/html": [
       "Syncing run <strong><a href='https://wandb.ai/rohanprasad/idl-project-sun397/runs/zdaf6n8y' target=\"_blank\">vibrant-sweep-2</a></strong> to <a href='https://wandb.ai/rohanprasad/idl-project-sun397' target=\"_blank\">Weights & Biases</a> (<a href='https://wandb.me/run' target=\"_blank\">docs</a>)<br/>Sweep page: <a href='https://wandb.ai/rohanprasad/idl-project-sun397/sweeps/kzps3xpf' target=\"_blank\">https://wandb.ai/rohanprasad/idl-project-sun397/sweeps/kzps3xpf</a>"
      ],
      "text/plain": [
       "<IPython.core.display.HTML object>"
      ]
     },
     "metadata": {},
     "output_type": "display_data"
    },
    {
     "data": {
      "text/html": [
       " View project at <a href='https://wandb.ai/rohanprasad/idl-project-sun397' target=\"_blank\">https://wandb.ai/rohanprasad/idl-project-sun397</a>"
      ],
      "text/plain": [
       "<IPython.core.display.HTML object>"
      ]
     },
     "metadata": {},
     "output_type": "display_data"
    },
    {
     "data": {
      "text/html": [
       " View sweep at <a href='https://wandb.ai/rohanprasad/idl-project-sun397/sweeps/kzps3xpf' target=\"_blank\">https://wandb.ai/rohanprasad/idl-project-sun397/sweeps/kzps3xpf</a>"
      ],
      "text/plain": [
       "<IPython.core.display.HTML object>"
      ]
     },
     "metadata": {},
     "output_type": "display_data"
    },
    {
     "data": {
      "text/html": [
       " View run at <a href='https://wandb.ai/rohanprasad/idl-project-sun397/runs/zdaf6n8y' target=\"_blank\">https://wandb.ai/rohanprasad/idl-project-sun397/runs/zdaf6n8y</a>"
      ],
      "text/plain": [
       "<IPython.core.display.HTML object>"
      ]
     },
     "metadata": {},
     "output_type": "display_data"
    },
    {
     "name": "stderr",
     "output_type": "stream",
     "text": [
      "2023-12-05 22:06:37,942 [Thread-587 (] [INFO ]  Starting sweep [ run  zdaf6n8y ] with config = \n",
      "{'channel': 1, 'learning_rate': 0.05, 'linear_probe_layer': 'layer1_0_conv3', 'model': 'RN50x4', 'num_iterations': 512, 'objective': 'neuron', 'optimizer': 'AdamW', 'random_seed': 80119365, 'use_std_transforms': True, 'use_transforms': False, 'visualization_layer': 'layer4_5_conv3'}\n",
      "2023-12-05 22:06:37,943 [Thread-587 (] [INFO ]  Setting random seed to 80119365\n",
      "2023-12-05 22:06:37,945 [Thread-587 (] [INFO ]  Loading CLIP model [ RN50x4 ].\n",
      "2023-12-05 22:06:42,365 [Thread-587 (] [INFO ]  Finished loading model [ RN50x4 ]\n",
      "2023-12-05 22:06:42,367 [Thread-587 (] [INFO ]  Finished loading transforms [ Compose(\n",
      "    Resize(size=288, interpolation=bicubic, max_size=None, antialias=warn)\n",
      "    CenterCrop(size=(288, 288))\n",
      "    Normalize(mean=(0.48145466, 0.4578275, 0.40821073), std=(0.26862954, 0.26130258, 0.27577711))\n",
      ") ]\n",
      "2023-12-05 22:06:42,368 [Thread-587 (] [INFO ]  Registering hooks.\n",
      "2023-12-05 22:06:42,372 [Thread-587 (] [INFO ]  Finished registering hooks.\n",
      "2023-12-05 22:06:42,376 [Thread-587 (] [INFO ]  Retrieving weights of linear probe [ path = /apps/11785-f23-prj/faceted_visualization/probes/logs/sun397/RN50x4/layer1_0_conv3/version_4_20/model_checkpoint.pth ]\n",
      "2023-12-05 22:06:42,382 [Thread-587 (] [INFO ]  Final list of transforms = [RandomAffine(degrees=[0.0, 0.0], translate=(0.03, 0.03), interpolation=InterpolationMode.NEAREST, fill=0), RandomAffine(degrees=[0.0, 0.0], scale=(0.9, 1.1), interpolation=InterpolationMode.NEAREST, fill=0), RandomRotation(degrees=[-10.0, 10.0], interpolation=InterpolationMode.NEAREST, expand=False, fill=0), RandomAffine(degrees=[0.0, 0.0], translate=(0.015, 0.015), interpolation=InterpolationMode.NEAREST, fill=0)]\n",
      "2023-12-05 22:06:42,383 [Thread-587 (] [INFO ]  Starting optimization process [ run_id = zdaf6n8y ]...\n",
      "2023-12-05 22:06:42,432 [Thread-587 (] [INFO ]  Epoch: 1/512: Loss = 0.3432617 :: Learning Rate = 0.0500000\n",
      "2023-12-05 22:06:47,252 [Thread-587 (] [INFO ]  Epoch: 101/512: Loss = -0.9291992 :: Learning Rate = 0.0500000\n",
      "2023-12-05 22:06:52,029 [Thread-587 (] [INFO ]  Epoch: 201/512: Loss = -1.4130859 :: Learning Rate = 0.0500000\n",
      "2023-12-05 22:06:56,787 [Thread-587 (] [INFO ]  Epoch: 301/512: Loss = -1.3544922 :: Learning Rate = 0.0500000\n",
      "2023-12-05 22:07:01,499 [Thread-587 (] [INFO ]  Epoch: 401/512: Loss = -1.5888672 :: Learning Rate = 0.0500000\n",
      "2023-12-05 22:07:06,292 [Thread-587 (] [INFO ]  Epoch: 501/512: Loss = -1.7080078 :: Learning Rate = 0.0500000\n",
      "2023-12-05 22:07:06,839 [Thread-587 (] [INFO ]  Epoch: 512/512: Loss = -1.5058594 :: Learning Rate = 0.0500000\n",
      "2023-12-05 22:07:06,864 [Thread-587 (] [INFO ]  Completed run [ zdaf6n8y ]\n"
     ]
    },
    {
     "data": {
      "application/vnd.jupyter.widget-view+json": {
       "model_id": "",
       "version_major": 2,
       "version_minor": 0
      },
      "text/plain": [
       "VBox(children=(Label(value='1.235 MB of 1.235 MB uploaded\\r'), FloatProgress(value=1.0, max=1.0)))"
      ]
     },
     "metadata": {},
     "output_type": "display_data"
    },
    {
     "data": {
      "text/html": [
       "<style>\n",
       "    table.wandb td:nth-child(1) { padding: 0 10px; text-align: left ; width: auto;} td:nth-child(2) {text-align: left ; width: 100%}\n",
       "    .wandb-row { display: flex; flex-direction: row; flex-wrap: wrap; justify-content: flex-start; width: 100% }\n",
       "    .wandb-col { display: flex; flex-direction: column; flex-basis: 100%; flex: 1; padding: 10px; }\n",
       "    </style>\n",
       "<div class=\"wandb-row\"><div class=\"wandb-col\"><h3>Run history:</h3><br/><table class=\"wandb\"><tr><td>loss</td><td>█▄▂▂▁▁▂</td></tr></table><br/></div><div class=\"wandb-col\"><h3>Run summary:</h3><br/><table class=\"wandb\"><tr><td>loss</td><td>-1.50586</td></tr></table><br/></div></div>"
      ],
      "text/plain": [
       "<IPython.core.display.HTML object>"
      ]
     },
     "metadata": {},
     "output_type": "display_data"
    },
    {
     "data": {
      "text/html": [
       " View run <strong style=\"color:#cdcd00\">vibrant-sweep-2</strong> at: <a href='https://wandb.ai/rohanprasad/idl-project-sun397/runs/zdaf6n8y' target=\"_blank\">https://wandb.ai/rohanprasad/idl-project-sun397/runs/zdaf6n8y</a><br/>Synced 6 W&B file(s), 7 media file(s), 0 artifact file(s) and 0 other file(s)"
      ],
      "text/plain": [
       "<IPython.core.display.HTML object>"
      ]
     },
     "metadata": {},
     "output_type": "display_data"
    },
    {
     "data": {
      "text/html": [
       "Find logs at: <code>./wandb/run-20231205_220627-zdaf6n8y/logs</code>"
      ],
      "text/plain": [
       "<IPython.core.display.HTML object>"
      ]
     },
     "metadata": {},
     "output_type": "display_data"
    },
    {
     "name": "stderr",
     "output_type": "stream",
     "text": [
      "\u001b[34m\u001b[1mwandb\u001b[0m: Agent Starting Run: 3qthj069 with config:\n",
      "\u001b[34m\u001b[1mwandb\u001b[0m: \tchannel: 1\n",
      "\u001b[34m\u001b[1mwandb\u001b[0m: \tlearning_rate: 0.05\n",
      "\u001b[34m\u001b[1mwandb\u001b[0m: \tlinear_probe_layer: layer1_0_conv3\n",
      "\u001b[34m\u001b[1mwandb\u001b[0m: \tmodel: RN50x4\n",
      "\u001b[34m\u001b[1mwandb\u001b[0m: \tnum_iterations: 512\n",
      "\u001b[34m\u001b[1mwandb\u001b[0m: \tobjective: channel\n",
      "\u001b[34m\u001b[1mwandb\u001b[0m: \toptimizer: AdamW\n",
      "\u001b[34m\u001b[1mwandb\u001b[0m: \trandom_seed: 80119365\n",
      "\u001b[34m\u001b[1mwandb\u001b[0m: \tuse_std_transforms: True\n",
      "\u001b[34m\u001b[1mwandb\u001b[0m: \tuse_transforms: True\n",
      "\u001b[34m\u001b[1mwandb\u001b[0m: \tvisualization_layer: layer4_5_conv3\n"
     ]
    },
    {
     "data": {
      "text/html": [
       "wandb version 0.16.1 is available!  To upgrade, please run:\n",
       " $ pip install wandb --upgrade"
      ],
      "text/plain": [
       "<IPython.core.display.HTML object>"
      ]
     },
     "metadata": {},
     "output_type": "display_data"
    },
    {
     "data": {
      "text/html": [
       "Tracking run with wandb version 0.16.0"
      ],
      "text/plain": [
       "<IPython.core.display.HTML object>"
      ]
     },
     "metadata": {},
     "output_type": "display_data"
    },
    {
     "data": {
      "text/html": [
       "Run data is saved locally in <code>/apps/11785-f23-prj/wandb/run-20231205_220717-3qthj069</code>"
      ],
      "text/plain": [
       "<IPython.core.display.HTML object>"
      ]
     },
     "metadata": {},
     "output_type": "display_data"
    },
    {
     "data": {
      "text/html": [
       "Syncing run <strong><a href='https://wandb.ai/rohanprasad/idl-project-sun397/runs/3qthj069' target=\"_blank\">brisk-sweep-3</a></strong> to <a href='https://wandb.ai/rohanprasad/idl-project-sun397' target=\"_blank\">Weights & Biases</a> (<a href='https://wandb.me/run' target=\"_blank\">docs</a>)<br/>Sweep page: <a href='https://wandb.ai/rohanprasad/idl-project-sun397/sweeps/kzps3xpf' target=\"_blank\">https://wandb.ai/rohanprasad/idl-project-sun397/sweeps/kzps3xpf</a>"
      ],
      "text/plain": [
       "<IPython.core.display.HTML object>"
      ]
     },
     "metadata": {},
     "output_type": "display_data"
    },
    {
     "data": {
      "text/html": [
       " View project at <a href='https://wandb.ai/rohanprasad/idl-project-sun397' target=\"_blank\">https://wandb.ai/rohanprasad/idl-project-sun397</a>"
      ],
      "text/plain": [
       "<IPython.core.display.HTML object>"
      ]
     },
     "metadata": {},
     "output_type": "display_data"
    },
    {
     "data": {
      "text/html": [
       " View sweep at <a href='https://wandb.ai/rohanprasad/idl-project-sun397/sweeps/kzps3xpf' target=\"_blank\">https://wandb.ai/rohanprasad/idl-project-sun397/sweeps/kzps3xpf</a>"
      ],
      "text/plain": [
       "<IPython.core.display.HTML object>"
      ]
     },
     "metadata": {},
     "output_type": "display_data"
    },
    {
     "data": {
      "text/html": [
       " View run at <a href='https://wandb.ai/rohanprasad/idl-project-sun397/runs/3qthj069' target=\"_blank\">https://wandb.ai/rohanprasad/idl-project-sun397/runs/3qthj069</a>"
      ],
      "text/plain": [
       "<IPython.core.display.HTML object>"
      ]
     },
     "metadata": {},
     "output_type": "display_data"
    },
    {
     "name": "stderr",
     "output_type": "stream",
     "text": [
      "2023-12-05 22:07:28,117 [Thread-590 (] [INFO ]  Starting sweep [ run  3qthj069 ] with config = \n",
      "{'channel': 1, 'learning_rate': 0.05, 'linear_probe_layer': 'layer1_0_conv3', 'model': 'RN50x4', 'num_iterations': 512, 'objective': 'channel', 'optimizer': 'AdamW', 'random_seed': 80119365, 'use_std_transforms': True, 'use_transforms': True, 'visualization_layer': 'layer4_5_conv3'}\n",
      "2023-12-05 22:07:28,118 [Thread-590 (] [INFO ]  Setting random seed to 80119365\n",
      "2023-12-05 22:07:28,120 [Thread-590 (] [INFO ]  Loading CLIP model [ RN50x4 ].\n",
      "2023-12-05 22:07:33,022 [Thread-590 (] [INFO ]  Finished loading model [ RN50x4 ]\n",
      "2023-12-05 22:07:33,024 [Thread-590 (] [INFO ]  Finished loading transforms [ Compose(\n",
      "    Resize(size=288, interpolation=bicubic, max_size=None, antialias=warn)\n",
      "    CenterCrop(size=(288, 288))\n",
      "    Normalize(mean=(0.48145466, 0.4578275, 0.40821073), std=(0.26862954, 0.26130258, 0.27577711))\n",
      ") ]\n",
      "2023-12-05 22:07:33,025 [Thread-590 (] [INFO ]  Registering hooks.\n",
      "2023-12-05 22:07:33,028 [Thread-590 (] [INFO ]  Finished registering hooks.\n",
      "2023-12-05 22:07:33,032 [Thread-590 (] [INFO ]  Retrieving weights of linear probe [ path = /apps/11785-f23-prj/faceted_visualization/probes/logs/sun397/RN50x4/layer1_0_conv3/version_4_20/model_checkpoint.pth ]\n",
      "2023-12-05 22:07:33,038 [Thread-590 (] [INFO ]  Final list of transforms = [Resize(size=288, interpolation=bicubic, max_size=None, antialias=warn), CenterCrop(size=(288, 288)), Normalize(mean=(0.48145466, 0.4578275, 0.40821073), std=(0.26862954, 0.26130258, 0.27577711)), RandomAffine(degrees=[0.0, 0.0], translate=(0.03, 0.03), interpolation=InterpolationMode.NEAREST, fill=0), RandomAffine(degrees=[0.0, 0.0], scale=(0.9, 1.1), interpolation=InterpolationMode.NEAREST, fill=0), RandomRotation(degrees=[-10.0, 10.0], interpolation=InterpolationMode.NEAREST, expand=False, fill=0), RandomAffine(degrees=[0.0, 0.0], translate=(0.015, 0.015), interpolation=InterpolationMode.NEAREST, fill=0)]\n",
      "2023-12-05 22:07:33,039 [Thread-590 (] [INFO ]  Starting optimization process [ run_id = 3qthj069 ]...\n",
      "/opt/conda/lib/python3.10/site-packages/torchvision/transforms/functional.py:1603: UserWarning: The default value of the antialias parameter of all the resizing transforms (Resize(), RandomResizedCrop(), etc.) will change from None to True in v0.17, in order to be consistent across the PIL and Tensor backends. To suppress this warning, directly pass antialias=True (recommended, future default), antialias=None (current default, which means False for Tensors and True for PIL), or antialias=False (only works on Tensors - PIL will still use antialiasing). This also applies if you are using the inference transforms from the models weights: update the call to weights.transforms(antialias=True).\n",
      "  warnings.warn(\n",
      "2023-12-05 22:07:33,088 [Thread-590 (] [INFO ]  Epoch: 1/512: Loss = 0.3659668 :: Learning Rate = 0.0500000\n",
      "2023-12-05 22:07:37,880 [Thread-590 (] [INFO ]  Epoch: 101/512: Loss = 0.0939331 :: Learning Rate = 0.0500000\n",
      "2023-12-05 22:07:42,638 [Thread-590 (] [INFO ]  Epoch: 201/512: Loss = -0.1799316 :: Learning Rate = 0.0500000\n",
      "2023-12-05 22:07:47,404 [Thread-590 (] [INFO ]  Epoch: 301/512: Loss = -0.2290039 :: Learning Rate = 0.0500000\n",
      "2023-12-05 22:07:52,164 [Thread-590 (] [INFO ]  Epoch: 401/512: Loss = -1.5693359 :: Learning Rate = 0.0500000\n",
      "2023-12-05 22:07:56,975 [Thread-590 (] [INFO ]  Epoch: 501/512: Loss = -0.8203125 :: Learning Rate = 0.0500000\n",
      "2023-12-05 22:07:57,528 [Thread-590 (] [INFO ]  Epoch: 512/512: Loss = -0.5405273 :: Learning Rate = 0.0500000\n",
      "2023-12-05 22:07:57,552 [Thread-590 (] [INFO ]  Completed run [ 3qthj069 ]\n"
     ]
    },
    {
     "data": {
      "application/vnd.jupyter.widget-view+json": {
       "model_id": "",
       "version_major": 2,
       "version_minor": 0
      },
      "text/plain": [
       "VBox(children=(Label(value='1.316 MB of 1.316 MB uploaded\\r'), FloatProgress(value=1.0, max=1.0)))"
      ]
     },
     "metadata": {},
     "output_type": "display_data"
    },
    {
     "data": {
      "text/html": [
       "<style>\n",
       "    table.wandb td:nth-child(1) { padding: 0 10px; text-align: left ; width: auto;} td:nth-child(2) {text-align: left ; width: 100%}\n",
       "    .wandb-row { display: flex; flex-direction: row; flex-wrap: wrap; justify-content: flex-start; width: 100% }\n",
       "    .wandb-col { display: flex; flex-direction: column; flex-basis: 100%; flex: 1; padding: 10px; }\n",
       "    </style>\n",
       "<div class=\"wandb-row\"><div class=\"wandb-col\"><h3>Run history:</h3><br/><table class=\"wandb\"><tr><td>loss</td><td>█▇▆▆▁▄▅</td></tr></table><br/></div><div class=\"wandb-col\"><h3>Run summary:</h3><br/><table class=\"wandb\"><tr><td>loss</td><td>-0.54053</td></tr></table><br/></div></div>"
      ],
      "text/plain": [
       "<IPython.core.display.HTML object>"
      ]
     },
     "metadata": {},
     "output_type": "display_data"
    },
    {
     "data": {
      "text/html": [
       " View run <strong style=\"color:#cdcd00\">brisk-sweep-3</strong> at: <a href='https://wandb.ai/rohanprasad/idl-project-sun397/runs/3qthj069' target=\"_blank\">https://wandb.ai/rohanprasad/idl-project-sun397/runs/3qthj069</a><br/>Synced 6 W&B file(s), 7 media file(s), 0 artifact file(s) and 0 other file(s)"
      ],
      "text/plain": [
       "<IPython.core.display.HTML object>"
      ]
     },
     "metadata": {},
     "output_type": "display_data"
    },
    {
     "data": {
      "text/html": [
       "Find logs at: <code>./wandb/run-20231205_220717-3qthj069/logs</code>"
      ],
      "text/plain": [
       "<IPython.core.display.HTML object>"
      ]
     },
     "metadata": {},
     "output_type": "display_data"
    },
    {
     "name": "stderr",
     "output_type": "stream",
     "text": [
      "\u001b[34m\u001b[1mwandb\u001b[0m: Agent Starting Run: 0otfjk4b with config:\n",
      "\u001b[34m\u001b[1mwandb\u001b[0m: \tchannel: 1\n",
      "\u001b[34m\u001b[1mwandb\u001b[0m: \tlearning_rate: 0.05\n",
      "\u001b[34m\u001b[1mwandb\u001b[0m: \tlinear_probe_layer: layer1_0_conv3\n",
      "\u001b[34m\u001b[1mwandb\u001b[0m: \tmodel: RN50x4\n",
      "\u001b[34m\u001b[1mwandb\u001b[0m: \tnum_iterations: 512\n",
      "\u001b[34m\u001b[1mwandb\u001b[0m: \tobjective: channel\n",
      "\u001b[34m\u001b[1mwandb\u001b[0m: \toptimizer: AdamW\n",
      "\u001b[34m\u001b[1mwandb\u001b[0m: \trandom_seed: 80119365\n",
      "\u001b[34m\u001b[1mwandb\u001b[0m: \tuse_std_transforms: True\n",
      "\u001b[34m\u001b[1mwandb\u001b[0m: \tuse_transforms: False\n",
      "\u001b[34m\u001b[1mwandb\u001b[0m: \tvisualization_layer: layer4_5_conv3\n"
     ]
    },
    {
     "data": {
      "text/html": [
       "wandb version 0.16.1 is available!  To upgrade, please run:\n",
       " $ pip install wandb --upgrade"
      ],
      "text/plain": [
       "<IPython.core.display.HTML object>"
      ]
     },
     "metadata": {},
     "output_type": "display_data"
    },
    {
     "data": {
      "text/html": [
       "Tracking run with wandb version 0.16.0"
      ],
      "text/plain": [
       "<IPython.core.display.HTML object>"
      ]
     },
     "metadata": {},
     "output_type": "display_data"
    },
    {
     "data": {
      "text/html": [
       "Run data is saved locally in <code>/apps/11785-f23-prj/wandb/run-20231205_220804-0otfjk4b</code>"
      ],
      "text/plain": [
       "<IPython.core.display.HTML object>"
      ]
     },
     "metadata": {},
     "output_type": "display_data"
    },
    {
     "data": {
      "text/html": [
       "Syncing run <strong><a href='https://wandb.ai/rohanprasad/idl-project-sun397/runs/0otfjk4b' target=\"_blank\">winter-sweep-4</a></strong> to <a href='https://wandb.ai/rohanprasad/idl-project-sun397' target=\"_blank\">Weights & Biases</a> (<a href='https://wandb.me/run' target=\"_blank\">docs</a>)<br/>Sweep page: <a href='https://wandb.ai/rohanprasad/idl-project-sun397/sweeps/kzps3xpf' target=\"_blank\">https://wandb.ai/rohanprasad/idl-project-sun397/sweeps/kzps3xpf</a>"
      ],
      "text/plain": [
       "<IPython.core.display.HTML object>"
      ]
     },
     "metadata": {},
     "output_type": "display_data"
    },
    {
     "data": {
      "text/html": [
       " View project at <a href='https://wandb.ai/rohanprasad/idl-project-sun397' target=\"_blank\">https://wandb.ai/rohanprasad/idl-project-sun397</a>"
      ],
      "text/plain": [
       "<IPython.core.display.HTML object>"
      ]
     },
     "metadata": {},
     "output_type": "display_data"
    },
    {
     "data": {
      "text/html": [
       " View sweep at <a href='https://wandb.ai/rohanprasad/idl-project-sun397/sweeps/kzps3xpf' target=\"_blank\">https://wandb.ai/rohanprasad/idl-project-sun397/sweeps/kzps3xpf</a>"
      ],
      "text/plain": [
       "<IPython.core.display.HTML object>"
      ]
     },
     "metadata": {},
     "output_type": "display_data"
    },
    {
     "data": {
      "text/html": [
       " View run at <a href='https://wandb.ai/rohanprasad/idl-project-sun397/runs/0otfjk4b' target=\"_blank\">https://wandb.ai/rohanprasad/idl-project-sun397/runs/0otfjk4b</a>"
      ],
      "text/plain": [
       "<IPython.core.display.HTML object>"
      ]
     },
     "metadata": {},
     "output_type": "display_data"
    },
    {
     "name": "stderr",
     "output_type": "stream",
     "text": [
      "2023-12-05 22:08:14,108 [Thread-593 (] [INFO ]  Starting sweep [ run  0otfjk4b ] with config = \n",
      "{'channel': 1, 'learning_rate': 0.05, 'linear_probe_layer': 'layer1_0_conv3', 'model': 'RN50x4', 'num_iterations': 512, 'objective': 'channel', 'optimizer': 'AdamW', 'random_seed': 80119365, 'use_std_transforms': True, 'use_transforms': False, 'visualization_layer': 'layer4_5_conv3'}\n",
      "2023-12-05 22:08:14,109 [Thread-593 (] [INFO ]  Setting random seed to 80119365\n",
      "2023-12-05 22:08:14,111 [Thread-593 (] [INFO ]  Loading CLIP model [ RN50x4 ].\n",
      "2023-12-05 22:08:18,524 [Thread-593 (] [INFO ]  Finished loading model [ RN50x4 ]\n",
      "2023-12-05 22:08:18,526 [Thread-593 (] [INFO ]  Finished loading transforms [ Compose(\n",
      "    Resize(size=288, interpolation=bicubic, max_size=None, antialias=warn)\n",
      "    CenterCrop(size=(288, 288))\n",
      "    Normalize(mean=(0.48145466, 0.4578275, 0.40821073), std=(0.26862954, 0.26130258, 0.27577711))\n",
      ") ]\n",
      "2023-12-05 22:08:18,527 [Thread-593 (] [INFO ]  Registering hooks.\n",
      "2023-12-05 22:08:18,530 [Thread-593 (] [INFO ]  Finished registering hooks.\n",
      "2023-12-05 22:08:18,535 [Thread-593 (] [INFO ]  Retrieving weights of linear probe [ path = /apps/11785-f23-prj/faceted_visualization/probes/logs/sun397/RN50x4/layer1_0_conv3/version_4_20/model_checkpoint.pth ]\n",
      "2023-12-05 22:08:18,540 [Thread-593 (] [INFO ]  Final list of transforms = [RandomAffine(degrees=[0.0, 0.0], translate=(0.03, 0.03), interpolation=InterpolationMode.NEAREST, fill=0), RandomAffine(degrees=[0.0, 0.0], scale=(0.9, 1.1), interpolation=InterpolationMode.NEAREST, fill=0), RandomRotation(degrees=[-10.0, 10.0], interpolation=InterpolationMode.NEAREST, expand=False, fill=0), RandomAffine(degrees=[0.0, 0.0], translate=(0.015, 0.015), interpolation=InterpolationMode.NEAREST, fill=0)]\n",
      "2023-12-05 22:08:18,541 [Thread-593 (] [INFO ]  Starting optimization process [ run_id = 0otfjk4b ]...\n",
      "2023-12-05 22:08:18,590 [Thread-593 (] [INFO ]  Epoch: 1/512: Loss = 0.3654785 :: Learning Rate = 0.0500000\n",
      "2023-12-05 22:08:23,355 [Thread-593 (] [INFO ]  Epoch: 101/512: Loss = -0.1844482 :: Learning Rate = 0.0500000\n",
      "2023-12-05 22:08:28,082 [Thread-593 (] [INFO ]  Epoch: 201/512: Loss = -0.5390625 :: Learning Rate = 0.0500000\n",
      "2023-12-05 22:08:32,820 [Thread-593 (] [INFO ]  Epoch: 301/512: Loss = -0.8930664 :: Learning Rate = 0.0500000\n",
      "2023-12-05 22:08:37,584 [Thread-593 (] [INFO ]  Epoch: 401/512: Loss = -0.2353516 :: Learning Rate = 0.0500000\n",
      "2023-12-05 22:08:42,330 [Thread-593 (] [INFO ]  Epoch: 501/512: Loss = -0.1733398 :: Learning Rate = 0.0500000\n",
      "2023-12-05 22:08:42,868 [Thread-593 (] [INFO ]  Epoch: 512/512: Loss = -0.9526367 :: Learning Rate = 0.0500000\n",
      "2023-12-05 22:08:42,891 [Thread-593 (] [INFO ]  Completed run [ 0otfjk4b ]\n"
     ]
    },
    {
     "data": {
      "application/vnd.jupyter.widget-view+json": {
       "model_id": "",
       "version_major": 2,
       "version_minor": 0
      },
      "text/plain": [
       "VBox(children=(Label(value='1.325 MB of 1.325 MB uploaded\\r'), FloatProgress(value=1.0, max=1.0)))"
      ]
     },
     "metadata": {},
     "output_type": "display_data"
    },
    {
     "data": {
      "text/html": [
       "<style>\n",
       "    table.wandb td:nth-child(1) { padding: 0 10px; text-align: left ; width: auto;} td:nth-child(2) {text-align: left ; width: 100%}\n",
       "    .wandb-row { display: flex; flex-direction: row; flex-wrap: wrap; justify-content: flex-start; width: 100% }\n",
       "    .wandb-col { display: flex; flex-direction: column; flex-basis: 100%; flex: 1; padding: 10px; }\n",
       "    </style>\n",
       "<div class=\"wandb-row\"><div class=\"wandb-col\"><h3>Run history:</h3><br/><table class=\"wandb\"><tr><td>loss</td><td>█▅▃▁▅▅▁</td></tr></table><br/></div><div class=\"wandb-col\"><h3>Run summary:</h3><br/><table class=\"wandb\"><tr><td>loss</td><td>-0.95264</td></tr></table><br/></div></div>"
      ],
      "text/plain": [
       "<IPython.core.display.HTML object>"
      ]
     },
     "metadata": {},
     "output_type": "display_data"
    },
    {
     "data": {
      "text/html": [
       " View run <strong style=\"color:#cdcd00\">winter-sweep-4</strong> at: <a href='https://wandb.ai/rohanprasad/idl-project-sun397/runs/0otfjk4b' target=\"_blank\">https://wandb.ai/rohanprasad/idl-project-sun397/runs/0otfjk4b</a><br/>Synced 6 W&B file(s), 7 media file(s), 0 artifact file(s) and 0 other file(s)"
      ],
      "text/plain": [
       "<IPython.core.display.HTML object>"
      ]
     },
     "metadata": {},
     "output_type": "display_data"
    },
    {
     "data": {
      "text/html": [
       "Find logs at: <code>./wandb/run-20231205_220804-0otfjk4b/logs</code>"
      ],
      "text/plain": [
       "<IPython.core.display.HTML object>"
      ]
     },
     "metadata": {},
     "output_type": "display_data"
    },
    {
     "name": "stderr",
     "output_type": "stream",
     "text": [
      "\u001b[34m\u001b[1mwandb\u001b[0m: Agent Starting Run: o1b3v5p7 with config:\n",
      "\u001b[34m\u001b[1mwandb\u001b[0m: \tchannel: 1\n",
      "\u001b[34m\u001b[1mwandb\u001b[0m: \tlearning_rate: 0.05\n",
      "\u001b[34m\u001b[1mwandb\u001b[0m: \tlinear_probe_layer: layer1_0_relu3\n",
      "\u001b[34m\u001b[1mwandb\u001b[0m: \tmodel: RN50x4\n",
      "\u001b[34m\u001b[1mwandb\u001b[0m: \tnum_iterations: 512\n",
      "\u001b[34m\u001b[1mwandb\u001b[0m: \tobjective: neuron\n",
      "\u001b[34m\u001b[1mwandb\u001b[0m: \toptimizer: AdamW\n",
      "\u001b[34m\u001b[1mwandb\u001b[0m: \trandom_seed: 80119365\n",
      "\u001b[34m\u001b[1mwandb\u001b[0m: \tuse_std_transforms: True\n",
      "\u001b[34m\u001b[1mwandb\u001b[0m: \tuse_transforms: True\n",
      "\u001b[34m\u001b[1mwandb\u001b[0m: \tvisualization_layer: layer4_5_conv3\n"
     ]
    },
    {
     "data": {
      "text/html": [
       "wandb version 0.16.1 is available!  To upgrade, please run:\n",
       " $ pip install wandb --upgrade"
      ],
      "text/plain": [
       "<IPython.core.display.HTML object>"
      ]
     },
     "metadata": {},
     "output_type": "display_data"
    },
    {
     "data": {
      "text/html": [
       "Tracking run with wandb version 0.16.0"
      ],
      "text/plain": [
       "<IPython.core.display.HTML object>"
      ]
     },
     "metadata": {},
     "output_type": "display_data"
    },
    {
     "data": {
      "text/html": [
       "Run data is saved locally in <code>/apps/11785-f23-prj/wandb/run-20231205_220850-o1b3v5p7</code>"
      ],
      "text/plain": [
       "<IPython.core.display.HTML object>"
      ]
     },
     "metadata": {},
     "output_type": "display_data"
    },
    {
     "data": {
      "text/html": [
       "Syncing run <strong><a href='https://wandb.ai/rohanprasad/idl-project-sun397/runs/o1b3v5p7' target=\"_blank\">wandering-sweep-5</a></strong> to <a href='https://wandb.ai/rohanprasad/idl-project-sun397' target=\"_blank\">Weights & Biases</a> (<a href='https://wandb.me/run' target=\"_blank\">docs</a>)<br/>Sweep page: <a href='https://wandb.ai/rohanprasad/idl-project-sun397/sweeps/kzps3xpf' target=\"_blank\">https://wandb.ai/rohanprasad/idl-project-sun397/sweeps/kzps3xpf</a>"
      ],
      "text/plain": [
       "<IPython.core.display.HTML object>"
      ]
     },
     "metadata": {},
     "output_type": "display_data"
    },
    {
     "data": {
      "text/html": [
       " View project at <a href='https://wandb.ai/rohanprasad/idl-project-sun397' target=\"_blank\">https://wandb.ai/rohanprasad/idl-project-sun397</a>"
      ],
      "text/plain": [
       "<IPython.core.display.HTML object>"
      ]
     },
     "metadata": {},
     "output_type": "display_data"
    },
    {
     "data": {
      "text/html": [
       " View sweep at <a href='https://wandb.ai/rohanprasad/idl-project-sun397/sweeps/kzps3xpf' target=\"_blank\">https://wandb.ai/rohanprasad/idl-project-sun397/sweeps/kzps3xpf</a>"
      ],
      "text/plain": [
       "<IPython.core.display.HTML object>"
      ]
     },
     "metadata": {},
     "output_type": "display_data"
    },
    {
     "data": {
      "text/html": [
       " View run at <a href='https://wandb.ai/rohanprasad/idl-project-sun397/runs/o1b3v5p7' target=\"_blank\">https://wandb.ai/rohanprasad/idl-project-sun397/runs/o1b3v5p7</a>"
      ],
      "text/plain": [
       "<IPython.core.display.HTML object>"
      ]
     },
     "metadata": {},
     "output_type": "display_data"
    },
    {
     "name": "stderr",
     "output_type": "stream",
     "text": [
      "2023-12-05 22:09:00,191 [Thread-596 (] [INFO ]  Starting sweep [ run  o1b3v5p7 ] with config = \n",
      "{'channel': 1, 'learning_rate': 0.05, 'linear_probe_layer': 'layer1_0_relu3', 'model': 'RN50x4', 'num_iterations': 512, 'objective': 'neuron', 'optimizer': 'AdamW', 'random_seed': 80119365, 'use_std_transforms': True, 'use_transforms': True, 'visualization_layer': 'layer4_5_conv3'}\n",
      "2023-12-05 22:09:00,192 [Thread-596 (] [INFO ]  Setting random seed to 80119365\n",
      "2023-12-05 22:09:00,193 [Thread-596 (] [INFO ]  Loading CLIP model [ RN50x4 ].\n",
      "2023-12-05 22:09:04,643 [Thread-596 (] [INFO ]  Finished loading model [ RN50x4 ]\n",
      "2023-12-05 22:09:04,645 [Thread-596 (] [INFO ]  Finished loading transforms [ Compose(\n",
      "    Resize(size=288, interpolation=bicubic, max_size=None, antialias=warn)\n",
      "    CenterCrop(size=(288, 288))\n",
      "    Normalize(mean=(0.48145466, 0.4578275, 0.40821073), std=(0.26862954, 0.26130258, 0.27577711))\n",
      ") ]\n",
      "2023-12-05 22:09:04,646 [Thread-596 (] [INFO ]  Registering hooks.\n",
      "2023-12-05 22:09:04,648 [Thread-596 (] [INFO ]  Finished registering hooks.\n",
      "2023-12-05 22:09:04,652 [Thread-596 (] [INFO ]  Retrieving weights of linear probe [ path = /apps/11785-f23-prj/faceted_visualization/probes/logs/sun397/RN50x4/layer1_0_relu3/version_4_20/model_checkpoint.pth ]\n",
      "2023-12-05 22:09:04,658 [Thread-596 (] [INFO ]  Final list of transforms = [Resize(size=288, interpolation=bicubic, max_size=None, antialias=warn), CenterCrop(size=(288, 288)), Normalize(mean=(0.48145466, 0.4578275, 0.40821073), std=(0.26862954, 0.26130258, 0.27577711)), RandomAffine(degrees=[0.0, 0.0], translate=(0.03, 0.03), interpolation=InterpolationMode.NEAREST, fill=0), RandomAffine(degrees=[0.0, 0.0], scale=(0.9, 1.1), interpolation=InterpolationMode.NEAREST, fill=0), RandomRotation(degrees=[-10.0, 10.0], interpolation=InterpolationMode.NEAREST, expand=False, fill=0), RandomAffine(degrees=[0.0, 0.0], translate=(0.015, 0.015), interpolation=InterpolationMode.NEAREST, fill=0)]\n",
      "2023-12-05 22:09:04,659 [Thread-596 (] [INFO ]  Starting optimization process [ run_id = o1b3v5p7 ]...\n",
      "/opt/conda/lib/python3.10/site-packages/torchvision/transforms/functional.py:1603: UserWarning: The default value of the antialias parameter of all the resizing transforms (Resize(), RandomResizedCrop(), etc.) will change from None to True in v0.17, in order to be consistent across the PIL and Tensor backends. To suppress this warning, directly pass antialias=True (recommended, future default), antialias=None (current default, which means False for Tensors and True for PIL), or antialias=False (only works on Tensors - PIL will still use antialiasing). This also applies if you are using the inference transforms from the models weights: update the call to weights.transforms(antialias=True).\n",
      "  warnings.warn(\n",
      "2023-12-05 22:09:04,707 [Thread-596 (] [INFO ]  Epoch: 1/512: Loss = -2.5664062 :: Learning Rate = 0.0500000\n",
      "2023-12-05 22:09:09,535 [Thread-596 (] [INFO ]  Epoch: 101/512: Loss = -1.3662109 :: Learning Rate = 0.0500000\n",
      "2023-12-05 22:09:14,293 [Thread-596 (] [INFO ]  Epoch: 201/512: Loss = -1.3544922 :: Learning Rate = 0.0500000\n",
      "2023-12-05 22:09:19,054 [Thread-596 (] [INFO ]  Epoch: 301/512: Loss = -1.8164062 :: Learning Rate = 0.0500000\n",
      "2023-12-05 22:09:23,873 [Thread-596 (] [INFO ]  Epoch: 401/512: Loss = -2.3183594 :: Learning Rate = 0.0500000\n",
      "2023-12-05 22:09:28,683 [Thread-596 (] [INFO ]  Epoch: 501/512: Loss = -2.6054688 :: Learning Rate = 0.0500000\n",
      "2023-12-05 22:09:29,237 [Thread-596 (] [INFO ]  Epoch: 512/512: Loss = -2.9980469 :: Learning Rate = 0.0500000\n",
      "2023-12-05 22:09:29,260 [Thread-596 (] [INFO ]  Completed run [ o1b3v5p7 ]\n"
     ]
    },
    {
     "data": {
      "application/vnd.jupyter.widget-view+json": {
       "model_id": "",
       "version_major": 2,
       "version_minor": 0
      },
      "text/plain": [
       "VBox(children=(Label(value='1.231 MB of 1.231 MB uploaded\\r'), FloatProgress(value=1.0, max=1.0)))"
      ]
     },
     "metadata": {},
     "output_type": "display_data"
    },
    {
     "data": {
      "text/html": [
       "<style>\n",
       "    table.wandb td:nth-child(1) { padding: 0 10px; text-align: left ; width: auto;} td:nth-child(2) {text-align: left ; width: 100%}\n",
       "    .wandb-row { display: flex; flex-direction: row; flex-wrap: wrap; justify-content: flex-start; width: 100% }\n",
       "    .wandb-col { display: flex; flex-direction: column; flex-basis: 100%; flex: 1; padding: 10px; }\n",
       "    </style>\n",
       "<div class=\"wandb-row\"><div class=\"wandb-col\"><h3>Run history:</h3><br/><table class=\"wandb\"><tr><td>loss</td><td>▃██▆▄▃▁</td></tr></table><br/></div><div class=\"wandb-col\"><h3>Run summary:</h3><br/><table class=\"wandb\"><tr><td>loss</td><td>-2.99805</td></tr></table><br/></div></div>"
      ],
      "text/plain": [
       "<IPython.core.display.HTML object>"
      ]
     },
     "metadata": {},
     "output_type": "display_data"
    },
    {
     "data": {
      "text/html": [
       " View run <strong style=\"color:#cdcd00\">wandering-sweep-5</strong> at: <a href='https://wandb.ai/rohanprasad/idl-project-sun397/runs/o1b3v5p7' target=\"_blank\">https://wandb.ai/rohanprasad/idl-project-sun397/runs/o1b3v5p7</a><br/>Synced 6 W&B file(s), 7 media file(s), 0 artifact file(s) and 0 other file(s)"
      ],
      "text/plain": [
       "<IPython.core.display.HTML object>"
      ]
     },
     "metadata": {},
     "output_type": "display_data"
    },
    {
     "data": {
      "text/html": [
       "Find logs at: <code>./wandb/run-20231205_220850-o1b3v5p7/logs</code>"
      ],
      "text/plain": [
       "<IPython.core.display.HTML object>"
      ]
     },
     "metadata": {},
     "output_type": "display_data"
    },
    {
     "name": "stderr",
     "output_type": "stream",
     "text": [
      "\u001b[34m\u001b[1mwandb\u001b[0m: Agent Starting Run: 895h5hhb with config:\n",
      "\u001b[34m\u001b[1mwandb\u001b[0m: \tchannel: 1\n",
      "\u001b[34m\u001b[1mwandb\u001b[0m: \tlearning_rate: 0.05\n",
      "\u001b[34m\u001b[1mwandb\u001b[0m: \tlinear_probe_layer: layer1_0_relu3\n",
      "\u001b[34m\u001b[1mwandb\u001b[0m: \tmodel: RN50x4\n",
      "\u001b[34m\u001b[1mwandb\u001b[0m: \tnum_iterations: 512\n",
      "\u001b[34m\u001b[1mwandb\u001b[0m: \tobjective: neuron\n",
      "\u001b[34m\u001b[1mwandb\u001b[0m: \toptimizer: AdamW\n",
      "\u001b[34m\u001b[1mwandb\u001b[0m: \trandom_seed: 80119365\n",
      "\u001b[34m\u001b[1mwandb\u001b[0m: \tuse_std_transforms: True\n",
      "\u001b[34m\u001b[1mwandb\u001b[0m: \tuse_transforms: False\n",
      "\u001b[34m\u001b[1mwandb\u001b[0m: \tvisualization_layer: layer4_5_conv3\n"
     ]
    },
    {
     "data": {
      "text/html": [
       "wandb version 0.16.1 is available!  To upgrade, please run:\n",
       " $ pip install wandb --upgrade"
      ],
      "text/plain": [
       "<IPython.core.display.HTML object>"
      ]
     },
     "metadata": {},
     "output_type": "display_data"
    },
    {
     "data": {
      "text/html": [
       "Tracking run with wandb version 0.16.0"
      ],
      "text/plain": [
       "<IPython.core.display.HTML object>"
      ]
     },
     "metadata": {},
     "output_type": "display_data"
    },
    {
     "data": {
      "text/html": [
       "Run data is saved locally in <code>/apps/11785-f23-prj/wandb/run-20231205_220940-895h5hhb</code>"
      ],
      "text/plain": [
       "<IPython.core.display.HTML object>"
      ]
     },
     "metadata": {},
     "output_type": "display_data"
    },
    {
     "data": {
      "text/html": [
       "Syncing run <strong><a href='https://wandb.ai/rohanprasad/idl-project-sun397/runs/895h5hhb' target=\"_blank\">sleek-sweep-6</a></strong> to <a href='https://wandb.ai/rohanprasad/idl-project-sun397' target=\"_blank\">Weights & Biases</a> (<a href='https://wandb.me/run' target=\"_blank\">docs</a>)<br/>Sweep page: <a href='https://wandb.ai/rohanprasad/idl-project-sun397/sweeps/kzps3xpf' target=\"_blank\">https://wandb.ai/rohanprasad/idl-project-sun397/sweeps/kzps3xpf</a>"
      ],
      "text/plain": [
       "<IPython.core.display.HTML object>"
      ]
     },
     "metadata": {},
     "output_type": "display_data"
    },
    {
     "data": {
      "text/html": [
       " View project at <a href='https://wandb.ai/rohanprasad/idl-project-sun397' target=\"_blank\">https://wandb.ai/rohanprasad/idl-project-sun397</a>"
      ],
      "text/plain": [
       "<IPython.core.display.HTML object>"
      ]
     },
     "metadata": {},
     "output_type": "display_data"
    },
    {
     "data": {
      "text/html": [
       " View sweep at <a href='https://wandb.ai/rohanprasad/idl-project-sun397/sweeps/kzps3xpf' target=\"_blank\">https://wandb.ai/rohanprasad/idl-project-sun397/sweeps/kzps3xpf</a>"
      ],
      "text/plain": [
       "<IPython.core.display.HTML object>"
      ]
     },
     "metadata": {},
     "output_type": "display_data"
    },
    {
     "data": {
      "text/html": [
       " View run at <a href='https://wandb.ai/rohanprasad/idl-project-sun397/runs/895h5hhb' target=\"_blank\">https://wandb.ai/rohanprasad/idl-project-sun397/runs/895h5hhb</a>"
      ],
      "text/plain": [
       "<IPython.core.display.HTML object>"
      ]
     },
     "metadata": {},
     "output_type": "display_data"
    },
    {
     "name": "stderr",
     "output_type": "stream",
     "text": [
      "2023-12-05 22:09:50,527 [Thread-599 (] [INFO ]  Starting sweep [ run  895h5hhb ] with config = \n",
      "{'channel': 1, 'learning_rate': 0.05, 'linear_probe_layer': 'layer1_0_relu3', 'model': 'RN50x4', 'num_iterations': 512, 'objective': 'neuron', 'optimizer': 'AdamW', 'random_seed': 80119365, 'use_std_transforms': True, 'use_transforms': False, 'visualization_layer': 'layer4_5_conv3'}\n",
      "2023-12-05 22:09:50,528 [Thread-599 (] [INFO ]  Setting random seed to 80119365\n",
      "2023-12-05 22:09:50,529 [Thread-599 (] [INFO ]  Loading CLIP model [ RN50x4 ].\n",
      "2023-12-05 22:09:54,953 [Thread-599 (] [INFO ]  Finished loading model [ RN50x4 ]\n",
      "2023-12-05 22:09:54,955 [Thread-599 (] [INFO ]  Finished loading transforms [ Compose(\n",
      "    Resize(size=288, interpolation=bicubic, max_size=None, antialias=warn)\n",
      "    CenterCrop(size=(288, 288))\n",
      "    Normalize(mean=(0.48145466, 0.4578275, 0.40821073), std=(0.26862954, 0.26130258, 0.27577711))\n",
      ") ]\n",
      "2023-12-05 22:09:54,956 [Thread-599 (] [INFO ]  Registering hooks.\n",
      "2023-12-05 22:09:54,959 [Thread-599 (] [INFO ]  Finished registering hooks.\n",
      "2023-12-05 22:09:54,963 [Thread-599 (] [INFO ]  Retrieving weights of linear probe [ path = /apps/11785-f23-prj/faceted_visualization/probes/logs/sun397/RN50x4/layer1_0_relu3/version_4_20/model_checkpoint.pth ]\n",
      "2023-12-05 22:09:54,968 [Thread-599 (] [INFO ]  Final list of transforms = [RandomAffine(degrees=[0.0, 0.0], translate=(0.03, 0.03), interpolation=InterpolationMode.NEAREST, fill=0), RandomAffine(degrees=[0.0, 0.0], scale=(0.9, 1.1), interpolation=InterpolationMode.NEAREST, fill=0), RandomRotation(degrees=[-10.0, 10.0], interpolation=InterpolationMode.NEAREST, expand=False, fill=0), RandomAffine(degrees=[0.0, 0.0], translate=(0.015, 0.015), interpolation=InterpolationMode.NEAREST, fill=0)]\n",
      "2023-12-05 22:09:54,969 [Thread-599 (] [INFO ]  Starting optimization process [ run_id = 895h5hhb ]...\n",
      "2023-12-05 22:09:55,019 [Thread-599 (] [INFO ]  Epoch: 1/512: Loss = 2.4960938 :: Learning Rate = 0.0500000\n",
      "2023-12-05 22:09:59,835 [Thread-599 (] [INFO ]  Epoch: 101/512: Loss = -0.8530273 :: Learning Rate = 0.0500000\n",
      "2023-12-05 22:10:04,559 [Thread-599 (] [INFO ]  Epoch: 201/512: Loss = -1.3320312 :: Learning Rate = 0.0500000\n",
      "2023-12-05 22:10:09,270 [Thread-599 (] [INFO ]  Epoch: 301/512: Loss = -2.2226562 :: Learning Rate = 0.0500000\n",
      "2023-12-05 22:10:14,004 [Thread-599 (] [INFO ]  Epoch: 401/512: Loss = -2.3984375 :: Learning Rate = 0.0500000\n",
      "2023-12-05 22:10:18,704 [Thread-599 (] [INFO ]  Epoch: 501/512: Loss = -2.8691406 :: Learning Rate = 0.0500000\n",
      "2023-12-05 22:10:19,247 [Thread-599 (] [INFO ]  Epoch: 512/512: Loss = -4.0820312 :: Learning Rate = 0.0500000\n",
      "2023-12-05 22:10:19,271 [Thread-599 (] [INFO ]  Completed run [ 895h5hhb ]\n"
     ]
    },
    {
     "data": {
      "application/vnd.jupyter.widget-view+json": {
       "model_id": "",
       "version_major": 2,
       "version_minor": 0
      },
      "text/plain": [
       "VBox(children=(Label(value='1.260 MB of 1.260 MB uploaded\\r'), FloatProgress(value=1.0, max=1.0)))"
      ]
     },
     "metadata": {},
     "output_type": "display_data"
    },
    {
     "data": {
      "text/html": [
       "<style>\n",
       "    table.wandb td:nth-child(1) { padding: 0 10px; text-align: left ; width: auto;} td:nth-child(2) {text-align: left ; width: 100%}\n",
       "    .wandb-row { display: flex; flex-direction: row; flex-wrap: wrap; justify-content: flex-start; width: 100% }\n",
       "    .wandb-col { display: flex; flex-direction: column; flex-basis: 100%; flex: 1; padding: 10px; }\n",
       "    </style>\n",
       "<div class=\"wandb-row\"><div class=\"wandb-col\"><h3>Run history:</h3><br/><table class=\"wandb\"><tr><td>loss</td><td>█▄▄▃▃▂▁</td></tr></table><br/></div><div class=\"wandb-col\"><h3>Run summary:</h3><br/><table class=\"wandb\"><tr><td>loss</td><td>-4.08203</td></tr></table><br/></div></div>"
      ],
      "text/plain": [
       "<IPython.core.display.HTML object>"
      ]
     },
     "metadata": {},
     "output_type": "display_data"
    },
    {
     "data": {
      "text/html": [
       " View run <strong style=\"color:#cdcd00\">sleek-sweep-6</strong> at: <a href='https://wandb.ai/rohanprasad/idl-project-sun397/runs/895h5hhb' target=\"_blank\">https://wandb.ai/rohanprasad/idl-project-sun397/runs/895h5hhb</a><br/>Synced 6 W&B file(s), 7 media file(s), 0 artifact file(s) and 0 other file(s)"
      ],
      "text/plain": [
       "<IPython.core.display.HTML object>"
      ]
     },
     "metadata": {},
     "output_type": "display_data"
    },
    {
     "data": {
      "text/html": [
       "Find logs at: <code>./wandb/run-20231205_220940-895h5hhb/logs</code>"
      ],
      "text/plain": [
       "<IPython.core.display.HTML object>"
      ]
     },
     "metadata": {},
     "output_type": "display_data"
    },
    {
     "name": "stderr",
     "output_type": "stream",
     "text": [
      "\u001b[34m\u001b[1mwandb\u001b[0m: Agent Starting Run: 3d3oow14 with config:\n",
      "\u001b[34m\u001b[1mwandb\u001b[0m: \tchannel: 1\n",
      "\u001b[34m\u001b[1mwandb\u001b[0m: \tlearning_rate: 0.05\n",
      "\u001b[34m\u001b[1mwandb\u001b[0m: \tlinear_probe_layer: layer1_0_relu3\n",
      "\u001b[34m\u001b[1mwandb\u001b[0m: \tmodel: RN50x4\n",
      "\u001b[34m\u001b[1mwandb\u001b[0m: \tnum_iterations: 512\n",
      "\u001b[34m\u001b[1mwandb\u001b[0m: \tobjective: channel\n",
      "\u001b[34m\u001b[1mwandb\u001b[0m: \toptimizer: AdamW\n",
      "\u001b[34m\u001b[1mwandb\u001b[0m: \trandom_seed: 80119365\n",
      "\u001b[34m\u001b[1mwandb\u001b[0m: \tuse_std_transforms: True\n",
      "\u001b[34m\u001b[1mwandb\u001b[0m: \tuse_transforms: True\n",
      "\u001b[34m\u001b[1mwandb\u001b[0m: \tvisualization_layer: layer4_5_conv3\n"
     ]
    },
    {
     "data": {
      "text/html": [
       "wandb version 0.16.1 is available!  To upgrade, please run:\n",
       " $ pip install wandb --upgrade"
      ],
      "text/plain": [
       "<IPython.core.display.HTML object>"
      ]
     },
     "metadata": {},
     "output_type": "display_data"
    },
    {
     "data": {
      "text/html": [
       "Tracking run with wandb version 0.16.0"
      ],
      "text/plain": [
       "<IPython.core.display.HTML object>"
      ]
     },
     "metadata": {},
     "output_type": "display_data"
    },
    {
     "data": {
      "text/html": [
       "Run data is saved locally in <code>/apps/11785-f23-prj/wandb/run-20231205_221031-3d3oow14</code>"
      ],
      "text/plain": [
       "<IPython.core.display.HTML object>"
      ]
     },
     "metadata": {},
     "output_type": "display_data"
    },
    {
     "data": {
      "text/html": [
       "Syncing run <strong><a href='https://wandb.ai/rohanprasad/idl-project-sun397/runs/3d3oow14' target=\"_blank\">curious-sweep-7</a></strong> to <a href='https://wandb.ai/rohanprasad/idl-project-sun397' target=\"_blank\">Weights & Biases</a> (<a href='https://wandb.me/run' target=\"_blank\">docs</a>)<br/>Sweep page: <a href='https://wandb.ai/rohanprasad/idl-project-sun397/sweeps/kzps3xpf' target=\"_blank\">https://wandb.ai/rohanprasad/idl-project-sun397/sweeps/kzps3xpf</a>"
      ],
      "text/plain": [
       "<IPython.core.display.HTML object>"
      ]
     },
     "metadata": {},
     "output_type": "display_data"
    },
    {
     "data": {
      "text/html": [
       " View project at <a href='https://wandb.ai/rohanprasad/idl-project-sun397' target=\"_blank\">https://wandb.ai/rohanprasad/idl-project-sun397</a>"
      ],
      "text/plain": [
       "<IPython.core.display.HTML object>"
      ]
     },
     "metadata": {},
     "output_type": "display_data"
    },
    {
     "data": {
      "text/html": [
       " View sweep at <a href='https://wandb.ai/rohanprasad/idl-project-sun397/sweeps/kzps3xpf' target=\"_blank\">https://wandb.ai/rohanprasad/idl-project-sun397/sweeps/kzps3xpf</a>"
      ],
      "text/plain": [
       "<IPython.core.display.HTML object>"
      ]
     },
     "metadata": {},
     "output_type": "display_data"
    },
    {
     "data": {
      "text/html": [
       " View run at <a href='https://wandb.ai/rohanprasad/idl-project-sun397/runs/3d3oow14' target=\"_blank\">https://wandb.ai/rohanprasad/idl-project-sun397/runs/3d3oow14</a>"
      ],
      "text/plain": [
       "<IPython.core.display.HTML object>"
      ]
     },
     "metadata": {},
     "output_type": "display_data"
    },
    {
     "name": "stderr",
     "output_type": "stream",
     "text": [
      "2023-12-05 22:10:41,661 [Thread-602 (] [INFO ]  Starting sweep [ run  3d3oow14 ] with config = \n",
      "{'channel': 1, 'learning_rate': 0.05, 'linear_probe_layer': 'layer1_0_relu3', 'model': 'RN50x4', 'num_iterations': 512, 'objective': 'channel', 'optimizer': 'AdamW', 'random_seed': 80119365, 'use_std_transforms': True, 'use_transforms': True, 'visualization_layer': 'layer4_5_conv3'}\n",
      "2023-12-05 22:10:41,662 [Thread-602 (] [INFO ]  Setting random seed to 80119365\n",
      "2023-12-05 22:10:41,663 [Thread-602 (] [INFO ]  Loading CLIP model [ RN50x4 ].\n",
      "2023-12-05 22:10:46,086 [Thread-602 (] [INFO ]  Finished loading model [ RN50x4 ]\n",
      "2023-12-05 22:10:46,087 [Thread-602 (] [INFO ]  Finished loading transforms [ Compose(\n",
      "    Resize(size=288, interpolation=bicubic, max_size=None, antialias=warn)\n",
      "    CenterCrop(size=(288, 288))\n",
      "    Normalize(mean=(0.48145466, 0.4578275, 0.40821073), std=(0.26862954, 0.26130258, 0.27577711))\n",
      ") ]\n",
      "2023-12-05 22:10:46,089 [Thread-602 (] [INFO ]  Registering hooks.\n",
      "2023-12-05 22:10:46,091 [Thread-602 (] [INFO ]  Finished registering hooks.\n",
      "2023-12-05 22:10:46,095 [Thread-602 (] [INFO ]  Retrieving weights of linear probe [ path = /apps/11785-f23-prj/faceted_visualization/probes/logs/sun397/RN50x4/layer1_0_relu3/version_4_20/model_checkpoint.pth ]\n",
      "2023-12-05 22:10:46,101 [Thread-602 (] [INFO ]  Final list of transforms = [Resize(size=288, interpolation=bicubic, max_size=None, antialias=warn), CenterCrop(size=(288, 288)), Normalize(mean=(0.48145466, 0.4578275, 0.40821073), std=(0.26862954, 0.26130258, 0.27577711)), RandomAffine(degrees=[0.0, 0.0], translate=(0.03, 0.03), interpolation=InterpolationMode.NEAREST, fill=0), RandomAffine(degrees=[0.0, 0.0], scale=(0.9, 1.1), interpolation=InterpolationMode.NEAREST, fill=0), RandomRotation(degrees=[-10.0, 10.0], interpolation=InterpolationMode.NEAREST, expand=False, fill=0), RandomAffine(degrees=[0.0, 0.0], translate=(0.015, 0.015), interpolation=InterpolationMode.NEAREST, fill=0)]\n",
      "2023-12-05 22:10:46,102 [Thread-602 (] [INFO ]  Starting optimization process [ run_id = 3d3oow14 ]...\n",
      "/opt/conda/lib/python3.10/site-packages/torchvision/transforms/functional.py:1603: UserWarning: The default value of the antialias parameter of all the resizing transforms (Resize(), RandomResizedCrop(), etc.) will change from None to True in v0.17, in order to be consistent across the PIL and Tensor backends. To suppress this warning, directly pass antialias=True (recommended, future default), antialias=None (current default, which means False for Tensors and True for PIL), or antialias=False (only works on Tensors - PIL will still use antialiasing). This also applies if you are using the inference transforms from the models weights: update the call to weights.transforms(antialias=True).\n",
      "  warnings.warn(\n",
      "2023-12-05 22:10:46,150 [Thread-602 (] [INFO ]  Epoch: 1/512: Loss = -2.5195312 :: Learning Rate = 0.0500000\n",
      "2023-12-05 22:10:50,943 [Thread-602 (] [INFO ]  Epoch: 101/512: Loss = -0.1057739 :: Learning Rate = 0.0500000\n",
      "2023-12-05 22:10:55,715 [Thread-602 (] [INFO ]  Epoch: 201/512: Loss = 0.3603516 :: Learning Rate = 0.0500000\n",
      "2023-12-05 22:11:00,627 [Thread-602 (] [INFO ]  Epoch: 301/512: Loss = -2.9238281 :: Learning Rate = 0.0500000\n",
      "2023-12-05 22:11:05,428 [Thread-602 (] [INFO ]  Epoch: 401/512: Loss = -0.7084961 :: Learning Rate = 0.0500000\n",
      "2023-12-05 22:11:10,175 [Thread-602 (] [INFO ]  Epoch: 501/512: Loss = -1.4023438 :: Learning Rate = 0.0500000\n",
      "2023-12-05 22:11:10,716 [Thread-602 (] [INFO ]  Epoch: 512/512: Loss = 1.6757812 :: Learning Rate = 0.0500000\n",
      "2023-12-05 22:11:10,739 [Thread-602 (] [INFO ]  Completed run [ 3d3oow14 ]\n"
     ]
    },
    {
     "data": {
      "application/vnd.jupyter.widget-view+json": {
       "model_id": "",
       "version_major": 2,
       "version_minor": 0
      },
      "text/plain": [
       "VBox(children=(Label(value='1.257 MB of 1.279 MB uploaded\\r'), FloatProgress(value=0.9830771066012556, max=1.0…"
      ]
     },
     "metadata": {},
     "output_type": "display_data"
    },
    {
     "data": {
      "text/html": [
       "<style>\n",
       "    table.wandb td:nth-child(1) { padding: 0 10px; text-align: left ; width: auto;} td:nth-child(2) {text-align: left ; width: 100%}\n",
       "    .wandb-row { display: flex; flex-direction: row; flex-wrap: wrap; justify-content: flex-start; width: 100% }\n",
       "    .wandb-col { display: flex; flex-direction: column; flex-basis: 100%; flex: 1; padding: 10px; }\n",
       "    </style>\n",
       "<div class=\"wandb-row\"><div class=\"wandb-col\"><h3>Run history:</h3><br/><table class=\"wandb\"><tr><td>loss</td><td>▂▅▆▁▄▃█</td></tr></table><br/></div><div class=\"wandb-col\"><h3>Run summary:</h3><br/><table class=\"wandb\"><tr><td>loss</td><td>1.67578</td></tr></table><br/></div></div>"
      ],
      "text/plain": [
       "<IPython.core.display.HTML object>"
      ]
     },
     "metadata": {},
     "output_type": "display_data"
    },
    {
     "data": {
      "text/html": [
       " View run <strong style=\"color:#cdcd00\">curious-sweep-7</strong> at: <a href='https://wandb.ai/rohanprasad/idl-project-sun397/runs/3d3oow14' target=\"_blank\">https://wandb.ai/rohanprasad/idl-project-sun397/runs/3d3oow14</a><br/>Synced 6 W&B file(s), 7 media file(s), 0 artifact file(s) and 0 other file(s)"
      ],
      "text/plain": [
       "<IPython.core.display.HTML object>"
      ]
     },
     "metadata": {},
     "output_type": "display_data"
    },
    {
     "data": {
      "text/html": [
       "Find logs at: <code>./wandb/run-20231205_221031-3d3oow14/logs</code>"
      ],
      "text/plain": [
       "<IPython.core.display.HTML object>"
      ]
     },
     "metadata": {},
     "output_type": "display_data"
    },
    {
     "name": "stderr",
     "output_type": "stream",
     "text": [
      "\u001b[34m\u001b[1mwandb\u001b[0m: Agent Starting Run: g6d44aqa with config:\n",
      "\u001b[34m\u001b[1mwandb\u001b[0m: \tchannel: 1\n",
      "\u001b[34m\u001b[1mwandb\u001b[0m: \tlearning_rate: 0.05\n",
      "\u001b[34m\u001b[1mwandb\u001b[0m: \tlinear_probe_layer: layer1_0_relu3\n",
      "\u001b[34m\u001b[1mwandb\u001b[0m: \tmodel: RN50x4\n",
      "\u001b[34m\u001b[1mwandb\u001b[0m: \tnum_iterations: 512\n",
      "\u001b[34m\u001b[1mwandb\u001b[0m: \tobjective: channel\n",
      "\u001b[34m\u001b[1mwandb\u001b[0m: \toptimizer: AdamW\n",
      "\u001b[34m\u001b[1mwandb\u001b[0m: \trandom_seed: 80119365\n",
      "\u001b[34m\u001b[1mwandb\u001b[0m: \tuse_std_transforms: True\n",
      "\u001b[34m\u001b[1mwandb\u001b[0m: \tuse_transforms: False\n",
      "\u001b[34m\u001b[1mwandb\u001b[0m: \tvisualization_layer: layer4_5_conv3\n"
     ]
    },
    {
     "data": {
      "text/html": [
       "wandb version 0.16.1 is available!  To upgrade, please run:\n",
       " $ pip install wandb --upgrade"
      ],
      "text/plain": [
       "<IPython.core.display.HTML object>"
      ]
     },
     "metadata": {},
     "output_type": "display_data"
    },
    {
     "data": {
      "text/html": [
       "Tracking run with wandb version 0.16.0"
      ],
      "text/plain": [
       "<IPython.core.display.HTML object>"
      ]
     },
     "metadata": {},
     "output_type": "display_data"
    },
    {
     "data": {
      "text/html": [
       "Run data is saved locally in <code>/apps/11785-f23-prj/wandb/run-20231205_221122-g6d44aqa</code>"
      ],
      "text/plain": [
       "<IPython.core.display.HTML object>"
      ]
     },
     "metadata": {},
     "output_type": "display_data"
    },
    {
     "data": {
      "text/html": [
       "Syncing run <strong><a href='https://wandb.ai/rohanprasad/idl-project-sun397/runs/g6d44aqa' target=\"_blank\">peach-sweep-8</a></strong> to <a href='https://wandb.ai/rohanprasad/idl-project-sun397' target=\"_blank\">Weights & Biases</a> (<a href='https://wandb.me/run' target=\"_blank\">docs</a>)<br/>Sweep page: <a href='https://wandb.ai/rohanprasad/idl-project-sun397/sweeps/kzps3xpf' target=\"_blank\">https://wandb.ai/rohanprasad/idl-project-sun397/sweeps/kzps3xpf</a>"
      ],
      "text/plain": [
       "<IPython.core.display.HTML object>"
      ]
     },
     "metadata": {},
     "output_type": "display_data"
    },
    {
     "data": {
      "text/html": [
       " View project at <a href='https://wandb.ai/rohanprasad/idl-project-sun397' target=\"_blank\">https://wandb.ai/rohanprasad/idl-project-sun397</a>"
      ],
      "text/plain": [
       "<IPython.core.display.HTML object>"
      ]
     },
     "metadata": {},
     "output_type": "display_data"
    },
    {
     "data": {
      "text/html": [
       " View sweep at <a href='https://wandb.ai/rohanprasad/idl-project-sun397/sweeps/kzps3xpf' target=\"_blank\">https://wandb.ai/rohanprasad/idl-project-sun397/sweeps/kzps3xpf</a>"
      ],
      "text/plain": [
       "<IPython.core.display.HTML object>"
      ]
     },
     "metadata": {},
     "output_type": "display_data"
    },
    {
     "data": {
      "text/html": [
       " View run at <a href='https://wandb.ai/rohanprasad/idl-project-sun397/runs/g6d44aqa' target=\"_blank\">https://wandb.ai/rohanprasad/idl-project-sun397/runs/g6d44aqa</a>"
      ],
      "text/plain": [
       "<IPython.core.display.HTML object>"
      ]
     },
     "metadata": {},
     "output_type": "display_data"
    },
    {
     "name": "stderr",
     "output_type": "stream",
     "text": [
      "2023-12-05 22:11:32,380 [Thread-605 (] [INFO ]  Starting sweep [ run  g6d44aqa ] with config = \n",
      "{'channel': 1, 'learning_rate': 0.05, 'linear_probe_layer': 'layer1_0_relu3', 'model': 'RN50x4', 'num_iterations': 512, 'objective': 'channel', 'optimizer': 'AdamW', 'random_seed': 80119365, 'use_std_transforms': True, 'use_transforms': False, 'visualization_layer': 'layer4_5_conv3'}\n",
      "2023-12-05 22:11:32,381 [Thread-605 (] [INFO ]  Setting random seed to 80119365\n",
      "2023-12-05 22:11:32,383 [Thread-605 (] [INFO ]  Loading CLIP model [ RN50x4 ].\n",
      "2023-12-05 22:11:36,817 [Thread-605 (] [INFO ]  Finished loading model [ RN50x4 ]\n",
      "2023-12-05 22:11:36,819 [Thread-605 (] [INFO ]  Finished loading transforms [ Compose(\n",
      "    Resize(size=288, interpolation=bicubic, max_size=None, antialias=warn)\n",
      "    CenterCrop(size=(288, 288))\n",
      "    Normalize(mean=(0.48145466, 0.4578275, 0.40821073), std=(0.26862954, 0.26130258, 0.27577711))\n",
      ") ]\n",
      "2023-12-05 22:11:36,820 [Thread-605 (] [INFO ]  Registering hooks.\n",
      "2023-12-05 22:11:36,823 [Thread-605 (] [INFO ]  Finished registering hooks.\n",
      "2023-12-05 22:11:36,827 [Thread-605 (] [INFO ]  Retrieving weights of linear probe [ path = /apps/11785-f23-prj/faceted_visualization/probes/logs/sun397/RN50x4/layer1_0_relu3/version_4_20/model_checkpoint.pth ]\n",
      "2023-12-05 22:11:36,833 [Thread-605 (] [INFO ]  Final list of transforms = [RandomAffine(degrees=[0.0, 0.0], translate=(0.03, 0.03), interpolation=InterpolationMode.NEAREST, fill=0), RandomAffine(degrees=[0.0, 0.0], scale=(0.9, 1.1), interpolation=InterpolationMode.NEAREST, fill=0), RandomRotation(degrees=[-10.0, 10.0], interpolation=InterpolationMode.NEAREST, expand=False, fill=0), RandomAffine(degrees=[0.0, 0.0], translate=(0.015, 0.015), interpolation=InterpolationMode.NEAREST, fill=0)]\n",
      "2023-12-05 22:11:36,834 [Thread-605 (] [INFO ]  Starting optimization process [ run_id = g6d44aqa ]...\n",
      "2023-12-05 22:11:36,883 [Thread-605 (] [INFO ]  Epoch: 1/512: Loss = 2.5195312 :: Learning Rate = 0.0500000\n",
      "2023-12-05 22:11:41,670 [Thread-605 (] [INFO ]  Epoch: 101/512: Loss = -0.3896484 :: Learning Rate = 0.0500000\n",
      "2023-12-05 22:11:46,408 [Thread-605 (] [INFO ]  Epoch: 201/512: Loss = -0.8466797 :: Learning Rate = 0.0500000\n",
      "2023-12-05 22:11:51,163 [Thread-605 (] [INFO ]  Epoch: 301/512: Loss = -1.2490234 :: Learning Rate = 0.0500000\n",
      "2023-12-05 22:11:55,938 [Thread-605 (] [INFO ]  Epoch: 401/512: Loss = -0.8593750 :: Learning Rate = 0.0500000\n",
      "2023-12-05 22:12:00,681 [Thread-605 (] [INFO ]  Epoch: 501/512: Loss = -1.3251953 :: Learning Rate = 0.0500000\n",
      "2023-12-05 22:12:01,232 [Thread-605 (] [INFO ]  Epoch: 512/512: Loss = -2.5644531 :: Learning Rate = 0.0500000\n",
      "2023-12-05 22:12:01,255 [Thread-605 (] [INFO ]  Completed run [ g6d44aqa ]\n"
     ]
    },
    {
     "data": {
      "application/vnd.jupyter.widget-view+json": {
       "model_id": "",
       "version_major": 2,
       "version_minor": 0
      },
      "text/plain": [
       "VBox(children=(Label(value='1.283 MB of 1.283 MB uploaded\\r'), FloatProgress(value=1.0, max=1.0)))"
      ]
     },
     "metadata": {},
     "output_type": "display_data"
    },
    {
     "data": {
      "text/html": [
       "<style>\n",
       "    table.wandb td:nth-child(1) { padding: 0 10px; text-align: left ; width: auto;} td:nth-child(2) {text-align: left ; width: 100%}\n",
       "    .wandb-row { display: flex; flex-direction: row; flex-wrap: wrap; justify-content: flex-start; width: 100% }\n",
       "    .wandb-col { display: flex; flex-direction: column; flex-basis: 100%; flex: 1; padding: 10px; }\n",
       "    </style>\n",
       "<div class=\"wandb-row\"><div class=\"wandb-col\"><h3>Run history:</h3><br/><table class=\"wandb\"><tr><td>loss</td><td>█▄▃▃▃▃▁</td></tr></table><br/></div><div class=\"wandb-col\"><h3>Run summary:</h3><br/><table class=\"wandb\"><tr><td>loss</td><td>-2.56445</td></tr></table><br/></div></div>"
      ],
      "text/plain": [
       "<IPython.core.display.HTML object>"
      ]
     },
     "metadata": {},
     "output_type": "display_data"
    },
    {
     "data": {
      "text/html": [
       " View run <strong style=\"color:#cdcd00\">peach-sweep-8</strong> at: <a href='https://wandb.ai/rohanprasad/idl-project-sun397/runs/g6d44aqa' target=\"_blank\">https://wandb.ai/rohanprasad/idl-project-sun397/runs/g6d44aqa</a><br/>Synced 6 W&B file(s), 7 media file(s), 0 artifact file(s) and 0 other file(s)"
      ],
      "text/plain": [
       "<IPython.core.display.HTML object>"
      ]
     },
     "metadata": {},
     "output_type": "display_data"
    },
    {
     "data": {
      "text/html": [
       "Find logs at: <code>./wandb/run-20231205_221122-g6d44aqa/logs</code>"
      ],
      "text/plain": [
       "<IPython.core.display.HTML object>"
      ]
     },
     "metadata": {},
     "output_type": "display_data"
    },
    {
     "name": "stderr",
     "output_type": "stream",
     "text": [
      "\u001b[34m\u001b[1mwandb\u001b[0m: Agent Starting Run: exyiwa47 with config:\n",
      "\u001b[34m\u001b[1mwandb\u001b[0m: \tchannel: 1\n",
      "\u001b[34m\u001b[1mwandb\u001b[0m: \tlearning_rate: 0.05\n",
      "\u001b[34m\u001b[1mwandb\u001b[0m: \tlinear_probe_layer: layer1_3_conv3\n",
      "\u001b[34m\u001b[1mwandb\u001b[0m: \tmodel: RN50x4\n",
      "\u001b[34m\u001b[1mwandb\u001b[0m: \tnum_iterations: 512\n",
      "\u001b[34m\u001b[1mwandb\u001b[0m: \tobjective: neuron\n",
      "\u001b[34m\u001b[1mwandb\u001b[0m: \toptimizer: AdamW\n",
      "\u001b[34m\u001b[1mwandb\u001b[0m: \trandom_seed: 80119365\n",
      "\u001b[34m\u001b[1mwandb\u001b[0m: \tuse_std_transforms: True\n",
      "\u001b[34m\u001b[1mwandb\u001b[0m: \tuse_transforms: True\n",
      "\u001b[34m\u001b[1mwandb\u001b[0m: \tvisualization_layer: layer4_5_conv3\n"
     ]
    },
    {
     "data": {
      "text/html": [
       "wandb version 0.16.1 is available!  To upgrade, please run:\n",
       " $ pip install wandb --upgrade"
      ],
      "text/plain": [
       "<IPython.core.display.HTML object>"
      ]
     },
     "metadata": {},
     "output_type": "display_data"
    },
    {
     "data": {
      "text/html": [
       "Tracking run with wandb version 0.16.0"
      ],
      "text/plain": [
       "<IPython.core.display.HTML object>"
      ]
     },
     "metadata": {},
     "output_type": "display_data"
    },
    {
     "data": {
      "text/html": [
       "Run data is saved locally in <code>/apps/11785-f23-prj/wandb/run-20231205_221208-exyiwa47</code>"
      ],
      "text/plain": [
       "<IPython.core.display.HTML object>"
      ]
     },
     "metadata": {},
     "output_type": "display_data"
    },
    {
     "data": {
      "text/html": [
       "Syncing run <strong><a href='https://wandb.ai/rohanprasad/idl-project-sun397/runs/exyiwa47' target=\"_blank\">wobbly-sweep-9</a></strong> to <a href='https://wandb.ai/rohanprasad/idl-project-sun397' target=\"_blank\">Weights & Biases</a> (<a href='https://wandb.me/run' target=\"_blank\">docs</a>)<br/>Sweep page: <a href='https://wandb.ai/rohanprasad/idl-project-sun397/sweeps/kzps3xpf' target=\"_blank\">https://wandb.ai/rohanprasad/idl-project-sun397/sweeps/kzps3xpf</a>"
      ],
      "text/plain": [
       "<IPython.core.display.HTML object>"
      ]
     },
     "metadata": {},
     "output_type": "display_data"
    },
    {
     "data": {
      "text/html": [
       " View project at <a href='https://wandb.ai/rohanprasad/idl-project-sun397' target=\"_blank\">https://wandb.ai/rohanprasad/idl-project-sun397</a>"
      ],
      "text/plain": [
       "<IPython.core.display.HTML object>"
      ]
     },
     "metadata": {},
     "output_type": "display_data"
    },
    {
     "data": {
      "text/html": [
       " View sweep at <a href='https://wandb.ai/rohanprasad/idl-project-sun397/sweeps/kzps3xpf' target=\"_blank\">https://wandb.ai/rohanprasad/idl-project-sun397/sweeps/kzps3xpf</a>"
      ],
      "text/plain": [
       "<IPython.core.display.HTML object>"
      ]
     },
     "metadata": {},
     "output_type": "display_data"
    },
    {
     "data": {
      "text/html": [
       " View run at <a href='https://wandb.ai/rohanprasad/idl-project-sun397/runs/exyiwa47' target=\"_blank\">https://wandb.ai/rohanprasad/idl-project-sun397/runs/exyiwa47</a>"
      ],
      "text/plain": [
       "<IPython.core.display.HTML object>"
      ]
     },
     "metadata": {},
     "output_type": "display_data"
    },
    {
     "name": "stderr",
     "output_type": "stream",
     "text": [
      "2023-12-05 22:12:18,407 [Thread-608 (] [INFO ]  Starting sweep [ run  exyiwa47 ] with config = \n",
      "{'channel': 1, 'learning_rate': 0.05, 'linear_probe_layer': 'layer1_3_conv3', 'model': 'RN50x4', 'num_iterations': 512, 'objective': 'neuron', 'optimizer': 'AdamW', 'random_seed': 80119365, 'use_std_transforms': True, 'use_transforms': True, 'visualization_layer': 'layer4_5_conv3'}\n",
      "2023-12-05 22:12:18,408 [Thread-608 (] [INFO ]  Setting random seed to 80119365\n",
      "2023-12-05 22:12:18,409 [Thread-608 (] [INFO ]  Loading CLIP model [ RN50x4 ].\n",
      "2023-12-05 22:12:22,837 [Thread-608 (] [INFO ]  Finished loading model [ RN50x4 ]\n",
      "2023-12-05 22:12:22,839 [Thread-608 (] [INFO ]  Finished loading transforms [ Compose(\n",
      "    Resize(size=288, interpolation=bicubic, max_size=None, antialias=warn)\n",
      "    CenterCrop(size=(288, 288))\n",
      "    Normalize(mean=(0.48145466, 0.4578275, 0.40821073), std=(0.26862954, 0.26130258, 0.27577711))\n",
      ") ]\n",
      "2023-12-05 22:12:22,840 [Thread-608 (] [INFO ]  Registering hooks.\n",
      "2023-12-05 22:12:22,842 [Thread-608 (] [INFO ]  Finished registering hooks.\n",
      "2023-12-05 22:12:22,847 [Thread-608 (] [INFO ]  Retrieving weights of linear probe [ path = /apps/11785-f23-prj/faceted_visualization/probes/logs/sun397/RN50x4/layer1_3_conv3/version_4_20/model_checkpoint.pth ]\n",
      "2023-12-05 22:12:22,852 [Thread-608 (] [INFO ]  Final list of transforms = [Resize(size=288, interpolation=bicubic, max_size=None, antialias=warn), CenterCrop(size=(288, 288)), Normalize(mean=(0.48145466, 0.4578275, 0.40821073), std=(0.26862954, 0.26130258, 0.27577711)), RandomAffine(degrees=[0.0, 0.0], translate=(0.03, 0.03), interpolation=InterpolationMode.NEAREST, fill=0), RandomAffine(degrees=[0.0, 0.0], scale=(0.9, 1.1), interpolation=InterpolationMode.NEAREST, fill=0), RandomRotation(degrees=[-10.0, 10.0], interpolation=InterpolationMode.NEAREST, expand=False, fill=0), RandomAffine(degrees=[0.0, 0.0], translate=(0.015, 0.015), interpolation=InterpolationMode.NEAREST, fill=0)]\n",
      "2023-12-05 22:12:22,853 [Thread-608 (] [INFO ]  Starting optimization process [ run_id = exyiwa47 ]...\n",
      "/opt/conda/lib/python3.10/site-packages/torchvision/transforms/functional.py:1603: UserWarning: The default value of the antialias parameter of all the resizing transforms (Resize(), RandomResizedCrop(), etc.) will change from None to True in v0.17, in order to be consistent across the PIL and Tensor backends. To suppress this warning, directly pass antialias=True (recommended, future default), antialias=None (current default, which means False for Tensors and True for PIL), or antialias=False (only works on Tensors - PIL will still use antialiasing). This also applies if you are using the inference transforms from the models weights: update the call to weights.transforms(antialias=True).\n",
      "  warnings.warn(\n",
      "2023-12-05 22:12:22,901 [Thread-608 (] [INFO ]  Epoch: 1/512: Loss = 0.0682983 :: Learning Rate = 0.0500000\n",
      "2023-12-05 22:12:27,680 [Thread-608 (] [INFO ]  Epoch: 101/512: Loss = -0.7636719 :: Learning Rate = 0.0500000\n",
      "2023-12-05 22:12:32,419 [Thread-608 (] [INFO ]  Epoch: 201/512: Loss = -1.5009766 :: Learning Rate = 0.0500000\n",
      "2023-12-05 22:12:37,127 [Thread-608 (] [INFO ]  Epoch: 301/512: Loss = -1.6542969 :: Learning Rate = 0.0500000\n",
      "2023-12-05 22:12:41,822 [Thread-608 (] [INFO ]  Epoch: 401/512: Loss = -1.7021484 :: Learning Rate = 0.0500000\n",
      "2023-12-05 22:12:46,508 [Thread-608 (] [INFO ]  Epoch: 501/512: Loss = -1.9257812 :: Learning Rate = 0.0500000\n",
      "2023-12-05 22:12:47,046 [Thread-608 (] [INFO ]  Epoch: 512/512: Loss = -1.8144531 :: Learning Rate = 0.0500000\n",
      "2023-12-05 22:12:47,070 [Thread-608 (] [INFO ]  Completed run [ exyiwa47 ]\n"
     ]
    },
    {
     "data": {
      "application/vnd.jupyter.widget-view+json": {
       "model_id": "",
       "version_major": 2,
       "version_minor": 0
      },
      "text/plain": [
       "VBox(children=(Label(value='1.200 MB of 1.200 MB uploaded\\r'), FloatProgress(value=1.0, max=1.0)))"
      ]
     },
     "metadata": {},
     "output_type": "display_data"
    },
    {
     "data": {
      "text/html": [
       "<style>\n",
       "    table.wandb td:nth-child(1) { padding: 0 10px; text-align: left ; width: auto;} td:nth-child(2) {text-align: left ; width: 100%}\n",
       "    .wandb-row { display: flex; flex-direction: row; flex-wrap: wrap; justify-content: flex-start; width: 100% }\n",
       "    .wandb-col { display: flex; flex-direction: column; flex-basis: 100%; flex: 1; padding: 10px; }\n",
       "    </style>\n",
       "<div class=\"wandb-row\"><div class=\"wandb-col\"><h3>Run history:</h3><br/><table class=\"wandb\"><tr><td>loss</td><td>█▅▂▂▂▁▁</td></tr></table><br/></div><div class=\"wandb-col\"><h3>Run summary:</h3><br/><table class=\"wandb\"><tr><td>loss</td><td>-1.81445</td></tr></table><br/></div></div>"
      ],
      "text/plain": [
       "<IPython.core.display.HTML object>"
      ]
     },
     "metadata": {},
     "output_type": "display_data"
    },
    {
     "data": {
      "text/html": [
       " View run <strong style=\"color:#cdcd00\">wobbly-sweep-9</strong> at: <a href='https://wandb.ai/rohanprasad/idl-project-sun397/runs/exyiwa47' target=\"_blank\">https://wandb.ai/rohanprasad/idl-project-sun397/runs/exyiwa47</a><br/>Synced 6 W&B file(s), 7 media file(s), 0 artifact file(s) and 0 other file(s)"
      ],
      "text/plain": [
       "<IPython.core.display.HTML object>"
      ]
     },
     "metadata": {},
     "output_type": "display_data"
    },
    {
     "data": {
      "text/html": [
       "Find logs at: <code>./wandb/run-20231205_221208-exyiwa47/logs</code>"
      ],
      "text/plain": [
       "<IPython.core.display.HTML object>"
      ]
     },
     "metadata": {},
     "output_type": "display_data"
    },
    {
     "name": "stderr",
     "output_type": "stream",
     "text": [
      "\u001b[34m\u001b[1mwandb\u001b[0m: Agent Starting Run: 6eucul1t with config:\n",
      "\u001b[34m\u001b[1mwandb\u001b[0m: \tchannel: 1\n",
      "\u001b[34m\u001b[1mwandb\u001b[0m: \tlearning_rate: 0.05\n",
      "\u001b[34m\u001b[1mwandb\u001b[0m: \tlinear_probe_layer: layer1_3_conv3\n",
      "\u001b[34m\u001b[1mwandb\u001b[0m: \tmodel: RN50x4\n",
      "\u001b[34m\u001b[1mwandb\u001b[0m: \tnum_iterations: 512\n",
      "\u001b[34m\u001b[1mwandb\u001b[0m: \tobjective: neuron\n",
      "\u001b[34m\u001b[1mwandb\u001b[0m: \toptimizer: AdamW\n",
      "\u001b[34m\u001b[1mwandb\u001b[0m: \trandom_seed: 80119365\n",
      "\u001b[34m\u001b[1mwandb\u001b[0m: \tuse_std_transforms: True\n",
      "\u001b[34m\u001b[1mwandb\u001b[0m: \tuse_transforms: False\n",
      "\u001b[34m\u001b[1mwandb\u001b[0m: \tvisualization_layer: layer4_5_conv3\n"
     ]
    },
    {
     "data": {
      "text/html": [
       "wandb version 0.16.1 is available!  To upgrade, please run:\n",
       " $ pip install wandb --upgrade"
      ],
      "text/plain": [
       "<IPython.core.display.HTML object>"
      ]
     },
     "metadata": {},
     "output_type": "display_data"
    },
    {
     "data": {
      "text/html": [
       "Tracking run with wandb version 0.16.0"
      ],
      "text/plain": [
       "<IPython.core.display.HTML object>"
      ]
     },
     "metadata": {},
     "output_type": "display_data"
    },
    {
     "data": {
      "text/html": [
       "Run data is saved locally in <code>/apps/11785-f23-prj/wandb/run-20231205_221258-6eucul1t</code>"
      ],
      "text/plain": [
       "<IPython.core.display.HTML object>"
      ]
     },
     "metadata": {},
     "output_type": "display_data"
    },
    {
     "data": {
      "text/html": [
       "Syncing run <strong><a href='https://wandb.ai/rohanprasad/idl-project-sun397/runs/6eucul1t' target=\"_blank\">devoted-sweep-10</a></strong> to <a href='https://wandb.ai/rohanprasad/idl-project-sun397' target=\"_blank\">Weights & Biases</a> (<a href='https://wandb.me/run' target=\"_blank\">docs</a>)<br/>Sweep page: <a href='https://wandb.ai/rohanprasad/idl-project-sun397/sweeps/kzps3xpf' target=\"_blank\">https://wandb.ai/rohanprasad/idl-project-sun397/sweeps/kzps3xpf</a>"
      ],
      "text/plain": [
       "<IPython.core.display.HTML object>"
      ]
     },
     "metadata": {},
     "output_type": "display_data"
    },
    {
     "data": {
      "text/html": [
       " View project at <a href='https://wandb.ai/rohanprasad/idl-project-sun397' target=\"_blank\">https://wandb.ai/rohanprasad/idl-project-sun397</a>"
      ],
      "text/plain": [
       "<IPython.core.display.HTML object>"
      ]
     },
     "metadata": {},
     "output_type": "display_data"
    },
    {
     "data": {
      "text/html": [
       " View sweep at <a href='https://wandb.ai/rohanprasad/idl-project-sun397/sweeps/kzps3xpf' target=\"_blank\">https://wandb.ai/rohanprasad/idl-project-sun397/sweeps/kzps3xpf</a>"
      ],
      "text/plain": [
       "<IPython.core.display.HTML object>"
      ]
     },
     "metadata": {},
     "output_type": "display_data"
    },
    {
     "data": {
      "text/html": [
       " View run at <a href='https://wandb.ai/rohanprasad/idl-project-sun397/runs/6eucul1t' target=\"_blank\">https://wandb.ai/rohanprasad/idl-project-sun397/runs/6eucul1t</a>"
      ],
      "text/plain": [
       "<IPython.core.display.HTML object>"
      ]
     },
     "metadata": {},
     "output_type": "display_data"
    },
    {
     "name": "stderr",
     "output_type": "stream",
     "text": [
      "2023-12-05 22:13:08,782 [Thread-611 (] [INFO ]  Starting sweep [ run  6eucul1t ] with config = \n",
      "{'channel': 1, 'learning_rate': 0.05, 'linear_probe_layer': 'layer1_3_conv3', 'model': 'RN50x4', 'num_iterations': 512, 'objective': 'neuron', 'optimizer': 'AdamW', 'random_seed': 80119365, 'use_std_transforms': True, 'use_transforms': False, 'visualization_layer': 'layer4_5_conv3'}\n",
      "2023-12-05 22:13:08,784 [Thread-611 (] [INFO ]  Setting random seed to 80119365\n",
      "2023-12-05 22:13:08,786 [Thread-611 (] [INFO ]  Loading CLIP model [ RN50x4 ].\n",
      "2023-12-05 22:13:13,221 [Thread-611 (] [INFO ]  Finished loading model [ RN50x4 ]\n",
      "2023-12-05 22:13:13,223 [Thread-611 (] [INFO ]  Finished loading transforms [ Compose(\n",
      "    Resize(size=288, interpolation=bicubic, max_size=None, antialias=warn)\n",
      "    CenterCrop(size=(288, 288))\n",
      "    Normalize(mean=(0.48145466, 0.4578275, 0.40821073), std=(0.26862954, 0.26130258, 0.27577711))\n",
      ") ]\n",
      "2023-12-05 22:13:13,224 [Thread-611 (] [INFO ]  Registering hooks.\n",
      "2023-12-05 22:13:13,227 [Thread-611 (] [INFO ]  Finished registering hooks.\n",
      "2023-12-05 22:13:13,231 [Thread-611 (] [INFO ]  Retrieving weights of linear probe [ path = /apps/11785-f23-prj/faceted_visualization/probes/logs/sun397/RN50x4/layer1_3_conv3/version_4_20/model_checkpoint.pth ]\n",
      "2023-12-05 22:13:13,237 [Thread-611 (] [INFO ]  Final list of transforms = [RandomAffine(degrees=[0.0, 0.0], translate=(0.03, 0.03), interpolation=InterpolationMode.NEAREST, fill=0), RandomAffine(degrees=[0.0, 0.0], scale=(0.9, 1.1), interpolation=InterpolationMode.NEAREST, fill=0), RandomRotation(degrees=[-10.0, 10.0], interpolation=InterpolationMode.NEAREST, expand=False, fill=0), RandomAffine(degrees=[0.0, 0.0], translate=(0.015, 0.015), interpolation=InterpolationMode.NEAREST, fill=0)]\n",
      "2023-12-05 22:13:13,238 [Thread-611 (] [INFO ]  Starting optimization process [ run_id = 6eucul1t ]...\n",
      "2023-12-05 22:13:13,286 [Thread-611 (] [INFO ]  Epoch: 1/512: Loss = 0.0081787 :: Learning Rate = 0.0500000\n",
      "2023-12-05 22:13:17,951 [Thread-611 (] [INFO ]  Epoch: 101/512: Loss = -0.7519531 :: Learning Rate = 0.0500000\n",
      "2023-12-05 22:13:22,671 [Thread-611 (] [INFO ]  Epoch: 201/512: Loss = -1.2500000 :: Learning Rate = 0.0500000\n",
      "2023-12-05 22:13:27,345 [Thread-611 (] [INFO ]  Epoch: 301/512: Loss = -1.5136719 :: Learning Rate = 0.0500000\n",
      "2023-12-05 22:13:31,996 [Thread-611 (] [INFO ]  Epoch: 401/512: Loss = -1.3369141 :: Learning Rate = 0.0500000\n",
      "2023-12-05 22:13:36,671 [Thread-611 (] [INFO ]  Epoch: 501/512: Loss = -1.5820312 :: Learning Rate = 0.0500000\n",
      "2023-12-05 22:13:37,207 [Thread-611 (] [INFO ]  Epoch: 512/512: Loss = -1.6337891 :: Learning Rate = 0.0500000\n",
      "2023-12-05 22:13:37,231 [Thread-611 (] [INFO ]  Completed run [ 6eucul1t ]\n"
     ]
    },
    {
     "data": {
      "application/vnd.jupyter.widget-view+json": {
       "model_id": "",
       "version_major": 2,
       "version_minor": 0
      },
      "text/plain": [
       "VBox(children=(Label(value='1.210 MB of 1.210 MB uploaded\\r'), FloatProgress(value=1.0, max=1.0)))"
      ]
     },
     "metadata": {},
     "output_type": "display_data"
    },
    {
     "data": {
      "text/html": [
       "<style>\n",
       "    table.wandb td:nth-child(1) { padding: 0 10px; text-align: left ; width: auto;} td:nth-child(2) {text-align: left ; width: 100%}\n",
       "    .wandb-row { display: flex; flex-direction: row; flex-wrap: wrap; justify-content: flex-start; width: 100% }\n",
       "    .wandb-col { display: flex; flex-direction: column; flex-basis: 100%; flex: 1; padding: 10px; }\n",
       "    </style>\n",
       "<div class=\"wandb-row\"><div class=\"wandb-col\"><h3>Run history:</h3><br/><table class=\"wandb\"><tr><td>loss</td><td>█▅▃▂▂▁▁</td></tr></table><br/></div><div class=\"wandb-col\"><h3>Run summary:</h3><br/><table class=\"wandb\"><tr><td>loss</td><td>-1.63379</td></tr></table><br/></div></div>"
      ],
      "text/plain": [
       "<IPython.core.display.HTML object>"
      ]
     },
     "metadata": {},
     "output_type": "display_data"
    },
    {
     "data": {
      "text/html": [
       " View run <strong style=\"color:#cdcd00\">devoted-sweep-10</strong> at: <a href='https://wandb.ai/rohanprasad/idl-project-sun397/runs/6eucul1t' target=\"_blank\">https://wandb.ai/rohanprasad/idl-project-sun397/runs/6eucul1t</a><br/>Synced 6 W&B file(s), 7 media file(s), 0 artifact file(s) and 0 other file(s)"
      ],
      "text/plain": [
       "<IPython.core.display.HTML object>"
      ]
     },
     "metadata": {},
     "output_type": "display_data"
    },
    {
     "data": {
      "text/html": [
       "Find logs at: <code>./wandb/run-20231205_221258-6eucul1t/logs</code>"
      ],
      "text/plain": [
       "<IPython.core.display.HTML object>"
      ]
     },
     "metadata": {},
     "output_type": "display_data"
    },
    {
     "name": "stderr",
     "output_type": "stream",
     "text": [
      "\u001b[34m\u001b[1mwandb\u001b[0m: Agent Starting Run: vb3a6acq with config:\n",
      "\u001b[34m\u001b[1mwandb\u001b[0m: \tchannel: 1\n",
      "\u001b[34m\u001b[1mwandb\u001b[0m: \tlearning_rate: 0.05\n",
      "\u001b[34m\u001b[1mwandb\u001b[0m: \tlinear_probe_layer: layer1_3_conv3\n",
      "\u001b[34m\u001b[1mwandb\u001b[0m: \tmodel: RN50x4\n",
      "\u001b[34m\u001b[1mwandb\u001b[0m: \tnum_iterations: 512\n",
      "\u001b[34m\u001b[1mwandb\u001b[0m: \tobjective: channel\n",
      "\u001b[34m\u001b[1mwandb\u001b[0m: \toptimizer: AdamW\n",
      "\u001b[34m\u001b[1mwandb\u001b[0m: \trandom_seed: 80119365\n",
      "\u001b[34m\u001b[1mwandb\u001b[0m: \tuse_std_transforms: True\n",
      "\u001b[34m\u001b[1mwandb\u001b[0m: \tuse_transforms: True\n",
      "\u001b[34m\u001b[1mwandb\u001b[0m: \tvisualization_layer: layer4_5_conv3\n"
     ]
    },
    {
     "data": {
      "text/html": [
       "wandb version 0.16.1 is available!  To upgrade, please run:\n",
       " $ pip install wandb --upgrade"
      ],
      "text/plain": [
       "<IPython.core.display.HTML object>"
      ]
     },
     "metadata": {},
     "output_type": "display_data"
    },
    {
     "data": {
      "text/html": [
       "Tracking run with wandb version 0.16.0"
      ],
      "text/plain": [
       "<IPython.core.display.HTML object>"
      ]
     },
     "metadata": {},
     "output_type": "display_data"
    },
    {
     "data": {
      "text/html": [
       "Run data is saved locally in <code>/apps/11785-f23-prj/wandb/run-20231205_221349-vb3a6acq</code>"
      ],
      "text/plain": [
       "<IPython.core.display.HTML object>"
      ]
     },
     "metadata": {},
     "output_type": "display_data"
    },
    {
     "data": {
      "text/html": [
       "Syncing run <strong><a href='https://wandb.ai/rohanprasad/idl-project-sun397/runs/vb3a6acq' target=\"_blank\">iconic-sweep-11</a></strong> to <a href='https://wandb.ai/rohanprasad/idl-project-sun397' target=\"_blank\">Weights & Biases</a> (<a href='https://wandb.me/run' target=\"_blank\">docs</a>)<br/>Sweep page: <a href='https://wandb.ai/rohanprasad/idl-project-sun397/sweeps/kzps3xpf' target=\"_blank\">https://wandb.ai/rohanprasad/idl-project-sun397/sweeps/kzps3xpf</a>"
      ],
      "text/plain": [
       "<IPython.core.display.HTML object>"
      ]
     },
     "metadata": {},
     "output_type": "display_data"
    },
    {
     "data": {
      "text/html": [
       " View project at <a href='https://wandb.ai/rohanprasad/idl-project-sun397' target=\"_blank\">https://wandb.ai/rohanprasad/idl-project-sun397</a>"
      ],
      "text/plain": [
       "<IPython.core.display.HTML object>"
      ]
     },
     "metadata": {},
     "output_type": "display_data"
    },
    {
     "data": {
      "text/html": [
       " View sweep at <a href='https://wandb.ai/rohanprasad/idl-project-sun397/sweeps/kzps3xpf' target=\"_blank\">https://wandb.ai/rohanprasad/idl-project-sun397/sweeps/kzps3xpf</a>"
      ],
      "text/plain": [
       "<IPython.core.display.HTML object>"
      ]
     },
     "metadata": {},
     "output_type": "display_data"
    },
    {
     "data": {
      "text/html": [
       " View run at <a href='https://wandb.ai/rohanprasad/idl-project-sun397/runs/vb3a6acq' target=\"_blank\">https://wandb.ai/rohanprasad/idl-project-sun397/runs/vb3a6acq</a>"
      ],
      "text/plain": [
       "<IPython.core.display.HTML object>"
      ]
     },
     "metadata": {},
     "output_type": "display_data"
    },
    {
     "name": "stderr",
     "output_type": "stream",
     "text": [
      "2023-12-05 22:13:59,743 [Thread-614 (] [INFO ]  Starting sweep [ run  vb3a6acq ] with config = \n",
      "{'channel': 1, 'learning_rate': 0.05, 'linear_probe_layer': 'layer1_3_conv3', 'model': 'RN50x4', 'num_iterations': 512, 'objective': 'channel', 'optimizer': 'AdamW', 'random_seed': 80119365, 'use_std_transforms': True, 'use_transforms': True, 'visualization_layer': 'layer4_5_conv3'}\n",
      "2023-12-05 22:13:59,745 [Thread-614 (] [INFO ]  Setting random seed to 80119365\n",
      "2023-12-05 22:13:59,746 [Thread-614 (] [INFO ]  Loading CLIP model [ RN50x4 ].\n",
      "2023-12-05 22:14:04,208 [Thread-614 (] [INFO ]  Finished loading model [ RN50x4 ]\n",
      "2023-12-05 22:14:04,209 [Thread-614 (] [INFO ]  Finished loading transforms [ Compose(\n",
      "    Resize(size=288, interpolation=bicubic, max_size=None, antialias=warn)\n",
      "    CenterCrop(size=(288, 288))\n",
      "    Normalize(mean=(0.48145466, 0.4578275, 0.40821073), std=(0.26862954, 0.26130258, 0.27577711))\n",
      ") ]\n",
      "2023-12-05 22:14:04,210 [Thread-614 (] [INFO ]  Registering hooks.\n",
      "2023-12-05 22:14:04,213 [Thread-614 (] [INFO ]  Finished registering hooks.\n",
      "2023-12-05 22:14:04,217 [Thread-614 (] [INFO ]  Retrieving weights of linear probe [ path = /apps/11785-f23-prj/faceted_visualization/probes/logs/sun397/RN50x4/layer1_3_conv3/version_4_20/model_checkpoint.pth ]\n",
      "2023-12-05 22:14:04,223 [Thread-614 (] [INFO ]  Final list of transforms = [Resize(size=288, interpolation=bicubic, max_size=None, antialias=warn), CenterCrop(size=(288, 288)), Normalize(mean=(0.48145466, 0.4578275, 0.40821073), std=(0.26862954, 0.26130258, 0.27577711)), RandomAffine(degrees=[0.0, 0.0], translate=(0.03, 0.03), interpolation=InterpolationMode.NEAREST, fill=0), RandomAffine(degrees=[0.0, 0.0], scale=(0.9, 1.1), interpolation=InterpolationMode.NEAREST, fill=0), RandomRotation(degrees=[-10.0, 10.0], interpolation=InterpolationMode.NEAREST, expand=False, fill=0), RandomAffine(degrees=[0.0, 0.0], translate=(0.015, 0.015), interpolation=InterpolationMode.NEAREST, fill=0)]\n",
      "2023-12-05 22:14:04,224 [Thread-614 (] [INFO ]  Starting optimization process [ run_id = vb3a6acq ]...\n",
      "/opt/conda/lib/python3.10/site-packages/torchvision/transforms/functional.py:1603: UserWarning: The default value of the antialias parameter of all the resizing transforms (Resize(), RandomResizedCrop(), etc.) will change from None to True in v0.17, in order to be consistent across the PIL and Tensor backends. To suppress this warning, directly pass antialias=True (recommended, future default), antialias=None (current default, which means False for Tensors and True for PIL), or antialias=False (only works on Tensors - PIL will still use antialiasing). This also applies if you are using the inference transforms from the models weights: update the call to weights.transforms(antialias=True).\n",
      "  warnings.warn(\n",
      "2023-12-05 22:14:04,272 [Thread-614 (] [INFO ]  Epoch: 1/512: Loss = 0.1145630 :: Learning Rate = 0.0500000\n",
      "2023-12-05 22:14:09,049 [Thread-614 (] [INFO ]  Epoch: 101/512: Loss = -0.3098145 :: Learning Rate = 0.0500000\n",
      "2023-12-05 22:14:13,744 [Thread-614 (] [INFO ]  Epoch: 201/512: Loss = -0.4016113 :: Learning Rate = 0.0500000\n",
      "2023-12-05 22:14:18,441 [Thread-614 (] [INFO ]  Epoch: 301/512: Loss = -0.6557617 :: Learning Rate = 0.0500000\n",
      "2023-12-05 22:14:23,173 [Thread-614 (] [INFO ]  Epoch: 401/512: Loss = -0.5180664 :: Learning Rate = 0.0500000\n",
      "2023-12-05 22:14:27,885 [Thread-614 (] [INFO ]  Epoch: 501/512: Loss = -0.7553711 :: Learning Rate = 0.0500000\n",
      "2023-12-05 22:14:28,425 [Thread-614 (] [INFO ]  Epoch: 512/512: Loss = -0.6962891 :: Learning Rate = 0.0500000\n",
      "2023-12-05 22:14:28,449 [Thread-614 (] [INFO ]  Completed run [ vb3a6acq ]\n"
     ]
    },
    {
     "data": {
      "application/vnd.jupyter.widget-view+json": {
       "model_id": "",
       "version_major": 2,
       "version_minor": 0
      },
      "text/plain": [
       "VBox(children=(Label(value='1.313 MB of 1.313 MB uploaded\\r'), FloatProgress(value=1.0, max=1.0)))"
      ]
     },
     "metadata": {},
     "output_type": "display_data"
    },
    {
     "data": {
      "text/html": [
       "<style>\n",
       "    table.wandb td:nth-child(1) { padding: 0 10px; text-align: left ; width: auto;} td:nth-child(2) {text-align: left ; width: 100%}\n",
       "    .wandb-row { display: flex; flex-direction: row; flex-wrap: wrap; justify-content: flex-start; width: 100% }\n",
       "    .wandb-col { display: flex; flex-direction: column; flex-basis: 100%; flex: 1; padding: 10px; }\n",
       "    </style>\n",
       "<div class=\"wandb-row\"><div class=\"wandb-col\"><h3>Run history:</h3><br/><table class=\"wandb\"><tr><td>loss</td><td>█▅▄▂▃▁▁</td></tr></table><br/></div><div class=\"wandb-col\"><h3>Run summary:</h3><br/><table class=\"wandb\"><tr><td>loss</td><td>-0.69629</td></tr></table><br/></div></div>"
      ],
      "text/plain": [
       "<IPython.core.display.HTML object>"
      ]
     },
     "metadata": {},
     "output_type": "display_data"
    },
    {
     "data": {
      "text/html": [
       " View run <strong style=\"color:#cdcd00\">iconic-sweep-11</strong> at: <a href='https://wandb.ai/rohanprasad/idl-project-sun397/runs/vb3a6acq' target=\"_blank\">https://wandb.ai/rohanprasad/idl-project-sun397/runs/vb3a6acq</a><br/>Synced 6 W&B file(s), 7 media file(s), 0 artifact file(s) and 0 other file(s)"
      ],
      "text/plain": [
       "<IPython.core.display.HTML object>"
      ]
     },
     "metadata": {},
     "output_type": "display_data"
    },
    {
     "data": {
      "text/html": [
       "Find logs at: <code>./wandb/run-20231205_221349-vb3a6acq/logs</code>"
      ],
      "text/plain": [
       "<IPython.core.display.HTML object>"
      ]
     },
     "metadata": {},
     "output_type": "display_data"
    },
    {
     "name": "stderr",
     "output_type": "stream",
     "text": [
      "\u001b[34m\u001b[1mwandb\u001b[0m: Agent Starting Run: ff3xmdsk with config:\n",
      "\u001b[34m\u001b[1mwandb\u001b[0m: \tchannel: 1\n",
      "\u001b[34m\u001b[1mwandb\u001b[0m: \tlearning_rate: 0.05\n",
      "\u001b[34m\u001b[1mwandb\u001b[0m: \tlinear_probe_layer: layer1_3_conv3\n",
      "\u001b[34m\u001b[1mwandb\u001b[0m: \tmodel: RN50x4\n",
      "\u001b[34m\u001b[1mwandb\u001b[0m: \tnum_iterations: 512\n",
      "\u001b[34m\u001b[1mwandb\u001b[0m: \tobjective: channel\n",
      "\u001b[34m\u001b[1mwandb\u001b[0m: \toptimizer: AdamW\n",
      "\u001b[34m\u001b[1mwandb\u001b[0m: \trandom_seed: 80119365\n",
      "\u001b[34m\u001b[1mwandb\u001b[0m: \tuse_std_transforms: True\n",
      "\u001b[34m\u001b[1mwandb\u001b[0m: \tuse_transforms: False\n",
      "\u001b[34m\u001b[1mwandb\u001b[0m: \tvisualization_layer: layer4_5_conv3\n"
     ]
    },
    {
     "data": {
      "text/html": [
       "wandb version 0.16.1 is available!  To upgrade, please run:\n",
       " $ pip install wandb --upgrade"
      ],
      "text/plain": [
       "<IPython.core.display.HTML object>"
      ]
     },
     "metadata": {},
     "output_type": "display_data"
    },
    {
     "data": {
      "text/html": [
       "Tracking run with wandb version 0.16.0"
      ],
      "text/plain": [
       "<IPython.core.display.HTML object>"
      ]
     },
     "metadata": {},
     "output_type": "display_data"
    },
    {
     "data": {
      "text/html": [
       "Run data is saved locally in <code>/apps/11785-f23-prj/wandb/run-20231205_221435-ff3xmdsk</code>"
      ],
      "text/plain": [
       "<IPython.core.display.HTML object>"
      ]
     },
     "metadata": {},
     "output_type": "display_data"
    },
    {
     "data": {
      "text/html": [
       "Syncing run <strong><a href='https://wandb.ai/rohanprasad/idl-project-sun397/runs/ff3xmdsk' target=\"_blank\">generous-sweep-12</a></strong> to <a href='https://wandb.ai/rohanprasad/idl-project-sun397' target=\"_blank\">Weights & Biases</a> (<a href='https://wandb.me/run' target=\"_blank\">docs</a>)<br/>Sweep page: <a href='https://wandb.ai/rohanprasad/idl-project-sun397/sweeps/kzps3xpf' target=\"_blank\">https://wandb.ai/rohanprasad/idl-project-sun397/sweeps/kzps3xpf</a>"
      ],
      "text/plain": [
       "<IPython.core.display.HTML object>"
      ]
     },
     "metadata": {},
     "output_type": "display_data"
    },
    {
     "data": {
      "text/html": [
       " View project at <a href='https://wandb.ai/rohanprasad/idl-project-sun397' target=\"_blank\">https://wandb.ai/rohanprasad/idl-project-sun397</a>"
      ],
      "text/plain": [
       "<IPython.core.display.HTML object>"
      ]
     },
     "metadata": {},
     "output_type": "display_data"
    },
    {
     "data": {
      "text/html": [
       " View sweep at <a href='https://wandb.ai/rohanprasad/idl-project-sun397/sweeps/kzps3xpf' target=\"_blank\">https://wandb.ai/rohanprasad/idl-project-sun397/sweeps/kzps3xpf</a>"
      ],
      "text/plain": [
       "<IPython.core.display.HTML object>"
      ]
     },
     "metadata": {},
     "output_type": "display_data"
    },
    {
     "data": {
      "text/html": [
       " View run at <a href='https://wandb.ai/rohanprasad/idl-project-sun397/runs/ff3xmdsk' target=\"_blank\">https://wandb.ai/rohanprasad/idl-project-sun397/runs/ff3xmdsk</a>"
      ],
      "text/plain": [
       "<IPython.core.display.HTML object>"
      ]
     },
     "metadata": {},
     "output_type": "display_data"
    },
    {
     "name": "stderr",
     "output_type": "stream",
     "text": [
      "2023-12-05 22:14:45,933 [Thread-617 (] [INFO ]  Starting sweep [ run  ff3xmdsk ] with config = \n",
      "{'channel': 1, 'learning_rate': 0.05, 'linear_probe_layer': 'layer1_3_conv3', 'model': 'RN50x4', 'num_iterations': 512, 'objective': 'channel', 'optimizer': 'AdamW', 'random_seed': 80119365, 'use_std_transforms': True, 'use_transforms': False, 'visualization_layer': 'layer4_5_conv3'}\n",
      "2023-12-05 22:14:45,934 [Thread-617 (] [INFO ]  Setting random seed to 80119365\n",
      "2023-12-05 22:14:45,936 [Thread-617 (] [INFO ]  Loading CLIP model [ RN50x4 ].\n",
      "2023-12-05 22:14:50,359 [Thread-617 (] [INFO ]  Finished loading model [ RN50x4 ]\n",
      "2023-12-05 22:14:50,360 [Thread-617 (] [INFO ]  Finished loading transforms [ Compose(\n",
      "    Resize(size=288, interpolation=bicubic, max_size=None, antialias=warn)\n",
      "    CenterCrop(size=(288, 288))\n",
      "    Normalize(mean=(0.48145466, 0.4578275, 0.40821073), std=(0.26862954, 0.26130258, 0.27577711))\n",
      ") ]\n",
      "2023-12-05 22:14:50,361 [Thread-617 (] [INFO ]  Registering hooks.\n",
      "2023-12-05 22:14:50,364 [Thread-617 (] [INFO ]  Finished registering hooks.\n",
      "2023-12-05 22:14:50,368 [Thread-617 (] [INFO ]  Retrieving weights of linear probe [ path = /apps/11785-f23-prj/faceted_visualization/probes/logs/sun397/RN50x4/layer1_3_conv3/version_4_20/model_checkpoint.pth ]\n",
      "2023-12-05 22:14:50,374 [Thread-617 (] [INFO ]  Final list of transforms = [RandomAffine(degrees=[0.0, 0.0], translate=(0.03, 0.03), interpolation=InterpolationMode.NEAREST, fill=0), RandomAffine(degrees=[0.0, 0.0], scale=(0.9, 1.1), interpolation=InterpolationMode.NEAREST, fill=0), RandomRotation(degrees=[-10.0, 10.0], interpolation=InterpolationMode.NEAREST, expand=False, fill=0), RandomAffine(degrees=[0.0, 0.0], translate=(0.015, 0.015), interpolation=InterpolationMode.NEAREST, fill=0)]\n",
      "2023-12-05 22:14:50,375 [Thread-617 (] [INFO ]  Starting optimization process [ run_id = ff3xmdsk ]...\n",
      "2023-12-05 22:14:50,422 [Thread-617 (] [INFO ]  Epoch: 1/512: Loss = 0.0303955 :: Learning Rate = 0.0500000\n",
      "2023-12-05 22:14:55,140 [Thread-617 (] [INFO ]  Epoch: 101/512: Loss = -0.2468262 :: Learning Rate = 0.0500000\n",
      "2023-12-05 22:14:59,764 [Thread-617 (] [INFO ]  Epoch: 201/512: Loss = -0.3381348 :: Learning Rate = 0.0500000\n",
      "2023-12-05 22:15:04,439 [Thread-617 (] [INFO ]  Epoch: 301/512: Loss = -0.3642578 :: Learning Rate = 0.0500000\n",
      "2023-12-05 22:15:09,115 [Thread-617 (] [INFO ]  Epoch: 401/512: Loss = -0.4726562 :: Learning Rate = 0.0500000\n",
      "2023-12-05 22:15:13,752 [Thread-617 (] [INFO ]  Epoch: 501/512: Loss = -0.5458984 :: Learning Rate = 0.0500000\n",
      "2023-12-05 22:15:14,289 [Thread-617 (] [INFO ]  Epoch: 512/512: Loss = -0.5024414 :: Learning Rate = 0.0500000\n",
      "2023-12-05 22:15:14,312 [Thread-617 (] [INFO ]  Completed run [ ff3xmdsk ]\n"
     ]
    },
    {
     "data": {
      "application/vnd.jupyter.widget-view+json": {
       "model_id": "",
       "version_major": 2,
       "version_minor": 0
      },
      "text/plain": [
       "VBox(children=(Label(value='1.280 MB of 1.280 MB uploaded\\r'), FloatProgress(value=1.0, max=1.0)))"
      ]
     },
     "metadata": {},
     "output_type": "display_data"
    },
    {
     "data": {
      "text/html": [
       "<style>\n",
       "    table.wandb td:nth-child(1) { padding: 0 10px; text-align: left ; width: auto;} td:nth-child(2) {text-align: left ; width: 100%}\n",
       "    .wandb-row { display: flex; flex-direction: row; flex-wrap: wrap; justify-content: flex-start; width: 100% }\n",
       "    .wandb-col { display: flex; flex-direction: column; flex-basis: 100%; flex: 1; padding: 10px; }\n",
       "    </style>\n",
       "<div class=\"wandb-row\"><div class=\"wandb-col\"><h3>Run history:</h3><br/><table class=\"wandb\"><tr><td>loss</td><td>█▅▄▃▂▁▂</td></tr></table><br/></div><div class=\"wandb-col\"><h3>Run summary:</h3><br/><table class=\"wandb\"><tr><td>loss</td><td>-0.50244</td></tr></table><br/></div></div>"
      ],
      "text/plain": [
       "<IPython.core.display.HTML object>"
      ]
     },
     "metadata": {},
     "output_type": "display_data"
    },
    {
     "data": {
      "text/html": [
       " View run <strong style=\"color:#cdcd00\">generous-sweep-12</strong> at: <a href='https://wandb.ai/rohanprasad/idl-project-sun397/runs/ff3xmdsk' target=\"_blank\">https://wandb.ai/rohanprasad/idl-project-sun397/runs/ff3xmdsk</a><br/>Synced 6 W&B file(s), 7 media file(s), 0 artifact file(s) and 0 other file(s)"
      ],
      "text/plain": [
       "<IPython.core.display.HTML object>"
      ]
     },
     "metadata": {},
     "output_type": "display_data"
    },
    {
     "data": {
      "text/html": [
       "Find logs at: <code>./wandb/run-20231205_221435-ff3xmdsk/logs</code>"
      ],
      "text/plain": [
       "<IPython.core.display.HTML object>"
      ]
     },
     "metadata": {},
     "output_type": "display_data"
    },
    {
     "name": "stderr",
     "output_type": "stream",
     "text": [
      "\u001b[34m\u001b[1mwandb\u001b[0m: Agent Starting Run: h9g98wz5 with config:\n",
      "\u001b[34m\u001b[1mwandb\u001b[0m: \tchannel: 1\n",
      "\u001b[34m\u001b[1mwandb\u001b[0m: \tlearning_rate: 0.05\n",
      "\u001b[34m\u001b[1mwandb\u001b[0m: \tlinear_probe_layer: layer1_3_relu3\n",
      "\u001b[34m\u001b[1mwandb\u001b[0m: \tmodel: RN50x4\n",
      "\u001b[34m\u001b[1mwandb\u001b[0m: \tnum_iterations: 512\n",
      "\u001b[34m\u001b[1mwandb\u001b[0m: \tobjective: neuron\n",
      "\u001b[34m\u001b[1mwandb\u001b[0m: \toptimizer: AdamW\n",
      "\u001b[34m\u001b[1mwandb\u001b[0m: \trandom_seed: 80119365\n",
      "\u001b[34m\u001b[1mwandb\u001b[0m: \tuse_std_transforms: True\n",
      "\u001b[34m\u001b[1mwandb\u001b[0m: \tuse_transforms: True\n",
      "\u001b[34m\u001b[1mwandb\u001b[0m: \tvisualization_layer: layer4_5_conv3\n"
     ]
    },
    {
     "data": {
      "text/html": [
       "wandb version 0.16.1 is available!  To upgrade, please run:\n",
       " $ pip install wandb --upgrade"
      ],
      "text/plain": [
       "<IPython.core.display.HTML object>"
      ]
     },
     "metadata": {},
     "output_type": "display_data"
    },
    {
     "data": {
      "text/html": [
       "Tracking run with wandb version 0.16.0"
      ],
      "text/plain": [
       "<IPython.core.display.HTML object>"
      ]
     },
     "metadata": {},
     "output_type": "display_data"
    },
    {
     "data": {
      "text/html": [
       "Run data is saved locally in <code>/apps/11785-f23-prj/wandb/run-20231205_221521-h9g98wz5</code>"
      ],
      "text/plain": [
       "<IPython.core.display.HTML object>"
      ]
     },
     "metadata": {},
     "output_type": "display_data"
    },
    {
     "data": {
      "text/html": [
       "Syncing run <strong><a href='https://wandb.ai/rohanprasad/idl-project-sun397/runs/h9g98wz5' target=\"_blank\">grateful-sweep-13</a></strong> to <a href='https://wandb.ai/rohanprasad/idl-project-sun397' target=\"_blank\">Weights & Biases</a> (<a href='https://wandb.me/run' target=\"_blank\">docs</a>)<br/>Sweep page: <a href='https://wandb.ai/rohanprasad/idl-project-sun397/sweeps/kzps3xpf' target=\"_blank\">https://wandb.ai/rohanprasad/idl-project-sun397/sweeps/kzps3xpf</a>"
      ],
      "text/plain": [
       "<IPython.core.display.HTML object>"
      ]
     },
     "metadata": {},
     "output_type": "display_data"
    },
    {
     "data": {
      "text/html": [
       " View project at <a href='https://wandb.ai/rohanprasad/idl-project-sun397' target=\"_blank\">https://wandb.ai/rohanprasad/idl-project-sun397</a>"
      ],
      "text/plain": [
       "<IPython.core.display.HTML object>"
      ]
     },
     "metadata": {},
     "output_type": "display_data"
    },
    {
     "data": {
      "text/html": [
       " View sweep at <a href='https://wandb.ai/rohanprasad/idl-project-sun397/sweeps/kzps3xpf' target=\"_blank\">https://wandb.ai/rohanprasad/idl-project-sun397/sweeps/kzps3xpf</a>"
      ],
      "text/plain": [
       "<IPython.core.display.HTML object>"
      ]
     },
     "metadata": {},
     "output_type": "display_data"
    },
    {
     "data": {
      "text/html": [
       " View run at <a href='https://wandb.ai/rohanprasad/idl-project-sun397/runs/h9g98wz5' target=\"_blank\">https://wandb.ai/rohanprasad/idl-project-sun397/runs/h9g98wz5</a>"
      ],
      "text/plain": [
       "<IPython.core.display.HTML object>"
      ]
     },
     "metadata": {},
     "output_type": "display_data"
    },
    {
     "name": "stderr",
     "output_type": "stream",
     "text": [
      "2023-12-05 22:15:31,866 [Thread-620 (] [INFO ]  Starting sweep [ run  h9g98wz5 ] with config = \n",
      "{'channel': 1, 'learning_rate': 0.05, 'linear_probe_layer': 'layer1_3_relu3', 'model': 'RN50x4', 'num_iterations': 512, 'objective': 'neuron', 'optimizer': 'AdamW', 'random_seed': 80119365, 'use_std_transforms': True, 'use_transforms': True, 'visualization_layer': 'layer4_5_conv3'}\n",
      "2023-12-05 22:15:31,867 [Thread-620 (] [INFO ]  Setting random seed to 80119365\n",
      "2023-12-05 22:15:31,869 [Thread-620 (] [INFO ]  Loading CLIP model [ RN50x4 ].\n",
      "2023-12-05 22:15:36,279 [Thread-620 (] [INFO ]  Finished loading model [ RN50x4 ]\n",
      "2023-12-05 22:15:36,281 [Thread-620 (] [INFO ]  Finished loading transforms [ Compose(\n",
      "    Resize(size=288, interpolation=bicubic, max_size=None, antialias=warn)\n",
      "    CenterCrop(size=(288, 288))\n",
      "    Normalize(mean=(0.48145466, 0.4578275, 0.40821073), std=(0.26862954, 0.26130258, 0.27577711))\n",
      ") ]\n",
      "2023-12-05 22:15:36,282 [Thread-620 (] [INFO ]  Registering hooks.\n",
      "2023-12-05 22:15:36,285 [Thread-620 (] [INFO ]  Finished registering hooks.\n",
      "2023-12-05 22:15:36,290 [Thread-620 (] [INFO ]  Retrieving weights of linear probe [ path = /apps/11785-f23-prj/faceted_visualization/probes/logs/sun397/RN50x4/layer1_3_relu3/version_4_20/model_checkpoint.pth ]\n",
      "2023-12-05 22:15:36,316 [Thread-620 (] [INFO ]  Final list of transforms = [Resize(size=288, interpolation=bicubic, max_size=None, antialias=warn), CenterCrop(size=(288, 288)), Normalize(mean=(0.48145466, 0.4578275, 0.40821073), std=(0.26862954, 0.26130258, 0.27577711)), RandomAffine(degrees=[0.0, 0.0], translate=(0.03, 0.03), interpolation=InterpolationMode.NEAREST, fill=0), RandomAffine(degrees=[0.0, 0.0], scale=(0.9, 1.1), interpolation=InterpolationMode.NEAREST, fill=0), RandomRotation(degrees=[-10.0, 10.0], interpolation=InterpolationMode.NEAREST, expand=False, fill=0), RandomAffine(degrees=[0.0, 0.0], translate=(0.015, 0.015), interpolation=InterpolationMode.NEAREST, fill=0)]\n",
      "2023-12-05 22:15:36,317 [Thread-620 (] [INFO ]  Starting optimization process [ run_id = h9g98wz5 ]...\n",
      "/opt/conda/lib/python3.10/site-packages/torchvision/transforms/functional.py:1603: UserWarning: The default value of the antialias parameter of all the resizing transforms (Resize(), RandomResizedCrop(), etc.) will change from None to True in v0.17, in order to be consistent across the PIL and Tensor backends. To suppress this warning, directly pass antialias=True (recommended, future default), antialias=None (current default, which means False for Tensors and True for PIL), or antialias=False (only works on Tensors - PIL will still use antialiasing). This also applies if you are using the inference transforms from the models weights: update the call to weights.transforms(antialias=True).\n",
      "  warnings.warn(\n",
      "2023-12-05 22:15:36,365 [Thread-620 (] [INFO ]  Epoch: 1/512: Loss = 9.2109375 :: Learning Rate = 0.0500000\n",
      "2023-12-05 22:15:41,114 [Thread-620 (] [INFO ]  Epoch: 101/512: Loss = -7.4609375 :: Learning Rate = 0.0500000\n",
      "2023-12-05 22:15:45,841 [Thread-620 (] [INFO ]  Epoch: 201/512: Loss = -8.1953125 :: Learning Rate = 0.0500000\n",
      "2023-12-05 22:15:50,569 [Thread-620 (] [INFO ]  Epoch: 301/512: Loss = -6.4648438 :: Learning Rate = 0.0500000\n",
      "2023-12-05 22:15:55,281 [Thread-620 (] [INFO ]  Epoch: 401/512: Loss = 2.5136719 :: Learning Rate = 0.0500000\n",
      "2023-12-05 22:16:00,009 [Thread-620 (] [INFO ]  Epoch: 501/512: Loss = 16.6875000 :: Learning Rate = 0.0500000\n",
      "2023-12-05 22:16:00,550 [Thread-620 (] [INFO ]  Epoch: 512/512: Loss = -35.0937500 :: Learning Rate = 0.0500000\n",
      "2023-12-05 22:16:00,576 [Thread-620 (] [INFO ]  Completed run [ h9g98wz5 ]\n"
     ]
    },
    {
     "data": {
      "application/vnd.jupyter.widget-view+json": {
       "model_id": "",
       "version_major": 2,
       "version_minor": 0
      },
      "text/plain": [
       "VBox(children=(Label(value='1.227 MB of 1.227 MB uploaded\\r'), FloatProgress(value=1.0, max=1.0)))"
      ]
     },
     "metadata": {},
     "output_type": "display_data"
    },
    {
     "data": {
      "text/html": [
       "<style>\n",
       "    table.wandb td:nth-child(1) { padding: 0 10px; text-align: left ; width: auto;} td:nth-child(2) {text-align: left ; width: 100%}\n",
       "    .wandb-row { display: flex; flex-direction: row; flex-wrap: wrap; justify-content: flex-start; width: 100% }\n",
       "    .wandb-col { display: flex; flex-direction: column; flex-basis: 100%; flex: 1; padding: 10px; }\n",
       "    </style>\n",
       "<div class=\"wandb-row\"><div class=\"wandb-col\"><h3>Run history:</h3><br/><table class=\"wandb\"><tr><td>loss</td><td>▇▅▅▅▆█▁</td></tr></table><br/></div><div class=\"wandb-col\"><h3>Run summary:</h3><br/><table class=\"wandb\"><tr><td>loss</td><td>-35.09375</td></tr></table><br/></div></div>"
      ],
      "text/plain": [
       "<IPython.core.display.HTML object>"
      ]
     },
     "metadata": {},
     "output_type": "display_data"
    },
    {
     "data": {
      "text/html": [
       " View run <strong style=\"color:#cdcd00\">grateful-sweep-13</strong> at: <a href='https://wandb.ai/rohanprasad/idl-project-sun397/runs/h9g98wz5' target=\"_blank\">https://wandb.ai/rohanprasad/idl-project-sun397/runs/h9g98wz5</a><br/>Synced 6 W&B file(s), 7 media file(s), 0 artifact file(s) and 0 other file(s)"
      ],
      "text/plain": [
       "<IPython.core.display.HTML object>"
      ]
     },
     "metadata": {},
     "output_type": "display_data"
    },
    {
     "data": {
      "text/html": [
       "Find logs at: <code>./wandb/run-20231205_221521-h9g98wz5/logs</code>"
      ],
      "text/plain": [
       "<IPython.core.display.HTML object>"
      ]
     },
     "metadata": {},
     "output_type": "display_data"
    },
    {
     "name": "stderr",
     "output_type": "stream",
     "text": [
      "\u001b[34m\u001b[1mwandb\u001b[0m: Agent Starting Run: 1ehv6z4t with config:\n",
      "\u001b[34m\u001b[1mwandb\u001b[0m: \tchannel: 1\n",
      "\u001b[34m\u001b[1mwandb\u001b[0m: \tlearning_rate: 0.05\n",
      "\u001b[34m\u001b[1mwandb\u001b[0m: \tlinear_probe_layer: layer1_3_relu3\n",
      "\u001b[34m\u001b[1mwandb\u001b[0m: \tmodel: RN50x4\n",
      "\u001b[34m\u001b[1mwandb\u001b[0m: \tnum_iterations: 512\n",
      "\u001b[34m\u001b[1mwandb\u001b[0m: \tobjective: neuron\n",
      "\u001b[34m\u001b[1mwandb\u001b[0m: \toptimizer: AdamW\n",
      "\u001b[34m\u001b[1mwandb\u001b[0m: \trandom_seed: 80119365\n",
      "\u001b[34m\u001b[1mwandb\u001b[0m: \tuse_std_transforms: True\n",
      "\u001b[34m\u001b[1mwandb\u001b[0m: \tuse_transforms: False\n",
      "\u001b[34m\u001b[1mwandb\u001b[0m: \tvisualization_layer: layer4_5_conv3\n"
     ]
    },
    {
     "data": {
      "text/html": [
       "wandb version 0.16.1 is available!  To upgrade, please run:\n",
       " $ pip install wandb --upgrade"
      ],
      "text/plain": [
       "<IPython.core.display.HTML object>"
      ]
     },
     "metadata": {},
     "output_type": "display_data"
    },
    {
     "data": {
      "text/html": [
       "Tracking run with wandb version 0.16.0"
      ],
      "text/plain": [
       "<IPython.core.display.HTML object>"
      ]
     },
     "metadata": {},
     "output_type": "display_data"
    },
    {
     "data": {
      "text/html": [
       "Run data is saved locally in <code>/apps/11785-f23-prj/wandb/run-20231205_221611-1ehv6z4t</code>"
      ],
      "text/plain": [
       "<IPython.core.display.HTML object>"
      ]
     },
     "metadata": {},
     "output_type": "display_data"
    },
    {
     "data": {
      "text/html": [
       "Syncing run <strong><a href='https://wandb.ai/rohanprasad/idl-project-sun397/runs/1ehv6z4t' target=\"_blank\">scarlet-sweep-14</a></strong> to <a href='https://wandb.ai/rohanprasad/idl-project-sun397' target=\"_blank\">Weights & Biases</a> (<a href='https://wandb.me/run' target=\"_blank\">docs</a>)<br/>Sweep page: <a href='https://wandb.ai/rohanprasad/idl-project-sun397/sweeps/kzps3xpf' target=\"_blank\">https://wandb.ai/rohanprasad/idl-project-sun397/sweeps/kzps3xpf</a>"
      ],
      "text/plain": [
       "<IPython.core.display.HTML object>"
      ]
     },
     "metadata": {},
     "output_type": "display_data"
    },
    {
     "data": {
      "text/html": [
       " View project at <a href='https://wandb.ai/rohanprasad/idl-project-sun397' target=\"_blank\">https://wandb.ai/rohanprasad/idl-project-sun397</a>"
      ],
      "text/plain": [
       "<IPython.core.display.HTML object>"
      ]
     },
     "metadata": {},
     "output_type": "display_data"
    },
    {
     "data": {
      "text/html": [
       " View sweep at <a href='https://wandb.ai/rohanprasad/idl-project-sun397/sweeps/kzps3xpf' target=\"_blank\">https://wandb.ai/rohanprasad/idl-project-sun397/sweeps/kzps3xpf</a>"
      ],
      "text/plain": [
       "<IPython.core.display.HTML object>"
      ]
     },
     "metadata": {},
     "output_type": "display_data"
    },
    {
     "data": {
      "text/html": [
       " View run at <a href='https://wandb.ai/rohanprasad/idl-project-sun397/runs/1ehv6z4t' target=\"_blank\">https://wandb.ai/rohanprasad/idl-project-sun397/runs/1ehv6z4t</a>"
      ],
      "text/plain": [
       "<IPython.core.display.HTML object>"
      ]
     },
     "metadata": {},
     "output_type": "display_data"
    },
    {
     "name": "stderr",
     "output_type": "stream",
     "text": [
      "2023-12-05 22:16:21,908 [Thread-623 (] [INFO ]  Starting sweep [ run  1ehv6z4t ] with config = \n",
      "{'channel': 1, 'learning_rate': 0.05, 'linear_probe_layer': 'layer1_3_relu3', 'model': 'RN50x4', 'num_iterations': 512, 'objective': 'neuron', 'optimizer': 'AdamW', 'random_seed': 80119365, 'use_std_transforms': True, 'use_transforms': False, 'visualization_layer': 'layer4_5_conv3'}\n",
      "2023-12-05 22:16:21,909 [Thread-623 (] [INFO ]  Setting random seed to 80119365\n",
      "2023-12-05 22:16:21,910 [Thread-623 (] [INFO ]  Loading CLIP model [ RN50x4 ].\n",
      "2023-12-05 22:16:26,338 [Thread-623 (] [INFO ]  Finished loading model [ RN50x4 ]\n",
      "2023-12-05 22:16:26,340 [Thread-623 (] [INFO ]  Finished loading transforms [ Compose(\n",
      "    Resize(size=288, interpolation=bicubic, max_size=None, antialias=warn)\n",
      "    CenterCrop(size=(288, 288))\n",
      "    Normalize(mean=(0.48145466, 0.4578275, 0.40821073), std=(0.26862954, 0.26130258, 0.27577711))\n",
      ") ]\n",
      "2023-12-05 22:16:26,341 [Thread-623 (] [INFO ]  Registering hooks.\n",
      "2023-12-05 22:16:26,344 [Thread-623 (] [INFO ]  Finished registering hooks.\n",
      "2023-12-05 22:16:26,348 [Thread-623 (] [INFO ]  Retrieving weights of linear probe [ path = /apps/11785-f23-prj/faceted_visualization/probes/logs/sun397/RN50x4/layer1_3_relu3/version_4_20/model_checkpoint.pth ]\n",
      "2023-12-05 22:16:26,353 [Thread-623 (] [INFO ]  Final list of transforms = [RandomAffine(degrees=[0.0, 0.0], translate=(0.03, 0.03), interpolation=InterpolationMode.NEAREST, fill=0), RandomAffine(degrees=[0.0, 0.0], scale=(0.9, 1.1), interpolation=InterpolationMode.NEAREST, fill=0), RandomRotation(degrees=[-10.0, 10.0], interpolation=InterpolationMode.NEAREST, expand=False, fill=0), RandomAffine(degrees=[0.0, 0.0], translate=(0.015, 0.015), interpolation=InterpolationMode.NEAREST, fill=0)]\n",
      "2023-12-05 22:16:26,355 [Thread-623 (] [INFO ]  Starting optimization process [ run_id = 1ehv6z4t ]...\n",
      "2023-12-05 22:16:26,402 [Thread-623 (] [INFO ]  Epoch: 1/512: Loss = 55.2500000 :: Learning Rate = 0.0500000\n",
      "2023-12-05 22:16:31,104 [Thread-623 (] [INFO ]  Epoch: 101/512: Loss = -6.9531250 :: Learning Rate = 0.0500000\n",
      "2023-12-05 22:16:35,751 [Thread-623 (] [INFO ]  Epoch: 201/512: Loss = 4.2070312 :: Learning Rate = 0.0500000\n",
      "2023-12-05 22:16:40,447 [Thread-623 (] [INFO ]  Epoch: 301/512: Loss = -12.7968750 :: Learning Rate = 0.0500000\n",
      "2023-12-05 22:16:45,144 [Thread-623 (] [INFO ]  Epoch: 401/512: Loss = -2.6503906 :: Learning Rate = 0.0500000\n",
      "2023-12-05 22:16:49,830 [Thread-623 (] [INFO ]  Epoch: 501/512: Loss = 4.5117188 :: Learning Rate = 0.0500000\n",
      "2023-12-05 22:16:50,374 [Thread-623 (] [INFO ]  Epoch: 512/512: Loss = -17.7031250 :: Learning Rate = 0.0500000\n",
      "2023-12-05 22:16:50,397 [Thread-623 (] [INFO ]  Completed run [ 1ehv6z4t ]\n"
     ]
    },
    {
     "data": {
      "application/vnd.jupyter.widget-view+json": {
       "model_id": "",
       "version_major": 2,
       "version_minor": 0
      },
      "text/plain": [
       "VBox(children=(Label(value='1.265 MB of 1.265 MB uploaded\\r'), FloatProgress(value=1.0, max=1.0)))"
      ]
     },
     "metadata": {},
     "output_type": "display_data"
    },
    {
     "data": {
      "text/html": [
       "<style>\n",
       "    table.wandb td:nth-child(1) { padding: 0 10px; text-align: left ; width: auto;} td:nth-child(2) {text-align: left ; width: 100%}\n",
       "    .wandb-row { display: flex; flex-direction: row; flex-wrap: wrap; justify-content: flex-start; width: 100% }\n",
       "    .wandb-col { display: flex; flex-direction: column; flex-basis: 100%; flex: 1; padding: 10px; }\n",
       "    </style>\n",
       "<div class=\"wandb-row\"><div class=\"wandb-col\"><h3>Run history:</h3><br/><table class=\"wandb\"><tr><td>loss</td><td>█▂▃▁▂▃▁</td></tr></table><br/></div><div class=\"wandb-col\"><h3>Run summary:</h3><br/><table class=\"wandb\"><tr><td>loss</td><td>-17.70312</td></tr></table><br/></div></div>"
      ],
      "text/plain": [
       "<IPython.core.display.HTML object>"
      ]
     },
     "metadata": {},
     "output_type": "display_data"
    },
    {
     "data": {
      "text/html": [
       " View run <strong style=\"color:#cdcd00\">scarlet-sweep-14</strong> at: <a href='https://wandb.ai/rohanprasad/idl-project-sun397/runs/1ehv6z4t' target=\"_blank\">https://wandb.ai/rohanprasad/idl-project-sun397/runs/1ehv6z4t</a><br/>Synced 6 W&B file(s), 7 media file(s), 0 artifact file(s) and 0 other file(s)"
      ],
      "text/plain": [
       "<IPython.core.display.HTML object>"
      ]
     },
     "metadata": {},
     "output_type": "display_data"
    },
    {
     "data": {
      "text/html": [
       "Find logs at: <code>./wandb/run-20231205_221611-1ehv6z4t/logs</code>"
      ],
      "text/plain": [
       "<IPython.core.display.HTML object>"
      ]
     },
     "metadata": {},
     "output_type": "display_data"
    },
    {
     "name": "stderr",
     "output_type": "stream",
     "text": [
      "\u001b[34m\u001b[1mwandb\u001b[0m: Agent Starting Run: sm1bua2x with config:\n",
      "\u001b[34m\u001b[1mwandb\u001b[0m: \tchannel: 1\n",
      "\u001b[34m\u001b[1mwandb\u001b[0m: \tlearning_rate: 0.05\n",
      "\u001b[34m\u001b[1mwandb\u001b[0m: \tlinear_probe_layer: layer1_3_relu3\n",
      "\u001b[34m\u001b[1mwandb\u001b[0m: \tmodel: RN50x4\n",
      "\u001b[34m\u001b[1mwandb\u001b[0m: \tnum_iterations: 512\n",
      "\u001b[34m\u001b[1mwandb\u001b[0m: \tobjective: channel\n",
      "\u001b[34m\u001b[1mwandb\u001b[0m: \toptimizer: AdamW\n",
      "\u001b[34m\u001b[1mwandb\u001b[0m: \trandom_seed: 80119365\n",
      "\u001b[34m\u001b[1mwandb\u001b[0m: \tuse_std_transforms: True\n",
      "\u001b[34m\u001b[1mwandb\u001b[0m: \tuse_transforms: True\n",
      "\u001b[34m\u001b[1mwandb\u001b[0m: \tvisualization_layer: layer4_5_conv3\n"
     ]
    },
    {
     "data": {
      "text/html": [
       "wandb version 0.16.1 is available!  To upgrade, please run:\n",
       " $ pip install wandb --upgrade"
      ],
      "text/plain": [
       "<IPython.core.display.HTML object>"
      ]
     },
     "metadata": {},
     "output_type": "display_data"
    },
    {
     "data": {
      "text/html": [
       "Tracking run with wandb version 0.16.0"
      ],
      "text/plain": [
       "<IPython.core.display.HTML object>"
      ]
     },
     "metadata": {},
     "output_type": "display_data"
    },
    {
     "data": {
      "text/html": [
       "Run data is saved locally in <code>/apps/11785-f23-prj/wandb/run-20231205_221657-sm1bua2x</code>"
      ],
      "text/plain": [
       "<IPython.core.display.HTML object>"
      ]
     },
     "metadata": {},
     "output_type": "display_data"
    },
    {
     "data": {
      "text/html": [
       "Syncing run <strong><a href='https://wandb.ai/rohanprasad/idl-project-sun397/runs/sm1bua2x' target=\"_blank\">visionary-sweep-15</a></strong> to <a href='https://wandb.ai/rohanprasad/idl-project-sun397' target=\"_blank\">Weights & Biases</a> (<a href='https://wandb.me/run' target=\"_blank\">docs</a>)<br/>Sweep page: <a href='https://wandb.ai/rohanprasad/idl-project-sun397/sweeps/kzps3xpf' target=\"_blank\">https://wandb.ai/rohanprasad/idl-project-sun397/sweeps/kzps3xpf</a>"
      ],
      "text/plain": [
       "<IPython.core.display.HTML object>"
      ]
     },
     "metadata": {},
     "output_type": "display_data"
    },
    {
     "data": {
      "text/html": [
       " View project at <a href='https://wandb.ai/rohanprasad/idl-project-sun397' target=\"_blank\">https://wandb.ai/rohanprasad/idl-project-sun397</a>"
      ],
      "text/plain": [
       "<IPython.core.display.HTML object>"
      ]
     },
     "metadata": {},
     "output_type": "display_data"
    },
    {
     "data": {
      "text/html": [
       " View sweep at <a href='https://wandb.ai/rohanprasad/idl-project-sun397/sweeps/kzps3xpf' target=\"_blank\">https://wandb.ai/rohanprasad/idl-project-sun397/sweeps/kzps3xpf</a>"
      ],
      "text/plain": [
       "<IPython.core.display.HTML object>"
      ]
     },
     "metadata": {},
     "output_type": "display_data"
    },
    {
     "data": {
      "text/html": [
       " View run at <a href='https://wandb.ai/rohanprasad/idl-project-sun397/runs/sm1bua2x' target=\"_blank\">https://wandb.ai/rohanprasad/idl-project-sun397/runs/sm1bua2x</a>"
      ],
      "text/plain": [
       "<IPython.core.display.HTML object>"
      ]
     },
     "metadata": {},
     "output_type": "display_data"
    },
    {
     "name": "stderr",
     "output_type": "stream",
     "text": [
      "2023-12-05 22:17:08,024 [Thread-626 (] [INFO ]  Starting sweep [ run  sm1bua2x ] with config = \n",
      "{'channel': 1, 'learning_rate': 0.05, 'linear_probe_layer': 'layer1_3_relu3', 'model': 'RN50x4', 'num_iterations': 512, 'objective': 'channel', 'optimizer': 'AdamW', 'random_seed': 80119365, 'use_std_transforms': True, 'use_transforms': True, 'visualization_layer': 'layer4_5_conv3'}\n",
      "2023-12-05 22:17:08,025 [Thread-626 (] [INFO ]  Setting random seed to 80119365\n",
      "2023-12-05 22:17:08,026 [Thread-626 (] [INFO ]  Loading CLIP model [ RN50x4 ].\n",
      "2023-12-05 22:17:12,440 [Thread-626 (] [INFO ]  Finished loading model [ RN50x4 ]\n",
      "2023-12-05 22:17:12,442 [Thread-626 (] [INFO ]  Finished loading transforms [ Compose(\n",
      "    Resize(size=288, interpolation=bicubic, max_size=None, antialias=warn)\n",
      "    CenterCrop(size=(288, 288))\n",
      "    Normalize(mean=(0.48145466, 0.4578275, 0.40821073), std=(0.26862954, 0.26130258, 0.27577711))\n",
      ") ]\n",
      "2023-12-05 22:17:12,443 [Thread-626 (] [INFO ]  Registering hooks.\n",
      "2023-12-05 22:17:12,446 [Thread-626 (] [INFO ]  Finished registering hooks.\n",
      "2023-12-05 22:17:12,450 [Thread-626 (] [INFO ]  Retrieving weights of linear probe [ path = /apps/11785-f23-prj/faceted_visualization/probes/logs/sun397/RN50x4/layer1_3_relu3/version_4_20/model_checkpoint.pth ]\n",
      "2023-12-05 22:17:12,455 [Thread-626 (] [INFO ]  Final list of transforms = [Resize(size=288, interpolation=bicubic, max_size=None, antialias=warn), CenterCrop(size=(288, 288)), Normalize(mean=(0.48145466, 0.4578275, 0.40821073), std=(0.26862954, 0.26130258, 0.27577711)), RandomAffine(degrees=[0.0, 0.0], translate=(0.03, 0.03), interpolation=InterpolationMode.NEAREST, fill=0), RandomAffine(degrees=[0.0, 0.0], scale=(0.9, 1.1), interpolation=InterpolationMode.NEAREST, fill=0), RandomRotation(degrees=[-10.0, 10.0], interpolation=InterpolationMode.NEAREST, expand=False, fill=0), RandomAffine(degrees=[0.0, 0.0], translate=(0.015, 0.015), interpolation=InterpolationMode.NEAREST, fill=0)]\n",
      "2023-12-05 22:17:12,456 [Thread-626 (] [INFO ]  Starting optimization process [ run_id = sm1bua2x ]...\n",
      "/opt/conda/lib/python3.10/site-packages/torchvision/transforms/functional.py:1603: UserWarning: The default value of the antialias parameter of all the resizing transforms (Resize(), RandomResizedCrop(), etc.) will change from None to True in v0.17, in order to be consistent across the PIL and Tensor backends. To suppress this warning, directly pass antialias=True (recommended, future default), antialias=None (current default, which means False for Tensors and True for PIL), or antialias=False (only works on Tensors - PIL will still use antialiasing). This also applies if you are using the inference transforms from the models weights: update the call to weights.transforms(antialias=True).\n",
      "  warnings.warn(\n",
      "2023-12-05 22:17:12,506 [Thread-626 (] [INFO ]  Epoch: 1/512: Loss = 9.2578125 :: Learning Rate = 0.0500000\n",
      "2023-12-05 22:17:17,303 [Thread-626 (] [INFO ]  Epoch: 101/512: Loss = -11.9375000 :: Learning Rate = 0.0500000\n",
      "2023-12-05 22:17:22,066 [Thread-626 (] [INFO ]  Epoch: 201/512: Loss = 9.0703125 :: Learning Rate = 0.0500000\n",
      "2023-12-05 22:17:26,829 [Thread-626 (] [INFO ]  Epoch: 301/512: Loss = 8.5703125 :: Learning Rate = 0.0500000\n",
      "2023-12-05 22:17:31,544 [Thread-626 (] [INFO ]  Epoch: 401/512: Loss = -1.4580078 :: Learning Rate = 0.0500000\n",
      "2023-12-05 22:17:36,264 [Thread-626 (] [INFO ]  Epoch: 501/512: Loss = -6.8359375 :: Learning Rate = 0.0500000\n",
      "2023-12-05 22:17:36,821 [Thread-626 (] [INFO ]  Epoch: 512/512: Loss = -10.3437500 :: Learning Rate = 0.0500000\n",
      "2023-12-05 22:17:36,845 [Thread-626 (] [INFO ]  Completed run [ sm1bua2x ]\n"
     ]
    },
    {
     "data": {
      "application/vnd.jupyter.widget-view+json": {
       "model_id": "",
       "version_major": 2,
       "version_minor": 0
      },
      "text/plain": [
       "VBox(children=(Label(value='1.227 MB of 1.227 MB uploaded\\r'), FloatProgress(value=1.0, max=1.0)))"
      ]
     },
     "metadata": {},
     "output_type": "display_data"
    },
    {
     "data": {
      "text/html": [
       "<style>\n",
       "    table.wandb td:nth-child(1) { padding: 0 10px; text-align: left ; width: auto;} td:nth-child(2) {text-align: left ; width: 100%}\n",
       "    .wandb-row { display: flex; flex-direction: row; flex-wrap: wrap; justify-content: flex-start; width: 100% }\n",
       "    .wandb-col { display: flex; flex-direction: column; flex-basis: 100%; flex: 1; padding: 10px; }\n",
       "    </style>\n",
       "<div class=\"wandb-row\"><div class=\"wandb-col\"><h3>Run history:</h3><br/><table class=\"wandb\"><tr><td>loss</td><td>█▁██▄▃▂</td></tr></table><br/></div><div class=\"wandb-col\"><h3>Run summary:</h3><br/><table class=\"wandb\"><tr><td>loss</td><td>-10.34375</td></tr></table><br/></div></div>"
      ],
      "text/plain": [
       "<IPython.core.display.HTML object>"
      ]
     },
     "metadata": {},
     "output_type": "display_data"
    },
    {
     "data": {
      "text/html": [
       " View run <strong style=\"color:#cdcd00\">visionary-sweep-15</strong> at: <a href='https://wandb.ai/rohanprasad/idl-project-sun397/runs/sm1bua2x' target=\"_blank\">https://wandb.ai/rohanprasad/idl-project-sun397/runs/sm1bua2x</a><br/>Synced 6 W&B file(s), 7 media file(s), 0 artifact file(s) and 0 other file(s)"
      ],
      "text/plain": [
       "<IPython.core.display.HTML object>"
      ]
     },
     "metadata": {},
     "output_type": "display_data"
    },
    {
     "data": {
      "text/html": [
       "Find logs at: <code>./wandb/run-20231205_221657-sm1bua2x/logs</code>"
      ],
      "text/plain": [
       "<IPython.core.display.HTML object>"
      ]
     },
     "metadata": {},
     "output_type": "display_data"
    },
    {
     "name": "stderr",
     "output_type": "stream",
     "text": [
      "\u001b[34m\u001b[1mwandb\u001b[0m: Agent Starting Run: 9kesrabv with config:\n",
      "\u001b[34m\u001b[1mwandb\u001b[0m: \tchannel: 1\n",
      "\u001b[34m\u001b[1mwandb\u001b[0m: \tlearning_rate: 0.05\n",
      "\u001b[34m\u001b[1mwandb\u001b[0m: \tlinear_probe_layer: layer1_3_relu3\n",
      "\u001b[34m\u001b[1mwandb\u001b[0m: \tmodel: RN50x4\n",
      "\u001b[34m\u001b[1mwandb\u001b[0m: \tnum_iterations: 512\n",
      "\u001b[34m\u001b[1mwandb\u001b[0m: \tobjective: channel\n",
      "\u001b[34m\u001b[1mwandb\u001b[0m: \toptimizer: AdamW\n",
      "\u001b[34m\u001b[1mwandb\u001b[0m: \trandom_seed: 80119365\n",
      "\u001b[34m\u001b[1mwandb\u001b[0m: \tuse_std_transforms: True\n",
      "\u001b[34m\u001b[1mwandb\u001b[0m: \tuse_transforms: False\n",
      "\u001b[34m\u001b[1mwandb\u001b[0m: \tvisualization_layer: layer4_5_conv3\n"
     ]
    },
    {
     "data": {
      "text/html": [
       "wandb version 0.16.1 is available!  To upgrade, please run:\n",
       " $ pip install wandb --upgrade"
      ],
      "text/plain": [
       "<IPython.core.display.HTML object>"
      ]
     },
     "metadata": {},
     "output_type": "display_data"
    },
    {
     "data": {
      "text/html": [
       "Tracking run with wandb version 0.16.0"
      ],
      "text/plain": [
       "<IPython.core.display.HTML object>"
      ]
     },
     "metadata": {},
     "output_type": "display_data"
    },
    {
     "data": {
      "text/html": [
       "Run data is saved locally in <code>/apps/11785-f23-prj/wandb/run-20231205_221748-9kesrabv</code>"
      ],
      "text/plain": [
       "<IPython.core.display.HTML object>"
      ]
     },
     "metadata": {},
     "output_type": "display_data"
    },
    {
     "data": {
      "text/html": [
       "Syncing run <strong><a href='https://wandb.ai/rohanprasad/idl-project-sun397/runs/9kesrabv' target=\"_blank\">tough-sweep-16</a></strong> to <a href='https://wandb.ai/rohanprasad/idl-project-sun397' target=\"_blank\">Weights & Biases</a> (<a href='https://wandb.me/run' target=\"_blank\">docs</a>)<br/>Sweep page: <a href='https://wandb.ai/rohanprasad/idl-project-sun397/sweeps/kzps3xpf' target=\"_blank\">https://wandb.ai/rohanprasad/idl-project-sun397/sweeps/kzps3xpf</a>"
      ],
      "text/plain": [
       "<IPython.core.display.HTML object>"
      ]
     },
     "metadata": {},
     "output_type": "display_data"
    },
    {
     "data": {
      "text/html": [
       " View project at <a href='https://wandb.ai/rohanprasad/idl-project-sun397' target=\"_blank\">https://wandb.ai/rohanprasad/idl-project-sun397</a>"
      ],
      "text/plain": [
       "<IPython.core.display.HTML object>"
      ]
     },
     "metadata": {},
     "output_type": "display_data"
    },
    {
     "data": {
      "text/html": [
       " View sweep at <a href='https://wandb.ai/rohanprasad/idl-project-sun397/sweeps/kzps3xpf' target=\"_blank\">https://wandb.ai/rohanprasad/idl-project-sun397/sweeps/kzps3xpf</a>"
      ],
      "text/plain": [
       "<IPython.core.display.HTML object>"
      ]
     },
     "metadata": {},
     "output_type": "display_data"
    },
    {
     "data": {
      "text/html": [
       " View run at <a href='https://wandb.ai/rohanprasad/idl-project-sun397/runs/9kesrabv' target=\"_blank\">https://wandb.ai/rohanprasad/idl-project-sun397/runs/9kesrabv</a>"
      ],
      "text/plain": [
       "<IPython.core.display.HTML object>"
      ]
     },
     "metadata": {},
     "output_type": "display_data"
    },
    {
     "name": "stderr",
     "output_type": "stream",
     "text": [
      "2023-12-05 22:17:59,009 [Thread-629 (] [INFO ]  Starting sweep [ run  9kesrabv ] with config = \n",
      "{'channel': 1, 'learning_rate': 0.05, 'linear_probe_layer': 'layer1_3_relu3', 'model': 'RN50x4', 'num_iterations': 512, 'objective': 'channel', 'optimizer': 'AdamW', 'random_seed': 80119365, 'use_std_transforms': True, 'use_transforms': False, 'visualization_layer': 'layer4_5_conv3'}\n",
      "2023-12-05 22:17:59,010 [Thread-629 (] [INFO ]  Setting random seed to 80119365\n",
      "2023-12-05 22:17:59,013 [Thread-629 (] [INFO ]  Loading CLIP model [ RN50x4 ].\n",
      "2023-12-05 22:18:03,649 [Thread-629 (] [INFO ]  Finished loading model [ RN50x4 ]\n",
      "2023-12-05 22:18:03,650 [Thread-629 (] [INFO ]  Finished loading transforms [ Compose(\n",
      "    Resize(size=288, interpolation=bicubic, max_size=None, antialias=warn)\n",
      "    CenterCrop(size=(288, 288))\n",
      "    Normalize(mean=(0.48145466, 0.4578275, 0.40821073), std=(0.26862954, 0.26130258, 0.27577711))\n",
      ") ]\n",
      "2023-12-05 22:18:03,651 [Thread-629 (] [INFO ]  Registering hooks.\n",
      "2023-12-05 22:18:03,654 [Thread-629 (] [INFO ]  Finished registering hooks.\n",
      "2023-12-05 22:18:03,658 [Thread-629 (] [INFO ]  Retrieving weights of linear probe [ path = /apps/11785-f23-prj/faceted_visualization/probes/logs/sun397/RN50x4/layer1_3_relu3/version_4_20/model_checkpoint.pth ]\n",
      "2023-12-05 22:18:03,664 [Thread-629 (] [INFO ]  Final list of transforms = [RandomAffine(degrees=[0.0, 0.0], translate=(0.03, 0.03), interpolation=InterpolationMode.NEAREST, fill=0), RandomAffine(degrees=[0.0, 0.0], scale=(0.9, 1.1), interpolation=InterpolationMode.NEAREST, fill=0), RandomRotation(degrees=[-10.0, 10.0], interpolation=InterpolationMode.NEAREST, expand=False, fill=0), RandomAffine(degrees=[0.0, 0.0], translate=(0.015, 0.015), interpolation=InterpolationMode.NEAREST, fill=0)]\n",
      "2023-12-05 22:18:03,665 [Thread-629 (] [INFO ]  Starting optimization process [ run_id = 9kesrabv ]...\n",
      "2023-12-05 22:18:03,714 [Thread-629 (] [INFO ]  Epoch: 1/512: Loss = 55.2812500 :: Learning Rate = 0.0500000\n",
      "2023-12-05 22:18:08,400 [Thread-629 (] [INFO ]  Epoch: 101/512: Loss = 5.9648438 :: Learning Rate = 0.0500000\n",
      "2023-12-05 22:18:13,049 [Thread-629 (] [INFO ]  Epoch: 201/512: Loss = -10.7109375 :: Learning Rate = 0.0500000\n",
      "2023-12-05 22:18:17,691 [Thread-629 (] [INFO ]  Epoch: 301/512: Loss = -21.2812500 :: Learning Rate = 0.0500000\n",
      "2023-12-05 22:18:22,375 [Thread-629 (] [INFO ]  Epoch: 401/512: Loss = -6.7382812 :: Learning Rate = 0.0500000\n",
      "2023-12-05 22:18:27,023 [Thread-629 (] [INFO ]  Epoch: 501/512: Loss = 12.6250000 :: Learning Rate = 0.0500000\n",
      "2023-12-05 22:18:27,566 [Thread-629 (] [INFO ]  Epoch: 512/512: Loss = -27.1875000 :: Learning Rate = 0.0500000\n",
      "2023-12-05 22:18:27,589 [Thread-629 (] [INFO ]  Completed run [ 9kesrabv ]\n"
     ]
    },
    {
     "data": {
      "application/vnd.jupyter.widget-view+json": {
       "model_id": "",
       "version_major": 2,
       "version_minor": 0
      },
      "text/plain": [
       "VBox(children=(Label(value='1.261 MB of 1.261 MB uploaded\\r'), FloatProgress(value=1.0, max=1.0)))"
      ]
     },
     "metadata": {},
     "output_type": "display_data"
    },
    {
     "data": {
      "text/html": [
       "<style>\n",
       "    table.wandb td:nth-child(1) { padding: 0 10px; text-align: left ; width: auto;} td:nth-child(2) {text-align: left ; width: 100%}\n",
       "    .wandb-row { display: flex; flex-direction: row; flex-wrap: wrap; justify-content: flex-start; width: 100% }\n",
       "    .wandb-col { display: flex; flex-direction: column; flex-basis: 100%; flex: 1; padding: 10px; }\n",
       "    </style>\n",
       "<div class=\"wandb-row\"><div class=\"wandb-col\"><h3>Run history:</h3><br/><table class=\"wandb\"><tr><td>loss</td><td>█▄▂▂▃▄▁</td></tr></table><br/></div><div class=\"wandb-col\"><h3>Run summary:</h3><br/><table class=\"wandb\"><tr><td>loss</td><td>-27.1875</td></tr></table><br/></div></div>"
      ],
      "text/plain": [
       "<IPython.core.display.HTML object>"
      ]
     },
     "metadata": {},
     "output_type": "display_data"
    },
    {
     "data": {
      "text/html": [
       " View run <strong style=\"color:#cdcd00\">tough-sweep-16</strong> at: <a href='https://wandb.ai/rohanprasad/idl-project-sun397/runs/9kesrabv' target=\"_blank\">https://wandb.ai/rohanprasad/idl-project-sun397/runs/9kesrabv</a><br/>Synced 6 W&B file(s), 7 media file(s), 0 artifact file(s) and 0 other file(s)"
      ],
      "text/plain": [
       "<IPython.core.display.HTML object>"
      ]
     },
     "metadata": {},
     "output_type": "display_data"
    },
    {
     "data": {
      "text/html": [
       "Find logs at: <code>./wandb/run-20231205_221748-9kesrabv/logs</code>"
      ],
      "text/plain": [
       "<IPython.core.display.HTML object>"
      ]
     },
     "metadata": {},
     "output_type": "display_data"
    },
    {
     "name": "stderr",
     "output_type": "stream",
     "text": [
      "\u001b[34m\u001b[1mwandb\u001b[0m: Agent Starting Run: dmvj7yrs with config:\n",
      "\u001b[34m\u001b[1mwandb\u001b[0m: \tchannel: 1\n",
      "\u001b[34m\u001b[1mwandb\u001b[0m: \tlearning_rate: 0.05\n",
      "\u001b[34m\u001b[1mwandb\u001b[0m: \tlinear_probe_layer: layer2_5_conv3\n",
      "\u001b[34m\u001b[1mwandb\u001b[0m: \tmodel: RN50x4\n",
      "\u001b[34m\u001b[1mwandb\u001b[0m: \tnum_iterations: 512\n",
      "\u001b[34m\u001b[1mwandb\u001b[0m: \tobjective: neuron\n",
      "\u001b[34m\u001b[1mwandb\u001b[0m: \toptimizer: AdamW\n",
      "\u001b[34m\u001b[1mwandb\u001b[0m: \trandom_seed: 80119365\n",
      "\u001b[34m\u001b[1mwandb\u001b[0m: \tuse_std_transforms: True\n",
      "\u001b[34m\u001b[1mwandb\u001b[0m: \tuse_transforms: True\n",
      "\u001b[34m\u001b[1mwandb\u001b[0m: \tvisualization_layer: layer4_5_conv3\n"
     ]
    },
    {
     "data": {
      "text/html": [
       "wandb version 0.16.1 is available!  To upgrade, please run:\n",
       " $ pip install wandb --upgrade"
      ],
      "text/plain": [
       "<IPython.core.display.HTML object>"
      ]
     },
     "metadata": {},
     "output_type": "display_data"
    },
    {
     "data": {
      "text/html": [
       "Tracking run with wandb version 0.16.0"
      ],
      "text/plain": [
       "<IPython.core.display.HTML object>"
      ]
     },
     "metadata": {},
     "output_type": "display_data"
    },
    {
     "data": {
      "text/html": [
       "Run data is saved locally in <code>/apps/11785-f23-prj/wandb/run-20231205_221838-dmvj7yrs</code>"
      ],
      "text/plain": [
       "<IPython.core.display.HTML object>"
      ]
     },
     "metadata": {},
     "output_type": "display_data"
    },
    {
     "data": {
      "text/html": [
       "Syncing run <strong><a href='https://wandb.ai/rohanprasad/idl-project-sun397/runs/dmvj7yrs' target=\"_blank\">mild-sweep-17</a></strong> to <a href='https://wandb.ai/rohanprasad/idl-project-sun397' target=\"_blank\">Weights & Biases</a> (<a href='https://wandb.me/run' target=\"_blank\">docs</a>)<br/>Sweep page: <a href='https://wandb.ai/rohanprasad/idl-project-sun397/sweeps/kzps3xpf' target=\"_blank\">https://wandb.ai/rohanprasad/idl-project-sun397/sweeps/kzps3xpf</a>"
      ],
      "text/plain": [
       "<IPython.core.display.HTML object>"
      ]
     },
     "metadata": {},
     "output_type": "display_data"
    },
    {
     "data": {
      "text/html": [
       " View project at <a href='https://wandb.ai/rohanprasad/idl-project-sun397' target=\"_blank\">https://wandb.ai/rohanprasad/idl-project-sun397</a>"
      ],
      "text/plain": [
       "<IPython.core.display.HTML object>"
      ]
     },
     "metadata": {},
     "output_type": "display_data"
    },
    {
     "data": {
      "text/html": [
       " View sweep at <a href='https://wandb.ai/rohanprasad/idl-project-sun397/sweeps/kzps3xpf' target=\"_blank\">https://wandb.ai/rohanprasad/idl-project-sun397/sweeps/kzps3xpf</a>"
      ],
      "text/plain": [
       "<IPython.core.display.HTML object>"
      ]
     },
     "metadata": {},
     "output_type": "display_data"
    },
    {
     "data": {
      "text/html": [
       " View run at <a href='https://wandb.ai/rohanprasad/idl-project-sun397/runs/dmvj7yrs' target=\"_blank\">https://wandb.ai/rohanprasad/idl-project-sun397/runs/dmvj7yrs</a>"
      ],
      "text/plain": [
       "<IPython.core.display.HTML object>"
      ]
     },
     "metadata": {},
     "output_type": "display_data"
    },
    {
     "name": "stderr",
     "output_type": "stream",
     "text": [
      "2023-12-05 22:18:49,059 [Thread-632 (] [INFO ]  Starting sweep [ run  dmvj7yrs ] with config = \n",
      "{'channel': 1, 'learning_rate': 0.05, 'linear_probe_layer': 'layer2_5_conv3', 'model': 'RN50x4', 'num_iterations': 512, 'objective': 'neuron', 'optimizer': 'AdamW', 'random_seed': 80119365, 'use_std_transforms': True, 'use_transforms': True, 'visualization_layer': 'layer4_5_conv3'}\n",
      "2023-12-05 22:18:49,061 [Thread-632 (] [INFO ]  Setting random seed to 80119365\n",
      "2023-12-05 22:18:49,062 [Thread-632 (] [INFO ]  Loading CLIP model [ RN50x4 ].\n",
      "2023-12-05 22:18:53,489 [Thread-632 (] [INFO ]  Finished loading model [ RN50x4 ]\n",
      "2023-12-05 22:18:53,491 [Thread-632 (] [INFO ]  Finished loading transforms [ Compose(\n",
      "    Resize(size=288, interpolation=bicubic, max_size=None, antialias=warn)\n",
      "    CenterCrop(size=(288, 288))\n",
      "    Normalize(mean=(0.48145466, 0.4578275, 0.40821073), std=(0.26862954, 0.26130258, 0.27577711))\n",
      ") ]\n",
      "2023-12-05 22:18:53,492 [Thread-632 (] [INFO ]  Registering hooks.\n",
      "2023-12-05 22:18:53,495 [Thread-632 (] [INFO ]  Finished registering hooks.\n",
      "2023-12-05 22:18:53,499 [Thread-632 (] [INFO ]  Retrieving weights of linear probe [ path = /apps/11785-f23-prj/faceted_visualization/probes/logs/sun397/RN50x4/layer2_5_conv3/version_4_20/model_checkpoint.pth ]\n",
      "2023-12-05 22:18:53,503 [Thread-632 (] [INFO ]  Final list of transforms = [Resize(size=288, interpolation=bicubic, max_size=None, antialias=warn), CenterCrop(size=(288, 288)), Normalize(mean=(0.48145466, 0.4578275, 0.40821073), std=(0.26862954, 0.26130258, 0.27577711)), RandomAffine(degrees=[0.0, 0.0], translate=(0.03, 0.03), interpolation=InterpolationMode.NEAREST, fill=0), RandomAffine(degrees=[0.0, 0.0], scale=(0.9, 1.1), interpolation=InterpolationMode.NEAREST, fill=0), RandomRotation(degrees=[-10.0, 10.0], interpolation=InterpolationMode.NEAREST, expand=False, fill=0), RandomAffine(degrees=[0.0, 0.0], translate=(0.015, 0.015), interpolation=InterpolationMode.NEAREST, fill=0)]\n",
      "2023-12-05 22:18:53,504 [Thread-632 (] [INFO ]  Starting optimization process [ run_id = dmvj7yrs ]...\n",
      "/opt/conda/lib/python3.10/site-packages/torchvision/transforms/functional.py:1603: UserWarning: The default value of the antialias parameter of all the resizing transforms (Resize(), RandomResizedCrop(), etc.) will change from None to True in v0.17, in order to be consistent across the PIL and Tensor backends. To suppress this warning, directly pass antialias=True (recommended, future default), antialias=None (current default, which means False for Tensors and True for PIL), or antialias=False (only works on Tensors - PIL will still use antialiasing). This also applies if you are using the inference transforms from the models weights: update the call to weights.transforms(antialias=True).\n",
      "  warnings.warn(\n",
      "2023-12-05 22:18:53,547 [Thread-632 (] [INFO ]  Epoch: 1/512: Loss = 0.0130386 :: Learning Rate = 0.0500000\n",
      "2023-12-05 22:18:57,919 [Thread-632 (] [INFO ]  Epoch: 101/512: Loss = -0.5019531 :: Learning Rate = 0.0500000\n",
      "2023-12-05 22:19:02,246 [Thread-632 (] [INFO ]  Epoch: 201/512: Loss = -0.9541016 :: Learning Rate = 0.0500000\n",
      "2023-12-05 22:19:06,556 [Thread-632 (] [INFO ]  Epoch: 301/512: Loss = -1.0898438 :: Learning Rate = 0.0500000\n",
      "2023-12-05 22:19:10,886 [Thread-632 (] [INFO ]  Epoch: 401/512: Loss = -1.3349609 :: Learning Rate = 0.0500000\n",
      "2023-12-05 22:19:15,182 [Thread-632 (] [INFO ]  Epoch: 501/512: Loss = -1.7294922 :: Learning Rate = 0.0500000\n",
      "2023-12-05 22:19:15,669 [Thread-632 (] [INFO ]  Epoch: 512/512: Loss = -1.4775391 :: Learning Rate = 0.0500000\n",
      "2023-12-05 22:19:15,693 [Thread-632 (] [INFO ]  Completed run [ dmvj7yrs ]\n"
     ]
    },
    {
     "data": {
      "application/vnd.jupyter.widget-view+json": {
       "model_id": "",
       "version_major": 2,
       "version_minor": 0
      },
      "text/plain": [
       "VBox(children=(Label(value='1.203 MB of 1.203 MB uploaded\\r'), FloatProgress(value=1.0, max=1.0)))"
      ]
     },
     "metadata": {},
     "output_type": "display_data"
    },
    {
     "data": {
      "text/html": [
       "<style>\n",
       "    table.wandb td:nth-child(1) { padding: 0 10px; text-align: left ; width: auto;} td:nth-child(2) {text-align: left ; width: 100%}\n",
       "    .wandb-row { display: flex; flex-direction: row; flex-wrap: wrap; justify-content: flex-start; width: 100% }\n",
       "    .wandb-col { display: flex; flex-direction: column; flex-basis: 100%; flex: 1; padding: 10px; }\n",
       "    </style>\n",
       "<div class=\"wandb-row\"><div class=\"wandb-col\"><h3>Run history:</h3><br/><table class=\"wandb\"><tr><td>loss</td><td>█▆▄▄▃▁▂</td></tr></table><br/></div><div class=\"wandb-col\"><h3>Run summary:</h3><br/><table class=\"wandb\"><tr><td>loss</td><td>-1.47754</td></tr></table><br/></div></div>"
      ],
      "text/plain": [
       "<IPython.core.display.HTML object>"
      ]
     },
     "metadata": {},
     "output_type": "display_data"
    },
    {
     "data": {
      "text/html": [
       " View run <strong style=\"color:#cdcd00\">mild-sweep-17</strong> at: <a href='https://wandb.ai/rohanprasad/idl-project-sun397/runs/dmvj7yrs' target=\"_blank\">https://wandb.ai/rohanprasad/idl-project-sun397/runs/dmvj7yrs</a><br/>Synced 6 W&B file(s), 7 media file(s), 0 artifact file(s) and 0 other file(s)"
      ],
      "text/plain": [
       "<IPython.core.display.HTML object>"
      ]
     },
     "metadata": {},
     "output_type": "display_data"
    },
    {
     "data": {
      "text/html": [
       "Find logs at: <code>./wandb/run-20231205_221838-dmvj7yrs/logs</code>"
      ],
      "text/plain": [
       "<IPython.core.display.HTML object>"
      ]
     },
     "metadata": {},
     "output_type": "display_data"
    },
    {
     "name": "stderr",
     "output_type": "stream",
     "text": [
      "\u001b[34m\u001b[1mwandb\u001b[0m: Agent Starting Run: kat3420b with config:\n",
      "\u001b[34m\u001b[1mwandb\u001b[0m: \tchannel: 1\n",
      "\u001b[34m\u001b[1mwandb\u001b[0m: \tlearning_rate: 0.05\n",
      "\u001b[34m\u001b[1mwandb\u001b[0m: \tlinear_probe_layer: layer2_5_conv3\n",
      "\u001b[34m\u001b[1mwandb\u001b[0m: \tmodel: RN50x4\n",
      "\u001b[34m\u001b[1mwandb\u001b[0m: \tnum_iterations: 512\n",
      "\u001b[34m\u001b[1mwandb\u001b[0m: \tobjective: neuron\n",
      "\u001b[34m\u001b[1mwandb\u001b[0m: \toptimizer: AdamW\n",
      "\u001b[34m\u001b[1mwandb\u001b[0m: \trandom_seed: 80119365\n",
      "\u001b[34m\u001b[1mwandb\u001b[0m: \tuse_std_transforms: True\n",
      "\u001b[34m\u001b[1mwandb\u001b[0m: \tuse_transforms: False\n",
      "\u001b[34m\u001b[1mwandb\u001b[0m: \tvisualization_layer: layer4_5_conv3\n"
     ]
    },
    {
     "data": {
      "text/html": [
       "wandb version 0.16.1 is available!  To upgrade, please run:\n",
       " $ pip install wandb --upgrade"
      ],
      "text/plain": [
       "<IPython.core.display.HTML object>"
      ]
     },
     "metadata": {},
     "output_type": "display_data"
    },
    {
     "data": {
      "text/html": [
       "Tracking run with wandb version 0.16.0"
      ],
      "text/plain": [
       "<IPython.core.display.HTML object>"
      ]
     },
     "metadata": {},
     "output_type": "display_data"
    },
    {
     "data": {
      "text/html": [
       "Run data is saved locally in <code>/apps/11785-f23-prj/wandb/run-20231205_221924-kat3420b</code>"
      ],
      "text/plain": [
       "<IPython.core.display.HTML object>"
      ]
     },
     "metadata": {},
     "output_type": "display_data"
    },
    {
     "data": {
      "text/html": [
       "Syncing run <strong><a href='https://wandb.ai/rohanprasad/idl-project-sun397/runs/kat3420b' target=\"_blank\">vital-sweep-18</a></strong> to <a href='https://wandb.ai/rohanprasad/idl-project-sun397' target=\"_blank\">Weights & Biases</a> (<a href='https://wandb.me/run' target=\"_blank\">docs</a>)<br/>Sweep page: <a href='https://wandb.ai/rohanprasad/idl-project-sun397/sweeps/kzps3xpf' target=\"_blank\">https://wandb.ai/rohanprasad/idl-project-sun397/sweeps/kzps3xpf</a>"
      ],
      "text/plain": [
       "<IPython.core.display.HTML object>"
      ]
     },
     "metadata": {},
     "output_type": "display_data"
    },
    {
     "data": {
      "text/html": [
       " View project at <a href='https://wandb.ai/rohanprasad/idl-project-sun397' target=\"_blank\">https://wandb.ai/rohanprasad/idl-project-sun397</a>"
      ],
      "text/plain": [
       "<IPython.core.display.HTML object>"
      ]
     },
     "metadata": {},
     "output_type": "display_data"
    },
    {
     "data": {
      "text/html": [
       " View sweep at <a href='https://wandb.ai/rohanprasad/idl-project-sun397/sweeps/kzps3xpf' target=\"_blank\">https://wandb.ai/rohanprasad/idl-project-sun397/sweeps/kzps3xpf</a>"
      ],
      "text/plain": [
       "<IPython.core.display.HTML object>"
      ]
     },
     "metadata": {},
     "output_type": "display_data"
    },
    {
     "data": {
      "text/html": [
       " View run at <a href='https://wandb.ai/rohanprasad/idl-project-sun397/runs/kat3420b' target=\"_blank\">https://wandb.ai/rohanprasad/idl-project-sun397/runs/kat3420b</a>"
      ],
      "text/plain": [
       "<IPython.core.display.HTML object>"
      ]
     },
     "metadata": {},
     "output_type": "display_data"
    },
    {
     "name": "stderr",
     "output_type": "stream",
     "text": [
      "2023-12-05 22:19:35,131 [Thread-635 (] [INFO ]  Starting sweep [ run  kat3420b ] with config = \n",
      "{'channel': 1, 'learning_rate': 0.05, 'linear_probe_layer': 'layer2_5_conv3', 'model': 'RN50x4', 'num_iterations': 512, 'objective': 'neuron', 'optimizer': 'AdamW', 'random_seed': 80119365, 'use_std_transforms': True, 'use_transforms': False, 'visualization_layer': 'layer4_5_conv3'}\n",
      "2023-12-05 22:19:35,132 [Thread-635 (] [INFO ]  Setting random seed to 80119365\n",
      "2023-12-05 22:19:35,134 [Thread-635 (] [INFO ]  Loading CLIP model [ RN50x4 ].\n",
      "2023-12-05 22:19:39,536 [Thread-635 (] [INFO ]  Finished loading model [ RN50x4 ]\n",
      "2023-12-05 22:19:39,537 [Thread-635 (] [INFO ]  Finished loading transforms [ Compose(\n",
      "    Resize(size=288, interpolation=bicubic, max_size=None, antialias=warn)\n",
      "    CenterCrop(size=(288, 288))\n",
      "    Normalize(mean=(0.48145466, 0.4578275, 0.40821073), std=(0.26862954, 0.26130258, 0.27577711))\n",
      ") ]\n",
      "2023-12-05 22:19:39,538 [Thread-635 (] [INFO ]  Registering hooks.\n",
      "2023-12-05 22:19:39,542 [Thread-635 (] [INFO ]  Finished registering hooks.\n",
      "2023-12-05 22:19:39,546 [Thread-635 (] [INFO ]  Retrieving weights of linear probe [ path = /apps/11785-f23-prj/faceted_visualization/probes/logs/sun397/RN50x4/layer2_5_conv3/version_4_20/model_checkpoint.pth ]\n",
      "2023-12-05 22:19:39,550 [Thread-635 (] [INFO ]  Final list of transforms = [RandomAffine(degrees=[0.0, 0.0], translate=(0.03, 0.03), interpolation=InterpolationMode.NEAREST, fill=0), RandomAffine(degrees=[0.0, 0.0], scale=(0.9, 1.1), interpolation=InterpolationMode.NEAREST, fill=0), RandomRotation(degrees=[-10.0, 10.0], interpolation=InterpolationMode.NEAREST, expand=False, fill=0), RandomAffine(degrees=[0.0, 0.0], translate=(0.015, 0.015), interpolation=InterpolationMode.NEAREST, fill=0)]\n",
      "2023-12-05 22:19:39,551 [Thread-635 (] [INFO ]  Starting optimization process [ run_id = kat3420b ]...\n",
      "2023-12-05 22:19:39,594 [Thread-635 (] [INFO ]  Epoch: 1/512: Loss = 0.3129883 :: Learning Rate = 0.0500000\n",
      "2023-12-05 22:19:43,902 [Thread-635 (] [INFO ]  Epoch: 101/512: Loss = -0.9018555 :: Learning Rate = 0.0500000\n",
      "2023-12-05 22:19:48,171 [Thread-635 (] [INFO ]  Epoch: 201/512: Loss = -1.4375000 :: Learning Rate = 0.0500000\n",
      "2023-12-05 22:19:52,409 [Thread-635 (] [INFO ]  Epoch: 301/512: Loss = -1.5986328 :: Learning Rate = 0.0500000\n",
      "2023-12-05 22:19:56,646 [Thread-635 (] [INFO ]  Epoch: 401/512: Loss = -1.7617188 :: Learning Rate = 0.0500000\n",
      "2023-12-05 22:20:00,879 [Thread-635 (] [INFO ]  Epoch: 501/512: Loss = -1.6796875 :: Learning Rate = 0.0500000\n",
      "2023-12-05 22:20:01,369 [Thread-635 (] [INFO ]  Epoch: 512/512: Loss = -1.8613281 :: Learning Rate = 0.0500000\n",
      "2023-12-05 22:20:01,392 [Thread-635 (] [INFO ]  Completed run [ kat3420b ]\n"
     ]
    },
    {
     "data": {
      "application/vnd.jupyter.widget-view+json": {
       "model_id": "",
       "version_major": 2,
       "version_minor": 0
      },
      "text/plain": [
       "VBox(children=(Label(value='1.212 MB of 1.212 MB uploaded\\r'), FloatProgress(value=1.0, max=1.0)))"
      ]
     },
     "metadata": {},
     "output_type": "display_data"
    },
    {
     "data": {
      "text/html": [
       "<style>\n",
       "    table.wandb td:nth-child(1) { padding: 0 10px; text-align: left ; width: auto;} td:nth-child(2) {text-align: left ; width: 100%}\n",
       "    .wandb-row { display: flex; flex-direction: row; flex-wrap: wrap; justify-content: flex-start; width: 100% }\n",
       "    .wandb-col { display: flex; flex-direction: column; flex-basis: 100%; flex: 1; padding: 10px; }\n",
       "    </style>\n",
       "<div class=\"wandb-row\"><div class=\"wandb-col\"><h3>Run history:</h3><br/><table class=\"wandb\"><tr><td>loss</td><td>█▄▂▂▁▂▁</td></tr></table><br/></div><div class=\"wandb-col\"><h3>Run summary:</h3><br/><table class=\"wandb\"><tr><td>loss</td><td>-1.86133</td></tr></table><br/></div></div>"
      ],
      "text/plain": [
       "<IPython.core.display.HTML object>"
      ]
     },
     "metadata": {},
     "output_type": "display_data"
    },
    {
     "data": {
      "text/html": [
       " View run <strong style=\"color:#cdcd00\">vital-sweep-18</strong> at: <a href='https://wandb.ai/rohanprasad/idl-project-sun397/runs/kat3420b' target=\"_blank\">https://wandb.ai/rohanprasad/idl-project-sun397/runs/kat3420b</a><br/>Synced 6 W&B file(s), 7 media file(s), 0 artifact file(s) and 0 other file(s)"
      ],
      "text/plain": [
       "<IPython.core.display.HTML object>"
      ]
     },
     "metadata": {},
     "output_type": "display_data"
    },
    {
     "data": {
      "text/html": [
       "Find logs at: <code>./wandb/run-20231205_221924-kat3420b/logs</code>"
      ],
      "text/plain": [
       "<IPython.core.display.HTML object>"
      ]
     },
     "metadata": {},
     "output_type": "display_data"
    },
    {
     "name": "stderr",
     "output_type": "stream",
     "text": [
      "\u001b[34m\u001b[1mwandb\u001b[0m: Agent Starting Run: a0u1emax with config:\n",
      "\u001b[34m\u001b[1mwandb\u001b[0m: \tchannel: 1\n",
      "\u001b[34m\u001b[1mwandb\u001b[0m: \tlearning_rate: 0.05\n",
      "\u001b[34m\u001b[1mwandb\u001b[0m: \tlinear_probe_layer: layer2_5_conv3\n",
      "\u001b[34m\u001b[1mwandb\u001b[0m: \tmodel: RN50x4\n",
      "\u001b[34m\u001b[1mwandb\u001b[0m: \tnum_iterations: 512\n",
      "\u001b[34m\u001b[1mwandb\u001b[0m: \tobjective: channel\n",
      "\u001b[34m\u001b[1mwandb\u001b[0m: \toptimizer: AdamW\n",
      "\u001b[34m\u001b[1mwandb\u001b[0m: \trandom_seed: 80119365\n",
      "\u001b[34m\u001b[1mwandb\u001b[0m: \tuse_std_transforms: True\n",
      "\u001b[34m\u001b[1mwandb\u001b[0m: \tuse_transforms: True\n",
      "\u001b[34m\u001b[1mwandb\u001b[0m: \tvisualization_layer: layer4_5_conv3\n"
     ]
    },
    {
     "data": {
      "text/html": [
       "wandb version 0.16.1 is available!  To upgrade, please run:\n",
       " $ pip install wandb --upgrade"
      ],
      "text/plain": [
       "<IPython.core.display.HTML object>"
      ]
     },
     "metadata": {},
     "output_type": "display_data"
    },
    {
     "data": {
      "text/html": [
       "Tracking run with wandb version 0.16.0"
      ],
      "text/plain": [
       "<IPython.core.display.HTML object>"
      ]
     },
     "metadata": {},
     "output_type": "display_data"
    },
    {
     "data": {
      "text/html": [
       "Run data is saved locally in <code>/apps/11785-f23-prj/wandb/run-20231205_222010-a0u1emax</code>"
      ],
      "text/plain": [
       "<IPython.core.display.HTML object>"
      ]
     },
     "metadata": {},
     "output_type": "display_data"
    },
    {
     "data": {
      "text/html": [
       "Syncing run <strong><a href='https://wandb.ai/rohanprasad/idl-project-sun397/runs/a0u1emax' target=\"_blank\">winter-sweep-19</a></strong> to <a href='https://wandb.ai/rohanprasad/idl-project-sun397' target=\"_blank\">Weights & Biases</a> (<a href='https://wandb.me/run' target=\"_blank\">docs</a>)<br/>Sweep page: <a href='https://wandb.ai/rohanprasad/idl-project-sun397/sweeps/kzps3xpf' target=\"_blank\">https://wandb.ai/rohanprasad/idl-project-sun397/sweeps/kzps3xpf</a>"
      ],
      "text/plain": [
       "<IPython.core.display.HTML object>"
      ]
     },
     "metadata": {},
     "output_type": "display_data"
    },
    {
     "data": {
      "text/html": [
       " View project at <a href='https://wandb.ai/rohanprasad/idl-project-sun397' target=\"_blank\">https://wandb.ai/rohanprasad/idl-project-sun397</a>"
      ],
      "text/plain": [
       "<IPython.core.display.HTML object>"
      ]
     },
     "metadata": {},
     "output_type": "display_data"
    },
    {
     "data": {
      "text/html": [
       " View sweep at <a href='https://wandb.ai/rohanprasad/idl-project-sun397/sweeps/kzps3xpf' target=\"_blank\">https://wandb.ai/rohanprasad/idl-project-sun397/sweeps/kzps3xpf</a>"
      ],
      "text/plain": [
       "<IPython.core.display.HTML object>"
      ]
     },
     "metadata": {},
     "output_type": "display_data"
    },
    {
     "data": {
      "text/html": [
       " View run at <a href='https://wandb.ai/rohanprasad/idl-project-sun397/runs/a0u1emax' target=\"_blank\">https://wandb.ai/rohanprasad/idl-project-sun397/runs/a0u1emax</a>"
      ],
      "text/plain": [
       "<IPython.core.display.HTML object>"
      ]
     },
     "metadata": {},
     "output_type": "display_data"
    },
    {
     "name": "stderr",
     "output_type": "stream",
     "text": [
      "2023-12-05 22:20:20,407 [Thread-638 (] [INFO ]  Starting sweep [ run  a0u1emax ] with config = \n",
      "{'channel': 1, 'learning_rate': 0.05, 'linear_probe_layer': 'layer2_5_conv3', 'model': 'RN50x4', 'num_iterations': 512, 'objective': 'channel', 'optimizer': 'AdamW', 'random_seed': 80119365, 'use_std_transforms': True, 'use_transforms': True, 'visualization_layer': 'layer4_5_conv3'}\n",
      "2023-12-05 22:20:20,408 [Thread-638 (] [INFO ]  Setting random seed to 80119365\n",
      "2023-12-05 22:20:20,409 [Thread-638 (] [INFO ]  Loading CLIP model [ RN50x4 ].\n",
      "2023-12-05 22:20:24,831 [Thread-638 (] [INFO ]  Finished loading model [ RN50x4 ]\n",
      "2023-12-05 22:20:24,833 [Thread-638 (] [INFO ]  Finished loading transforms [ Compose(\n",
      "    Resize(size=288, interpolation=bicubic, max_size=None, antialias=warn)\n",
      "    CenterCrop(size=(288, 288))\n",
      "    Normalize(mean=(0.48145466, 0.4578275, 0.40821073), std=(0.26862954, 0.26130258, 0.27577711))\n",
      ") ]\n",
      "2023-12-05 22:20:24,833 [Thread-638 (] [INFO ]  Registering hooks.\n",
      "2023-12-05 22:20:24,836 [Thread-638 (] [INFO ]  Finished registering hooks.\n",
      "2023-12-05 22:20:24,841 [Thread-638 (] [INFO ]  Retrieving weights of linear probe [ path = /apps/11785-f23-prj/faceted_visualization/probes/logs/sun397/RN50x4/layer2_5_conv3/version_4_20/model_checkpoint.pth ]\n",
      "2023-12-05 22:20:24,844 [Thread-638 (] [INFO ]  Final list of transforms = [Resize(size=288, interpolation=bicubic, max_size=None, antialias=warn), CenterCrop(size=(288, 288)), Normalize(mean=(0.48145466, 0.4578275, 0.40821073), std=(0.26862954, 0.26130258, 0.27577711)), RandomAffine(degrees=[0.0, 0.0], translate=(0.03, 0.03), interpolation=InterpolationMode.NEAREST, fill=0), RandomAffine(degrees=[0.0, 0.0], scale=(0.9, 1.1), interpolation=InterpolationMode.NEAREST, fill=0), RandomRotation(degrees=[-10.0, 10.0], interpolation=InterpolationMode.NEAREST, expand=False, fill=0), RandomAffine(degrees=[0.0, 0.0], translate=(0.015, 0.015), interpolation=InterpolationMode.NEAREST, fill=0)]\n",
      "2023-12-05 22:20:24,845 [Thread-638 (] [INFO ]  Starting optimization process [ run_id = a0u1emax ]...\n",
      "/opt/conda/lib/python3.10/site-packages/torchvision/transforms/functional.py:1603: UserWarning: The default value of the antialias parameter of all the resizing transforms (Resize(), RandomResizedCrop(), etc.) will change from None to True in v0.17, in order to be consistent across the PIL and Tensor backends. To suppress this warning, directly pass antialias=True (recommended, future default), antialias=None (current default, which means False for Tensors and True for PIL), or antialias=False (only works on Tensors - PIL will still use antialiasing). This also applies if you are using the inference transforms from the models weights: update the call to weights.transforms(antialias=True).\n",
      "  warnings.warn(\n",
      "2023-12-05 22:20:24,890 [Thread-638 (] [INFO ]  Epoch: 1/512: Loss = 0.0592957 :: Learning Rate = 0.0500000\n",
      "2023-12-05 22:20:29,237 [Thread-638 (] [INFO ]  Epoch: 101/512: Loss = -0.2137451 :: Learning Rate = 0.0500000\n",
      "2023-12-05 22:20:33,546 [Thread-638 (] [INFO ]  Epoch: 201/512: Loss = -0.4694824 :: Learning Rate = 0.0500000\n",
      "2023-12-05 22:20:37,856 [Thread-638 (] [INFO ]  Epoch: 301/512: Loss = -0.4650879 :: Learning Rate = 0.0500000\n",
      "2023-12-05 22:20:42,177 [Thread-638 (] [INFO ]  Epoch: 401/512: Loss = -0.7690430 :: Learning Rate = 0.0500000\n",
      "2023-12-05 22:20:46,519 [Thread-638 (] [INFO ]  Epoch: 501/512: Loss = -0.7636719 :: Learning Rate = 0.0500000\n",
      "2023-12-05 22:20:47,021 [Thread-638 (] [INFO ]  Epoch: 512/512: Loss = -0.7031250 :: Learning Rate = 0.0500000\n",
      "2023-12-05 22:20:47,044 [Thread-638 (] [INFO ]  Completed run [ a0u1emax ]\n"
     ]
    },
    {
     "data": {
      "application/vnd.jupyter.widget-view+json": {
       "model_id": "",
       "version_major": 2,
       "version_minor": 0
      },
      "text/plain": [
       "VBox(children=(Label(value='1.285 MB of 1.285 MB uploaded\\r'), FloatProgress(value=1.0, max=1.0)))"
      ]
     },
     "metadata": {},
     "output_type": "display_data"
    },
    {
     "data": {
      "text/html": [
       "<style>\n",
       "    table.wandb td:nth-child(1) { padding: 0 10px; text-align: left ; width: auto;} td:nth-child(2) {text-align: left ; width: 100%}\n",
       "    .wandb-row { display: flex; flex-direction: row; flex-wrap: wrap; justify-content: flex-start; width: 100% }\n",
       "    .wandb-col { display: flex; flex-direction: column; flex-basis: 100%; flex: 1; padding: 10px; }\n",
       "    </style>\n",
       "<div class=\"wandb-row\"><div class=\"wandb-col\"><h3>Run history:</h3><br/><table class=\"wandb\"><tr><td>loss</td><td>█▆▄▄▁▁▂</td></tr></table><br/></div><div class=\"wandb-col\"><h3>Run summary:</h3><br/><table class=\"wandb\"><tr><td>loss</td><td>-0.70312</td></tr></table><br/></div></div>"
      ],
      "text/plain": [
       "<IPython.core.display.HTML object>"
      ]
     },
     "metadata": {},
     "output_type": "display_data"
    },
    {
     "data": {
      "text/html": [
       " View run <strong style=\"color:#cdcd00\">winter-sweep-19</strong> at: <a href='https://wandb.ai/rohanprasad/idl-project-sun397/runs/a0u1emax' target=\"_blank\">https://wandb.ai/rohanprasad/idl-project-sun397/runs/a0u1emax</a><br/>Synced 6 W&B file(s), 7 media file(s), 0 artifact file(s) and 0 other file(s)"
      ],
      "text/plain": [
       "<IPython.core.display.HTML object>"
      ]
     },
     "metadata": {},
     "output_type": "display_data"
    },
    {
     "data": {
      "text/html": [
       "Find logs at: <code>./wandb/run-20231205_222010-a0u1emax/logs</code>"
      ],
      "text/plain": [
       "<IPython.core.display.HTML object>"
      ]
     },
     "metadata": {},
     "output_type": "display_data"
    },
    {
     "name": "stderr",
     "output_type": "stream",
     "text": [
      "\u001b[34m\u001b[1mwandb\u001b[0m: Agent Starting Run: 1twqu9n3 with config:\n",
      "\u001b[34m\u001b[1mwandb\u001b[0m: \tchannel: 1\n",
      "\u001b[34m\u001b[1mwandb\u001b[0m: \tlearning_rate: 0.05\n",
      "\u001b[34m\u001b[1mwandb\u001b[0m: \tlinear_probe_layer: layer2_5_conv3\n",
      "\u001b[34m\u001b[1mwandb\u001b[0m: \tmodel: RN50x4\n",
      "\u001b[34m\u001b[1mwandb\u001b[0m: \tnum_iterations: 512\n",
      "\u001b[34m\u001b[1mwandb\u001b[0m: \tobjective: channel\n",
      "\u001b[34m\u001b[1mwandb\u001b[0m: \toptimizer: AdamW\n",
      "\u001b[34m\u001b[1mwandb\u001b[0m: \trandom_seed: 80119365\n",
      "\u001b[34m\u001b[1mwandb\u001b[0m: \tuse_std_transforms: True\n",
      "\u001b[34m\u001b[1mwandb\u001b[0m: \tuse_transforms: False\n",
      "\u001b[34m\u001b[1mwandb\u001b[0m: \tvisualization_layer: layer4_5_conv3\n"
     ]
    },
    {
     "data": {
      "text/html": [
       "wandb version 0.16.1 is available!  To upgrade, please run:\n",
       " $ pip install wandb --upgrade"
      ],
      "text/plain": [
       "<IPython.core.display.HTML object>"
      ]
     },
     "metadata": {},
     "output_type": "display_data"
    },
    {
     "data": {
      "text/html": [
       "Tracking run with wandb version 0.16.0"
      ],
      "text/plain": [
       "<IPython.core.display.HTML object>"
      ]
     },
     "metadata": {},
     "output_type": "display_data"
    },
    {
     "data": {
      "text/html": [
       "Run data is saved locally in <code>/apps/11785-f23-prj/wandb/run-20231205_222056-1twqu9n3</code>"
      ],
      "text/plain": [
       "<IPython.core.display.HTML object>"
      ]
     },
     "metadata": {},
     "output_type": "display_data"
    },
    {
     "data": {
      "text/html": [
       "Syncing run <strong><a href='https://wandb.ai/rohanprasad/idl-project-sun397/runs/1twqu9n3' target=\"_blank\">jolly-sweep-20</a></strong> to <a href='https://wandb.ai/rohanprasad/idl-project-sun397' target=\"_blank\">Weights & Biases</a> (<a href='https://wandb.me/run' target=\"_blank\">docs</a>)<br/>Sweep page: <a href='https://wandb.ai/rohanprasad/idl-project-sun397/sweeps/kzps3xpf' target=\"_blank\">https://wandb.ai/rohanprasad/idl-project-sun397/sweeps/kzps3xpf</a>"
      ],
      "text/plain": [
       "<IPython.core.display.HTML object>"
      ]
     },
     "metadata": {},
     "output_type": "display_data"
    },
    {
     "data": {
      "text/html": [
       " View project at <a href='https://wandb.ai/rohanprasad/idl-project-sun397' target=\"_blank\">https://wandb.ai/rohanprasad/idl-project-sun397</a>"
      ],
      "text/plain": [
       "<IPython.core.display.HTML object>"
      ]
     },
     "metadata": {},
     "output_type": "display_data"
    },
    {
     "data": {
      "text/html": [
       " View sweep at <a href='https://wandb.ai/rohanprasad/idl-project-sun397/sweeps/kzps3xpf' target=\"_blank\">https://wandb.ai/rohanprasad/idl-project-sun397/sweeps/kzps3xpf</a>"
      ],
      "text/plain": [
       "<IPython.core.display.HTML object>"
      ]
     },
     "metadata": {},
     "output_type": "display_data"
    },
    {
     "data": {
      "text/html": [
       " View run at <a href='https://wandb.ai/rohanprasad/idl-project-sun397/runs/1twqu9n3' target=\"_blank\">https://wandb.ai/rohanprasad/idl-project-sun397/runs/1twqu9n3</a>"
      ],
      "text/plain": [
       "<IPython.core.display.HTML object>"
      ]
     },
     "metadata": {},
     "output_type": "display_data"
    },
    {
     "name": "stderr",
     "output_type": "stream",
     "text": [
      "2023-12-05 22:21:06,426 [Thread-641 (] [INFO ]  Starting sweep [ run  1twqu9n3 ] with config = \n",
      "{'channel': 1, 'learning_rate': 0.05, 'linear_probe_layer': 'layer2_5_conv3', 'model': 'RN50x4', 'num_iterations': 512, 'objective': 'channel', 'optimizer': 'AdamW', 'random_seed': 80119365, 'use_std_transforms': True, 'use_transforms': False, 'visualization_layer': 'layer4_5_conv3'}\n",
      "2023-12-05 22:21:06,428 [Thread-641 (] [INFO ]  Setting random seed to 80119365\n",
      "2023-12-05 22:21:06,430 [Thread-641 (] [INFO ]  Loading CLIP model [ RN50x4 ].\n",
      "2023-12-05 22:21:11,041 [Thread-641 (] [INFO ]  Finished loading model [ RN50x4 ]\n",
      "2023-12-05 22:21:11,043 [Thread-641 (] [INFO ]  Finished loading transforms [ Compose(\n",
      "    Resize(size=288, interpolation=bicubic, max_size=None, antialias=warn)\n",
      "    CenterCrop(size=(288, 288))\n",
      "    Normalize(mean=(0.48145466, 0.4578275, 0.40821073), std=(0.26862954, 0.26130258, 0.27577711))\n",
      ") ]\n",
      "2023-12-05 22:21:11,044 [Thread-641 (] [INFO ]  Registering hooks.\n",
      "2023-12-05 22:21:11,047 [Thread-641 (] [INFO ]  Finished registering hooks.\n",
      "2023-12-05 22:21:11,051 [Thread-641 (] [INFO ]  Retrieving weights of linear probe [ path = /apps/11785-f23-prj/faceted_visualization/probes/logs/sun397/RN50x4/layer2_5_conv3/version_4_20/model_checkpoint.pth ]\n",
      "2023-12-05 22:21:11,055 [Thread-641 (] [INFO ]  Final list of transforms = [RandomAffine(degrees=[0.0, 0.0], translate=(0.03, 0.03), interpolation=InterpolationMode.NEAREST, fill=0), RandomAffine(degrees=[0.0, 0.0], scale=(0.9, 1.1), interpolation=InterpolationMode.NEAREST, fill=0), RandomRotation(degrees=[-10.0, 10.0], interpolation=InterpolationMode.NEAREST, expand=False, fill=0), RandomAffine(degrees=[0.0, 0.0], translate=(0.015, 0.015), interpolation=InterpolationMode.NEAREST, fill=0)]\n",
      "2023-12-05 22:21:11,056 [Thread-641 (] [INFO ]  Starting optimization process [ run_id = 1twqu9n3 ]...\n",
      "2023-12-05 22:21:11,100 [Thread-641 (] [INFO ]  Epoch: 1/512: Loss = 0.3352051 :: Learning Rate = 0.0500000\n",
      "2023-12-05 22:21:15,516 [Thread-641 (] [INFO ]  Epoch: 101/512: Loss = -0.1440430 :: Learning Rate = 0.0500000\n",
      "2023-12-05 22:21:19,785 [Thread-641 (] [INFO ]  Epoch: 201/512: Loss = -0.3325195 :: Learning Rate = 0.0500000\n",
      "2023-12-05 22:21:24,257 [Thread-641 (] [INFO ]  Epoch: 301/512: Loss = -0.2619629 :: Learning Rate = 0.0500000\n",
      "2023-12-05 22:21:28,561 [Thread-641 (] [INFO ]  Epoch: 401/512: Loss = -0.3925781 :: Learning Rate = 0.0500000\n",
      "2023-12-05 22:21:32,951 [Thread-641 (] [INFO ]  Epoch: 501/512: Loss = -0.3969727 :: Learning Rate = 0.0500000\n",
      "2023-12-05 22:21:33,442 [Thread-641 (] [INFO ]  Epoch: 512/512: Loss = -0.3527832 :: Learning Rate = 0.0500000\n",
      "2023-12-05 22:21:33,465 [Thread-641 (] [INFO ]  Completed run [ 1twqu9n3 ]\n"
     ]
    },
    {
     "data": {
      "application/vnd.jupyter.widget-view+json": {
       "model_id": "",
       "version_major": 2,
       "version_minor": 0
      },
      "text/plain": [
       "VBox(children=(Label(value='1.291 MB of 1.291 MB uploaded\\r'), FloatProgress(value=1.0, max=1.0)))"
      ]
     },
     "metadata": {},
     "output_type": "display_data"
    },
    {
     "data": {
      "text/html": [
       "<style>\n",
       "    table.wandb td:nth-child(1) { padding: 0 10px; text-align: left ; width: auto;} td:nth-child(2) {text-align: left ; width: 100%}\n",
       "    .wandb-row { display: flex; flex-direction: row; flex-wrap: wrap; justify-content: flex-start; width: 100% }\n",
       "    .wandb-col { display: flex; flex-direction: column; flex-basis: 100%; flex: 1; padding: 10px; }\n",
       "    </style>\n",
       "<div class=\"wandb-row\"><div class=\"wandb-col\"><h3>Run history:</h3><br/><table class=\"wandb\"><tr><td>loss</td><td>█▃▂▂▁▁▁</td></tr></table><br/></div><div class=\"wandb-col\"><h3>Run summary:</h3><br/><table class=\"wandb\"><tr><td>loss</td><td>-0.35278</td></tr></table><br/></div></div>"
      ],
      "text/plain": [
       "<IPython.core.display.HTML object>"
      ]
     },
     "metadata": {},
     "output_type": "display_data"
    },
    {
     "data": {
      "text/html": [
       " View run <strong style=\"color:#cdcd00\">jolly-sweep-20</strong> at: <a href='https://wandb.ai/rohanprasad/idl-project-sun397/runs/1twqu9n3' target=\"_blank\">https://wandb.ai/rohanprasad/idl-project-sun397/runs/1twqu9n3</a><br/>Synced 6 W&B file(s), 7 media file(s), 0 artifact file(s) and 0 other file(s)"
      ],
      "text/plain": [
       "<IPython.core.display.HTML object>"
      ]
     },
     "metadata": {},
     "output_type": "display_data"
    },
    {
     "data": {
      "text/html": [
       "Find logs at: <code>./wandb/run-20231205_222056-1twqu9n3/logs</code>"
      ],
      "text/plain": [
       "<IPython.core.display.HTML object>"
      ]
     },
     "metadata": {},
     "output_type": "display_data"
    },
    {
     "name": "stderr",
     "output_type": "stream",
     "text": [
      "\u001b[34m\u001b[1mwandb\u001b[0m: Agent Starting Run: rmng78f2 with config:\n",
      "\u001b[34m\u001b[1mwandb\u001b[0m: \tchannel: 1\n",
      "\u001b[34m\u001b[1mwandb\u001b[0m: \tlearning_rate: 0.05\n",
      "\u001b[34m\u001b[1mwandb\u001b[0m: \tlinear_probe_layer: layer2_5_relu3\n",
      "\u001b[34m\u001b[1mwandb\u001b[0m: \tmodel: RN50x4\n",
      "\u001b[34m\u001b[1mwandb\u001b[0m: \tnum_iterations: 512\n",
      "\u001b[34m\u001b[1mwandb\u001b[0m: \tobjective: neuron\n",
      "\u001b[34m\u001b[1mwandb\u001b[0m: \toptimizer: AdamW\n",
      "\u001b[34m\u001b[1mwandb\u001b[0m: \trandom_seed: 80119365\n",
      "\u001b[34m\u001b[1mwandb\u001b[0m: \tuse_std_transforms: True\n",
      "\u001b[34m\u001b[1mwandb\u001b[0m: \tuse_transforms: True\n",
      "\u001b[34m\u001b[1mwandb\u001b[0m: \tvisualization_layer: layer4_5_conv3\n"
     ]
    },
    {
     "data": {
      "text/html": [
       "wandb version 0.16.1 is available!  To upgrade, please run:\n",
       " $ pip install wandb --upgrade"
      ],
      "text/plain": [
       "<IPython.core.display.HTML object>"
      ]
     },
     "metadata": {},
     "output_type": "display_data"
    },
    {
     "data": {
      "text/html": [
       "Tracking run with wandb version 0.16.0"
      ],
      "text/plain": [
       "<IPython.core.display.HTML object>"
      ]
     },
     "metadata": {},
     "output_type": "display_data"
    },
    {
     "data": {
      "text/html": [
       "Run data is saved locally in <code>/apps/11785-f23-prj/wandb/run-20231205_222142-rmng78f2</code>"
      ],
      "text/plain": [
       "<IPython.core.display.HTML object>"
      ]
     },
     "metadata": {},
     "output_type": "display_data"
    },
    {
     "data": {
      "text/html": [
       "Syncing run <strong><a href='https://wandb.ai/rohanprasad/idl-project-sun397/runs/rmng78f2' target=\"_blank\">good-sweep-21</a></strong> to <a href='https://wandb.ai/rohanprasad/idl-project-sun397' target=\"_blank\">Weights & Biases</a> (<a href='https://wandb.me/run' target=\"_blank\">docs</a>)<br/>Sweep page: <a href='https://wandb.ai/rohanprasad/idl-project-sun397/sweeps/kzps3xpf' target=\"_blank\">https://wandb.ai/rohanprasad/idl-project-sun397/sweeps/kzps3xpf</a>"
      ],
      "text/plain": [
       "<IPython.core.display.HTML object>"
      ]
     },
     "metadata": {},
     "output_type": "display_data"
    },
    {
     "data": {
      "text/html": [
       " View project at <a href='https://wandb.ai/rohanprasad/idl-project-sun397' target=\"_blank\">https://wandb.ai/rohanprasad/idl-project-sun397</a>"
      ],
      "text/plain": [
       "<IPython.core.display.HTML object>"
      ]
     },
     "metadata": {},
     "output_type": "display_data"
    },
    {
     "data": {
      "text/html": [
       " View sweep at <a href='https://wandb.ai/rohanprasad/idl-project-sun397/sweeps/kzps3xpf' target=\"_blank\">https://wandb.ai/rohanprasad/idl-project-sun397/sweeps/kzps3xpf</a>"
      ],
      "text/plain": [
       "<IPython.core.display.HTML object>"
      ]
     },
     "metadata": {},
     "output_type": "display_data"
    },
    {
     "data": {
      "text/html": [
       " View run at <a href='https://wandb.ai/rohanprasad/idl-project-sun397/runs/rmng78f2' target=\"_blank\">https://wandb.ai/rohanprasad/idl-project-sun397/runs/rmng78f2</a>"
      ],
      "text/plain": [
       "<IPython.core.display.HTML object>"
      ]
     },
     "metadata": {},
     "output_type": "display_data"
    },
    {
     "name": "stderr",
     "output_type": "stream",
     "text": [
      "2023-12-05 22:21:52,685 [Thread-644 (] [INFO ]  Starting sweep [ run  rmng78f2 ] with config = \n",
      "{'channel': 1, 'learning_rate': 0.05, 'linear_probe_layer': 'layer2_5_relu3', 'model': 'RN50x4', 'num_iterations': 512, 'objective': 'neuron', 'optimizer': 'AdamW', 'random_seed': 80119365, 'use_std_transforms': True, 'use_transforms': True, 'visualization_layer': 'layer4_5_conv3'}\n",
      "2023-12-05 22:21:52,687 [Thread-644 (] [INFO ]  Setting random seed to 80119365\n",
      "2023-12-05 22:21:52,689 [Thread-644 (] [INFO ]  Loading CLIP model [ RN50x4 ].\n",
      "2023-12-05 22:21:57,246 [Thread-644 (] [INFO ]  Finished loading model [ RN50x4 ]\n",
      "2023-12-05 22:21:57,248 [Thread-644 (] [INFO ]  Finished loading transforms [ Compose(\n",
      "    Resize(size=288, interpolation=bicubic, max_size=None, antialias=warn)\n",
      "    CenterCrop(size=(288, 288))\n",
      "    Normalize(mean=(0.48145466, 0.4578275, 0.40821073), std=(0.26862954, 0.26130258, 0.27577711))\n",
      ") ]\n",
      "2023-12-05 22:21:57,249 [Thread-644 (] [INFO ]  Registering hooks.\n",
      "2023-12-05 22:21:57,254 [Thread-644 (] [INFO ]  Finished registering hooks.\n",
      "2023-12-05 22:21:57,259 [Thread-644 (] [INFO ]  Retrieving weights of linear probe [ path = /apps/11785-f23-prj/faceted_visualization/probes/logs/sun397/RN50x4/layer2_5_relu3/version_4_20/model_checkpoint.pth ]\n",
      "2023-12-05 22:21:57,263 [Thread-644 (] [INFO ]  Final list of transforms = [Resize(size=288, interpolation=bicubic, max_size=None, antialias=warn), CenterCrop(size=(288, 288)), Normalize(mean=(0.48145466, 0.4578275, 0.40821073), std=(0.26862954, 0.26130258, 0.27577711)), RandomAffine(degrees=[0.0, 0.0], translate=(0.03, 0.03), interpolation=InterpolationMode.NEAREST, fill=0), RandomAffine(degrees=[0.0, 0.0], scale=(0.9, 1.1), interpolation=InterpolationMode.NEAREST, fill=0), RandomRotation(degrees=[-10.0, 10.0], interpolation=InterpolationMode.NEAREST, expand=False, fill=0), RandomAffine(degrees=[0.0, 0.0], translate=(0.015, 0.015), interpolation=InterpolationMode.NEAREST, fill=0)]\n",
      "2023-12-05 22:21:57,264 [Thread-644 (] [INFO ]  Starting optimization process [ run_id = rmng78f2 ]...\n",
      "/opt/conda/lib/python3.10/site-packages/torchvision/transforms/functional.py:1603: UserWarning: The default value of the antialias parameter of all the resizing transforms (Resize(), RandomResizedCrop(), etc.) will change from None to True in v0.17, in order to be consistent across the PIL and Tensor backends. To suppress this warning, directly pass antialias=True (recommended, future default), antialias=None (current default, which means False for Tensors and True for PIL), or antialias=False (only works on Tensors - PIL will still use antialiasing). This also applies if you are using the inference transforms from the models weights: update the call to weights.transforms(antialias=True).\n",
      "  warnings.warn(\n",
      "2023-12-05 22:21:57,307 [Thread-644 (] [INFO ]  Epoch: 1/512: Loss = -1.8330078 :: Learning Rate = 0.0500000\n",
      "2023-12-05 22:22:01,798 [Thread-644 (] [INFO ]  Epoch: 101/512: Loss = 3.3281250 :: Learning Rate = 0.0500000\n",
      "2023-12-05 22:22:06,162 [Thread-644 (] [INFO ]  Epoch: 201/512: Loss = -4.4179688 :: Learning Rate = 0.0500000\n",
      "2023-12-05 22:22:10,596 [Thread-644 (] [INFO ]  Epoch: 301/512: Loss = -12.3281250 :: Learning Rate = 0.0500000\n",
      "2023-12-05 22:22:14,955 [Thread-644 (] [INFO ]  Epoch: 401/512: Loss = -1.3017578 :: Learning Rate = 0.0500000\n",
      "2023-12-05 22:22:19,249 [Thread-644 (] [INFO ]  Epoch: 501/512: Loss = -11.2421875 :: Learning Rate = 0.0500000\n",
      "2023-12-05 22:22:19,737 [Thread-644 (] [INFO ]  Epoch: 512/512: Loss = -2.4355469 :: Learning Rate = 0.0500000\n",
      "2023-12-05 22:22:19,761 [Thread-644 (] [INFO ]  Completed run [ rmng78f2 ]\n"
     ]
    },
    {
     "data": {
      "application/vnd.jupyter.widget-view+json": {
       "model_id": "",
       "version_major": 2,
       "version_minor": 0
      },
      "text/plain": [
       "VBox(children=(Label(value='1.199 MB of 1.220 MB uploaded\\r'), FloatProgress(value=0.9822428518961327, max=1.0…"
      ]
     },
     "metadata": {},
     "output_type": "display_data"
    },
    {
     "data": {
      "text/html": [
       "<style>\n",
       "    table.wandb td:nth-child(1) { padding: 0 10px; text-align: left ; width: auto;} td:nth-child(2) {text-align: left ; width: 100%}\n",
       "    .wandb-row { display: flex; flex-direction: row; flex-wrap: wrap; justify-content: flex-start; width: 100% }\n",
       "    .wandb-col { display: flex; flex-direction: column; flex-basis: 100%; flex: 1; padding: 10px; }\n",
       "    </style>\n",
       "<div class=\"wandb-row\"><div class=\"wandb-col\"><h3>Run history:</h3><br/><table class=\"wandb\"><tr><td>loss</td><td>▆█▅▁▆▁▅</td></tr></table><br/></div><div class=\"wandb-col\"><h3>Run summary:</h3><br/><table class=\"wandb\"><tr><td>loss</td><td>-2.43555</td></tr></table><br/></div></div>"
      ],
      "text/plain": [
       "<IPython.core.display.HTML object>"
      ]
     },
     "metadata": {},
     "output_type": "display_data"
    },
    {
     "data": {
      "text/html": [
       " View run <strong style=\"color:#cdcd00\">good-sweep-21</strong> at: <a href='https://wandb.ai/rohanprasad/idl-project-sun397/runs/rmng78f2' target=\"_blank\">https://wandb.ai/rohanprasad/idl-project-sun397/runs/rmng78f2</a><br/>Synced 6 W&B file(s), 7 media file(s), 0 artifact file(s) and 0 other file(s)"
      ],
      "text/plain": [
       "<IPython.core.display.HTML object>"
      ]
     },
     "metadata": {},
     "output_type": "display_data"
    },
    {
     "data": {
      "text/html": [
       "Find logs at: <code>./wandb/run-20231205_222142-rmng78f2/logs</code>"
      ],
      "text/plain": [
       "<IPython.core.display.HTML object>"
      ]
     },
     "metadata": {},
     "output_type": "display_data"
    },
    {
     "name": "stderr",
     "output_type": "stream",
     "text": [
      "\u001b[34m\u001b[1mwandb\u001b[0m: Agent Starting Run: 26kcc0en with config:\n",
      "\u001b[34m\u001b[1mwandb\u001b[0m: \tchannel: 1\n",
      "\u001b[34m\u001b[1mwandb\u001b[0m: \tlearning_rate: 0.05\n",
      "\u001b[34m\u001b[1mwandb\u001b[0m: \tlinear_probe_layer: layer2_5_relu3\n",
      "\u001b[34m\u001b[1mwandb\u001b[0m: \tmodel: RN50x4\n",
      "\u001b[34m\u001b[1mwandb\u001b[0m: \tnum_iterations: 512\n",
      "\u001b[34m\u001b[1mwandb\u001b[0m: \tobjective: neuron\n",
      "\u001b[34m\u001b[1mwandb\u001b[0m: \toptimizer: AdamW\n",
      "\u001b[34m\u001b[1mwandb\u001b[0m: \trandom_seed: 80119365\n",
      "\u001b[34m\u001b[1mwandb\u001b[0m: \tuse_std_transforms: True\n",
      "\u001b[34m\u001b[1mwandb\u001b[0m: \tuse_transforms: False\n",
      "\u001b[34m\u001b[1mwandb\u001b[0m: \tvisualization_layer: layer4_5_conv3\n"
     ]
    },
    {
     "data": {
      "text/html": [
       "wandb version 0.16.1 is available!  To upgrade, please run:\n",
       " $ pip install wandb --upgrade"
      ],
      "text/plain": [
       "<IPython.core.display.HTML object>"
      ]
     },
     "metadata": {},
     "output_type": "display_data"
    },
    {
     "data": {
      "text/html": [
       "Tracking run with wandb version 0.16.0"
      ],
      "text/plain": [
       "<IPython.core.display.HTML object>"
      ]
     },
     "metadata": {},
     "output_type": "display_data"
    },
    {
     "data": {
      "text/html": [
       "Run data is saved locally in <code>/apps/11785-f23-prj/wandb/run-20231205_222227-26kcc0en</code>"
      ],
      "text/plain": [
       "<IPython.core.display.HTML object>"
      ]
     },
     "metadata": {},
     "output_type": "display_data"
    },
    {
     "data": {
      "text/html": [
       "Syncing run <strong><a href='https://wandb.ai/rohanprasad/idl-project-sun397/runs/26kcc0en' target=\"_blank\">vibrant-sweep-22</a></strong> to <a href='https://wandb.ai/rohanprasad/idl-project-sun397' target=\"_blank\">Weights & Biases</a> (<a href='https://wandb.me/run' target=\"_blank\">docs</a>)<br/>Sweep page: <a href='https://wandb.ai/rohanprasad/idl-project-sun397/sweeps/kzps3xpf' target=\"_blank\">https://wandb.ai/rohanprasad/idl-project-sun397/sweeps/kzps3xpf</a>"
      ],
      "text/plain": [
       "<IPython.core.display.HTML object>"
      ]
     },
     "metadata": {},
     "output_type": "display_data"
    },
    {
     "data": {
      "text/html": [
       " View project at <a href='https://wandb.ai/rohanprasad/idl-project-sun397' target=\"_blank\">https://wandb.ai/rohanprasad/idl-project-sun397</a>"
      ],
      "text/plain": [
       "<IPython.core.display.HTML object>"
      ]
     },
     "metadata": {},
     "output_type": "display_data"
    },
    {
     "data": {
      "text/html": [
       " View sweep at <a href='https://wandb.ai/rohanprasad/idl-project-sun397/sweeps/kzps3xpf' target=\"_blank\">https://wandb.ai/rohanprasad/idl-project-sun397/sweeps/kzps3xpf</a>"
      ],
      "text/plain": [
       "<IPython.core.display.HTML object>"
      ]
     },
     "metadata": {},
     "output_type": "display_data"
    },
    {
     "data": {
      "text/html": [
       " View run at <a href='https://wandb.ai/rohanprasad/idl-project-sun397/runs/26kcc0en' target=\"_blank\">https://wandb.ai/rohanprasad/idl-project-sun397/runs/26kcc0en</a>"
      ],
      "text/plain": [
       "<IPython.core.display.HTML object>"
      ]
     },
     "metadata": {},
     "output_type": "display_data"
    },
    {
     "name": "stderr",
     "output_type": "stream",
     "text": [
      "2023-12-05 22:22:37,848 [Thread-647 (] [INFO ]  Starting sweep [ run  26kcc0en ] with config = \n",
      "{'channel': 1, 'learning_rate': 0.05, 'linear_probe_layer': 'layer2_5_relu3', 'model': 'RN50x4', 'num_iterations': 512, 'objective': 'neuron', 'optimizer': 'AdamW', 'random_seed': 80119365, 'use_std_transforms': True, 'use_transforms': False, 'visualization_layer': 'layer4_5_conv3'}\n",
      "2023-12-05 22:22:37,850 [Thread-647 (] [INFO ]  Setting random seed to 80119365\n",
      "2023-12-05 22:22:37,851 [Thread-647 (] [INFO ]  Loading CLIP model [ RN50x4 ].\n",
      "2023-12-05 22:22:42,325 [Thread-647 (] [INFO ]  Finished loading model [ RN50x4 ]\n",
      "2023-12-05 22:22:42,326 [Thread-647 (] [INFO ]  Finished loading transforms [ Compose(\n",
      "    Resize(size=288, interpolation=bicubic, max_size=None, antialias=warn)\n",
      "    CenterCrop(size=(288, 288))\n",
      "    Normalize(mean=(0.48145466, 0.4578275, 0.40821073), std=(0.26862954, 0.26130258, 0.27577711))\n",
      ") ]\n",
      "2023-12-05 22:22:42,328 [Thread-647 (] [INFO ]  Registering hooks.\n",
      "2023-12-05 22:22:42,330 [Thread-647 (] [INFO ]  Finished registering hooks.\n",
      "2023-12-05 22:22:42,334 [Thread-647 (] [INFO ]  Retrieving weights of linear probe [ path = /apps/11785-f23-prj/faceted_visualization/probes/logs/sun397/RN50x4/layer2_5_relu3/version_4_20/model_checkpoint.pth ]\n",
      "2023-12-05 22:22:42,338 [Thread-647 (] [INFO ]  Final list of transforms = [RandomAffine(degrees=[0.0, 0.0], translate=(0.03, 0.03), interpolation=InterpolationMode.NEAREST, fill=0), RandomAffine(degrees=[0.0, 0.0], scale=(0.9, 1.1), interpolation=InterpolationMode.NEAREST, fill=0), RandomRotation(degrees=[-10.0, 10.0], interpolation=InterpolationMode.NEAREST, expand=False, fill=0), RandomAffine(degrees=[0.0, 0.0], translate=(0.015, 0.015), interpolation=InterpolationMode.NEAREST, fill=0)]\n",
      "2023-12-05 22:22:42,339 [Thread-647 (] [INFO ]  Starting optimization process [ run_id = 26kcc0en ]...\n",
      "2023-12-05 22:22:42,381 [Thread-647 (] [INFO ]  Epoch: 1/512: Loss = 6.5117188 :: Learning Rate = 0.0500000\n",
      "2023-12-05 22:22:46,978 [Thread-647 (] [INFO ]  Epoch: 101/512: Loss = 6.0195312 :: Learning Rate = 0.0500000\n",
      "2023-12-05 22:22:51,335 [Thread-647 (] [INFO ]  Epoch: 201/512: Loss = -11.2343750 :: Learning Rate = 0.0500000\n",
      "2023-12-05 22:22:55,684 [Thread-647 (] [INFO ]  Epoch: 301/512: Loss = -0.0633545 :: Learning Rate = 0.0500000\n",
      "2023-12-05 22:22:59,987 [Thread-647 (] [INFO ]  Epoch: 401/512: Loss = -5.5195312 :: Learning Rate = 0.0500000\n",
      "2023-12-05 22:23:04,310 [Thread-647 (] [INFO ]  Epoch: 501/512: Loss = -2.3027344 :: Learning Rate = 0.0500000\n",
      "2023-12-05 22:23:04,795 [Thread-647 (] [INFO ]  Epoch: 512/512: Loss = -4.7890625 :: Learning Rate = 0.0500000\n",
      "2023-12-05 22:23:04,819 [Thread-647 (] [INFO ]  Completed run [ 26kcc0en ]\n"
     ]
    },
    {
     "data": {
      "application/vnd.jupyter.widget-view+json": {
       "model_id": "",
       "version_major": 2,
       "version_minor": 0
      },
      "text/plain": [
       "VBox(children=(Label(value='1.258 MB of 1.258 MB uploaded\\r'), FloatProgress(value=1.0, max=1.0)))"
      ]
     },
     "metadata": {},
     "output_type": "display_data"
    },
    {
     "data": {
      "text/html": [
       "<style>\n",
       "    table.wandb td:nth-child(1) { padding: 0 10px; text-align: left ; width: auto;} td:nth-child(2) {text-align: left ; width: 100%}\n",
       "    .wandb-row { display: flex; flex-direction: row; flex-wrap: wrap; justify-content: flex-start; width: 100% }\n",
       "    .wandb-col { display: flex; flex-direction: column; flex-basis: 100%; flex: 1; padding: 10px; }\n",
       "    </style>\n",
       "<div class=\"wandb-row\"><div class=\"wandb-col\"><h3>Run history:</h3><br/><table class=\"wandb\"><tr><td>loss</td><td>██▁▅▃▅▄</td></tr></table><br/></div><div class=\"wandb-col\"><h3>Run summary:</h3><br/><table class=\"wandb\"><tr><td>loss</td><td>-4.78906</td></tr></table><br/></div></div>"
      ],
      "text/plain": [
       "<IPython.core.display.HTML object>"
      ]
     },
     "metadata": {},
     "output_type": "display_data"
    },
    {
     "data": {
      "text/html": [
       " View run <strong style=\"color:#cdcd00\">vibrant-sweep-22</strong> at: <a href='https://wandb.ai/rohanprasad/idl-project-sun397/runs/26kcc0en' target=\"_blank\">https://wandb.ai/rohanprasad/idl-project-sun397/runs/26kcc0en</a><br/>Synced 6 W&B file(s), 7 media file(s), 0 artifact file(s) and 0 other file(s)"
      ],
      "text/plain": [
       "<IPython.core.display.HTML object>"
      ]
     },
     "metadata": {},
     "output_type": "display_data"
    },
    {
     "data": {
      "text/html": [
       "Find logs at: <code>./wandb/run-20231205_222227-26kcc0en/logs</code>"
      ],
      "text/plain": [
       "<IPython.core.display.HTML object>"
      ]
     },
     "metadata": {},
     "output_type": "display_data"
    },
    {
     "name": "stderr",
     "output_type": "stream",
     "text": [
      "\u001b[34m\u001b[1mwandb\u001b[0m: Agent Starting Run: 0qg8g524 with config:\n",
      "\u001b[34m\u001b[1mwandb\u001b[0m: \tchannel: 1\n",
      "\u001b[34m\u001b[1mwandb\u001b[0m: \tlearning_rate: 0.05\n",
      "\u001b[34m\u001b[1mwandb\u001b[0m: \tlinear_probe_layer: layer2_5_relu3\n",
      "\u001b[34m\u001b[1mwandb\u001b[0m: \tmodel: RN50x4\n",
      "\u001b[34m\u001b[1mwandb\u001b[0m: \tnum_iterations: 512\n",
      "\u001b[34m\u001b[1mwandb\u001b[0m: \tobjective: channel\n",
      "\u001b[34m\u001b[1mwandb\u001b[0m: \toptimizer: AdamW\n",
      "\u001b[34m\u001b[1mwandb\u001b[0m: \trandom_seed: 80119365\n",
      "\u001b[34m\u001b[1mwandb\u001b[0m: \tuse_std_transforms: True\n",
      "\u001b[34m\u001b[1mwandb\u001b[0m: \tuse_transforms: True\n",
      "\u001b[34m\u001b[1mwandb\u001b[0m: \tvisualization_layer: layer4_5_conv3\n"
     ]
    },
    {
     "data": {
      "text/html": [
       "wandb version 0.16.1 is available!  To upgrade, please run:\n",
       " $ pip install wandb --upgrade"
      ],
      "text/plain": [
       "<IPython.core.display.HTML object>"
      ]
     },
     "metadata": {},
     "output_type": "display_data"
    },
    {
     "data": {
      "text/html": [
       "Tracking run with wandb version 0.16.0"
      ],
      "text/plain": [
       "<IPython.core.display.HTML object>"
      ]
     },
     "metadata": {},
     "output_type": "display_data"
    },
    {
     "data": {
      "text/html": [
       "Run data is saved locally in <code>/apps/11785-f23-prj/wandb/run-20231205_222313-0qg8g524</code>"
      ],
      "text/plain": [
       "<IPython.core.display.HTML object>"
      ]
     },
     "metadata": {},
     "output_type": "display_data"
    },
    {
     "data": {
      "text/html": [
       "Syncing run <strong><a href='https://wandb.ai/rohanprasad/idl-project-sun397/runs/0qg8g524' target=\"_blank\">apricot-sweep-23</a></strong> to <a href='https://wandb.ai/rohanprasad/idl-project-sun397' target=\"_blank\">Weights & Biases</a> (<a href='https://wandb.me/run' target=\"_blank\">docs</a>)<br/>Sweep page: <a href='https://wandb.ai/rohanprasad/idl-project-sun397/sweeps/kzps3xpf' target=\"_blank\">https://wandb.ai/rohanprasad/idl-project-sun397/sweeps/kzps3xpf</a>"
      ],
      "text/plain": [
       "<IPython.core.display.HTML object>"
      ]
     },
     "metadata": {},
     "output_type": "display_data"
    },
    {
     "data": {
      "text/html": [
       " View project at <a href='https://wandb.ai/rohanprasad/idl-project-sun397' target=\"_blank\">https://wandb.ai/rohanprasad/idl-project-sun397</a>"
      ],
      "text/plain": [
       "<IPython.core.display.HTML object>"
      ]
     },
     "metadata": {},
     "output_type": "display_data"
    },
    {
     "data": {
      "text/html": [
       " View sweep at <a href='https://wandb.ai/rohanprasad/idl-project-sun397/sweeps/kzps3xpf' target=\"_blank\">https://wandb.ai/rohanprasad/idl-project-sun397/sweeps/kzps3xpf</a>"
      ],
      "text/plain": [
       "<IPython.core.display.HTML object>"
      ]
     },
     "metadata": {},
     "output_type": "display_data"
    },
    {
     "data": {
      "text/html": [
       " View run at <a href='https://wandb.ai/rohanprasad/idl-project-sun397/runs/0qg8g524' target=\"_blank\">https://wandb.ai/rohanprasad/idl-project-sun397/runs/0qg8g524</a>"
      ],
      "text/plain": [
       "<IPython.core.display.HTML object>"
      ]
     },
     "metadata": {},
     "output_type": "display_data"
    },
    {
     "name": "stderr",
     "output_type": "stream",
     "text": [
      "2023-12-05 22:23:24,001 [Thread-650 (] [INFO ]  Starting sweep [ run  0qg8g524 ] with config = \n",
      "{'channel': 1, 'learning_rate': 0.05, 'linear_probe_layer': 'layer2_5_relu3', 'model': 'RN50x4', 'num_iterations': 512, 'objective': 'channel', 'optimizer': 'AdamW', 'random_seed': 80119365, 'use_std_transforms': True, 'use_transforms': True, 'visualization_layer': 'layer4_5_conv3'}\n",
      "2023-12-05 22:23:24,003 [Thread-650 (] [INFO ]  Setting random seed to 80119365\n",
      "2023-12-05 22:23:24,004 [Thread-650 (] [INFO ]  Loading CLIP model [ RN50x4 ].\n",
      "2023-12-05 22:23:28,475 [Thread-650 (] [INFO ]  Finished loading model [ RN50x4 ]\n",
      "2023-12-05 22:23:28,477 [Thread-650 (] [INFO ]  Finished loading transforms [ Compose(\n",
      "    Resize(size=288, interpolation=bicubic, max_size=None, antialias=warn)\n",
      "    CenterCrop(size=(288, 288))\n",
      "    Normalize(mean=(0.48145466, 0.4578275, 0.40821073), std=(0.26862954, 0.26130258, 0.27577711))\n",
      ") ]\n",
      "2023-12-05 22:23:28,478 [Thread-650 (] [INFO ]  Registering hooks.\n",
      "2023-12-05 22:23:28,482 [Thread-650 (] [INFO ]  Finished registering hooks.\n",
      "2023-12-05 22:23:28,487 [Thread-650 (] [INFO ]  Retrieving weights of linear probe [ path = /apps/11785-f23-prj/faceted_visualization/probes/logs/sun397/RN50x4/layer2_5_relu3/version_4_20/model_checkpoint.pth ]\n",
      "2023-12-05 22:23:28,491 [Thread-650 (] [INFO ]  Final list of transforms = [Resize(size=288, interpolation=bicubic, max_size=None, antialias=warn), CenterCrop(size=(288, 288)), Normalize(mean=(0.48145466, 0.4578275, 0.40821073), std=(0.26862954, 0.26130258, 0.27577711)), RandomAffine(degrees=[0.0, 0.0], translate=(0.03, 0.03), interpolation=InterpolationMode.NEAREST, fill=0), RandomAffine(degrees=[0.0, 0.0], scale=(0.9, 1.1), interpolation=InterpolationMode.NEAREST, fill=0), RandomRotation(degrees=[-10.0, 10.0], interpolation=InterpolationMode.NEAREST, expand=False, fill=0), RandomAffine(degrees=[0.0, 0.0], translate=(0.015, 0.015), interpolation=InterpolationMode.NEAREST, fill=0)]\n",
      "2023-12-05 22:23:28,492 [Thread-650 (] [INFO ]  Starting optimization process [ run_id = 0qg8g524 ]...\n",
      "/opt/conda/lib/python3.10/site-packages/torchvision/transforms/functional.py:1603: UserWarning: The default value of the antialias parameter of all the resizing transforms (Resize(), RandomResizedCrop(), etc.) will change from None to True in v0.17, in order to be consistent across the PIL and Tensor backends. To suppress this warning, directly pass antialias=True (recommended, future default), antialias=None (current default, which means False for Tensors and True for PIL), or antialias=False (only works on Tensors - PIL will still use antialiasing). This also applies if you are using the inference transforms from the models weights: update the call to weights.transforms(antialias=True).\n",
      "  warnings.warn(\n",
      "2023-12-05 22:23:28,534 [Thread-650 (] [INFO ]  Epoch: 1/512: Loss = -1.7871094 :: Learning Rate = 0.0500000\n",
      "2023-12-05 22:23:33,095 [Thread-650 (] [INFO ]  Epoch: 101/512: Loss = -6.9062500 :: Learning Rate = 0.0500000\n"
     ]
    }
   ],
   "source": [
    "sweep_id = wandb.sweep(sweep_config, project=\"idl-project-sun397\", entity=\"rohanprasad\")\n",
    "logger.info(\"Sweep ID = %s\", sweep_id)\n",
    "wandb.agent(sweep_id, function=perform_sweep)"
   ]
  },
  {
   "cell_type": "code",
   "execution_count": null,
   "id": "422d1222",
   "metadata": {},
   "outputs": [],
   "source": []
  }
 ],
 "metadata": {
  "kernelspec": {
   "display_name": "Python 3",
   "language": "python",
   "name": "python3"
  },
  "language_info": {
   "codemirror_mode": {
    "name": "ipython",
    "version": 3
   },
   "file_extension": ".py",
   "mimetype": "text/x-python",
   "name": "python",
   "nbconvert_exporter": "python",
   "pygments_lexer": "ipython3",
   "version": "3.10.13"
  }
 },
 "nbformat": 4,
 "nbformat_minor": 5
}

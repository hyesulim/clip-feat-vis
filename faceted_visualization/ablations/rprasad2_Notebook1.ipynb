{
 "cells": [
  {
   "cell_type": "code",
   "execution_count": 1,
   "id": "initial_id",
   "metadata": {
    "ExecuteTime": {
     "end_time": "2023-12-04T00:23:20.713440Z",
     "start_time": "2023-12-04T00:23:20.710759Z"
    }
   },
   "outputs": [],
   "source": [
    "import sys\n",
    "import os\n",
    "\n",
    "if sys.platform == \"darwin\":\n",
    "    ROOT = '/Users/rohan/repositories/11785-f23-prj/faceted_visualization'\n",
    "else:\n",
    "    ROOT = '/apps/11785-f23-prj/faceted_visualization'\n",
    "\n",
    "LIBRARY_HOME = os.path.join(ROOT, 'visualizer')\n",
    "PROBE_HOME = os.path.join(ROOT, \"probes\", \"logs\", \"flower\")\n",
    "LOG_PATH = os.path.join(ROOT, \"logs\")\n",
    "\n",
    "sys.path.append(ROOT)\n",
    "sys.path.append(LIBRARY_HOME)"
   ]
  },
  {
   "cell_type": "code",
   "execution_count": 2,
   "id": "68498b05",
   "metadata": {},
   "outputs": [
    {
     "name": "stdout",
     "output_type": "stream",
     "text": [
      "/apps/11785-f23-prj\n"
     ]
    }
   ],
   "source": [
    "%cd /apps/11785-f23-prj"
   ]
  },
  {
   "cell_type": "code",
   "execution_count": 10,
   "id": "beebabb3f954b46b",
   "metadata": {
    "ExecuteTime": {
     "end_time": "2023-12-04T00:23:22.204008Z",
     "start_time": "2023-12-04T00:23:20.714798Z"
    }
   },
   "outputs": [],
   "source": [
    "import faceted_visualization.visualizer.main\n",
    "import faceted_visualization.visualizer.render\n",
    "import faceted_visualization.visualizer.hook\n",
    "import faceted_visualization.visualizer.image\n",
    "import faceted_visualization.visualizer.helpers\n",
    "import faceted_visualization.visualizer.wb\n",
    "import faceted_visualization.visualizer.constants as constants\n",
    "import wandb\n",
    "import pprint\n",
    "import clip\n",
    "import os\n",
    "import logging\n",
    "import datetime\n",
    "import torch"
   ]
  },
  {
   "cell_type": "code",
   "execution_count": 11,
   "id": "475feba850625225",
   "metadata": {
    "ExecuteTime": {
     "end_time": "2023-12-04T00:23:22.208565Z",
     "start_time": "2023-12-04T00:23:22.205725Z"
    }
   },
   "outputs": [],
   "source": [
    "logging.basicConfig(force=True, level=\"INFO\",\n",
    "                    format=\"%(asctime)s [%(threadName)-12.12s] [%(levelname)-5.5s]  %(message)s\")\n",
    "logger = logging.getLogger()\n",
    "init_stream = True\n",
    "init_filehandler = True\n",
    "for handler in logger.handlers:\n",
    "    if isinstance(handler, logging.StreamHandler):\n",
    "        init_stream = False\n",
    "    if isinstance(handler, logging.FileHandler):\n",
    "        init_filehandler = False\n",
    "if init_stream:\n",
    "    consoleHandler = logging.StreamHandler(sys.stdout)\n",
    "    logger.addHandler(consoleHandler)\n",
    "if init_filehandler and sys.platform != \"darwin\":\n",
    "    fileHandler = logging.FileHandler(os.path.join(LOG_PATH, f\"{datetime.datetime.now().strftime('%Y%m%d%H%M%S')}.log\"))\n",
    "    fileHandler.setFormatter(\n",
    "        logging.Formatter(fmt=\"%(asctime)s [%(threadName)-12.12s] [%(levelname)-5.5s]  %(message)s\"))\n",
    "    logger.addHandler(fileHandler)"
   ]
  },
  {
   "cell_type": "code",
   "execution_count": 12,
   "id": "31c61cef",
   "metadata": {},
   "outputs": [
    {
     "name": "stderr",
     "output_type": "stream",
     "text": [
      "2023-12-04 17:58:41,314 [MainThread  ] [INFO ]  Seed = 18630595\n"
     ]
    }
   ],
   "source": [
    "generated_random_seed = faceted_visualization.visualizer.helpers.random_seed(8)\n",
    "logger.info(\"Seed = %s\", generated_random_seed)"
   ]
  },
  {
   "cell_type": "code",
   "execution_count": 13,
   "id": "14f5ccd19f6b51fa",
   "metadata": {
    "ExecuteTime": {
     "end_time": "2023-12-04T00:23:22.213206Z",
     "start_time": "2023-12-04T00:23:22.208682Z"
    }
   },
   "outputs": [
    {
     "name": "stderr",
     "output_type": "stream",
     "text": [
      "2023-12-04 17:59:48,589 [MainThread  ] [INFO ]  Sweep Configuration = \n",
      " {'method': 'grid',\n",
      " 'parameters': {'channel': {'values': [1, 128, 512, 2048, 2560]},\n",
      "                'learning_rate': {'values': [0.05]},\n",
      "                'linear_probe_layer': {'values': ['layer1_0_conv3',\n",
      "                                                  'layer1_0_relu3',\n",
      "                                                  'layer1_3_conv3',\n",
      "                                                  'layer1_3_relu3',\n",
      "                                                  'layer2_5_conv3',\n",
      "                                                  'layer2_5_relu3',\n",
      "                                                  'layer3_9_conv3',\n",
      "                                                  'layer3_9_relu3']},\n",
      "                'model': {'values': ['RN50x4']},\n",
      "                'num_iterations': {'values': [512]},\n",
      "                'objective': {'values': ['neuron', 'channel']},\n",
      "                'optimizer': {'values': ['AdamW']},\n",
      "                'random_seed': {'values': [18630595]},\n",
      "                'use_std_transforms': {'values': [True]},\n",
      "                'use_transforms': {'values': [True]},\n",
      "                'visualization_layer': {'values': ['layer4_5_conv3']}}}\n"
     ]
    }
   ],
   "source": [
    "parameter_dict = {\n",
    "    constants.NUMBER_OF_ITERATIONS: {\n",
    "        'values': [512]\n",
    "#         'values': [2]\n",
    "    },\n",
    "    constants.MODEL: {\n",
    "        'values': ['RN50x4']\n",
    "    },\n",
    "    constants.LINEAR_PROBE_LAYER: {\n",
    "        'values': [\n",
    "            'layer1_0_conv3',\n",
    "            'layer1_0_relu3',\n",
    "            'layer1_3_conv3',\n",
    "            'layer1_3_relu3',\n",
    "            'layer2_5_conv3',\n",
    "            'layer2_5_relu3',\n",
    "            'layer3_9_conv3',\n",
    "            'layer3_9_relu3'\n",
    "        ]\n",
    "    },\n",
    "    constants.VISUALIZATION_LAYER: {\n",
    "        'values': [\n",
    "            'layer4_5_conv3'\n",
    "        ]\n",
    "    },\n",
    "    constants.OPTIMIZER: {\n",
    "        'values': [\n",
    "            'AdamW'\n",
    "        ]\n",
    "    },\n",
    "    constants.LEARNING_RATE: {\n",
    "        'values': [\n",
    "            0.05\n",
    "        ]\n",
    "    },\n",
    "    constants.CHANNEL: {\n",
    "        'values': [\n",
    "            1, 128, 512, 2048, 2560  \n",
    "        ]\n",
    "    },\n",
    "    constants.OBJECTIVE: {\n",
    "        'values': [\n",
    "            'neuron',\n",
    "            'channel'\n",
    "        ]\n",
    "    },\n",
    "    constants.USE_TRANSFORMS: {\n",
    "        'values': [\n",
    "            True\n",
    "        ]\n",
    "    },\n",
    "    constants.USE_STD_TRANSFORMS: {\n",
    "        'values': [\n",
    "            True\n",
    "        ]\n",
    "    },\n",
    "    constants.RANDOM_SEED: {\n",
    "        'values': [\n",
    "            generated_random_seed\n",
    "        ]\n",
    "    }\n",
    "}\n",
    "sweep_config = {\n",
    "    'method': 'grid',\n",
    "    'parameters': parameter_dict\n",
    "\n",
    "}\n",
    "logger.info(\"Sweep Configuration = \\n %s\", pprint.pformat(sweep_config))"
   ]
  },
  {
   "cell_type": "code",
   "execution_count": 14,
   "id": "9ba2ea01975d2704",
   "metadata": {
    "ExecuteTime": {
     "end_time": "2023-12-04T00:23:22.217255Z",
     "start_time": "2023-12-04T00:23:22.214159Z"
    }
   },
   "outputs": [
    {
     "name": "stderr",
     "output_type": "stream",
     "text": [
      "2023-12-04 17:59:58,580 [MainThread  ] [INFO ]  Selected Device = cuda:0\n"
     ]
    }
   ],
   "source": [
    "if torch.cuda.is_available():\n",
    "    DEVICE = \"cuda:0\"\n",
    "else:\n",
    "    DEVICE = \"cpu\"\n",
    "logger.info(\"Selected Device = %s\", DEVICE)"
   ]
  },
  {
   "cell_type": "code",
   "execution_count": 15,
   "id": "ebac30fa2ab59dd2",
   "metadata": {
    "ExecuteTime": {
     "end_time": "2023-12-04T00:23:22.223037Z",
     "start_time": "2023-12-04T00:23:22.221623Z"
    }
   },
   "outputs": [],
   "source": [
    "def perform_sweep(config=None):\n",
    "    with wandb.init(config) as run:\n",
    "        current_sweep_config = wandb.config\n",
    "        logger.info('Starting sweep [ run  %s ] with config = \\n%s', run.id, current_sweep_config)\n",
    "        faceted_visualization.visualizer.helpers.set_seed(current_sweep_config[constants.RANDOM_SEED])\n",
    "        model, clip_transforms = faceted_visualization.visualizer.main.get_model(current_sweep_config[constants.MODEL],\n",
    "                                                                                 device=DEVICE)\n",
    "        model_hook = faceted_visualization.visualizer.hook.register_hooks(model)\n",
    "        if current_sweep_config[constants.MODEL].casefold() == 'RN50x4'.casefold():\n",
    "            image_h, image_w = 288, 288\n",
    "            probe_location = os.path.join(PROBE_HOME, current_sweep_config[constants.MODEL],\n",
    "                                          current_sweep_config[constants.LINEAR_PROBE_LAYER], \"version_4_20\",\n",
    "                                          \"model_checkpoint.pth\")\n",
    "        else:\n",
    "            image_h, image_w = 224, 224\n",
    "            probe_location = os.path.join(PROBE_HOME,\n",
    "                                          current_sweep_config[constants.MODEL] + \"_\" + current_sweep_config[\n",
    "                                              constants.LINEAR_PROBE_LAYER], \"version_1\", \"model_checkpoint.pth\")\n",
    "        params, image_f = faceted_visualization.visualizer.image.generate_img(h=image_h, w=image_w,\n",
    "                                                                              decorrelate=True,\n",
    "                                                                              fft=True,\n",
    "                                                                              device=DEVICE)\n",
    "        probe_weights = faceted_visualization.visualizer.main.get_probe_weights(model_location=probe_location,\n",
    "                                                                                device=DEVICE)\n",
    "        if current_sweep_config[constants.OPTIMIZER].casefold() == \"ADAM\".casefold():\n",
    "            optimizer = torch.optim.Adam(params=params, lr=current_sweep_config[constants.LEARNING_RATE])\n",
    "        elif current_sweep_config[constants.OPTIMIZER].casefold() == \"ADAMW\".casefold():\n",
    "            optimizer = torch.optim.AdamW(params=params, lr=current_sweep_config[constants.LEARNING_RATE])\n",
    "        elif current_sweep_config[constants.OPTIMIZER].casefold() == \"SGD\".casefold():\n",
    "            optimizer = torch.optim.SGD(params=params, lr=current_sweep_config[constants.LEARNING_RATE])\n",
    "        else:\n",
    "            logger.error(\"Unknown optimizer type [ %s ] provided\", current_sweep_config[constants.OPTIMIZER])\n",
    "            raise RuntimeError(f\"Unknown optimizer type [ {current_sweep_config[constants.OPTIMIZER]} ] provided\")\n",
    "\n",
    "        transforms = faceted_visualization.visualizer.image.consolidate_transforms(\n",
    "            use_clip_transforms=current_sweep_config[constants.USE_TRANSFORMS],\n",
    "            use_standard_transforms=current_sweep_config[constants.USE_STD_TRANSFORMS],\n",
    "            clip_transforms=clip_transforms\n",
    "        )\n",
    "\n",
    "        logger.info(\"Final list of transforms = %s\", transforms.transforms if transforms is not None else \"NA\")\n",
    "\n",
    "        wandb_object = faceted_visualization.visualizer.wb.WandB(\n",
    "            is_sweep=True,\n",
    "            enabled=True,\n",
    "            api_key=None,\n",
    "            entity=None,\n",
    "            run_name=None,\n",
    "            project=None,\n",
    "            config=None,\n",
    "        )\n",
    "        \n",
    "        if current_sweep_config[constants.OBJECTIVE] == \"neuron\":\n",
    "            image_name = f\"{current_sweep_config[constants.VISUALIZATION_LAYER]}:{current_sweep_config[constants.CHANNEL]}_mid_neuron\"\n",
    "        else:\n",
    "            image_name = f\"{current_sweep_config[constants.VISUALIZATION_LAYER]}:{current_sweep_config[constants.CHANNEL]}\"\n",
    "            \n",
    "        faceted_visualization.visualizer.render.optimize(\n",
    "            num_iterations=current_sweep_config[constants.NUMBER_OF_ITERATIONS],\n",
    "            transforms=transforms,\n",
    "            image_function=image_f,\n",
    "            model=model,\n",
    "            channel=current_sweep_config[constants.CHANNEL],\n",
    "            objective=current_sweep_config[constants.OBJECTIVE],\n",
    "            layer=current_sweep_config[constants.VISUALIZATION_LAYER],\n",
    "            linear_probe_layer=current_sweep_config[constants.LINEAR_PROBE_LAYER],\n",
    "            probe_weights=probe_weights,\n",
    "            optimizer=optimizer,\n",
    "            model_hook=model_hook,\n",
    "            neuron_x=current_sweep_config.get(constants.NEURON_X, None),\n",
    "            neuron_y=current_sweep_config.get(constants.NEURON_Y, None),\n",
    "            wandb_object=wandb_object,\n",
    "            run_id=run.id,\n",
    "            device=DEVICE,\n",
    "            image_name=image_name\n",
    "            )\n",
    "\n",
    "        logger.info(\"Completed run [ %s ]\", run.id)"
   ]
  },
  {
   "cell_type": "code",
   "execution_count": 16,
   "id": "78e184d24ac3dac7",
   "metadata": {
    "ExecuteTime": {
     "start_time": "2023-12-04T00:23:22.223925Z"
    },
    "is_executing": true
   },
   "outputs": [
    {
     "name": "stderr",
     "output_type": "stream",
     "text": [
      "2023-12-04 18:00:50,597 [MainThread  ] [INFO ]  Sweep ID = cuq4fdws\n",
      "2023-12-04 18:00:50,601 [MainThread  ] [INFO ]  Starting sweep agent: entity=None, project=None, count=None\n"
     ]
    },
    {
     "name": "stdout",
     "output_type": "stream",
     "text": [
      "Create sweep with ID: cuq4fdws\n",
      "Sweep URL: https://wandb.ai/rohanprasad/idl-project-flowers-facet/sweeps/cuq4fdws\n"
     ]
    },
    {
     "name": "stderr",
     "output_type": "stream",
     "text": [
      "\u001b[34m\u001b[1mwandb\u001b[0m: Agent Starting Run: 0kbar4bx with config:\n",
      "\u001b[34m\u001b[1mwandb\u001b[0m: \tchannel: 1\n",
      "\u001b[34m\u001b[1mwandb\u001b[0m: \tlearning_rate: 0.05\n",
      "\u001b[34m\u001b[1mwandb\u001b[0m: \tlinear_probe_layer: layer1_0_conv3\n",
      "\u001b[34m\u001b[1mwandb\u001b[0m: \tmodel: RN50x4\n",
      "\u001b[34m\u001b[1mwandb\u001b[0m: \tnum_iterations: 512\n",
      "\u001b[34m\u001b[1mwandb\u001b[0m: \tobjective: neuron\n",
      "\u001b[34m\u001b[1mwandb\u001b[0m: \toptimizer: AdamW\n",
      "\u001b[34m\u001b[1mwandb\u001b[0m: \trandom_seed: 18630595\n",
      "\u001b[34m\u001b[1mwandb\u001b[0m: \tuse_std_transforms: True\n",
      "\u001b[34m\u001b[1mwandb\u001b[0m: \tuse_transforms: True\n",
      "\u001b[34m\u001b[1mwandb\u001b[0m: \tvisualization_layer: layer4_5_conv3\n",
      "\u001b[34m\u001b[1mwandb\u001b[0m: Currently logged in as: \u001b[33mrohanprasad\u001b[0m. Use \u001b[1m`wandb login --relogin`\u001b[0m to force relogin\n"
     ]
    },
    {
     "data": {
      "text/html": [
       "Tracking run with wandb version 0.16.0"
      ],
      "text/plain": [
       "<IPython.core.display.HTML object>"
      ]
     },
     "metadata": {},
     "output_type": "display_data"
    },
    {
     "data": {
      "text/html": [
       "Run data is saved locally in <code>/apps/11785-f23-prj/wandb/run-20231204_180052-0kbar4bx</code>"
      ],
      "text/plain": [
       "<IPython.core.display.HTML object>"
      ]
     },
     "metadata": {},
     "output_type": "display_data"
    },
    {
     "data": {
      "text/html": [
       "Syncing run <strong><a href='https://wandb.ai/rohanprasad/idl-project-flowers-facet/runs/0kbar4bx' target=\"_blank\">brisk-sweep-1</a></strong> to <a href='https://wandb.ai/rohanprasad/idl-project-flowers-facet' target=\"_blank\">Weights & Biases</a> (<a href='https://wandb.me/run' target=\"_blank\">docs</a>)<br/>Sweep page: <a href='https://wandb.ai/rohanprasad/idl-project-flowers-facet/sweeps/cuq4fdws' target=\"_blank\">https://wandb.ai/rohanprasad/idl-project-flowers-facet/sweeps/cuq4fdws</a>"
      ],
      "text/plain": [
       "<IPython.core.display.HTML object>"
      ]
     },
     "metadata": {},
     "output_type": "display_data"
    },
    {
     "data": {
      "text/html": [
       " View project at <a href='https://wandb.ai/rohanprasad/idl-project-flowers-facet' target=\"_blank\">https://wandb.ai/rohanprasad/idl-project-flowers-facet</a>"
      ],
      "text/plain": [
       "<IPython.core.display.HTML object>"
      ]
     },
     "metadata": {},
     "output_type": "display_data"
    },
    {
     "data": {
      "text/html": [
       " View sweep at <a href='https://wandb.ai/rohanprasad/idl-project-flowers-facet/sweeps/cuq4fdws' target=\"_blank\">https://wandb.ai/rohanprasad/idl-project-flowers-facet/sweeps/cuq4fdws</a>"
      ],
      "text/plain": [
       "<IPython.core.display.HTML object>"
      ]
     },
     "metadata": {},
     "output_type": "display_data"
    },
    {
     "data": {
      "text/html": [
       " View run at <a href='https://wandb.ai/rohanprasad/idl-project-flowers-facet/runs/0kbar4bx' target=\"_blank\">https://wandb.ai/rohanprasad/idl-project-flowers-facet/runs/0kbar4bx</a>"
      ],
      "text/plain": [
       "<IPython.core.display.HTML object>"
      ]
     },
     "metadata": {},
     "output_type": "display_data"
    },
    {
     "name": "stderr",
     "output_type": "stream",
     "text": [
      "2023-12-04 18:01:02,611 [Thread-6 (_r] [INFO ]  Starting sweep [ run  0kbar4bx ] with config = \n",
      "{'channel': 1, 'learning_rate': 0.05, 'linear_probe_layer': 'layer1_0_conv3', 'model': 'RN50x4', 'num_iterations': 512, 'objective': 'neuron', 'optimizer': 'AdamW', 'random_seed': 18630595, 'use_std_transforms': True, 'use_transforms': True, 'visualization_layer': 'layer4_5_conv3'}\n",
      "2023-12-04 18:01:02,613 [Thread-6 (_r] [INFO ]  Setting random seed to 18630595\n",
      "2023-12-04 18:01:02,615 [Thread-6 (_r] [INFO ]  Loading CLIP model [ RN50x4 ].\n",
      "2023-12-04 18:01:09,130 [Thread-6 (_r] [INFO ]  Finished loading model [ RN50x4 ]\n",
      "2023-12-04 18:01:09,132 [Thread-6 (_r] [INFO ]  Finished loading transforms [ Compose(\n",
      "    Resize(size=288, interpolation=bicubic, max_size=None, antialias=warn)\n",
      "    CenterCrop(size=(288, 288))\n",
      "    Normalize(mean=(0.48145466, 0.4578275, 0.40821073), std=(0.26862954, 0.26130258, 0.27577711))\n",
      ") ]\n",
      "2023-12-04 18:01:09,133 [Thread-6 (_r] [INFO ]  Registering hooks.\n",
      "2023-12-04 18:01:09,137 [Thread-6 (_r] [INFO ]  Finished registering hooks.\n",
      "2023-12-04 18:01:09,143 [Thread-6 (_r] [INFO ]  Retrieving weights of linear probe [ path = /apps/11785-f23-prj/faceted_visualization/probes/logs/flower/RN50x4/layer1_0_conv3/version_4_20/model_checkpoint.pth ]\n",
      "2023-12-04 18:01:09,149 [Thread-6 (_r] [INFO ]  Final list of transforms = [Resize(size=288, interpolation=bicubic, max_size=None, antialias=warn), CenterCrop(size=(288, 288)), Normalize(mean=(0.48145466, 0.4578275, 0.40821073), std=(0.26862954, 0.26130258, 0.27577711)), RandomAffine(degrees=[0.0, 0.0], translate=(0.03, 0.03), interpolation=InterpolationMode.NEAREST, fill=0), RandomAffine(degrees=[0.0, 0.0], scale=(0.9, 1.1), interpolation=InterpolationMode.NEAREST, fill=0), RandomRotation(degrees=[-10.0, 10.0], interpolation=InterpolationMode.NEAREST, expand=False, fill=0), RandomAffine(degrees=[0.0, 0.0], translate=(0.015, 0.015), interpolation=InterpolationMode.NEAREST, fill=0)]\n",
      "2023-12-04 18:01:09,150 [Thread-6 (_r] [INFO ]  Starting optimization process [ run_id = 0kbar4bx ]...\n",
      "/opt/conda/lib/python3.10/site-packages/torchvision/transforms/functional.py:1603: UserWarning: The default value of the antialias parameter of all the resizing transforms (Resize(), RandomResizedCrop(), etc.) will change from None to True in v0.17, in order to be consistent across the PIL and Tensor backends. To suppress this warning, directly pass antialias=True (recommended, future default), antialias=None (current default, which means False for Tensors and True for PIL), or antialias=False (only works on Tensors - PIL will still use antialiasing). This also applies if you are using the inference transforms from the models weights: update the call to weights.transforms(antialias=True).\n",
      "  warnings.warn(\n",
      "2023-12-04 18:01:11,631 [Thread-6 (_r] [INFO ]  Epoch: 1/512: Loss = 0.1456299 :: Learning Rate = 0.0500000\n",
      "/opt/conda/lib/python3.10/site-packages/torchvision/transforms/functional.py:1603: UserWarning: The default value of the antialias parameter of all the resizing transforms (Resize(), RandomResizedCrop(), etc.) will change from None to True in v0.17, in order to be consistent across the PIL and Tensor backends. To suppress this warning, directly pass antialias=True (recommended, future default), antialias=None (current default, which means False for Tensors and True for PIL), or antialias=False (only works on Tensors - PIL will still use antialiasing). This also applies if you are using the inference transforms from the models weights: update the call to weights.transforms(antialias=True).\n",
      "  warnings.warn(\n",
      "2023-12-04 18:01:17,072 [Thread-6 (_r] [INFO ]  Epoch: 101/512: Loss = -0.9506836 :: Learning Rate = 0.0500000\n",
      "2023-12-04 18:01:21,998 [Thread-6 (_r] [INFO ]  Epoch: 201/512: Loss = -1.2812500 :: Learning Rate = 0.0500000\n",
      "2023-12-04 18:01:27,015 [Thread-6 (_r] [INFO ]  Epoch: 301/512: Loss = -1.4736328 :: Learning Rate = 0.0500000\n",
      "2023-12-04 18:01:31,889 [Thread-6 (_r] [INFO ]  Epoch: 401/512: Loss = -1.4453125 :: Learning Rate = 0.0500000\n",
      "2023-12-04 18:01:36,796 [Thread-6 (_r] [INFO ]  Epoch: 501/512: Loss = -1.3964844 :: Learning Rate = 0.0500000\n",
      "2023-12-04 18:01:37,358 [Thread-6 (_r] [INFO ]  Epoch: 512/512: Loss = -1.5107422 :: Learning Rate = 0.0500000\n",
      "2023-12-04 18:01:37,382 [Thread-6 (_r] [INFO ]  Completed run [ 0kbar4bx ]\n"
     ]
    },
    {
     "data": {
      "application/vnd.jupyter.widget-view+json": {
       "model_id": "",
       "version_major": 2,
       "version_minor": 0
      },
      "text/plain": [
       "VBox(children=(Label(value='1.172 MB of 1.172 MB uploaded\\r'), FloatProgress(value=1.0, max=1.0)))"
      ]
     },
     "metadata": {},
     "output_type": "display_data"
    },
    {
     "data": {
      "text/html": [
       "<style>\n",
       "    table.wandb td:nth-child(1) { padding: 0 10px; text-align: left ; width: auto;} td:nth-child(2) {text-align: left ; width: 100%}\n",
       "    .wandb-row { display: flex; flex-direction: row; flex-wrap: wrap; justify-content: flex-start; width: 100% }\n",
       "    .wandb-col { display: flex; flex-direction: column; flex-basis: 100%; flex: 1; padding: 10px; }\n",
       "    </style>\n",
       "<div class=\"wandb-row\"><div class=\"wandb-col\"><h3>Run history:</h3><br/><table class=\"wandb\"><tr><td>loss</td><td>█▃▂▁▁▁▁</td></tr></table><br/></div><div class=\"wandb-col\"><h3>Run summary:</h3><br/><table class=\"wandb\"><tr><td>loss</td><td>-1.51074</td></tr></table><br/></div></div>"
      ],
      "text/plain": [
       "<IPython.core.display.HTML object>"
      ]
     },
     "metadata": {},
     "output_type": "display_data"
    },
    {
     "data": {
      "text/html": [
       " View run <strong style=\"color:#cdcd00\">brisk-sweep-1</strong> at: <a href='https://wandb.ai/rohanprasad/idl-project-flowers-facet/runs/0kbar4bx' target=\"_blank\">https://wandb.ai/rohanprasad/idl-project-flowers-facet/runs/0kbar4bx</a><br/>Synced 6 W&B file(s), 7 media file(s), 0 artifact file(s) and 0 other file(s)"
      ],
      "text/plain": [
       "<IPython.core.display.HTML object>"
      ]
     },
     "metadata": {},
     "output_type": "display_data"
    },
    {
     "data": {
      "text/html": [
       "Find logs at: <code>./wandb/run-20231204_180052-0kbar4bx/logs</code>"
      ],
      "text/plain": [
       "<IPython.core.display.HTML object>"
      ]
     },
     "metadata": {},
     "output_type": "display_data"
    },
    {
     "name": "stderr",
     "output_type": "stream",
     "text": [
      "\u001b[34m\u001b[1mwandb\u001b[0m: Agent Starting Run: 8jqei8ib with config:\n",
      "\u001b[34m\u001b[1mwandb\u001b[0m: \tchannel: 1\n",
      "\u001b[34m\u001b[1mwandb\u001b[0m: \tlearning_rate: 0.05\n",
      "\u001b[34m\u001b[1mwandb\u001b[0m: \tlinear_probe_layer: layer1_0_conv3\n",
      "\u001b[34m\u001b[1mwandb\u001b[0m: \tmodel: RN50x4\n",
      "\u001b[34m\u001b[1mwandb\u001b[0m: \tnum_iterations: 512\n",
      "\u001b[34m\u001b[1mwandb\u001b[0m: \tobjective: channel\n",
      "\u001b[34m\u001b[1mwandb\u001b[0m: \toptimizer: AdamW\n",
      "\u001b[34m\u001b[1mwandb\u001b[0m: \trandom_seed: 18630595\n",
      "\u001b[34m\u001b[1mwandb\u001b[0m: \tuse_std_transforms: True\n",
      "\u001b[34m\u001b[1mwandb\u001b[0m: \tuse_transforms: True\n",
      "\u001b[34m\u001b[1mwandb\u001b[0m: \tvisualization_layer: layer4_5_conv3\n"
     ]
    },
    {
     "data": {
      "text/html": [
       "Tracking run with wandb version 0.16.0"
      ],
      "text/plain": [
       "<IPython.core.display.HTML object>"
      ]
     },
     "metadata": {},
     "output_type": "display_data"
    },
    {
     "data": {
      "text/html": [
       "Run data is saved locally in <code>/apps/11785-f23-prj/wandb/run-20231204_180144-8jqei8ib</code>"
      ],
      "text/plain": [
       "<IPython.core.display.HTML object>"
      ]
     },
     "metadata": {},
     "output_type": "display_data"
    },
    {
     "data": {
      "text/html": [
       "Syncing run <strong><a href='https://wandb.ai/rohanprasad/idl-project-flowers-facet/runs/8jqei8ib' target=\"_blank\">efficient-sweep-2</a></strong> to <a href='https://wandb.ai/rohanprasad/idl-project-flowers-facet' target=\"_blank\">Weights & Biases</a> (<a href='https://wandb.me/run' target=\"_blank\">docs</a>)<br/>Sweep page: <a href='https://wandb.ai/rohanprasad/idl-project-flowers-facet/sweeps/cuq4fdws' target=\"_blank\">https://wandb.ai/rohanprasad/idl-project-flowers-facet/sweeps/cuq4fdws</a>"
      ],
      "text/plain": [
       "<IPython.core.display.HTML object>"
      ]
     },
     "metadata": {},
     "output_type": "display_data"
    },
    {
     "data": {
      "text/html": [
       " View project at <a href='https://wandb.ai/rohanprasad/idl-project-flowers-facet' target=\"_blank\">https://wandb.ai/rohanprasad/idl-project-flowers-facet</a>"
      ],
      "text/plain": [
       "<IPython.core.display.HTML object>"
      ]
     },
     "metadata": {},
     "output_type": "display_data"
    },
    {
     "data": {
      "text/html": [
       " View sweep at <a href='https://wandb.ai/rohanprasad/idl-project-flowers-facet/sweeps/cuq4fdws' target=\"_blank\">https://wandb.ai/rohanprasad/idl-project-flowers-facet/sweeps/cuq4fdws</a>"
      ],
      "text/plain": [
       "<IPython.core.display.HTML object>"
      ]
     },
     "metadata": {},
     "output_type": "display_data"
    },
    {
     "data": {
      "text/html": [
       " View run at <a href='https://wandb.ai/rohanprasad/idl-project-flowers-facet/runs/8jqei8ib' target=\"_blank\">https://wandb.ai/rohanprasad/idl-project-flowers-facet/runs/8jqei8ib</a>"
      ],
      "text/plain": [
       "<IPython.core.display.HTML object>"
      ]
     },
     "metadata": {},
     "output_type": "display_data"
    },
    {
     "name": "stderr",
     "output_type": "stream",
     "text": [
      "2023-12-04 18:01:54,534 [Thread-10 (_] [INFO ]  Starting sweep [ run  8jqei8ib ] with config = \n",
      "{'channel': 1, 'learning_rate': 0.05, 'linear_probe_layer': 'layer1_0_conv3', 'model': 'RN50x4', 'num_iterations': 512, 'objective': 'channel', 'optimizer': 'AdamW', 'random_seed': 18630595, 'use_std_transforms': True, 'use_transforms': True, 'visualization_layer': 'layer4_5_conv3'}\n",
      "2023-12-04 18:01:54,536 [Thread-10 (_] [INFO ]  Setting random seed to 18630595\n",
      "2023-12-04 18:01:54,537 [Thread-10 (_] [INFO ]  Loading CLIP model [ RN50x4 ].\n",
      "2023-12-04 18:01:59,603 [Thread-10 (_] [INFO ]  Finished loading model [ RN50x4 ]\n",
      "2023-12-04 18:01:59,604 [Thread-10 (_] [INFO ]  Finished loading transforms [ Compose(\n",
      "    Resize(size=288, interpolation=bicubic, max_size=None, antialias=warn)\n",
      "    CenterCrop(size=(288, 288))\n",
      "    Normalize(mean=(0.48145466, 0.4578275, 0.40821073), std=(0.26862954, 0.26130258, 0.27577711))\n",
      ") ]\n",
      "2023-12-04 18:01:59,605 [Thread-10 (_] [INFO ]  Registering hooks.\n",
      "2023-12-04 18:01:59,608 [Thread-10 (_] [INFO ]  Finished registering hooks.\n",
      "2023-12-04 18:01:59,612 [Thread-10 (_] [INFO ]  Retrieving weights of linear probe [ path = /apps/11785-f23-prj/faceted_visualization/probes/logs/flower/RN50x4/layer1_0_conv3/version_4_20/model_checkpoint.pth ]\n",
      "2023-12-04 18:01:59,617 [Thread-10 (_] [INFO ]  Final list of transforms = [Resize(size=288, interpolation=bicubic, max_size=None, antialias=warn), CenterCrop(size=(288, 288)), Normalize(mean=(0.48145466, 0.4578275, 0.40821073), std=(0.26862954, 0.26130258, 0.27577711)), RandomAffine(degrees=[0.0, 0.0], translate=(0.03, 0.03), interpolation=InterpolationMode.NEAREST, fill=0), RandomAffine(degrees=[0.0, 0.0], scale=(0.9, 1.1), interpolation=InterpolationMode.NEAREST, fill=0), RandomRotation(degrees=[-10.0, 10.0], interpolation=InterpolationMode.NEAREST, expand=False, fill=0), RandomAffine(degrees=[0.0, 0.0], translate=(0.015, 0.015), interpolation=InterpolationMode.NEAREST, fill=0)]\n",
      "2023-12-04 18:01:59,618 [Thread-10 (_] [INFO ]  Starting optimization process [ run_id = 8jqei8ib ]...\n",
      "/opt/conda/lib/python3.10/site-packages/torchvision/transforms/functional.py:1603: UserWarning: The default value of the antialias parameter of all the resizing transforms (Resize(), RandomResizedCrop(), etc.) will change from None to True in v0.17, in order to be consistent across the PIL and Tensor backends. To suppress this warning, directly pass antialias=True (recommended, future default), antialias=None (current default, which means False for Tensors and True for PIL), or antialias=False (only works on Tensors - PIL will still use antialiasing). This also applies if you are using the inference transforms from the models weights: update the call to weights.transforms(antialias=True).\n",
      "  warnings.warn(\n",
      "2023-12-04 18:01:59,667 [Thread-10 (_] [INFO ]  Epoch: 1/512: Loss = 0.1647949 :: Learning Rate = 0.0500000\n",
      "2023-12-04 18:02:04,833 [Thread-10 (_] [INFO ]  Epoch: 101/512: Loss = -0.3537598 :: Learning Rate = 0.0500000\n",
      "2023-12-04 18:02:09,929 [Thread-10 (_] [INFO ]  Epoch: 201/512: Loss = -0.3505859 :: Learning Rate = 0.0500000\n",
      "2023-12-04 18:02:14,947 [Thread-10 (_] [INFO ]  Epoch: 301/512: Loss = 0.0006452 :: Learning Rate = 0.0500000\n",
      "2023-12-04 18:02:19,899 [Thread-10 (_] [INFO ]  Epoch: 401/512: Loss = -0.2812500 :: Learning Rate = 0.0500000\n",
      "2023-12-04 18:02:24,940 [Thread-10 (_] [INFO ]  Epoch: 501/512: Loss = -0.7343750 :: Learning Rate = 0.0500000\n",
      "2023-12-04 18:02:25,522 [Thread-10 (_] [INFO ]  Epoch: 512/512: Loss = -0.3540039 :: Learning Rate = 0.0500000\n",
      "2023-12-04 18:02:25,550 [Thread-10 (_] [INFO ]  Completed run [ 8jqei8ib ]\n"
     ]
    },
    {
     "data": {
      "application/vnd.jupyter.widget-view+json": {
       "model_id": "",
       "version_major": 2,
       "version_minor": 0
      },
      "text/plain": [
       "VBox(children=(Label(value='1.317 MB of 1.317 MB uploaded\\r'), FloatProgress(value=1.0, max=1.0)))"
      ]
     },
     "metadata": {},
     "output_type": "display_data"
    },
    {
     "data": {
      "text/html": [
       "<style>\n",
       "    table.wandb td:nth-child(1) { padding: 0 10px; text-align: left ; width: auto;} td:nth-child(2) {text-align: left ; width: 100%}\n",
       "    .wandb-row { display: flex; flex-direction: row; flex-wrap: wrap; justify-content: flex-start; width: 100% }\n",
       "    .wandb-col { display: flex; flex-direction: column; flex-basis: 100%; flex: 1; padding: 10px; }\n",
       "    </style>\n",
       "<div class=\"wandb-row\"><div class=\"wandb-col\"><h3>Run history:</h3><br/><table class=\"wandb\"><tr><td>loss</td><td>█▄▄▇▅▁▄</td></tr></table><br/></div><div class=\"wandb-col\"><h3>Run summary:</h3><br/><table class=\"wandb\"><tr><td>loss</td><td>-0.354</td></tr></table><br/></div></div>"
      ],
      "text/plain": [
       "<IPython.core.display.HTML object>"
      ]
     },
     "metadata": {},
     "output_type": "display_data"
    },
    {
     "data": {
      "text/html": [
       " View run <strong style=\"color:#cdcd00\">efficient-sweep-2</strong> at: <a href='https://wandb.ai/rohanprasad/idl-project-flowers-facet/runs/8jqei8ib' target=\"_blank\">https://wandb.ai/rohanprasad/idl-project-flowers-facet/runs/8jqei8ib</a><br/>Synced 6 W&B file(s), 7 media file(s), 0 artifact file(s) and 0 other file(s)"
      ],
      "text/plain": [
       "<IPython.core.display.HTML object>"
      ]
     },
     "metadata": {},
     "output_type": "display_data"
    },
    {
     "data": {
      "text/html": [
       "Find logs at: <code>./wandb/run-20231204_180144-8jqei8ib/logs</code>"
      ],
      "text/plain": [
       "<IPython.core.display.HTML object>"
      ]
     },
     "metadata": {},
     "output_type": "display_data"
    },
    {
     "name": "stderr",
     "output_type": "stream",
     "text": [
      "\u001b[34m\u001b[1mwandb\u001b[0m: Agent Starting Run: 62b2hmh9 with config:\n",
      "\u001b[34m\u001b[1mwandb\u001b[0m: \tchannel: 1\n",
      "\u001b[34m\u001b[1mwandb\u001b[0m: \tlearning_rate: 0.05\n",
      "\u001b[34m\u001b[1mwandb\u001b[0m: \tlinear_probe_layer: layer1_0_relu3\n",
      "\u001b[34m\u001b[1mwandb\u001b[0m: \tmodel: RN50x4\n",
      "\u001b[34m\u001b[1mwandb\u001b[0m: \tnum_iterations: 512\n",
      "\u001b[34m\u001b[1mwandb\u001b[0m: \tobjective: neuron\n",
      "\u001b[34m\u001b[1mwandb\u001b[0m: \toptimizer: AdamW\n",
      "\u001b[34m\u001b[1mwandb\u001b[0m: \trandom_seed: 18630595\n",
      "\u001b[34m\u001b[1mwandb\u001b[0m: \tuse_std_transforms: True\n",
      "\u001b[34m\u001b[1mwandb\u001b[0m: \tuse_transforms: True\n",
      "\u001b[34m\u001b[1mwandb\u001b[0m: \tvisualization_layer: layer4_5_conv3\n"
     ]
    },
    {
     "data": {
      "text/html": [
       "Tracking run with wandb version 0.16.0"
      ],
      "text/plain": [
       "<IPython.core.display.HTML object>"
      ]
     },
     "metadata": {},
     "output_type": "display_data"
    },
    {
     "data": {
      "text/html": [
       "Run data is saved locally in <code>/apps/11785-f23-prj/wandb/run-20231204_180234-62b2hmh9</code>"
      ],
      "text/plain": [
       "<IPython.core.display.HTML object>"
      ]
     },
     "metadata": {},
     "output_type": "display_data"
    },
    {
     "data": {
      "text/html": [
       "Syncing run <strong><a href='https://wandb.ai/rohanprasad/idl-project-flowers-facet/runs/62b2hmh9' target=\"_blank\">hearty-sweep-3</a></strong> to <a href='https://wandb.ai/rohanprasad/idl-project-flowers-facet' target=\"_blank\">Weights & Biases</a> (<a href='https://wandb.me/run' target=\"_blank\">docs</a>)<br/>Sweep page: <a href='https://wandb.ai/rohanprasad/idl-project-flowers-facet/sweeps/cuq4fdws' target=\"_blank\">https://wandb.ai/rohanprasad/idl-project-flowers-facet/sweeps/cuq4fdws</a>"
      ],
      "text/plain": [
       "<IPython.core.display.HTML object>"
      ]
     },
     "metadata": {},
     "output_type": "display_data"
    },
    {
     "data": {
      "text/html": [
       " View project at <a href='https://wandb.ai/rohanprasad/idl-project-flowers-facet' target=\"_blank\">https://wandb.ai/rohanprasad/idl-project-flowers-facet</a>"
      ],
      "text/plain": [
       "<IPython.core.display.HTML object>"
      ]
     },
     "metadata": {},
     "output_type": "display_data"
    },
    {
     "data": {
      "text/html": [
       " View sweep at <a href='https://wandb.ai/rohanprasad/idl-project-flowers-facet/sweeps/cuq4fdws' target=\"_blank\">https://wandb.ai/rohanprasad/idl-project-flowers-facet/sweeps/cuq4fdws</a>"
      ],
      "text/plain": [
       "<IPython.core.display.HTML object>"
      ]
     },
     "metadata": {},
     "output_type": "display_data"
    },
    {
     "data": {
      "text/html": [
       " View run at <a href='https://wandb.ai/rohanprasad/idl-project-flowers-facet/runs/62b2hmh9' target=\"_blank\">https://wandb.ai/rohanprasad/idl-project-flowers-facet/runs/62b2hmh9</a>"
      ],
      "text/plain": [
       "<IPython.core.display.HTML object>"
      ]
     },
     "metadata": {},
     "output_type": "display_data"
    },
    {
     "name": "stderr",
     "output_type": "stream",
     "text": [
      "2023-12-04 18:02:44,724 [Thread-13 (_] [INFO ]  Starting sweep [ run  62b2hmh9 ] with config = \n",
      "{'channel': 1, 'learning_rate': 0.05, 'linear_probe_layer': 'layer1_0_relu3', 'model': 'RN50x4', 'num_iterations': 512, 'objective': 'neuron', 'optimizer': 'AdamW', 'random_seed': 18630595, 'use_std_transforms': True, 'use_transforms': True, 'visualization_layer': 'layer4_5_conv3'}\n",
      "2023-12-04 18:02:44,725 [Thread-13 (_] [INFO ]  Setting random seed to 18630595\n",
      "2023-12-04 18:02:44,727 [Thread-13 (_] [INFO ]  Loading CLIP model [ RN50x4 ].\n",
      "2023-12-04 18:02:49,402 [Thread-13 (_] [INFO ]  Finished loading model [ RN50x4 ]\n",
      "2023-12-04 18:02:49,404 [Thread-13 (_] [INFO ]  Finished loading transforms [ Compose(\n",
      "    Resize(size=288, interpolation=bicubic, max_size=None, antialias=warn)\n",
      "    CenterCrop(size=(288, 288))\n",
      "    Normalize(mean=(0.48145466, 0.4578275, 0.40821073), std=(0.26862954, 0.26130258, 0.27577711))\n",
      ") ]\n",
      "2023-12-04 18:02:49,404 [Thread-13 (_] [INFO ]  Registering hooks.\n",
      "2023-12-04 18:02:49,408 [Thread-13 (_] [INFO ]  Finished registering hooks.\n",
      "2023-12-04 18:02:49,413 [Thread-13 (_] [INFO ]  Retrieving weights of linear probe [ path = /apps/11785-f23-prj/faceted_visualization/probes/logs/flower/RN50x4/layer1_0_relu3/version_4_20/model_checkpoint.pth ]\n",
      "2023-12-04 18:02:49,418 [Thread-13 (_] [INFO ]  Final list of transforms = [Resize(size=288, interpolation=bicubic, max_size=None, antialias=warn), CenterCrop(size=(288, 288)), Normalize(mean=(0.48145466, 0.4578275, 0.40821073), std=(0.26862954, 0.26130258, 0.27577711)), RandomAffine(degrees=[0.0, 0.0], translate=(0.03, 0.03), interpolation=InterpolationMode.NEAREST, fill=0), RandomAffine(degrees=[0.0, 0.0], scale=(0.9, 1.1), interpolation=InterpolationMode.NEAREST, fill=0), RandomRotation(degrees=[-10.0, 10.0], interpolation=InterpolationMode.NEAREST, expand=False, fill=0), RandomAffine(degrees=[0.0, 0.0], translate=(0.015, 0.015), interpolation=InterpolationMode.NEAREST, fill=0)]\n",
      "2023-12-04 18:02:49,419 [Thread-13 (_] [INFO ]  Starting optimization process [ run_id = 62b2hmh9 ]...\n",
      "/opt/conda/lib/python3.10/site-packages/torchvision/transforms/functional.py:1603: UserWarning: The default value of the antialias parameter of all the resizing transforms (Resize(), RandomResizedCrop(), etc.) will change from None to True in v0.17, in order to be consistent across the PIL and Tensor backends. To suppress this warning, directly pass antialias=True (recommended, future default), antialias=None (current default, which means False for Tensors and True for PIL), or antialias=False (only works on Tensors - PIL will still use antialiasing). This also applies if you are using the inference transforms from the models weights: update the call to weights.transforms(antialias=True).\n",
      "  warnings.warn(\n",
      "2023-12-04 18:02:49,480 [Thread-13 (_] [INFO ]  Epoch: 1/512: Loss = 0.1511230 :: Learning Rate = 0.0500000\n",
      "2023-12-04 18:02:54,464 [Thread-13 (_] [INFO ]  Epoch: 101/512: Loss = -0.8476562 :: Learning Rate = 0.0500000\n",
      "2023-12-04 18:02:59,549 [Thread-13 (_] [INFO ]  Epoch: 201/512: Loss = -0.8286133 :: Learning Rate = 0.0500000\n",
      "2023-12-04 18:03:04,777 [Thread-13 (_] [INFO ]  Epoch: 301/512: Loss = -1.3173828 :: Learning Rate = 0.0500000\n",
      "2023-12-04 18:03:09,827 [Thread-13 (_] [INFO ]  Epoch: 401/512: Loss = -1.8544922 :: Learning Rate = 0.0500000\n",
      "2023-12-04 18:03:15,051 [Thread-13 (_] [INFO ]  Epoch: 501/512: Loss = -1.3886719 :: Learning Rate = 0.0500000\n",
      "2023-12-04 18:03:15,650 [Thread-13 (_] [INFO ]  Epoch: 512/512: Loss = -1.5986328 :: Learning Rate = 0.0500000\n",
      "2023-12-04 18:03:15,674 [Thread-13 (_] [INFO ]  Completed run [ 62b2hmh9 ]\n"
     ]
    },
    {
     "data": {
      "application/vnd.jupyter.widget-view+json": {
       "model_id": "",
       "version_major": 2,
       "version_minor": 0
      },
      "text/plain": [
       "VBox(children=(Label(value='1.187 MB of 1.187 MB uploaded\\r'), FloatProgress(value=1.0, max=1.0)))"
      ]
     },
     "metadata": {},
     "output_type": "display_data"
    },
    {
     "data": {
      "text/html": [
       "<style>\n",
       "    table.wandb td:nth-child(1) { padding: 0 10px; text-align: left ; width: auto;} td:nth-child(2) {text-align: left ; width: 100%}\n",
       "    .wandb-row { display: flex; flex-direction: row; flex-wrap: wrap; justify-content: flex-start; width: 100% }\n",
       "    .wandb-col { display: flex; flex-direction: column; flex-basis: 100%; flex: 1; padding: 10px; }\n",
       "    </style>\n",
       "<div class=\"wandb-row\"><div class=\"wandb-col\"><h3>Run history:</h3><br/><table class=\"wandb\"><tr><td>loss</td><td>█▅▅▃▁▃▂</td></tr></table><br/></div><div class=\"wandb-col\"><h3>Run summary:</h3><br/><table class=\"wandb\"><tr><td>loss</td><td>-1.59863</td></tr></table><br/></div></div>"
      ],
      "text/plain": [
       "<IPython.core.display.HTML object>"
      ]
     },
     "metadata": {},
     "output_type": "display_data"
    },
    {
     "data": {
      "text/html": [
       " View run <strong style=\"color:#cdcd00\">hearty-sweep-3</strong> at: <a href='https://wandb.ai/rohanprasad/idl-project-flowers-facet/runs/62b2hmh9' target=\"_blank\">https://wandb.ai/rohanprasad/idl-project-flowers-facet/runs/62b2hmh9</a><br/>Synced 6 W&B file(s), 7 media file(s), 0 artifact file(s) and 0 other file(s)"
      ],
      "text/plain": [
       "<IPython.core.display.HTML object>"
      ]
     },
     "metadata": {},
     "output_type": "display_data"
    },
    {
     "data": {
      "text/html": [
       "Find logs at: <code>./wandb/run-20231204_180234-62b2hmh9/logs</code>"
      ],
      "text/plain": [
       "<IPython.core.display.HTML object>"
      ]
     },
     "metadata": {},
     "output_type": "display_data"
    },
    {
     "name": "stderr",
     "output_type": "stream",
     "text": [
      "\u001b[34m\u001b[1mwandb\u001b[0m: Agent Starting Run: v068zpup with config:\n",
      "\u001b[34m\u001b[1mwandb\u001b[0m: \tchannel: 1\n",
      "\u001b[34m\u001b[1mwandb\u001b[0m: \tlearning_rate: 0.05\n",
      "\u001b[34m\u001b[1mwandb\u001b[0m: \tlinear_probe_layer: layer1_0_relu3\n",
      "\u001b[34m\u001b[1mwandb\u001b[0m: \tmodel: RN50x4\n",
      "\u001b[34m\u001b[1mwandb\u001b[0m: \tnum_iterations: 512\n",
      "\u001b[34m\u001b[1mwandb\u001b[0m: \tobjective: channel\n",
      "\u001b[34m\u001b[1mwandb\u001b[0m: \toptimizer: AdamW\n",
      "\u001b[34m\u001b[1mwandb\u001b[0m: \trandom_seed: 18630595\n",
      "\u001b[34m\u001b[1mwandb\u001b[0m: \tuse_std_transforms: True\n",
      "\u001b[34m\u001b[1mwandb\u001b[0m: \tuse_transforms: True\n",
      "\u001b[34m\u001b[1mwandb\u001b[0m: \tvisualization_layer: layer4_5_conv3\n"
     ]
    },
    {
     "data": {
      "text/html": [
       "Tracking run with wandb version 0.16.0"
      ],
      "text/plain": [
       "<IPython.core.display.HTML object>"
      ]
     },
     "metadata": {},
     "output_type": "display_data"
    },
    {
     "data": {
      "text/html": [
       "Run data is saved locally in <code>/apps/11785-f23-prj/wandb/run-20231204_180325-v068zpup</code>"
      ],
      "text/plain": [
       "<IPython.core.display.HTML object>"
      ]
     },
     "metadata": {},
     "output_type": "display_data"
    },
    {
     "data": {
      "text/html": [
       "Syncing run <strong><a href='https://wandb.ai/rohanprasad/idl-project-flowers-facet/runs/v068zpup' target=\"_blank\">brisk-sweep-4</a></strong> to <a href='https://wandb.ai/rohanprasad/idl-project-flowers-facet' target=\"_blank\">Weights & Biases</a> (<a href='https://wandb.me/run' target=\"_blank\">docs</a>)<br/>Sweep page: <a href='https://wandb.ai/rohanprasad/idl-project-flowers-facet/sweeps/cuq4fdws' target=\"_blank\">https://wandb.ai/rohanprasad/idl-project-flowers-facet/sweeps/cuq4fdws</a>"
      ],
      "text/plain": [
       "<IPython.core.display.HTML object>"
      ]
     },
     "metadata": {},
     "output_type": "display_data"
    },
    {
     "data": {
      "text/html": [
       " View project at <a href='https://wandb.ai/rohanprasad/idl-project-flowers-facet' target=\"_blank\">https://wandb.ai/rohanprasad/idl-project-flowers-facet</a>"
      ],
      "text/plain": [
       "<IPython.core.display.HTML object>"
      ]
     },
     "metadata": {},
     "output_type": "display_data"
    },
    {
     "data": {
      "text/html": [
       " View sweep at <a href='https://wandb.ai/rohanprasad/idl-project-flowers-facet/sweeps/cuq4fdws' target=\"_blank\">https://wandb.ai/rohanprasad/idl-project-flowers-facet/sweeps/cuq4fdws</a>"
      ],
      "text/plain": [
       "<IPython.core.display.HTML object>"
      ]
     },
     "metadata": {},
     "output_type": "display_data"
    },
    {
     "data": {
      "text/html": [
       " View run at <a href='https://wandb.ai/rohanprasad/idl-project-flowers-facet/runs/v068zpup' target=\"_blank\">https://wandb.ai/rohanprasad/idl-project-flowers-facet/runs/v068zpup</a>"
      ],
      "text/plain": [
       "<IPython.core.display.HTML object>"
      ]
     },
     "metadata": {},
     "output_type": "display_data"
    },
    {
     "name": "stderr",
     "output_type": "stream",
     "text": [
      "2023-12-04 18:03:35,866 [Thread-16 (_] [INFO ]  Starting sweep [ run  v068zpup ] with config = \n",
      "{'channel': 1, 'learning_rate': 0.05, 'linear_probe_layer': 'layer1_0_relu3', 'model': 'RN50x4', 'num_iterations': 512, 'objective': 'channel', 'optimizer': 'AdamW', 'random_seed': 18630595, 'use_std_transforms': True, 'use_transforms': True, 'visualization_layer': 'layer4_5_conv3'}\n",
      "2023-12-04 18:03:35,868 [Thread-16 (_] [INFO ]  Setting random seed to 18630595\n",
      "2023-12-04 18:03:35,870 [Thread-16 (_] [INFO ]  Loading CLIP model [ RN50x4 ].\n",
      "2023-12-04 18:03:40,366 [Thread-16 (_] [INFO ]  Finished loading model [ RN50x4 ]\n",
      "2023-12-04 18:03:40,367 [Thread-16 (_] [INFO ]  Finished loading transforms [ Compose(\n",
      "    Resize(size=288, interpolation=bicubic, max_size=None, antialias=warn)\n",
      "    CenterCrop(size=(288, 288))\n",
      "    Normalize(mean=(0.48145466, 0.4578275, 0.40821073), std=(0.26862954, 0.26130258, 0.27577711))\n",
      ") ]\n",
      "2023-12-04 18:03:40,369 [Thread-16 (_] [INFO ]  Registering hooks.\n",
      "2023-12-04 18:03:40,371 [Thread-16 (_] [INFO ]  Finished registering hooks.\n",
      "2023-12-04 18:03:40,376 [Thread-16 (_] [INFO ]  Retrieving weights of linear probe [ path = /apps/11785-f23-prj/faceted_visualization/probes/logs/flower/RN50x4/layer1_0_relu3/version_4_20/model_checkpoint.pth ]\n",
      "2023-12-04 18:03:40,381 [Thread-16 (_] [INFO ]  Final list of transforms = [Resize(size=288, interpolation=bicubic, max_size=None, antialias=warn), CenterCrop(size=(288, 288)), Normalize(mean=(0.48145466, 0.4578275, 0.40821073), std=(0.26862954, 0.26130258, 0.27577711)), RandomAffine(degrees=[0.0, 0.0], translate=(0.03, 0.03), interpolation=InterpolationMode.NEAREST, fill=0), RandomAffine(degrees=[0.0, 0.0], scale=(0.9, 1.1), interpolation=InterpolationMode.NEAREST, fill=0), RandomRotation(degrees=[-10.0, 10.0], interpolation=InterpolationMode.NEAREST, expand=False, fill=0), RandomAffine(degrees=[0.0, 0.0], translate=(0.015, 0.015), interpolation=InterpolationMode.NEAREST, fill=0)]\n",
      "2023-12-04 18:03:40,382 [Thread-16 (_] [INFO ]  Starting optimization process [ run_id = v068zpup ]...\n",
      "/opt/conda/lib/python3.10/site-packages/torchvision/transforms/functional.py:1603: UserWarning: The default value of the antialias parameter of all the resizing transforms (Resize(), RandomResizedCrop(), etc.) will change from None to True in v0.17, in order to be consistent across the PIL and Tensor backends. To suppress this warning, directly pass antialias=True (recommended, future default), antialias=None (current default, which means False for Tensors and True for PIL), or antialias=False (only works on Tensors - PIL will still use antialiasing). This also applies if you are using the inference transforms from the models weights: update the call to weights.transforms(antialias=True).\n",
      "  warnings.warn(\n",
      "2023-12-04 18:03:40,447 [Thread-16 (_] [INFO ]  Epoch: 1/512: Loss = 0.1704102 :: Learning Rate = 0.0500000\n",
      "2023-12-04 18:03:45,611 [Thread-16 (_] [INFO ]  Epoch: 101/512: Loss = -0.7504883 :: Learning Rate = 0.0500000\n",
      "2023-12-04 18:03:50,630 [Thread-16 (_] [INFO ]  Epoch: 201/512: Loss = -0.8417969 :: Learning Rate = 0.0500000\n",
      "2023-12-04 18:03:55,707 [Thread-16 (_] [INFO ]  Epoch: 301/512: Loss = -0.4694824 :: Learning Rate = 0.0500000\n",
      "2023-12-04 18:04:01,001 [Thread-16 (_] [INFO ]  Epoch: 401/512: Loss = -1.0058594 :: Learning Rate = 0.0500000\n",
      "2023-12-04 18:04:06,321 [Thread-16 (_] [INFO ]  Epoch: 501/512: Loss = -0.3410645 :: Learning Rate = 0.0500000\n",
      "2023-12-04 18:04:06,912 [Thread-16 (_] [INFO ]  Epoch: 512/512: Loss = -0.7519531 :: Learning Rate = 0.0500000\n",
      "2023-12-04 18:04:06,936 [Thread-16 (_] [INFO ]  Completed run [ v068zpup ]\n"
     ]
    },
    {
     "data": {
      "application/vnd.jupyter.widget-view+json": {
       "model_id": "",
       "version_major": 2,
       "version_minor": 0
      },
      "text/plain": [
       "VBox(children=(Label(value='1.290 MB of 1.312 MB uploaded\\r'), FloatProgress(value=0.9834923340126701, max=1.0…"
      ]
     },
     "metadata": {},
     "output_type": "display_data"
    },
    {
     "data": {
      "text/html": [
       "<style>\n",
       "    table.wandb td:nth-child(1) { padding: 0 10px; text-align: left ; width: auto;} td:nth-child(2) {text-align: left ; width: 100%}\n",
       "    .wandb-row { display: flex; flex-direction: row; flex-wrap: wrap; justify-content: flex-start; width: 100% }\n",
       "    .wandb-col { display: flex; flex-direction: column; flex-basis: 100%; flex: 1; padding: 10px; }\n",
       "    </style>\n",
       "<div class=\"wandb-row\"><div class=\"wandb-col\"><h3>Run history:</h3><br/><table class=\"wandb\"><tr><td>loss</td><td>█▃▂▄▁▅▃</td></tr></table><br/></div><div class=\"wandb-col\"><h3>Run summary:</h3><br/><table class=\"wandb\"><tr><td>loss</td><td>-0.75195</td></tr></table><br/></div></div>"
      ],
      "text/plain": [
       "<IPython.core.display.HTML object>"
      ]
     },
     "metadata": {},
     "output_type": "display_data"
    },
    {
     "data": {
      "text/html": [
       " View run <strong style=\"color:#cdcd00\">brisk-sweep-4</strong> at: <a href='https://wandb.ai/rohanprasad/idl-project-flowers-facet/runs/v068zpup' target=\"_blank\">https://wandb.ai/rohanprasad/idl-project-flowers-facet/runs/v068zpup</a><br/>Synced 6 W&B file(s), 7 media file(s), 0 artifact file(s) and 0 other file(s)"
      ],
      "text/plain": [
       "<IPython.core.display.HTML object>"
      ]
     },
     "metadata": {},
     "output_type": "display_data"
    },
    {
     "data": {
      "text/html": [
       "Find logs at: <code>./wandb/run-20231204_180325-v068zpup/logs</code>"
      ],
      "text/plain": [
       "<IPython.core.display.HTML object>"
      ]
     },
     "metadata": {},
     "output_type": "display_data"
    },
    {
     "name": "stderr",
     "output_type": "stream",
     "text": [
      "\u001b[34m\u001b[1mwandb\u001b[0m: Agent Starting Run: ur5zlqpd with config:\n",
      "\u001b[34m\u001b[1mwandb\u001b[0m: \tchannel: 1\n",
      "\u001b[34m\u001b[1mwandb\u001b[0m: \tlearning_rate: 0.05\n",
      "\u001b[34m\u001b[1mwandb\u001b[0m: \tlinear_probe_layer: layer1_3_conv3\n",
      "\u001b[34m\u001b[1mwandb\u001b[0m: \tmodel: RN50x4\n",
      "\u001b[34m\u001b[1mwandb\u001b[0m: \tnum_iterations: 512\n",
      "\u001b[34m\u001b[1mwandb\u001b[0m: \tobjective: neuron\n",
      "\u001b[34m\u001b[1mwandb\u001b[0m: \toptimizer: AdamW\n",
      "\u001b[34m\u001b[1mwandb\u001b[0m: \trandom_seed: 18630595\n",
      "\u001b[34m\u001b[1mwandb\u001b[0m: \tuse_std_transforms: True\n",
      "\u001b[34m\u001b[1mwandb\u001b[0m: \tuse_transforms: True\n",
      "\u001b[34m\u001b[1mwandb\u001b[0m: \tvisualization_layer: layer4_5_conv3\n"
     ]
    },
    {
     "data": {
      "text/html": [
       "Tracking run with wandb version 0.16.0"
      ],
      "text/plain": [
       "<IPython.core.display.HTML object>"
      ]
     },
     "metadata": {},
     "output_type": "display_data"
    },
    {
     "data": {
      "text/html": [
       "Run data is saved locally in <code>/apps/11785-f23-prj/wandb/run-20231204_180415-ur5zlqpd</code>"
      ],
      "text/plain": [
       "<IPython.core.display.HTML object>"
      ]
     },
     "metadata": {},
     "output_type": "display_data"
    },
    {
     "data": {
      "text/html": [
       "Syncing run <strong><a href='https://wandb.ai/rohanprasad/idl-project-flowers-facet/runs/ur5zlqpd' target=\"_blank\">prime-sweep-5</a></strong> to <a href='https://wandb.ai/rohanprasad/idl-project-flowers-facet' target=\"_blank\">Weights & Biases</a> (<a href='https://wandb.me/run' target=\"_blank\">docs</a>)<br/>Sweep page: <a href='https://wandb.ai/rohanprasad/idl-project-flowers-facet/sweeps/cuq4fdws' target=\"_blank\">https://wandb.ai/rohanprasad/idl-project-flowers-facet/sweeps/cuq4fdws</a>"
      ],
      "text/plain": [
       "<IPython.core.display.HTML object>"
      ]
     },
     "metadata": {},
     "output_type": "display_data"
    },
    {
     "data": {
      "text/html": [
       " View project at <a href='https://wandb.ai/rohanprasad/idl-project-flowers-facet' target=\"_blank\">https://wandb.ai/rohanprasad/idl-project-flowers-facet</a>"
      ],
      "text/plain": [
       "<IPython.core.display.HTML object>"
      ]
     },
     "metadata": {},
     "output_type": "display_data"
    },
    {
     "data": {
      "text/html": [
       " View sweep at <a href='https://wandb.ai/rohanprasad/idl-project-flowers-facet/sweeps/cuq4fdws' target=\"_blank\">https://wandb.ai/rohanprasad/idl-project-flowers-facet/sweeps/cuq4fdws</a>"
      ],
      "text/plain": [
       "<IPython.core.display.HTML object>"
      ]
     },
     "metadata": {},
     "output_type": "display_data"
    },
    {
     "data": {
      "text/html": [
       " View run at <a href='https://wandb.ai/rohanprasad/idl-project-flowers-facet/runs/ur5zlqpd' target=\"_blank\">https://wandb.ai/rohanprasad/idl-project-flowers-facet/runs/ur5zlqpd</a>"
      ],
      "text/plain": [
       "<IPython.core.display.HTML object>"
      ]
     },
     "metadata": {},
     "output_type": "display_data"
    },
    {
     "name": "stderr",
     "output_type": "stream",
     "text": [
      "2023-12-04 18:04:25,997 [Thread-19 (_] [INFO ]  Starting sweep [ run  ur5zlqpd ] with config = \n",
      "{'channel': 1, 'learning_rate': 0.05, 'linear_probe_layer': 'layer1_3_conv3', 'model': 'RN50x4', 'num_iterations': 512, 'objective': 'neuron', 'optimizer': 'AdamW', 'random_seed': 18630595, 'use_std_transforms': True, 'use_transforms': True, 'visualization_layer': 'layer4_5_conv3'}\n",
      "2023-12-04 18:04:25,999 [Thread-19 (_] [INFO ]  Setting random seed to 18630595\n",
      "2023-12-04 18:04:26,000 [Thread-19 (_] [INFO ]  Loading CLIP model [ RN50x4 ].\n",
      "2023-12-04 18:04:30,550 [Thread-19 (_] [INFO ]  Finished loading model [ RN50x4 ]\n",
      "2023-12-04 18:04:30,551 [Thread-19 (_] [INFO ]  Finished loading transforms [ Compose(\n",
      "    Resize(size=288, interpolation=bicubic, max_size=None, antialias=warn)\n",
      "    CenterCrop(size=(288, 288))\n",
      "    Normalize(mean=(0.48145466, 0.4578275, 0.40821073), std=(0.26862954, 0.26130258, 0.27577711))\n",
      ") ]\n",
      "2023-12-04 18:04:30,552 [Thread-19 (_] [INFO ]  Registering hooks.\n",
      "2023-12-04 18:04:30,556 [Thread-19 (_] [INFO ]  Finished registering hooks.\n",
      "2023-12-04 18:04:30,560 [Thread-19 (_] [INFO ]  Retrieving weights of linear probe [ path = /apps/11785-f23-prj/faceted_visualization/probes/logs/flower/RN50x4/layer1_3_conv3/version_4_20/model_checkpoint.pth ]\n",
      "2023-12-04 18:04:30,566 [Thread-19 (_] [INFO ]  Final list of transforms = [Resize(size=288, interpolation=bicubic, max_size=None, antialias=warn), CenterCrop(size=(288, 288)), Normalize(mean=(0.48145466, 0.4578275, 0.40821073), std=(0.26862954, 0.26130258, 0.27577711)), RandomAffine(degrees=[0.0, 0.0], translate=(0.03, 0.03), interpolation=InterpolationMode.NEAREST, fill=0), RandomAffine(degrees=[0.0, 0.0], scale=(0.9, 1.1), interpolation=InterpolationMode.NEAREST, fill=0), RandomRotation(degrees=[-10.0, 10.0], interpolation=InterpolationMode.NEAREST, expand=False, fill=0), RandomAffine(degrees=[0.0, 0.0], translate=(0.015, 0.015), interpolation=InterpolationMode.NEAREST, fill=0)]\n",
      "2023-12-04 18:04:30,567 [Thread-19 (_] [INFO ]  Starting optimization process [ run_id = ur5zlqpd ]...\n",
      "/opt/conda/lib/python3.10/site-packages/torchvision/transforms/functional.py:1603: UserWarning: The default value of the antialias parameter of all the resizing transforms (Resize(), RandomResizedCrop(), etc.) will change from None to True in v0.17, in order to be consistent across the PIL and Tensor backends. To suppress this warning, directly pass antialias=True (recommended, future default), antialias=None (current default, which means False for Tensors and True for PIL), or antialias=False (only works on Tensors - PIL will still use antialiasing). This also applies if you are using the inference transforms from the models weights: update the call to weights.transforms(antialias=True).\n",
      "  warnings.warn(\n",
      "2023-12-04 18:04:30,631 [Thread-19 (_] [INFO ]  Epoch: 1/512: Loss = 0.0690918 :: Learning Rate = 0.0500000\n",
      "2023-12-04 18:04:35,602 [Thread-19 (_] [INFO ]  Epoch: 101/512: Loss = -0.7016602 :: Learning Rate = 0.0500000\n",
      "2023-12-04 18:04:40,514 [Thread-19 (_] [INFO ]  Epoch: 201/512: Loss = -1.0400391 :: Learning Rate = 0.0500000\n",
      "2023-12-04 18:04:45,510 [Thread-19 (_] [INFO ]  Epoch: 301/512: Loss = -1.1406250 :: Learning Rate = 0.0500000\n",
      "2023-12-04 18:04:50,746 [Thread-19 (_] [INFO ]  Epoch: 401/512: Loss = -1.5302734 :: Learning Rate = 0.0500000\n",
      "2023-12-04 18:04:55,949 [Thread-19 (_] [INFO ]  Epoch: 501/512: Loss = -1.3476562 :: Learning Rate = 0.0500000\n",
      "2023-12-04 18:04:56,532 [Thread-19 (_] [INFO ]  Epoch: 512/512: Loss = -1.4472656 :: Learning Rate = 0.0500000\n",
      "2023-12-04 18:04:56,557 [Thread-19 (_] [INFO ]  Completed run [ ur5zlqpd ]\n"
     ]
    },
    {
     "data": {
      "application/vnd.jupyter.widget-view+json": {
       "model_id": "",
       "version_major": 2,
       "version_minor": 0
      },
      "text/plain": [
       "VBox(children=(Label(value='1.213 MB of 1.213 MB uploaded\\r'), FloatProgress(value=1.0, max=1.0)))"
      ]
     },
     "metadata": {},
     "output_type": "display_data"
    },
    {
     "data": {
      "text/html": [
       "<style>\n",
       "    table.wandb td:nth-child(1) { padding: 0 10px; text-align: left ; width: auto;} td:nth-child(2) {text-align: left ; width: 100%}\n",
       "    .wandb-row { display: flex; flex-direction: row; flex-wrap: wrap; justify-content: flex-start; width: 100% }\n",
       "    .wandb-col { display: flex; flex-direction: column; flex-basis: 100%; flex: 1; padding: 10px; }\n",
       "    </style>\n",
       "<div class=\"wandb-row\"><div class=\"wandb-col\"><h3>Run history:</h3><br/><table class=\"wandb\"><tr><td>loss</td><td>█▅▃▃▁▂▁</td></tr></table><br/></div><div class=\"wandb-col\"><h3>Run summary:</h3><br/><table class=\"wandb\"><tr><td>loss</td><td>-1.44727</td></tr></table><br/></div></div>"
      ],
      "text/plain": [
       "<IPython.core.display.HTML object>"
      ]
     },
     "metadata": {},
     "output_type": "display_data"
    },
    {
     "data": {
      "text/html": [
       " View run <strong style=\"color:#cdcd00\">prime-sweep-5</strong> at: <a href='https://wandb.ai/rohanprasad/idl-project-flowers-facet/runs/ur5zlqpd' target=\"_blank\">https://wandb.ai/rohanprasad/idl-project-flowers-facet/runs/ur5zlqpd</a><br/>Synced 6 W&B file(s), 7 media file(s), 0 artifact file(s) and 0 other file(s)"
      ],
      "text/plain": [
       "<IPython.core.display.HTML object>"
      ]
     },
     "metadata": {},
     "output_type": "display_data"
    },
    {
     "data": {
      "text/html": [
       "Find logs at: <code>./wandb/run-20231204_180415-ur5zlqpd/logs</code>"
      ],
      "text/plain": [
       "<IPython.core.display.HTML object>"
      ]
     },
     "metadata": {},
     "output_type": "display_data"
    },
    {
     "name": "stderr",
     "output_type": "stream",
     "text": [
      "\u001b[34m\u001b[1mwandb\u001b[0m: Agent Starting Run: t2oyqj3u with config:\n",
      "\u001b[34m\u001b[1mwandb\u001b[0m: \tchannel: 1\n",
      "\u001b[34m\u001b[1mwandb\u001b[0m: \tlearning_rate: 0.05\n",
      "\u001b[34m\u001b[1mwandb\u001b[0m: \tlinear_probe_layer: layer1_3_conv3\n",
      "\u001b[34m\u001b[1mwandb\u001b[0m: \tmodel: RN50x4\n",
      "\u001b[34m\u001b[1mwandb\u001b[0m: \tnum_iterations: 512\n",
      "\u001b[34m\u001b[1mwandb\u001b[0m: \tobjective: channel\n",
      "\u001b[34m\u001b[1mwandb\u001b[0m: \toptimizer: AdamW\n",
      "\u001b[34m\u001b[1mwandb\u001b[0m: \trandom_seed: 18630595\n",
      "\u001b[34m\u001b[1mwandb\u001b[0m: \tuse_std_transforms: True\n",
      "\u001b[34m\u001b[1mwandb\u001b[0m: \tuse_transforms: True\n",
      "\u001b[34m\u001b[1mwandb\u001b[0m: \tvisualization_layer: layer4_5_conv3\n"
     ]
    },
    {
     "data": {
      "text/html": [
       "Tracking run with wandb version 0.16.0"
      ],
      "text/plain": [
       "<IPython.core.display.HTML object>"
      ]
     },
     "metadata": {},
     "output_type": "display_data"
    },
    {
     "data": {
      "text/html": [
       "Run data is saved locally in <code>/apps/11785-f23-prj/wandb/run-20231204_180506-t2oyqj3u</code>"
      ],
      "text/plain": [
       "<IPython.core.display.HTML object>"
      ]
     },
     "metadata": {},
     "output_type": "display_data"
    },
    {
     "data": {
      "text/html": [
       "Syncing run <strong><a href='https://wandb.ai/rohanprasad/idl-project-flowers-facet/runs/t2oyqj3u' target=\"_blank\">efficient-sweep-6</a></strong> to <a href='https://wandb.ai/rohanprasad/idl-project-flowers-facet' target=\"_blank\">Weights & Biases</a> (<a href='https://wandb.me/run' target=\"_blank\">docs</a>)<br/>Sweep page: <a href='https://wandb.ai/rohanprasad/idl-project-flowers-facet/sweeps/cuq4fdws' target=\"_blank\">https://wandb.ai/rohanprasad/idl-project-flowers-facet/sweeps/cuq4fdws</a>"
      ],
      "text/plain": [
       "<IPython.core.display.HTML object>"
      ]
     },
     "metadata": {},
     "output_type": "display_data"
    },
    {
     "data": {
      "text/html": [
       " View project at <a href='https://wandb.ai/rohanprasad/idl-project-flowers-facet' target=\"_blank\">https://wandb.ai/rohanprasad/idl-project-flowers-facet</a>"
      ],
      "text/plain": [
       "<IPython.core.display.HTML object>"
      ]
     },
     "metadata": {},
     "output_type": "display_data"
    },
    {
     "data": {
      "text/html": [
       " View sweep at <a href='https://wandb.ai/rohanprasad/idl-project-flowers-facet/sweeps/cuq4fdws' target=\"_blank\">https://wandb.ai/rohanprasad/idl-project-flowers-facet/sweeps/cuq4fdws</a>"
      ],
      "text/plain": [
       "<IPython.core.display.HTML object>"
      ]
     },
     "metadata": {},
     "output_type": "display_data"
    },
    {
     "data": {
      "text/html": [
       " View run at <a href='https://wandb.ai/rohanprasad/idl-project-flowers-facet/runs/t2oyqj3u' target=\"_blank\">https://wandb.ai/rohanprasad/idl-project-flowers-facet/runs/t2oyqj3u</a>"
      ],
      "text/plain": [
       "<IPython.core.display.HTML object>"
      ]
     },
     "metadata": {},
     "output_type": "display_data"
    },
    {
     "name": "stderr",
     "output_type": "stream",
     "text": [
      "2023-12-04 18:05:17,031 [Thread-22 (_] [INFO ]  Starting sweep [ run  t2oyqj3u ] with config = \n",
      "{'channel': 1, 'learning_rate': 0.05, 'linear_probe_layer': 'layer1_3_conv3', 'model': 'RN50x4', 'num_iterations': 512, 'objective': 'channel', 'optimizer': 'AdamW', 'random_seed': 18630595, 'use_std_transforms': True, 'use_transforms': True, 'visualization_layer': 'layer4_5_conv3'}\n",
      "2023-12-04 18:05:17,032 [Thread-22 (_] [INFO ]  Setting random seed to 18630595\n",
      "2023-12-04 18:05:17,034 [Thread-22 (_] [INFO ]  Loading CLIP model [ RN50x4 ].\n",
      "2023-12-04 18:05:21,683 [Thread-22 (_] [INFO ]  Finished loading model [ RN50x4 ]\n",
      "2023-12-04 18:05:21,684 [Thread-22 (_] [INFO ]  Finished loading transforms [ Compose(\n",
      "    Resize(size=288, interpolation=bicubic, max_size=None, antialias=warn)\n",
      "    CenterCrop(size=(288, 288))\n",
      "    Normalize(mean=(0.48145466, 0.4578275, 0.40821073), std=(0.26862954, 0.26130258, 0.27577711))\n",
      ") ]\n",
      "2023-12-04 18:05:21,686 [Thread-22 (_] [INFO ]  Registering hooks.\n",
      "2023-12-04 18:05:21,688 [Thread-22 (_] [INFO ]  Finished registering hooks.\n",
      "2023-12-04 18:05:21,693 [Thread-22 (_] [INFO ]  Retrieving weights of linear probe [ path = /apps/11785-f23-prj/faceted_visualization/probes/logs/flower/RN50x4/layer1_3_conv3/version_4_20/model_checkpoint.pth ]\n",
      "2023-12-04 18:05:21,698 [Thread-22 (_] [INFO ]  Final list of transforms = [Resize(size=288, interpolation=bicubic, max_size=None, antialias=warn), CenterCrop(size=(288, 288)), Normalize(mean=(0.48145466, 0.4578275, 0.40821073), std=(0.26862954, 0.26130258, 0.27577711)), RandomAffine(degrees=[0.0, 0.0], translate=(0.03, 0.03), interpolation=InterpolationMode.NEAREST, fill=0), RandomAffine(degrees=[0.0, 0.0], scale=(0.9, 1.1), interpolation=InterpolationMode.NEAREST, fill=0), RandomRotation(degrees=[-10.0, 10.0], interpolation=InterpolationMode.NEAREST, expand=False, fill=0), RandomAffine(degrees=[0.0, 0.0], translate=(0.015, 0.015), interpolation=InterpolationMode.NEAREST, fill=0)]\n",
      "2023-12-04 18:05:21,699 [Thread-22 (_] [INFO ]  Starting optimization process [ run_id = t2oyqj3u ]...\n",
      "/opt/conda/lib/python3.10/site-packages/torchvision/transforms/functional.py:1603: UserWarning: The default value of the antialias parameter of all the resizing transforms (Resize(), RandomResizedCrop(), etc.) will change from None to True in v0.17, in order to be consistent across the PIL and Tensor backends. To suppress this warning, directly pass antialias=True (recommended, future default), antialias=None (current default, which means False for Tensors and True for PIL), or antialias=False (only works on Tensors - PIL will still use antialiasing). This also applies if you are using the inference transforms from the models weights: update the call to weights.transforms(antialias=True).\n",
      "  warnings.warn(\n",
      "2023-12-04 18:05:21,753 [Thread-22 (_] [INFO ]  Epoch: 1/512: Loss = 0.0883179 :: Learning Rate = 0.0500000\n",
      "2023-12-04 18:05:26,818 [Thread-22 (_] [INFO ]  Epoch: 101/512: Loss = -0.2452393 :: Learning Rate = 0.0500000\n",
      "2023-12-04 18:05:31,865 [Thread-22 (_] [INFO ]  Epoch: 201/512: Loss = -0.3566895 :: Learning Rate = 0.0500000\n",
      "2023-12-04 18:05:37,118 [Thread-22 (_] [INFO ]  Epoch: 301/512: Loss = -0.4313965 :: Learning Rate = 0.0500000\n",
      "2023-12-04 18:05:42,212 [Thread-22 (_] [INFO ]  Epoch: 401/512: Loss = -0.6479492 :: Learning Rate = 0.0500000\n",
      "2023-12-04 18:05:47,263 [Thread-22 (_] [INFO ]  Epoch: 501/512: Loss = -0.5747070 :: Learning Rate = 0.0500000\n",
      "2023-12-04 18:05:47,883 [Thread-22 (_] [INFO ]  Epoch: 512/512: Loss = -0.6796875 :: Learning Rate = 0.0500000\n",
      "2023-12-04 18:05:47,908 [Thread-22 (_] [INFO ]  Completed run [ t2oyqj3u ]\n"
     ]
    },
    {
     "data": {
      "application/vnd.jupyter.widget-view+json": {
       "model_id": "",
       "version_major": 2,
       "version_minor": 0
      },
      "text/plain": [
       "VBox(children=(Label(value='1.290 MB of 1.290 MB uploaded\\r'), FloatProgress(value=1.0, max=1.0)))"
      ]
     },
     "metadata": {},
     "output_type": "display_data"
    },
    {
     "data": {
      "text/html": [
       "<style>\n",
       "    table.wandb td:nth-child(1) { padding: 0 10px; text-align: left ; width: auto;} td:nth-child(2) {text-align: left ; width: 100%}\n",
       "    .wandb-row { display: flex; flex-direction: row; flex-wrap: wrap; justify-content: flex-start; width: 100% }\n",
       "    .wandb-col { display: flex; flex-direction: column; flex-basis: 100%; flex: 1; padding: 10px; }\n",
       "    </style>\n",
       "<div class=\"wandb-row\"><div class=\"wandb-col\"><h3>Run history:</h3><br/><table class=\"wandb\"><tr><td>loss</td><td>█▅▄▃▁▂▁</td></tr></table><br/></div><div class=\"wandb-col\"><h3>Run summary:</h3><br/><table class=\"wandb\"><tr><td>loss</td><td>-0.67969</td></tr></table><br/></div></div>"
      ],
      "text/plain": [
       "<IPython.core.display.HTML object>"
      ]
     },
     "metadata": {},
     "output_type": "display_data"
    },
    {
     "data": {
      "text/html": [
       " View run <strong style=\"color:#cdcd00\">efficient-sweep-6</strong> at: <a href='https://wandb.ai/rohanprasad/idl-project-flowers-facet/runs/t2oyqj3u' target=\"_blank\">https://wandb.ai/rohanprasad/idl-project-flowers-facet/runs/t2oyqj3u</a><br/>Synced 6 W&B file(s), 7 media file(s), 0 artifact file(s) and 0 other file(s)"
      ],
      "text/plain": [
       "<IPython.core.display.HTML object>"
      ]
     },
     "metadata": {},
     "output_type": "display_data"
    },
    {
     "data": {
      "text/html": [
       "Find logs at: <code>./wandb/run-20231204_180506-t2oyqj3u/logs</code>"
      ],
      "text/plain": [
       "<IPython.core.display.HTML object>"
      ]
     },
     "metadata": {},
     "output_type": "display_data"
    },
    {
     "name": "stderr",
     "output_type": "stream",
     "text": [
      "\u001b[34m\u001b[1mwandb\u001b[0m: Agent Starting Run: n21qr4t5 with config:\n",
      "\u001b[34m\u001b[1mwandb\u001b[0m: \tchannel: 1\n",
      "\u001b[34m\u001b[1mwandb\u001b[0m: \tlearning_rate: 0.05\n",
      "\u001b[34m\u001b[1mwandb\u001b[0m: \tlinear_probe_layer: layer1_3_relu3\n",
      "\u001b[34m\u001b[1mwandb\u001b[0m: \tmodel: RN50x4\n",
      "\u001b[34m\u001b[1mwandb\u001b[0m: \tnum_iterations: 512\n",
      "\u001b[34m\u001b[1mwandb\u001b[0m: \tobjective: neuron\n",
      "\u001b[34m\u001b[1mwandb\u001b[0m: \toptimizer: AdamW\n",
      "\u001b[34m\u001b[1mwandb\u001b[0m: \trandom_seed: 18630595\n",
      "\u001b[34m\u001b[1mwandb\u001b[0m: \tuse_std_transforms: True\n",
      "\u001b[34m\u001b[1mwandb\u001b[0m: \tuse_transforms: True\n",
      "\u001b[34m\u001b[1mwandb\u001b[0m: \tvisualization_layer: layer4_5_conv3\n"
     ]
    },
    {
     "data": {
      "text/html": [
       "Tracking run with wandb version 0.16.0"
      ],
      "text/plain": [
       "<IPython.core.display.HTML object>"
      ]
     },
     "metadata": {},
     "output_type": "display_data"
    },
    {
     "data": {
      "text/html": [
       "Run data is saved locally in <code>/apps/11785-f23-prj/wandb/run-20231204_180557-n21qr4t5</code>"
      ],
      "text/plain": [
       "<IPython.core.display.HTML object>"
      ]
     },
     "metadata": {},
     "output_type": "display_data"
    },
    {
     "data": {
      "text/html": [
       "Syncing run <strong><a href='https://wandb.ai/rohanprasad/idl-project-flowers-facet/runs/n21qr4t5' target=\"_blank\">eager-sweep-7</a></strong> to <a href='https://wandb.ai/rohanprasad/idl-project-flowers-facet' target=\"_blank\">Weights & Biases</a> (<a href='https://wandb.me/run' target=\"_blank\">docs</a>)<br/>Sweep page: <a href='https://wandb.ai/rohanprasad/idl-project-flowers-facet/sweeps/cuq4fdws' target=\"_blank\">https://wandb.ai/rohanprasad/idl-project-flowers-facet/sweeps/cuq4fdws</a>"
      ],
      "text/plain": [
       "<IPython.core.display.HTML object>"
      ]
     },
     "metadata": {},
     "output_type": "display_data"
    },
    {
     "data": {
      "text/html": [
       " View project at <a href='https://wandb.ai/rohanprasad/idl-project-flowers-facet' target=\"_blank\">https://wandb.ai/rohanprasad/idl-project-flowers-facet</a>"
      ],
      "text/plain": [
       "<IPython.core.display.HTML object>"
      ]
     },
     "metadata": {},
     "output_type": "display_data"
    },
    {
     "data": {
      "text/html": [
       " View sweep at <a href='https://wandb.ai/rohanprasad/idl-project-flowers-facet/sweeps/cuq4fdws' target=\"_blank\">https://wandb.ai/rohanprasad/idl-project-flowers-facet/sweeps/cuq4fdws</a>"
      ],
      "text/plain": [
       "<IPython.core.display.HTML object>"
      ]
     },
     "metadata": {},
     "output_type": "display_data"
    },
    {
     "data": {
      "text/html": [
       " View run at <a href='https://wandb.ai/rohanprasad/idl-project-flowers-facet/runs/n21qr4t5' target=\"_blank\">https://wandb.ai/rohanprasad/idl-project-flowers-facet/runs/n21qr4t5</a>"
      ],
      "text/plain": [
       "<IPython.core.display.HTML object>"
      ]
     },
     "metadata": {},
     "output_type": "display_data"
    },
    {
     "name": "stderr",
     "output_type": "stream",
     "text": [
      "2023-12-04 18:06:08,729 [Thread-25 (_] [INFO ]  Starting sweep [ run  n21qr4t5 ] with config = \n",
      "{'channel': 1, 'learning_rate': 0.05, 'linear_probe_layer': 'layer1_3_relu3', 'model': 'RN50x4', 'num_iterations': 512, 'objective': 'neuron', 'optimizer': 'AdamW', 'random_seed': 18630595, 'use_std_transforms': True, 'use_transforms': True, 'visualization_layer': 'layer4_5_conv3'}\n",
      "2023-12-04 18:06:08,730 [Thread-25 (_] [INFO ]  Setting random seed to 18630595\n",
      "2023-12-04 18:06:08,731 [Thread-25 (_] [INFO ]  Loading CLIP model [ RN50x4 ].\n",
      "2023-12-04 18:06:13,318 [Thread-25 (_] [INFO ]  Finished loading model [ RN50x4 ]\n",
      "2023-12-04 18:06:13,320 [Thread-25 (_] [INFO ]  Finished loading transforms [ Compose(\n",
      "    Resize(size=288, interpolation=bicubic, max_size=None, antialias=warn)\n",
      "    CenterCrop(size=(288, 288))\n",
      "    Normalize(mean=(0.48145466, 0.4578275, 0.40821073), std=(0.26862954, 0.26130258, 0.27577711))\n",
      ") ]\n",
      "2023-12-04 18:06:13,321 [Thread-25 (_] [INFO ]  Registering hooks.\n",
      "2023-12-04 18:06:13,325 [Thread-25 (_] [INFO ]  Finished registering hooks.\n",
      "2023-12-04 18:06:13,329 [Thread-25 (_] [INFO ]  Retrieving weights of linear probe [ path = /apps/11785-f23-prj/faceted_visualization/probes/logs/flower/RN50x4/layer1_3_relu3/version_4_20/model_checkpoint.pth ]\n",
      "2023-12-04 18:06:13,334 [Thread-25 (_] [INFO ]  Final list of transforms = [Resize(size=288, interpolation=bicubic, max_size=None, antialias=warn), CenterCrop(size=(288, 288)), Normalize(mean=(0.48145466, 0.4578275, 0.40821073), std=(0.26862954, 0.26130258, 0.27577711)), RandomAffine(degrees=[0.0, 0.0], translate=(0.03, 0.03), interpolation=InterpolationMode.NEAREST, fill=0), RandomAffine(degrees=[0.0, 0.0], scale=(0.9, 1.1), interpolation=InterpolationMode.NEAREST, fill=0), RandomRotation(degrees=[-10.0, 10.0], interpolation=InterpolationMode.NEAREST, expand=False, fill=0), RandomAffine(degrees=[0.0, 0.0], translate=(0.015, 0.015), interpolation=InterpolationMode.NEAREST, fill=0)]\n",
      "2023-12-04 18:06:13,336 [Thread-25 (_] [INFO ]  Starting optimization process [ run_id = n21qr4t5 ]...\n",
      "/opt/conda/lib/python3.10/site-packages/torchvision/transforms/functional.py:1603: UserWarning: The default value of the antialias parameter of all the resizing transforms (Resize(), RandomResizedCrop(), etc.) will change from None to True in v0.17, in order to be consistent across the PIL and Tensor backends. To suppress this warning, directly pass antialias=True (recommended, future default), antialias=None (current default, which means False for Tensors and True for PIL), or antialias=False (only works on Tensors - PIL will still use antialiasing). This also applies if you are using the inference transforms from the models weights: update the call to weights.transforms(antialias=True).\n",
      "  warnings.warn(\n",
      "2023-12-04 18:06:13,384 [Thread-25 (_] [INFO ]  Epoch: 1/512: Loss = -2.9726562 :: Learning Rate = 0.0500000\n",
      "2023-12-04 18:06:18,568 [Thread-25 (_] [INFO ]  Epoch: 101/512: Loss = -0.6308594 :: Learning Rate = 0.0500000\n",
      "2023-12-04 18:06:23,724 [Thread-25 (_] [INFO ]  Epoch: 201/512: Loss = -2.3046875 :: Learning Rate = 0.0500000\n",
      "2023-12-04 18:06:28,823 [Thread-25 (_] [INFO ]  Epoch: 301/512: Loss = -2.7109375 :: Learning Rate = 0.0500000\n",
      "2023-12-04 18:06:34,181 [Thread-25 (_] [INFO ]  Epoch: 401/512: Loss = -5.5976562 :: Learning Rate = 0.0500000\n",
      "2023-12-04 18:06:39,348 [Thread-25 (_] [INFO ]  Epoch: 501/512: Loss = 0.2099609 :: Learning Rate = 0.0500000\n",
      "2023-12-04 18:06:39,931 [Thread-25 (_] [INFO ]  Epoch: 512/512: Loss = -1.7734375 :: Learning Rate = 0.0500000\n",
      "2023-12-04 18:06:39,955 [Thread-25 (_] [INFO ]  Completed run [ n21qr4t5 ]\n"
     ]
    },
    {
     "data": {
      "application/vnd.jupyter.widget-view+json": {
       "model_id": "",
       "version_major": 2,
       "version_minor": 0
      },
      "text/plain": [
       "VBox(children=(Label(value='1.220 MB of 1.242 MB uploaded\\r'), FloatProgress(value=0.9825516971818711, max=1.0…"
      ]
     },
     "metadata": {},
     "output_type": "display_data"
    },
    {
     "data": {
      "text/html": [
       "<style>\n",
       "    table.wandb td:nth-child(1) { padding: 0 10px; text-align: left ; width: auto;} td:nth-child(2) {text-align: left ; width: 100%}\n",
       "    .wandb-row { display: flex; flex-direction: row; flex-wrap: wrap; justify-content: flex-start; width: 100% }\n",
       "    .wandb-col { display: flex; flex-direction: column; flex-basis: 100%; flex: 1; padding: 10px; }\n",
       "    </style>\n",
       "<div class=\"wandb-row\"><div class=\"wandb-col\"><h3>Run history:</h3><br/><table class=\"wandb\"><tr><td>loss</td><td>▄▇▅▄▁█▆</td></tr></table><br/></div><div class=\"wandb-col\"><h3>Run summary:</h3><br/><table class=\"wandb\"><tr><td>loss</td><td>-1.77344</td></tr></table><br/></div></div>"
      ],
      "text/plain": [
       "<IPython.core.display.HTML object>"
      ]
     },
     "metadata": {},
     "output_type": "display_data"
    },
    {
     "data": {
      "text/html": [
       " View run <strong style=\"color:#cdcd00\">eager-sweep-7</strong> at: <a href='https://wandb.ai/rohanprasad/idl-project-flowers-facet/runs/n21qr4t5' target=\"_blank\">https://wandb.ai/rohanprasad/idl-project-flowers-facet/runs/n21qr4t5</a><br/>Synced 6 W&B file(s), 7 media file(s), 0 artifact file(s) and 0 other file(s)"
      ],
      "text/plain": [
       "<IPython.core.display.HTML object>"
      ]
     },
     "metadata": {},
     "output_type": "display_data"
    },
    {
     "data": {
      "text/html": [
       "Find logs at: <code>./wandb/run-20231204_180557-n21qr4t5/logs</code>"
      ],
      "text/plain": [
       "<IPython.core.display.HTML object>"
      ]
     },
     "metadata": {},
     "output_type": "display_data"
    },
    {
     "name": "stderr",
     "output_type": "stream",
     "text": [
      "\u001b[34m\u001b[1mwandb\u001b[0m: Agent Starting Run: wnu0ipgk with config:\n",
      "\u001b[34m\u001b[1mwandb\u001b[0m: \tchannel: 1\n",
      "\u001b[34m\u001b[1mwandb\u001b[0m: \tlearning_rate: 0.05\n",
      "\u001b[34m\u001b[1mwandb\u001b[0m: \tlinear_probe_layer: layer1_3_relu3\n",
      "\u001b[34m\u001b[1mwandb\u001b[0m: \tmodel: RN50x4\n",
      "\u001b[34m\u001b[1mwandb\u001b[0m: \tnum_iterations: 512\n",
      "\u001b[34m\u001b[1mwandb\u001b[0m: \tobjective: channel\n",
      "\u001b[34m\u001b[1mwandb\u001b[0m: \toptimizer: AdamW\n",
      "\u001b[34m\u001b[1mwandb\u001b[0m: \trandom_seed: 18630595\n",
      "\u001b[34m\u001b[1mwandb\u001b[0m: \tuse_std_transforms: True\n",
      "\u001b[34m\u001b[1mwandb\u001b[0m: \tuse_transforms: True\n",
      "\u001b[34m\u001b[1mwandb\u001b[0m: \tvisualization_layer: layer4_5_conv3\n"
     ]
    },
    {
     "data": {
      "text/html": [
       "Tracking run with wandb version 0.16.0"
      ],
      "text/plain": [
       "<IPython.core.display.HTML object>"
      ]
     },
     "metadata": {},
     "output_type": "display_data"
    },
    {
     "data": {
      "text/html": [
       "Run data is saved locally in <code>/apps/11785-f23-prj/wandb/run-20231204_180648-wnu0ipgk</code>"
      ],
      "text/plain": [
       "<IPython.core.display.HTML object>"
      ]
     },
     "metadata": {},
     "output_type": "display_data"
    },
    {
     "data": {
      "text/html": [
       "Syncing run <strong><a href='https://wandb.ai/rohanprasad/idl-project-flowers-facet/runs/wnu0ipgk' target=\"_blank\">classic-sweep-8</a></strong> to <a href='https://wandb.ai/rohanprasad/idl-project-flowers-facet' target=\"_blank\">Weights & Biases</a> (<a href='https://wandb.me/run' target=\"_blank\">docs</a>)<br/>Sweep page: <a href='https://wandb.ai/rohanprasad/idl-project-flowers-facet/sweeps/cuq4fdws' target=\"_blank\">https://wandb.ai/rohanprasad/idl-project-flowers-facet/sweeps/cuq4fdws</a>"
      ],
      "text/plain": [
       "<IPython.core.display.HTML object>"
      ]
     },
     "metadata": {},
     "output_type": "display_data"
    },
    {
     "data": {
      "text/html": [
       " View project at <a href='https://wandb.ai/rohanprasad/idl-project-flowers-facet' target=\"_blank\">https://wandb.ai/rohanprasad/idl-project-flowers-facet</a>"
      ],
      "text/plain": [
       "<IPython.core.display.HTML object>"
      ]
     },
     "metadata": {},
     "output_type": "display_data"
    },
    {
     "data": {
      "text/html": [
       " View sweep at <a href='https://wandb.ai/rohanprasad/idl-project-flowers-facet/sweeps/cuq4fdws' target=\"_blank\">https://wandb.ai/rohanprasad/idl-project-flowers-facet/sweeps/cuq4fdws</a>"
      ],
      "text/plain": [
       "<IPython.core.display.HTML object>"
      ]
     },
     "metadata": {},
     "output_type": "display_data"
    },
    {
     "data": {
      "text/html": [
       " View run at <a href='https://wandb.ai/rohanprasad/idl-project-flowers-facet/runs/wnu0ipgk' target=\"_blank\">https://wandb.ai/rohanprasad/idl-project-flowers-facet/runs/wnu0ipgk</a>"
      ],
      "text/plain": [
       "<IPython.core.display.HTML object>"
      ]
     },
     "metadata": {},
     "output_type": "display_data"
    },
    {
     "name": "stderr",
     "output_type": "stream",
     "text": [
      "2023-12-04 18:06:58,756 [Thread-28 (_] [INFO ]  Starting sweep [ run  wnu0ipgk ] with config = \n",
      "{'channel': 1, 'learning_rate': 0.05, 'linear_probe_layer': 'layer1_3_relu3', 'model': 'RN50x4', 'num_iterations': 512, 'objective': 'channel', 'optimizer': 'AdamW', 'random_seed': 18630595, 'use_std_transforms': True, 'use_transforms': True, 'visualization_layer': 'layer4_5_conv3'}\n",
      "2023-12-04 18:06:58,757 [Thread-28 (_] [INFO ]  Setting random seed to 18630595\n",
      "2023-12-04 18:06:58,759 [Thread-28 (_] [INFO ]  Loading CLIP model [ RN50x4 ].\n",
      "2023-12-04 18:07:03,236 [Thread-28 (_] [INFO ]  Finished loading model [ RN50x4 ]\n",
      "2023-12-04 18:07:03,238 [Thread-28 (_] [INFO ]  Finished loading transforms [ Compose(\n",
      "    Resize(size=288, interpolation=bicubic, max_size=None, antialias=warn)\n",
      "    CenterCrop(size=(288, 288))\n",
      "    Normalize(mean=(0.48145466, 0.4578275, 0.40821073), std=(0.26862954, 0.26130258, 0.27577711))\n",
      ") ]\n",
      "2023-12-04 18:07:03,239 [Thread-28 (_] [INFO ]  Registering hooks.\n",
      "2023-12-04 18:07:03,241 [Thread-28 (_] [INFO ]  Finished registering hooks.\n",
      "2023-12-04 18:07:03,246 [Thread-28 (_] [INFO ]  Retrieving weights of linear probe [ path = /apps/11785-f23-prj/faceted_visualization/probes/logs/flower/RN50x4/layer1_3_relu3/version_4_20/model_checkpoint.pth ]\n",
      "2023-12-04 18:07:03,251 [Thread-28 (_] [INFO ]  Final list of transforms = [Resize(size=288, interpolation=bicubic, max_size=None, antialias=warn), CenterCrop(size=(288, 288)), Normalize(mean=(0.48145466, 0.4578275, 0.40821073), std=(0.26862954, 0.26130258, 0.27577711)), RandomAffine(degrees=[0.0, 0.0], translate=(0.03, 0.03), interpolation=InterpolationMode.NEAREST, fill=0), RandomAffine(degrees=[0.0, 0.0], scale=(0.9, 1.1), interpolation=InterpolationMode.NEAREST, fill=0), RandomRotation(degrees=[-10.0, 10.0], interpolation=InterpolationMode.NEAREST, expand=False, fill=0), RandomAffine(degrees=[0.0, 0.0], translate=(0.015, 0.015), interpolation=InterpolationMode.NEAREST, fill=0)]\n",
      "2023-12-04 18:07:03,252 [Thread-28 (_] [INFO ]  Starting optimization process [ run_id = wnu0ipgk ]...\n",
      "/opt/conda/lib/python3.10/site-packages/torchvision/transforms/functional.py:1603: UserWarning: The default value of the antialias parameter of all the resizing transforms (Resize(), RandomResizedCrop(), etc.) will change from None to True in v0.17, in order to be consistent across the PIL and Tensor backends. To suppress this warning, directly pass antialias=True (recommended, future default), antialias=None (current default, which means False for Tensors and True for PIL), or antialias=False (only works on Tensors - PIL will still use antialiasing). This also applies if you are using the inference transforms from the models weights: update the call to weights.transforms(antialias=True).\n",
      "  warnings.warn(\n",
      "2023-12-04 18:07:03,305 [Thread-28 (_] [INFO ]  Epoch: 1/512: Loss = -2.9531250 :: Learning Rate = 0.0500000\n",
      "2023-12-04 18:07:08,469 [Thread-28 (_] [INFO ]  Epoch: 101/512: Loss = 0.0722656 :: Learning Rate = 0.0500000\n",
      "2023-12-04 18:07:13,623 [Thread-28 (_] [INFO ]  Epoch: 201/512: Loss = 0.5185547 :: Learning Rate = 0.0500000\n",
      "2023-12-04 18:07:18,797 [Thread-28 (_] [INFO ]  Epoch: 301/512: Loss = -1.1835938 :: Learning Rate = 0.0500000\n",
      "2023-12-04 18:07:23,922 [Thread-28 (_] [INFO ]  Epoch: 401/512: Loss = 0.3610840 :: Learning Rate = 0.0500000\n",
      "2023-12-04 18:07:29,018 [Thread-28 (_] [INFO ]  Epoch: 501/512: Loss = 2.5605469 :: Learning Rate = 0.0500000\n",
      "2023-12-04 18:07:29,611 [Thread-28 (_] [INFO ]  Epoch: 512/512: Loss = -3.8515625 :: Learning Rate = 0.0500000\n",
      "2023-12-04 18:07:29,634 [Thread-28 (_] [INFO ]  Completed run [ wnu0ipgk ]\n"
     ]
    },
    {
     "data": {
      "application/vnd.jupyter.widget-view+json": {
       "model_id": "",
       "version_major": 2,
       "version_minor": 0
      },
      "text/plain": [
       "VBox(children=(Label(value='1.228 MB of 1.228 MB uploaded\\r'), FloatProgress(value=1.0, max=1.0)))"
      ]
     },
     "metadata": {},
     "output_type": "display_data"
    },
    {
     "data": {
      "text/html": [
       "<style>\n",
       "    table.wandb td:nth-child(1) { padding: 0 10px; text-align: left ; width: auto;} td:nth-child(2) {text-align: left ; width: 100%}\n",
       "    .wandb-row { display: flex; flex-direction: row; flex-wrap: wrap; justify-content: flex-start; width: 100% }\n",
       "    .wandb-col { display: flex; flex-direction: column; flex-basis: 100%; flex: 1; padding: 10px; }\n",
       "    </style>\n",
       "<div class=\"wandb-row\"><div class=\"wandb-col\"><h3>Run history:</h3><br/><table class=\"wandb\"><tr><td>loss</td><td>▂▅▆▄▆█▁</td></tr></table><br/></div><div class=\"wandb-col\"><h3>Run summary:</h3><br/><table class=\"wandb\"><tr><td>loss</td><td>-3.85156</td></tr></table><br/></div></div>"
      ],
      "text/plain": [
       "<IPython.core.display.HTML object>"
      ]
     },
     "metadata": {},
     "output_type": "display_data"
    },
    {
     "data": {
      "text/html": [
       " View run <strong style=\"color:#cdcd00\">classic-sweep-8</strong> at: <a href='https://wandb.ai/rohanprasad/idl-project-flowers-facet/runs/wnu0ipgk' target=\"_blank\">https://wandb.ai/rohanprasad/idl-project-flowers-facet/runs/wnu0ipgk</a><br/>Synced 6 W&B file(s), 7 media file(s), 0 artifact file(s) and 0 other file(s)"
      ],
      "text/plain": [
       "<IPython.core.display.HTML object>"
      ]
     },
     "metadata": {},
     "output_type": "display_data"
    },
    {
     "data": {
      "text/html": [
       "Find logs at: <code>./wandb/run-20231204_180648-wnu0ipgk/logs</code>"
      ],
      "text/plain": [
       "<IPython.core.display.HTML object>"
      ]
     },
     "metadata": {},
     "output_type": "display_data"
    },
    {
     "name": "stderr",
     "output_type": "stream",
     "text": [
      "\u001b[34m\u001b[1mwandb\u001b[0m: Agent Starting Run: 2lxbj6d4 with config:\n",
      "\u001b[34m\u001b[1mwandb\u001b[0m: \tchannel: 1\n",
      "\u001b[34m\u001b[1mwandb\u001b[0m: \tlearning_rate: 0.05\n",
      "\u001b[34m\u001b[1mwandb\u001b[0m: \tlinear_probe_layer: layer2_5_conv3\n",
      "\u001b[34m\u001b[1mwandb\u001b[0m: \tmodel: RN50x4\n",
      "\u001b[34m\u001b[1mwandb\u001b[0m: \tnum_iterations: 512\n",
      "\u001b[34m\u001b[1mwandb\u001b[0m: \tobjective: neuron\n",
      "\u001b[34m\u001b[1mwandb\u001b[0m: \toptimizer: AdamW\n",
      "\u001b[34m\u001b[1mwandb\u001b[0m: \trandom_seed: 18630595\n",
      "\u001b[34m\u001b[1mwandb\u001b[0m: \tuse_std_transforms: True\n",
      "\u001b[34m\u001b[1mwandb\u001b[0m: \tuse_transforms: True\n",
      "\u001b[34m\u001b[1mwandb\u001b[0m: \tvisualization_layer: layer4_5_conv3\n"
     ]
    },
    {
     "data": {
      "text/html": [
       "Tracking run with wandb version 0.16.0"
      ],
      "text/plain": [
       "<IPython.core.display.HTML object>"
      ]
     },
     "metadata": {},
     "output_type": "display_data"
    },
    {
     "data": {
      "text/html": [
       "Run data is saved locally in <code>/apps/11785-f23-prj/wandb/run-20231204_180739-2lxbj6d4</code>"
      ],
      "text/plain": [
       "<IPython.core.display.HTML object>"
      ]
     },
     "metadata": {},
     "output_type": "display_data"
    },
    {
     "data": {
      "text/html": [
       "Syncing run <strong><a href='https://wandb.ai/rohanprasad/idl-project-flowers-facet/runs/2lxbj6d4' target=\"_blank\">glowing-sweep-9</a></strong> to <a href='https://wandb.ai/rohanprasad/idl-project-flowers-facet' target=\"_blank\">Weights & Biases</a> (<a href='https://wandb.me/run' target=\"_blank\">docs</a>)<br/>Sweep page: <a href='https://wandb.ai/rohanprasad/idl-project-flowers-facet/sweeps/cuq4fdws' target=\"_blank\">https://wandb.ai/rohanprasad/idl-project-flowers-facet/sweeps/cuq4fdws</a>"
      ],
      "text/plain": [
       "<IPython.core.display.HTML object>"
      ]
     },
     "metadata": {},
     "output_type": "display_data"
    },
    {
     "data": {
      "text/html": [
       " View project at <a href='https://wandb.ai/rohanprasad/idl-project-flowers-facet' target=\"_blank\">https://wandb.ai/rohanprasad/idl-project-flowers-facet</a>"
      ],
      "text/plain": [
       "<IPython.core.display.HTML object>"
      ]
     },
     "metadata": {},
     "output_type": "display_data"
    },
    {
     "data": {
      "text/html": [
       " View sweep at <a href='https://wandb.ai/rohanprasad/idl-project-flowers-facet/sweeps/cuq4fdws' target=\"_blank\">https://wandb.ai/rohanprasad/idl-project-flowers-facet/sweeps/cuq4fdws</a>"
      ],
      "text/plain": [
       "<IPython.core.display.HTML object>"
      ]
     },
     "metadata": {},
     "output_type": "display_data"
    },
    {
     "data": {
      "text/html": [
       " View run at <a href='https://wandb.ai/rohanprasad/idl-project-flowers-facet/runs/2lxbj6d4' target=\"_blank\">https://wandb.ai/rohanprasad/idl-project-flowers-facet/runs/2lxbj6d4</a>"
      ],
      "text/plain": [
       "<IPython.core.display.HTML object>"
      ]
     },
     "metadata": {},
     "output_type": "display_data"
    },
    {
     "name": "stderr",
     "output_type": "stream",
     "text": [
      "2023-12-04 18:07:49,835 [Thread-31 (_] [INFO ]  Starting sweep [ run  2lxbj6d4 ] with config = \n",
      "{'channel': 1, 'learning_rate': 0.05, 'linear_probe_layer': 'layer2_5_conv3', 'model': 'RN50x4', 'num_iterations': 512, 'objective': 'neuron', 'optimizer': 'AdamW', 'random_seed': 18630595, 'use_std_transforms': True, 'use_transforms': True, 'visualization_layer': 'layer4_5_conv3'}\n",
      "2023-12-04 18:07:49,837 [Thread-31 (_] [INFO ]  Setting random seed to 18630595\n",
      "2023-12-04 18:07:49,838 [Thread-31 (_] [INFO ]  Loading CLIP model [ RN50x4 ].\n",
      "2023-12-04 18:07:54,335 [Thread-31 (_] [INFO ]  Finished loading model [ RN50x4 ]\n",
      "2023-12-04 18:07:54,337 [Thread-31 (_] [INFO ]  Finished loading transforms [ Compose(\n",
      "    Resize(size=288, interpolation=bicubic, max_size=None, antialias=warn)\n",
      "    CenterCrop(size=(288, 288))\n",
      "    Normalize(mean=(0.48145466, 0.4578275, 0.40821073), std=(0.26862954, 0.26130258, 0.27577711))\n",
      ") ]\n",
      "2023-12-04 18:07:54,338 [Thread-31 (_] [INFO ]  Registering hooks.\n",
      "2023-12-04 18:07:54,341 [Thread-31 (_] [INFO ]  Finished registering hooks.\n",
      "2023-12-04 18:07:54,345 [Thread-31 (_] [INFO ]  Retrieving weights of linear probe [ path = /apps/11785-f23-prj/faceted_visualization/probes/logs/flower/RN50x4/layer2_5_conv3/version_4_20/model_checkpoint.pth ]\n",
      "2023-12-04 18:07:54,349 [Thread-31 (_] [INFO ]  Final list of transforms = [Resize(size=288, interpolation=bicubic, max_size=None, antialias=warn), CenterCrop(size=(288, 288)), Normalize(mean=(0.48145466, 0.4578275, 0.40821073), std=(0.26862954, 0.26130258, 0.27577711)), RandomAffine(degrees=[0.0, 0.0], translate=(0.03, 0.03), interpolation=InterpolationMode.NEAREST, fill=0), RandomAffine(degrees=[0.0, 0.0], scale=(0.9, 1.1), interpolation=InterpolationMode.NEAREST, fill=0), RandomRotation(degrees=[-10.0, 10.0], interpolation=InterpolationMode.NEAREST, expand=False, fill=0), RandomAffine(degrees=[0.0, 0.0], translate=(0.015, 0.015), interpolation=InterpolationMode.NEAREST, fill=0)]\n",
      "2023-12-04 18:07:54,350 [Thread-31 (_] [INFO ]  Starting optimization process [ run_id = 2lxbj6d4 ]...\n",
      "/opt/conda/lib/python3.10/site-packages/torchvision/transforms/functional.py:1603: UserWarning: The default value of the antialias parameter of all the resizing transforms (Resize(), RandomResizedCrop(), etc.) will change from None to True in v0.17, in order to be consistent across the PIL and Tensor backends. To suppress this warning, directly pass antialias=True (recommended, future default), antialias=None (current default, which means False for Tensors and True for PIL), or antialias=False (only works on Tensors - PIL will still use antialiasing). This also applies if you are using the inference transforms from the models weights: update the call to weights.transforms(antialias=True).\n",
      "  warnings.warn(\n",
      "2023-12-04 18:07:54,394 [Thread-31 (_] [INFO ]  Epoch: 1/512: Loss = 0.0839844 :: Learning Rate = 0.0500000\n",
      "2023-12-04 18:07:59,098 [Thread-31 (_] [INFO ]  Epoch: 101/512: Loss = -0.8525391 :: Learning Rate = 0.0500000\n",
      "2023-12-04 18:08:03,737 [Thread-31 (_] [INFO ]  Epoch: 201/512: Loss = -0.9980469 :: Learning Rate = 0.0500000\n",
      "2023-12-04 18:08:08,362 [Thread-31 (_] [INFO ]  Epoch: 301/512: Loss = -1.1269531 :: Learning Rate = 0.0500000\n",
      "2023-12-04 18:08:13,163 [Thread-31 (_] [INFO ]  Epoch: 401/512: Loss = -1.3867188 :: Learning Rate = 0.0500000\n",
      "2023-12-04 18:08:17,754 [Thread-31 (_] [INFO ]  Epoch: 501/512: Loss = -1.3349609 :: Learning Rate = 0.0500000\n",
      "2023-12-04 18:08:18,359 [Thread-31 (_] [INFO ]  Epoch: 512/512: Loss = -1.3876953 :: Learning Rate = 0.0500000\n",
      "2023-12-04 18:08:18,385 [Thread-31 (_] [INFO ]  Completed run [ 2lxbj6d4 ]\n"
     ]
    },
    {
     "data": {
      "application/vnd.jupyter.widget-view+json": {
       "model_id": "",
       "version_major": 2,
       "version_minor": 0
      },
      "text/plain": [
       "VBox(children=(Label(value='1.170 MB of 1.170 MB uploaded\\r'), FloatProgress(value=1.0, max=1.0)))"
      ]
     },
     "metadata": {},
     "output_type": "display_data"
    },
    {
     "data": {
      "text/html": [
       "<style>\n",
       "    table.wandb td:nth-child(1) { padding: 0 10px; text-align: left ; width: auto;} td:nth-child(2) {text-align: left ; width: 100%}\n",
       "    .wandb-row { display: flex; flex-direction: row; flex-wrap: wrap; justify-content: flex-start; width: 100% }\n",
       "    .wandb-col { display: flex; flex-direction: column; flex-basis: 100%; flex: 1; padding: 10px; }\n",
       "    </style>\n",
       "<div class=\"wandb-row\"><div class=\"wandb-col\"><h3>Run history:</h3><br/><table class=\"wandb\"><tr><td>loss</td><td>█▄▃▂▁▁▁</td></tr></table><br/></div><div class=\"wandb-col\"><h3>Run summary:</h3><br/><table class=\"wandb\"><tr><td>loss</td><td>-1.3877</td></tr></table><br/></div></div>"
      ],
      "text/plain": [
       "<IPython.core.display.HTML object>"
      ]
     },
     "metadata": {},
     "output_type": "display_data"
    },
    {
     "data": {
      "text/html": [
       " View run <strong style=\"color:#cdcd00\">glowing-sweep-9</strong> at: <a href='https://wandb.ai/rohanprasad/idl-project-flowers-facet/runs/2lxbj6d4' target=\"_blank\">https://wandb.ai/rohanprasad/idl-project-flowers-facet/runs/2lxbj6d4</a><br/>Synced 6 W&B file(s), 7 media file(s), 0 artifact file(s) and 0 other file(s)"
      ],
      "text/plain": [
       "<IPython.core.display.HTML object>"
      ]
     },
     "metadata": {},
     "output_type": "display_data"
    },
    {
     "data": {
      "text/html": [
       "Find logs at: <code>./wandb/run-20231204_180739-2lxbj6d4/logs</code>"
      ],
      "text/plain": [
       "<IPython.core.display.HTML object>"
      ]
     },
     "metadata": {},
     "output_type": "display_data"
    },
    {
     "name": "stderr",
     "output_type": "stream",
     "text": [
      "\u001b[34m\u001b[1mwandb\u001b[0m: Agent Starting Run: rmy4qm7q with config:\n",
      "\u001b[34m\u001b[1mwandb\u001b[0m: \tchannel: 1\n",
      "\u001b[34m\u001b[1mwandb\u001b[0m: \tlearning_rate: 0.05\n",
      "\u001b[34m\u001b[1mwandb\u001b[0m: \tlinear_probe_layer: layer2_5_conv3\n",
      "\u001b[34m\u001b[1mwandb\u001b[0m: \tmodel: RN50x4\n",
      "\u001b[34m\u001b[1mwandb\u001b[0m: \tnum_iterations: 512\n",
      "\u001b[34m\u001b[1mwandb\u001b[0m: \tobjective: channel\n",
      "\u001b[34m\u001b[1mwandb\u001b[0m: \toptimizer: AdamW\n",
      "\u001b[34m\u001b[1mwandb\u001b[0m: \trandom_seed: 18630595\n",
      "\u001b[34m\u001b[1mwandb\u001b[0m: \tuse_std_transforms: True\n",
      "\u001b[34m\u001b[1mwandb\u001b[0m: \tuse_transforms: True\n",
      "\u001b[34m\u001b[1mwandb\u001b[0m: \tvisualization_layer: layer4_5_conv3\n"
     ]
    },
    {
     "data": {
      "text/html": [
       "Tracking run with wandb version 0.16.0"
      ],
      "text/plain": [
       "<IPython.core.display.HTML object>"
      ]
     },
     "metadata": {},
     "output_type": "display_data"
    },
    {
     "data": {
      "text/html": [
       "Run data is saved locally in <code>/apps/11785-f23-prj/wandb/run-20231204_180824-rmy4qm7q</code>"
      ],
      "text/plain": [
       "<IPython.core.display.HTML object>"
      ]
     },
     "metadata": {},
     "output_type": "display_data"
    },
    {
     "data": {
      "text/html": [
       "Syncing run <strong><a href='https://wandb.ai/rohanprasad/idl-project-flowers-facet/runs/rmy4qm7q' target=\"_blank\">woven-sweep-10</a></strong> to <a href='https://wandb.ai/rohanprasad/idl-project-flowers-facet' target=\"_blank\">Weights & Biases</a> (<a href='https://wandb.me/run' target=\"_blank\">docs</a>)<br/>Sweep page: <a href='https://wandb.ai/rohanprasad/idl-project-flowers-facet/sweeps/cuq4fdws' target=\"_blank\">https://wandb.ai/rohanprasad/idl-project-flowers-facet/sweeps/cuq4fdws</a>"
      ],
      "text/plain": [
       "<IPython.core.display.HTML object>"
      ]
     },
     "metadata": {},
     "output_type": "display_data"
    },
    {
     "data": {
      "text/html": [
       " View project at <a href='https://wandb.ai/rohanprasad/idl-project-flowers-facet' target=\"_blank\">https://wandb.ai/rohanprasad/idl-project-flowers-facet</a>"
      ],
      "text/plain": [
       "<IPython.core.display.HTML object>"
      ]
     },
     "metadata": {},
     "output_type": "display_data"
    },
    {
     "data": {
      "text/html": [
       " View sweep at <a href='https://wandb.ai/rohanprasad/idl-project-flowers-facet/sweeps/cuq4fdws' target=\"_blank\">https://wandb.ai/rohanprasad/idl-project-flowers-facet/sweeps/cuq4fdws</a>"
      ],
      "text/plain": [
       "<IPython.core.display.HTML object>"
      ]
     },
     "metadata": {},
     "output_type": "display_data"
    },
    {
     "data": {
      "text/html": [
       " View run at <a href='https://wandb.ai/rohanprasad/idl-project-flowers-facet/runs/rmy4qm7q' target=\"_blank\">https://wandb.ai/rohanprasad/idl-project-flowers-facet/runs/rmy4qm7q</a>"
      ],
      "text/plain": [
       "<IPython.core.display.HTML object>"
      ]
     },
     "metadata": {},
     "output_type": "display_data"
    },
    {
     "name": "stderr",
     "output_type": "stream",
     "text": [
      "2023-12-04 18:08:35,034 [Thread-34 (_] [INFO ]  Starting sweep [ run  rmy4qm7q ] with config = \n",
      "{'channel': 1, 'learning_rate': 0.05, 'linear_probe_layer': 'layer2_5_conv3', 'model': 'RN50x4', 'num_iterations': 512, 'objective': 'channel', 'optimizer': 'AdamW', 'random_seed': 18630595, 'use_std_transforms': True, 'use_transforms': True, 'visualization_layer': 'layer4_5_conv3'}\n",
      "2023-12-04 18:08:35,036 [Thread-34 (_] [INFO ]  Setting random seed to 18630595\n",
      "2023-12-04 18:08:35,038 [Thread-34 (_] [INFO ]  Loading CLIP model [ RN50x4 ].\n",
      "2023-12-04 18:08:39,659 [Thread-34 (_] [INFO ]  Finished loading model [ RN50x4 ]\n",
      "2023-12-04 18:08:39,661 [Thread-34 (_] [INFO ]  Finished loading transforms [ Compose(\n",
      "    Resize(size=288, interpolation=bicubic, max_size=None, antialias=warn)\n",
      "    CenterCrop(size=(288, 288))\n",
      "    Normalize(mean=(0.48145466, 0.4578275, 0.40821073), std=(0.26862954, 0.26130258, 0.27577711))\n",
      ") ]\n",
      "2023-12-04 18:08:39,662 [Thread-34 (_] [INFO ]  Registering hooks.\n",
      "2023-12-04 18:08:39,665 [Thread-34 (_] [INFO ]  Finished registering hooks.\n",
      "2023-12-04 18:08:39,669 [Thread-34 (_] [INFO ]  Retrieving weights of linear probe [ path = /apps/11785-f23-prj/faceted_visualization/probes/logs/flower/RN50x4/layer2_5_conv3/version_4_20/model_checkpoint.pth ]\n",
      "2023-12-04 18:08:39,673 [Thread-34 (_] [INFO ]  Final list of transforms = [Resize(size=288, interpolation=bicubic, max_size=None, antialias=warn), CenterCrop(size=(288, 288)), Normalize(mean=(0.48145466, 0.4578275, 0.40821073), std=(0.26862954, 0.26130258, 0.27577711)), RandomAffine(degrees=[0.0, 0.0], translate=(0.03, 0.03), interpolation=InterpolationMode.NEAREST, fill=0), RandomAffine(degrees=[0.0, 0.0], scale=(0.9, 1.1), interpolation=InterpolationMode.NEAREST, fill=0), RandomRotation(degrees=[-10.0, 10.0], interpolation=InterpolationMode.NEAREST, expand=False, fill=0), RandomAffine(degrees=[0.0, 0.0], translate=(0.015, 0.015), interpolation=InterpolationMode.NEAREST, fill=0)]\n",
      "2023-12-04 18:08:39,675 [Thread-34 (_] [INFO ]  Starting optimization process [ run_id = rmy4qm7q ]...\n",
      "/opt/conda/lib/python3.10/site-packages/torchvision/transforms/functional.py:1603: UserWarning: The default value of the antialias parameter of all the resizing transforms (Resize(), RandomResizedCrop(), etc.) will change from None to True in v0.17, in order to be consistent across the PIL and Tensor backends. To suppress this warning, directly pass antialias=True (recommended, future default), antialias=None (current default, which means False for Tensors and True for PIL), or antialias=False (only works on Tensors - PIL will still use antialiasing). This also applies if you are using the inference transforms from the models weights: update the call to weights.transforms(antialias=True).\n",
      "  warnings.warn(\n",
      "2023-12-04 18:08:39,736 [Thread-34 (_] [INFO ]  Epoch: 1/512: Loss = 0.1032104 :: Learning Rate = 0.0500000\n",
      "2023-12-04 18:08:44,350 [Thread-34 (_] [INFO ]  Epoch: 101/512: Loss = -0.3520508 :: Learning Rate = 0.0500000\n",
      "2023-12-04 18:08:48,932 [Thread-34 (_] [INFO ]  Epoch: 201/512: Loss = -0.4243164 :: Learning Rate = 0.0500000\n",
      "2023-12-04 18:08:53,530 [Thread-34 (_] [INFO ]  Epoch: 301/512: Loss = -0.4631348 :: Learning Rate = 0.0500000\n",
      "2023-12-04 18:08:58,122 [Thread-34 (_] [INFO ]  Epoch: 401/512: Loss = -0.6181641 :: Learning Rate = 0.0500000\n",
      "2023-12-04 18:09:03,066 [Thread-34 (_] [INFO ]  Epoch: 501/512: Loss = -0.5659180 :: Learning Rate = 0.0500000\n",
      "2023-12-04 18:09:03,598 [Thread-34 (_] [INFO ]  Epoch: 512/512: Loss = -0.6982422 :: Learning Rate = 0.0500000\n",
      "2023-12-04 18:09:03,622 [Thread-34 (_] [INFO ]  Completed run [ rmy4qm7q ]\n"
     ]
    },
    {
     "data": {
      "application/vnd.jupyter.widget-view+json": {
       "model_id": "",
       "version_major": 2,
       "version_minor": 0
      },
      "text/plain": [
       "VBox(children=(Label(value='1.291 MB of 1.291 MB uploaded\\r'), FloatProgress(value=1.0, max=1.0)))"
      ]
     },
     "metadata": {},
     "output_type": "display_data"
    },
    {
     "data": {
      "text/html": [
       "<style>\n",
       "    table.wandb td:nth-child(1) { padding: 0 10px; text-align: left ; width: auto;} td:nth-child(2) {text-align: left ; width: 100%}\n",
       "    .wandb-row { display: flex; flex-direction: row; flex-wrap: wrap; justify-content: flex-start; width: 100% }\n",
       "    .wandb-col { display: flex; flex-direction: column; flex-basis: 100%; flex: 1; padding: 10px; }\n",
       "    </style>\n",
       "<div class=\"wandb-row\"><div class=\"wandb-col\"><h3>Run history:</h3><br/><table class=\"wandb\"><tr><td>loss</td><td>█▄▃▃▂▂▁</td></tr></table><br/></div><div class=\"wandb-col\"><h3>Run summary:</h3><br/><table class=\"wandb\"><tr><td>loss</td><td>-0.69824</td></tr></table><br/></div></div>"
      ],
      "text/plain": [
       "<IPython.core.display.HTML object>"
      ]
     },
     "metadata": {},
     "output_type": "display_data"
    },
    {
     "data": {
      "text/html": [
       " View run <strong style=\"color:#cdcd00\">woven-sweep-10</strong> at: <a href='https://wandb.ai/rohanprasad/idl-project-flowers-facet/runs/rmy4qm7q' target=\"_blank\">https://wandb.ai/rohanprasad/idl-project-flowers-facet/runs/rmy4qm7q</a><br/>Synced 6 W&B file(s), 7 media file(s), 0 artifact file(s) and 0 other file(s)"
      ],
      "text/plain": [
       "<IPython.core.display.HTML object>"
      ]
     },
     "metadata": {},
     "output_type": "display_data"
    },
    {
     "data": {
      "text/html": [
       "Find logs at: <code>./wandb/run-20231204_180824-rmy4qm7q/logs</code>"
      ],
      "text/plain": [
       "<IPython.core.display.HTML object>"
      ]
     },
     "metadata": {},
     "output_type": "display_data"
    },
    {
     "name": "stderr",
     "output_type": "stream",
     "text": [
      "\u001b[34m\u001b[1mwandb\u001b[0m: Agent Starting Run: ijdicwp0 with config:\n",
      "\u001b[34m\u001b[1mwandb\u001b[0m: \tchannel: 1\n",
      "\u001b[34m\u001b[1mwandb\u001b[0m: \tlearning_rate: 0.05\n",
      "\u001b[34m\u001b[1mwandb\u001b[0m: \tlinear_probe_layer: layer2_5_relu3\n",
      "\u001b[34m\u001b[1mwandb\u001b[0m: \tmodel: RN50x4\n",
      "\u001b[34m\u001b[1mwandb\u001b[0m: \tnum_iterations: 512\n",
      "\u001b[34m\u001b[1mwandb\u001b[0m: \tobjective: neuron\n",
      "\u001b[34m\u001b[1mwandb\u001b[0m: \toptimizer: AdamW\n",
      "\u001b[34m\u001b[1mwandb\u001b[0m: \trandom_seed: 18630595\n",
      "\u001b[34m\u001b[1mwandb\u001b[0m: \tuse_std_transforms: True\n",
      "\u001b[34m\u001b[1mwandb\u001b[0m: \tuse_transforms: True\n",
      "\u001b[34m\u001b[1mwandb\u001b[0m: \tvisualization_layer: layer4_5_conv3\n"
     ]
    },
    {
     "data": {
      "text/html": [
       "Tracking run with wandb version 0.16.0"
      ],
      "text/plain": [
       "<IPython.core.display.HTML object>"
      ]
     },
     "metadata": {},
     "output_type": "display_data"
    },
    {
     "data": {
      "text/html": [
       "Run data is saved locally in <code>/apps/11785-f23-prj/wandb/run-20231204_180911-ijdicwp0</code>"
      ],
      "text/plain": [
       "<IPython.core.display.HTML object>"
      ]
     },
     "metadata": {},
     "output_type": "display_data"
    },
    {
     "data": {
      "text/html": [
       "Syncing run <strong><a href='https://wandb.ai/rohanprasad/idl-project-flowers-facet/runs/ijdicwp0' target=\"_blank\">dauntless-sweep-11</a></strong> to <a href='https://wandb.ai/rohanprasad/idl-project-flowers-facet' target=\"_blank\">Weights & Biases</a> (<a href='https://wandb.me/run' target=\"_blank\">docs</a>)<br/>Sweep page: <a href='https://wandb.ai/rohanprasad/idl-project-flowers-facet/sweeps/cuq4fdws' target=\"_blank\">https://wandb.ai/rohanprasad/idl-project-flowers-facet/sweeps/cuq4fdws</a>"
      ],
      "text/plain": [
       "<IPython.core.display.HTML object>"
      ]
     },
     "metadata": {},
     "output_type": "display_data"
    },
    {
     "data": {
      "text/html": [
       " View project at <a href='https://wandb.ai/rohanprasad/idl-project-flowers-facet' target=\"_blank\">https://wandb.ai/rohanprasad/idl-project-flowers-facet</a>"
      ],
      "text/plain": [
       "<IPython.core.display.HTML object>"
      ]
     },
     "metadata": {},
     "output_type": "display_data"
    },
    {
     "data": {
      "text/html": [
       " View sweep at <a href='https://wandb.ai/rohanprasad/idl-project-flowers-facet/sweeps/cuq4fdws' target=\"_blank\">https://wandb.ai/rohanprasad/idl-project-flowers-facet/sweeps/cuq4fdws</a>"
      ],
      "text/plain": [
       "<IPython.core.display.HTML object>"
      ]
     },
     "metadata": {},
     "output_type": "display_data"
    },
    {
     "data": {
      "text/html": [
       " View run at <a href='https://wandb.ai/rohanprasad/idl-project-flowers-facet/runs/ijdicwp0' target=\"_blank\">https://wandb.ai/rohanprasad/idl-project-flowers-facet/runs/ijdicwp0</a>"
      ],
      "text/plain": [
       "<IPython.core.display.HTML object>"
      ]
     },
     "metadata": {},
     "output_type": "display_data"
    },
    {
     "name": "stderr",
     "output_type": "stream",
     "text": [
      "2023-12-04 18:09:21,346 [Thread-37 (_] [INFO ]  Starting sweep [ run  ijdicwp0 ] with config = \n",
      "{'channel': 1, 'learning_rate': 0.05, 'linear_probe_layer': 'layer2_5_relu3', 'model': 'RN50x4', 'num_iterations': 512, 'objective': 'neuron', 'optimizer': 'AdamW', 'random_seed': 18630595, 'use_std_transforms': True, 'use_transforms': True, 'visualization_layer': 'layer4_5_conv3'}\n",
      "2023-12-04 18:09:21,347 [Thread-37 (_] [INFO ]  Setting random seed to 18630595\n",
      "2023-12-04 18:09:21,349 [Thread-37 (_] [INFO ]  Loading CLIP model [ RN50x4 ].\n",
      "2023-12-04 18:09:25,860 [Thread-37 (_] [INFO ]  Finished loading model [ RN50x4 ]\n",
      "2023-12-04 18:09:25,862 [Thread-37 (_] [INFO ]  Finished loading transforms [ Compose(\n",
      "    Resize(size=288, interpolation=bicubic, max_size=None, antialias=warn)\n",
      "    CenterCrop(size=(288, 288))\n",
      "    Normalize(mean=(0.48145466, 0.4578275, 0.40821073), std=(0.26862954, 0.26130258, 0.27577711))\n",
      ") ]\n",
      "2023-12-04 18:09:25,863 [Thread-37 (_] [INFO ]  Registering hooks.\n",
      "2023-12-04 18:09:25,866 [Thread-37 (_] [INFO ]  Finished registering hooks.\n",
      "2023-12-04 18:09:25,870 [Thread-37 (_] [INFO ]  Retrieving weights of linear probe [ path = /apps/11785-f23-prj/faceted_visualization/probes/logs/flower/RN50x4/layer2_5_relu3/version_4_20/model_checkpoint.pth ]\n",
      "2023-12-04 18:09:25,874 [Thread-37 (_] [INFO ]  Final list of transforms = [Resize(size=288, interpolation=bicubic, max_size=None, antialias=warn), CenterCrop(size=(288, 288)), Normalize(mean=(0.48145466, 0.4578275, 0.40821073), std=(0.26862954, 0.26130258, 0.27577711)), RandomAffine(degrees=[0.0, 0.0], translate=(0.03, 0.03), interpolation=InterpolationMode.NEAREST, fill=0), RandomAffine(degrees=[0.0, 0.0], scale=(0.9, 1.1), interpolation=InterpolationMode.NEAREST, fill=0), RandomRotation(degrees=[-10.0, 10.0], interpolation=InterpolationMode.NEAREST, expand=False, fill=0), RandomAffine(degrees=[0.0, 0.0], translate=(0.015, 0.015), interpolation=InterpolationMode.NEAREST, fill=0)]\n",
      "2023-12-04 18:09:25,875 [Thread-37 (_] [INFO ]  Starting optimization process [ run_id = ijdicwp0 ]...\n",
      "/opt/conda/lib/python3.10/site-packages/torchvision/transforms/functional.py:1603: UserWarning: The default value of the antialias parameter of all the resizing transforms (Resize(), RandomResizedCrop(), etc.) will change from None to True in v0.17, in order to be consistent across the PIL and Tensor backends. To suppress this warning, directly pass antialias=True (recommended, future default), antialias=None (current default, which means False for Tensors and True for PIL), or antialias=False (only works on Tensors - PIL will still use antialiasing). This also applies if you are using the inference transforms from the models weights: update the call to weights.transforms(antialias=True).\n",
      "  warnings.warn(\n",
      "2023-12-04 18:09:25,925 [Thread-37 (_] [INFO ]  Epoch: 1/512: Loss = -2.4921875 :: Learning Rate = 0.0500000\n",
      "2023-12-04 18:09:30,494 [Thread-37 (_] [INFO ]  Epoch: 101/512: Loss = -2.1621094 :: Learning Rate = 0.0500000\n",
      "2023-12-04 18:09:35,080 [Thread-37 (_] [INFO ]  Epoch: 201/512: Loss = -0.1230469 :: Learning Rate = 0.0500000\n",
      "2023-12-04 18:09:39,610 [Thread-37 (_] [INFO ]  Epoch: 301/512: Loss = -0.8149414 :: Learning Rate = 0.0500000\n",
      "2023-12-04 18:09:44,139 [Thread-37 (_] [INFO ]  Epoch: 401/512: Loss = -1.2119141 :: Learning Rate = 0.0500000\n",
      "2023-12-04 18:09:48,717 [Thread-37 (_] [INFO ]  Epoch: 501/512: Loss = -3.3769531 :: Learning Rate = 0.0500000\n",
      "2023-12-04 18:09:49,266 [Thread-37 (_] [INFO ]  Epoch: 512/512: Loss = -6.7656250 :: Learning Rate = 0.0500000\n",
      "2023-12-04 18:09:49,291 [Thread-37 (_] [INFO ]  Completed run [ ijdicwp0 ]\n"
     ]
    },
    {
     "data": {
      "application/vnd.jupyter.widget-view+json": {
       "model_id": "",
       "version_major": 2,
       "version_minor": 0
      },
      "text/plain": [
       "VBox(children=(Label(value='1.220 MB of 1.220 MB uploaded\\r'), FloatProgress(value=1.0, max=1.0)))"
      ]
     },
     "metadata": {},
     "output_type": "display_data"
    },
    {
     "data": {
      "text/html": [
       "<style>\n",
       "    table.wandb td:nth-child(1) { padding: 0 10px; text-align: left ; width: auto;} td:nth-child(2) {text-align: left ; width: 100%}\n",
       "    .wandb-row { display: flex; flex-direction: row; flex-wrap: wrap; justify-content: flex-start; width: 100% }\n",
       "    .wandb-col { display: flex; flex-direction: column; flex-basis: 100%; flex: 1; padding: 10px; }\n",
       "    </style>\n",
       "<div class=\"wandb-row\"><div class=\"wandb-col\"><h3>Run history:</h3><br/><table class=\"wandb\"><tr><td>loss</td><td>▆▆█▇▇▅▁</td></tr></table><br/></div><div class=\"wandb-col\"><h3>Run summary:</h3><br/><table class=\"wandb\"><tr><td>loss</td><td>-6.76562</td></tr></table><br/></div></div>"
      ],
      "text/plain": [
       "<IPython.core.display.HTML object>"
      ]
     },
     "metadata": {},
     "output_type": "display_data"
    },
    {
     "data": {
      "text/html": [
       " View run <strong style=\"color:#cdcd00\">dauntless-sweep-11</strong> at: <a href='https://wandb.ai/rohanprasad/idl-project-flowers-facet/runs/ijdicwp0' target=\"_blank\">https://wandb.ai/rohanprasad/idl-project-flowers-facet/runs/ijdicwp0</a><br/>Synced 6 W&B file(s), 7 media file(s), 0 artifact file(s) and 0 other file(s)"
      ],
      "text/plain": [
       "<IPython.core.display.HTML object>"
      ]
     },
     "metadata": {},
     "output_type": "display_data"
    },
    {
     "data": {
      "text/html": [
       "Find logs at: <code>./wandb/run-20231204_180911-ijdicwp0/logs</code>"
      ],
      "text/plain": [
       "<IPython.core.display.HTML object>"
      ]
     },
     "metadata": {},
     "output_type": "display_data"
    },
    {
     "name": "stderr",
     "output_type": "stream",
     "text": [
      "\u001b[34m\u001b[1mwandb\u001b[0m: Agent Starting Run: 179mq9c3 with config:\n",
      "\u001b[34m\u001b[1mwandb\u001b[0m: \tchannel: 1\n",
      "\u001b[34m\u001b[1mwandb\u001b[0m: \tlearning_rate: 0.05\n",
      "\u001b[34m\u001b[1mwandb\u001b[0m: \tlinear_probe_layer: layer2_5_relu3\n",
      "\u001b[34m\u001b[1mwandb\u001b[0m: \tmodel: RN50x4\n",
      "\u001b[34m\u001b[1mwandb\u001b[0m: \tnum_iterations: 512\n",
      "\u001b[34m\u001b[1mwandb\u001b[0m: \tobjective: channel\n",
      "\u001b[34m\u001b[1mwandb\u001b[0m: \toptimizer: AdamW\n",
      "\u001b[34m\u001b[1mwandb\u001b[0m: \trandom_seed: 18630595\n",
      "\u001b[34m\u001b[1mwandb\u001b[0m: \tuse_std_transforms: True\n",
      "\u001b[34m\u001b[1mwandb\u001b[0m: \tuse_transforms: True\n",
      "\u001b[34m\u001b[1mwandb\u001b[0m: \tvisualization_layer: layer4_5_conv3\n"
     ]
    },
    {
     "data": {
      "text/html": [
       "Tracking run with wandb version 0.16.0"
      ],
      "text/plain": [
       "<IPython.core.display.HTML object>"
      ]
     },
     "metadata": {},
     "output_type": "display_data"
    },
    {
     "data": {
      "text/html": [
       "Run data is saved locally in <code>/apps/11785-f23-prj/wandb/run-20231204_180957-179mq9c3</code>"
      ],
      "text/plain": [
       "<IPython.core.display.HTML object>"
      ]
     },
     "metadata": {},
     "output_type": "display_data"
    },
    {
     "data": {
      "text/html": [
       "Syncing run <strong><a href='https://wandb.ai/rohanprasad/idl-project-flowers-facet/runs/179mq9c3' target=\"_blank\">genial-sweep-12</a></strong> to <a href='https://wandb.ai/rohanprasad/idl-project-flowers-facet' target=\"_blank\">Weights & Biases</a> (<a href='https://wandb.me/run' target=\"_blank\">docs</a>)<br/>Sweep page: <a href='https://wandb.ai/rohanprasad/idl-project-flowers-facet/sweeps/cuq4fdws' target=\"_blank\">https://wandb.ai/rohanprasad/idl-project-flowers-facet/sweeps/cuq4fdws</a>"
      ],
      "text/plain": [
       "<IPython.core.display.HTML object>"
      ]
     },
     "metadata": {},
     "output_type": "display_data"
    },
    {
     "data": {
      "text/html": [
       " View project at <a href='https://wandb.ai/rohanprasad/idl-project-flowers-facet' target=\"_blank\">https://wandb.ai/rohanprasad/idl-project-flowers-facet</a>"
      ],
      "text/plain": [
       "<IPython.core.display.HTML object>"
      ]
     },
     "metadata": {},
     "output_type": "display_data"
    },
    {
     "data": {
      "text/html": [
       " View sweep at <a href='https://wandb.ai/rohanprasad/idl-project-flowers-facet/sweeps/cuq4fdws' target=\"_blank\">https://wandb.ai/rohanprasad/idl-project-flowers-facet/sweeps/cuq4fdws</a>"
      ],
      "text/plain": [
       "<IPython.core.display.HTML object>"
      ]
     },
     "metadata": {},
     "output_type": "display_data"
    },
    {
     "data": {
      "text/html": [
       " View run at <a href='https://wandb.ai/rohanprasad/idl-project-flowers-facet/runs/179mq9c3' target=\"_blank\">https://wandb.ai/rohanprasad/idl-project-flowers-facet/runs/179mq9c3</a>"
      ],
      "text/plain": [
       "<IPython.core.display.HTML object>"
      ]
     },
     "metadata": {},
     "output_type": "display_data"
    },
    {
     "name": "stderr",
     "output_type": "stream",
     "text": [
      "2023-12-04 18:10:07,482 [Thread-40 (_] [INFO ]  Starting sweep [ run  179mq9c3 ] with config = \n",
      "{'channel': 1, 'learning_rate': 0.05, 'linear_probe_layer': 'layer2_5_relu3', 'model': 'RN50x4', 'num_iterations': 512, 'objective': 'channel', 'optimizer': 'AdamW', 'random_seed': 18630595, 'use_std_transforms': True, 'use_transforms': True, 'visualization_layer': 'layer4_5_conv3'}\n",
      "2023-12-04 18:10:07,484 [Thread-40 (_] [INFO ]  Setting random seed to 18630595\n",
      "2023-12-04 18:10:07,485 [Thread-40 (_] [INFO ]  Loading CLIP model [ RN50x4 ].\n",
      "2023-12-04 18:10:12,003 [Thread-40 (_] [INFO ]  Finished loading model [ RN50x4 ]\n",
      "2023-12-04 18:10:12,005 [Thread-40 (_] [INFO ]  Finished loading transforms [ Compose(\n",
      "    Resize(size=288, interpolation=bicubic, max_size=None, antialias=warn)\n",
      "    CenterCrop(size=(288, 288))\n",
      "    Normalize(mean=(0.48145466, 0.4578275, 0.40821073), std=(0.26862954, 0.26130258, 0.27577711))\n",
      ") ]\n",
      "2023-12-04 18:10:12,007 [Thread-40 (_] [INFO ]  Registering hooks.\n",
      "2023-12-04 18:10:12,011 [Thread-40 (_] [INFO ]  Finished registering hooks.\n",
      "2023-12-04 18:10:12,015 [Thread-40 (_] [INFO ]  Retrieving weights of linear probe [ path = /apps/11785-f23-prj/faceted_visualization/probes/logs/flower/RN50x4/layer2_5_relu3/version_4_20/model_checkpoint.pth ]\n",
      "2023-12-04 18:10:12,019 [Thread-40 (_] [INFO ]  Final list of transforms = [Resize(size=288, interpolation=bicubic, max_size=None, antialias=warn), CenterCrop(size=(288, 288)), Normalize(mean=(0.48145466, 0.4578275, 0.40821073), std=(0.26862954, 0.26130258, 0.27577711)), RandomAffine(degrees=[0.0, 0.0], translate=(0.03, 0.03), interpolation=InterpolationMode.NEAREST, fill=0), RandomAffine(degrees=[0.0, 0.0], scale=(0.9, 1.1), interpolation=InterpolationMode.NEAREST, fill=0), RandomRotation(degrees=[-10.0, 10.0], interpolation=InterpolationMode.NEAREST, expand=False, fill=0), RandomAffine(degrees=[0.0, 0.0], translate=(0.015, 0.015), interpolation=InterpolationMode.NEAREST, fill=0)]\n",
      "2023-12-04 18:10:12,020 [Thread-40 (_] [INFO ]  Starting optimization process [ run_id = 179mq9c3 ]...\n",
      "/opt/conda/lib/python3.10/site-packages/torchvision/transforms/functional.py:1603: UserWarning: The default value of the antialias parameter of all the resizing transforms (Resize(), RandomResizedCrop(), etc.) will change from None to True in v0.17, in order to be consistent across the PIL and Tensor backends. To suppress this warning, directly pass antialias=True (recommended, future default), antialias=None (current default, which means False for Tensors and True for PIL), or antialias=False (only works on Tensors - PIL will still use antialiasing). This also applies if you are using the inference transforms from the models weights: update the call to weights.transforms(antialias=True).\n",
      "  warnings.warn(\n",
      "2023-12-04 18:10:12,065 [Thread-40 (_] [INFO ]  Epoch: 1/512: Loss = -2.4746094 :: Learning Rate = 0.0500000\n",
      "2023-12-04 18:10:16,765 [Thread-40 (_] [INFO ]  Epoch: 101/512: Loss = 1.3984375 :: Learning Rate = 0.0500000\n",
      "2023-12-04 18:10:21,304 [Thread-40 (_] [INFO ]  Epoch: 201/512: Loss = -3.7226562 :: Learning Rate = 0.0500000\n",
      "2023-12-04 18:10:25,874 [Thread-40 (_] [INFO ]  Epoch: 301/512: Loss = 2.9707031 :: Learning Rate = 0.0500000\n",
      "2023-12-04 18:10:30,583 [Thread-40 (_] [INFO ]  Epoch: 401/512: Loss = -0.2480469 :: Learning Rate = 0.0500000\n",
      "2023-12-04 18:10:35,109 [Thread-40 (_] [INFO ]  Epoch: 501/512: Loss = 0.8422852 :: Learning Rate = 0.0500000\n",
      "2023-12-04 18:10:35,628 [Thread-40 (_] [INFO ]  Epoch: 512/512: Loss = -2.2187500 :: Learning Rate = 0.0500000\n",
      "2023-12-04 18:10:35,651 [Thread-40 (_] [INFO ]  Completed run [ 179mq9c3 ]\n"
     ]
    },
    {
     "data": {
      "application/vnd.jupyter.widget-view+json": {
       "model_id": "",
       "version_major": 2,
       "version_minor": 0
      },
      "text/plain": [
       "VBox(children=(Label(value='1.219 MB of 1.219 MB uploaded\\r'), FloatProgress(value=1.0, max=1.0)))"
      ]
     },
     "metadata": {},
     "output_type": "display_data"
    },
    {
     "data": {
      "text/html": [
       "<style>\n",
       "    table.wandb td:nth-child(1) { padding: 0 10px; text-align: left ; width: auto;} td:nth-child(2) {text-align: left ; width: 100%}\n",
       "    .wandb-row { display: flex; flex-direction: row; flex-wrap: wrap; justify-content: flex-start; width: 100% }\n",
       "    .wandb-col { display: flex; flex-direction: column; flex-basis: 100%; flex: 1; padding: 10px; }\n",
       "    </style>\n",
       "<div class=\"wandb-row\"><div class=\"wandb-col\"><h3>Run history:</h3><br/><table class=\"wandb\"><tr><td>loss</td><td>▂▆▁█▅▆▃</td></tr></table><br/></div><div class=\"wandb-col\"><h3>Run summary:</h3><br/><table class=\"wandb\"><tr><td>loss</td><td>-2.21875</td></tr></table><br/></div></div>"
      ],
      "text/plain": [
       "<IPython.core.display.HTML object>"
      ]
     },
     "metadata": {},
     "output_type": "display_data"
    },
    {
     "data": {
      "text/html": [
       " View run <strong style=\"color:#cdcd00\">genial-sweep-12</strong> at: <a href='https://wandb.ai/rohanprasad/idl-project-flowers-facet/runs/179mq9c3' target=\"_blank\">https://wandb.ai/rohanprasad/idl-project-flowers-facet/runs/179mq9c3</a><br/>Synced 6 W&B file(s), 7 media file(s), 0 artifact file(s) and 0 other file(s)"
      ],
      "text/plain": [
       "<IPython.core.display.HTML object>"
      ]
     },
     "metadata": {},
     "output_type": "display_data"
    },
    {
     "data": {
      "text/html": [
       "Find logs at: <code>./wandb/run-20231204_180957-179mq9c3/logs</code>"
      ],
      "text/plain": [
       "<IPython.core.display.HTML object>"
      ]
     },
     "metadata": {},
     "output_type": "display_data"
    },
    {
     "name": "stderr",
     "output_type": "stream",
     "text": [
      "\u001b[34m\u001b[1mwandb\u001b[0m: Agent Starting Run: wn8jblu7 with config:\n",
      "\u001b[34m\u001b[1mwandb\u001b[0m: \tchannel: 1\n",
      "\u001b[34m\u001b[1mwandb\u001b[0m: \tlearning_rate: 0.05\n",
      "\u001b[34m\u001b[1mwandb\u001b[0m: \tlinear_probe_layer: layer3_9_conv3\n",
      "\u001b[34m\u001b[1mwandb\u001b[0m: \tmodel: RN50x4\n",
      "\u001b[34m\u001b[1mwandb\u001b[0m: \tnum_iterations: 512\n",
      "\u001b[34m\u001b[1mwandb\u001b[0m: \tobjective: neuron\n",
      "\u001b[34m\u001b[1mwandb\u001b[0m: \toptimizer: AdamW\n",
      "\u001b[34m\u001b[1mwandb\u001b[0m: \trandom_seed: 18630595\n",
      "\u001b[34m\u001b[1mwandb\u001b[0m: \tuse_std_transforms: True\n",
      "\u001b[34m\u001b[1mwandb\u001b[0m: \tuse_transforms: True\n",
      "\u001b[34m\u001b[1mwandb\u001b[0m: \tvisualization_layer: layer4_5_conv3\n"
     ]
    },
    {
     "data": {
      "text/html": [
       "Tracking run with wandb version 0.16.0"
      ],
      "text/plain": [
       "<IPython.core.display.HTML object>"
      ]
     },
     "metadata": {},
     "output_type": "display_data"
    },
    {
     "data": {
      "text/html": [
       "Run data is saved locally in <code>/apps/11785-f23-prj/wandb/run-20231204_181043-wn8jblu7</code>"
      ],
      "text/plain": [
       "<IPython.core.display.HTML object>"
      ]
     },
     "metadata": {},
     "output_type": "display_data"
    },
    {
     "data": {
      "text/html": [
       "Syncing run <strong><a href='https://wandb.ai/rohanprasad/idl-project-flowers-facet/runs/wn8jblu7' target=\"_blank\">floral-sweep-13</a></strong> to <a href='https://wandb.ai/rohanprasad/idl-project-flowers-facet' target=\"_blank\">Weights & Biases</a> (<a href='https://wandb.me/run' target=\"_blank\">docs</a>)<br/>Sweep page: <a href='https://wandb.ai/rohanprasad/idl-project-flowers-facet/sweeps/cuq4fdws' target=\"_blank\">https://wandb.ai/rohanprasad/idl-project-flowers-facet/sweeps/cuq4fdws</a>"
      ],
      "text/plain": [
       "<IPython.core.display.HTML object>"
      ]
     },
     "metadata": {},
     "output_type": "display_data"
    },
    {
     "data": {
      "text/html": [
       " View project at <a href='https://wandb.ai/rohanprasad/idl-project-flowers-facet' target=\"_blank\">https://wandb.ai/rohanprasad/idl-project-flowers-facet</a>"
      ],
      "text/plain": [
       "<IPython.core.display.HTML object>"
      ]
     },
     "metadata": {},
     "output_type": "display_data"
    },
    {
     "data": {
      "text/html": [
       " View sweep at <a href='https://wandb.ai/rohanprasad/idl-project-flowers-facet/sweeps/cuq4fdws' target=\"_blank\">https://wandb.ai/rohanprasad/idl-project-flowers-facet/sweeps/cuq4fdws</a>"
      ],
      "text/plain": [
       "<IPython.core.display.HTML object>"
      ]
     },
     "metadata": {},
     "output_type": "display_data"
    },
    {
     "data": {
      "text/html": [
       " View run at <a href='https://wandb.ai/rohanprasad/idl-project-flowers-facet/runs/wn8jblu7' target=\"_blank\">https://wandb.ai/rohanprasad/idl-project-flowers-facet/runs/wn8jblu7</a>"
      ],
      "text/plain": [
       "<IPython.core.display.HTML object>"
      ]
     },
     "metadata": {},
     "output_type": "display_data"
    },
    {
     "name": "stderr",
     "output_type": "stream",
     "text": [
      "2023-12-04 18:10:53,788 [Thread-43 (_] [INFO ]  Starting sweep [ run  wn8jblu7 ] with config = \n",
      "{'channel': 1, 'learning_rate': 0.05, 'linear_probe_layer': 'layer3_9_conv3', 'model': 'RN50x4', 'num_iterations': 512, 'objective': 'neuron', 'optimizer': 'AdamW', 'random_seed': 18630595, 'use_std_transforms': True, 'use_transforms': True, 'visualization_layer': 'layer4_5_conv3'}\n",
      "2023-12-04 18:10:53,789 [Thread-43 (_] [INFO ]  Setting random seed to 18630595\n",
      "2023-12-04 18:10:53,791 [Thread-43 (_] [INFO ]  Loading CLIP model [ RN50x4 ].\n",
      "2023-12-04 18:10:58,382 [Thread-43 (_] [INFO ]  Finished loading model [ RN50x4 ]\n",
      "2023-12-04 18:10:58,384 [Thread-43 (_] [INFO ]  Finished loading transforms [ Compose(\n",
      "    Resize(size=288, interpolation=bicubic, max_size=None, antialias=warn)\n",
      "    CenterCrop(size=(288, 288))\n",
      "    Normalize(mean=(0.48145466, 0.4578275, 0.40821073), std=(0.26862954, 0.26130258, 0.27577711))\n",
      ") ]\n",
      "2023-12-04 18:10:58,385 [Thread-43 (_] [INFO ]  Registering hooks.\n",
      "2023-12-04 18:10:58,388 [Thread-43 (_] [INFO ]  Finished registering hooks.\n",
      "2023-12-04 18:10:58,392 [Thread-43 (_] [INFO ]  Retrieving weights of linear probe [ path = /apps/11785-f23-prj/faceted_visualization/probes/logs/flower/RN50x4/layer3_9_conv3/version_4_20/model_checkpoint.pth ]\n",
      "2023-12-04 18:10:58,394 [Thread-43 (_] [INFO ]  Final list of transforms = [Resize(size=288, interpolation=bicubic, max_size=None, antialias=warn), CenterCrop(size=(288, 288)), Normalize(mean=(0.48145466, 0.4578275, 0.40821073), std=(0.26862954, 0.26130258, 0.27577711)), RandomAffine(degrees=[0.0, 0.0], translate=(0.03, 0.03), interpolation=InterpolationMode.NEAREST, fill=0), RandomAffine(degrees=[0.0, 0.0], scale=(0.9, 1.1), interpolation=InterpolationMode.NEAREST, fill=0), RandomRotation(degrees=[-10.0, 10.0], interpolation=InterpolationMode.NEAREST, expand=False, fill=0), RandomAffine(degrees=[0.0, 0.0], translate=(0.015, 0.015), interpolation=InterpolationMode.NEAREST, fill=0)]\n",
      "2023-12-04 18:10:58,395 [Thread-43 (_] [INFO ]  Starting optimization process [ run_id = wn8jblu7 ]...\n",
      "/opt/conda/lib/python3.10/site-packages/torchvision/transforms/functional.py:1603: UserWarning: The default value of the antialias parameter of all the resizing transforms (Resize(), RandomResizedCrop(), etc.) will change from None to True in v0.17, in order to be consistent across the PIL and Tensor backends. To suppress this warning, directly pass antialias=True (recommended, future default), antialias=None (current default, which means False for Tensors and True for PIL), or antialias=False (only works on Tensors - PIL will still use antialiasing). This also applies if you are using the inference transforms from the models weights: update the call to weights.transforms(antialias=True).\n",
      "  warnings.warn(\n",
      "2023-12-04 18:10:58,438 [Thread-43 (_] [INFO ]  Epoch: 1/512: Loss = 0.0988770 :: Learning Rate = 0.0500000\n",
      "2023-12-04 18:11:02,742 [Thread-43 (_] [INFO ]  Epoch: 101/512: Loss = -0.9218750 :: Learning Rate = 0.0500000\n",
      "2023-12-04 18:11:06,992 [Thread-43 (_] [INFO ]  Epoch: 201/512: Loss = -1.1230469 :: Learning Rate = 0.0500000\n",
      "2023-12-04 18:11:11,093 [Thread-43 (_] [INFO ]  Epoch: 301/512: Loss = -1.2939453 :: Learning Rate = 0.0500000\n",
      "2023-12-04 18:11:15,342 [Thread-43 (_] [INFO ]  Epoch: 401/512: Loss = -1.4306641 :: Learning Rate = 0.0500000\n",
      "2023-12-04 18:11:19,441 [Thread-43 (_] [INFO ]  Epoch: 501/512: Loss = -1.3466797 :: Learning Rate = 0.0500000\n",
      "2023-12-04 18:11:19,916 [Thread-43 (_] [INFO ]  Epoch: 512/512: Loss = -1.5068359 :: Learning Rate = 0.0500000\n",
      "2023-12-04 18:11:19,941 [Thread-43 (_] [INFO ]  Completed run [ wn8jblu7 ]\n"
     ]
    },
    {
     "data": {
      "application/vnd.jupyter.widget-view+json": {
       "model_id": "",
       "version_major": 2,
       "version_minor": 0
      },
      "text/plain": [
       "VBox(children=(Label(value='1.173 MB of 1.173 MB uploaded\\r'), FloatProgress(value=1.0, max=1.0)))"
      ]
     },
     "metadata": {},
     "output_type": "display_data"
    },
    {
     "data": {
      "text/html": [
       "<style>\n",
       "    table.wandb td:nth-child(1) { padding: 0 10px; text-align: left ; width: auto;} td:nth-child(2) {text-align: left ; width: 100%}\n",
       "    .wandb-row { display: flex; flex-direction: row; flex-wrap: wrap; justify-content: flex-start; width: 100% }\n",
       "    .wandb-col { display: flex; flex-direction: column; flex-basis: 100%; flex: 1; padding: 10px; }\n",
       "    </style>\n",
       "<div class=\"wandb-row\"><div class=\"wandb-col\"><h3>Run history:</h3><br/><table class=\"wandb\"><tr><td>loss</td><td>█▄▃▂▁▂▁</td></tr></table><br/></div><div class=\"wandb-col\"><h3>Run summary:</h3><br/><table class=\"wandb\"><tr><td>loss</td><td>-1.50684</td></tr></table><br/></div></div>"
      ],
      "text/plain": [
       "<IPython.core.display.HTML object>"
      ]
     },
     "metadata": {},
     "output_type": "display_data"
    },
    {
     "data": {
      "text/html": [
       " View run <strong style=\"color:#cdcd00\">floral-sweep-13</strong> at: <a href='https://wandb.ai/rohanprasad/idl-project-flowers-facet/runs/wn8jblu7' target=\"_blank\">https://wandb.ai/rohanprasad/idl-project-flowers-facet/runs/wn8jblu7</a><br/>Synced 6 W&B file(s), 7 media file(s), 0 artifact file(s) and 0 other file(s)"
      ],
      "text/plain": [
       "<IPython.core.display.HTML object>"
      ]
     },
     "metadata": {},
     "output_type": "display_data"
    },
    {
     "data": {
      "text/html": [
       "Find logs at: <code>./wandb/run-20231204_181043-wn8jblu7/logs</code>"
      ],
      "text/plain": [
       "<IPython.core.display.HTML object>"
      ]
     },
     "metadata": {},
     "output_type": "display_data"
    },
    {
     "name": "stderr",
     "output_type": "stream",
     "text": [
      "\u001b[34m\u001b[1mwandb\u001b[0m: Agent Starting Run: o5xez8dn with config:\n",
      "\u001b[34m\u001b[1mwandb\u001b[0m: \tchannel: 1\n",
      "\u001b[34m\u001b[1mwandb\u001b[0m: \tlearning_rate: 0.05\n",
      "\u001b[34m\u001b[1mwandb\u001b[0m: \tlinear_probe_layer: layer3_9_conv3\n",
      "\u001b[34m\u001b[1mwandb\u001b[0m: \tmodel: RN50x4\n",
      "\u001b[34m\u001b[1mwandb\u001b[0m: \tnum_iterations: 512\n",
      "\u001b[34m\u001b[1mwandb\u001b[0m: \tobjective: channel\n",
      "\u001b[34m\u001b[1mwandb\u001b[0m: \toptimizer: AdamW\n",
      "\u001b[34m\u001b[1mwandb\u001b[0m: \trandom_seed: 18630595\n",
      "\u001b[34m\u001b[1mwandb\u001b[0m: \tuse_std_transforms: True\n",
      "\u001b[34m\u001b[1mwandb\u001b[0m: \tuse_transforms: True\n",
      "\u001b[34m\u001b[1mwandb\u001b[0m: \tvisualization_layer: layer4_5_conv3\n"
     ]
    },
    {
     "data": {
      "text/html": [
       "Tracking run with wandb version 0.16.0"
      ],
      "text/plain": [
       "<IPython.core.display.HTML object>"
      ]
     },
     "metadata": {},
     "output_type": "display_data"
    },
    {
     "data": {
      "text/html": [
       "Run data is saved locally in <code>/apps/11785-f23-prj/wandb/run-20231204_181128-o5xez8dn</code>"
      ],
      "text/plain": [
       "<IPython.core.display.HTML object>"
      ]
     },
     "metadata": {},
     "output_type": "display_data"
    },
    {
     "data": {
      "text/html": [
       "Syncing run <strong><a href='https://wandb.ai/rohanprasad/idl-project-flowers-facet/runs/o5xez8dn' target=\"_blank\">peach-sweep-14</a></strong> to <a href='https://wandb.ai/rohanprasad/idl-project-flowers-facet' target=\"_blank\">Weights & Biases</a> (<a href='https://wandb.me/run' target=\"_blank\">docs</a>)<br/>Sweep page: <a href='https://wandb.ai/rohanprasad/idl-project-flowers-facet/sweeps/cuq4fdws' target=\"_blank\">https://wandb.ai/rohanprasad/idl-project-flowers-facet/sweeps/cuq4fdws</a>"
      ],
      "text/plain": [
       "<IPython.core.display.HTML object>"
      ]
     },
     "metadata": {},
     "output_type": "display_data"
    },
    {
     "data": {
      "text/html": [
       " View project at <a href='https://wandb.ai/rohanprasad/idl-project-flowers-facet' target=\"_blank\">https://wandb.ai/rohanprasad/idl-project-flowers-facet</a>"
      ],
      "text/plain": [
       "<IPython.core.display.HTML object>"
      ]
     },
     "metadata": {},
     "output_type": "display_data"
    },
    {
     "data": {
      "text/html": [
       " View sweep at <a href='https://wandb.ai/rohanprasad/idl-project-flowers-facet/sweeps/cuq4fdws' target=\"_blank\">https://wandb.ai/rohanprasad/idl-project-flowers-facet/sweeps/cuq4fdws</a>"
      ],
      "text/plain": [
       "<IPython.core.display.HTML object>"
      ]
     },
     "metadata": {},
     "output_type": "display_data"
    },
    {
     "data": {
      "text/html": [
       " View run at <a href='https://wandb.ai/rohanprasad/idl-project-flowers-facet/runs/o5xez8dn' target=\"_blank\">https://wandb.ai/rohanprasad/idl-project-flowers-facet/runs/o5xez8dn</a>"
      ],
      "text/plain": [
       "<IPython.core.display.HTML object>"
      ]
     },
     "metadata": {},
     "output_type": "display_data"
    },
    {
     "name": "stderr",
     "output_type": "stream",
     "text": [
      "2023-12-04 18:11:38,639 [Thread-46 (_] [INFO ]  Starting sweep [ run  o5xez8dn ] with config = \n",
      "{'channel': 1, 'learning_rate': 0.05, 'linear_probe_layer': 'layer3_9_conv3', 'model': 'RN50x4', 'num_iterations': 512, 'objective': 'channel', 'optimizer': 'AdamW', 'random_seed': 18630595, 'use_std_transforms': True, 'use_transforms': True, 'visualization_layer': 'layer4_5_conv3'}\n",
      "2023-12-04 18:11:38,640 [Thread-46 (_] [INFO ]  Setting random seed to 18630595\n",
      "2023-12-04 18:11:38,642 [Thread-46 (_] [INFO ]  Loading CLIP model [ RN50x4 ].\n",
      "2023-12-04 18:11:43,149 [Thread-46 (_] [INFO ]  Finished loading model [ RN50x4 ]\n",
      "2023-12-04 18:11:43,151 [Thread-46 (_] [INFO ]  Finished loading transforms [ Compose(\n",
      "    Resize(size=288, interpolation=bicubic, max_size=None, antialias=warn)\n",
      "    CenterCrop(size=(288, 288))\n",
      "    Normalize(mean=(0.48145466, 0.4578275, 0.40821073), std=(0.26862954, 0.26130258, 0.27577711))\n",
      ") ]\n",
      "2023-12-04 18:11:43,152 [Thread-46 (_] [INFO ]  Registering hooks.\n",
      "2023-12-04 18:11:43,155 [Thread-46 (_] [INFO ]  Finished registering hooks.\n",
      "2023-12-04 18:11:43,160 [Thread-46 (_] [INFO ]  Retrieving weights of linear probe [ path = /apps/11785-f23-prj/faceted_visualization/probes/logs/flower/RN50x4/layer3_9_conv3/version_4_20/model_checkpoint.pth ]\n",
      "2023-12-04 18:11:43,163 [Thread-46 (_] [INFO ]  Final list of transforms = [Resize(size=288, interpolation=bicubic, max_size=None, antialias=warn), CenterCrop(size=(288, 288)), Normalize(mean=(0.48145466, 0.4578275, 0.40821073), std=(0.26862954, 0.26130258, 0.27577711)), RandomAffine(degrees=[0.0, 0.0], translate=(0.03, 0.03), interpolation=InterpolationMode.NEAREST, fill=0), RandomAffine(degrees=[0.0, 0.0], scale=(0.9, 1.1), interpolation=InterpolationMode.NEAREST, fill=0), RandomRotation(degrees=[-10.0, 10.0], interpolation=InterpolationMode.NEAREST, expand=False, fill=0), RandomAffine(degrees=[0.0, 0.0], translate=(0.015, 0.015), interpolation=InterpolationMode.NEAREST, fill=0)]\n",
      "2023-12-04 18:11:43,164 [Thread-46 (_] [INFO ]  Starting optimization process [ run_id = o5xez8dn ]...\n",
      "/opt/conda/lib/python3.10/site-packages/torchvision/transforms/functional.py:1603: UserWarning: The default value of the antialias parameter of all the resizing transforms (Resize(), RandomResizedCrop(), etc.) will change from None to True in v0.17, in order to be consistent across the PIL and Tensor backends. To suppress this warning, directly pass antialias=True (recommended, future default), antialias=None (current default, which means False for Tensors and True for PIL), or antialias=False (only works on Tensors - PIL will still use antialiasing). This also applies if you are using the inference transforms from the models weights: update the call to weights.transforms(antialias=True).\n",
      "  warnings.warn(\n",
      "2023-12-04 18:11:43,217 [Thread-46 (_] [INFO ]  Epoch: 1/512: Loss = 0.1181030 :: Learning Rate = 0.0500000\n",
      "2023-12-04 18:11:47,554 [Thread-46 (_] [INFO ]  Epoch: 101/512: Loss = -0.1025391 :: Learning Rate = 0.0500000\n",
      "2023-12-04 18:11:51,963 [Thread-46 (_] [INFO ]  Epoch: 201/512: Loss = -0.2124023 :: Learning Rate = 0.0500000\n",
      "2023-12-04 18:11:56,101 [Thread-46 (_] [INFO ]  Epoch: 301/512: Loss = -0.3552246 :: Learning Rate = 0.0500000\n",
      "2023-12-04 18:12:00,198 [Thread-46 (_] [INFO ]  Epoch: 401/512: Loss = -0.4758301 :: Learning Rate = 0.0500000\n",
      "2023-12-04 18:12:04,471 [Thread-46 (_] [INFO ]  Epoch: 501/512: Loss = -0.5322266 :: Learning Rate = 0.0500000\n",
      "2023-12-04 18:12:04,950 [Thread-46 (_] [INFO ]  Epoch: 512/512: Loss = -0.5834961 :: Learning Rate = 0.0500000\n",
      "2023-12-04 18:12:04,974 [Thread-46 (_] [INFO ]  Completed run [ o5xez8dn ]\n"
     ]
    },
    {
     "data": {
      "application/vnd.jupyter.widget-view+json": {
       "model_id": "",
       "version_major": 2,
       "version_minor": 0
      },
      "text/plain": [
       "VBox(children=(Label(value='1.275 MB of 1.275 MB uploaded\\r'), FloatProgress(value=1.0, max=1.0)))"
      ]
     },
     "metadata": {},
     "output_type": "display_data"
    },
    {
     "data": {
      "text/html": [
       "<style>\n",
       "    table.wandb td:nth-child(1) { padding: 0 10px; text-align: left ; width: auto;} td:nth-child(2) {text-align: left ; width: 100%}\n",
       "    .wandb-row { display: flex; flex-direction: row; flex-wrap: wrap; justify-content: flex-start; width: 100% }\n",
       "    .wandb-col { display: flex; flex-direction: column; flex-basis: 100%; flex: 1; padding: 10px; }\n",
       "    </style>\n",
       "<div class=\"wandb-row\"><div class=\"wandb-col\"><h3>Run history:</h3><br/><table class=\"wandb\"><tr><td>loss</td><td>█▆▅▃▂▂▁</td></tr></table><br/></div><div class=\"wandb-col\"><h3>Run summary:</h3><br/><table class=\"wandb\"><tr><td>loss</td><td>-0.5835</td></tr></table><br/></div></div>"
      ],
      "text/plain": [
       "<IPython.core.display.HTML object>"
      ]
     },
     "metadata": {},
     "output_type": "display_data"
    },
    {
     "data": {
      "text/html": [
       " View run <strong style=\"color:#cdcd00\">peach-sweep-14</strong> at: <a href='https://wandb.ai/rohanprasad/idl-project-flowers-facet/runs/o5xez8dn' target=\"_blank\">https://wandb.ai/rohanprasad/idl-project-flowers-facet/runs/o5xez8dn</a><br/>Synced 6 W&B file(s), 7 media file(s), 0 artifact file(s) and 0 other file(s)"
      ],
      "text/plain": [
       "<IPython.core.display.HTML object>"
      ]
     },
     "metadata": {},
     "output_type": "display_data"
    },
    {
     "data": {
      "text/html": [
       "Find logs at: <code>./wandb/run-20231204_181128-o5xez8dn/logs</code>"
      ],
      "text/plain": [
       "<IPython.core.display.HTML object>"
      ]
     },
     "metadata": {},
     "output_type": "display_data"
    },
    {
     "name": "stderr",
     "output_type": "stream",
     "text": [
      "\u001b[34m\u001b[1mwandb\u001b[0m: Agent Starting Run: 9nq4fj5w with config:\n",
      "\u001b[34m\u001b[1mwandb\u001b[0m: \tchannel: 1\n",
      "\u001b[34m\u001b[1mwandb\u001b[0m: \tlearning_rate: 0.05\n",
      "\u001b[34m\u001b[1mwandb\u001b[0m: \tlinear_probe_layer: layer3_9_relu3\n",
      "\u001b[34m\u001b[1mwandb\u001b[0m: \tmodel: RN50x4\n",
      "\u001b[34m\u001b[1mwandb\u001b[0m: \tnum_iterations: 512\n",
      "\u001b[34m\u001b[1mwandb\u001b[0m: \tobjective: neuron\n",
      "\u001b[34m\u001b[1mwandb\u001b[0m: \toptimizer: AdamW\n",
      "\u001b[34m\u001b[1mwandb\u001b[0m: \trandom_seed: 18630595\n",
      "\u001b[34m\u001b[1mwandb\u001b[0m: \tuse_std_transforms: True\n",
      "\u001b[34m\u001b[1mwandb\u001b[0m: \tuse_transforms: True\n",
      "\u001b[34m\u001b[1mwandb\u001b[0m: \tvisualization_layer: layer4_5_conv3\n"
     ]
    },
    {
     "data": {
      "text/html": [
       "Tracking run with wandb version 0.16.0"
      ],
      "text/plain": [
       "<IPython.core.display.HTML object>"
      ]
     },
     "metadata": {},
     "output_type": "display_data"
    },
    {
     "data": {
      "text/html": [
       "Run data is saved locally in <code>/apps/11785-f23-prj/wandb/run-20231204_181214-9nq4fj5w</code>"
      ],
      "text/plain": [
       "<IPython.core.display.HTML object>"
      ]
     },
     "metadata": {},
     "output_type": "display_data"
    },
    {
     "data": {
      "text/html": [
       "Syncing run <strong><a href='https://wandb.ai/rohanprasad/idl-project-flowers-facet/runs/9nq4fj5w' target=\"_blank\">jumping-sweep-15</a></strong> to <a href='https://wandb.ai/rohanprasad/idl-project-flowers-facet' target=\"_blank\">Weights & Biases</a> (<a href='https://wandb.me/run' target=\"_blank\">docs</a>)<br/>Sweep page: <a href='https://wandb.ai/rohanprasad/idl-project-flowers-facet/sweeps/cuq4fdws' target=\"_blank\">https://wandb.ai/rohanprasad/idl-project-flowers-facet/sweeps/cuq4fdws</a>"
      ],
      "text/plain": [
       "<IPython.core.display.HTML object>"
      ]
     },
     "metadata": {},
     "output_type": "display_data"
    },
    {
     "data": {
      "text/html": [
       " View project at <a href='https://wandb.ai/rohanprasad/idl-project-flowers-facet' target=\"_blank\">https://wandb.ai/rohanprasad/idl-project-flowers-facet</a>"
      ],
      "text/plain": [
       "<IPython.core.display.HTML object>"
      ]
     },
     "metadata": {},
     "output_type": "display_data"
    },
    {
     "data": {
      "text/html": [
       " View sweep at <a href='https://wandb.ai/rohanprasad/idl-project-flowers-facet/sweeps/cuq4fdws' target=\"_blank\">https://wandb.ai/rohanprasad/idl-project-flowers-facet/sweeps/cuq4fdws</a>"
      ],
      "text/plain": [
       "<IPython.core.display.HTML object>"
      ]
     },
     "metadata": {},
     "output_type": "display_data"
    },
    {
     "data": {
      "text/html": [
       " View run at <a href='https://wandb.ai/rohanprasad/idl-project-flowers-facet/runs/9nq4fj5w' target=\"_blank\">https://wandb.ai/rohanprasad/idl-project-flowers-facet/runs/9nq4fj5w</a>"
      ],
      "text/plain": [
       "<IPython.core.display.HTML object>"
      ]
     },
     "metadata": {},
     "output_type": "display_data"
    },
    {
     "name": "stderr",
     "output_type": "stream",
     "text": [
      "2023-12-04 18:12:24,684 [Thread-49 (_] [INFO ]  Starting sweep [ run  9nq4fj5w ] with config = \n",
      "{'channel': 1, 'learning_rate': 0.05, 'linear_probe_layer': 'layer3_9_relu3', 'model': 'RN50x4', 'num_iterations': 512, 'objective': 'neuron', 'optimizer': 'AdamW', 'random_seed': 18630595, 'use_std_transforms': True, 'use_transforms': True, 'visualization_layer': 'layer4_5_conv3'}\n",
      "2023-12-04 18:12:24,686 [Thread-49 (_] [INFO ]  Setting random seed to 18630595\n",
      "2023-12-04 18:12:24,687 [Thread-49 (_] [INFO ]  Loading CLIP model [ RN50x4 ].\n",
      "2023-12-04 18:12:29,539 [Thread-49 (_] [INFO ]  Finished loading model [ RN50x4 ]\n",
      "2023-12-04 18:12:29,541 [Thread-49 (_] [INFO ]  Finished loading transforms [ Compose(\n",
      "    Resize(size=288, interpolation=bicubic, max_size=None, antialias=warn)\n",
      "    CenterCrop(size=(288, 288))\n",
      "    Normalize(mean=(0.48145466, 0.4578275, 0.40821073), std=(0.26862954, 0.26130258, 0.27577711))\n",
      ") ]\n",
      "2023-12-04 18:12:29,542 [Thread-49 (_] [INFO ]  Registering hooks.\n",
      "2023-12-04 18:12:29,544 [Thread-49 (_] [INFO ]  Finished registering hooks.\n",
      "2023-12-04 18:12:29,549 [Thread-49 (_] [INFO ]  Retrieving weights of linear probe [ path = /apps/11785-f23-prj/faceted_visualization/probes/logs/flower/RN50x4/layer3_9_relu3/version_4_20/model_checkpoint.pth ]\n",
      "2023-12-04 18:12:29,552 [Thread-49 (_] [INFO ]  Final list of transforms = [Resize(size=288, interpolation=bicubic, max_size=None, antialias=warn), CenterCrop(size=(288, 288)), Normalize(mean=(0.48145466, 0.4578275, 0.40821073), std=(0.26862954, 0.26130258, 0.27577711)), RandomAffine(degrees=[0.0, 0.0], translate=(0.03, 0.03), interpolation=InterpolationMode.NEAREST, fill=0), RandomAffine(degrees=[0.0, 0.0], scale=(0.9, 1.1), interpolation=InterpolationMode.NEAREST, fill=0), RandomRotation(degrees=[-10.0, 10.0], interpolation=InterpolationMode.NEAREST, expand=False, fill=0), RandomAffine(degrees=[0.0, 0.0], translate=(0.015, 0.015), interpolation=InterpolationMode.NEAREST, fill=0)]\n",
      "2023-12-04 18:12:29,553 [Thread-49 (_] [INFO ]  Starting optimization process [ run_id = 9nq4fj5w ]...\n",
      "/opt/conda/lib/python3.10/site-packages/torchvision/transforms/functional.py:1603: UserWarning: The default value of the antialias parameter of all the resizing transforms (Resize(), RandomResizedCrop(), etc.) will change from None to True in v0.17, in order to be consistent across the PIL and Tensor backends. To suppress this warning, directly pass antialias=True (recommended, future default), antialias=None (current default, which means False for Tensors and True for PIL), or antialias=False (only works on Tensors - PIL will still use antialiasing). This also applies if you are using the inference transforms from the models weights: update the call to weights.transforms(antialias=True).\n",
      "  warnings.warn(\n",
      "2023-12-04 18:12:29,605 [Thread-49 (_] [INFO ]  Epoch: 1/512: Loss = -0.2448730 :: Learning Rate = 0.0500000\n",
      "2023-12-04 18:12:33,913 [Thread-49 (_] [INFO ]  Epoch: 101/512: Loss = 0.3691406 :: Learning Rate = 0.0500000\n",
      "2023-12-04 18:12:38,100 [Thread-49 (_] [INFO ]  Epoch: 201/512: Loss = -2.2402344 :: Learning Rate = 0.0500000\n",
      "2023-12-04 18:12:42,251 [Thread-49 (_] [INFO ]  Epoch: 301/512: Loss = -2.6152344 :: Learning Rate = 0.0500000\n",
      "2023-12-04 18:12:46,352 [Thread-49 (_] [INFO ]  Epoch: 401/512: Loss = -2.9765625 :: Learning Rate = 0.0500000\n",
      "2023-12-04 18:12:50,615 [Thread-49 (_] [INFO ]  Epoch: 501/512: Loss = -2.1445312 :: Learning Rate = 0.0500000\n",
      "2023-12-04 18:12:51,081 [Thread-49 (_] [INFO ]  Epoch: 512/512: Loss = -2.3867188 :: Learning Rate = 0.0500000\n",
      "2023-12-04 18:12:51,105 [Thread-49 (_] [INFO ]  Completed run [ 9nq4fj5w ]\n"
     ]
    },
    {
     "data": {
      "application/vnd.jupyter.widget-view+json": {
       "model_id": "",
       "version_major": 2,
       "version_minor": 0
      },
      "text/plain": [
       "VBox(children=(Label(value='1.251 MB of 1.251 MB uploaded\\r'), FloatProgress(value=1.0, max=1.0)))"
      ]
     },
     "metadata": {},
     "output_type": "display_data"
    },
    {
     "data": {
      "text/html": [
       "<style>\n",
       "    table.wandb td:nth-child(1) { padding: 0 10px; text-align: left ; width: auto;} td:nth-child(2) {text-align: left ; width: 100%}\n",
       "    .wandb-row { display: flex; flex-direction: row; flex-wrap: wrap; justify-content: flex-start; width: 100% }\n",
       "    .wandb-col { display: flex; flex-direction: column; flex-basis: 100%; flex: 1; padding: 10px; }\n",
       "    </style>\n",
       "<div class=\"wandb-row\"><div class=\"wandb-col\"><h3>Run history:</h3><br/><table class=\"wandb\"><tr><td>loss</td><td>▇█▃▂▁▃▂</td></tr></table><br/></div><div class=\"wandb-col\"><h3>Run summary:</h3><br/><table class=\"wandb\"><tr><td>loss</td><td>-2.38672</td></tr></table><br/></div></div>"
      ],
      "text/plain": [
       "<IPython.core.display.HTML object>"
      ]
     },
     "metadata": {},
     "output_type": "display_data"
    },
    {
     "data": {
      "text/html": [
       " View run <strong style=\"color:#cdcd00\">jumping-sweep-15</strong> at: <a href='https://wandb.ai/rohanprasad/idl-project-flowers-facet/runs/9nq4fj5w' target=\"_blank\">https://wandb.ai/rohanprasad/idl-project-flowers-facet/runs/9nq4fj5w</a><br/>Synced 6 W&B file(s), 7 media file(s), 0 artifact file(s) and 0 other file(s)"
      ],
      "text/plain": [
       "<IPython.core.display.HTML object>"
      ]
     },
     "metadata": {},
     "output_type": "display_data"
    },
    {
     "data": {
      "text/html": [
       "Find logs at: <code>./wandb/run-20231204_181214-9nq4fj5w/logs</code>"
      ],
      "text/plain": [
       "<IPython.core.display.HTML object>"
      ]
     },
     "metadata": {},
     "output_type": "display_data"
    },
    {
     "name": "stderr",
     "output_type": "stream",
     "text": [
      "\u001b[34m\u001b[1mwandb\u001b[0m: Agent Starting Run: 2bxdsd4x with config:\n",
      "\u001b[34m\u001b[1mwandb\u001b[0m: \tchannel: 1\n",
      "\u001b[34m\u001b[1mwandb\u001b[0m: \tlearning_rate: 0.05\n",
      "\u001b[34m\u001b[1mwandb\u001b[0m: \tlinear_probe_layer: layer3_9_relu3\n",
      "\u001b[34m\u001b[1mwandb\u001b[0m: \tmodel: RN50x4\n",
      "\u001b[34m\u001b[1mwandb\u001b[0m: \tnum_iterations: 512\n",
      "\u001b[34m\u001b[1mwandb\u001b[0m: \tobjective: channel\n",
      "\u001b[34m\u001b[1mwandb\u001b[0m: \toptimizer: AdamW\n",
      "\u001b[34m\u001b[1mwandb\u001b[0m: \trandom_seed: 18630595\n",
      "\u001b[34m\u001b[1mwandb\u001b[0m: \tuse_std_transforms: True\n",
      "\u001b[34m\u001b[1mwandb\u001b[0m: \tuse_transforms: True\n",
      "\u001b[34m\u001b[1mwandb\u001b[0m: \tvisualization_layer: layer4_5_conv3\n"
     ]
    },
    {
     "data": {
      "text/html": [
       "Tracking run with wandb version 0.16.0"
      ],
      "text/plain": [
       "<IPython.core.display.HTML object>"
      ]
     },
     "metadata": {},
     "output_type": "display_data"
    },
    {
     "data": {
      "text/html": [
       "Run data is saved locally in <code>/apps/11785-f23-prj/wandb/run-20231204_181259-2bxdsd4x</code>"
      ],
      "text/plain": [
       "<IPython.core.display.HTML object>"
      ]
     },
     "metadata": {},
     "output_type": "display_data"
    },
    {
     "data": {
      "text/html": [
       "Syncing run <strong><a href='https://wandb.ai/rohanprasad/idl-project-flowers-facet/runs/2bxdsd4x' target=\"_blank\">upbeat-sweep-16</a></strong> to <a href='https://wandb.ai/rohanprasad/idl-project-flowers-facet' target=\"_blank\">Weights & Biases</a> (<a href='https://wandb.me/run' target=\"_blank\">docs</a>)<br/>Sweep page: <a href='https://wandb.ai/rohanprasad/idl-project-flowers-facet/sweeps/cuq4fdws' target=\"_blank\">https://wandb.ai/rohanprasad/idl-project-flowers-facet/sweeps/cuq4fdws</a>"
      ],
      "text/plain": [
       "<IPython.core.display.HTML object>"
      ]
     },
     "metadata": {},
     "output_type": "display_data"
    },
    {
     "data": {
      "text/html": [
       " View project at <a href='https://wandb.ai/rohanprasad/idl-project-flowers-facet' target=\"_blank\">https://wandb.ai/rohanprasad/idl-project-flowers-facet</a>"
      ],
      "text/plain": [
       "<IPython.core.display.HTML object>"
      ]
     },
     "metadata": {},
     "output_type": "display_data"
    },
    {
     "data": {
      "text/html": [
       " View sweep at <a href='https://wandb.ai/rohanprasad/idl-project-flowers-facet/sweeps/cuq4fdws' target=\"_blank\">https://wandb.ai/rohanprasad/idl-project-flowers-facet/sweeps/cuq4fdws</a>"
      ],
      "text/plain": [
       "<IPython.core.display.HTML object>"
      ]
     },
     "metadata": {},
     "output_type": "display_data"
    },
    {
     "data": {
      "text/html": [
       " View run at <a href='https://wandb.ai/rohanprasad/idl-project-flowers-facet/runs/2bxdsd4x' target=\"_blank\">https://wandb.ai/rohanprasad/idl-project-flowers-facet/runs/2bxdsd4x</a>"
      ],
      "text/plain": [
       "<IPython.core.display.HTML object>"
      ]
     },
     "metadata": {},
     "output_type": "display_data"
    },
    {
     "name": "stderr",
     "output_type": "stream",
     "text": [
      "2023-12-04 18:13:09,753 [Thread-52 (_] [INFO ]  Starting sweep [ run  2bxdsd4x ] with config = \n",
      "{'channel': 1, 'learning_rate': 0.05, 'linear_probe_layer': 'layer3_9_relu3', 'model': 'RN50x4', 'num_iterations': 512, 'objective': 'channel', 'optimizer': 'AdamW', 'random_seed': 18630595, 'use_std_transforms': True, 'use_transforms': True, 'visualization_layer': 'layer4_5_conv3'}\n",
      "2023-12-04 18:13:09,754 [Thread-52 (_] [INFO ]  Setting random seed to 18630595\n",
      "2023-12-04 18:13:09,756 [Thread-52 (_] [INFO ]  Loading CLIP model [ RN50x4 ].\n",
      "2023-12-04 18:13:14,242 [Thread-52 (_] [INFO ]  Finished loading model [ RN50x4 ]\n",
      "2023-12-04 18:13:14,244 [Thread-52 (_] [INFO ]  Finished loading transforms [ Compose(\n",
      "    Resize(size=288, interpolation=bicubic, max_size=None, antialias=warn)\n",
      "    CenterCrop(size=(288, 288))\n",
      "    Normalize(mean=(0.48145466, 0.4578275, 0.40821073), std=(0.26862954, 0.26130258, 0.27577711))\n",
      ") ]\n",
      "2023-12-04 18:13:14,245 [Thread-52 (_] [INFO ]  Registering hooks.\n",
      "2023-12-04 18:13:14,249 [Thread-52 (_] [INFO ]  Finished registering hooks.\n",
      "2023-12-04 18:13:14,253 [Thread-52 (_] [INFO ]  Retrieving weights of linear probe [ path = /apps/11785-f23-prj/faceted_visualization/probes/logs/flower/RN50x4/layer3_9_relu3/version_4_20/model_checkpoint.pth ]\n",
      "2023-12-04 18:13:14,256 [Thread-52 (_] [INFO ]  Final list of transforms = [Resize(size=288, interpolation=bicubic, max_size=None, antialias=warn), CenterCrop(size=(288, 288)), Normalize(mean=(0.48145466, 0.4578275, 0.40821073), std=(0.26862954, 0.26130258, 0.27577711)), RandomAffine(degrees=[0.0, 0.0], translate=(0.03, 0.03), interpolation=InterpolationMode.NEAREST, fill=0), RandomAffine(degrees=[0.0, 0.0], scale=(0.9, 1.1), interpolation=InterpolationMode.NEAREST, fill=0), RandomRotation(degrees=[-10.0, 10.0], interpolation=InterpolationMode.NEAREST, expand=False, fill=0), RandomAffine(degrees=[0.0, 0.0], translate=(0.015, 0.015), interpolation=InterpolationMode.NEAREST, fill=0)]\n",
      "2023-12-04 18:13:14,257 [Thread-52 (_] [INFO ]  Starting optimization process [ run_id = 2bxdsd4x ]...\n",
      "/opt/conda/lib/python3.10/site-packages/torchvision/transforms/functional.py:1603: UserWarning: The default value of the antialias parameter of all the resizing transforms (Resize(), RandomResizedCrop(), etc.) will change from None to True in v0.17, in order to be consistent across the PIL and Tensor backends. To suppress this warning, directly pass antialias=True (recommended, future default), antialias=None (current default, which means False for Tensors and True for PIL), or antialias=False (only works on Tensors - PIL will still use antialiasing). This also applies if you are using the inference transforms from the models weights: update the call to weights.transforms(antialias=True).\n",
      "  warnings.warn(\n",
      "2023-12-04 18:13:14,297 [Thread-52 (_] [INFO ]  Epoch: 1/512: Loss = -0.2255859 :: Learning Rate = 0.0500000\n",
      "2023-12-04 18:13:18,608 [Thread-52 (_] [INFO ]  Epoch: 101/512: Loss = -0.0953369 :: Learning Rate = 0.0500000\n",
      "2023-12-04 18:13:22,818 [Thread-52 (_] [INFO ]  Epoch: 201/512: Loss = -1.8046875 :: Learning Rate = 0.0500000\n",
      "2023-12-04 18:13:27,131 [Thread-52 (_] [INFO ]  Epoch: 301/512: Loss = -1.4541016 :: Learning Rate = 0.0500000\n",
      "2023-12-04 18:13:31,269 [Thread-52 (_] [INFO ]  Epoch: 401/512: Loss = -1.3466797 :: Learning Rate = 0.0500000\n",
      "2023-12-04 18:13:35,564 [Thread-52 (_] [INFO ]  Epoch: 501/512: Loss = -2.8320312 :: Learning Rate = 0.0500000\n",
      "2023-12-04 18:13:36,037 [Thread-52 (_] [INFO ]  Epoch: 512/512: Loss = -0.9575195 :: Learning Rate = 0.0500000\n",
      "2023-12-04 18:13:36,062 [Thread-52 (_] [INFO ]  Completed run [ 2bxdsd4x ]\n"
     ]
    },
    {
     "data": {
      "application/vnd.jupyter.widget-view+json": {
       "model_id": "",
       "version_major": 2,
       "version_minor": 0
      },
      "text/plain": [
       "VBox(children=(Label(value='1.251 MB of 1.251 MB uploaded\\r'), FloatProgress(value=1.0, max=1.0)))"
      ]
     },
     "metadata": {},
     "output_type": "display_data"
    },
    {
     "data": {
      "text/html": [
       "<style>\n",
       "    table.wandb td:nth-child(1) { padding: 0 10px; text-align: left ; width: auto;} td:nth-child(2) {text-align: left ; width: 100%}\n",
       "    .wandb-row { display: flex; flex-direction: row; flex-wrap: wrap; justify-content: flex-start; width: 100% }\n",
       "    .wandb-col { display: flex; flex-direction: column; flex-basis: 100%; flex: 1; padding: 10px; }\n",
       "    </style>\n",
       "<div class=\"wandb-row\"><div class=\"wandb-col\"><h3>Run history:</h3><br/><table class=\"wandb\"><tr><td>loss</td><td>██▄▅▅▁▆</td></tr></table><br/></div><div class=\"wandb-col\"><h3>Run summary:</h3><br/><table class=\"wandb\"><tr><td>loss</td><td>-0.95752</td></tr></table><br/></div></div>"
      ],
      "text/plain": [
       "<IPython.core.display.HTML object>"
      ]
     },
     "metadata": {},
     "output_type": "display_data"
    },
    {
     "data": {
      "text/html": [
       " View run <strong style=\"color:#cdcd00\">upbeat-sweep-16</strong> at: <a href='https://wandb.ai/rohanprasad/idl-project-flowers-facet/runs/2bxdsd4x' target=\"_blank\">https://wandb.ai/rohanprasad/idl-project-flowers-facet/runs/2bxdsd4x</a><br/>Synced 6 W&B file(s), 7 media file(s), 0 artifact file(s) and 0 other file(s)"
      ],
      "text/plain": [
       "<IPython.core.display.HTML object>"
      ]
     },
     "metadata": {},
     "output_type": "display_data"
    },
    {
     "data": {
      "text/html": [
       "Find logs at: <code>./wandb/run-20231204_181259-2bxdsd4x/logs</code>"
      ],
      "text/plain": [
       "<IPython.core.display.HTML object>"
      ]
     },
     "metadata": {},
     "output_type": "display_data"
    },
    {
     "name": "stderr",
     "output_type": "stream",
     "text": [
      "\u001b[34m\u001b[1mwandb\u001b[0m: Agent Starting Run: cxedpkz3 with config:\n",
      "\u001b[34m\u001b[1mwandb\u001b[0m: \tchannel: 128\n",
      "\u001b[34m\u001b[1mwandb\u001b[0m: \tlearning_rate: 0.05\n",
      "\u001b[34m\u001b[1mwandb\u001b[0m: \tlinear_probe_layer: layer1_0_conv3\n",
      "\u001b[34m\u001b[1mwandb\u001b[0m: \tmodel: RN50x4\n",
      "\u001b[34m\u001b[1mwandb\u001b[0m: \tnum_iterations: 512\n",
      "\u001b[34m\u001b[1mwandb\u001b[0m: \tobjective: neuron\n",
      "\u001b[34m\u001b[1mwandb\u001b[0m: \toptimizer: AdamW\n",
      "\u001b[34m\u001b[1mwandb\u001b[0m: \trandom_seed: 18630595\n",
      "\u001b[34m\u001b[1mwandb\u001b[0m: \tuse_std_transforms: True\n",
      "\u001b[34m\u001b[1mwandb\u001b[0m: \tuse_transforms: True\n",
      "\u001b[34m\u001b[1mwandb\u001b[0m: \tvisualization_layer: layer4_5_conv3\n"
     ]
    },
    {
     "data": {
      "text/html": [
       "Tracking run with wandb version 0.16.0"
      ],
      "text/plain": [
       "<IPython.core.display.HTML object>"
      ]
     },
     "metadata": {},
     "output_type": "display_data"
    },
    {
     "data": {
      "text/html": [
       "Run data is saved locally in <code>/apps/11785-f23-prj/wandb/run-20231204_181345-cxedpkz3</code>"
      ],
      "text/plain": [
       "<IPython.core.display.HTML object>"
      ]
     },
     "metadata": {},
     "output_type": "display_data"
    },
    {
     "data": {
      "text/html": [
       "Syncing run <strong><a href='https://wandb.ai/rohanprasad/idl-project-flowers-facet/runs/cxedpkz3' target=\"_blank\">firm-sweep-17</a></strong> to <a href='https://wandb.ai/rohanprasad/idl-project-flowers-facet' target=\"_blank\">Weights & Biases</a> (<a href='https://wandb.me/run' target=\"_blank\">docs</a>)<br/>Sweep page: <a href='https://wandb.ai/rohanprasad/idl-project-flowers-facet/sweeps/cuq4fdws' target=\"_blank\">https://wandb.ai/rohanprasad/idl-project-flowers-facet/sweeps/cuq4fdws</a>"
      ],
      "text/plain": [
       "<IPython.core.display.HTML object>"
      ]
     },
     "metadata": {},
     "output_type": "display_data"
    },
    {
     "data": {
      "text/html": [
       " View project at <a href='https://wandb.ai/rohanprasad/idl-project-flowers-facet' target=\"_blank\">https://wandb.ai/rohanprasad/idl-project-flowers-facet</a>"
      ],
      "text/plain": [
       "<IPython.core.display.HTML object>"
      ]
     },
     "metadata": {},
     "output_type": "display_data"
    },
    {
     "data": {
      "text/html": [
       " View sweep at <a href='https://wandb.ai/rohanprasad/idl-project-flowers-facet/sweeps/cuq4fdws' target=\"_blank\">https://wandb.ai/rohanprasad/idl-project-flowers-facet/sweeps/cuq4fdws</a>"
      ],
      "text/plain": [
       "<IPython.core.display.HTML object>"
      ]
     },
     "metadata": {},
     "output_type": "display_data"
    },
    {
     "data": {
      "text/html": [
       " View run at <a href='https://wandb.ai/rohanprasad/idl-project-flowers-facet/runs/cxedpkz3' target=\"_blank\">https://wandb.ai/rohanprasad/idl-project-flowers-facet/runs/cxedpkz3</a>"
      ],
      "text/plain": [
       "<IPython.core.display.HTML object>"
      ]
     },
     "metadata": {},
     "output_type": "display_data"
    },
    {
     "name": "stderr",
     "output_type": "stream",
     "text": [
      "2023-12-04 18:13:55,750 [Thread-55 (_] [INFO ]  Starting sweep [ run  cxedpkz3 ] with config = \n",
      "{'channel': 128, 'learning_rate': 0.05, 'linear_probe_layer': 'layer1_0_conv3', 'model': 'RN50x4', 'num_iterations': 512, 'objective': 'neuron', 'optimizer': 'AdamW', 'random_seed': 18630595, 'use_std_transforms': True, 'use_transforms': True, 'visualization_layer': 'layer4_5_conv3'}\n",
      "2023-12-04 18:13:55,752 [Thread-55 (_] [INFO ]  Setting random seed to 18630595\n",
      "2023-12-04 18:13:55,754 [Thread-55 (_] [INFO ]  Loading CLIP model [ RN50x4 ].\n",
      "2023-12-04 18:14:00,246 [Thread-55 (_] [INFO ]  Finished loading model [ RN50x4 ]\n",
      "2023-12-04 18:14:00,248 [Thread-55 (_] [INFO ]  Finished loading transforms [ Compose(\n",
      "    Resize(size=288, interpolation=bicubic, max_size=None, antialias=warn)\n",
      "    CenterCrop(size=(288, 288))\n",
      "    Normalize(mean=(0.48145466, 0.4578275, 0.40821073), std=(0.26862954, 0.26130258, 0.27577711))\n",
      ") ]\n",
      "2023-12-04 18:14:00,249 [Thread-55 (_] [INFO ]  Registering hooks.\n",
      "2023-12-04 18:14:00,252 [Thread-55 (_] [INFO ]  Finished registering hooks.\n",
      "2023-12-04 18:14:00,257 [Thread-55 (_] [INFO ]  Retrieving weights of linear probe [ path = /apps/11785-f23-prj/faceted_visualization/probes/logs/flower/RN50x4/layer1_0_conv3/version_4_20/model_checkpoint.pth ]\n",
      "2023-12-04 18:14:00,262 [Thread-55 (_] [INFO ]  Final list of transforms = [Resize(size=288, interpolation=bicubic, max_size=None, antialias=warn), CenterCrop(size=(288, 288)), Normalize(mean=(0.48145466, 0.4578275, 0.40821073), std=(0.26862954, 0.26130258, 0.27577711)), RandomAffine(degrees=[0.0, 0.0], translate=(0.03, 0.03), interpolation=InterpolationMode.NEAREST, fill=0), RandomAffine(degrees=[0.0, 0.0], scale=(0.9, 1.1), interpolation=InterpolationMode.NEAREST, fill=0), RandomRotation(degrees=[-10.0, 10.0], interpolation=InterpolationMode.NEAREST, expand=False, fill=0), RandomAffine(degrees=[0.0, 0.0], translate=(0.015, 0.015), interpolation=InterpolationMode.NEAREST, fill=0)]\n",
      "2023-12-04 18:14:00,263 [Thread-55 (_] [INFO ]  Starting optimization process [ run_id = cxedpkz3 ]...\n",
      "/opt/conda/lib/python3.10/site-packages/torchvision/transforms/functional.py:1603: UserWarning: The default value of the antialias parameter of all the resizing transforms (Resize(), RandomResizedCrop(), etc.) will change from None to True in v0.17, in order to be consistent across the PIL and Tensor backends. To suppress this warning, directly pass antialias=True (recommended, future default), antialias=None (current default, which means False for Tensors and True for PIL), or antialias=False (only works on Tensors - PIL will still use antialiasing). This also applies if you are using the inference transforms from the models weights: update the call to weights.transforms(antialias=True).\n",
      "  warnings.warn(\n",
      "2023-12-04 18:14:00,312 [Thread-55 (_] [INFO ]  Epoch: 1/512: Loss = 0.1629639 :: Learning Rate = 0.0500000\n",
      "2023-12-04 18:14:05,651 [Thread-55 (_] [INFO ]  Epoch: 101/512: Loss = -0.7700195 :: Learning Rate = 0.0500000\n",
      "2023-12-04 18:14:10,884 [Thread-55 (_] [INFO ]  Epoch: 201/512: Loss = -0.5029297 :: Learning Rate = 0.0500000\n",
      "2023-12-04 18:14:16,003 [Thread-55 (_] [INFO ]  Epoch: 301/512: Loss = -0.5263672 :: Learning Rate = 0.0500000\n",
      "2023-12-04 18:14:21,051 [Thread-55 (_] [INFO ]  Epoch: 401/512: Loss = -0.7158203 :: Learning Rate = 0.0500000\n",
      "2023-12-04 18:14:26,216 [Thread-55 (_] [INFO ]  Epoch: 501/512: Loss = -0.8867188 :: Learning Rate = 0.0500000\n",
      "2023-12-04 18:14:26,794 [Thread-55 (_] [INFO ]  Epoch: 512/512: Loss = -0.7734375 :: Learning Rate = 0.0500000\n",
      "2023-12-04 18:14:26,818 [Thread-55 (_] [INFO ]  Completed run [ cxedpkz3 ]\n"
     ]
    },
    {
     "data": {
      "application/vnd.jupyter.widget-view+json": {
       "model_id": "",
       "version_major": 2,
       "version_minor": 0
      },
      "text/plain": [
       "VBox(children=(Label(value='1.221 MB of 1.221 MB uploaded\\r'), FloatProgress(value=1.0, max=1.0)))"
      ]
     },
     "metadata": {},
     "output_type": "display_data"
    },
    {
     "data": {
      "text/html": [
       "<style>\n",
       "    table.wandb td:nth-child(1) { padding: 0 10px; text-align: left ; width: auto;} td:nth-child(2) {text-align: left ; width: 100%}\n",
       "    .wandb-row { display: flex; flex-direction: row; flex-wrap: wrap; justify-content: flex-start; width: 100% }\n",
       "    .wandb-col { display: flex; flex-direction: column; flex-basis: 100%; flex: 1; padding: 10px; }\n",
       "    </style>\n",
       "<div class=\"wandb-row\"><div class=\"wandb-col\"><h3>Run history:</h3><br/><table class=\"wandb\"><tr><td>loss</td><td>█▂▄▃▂▁▂</td></tr></table><br/></div><div class=\"wandb-col\"><h3>Run summary:</h3><br/><table class=\"wandb\"><tr><td>loss</td><td>-0.77344</td></tr></table><br/></div></div>"
      ],
      "text/plain": [
       "<IPython.core.display.HTML object>"
      ]
     },
     "metadata": {},
     "output_type": "display_data"
    },
    {
     "data": {
      "text/html": [
       " View run <strong style=\"color:#cdcd00\">firm-sweep-17</strong> at: <a href='https://wandb.ai/rohanprasad/idl-project-flowers-facet/runs/cxedpkz3' target=\"_blank\">https://wandb.ai/rohanprasad/idl-project-flowers-facet/runs/cxedpkz3</a><br/>Synced 6 W&B file(s), 7 media file(s), 0 artifact file(s) and 0 other file(s)"
      ],
      "text/plain": [
       "<IPython.core.display.HTML object>"
      ]
     },
     "metadata": {},
     "output_type": "display_data"
    },
    {
     "data": {
      "text/html": [
       "Find logs at: <code>./wandb/run-20231204_181345-cxedpkz3/logs</code>"
      ],
      "text/plain": [
       "<IPython.core.display.HTML object>"
      ]
     },
     "metadata": {},
     "output_type": "display_data"
    },
    {
     "name": "stderr",
     "output_type": "stream",
     "text": [
      "\u001b[34m\u001b[1mwandb\u001b[0m: Agent Starting Run: 1vrfp1wx with config:\n",
      "\u001b[34m\u001b[1mwandb\u001b[0m: \tchannel: 128\n",
      "\u001b[34m\u001b[1mwandb\u001b[0m: \tlearning_rate: 0.05\n",
      "\u001b[34m\u001b[1mwandb\u001b[0m: \tlinear_probe_layer: layer1_0_conv3\n",
      "\u001b[34m\u001b[1mwandb\u001b[0m: \tmodel: RN50x4\n",
      "\u001b[34m\u001b[1mwandb\u001b[0m: \tnum_iterations: 512\n",
      "\u001b[34m\u001b[1mwandb\u001b[0m: \tobjective: channel\n",
      "\u001b[34m\u001b[1mwandb\u001b[0m: \toptimizer: AdamW\n",
      "\u001b[34m\u001b[1mwandb\u001b[0m: \trandom_seed: 18630595\n",
      "\u001b[34m\u001b[1mwandb\u001b[0m: \tuse_std_transforms: True\n",
      "\u001b[34m\u001b[1mwandb\u001b[0m: \tuse_transforms: True\n",
      "\u001b[34m\u001b[1mwandb\u001b[0m: \tvisualization_layer: layer4_5_conv3\n"
     ]
    },
    {
     "data": {
      "text/html": [
       "Tracking run with wandb version 0.16.0"
      ],
      "text/plain": [
       "<IPython.core.display.HTML object>"
      ]
     },
     "metadata": {},
     "output_type": "display_data"
    },
    {
     "data": {
      "text/html": [
       "Run data is saved locally in <code>/apps/11785-f23-prj/wandb/run-20231204_181435-1vrfp1wx</code>"
      ],
      "text/plain": [
       "<IPython.core.display.HTML object>"
      ]
     },
     "metadata": {},
     "output_type": "display_data"
    },
    {
     "data": {
      "text/html": [
       "Syncing run <strong><a href='https://wandb.ai/rohanprasad/idl-project-flowers-facet/runs/1vrfp1wx' target=\"_blank\">stellar-sweep-18</a></strong> to <a href='https://wandb.ai/rohanprasad/idl-project-flowers-facet' target=\"_blank\">Weights & Biases</a> (<a href='https://wandb.me/run' target=\"_blank\">docs</a>)<br/>Sweep page: <a href='https://wandb.ai/rohanprasad/idl-project-flowers-facet/sweeps/cuq4fdws' target=\"_blank\">https://wandb.ai/rohanprasad/idl-project-flowers-facet/sweeps/cuq4fdws</a>"
      ],
      "text/plain": [
       "<IPython.core.display.HTML object>"
      ]
     },
     "metadata": {},
     "output_type": "display_data"
    },
    {
     "data": {
      "text/html": [
       " View project at <a href='https://wandb.ai/rohanprasad/idl-project-flowers-facet' target=\"_blank\">https://wandb.ai/rohanprasad/idl-project-flowers-facet</a>"
      ],
      "text/plain": [
       "<IPython.core.display.HTML object>"
      ]
     },
     "metadata": {},
     "output_type": "display_data"
    },
    {
     "data": {
      "text/html": [
       " View sweep at <a href='https://wandb.ai/rohanprasad/idl-project-flowers-facet/sweeps/cuq4fdws' target=\"_blank\">https://wandb.ai/rohanprasad/idl-project-flowers-facet/sweeps/cuq4fdws</a>"
      ],
      "text/plain": [
       "<IPython.core.display.HTML object>"
      ]
     },
     "metadata": {},
     "output_type": "display_data"
    },
    {
     "data": {
      "text/html": [
       " View run at <a href='https://wandb.ai/rohanprasad/idl-project-flowers-facet/runs/1vrfp1wx' target=\"_blank\">https://wandb.ai/rohanprasad/idl-project-flowers-facet/runs/1vrfp1wx</a>"
      ],
      "text/plain": [
       "<IPython.core.display.HTML object>"
      ]
     },
     "metadata": {},
     "output_type": "display_data"
    },
    {
     "name": "stderr",
     "output_type": "stream",
     "text": [
      "2023-12-04 18:14:46,212 [Thread-58 (_] [INFO ]  Starting sweep [ run  1vrfp1wx ] with config = \n",
      "{'channel': 128, 'learning_rate': 0.05, 'linear_probe_layer': 'layer1_0_conv3', 'model': 'RN50x4', 'num_iterations': 512, 'objective': 'channel', 'optimizer': 'AdamW', 'random_seed': 18630595, 'use_std_transforms': True, 'use_transforms': True, 'visualization_layer': 'layer4_5_conv3'}\n",
      "2023-12-04 18:14:46,214 [Thread-58 (_] [INFO ]  Setting random seed to 18630595\n",
      "2023-12-04 18:14:46,217 [Thread-58 (_] [INFO ]  Loading CLIP model [ RN50x4 ].\n",
      "2023-12-04 18:14:50,700 [Thread-58 (_] [INFO ]  Finished loading model [ RN50x4 ]\n",
      "2023-12-04 18:14:50,702 [Thread-58 (_] [INFO ]  Finished loading transforms [ Compose(\n",
      "    Resize(size=288, interpolation=bicubic, max_size=None, antialias=warn)\n",
      "    CenterCrop(size=(288, 288))\n",
      "    Normalize(mean=(0.48145466, 0.4578275, 0.40821073), std=(0.26862954, 0.26130258, 0.27577711))\n",
      ") ]\n",
      "2023-12-04 18:14:50,703 [Thread-58 (_] [INFO ]  Registering hooks.\n",
      "2023-12-04 18:14:50,707 [Thread-58 (_] [INFO ]  Finished registering hooks.\n",
      "2023-12-04 18:14:50,712 [Thread-58 (_] [INFO ]  Retrieving weights of linear probe [ path = /apps/11785-f23-prj/faceted_visualization/probes/logs/flower/RN50x4/layer1_0_conv3/version_4_20/model_checkpoint.pth ]\n",
      "2023-12-04 18:14:50,717 [Thread-58 (_] [INFO ]  Final list of transforms = [Resize(size=288, interpolation=bicubic, max_size=None, antialias=warn), CenterCrop(size=(288, 288)), Normalize(mean=(0.48145466, 0.4578275, 0.40821073), std=(0.26862954, 0.26130258, 0.27577711)), RandomAffine(degrees=[0.0, 0.0], translate=(0.03, 0.03), interpolation=InterpolationMode.NEAREST, fill=0), RandomAffine(degrees=[0.0, 0.0], scale=(0.9, 1.1), interpolation=InterpolationMode.NEAREST, fill=0), RandomRotation(degrees=[-10.0, 10.0], interpolation=InterpolationMode.NEAREST, expand=False, fill=0), RandomAffine(degrees=[0.0, 0.0], translate=(0.015, 0.015), interpolation=InterpolationMode.NEAREST, fill=0)]\n",
      "2023-12-04 18:14:50,718 [Thread-58 (_] [INFO ]  Starting optimization process [ run_id = 1vrfp1wx ]...\n",
      "/opt/conda/lib/python3.10/site-packages/torchvision/transforms/functional.py:1603: UserWarning: The default value of the antialias parameter of all the resizing transforms (Resize(), RandomResizedCrop(), etc.) will change from None to True in v0.17, in order to be consistent across the PIL and Tensor backends. To suppress this warning, directly pass antialias=True (recommended, future default), antialias=None (current default, which means False for Tensors and True for PIL), or antialias=False (only works on Tensors - PIL will still use antialiasing). This also applies if you are using the inference transforms from the models weights: update the call to weights.transforms(antialias=True).\n",
      "  warnings.warn(\n",
      "2023-12-04 18:14:50,768 [Thread-58 (_] [INFO ]  Epoch: 1/512: Loss = 0.1170654 :: Learning Rate = 0.0500000\n",
      "2023-12-04 18:14:56,183 [Thread-58 (_] [INFO ]  Epoch: 101/512: Loss = -0.2128906 :: Learning Rate = 0.0500000\n",
      "2023-12-04 18:15:01,442 [Thread-58 (_] [INFO ]  Epoch: 201/512: Loss = -0.1524658 :: Learning Rate = 0.0500000\n",
      "2023-12-04 18:15:06,666 [Thread-58 (_] [INFO ]  Epoch: 301/512: Loss = -0.2983398 :: Learning Rate = 0.0500000\n",
      "2023-12-04 18:15:11,733 [Thread-58 (_] [INFO ]  Epoch: 401/512: Loss = -0.5195312 :: Learning Rate = 0.0500000\n",
      "2023-12-04 18:15:16,931 [Thread-58 (_] [INFO ]  Epoch: 501/512: Loss = -0.3854980 :: Learning Rate = 0.0500000\n",
      "2023-12-04 18:15:17,513 [Thread-58 (_] [INFO ]  Epoch: 512/512: Loss = -0.5712891 :: Learning Rate = 0.0500000\n",
      "2023-12-04 18:15:17,536 [Thread-58 (_] [INFO ]  Completed run [ 1vrfp1wx ]\n"
     ]
    },
    {
     "data": {
      "application/vnd.jupyter.widget-view+json": {
       "model_id": "",
       "version_major": 2,
       "version_minor": 0
      },
      "text/plain": [
       "VBox(children=(Label(value='1.278 MB of 1.300 MB uploaded\\r'), FloatProgress(value=0.9833356689173871, max=1.0…"
      ]
     },
     "metadata": {},
     "output_type": "display_data"
    },
    {
     "data": {
      "text/html": [
       "<style>\n",
       "    table.wandb td:nth-child(1) { padding: 0 10px; text-align: left ; width: auto;} td:nth-child(2) {text-align: left ; width: 100%}\n",
       "    .wandb-row { display: flex; flex-direction: row; flex-wrap: wrap; justify-content: flex-start; width: 100% }\n",
       "    .wandb-col { display: flex; flex-direction: column; flex-basis: 100%; flex: 1; padding: 10px; }\n",
       "    </style>\n",
       "<div class=\"wandb-row\"><div class=\"wandb-col\"><h3>Run history:</h3><br/><table class=\"wandb\"><tr><td>loss</td><td>█▅▅▄▂▃▁</td></tr></table><br/></div><div class=\"wandb-col\"><h3>Run summary:</h3><br/><table class=\"wandb\"><tr><td>loss</td><td>-0.57129</td></tr></table><br/></div></div>"
      ],
      "text/plain": [
       "<IPython.core.display.HTML object>"
      ]
     },
     "metadata": {},
     "output_type": "display_data"
    },
    {
     "data": {
      "text/html": [
       " View run <strong style=\"color:#cdcd00\">stellar-sweep-18</strong> at: <a href='https://wandb.ai/rohanprasad/idl-project-flowers-facet/runs/1vrfp1wx' target=\"_blank\">https://wandb.ai/rohanprasad/idl-project-flowers-facet/runs/1vrfp1wx</a><br/>Synced 6 W&B file(s), 7 media file(s), 0 artifact file(s) and 0 other file(s)"
      ],
      "text/plain": [
       "<IPython.core.display.HTML object>"
      ]
     },
     "metadata": {},
     "output_type": "display_data"
    },
    {
     "data": {
      "text/html": [
       "Find logs at: <code>./wandb/run-20231204_181435-1vrfp1wx/logs</code>"
      ],
      "text/plain": [
       "<IPython.core.display.HTML object>"
      ]
     },
     "metadata": {},
     "output_type": "display_data"
    },
    {
     "name": "stderr",
     "output_type": "stream",
     "text": [
      "\u001b[34m\u001b[1mwandb\u001b[0m: Agent Starting Run: 88fnce6b with config:\n",
      "\u001b[34m\u001b[1mwandb\u001b[0m: \tchannel: 128\n",
      "\u001b[34m\u001b[1mwandb\u001b[0m: \tlearning_rate: 0.05\n",
      "\u001b[34m\u001b[1mwandb\u001b[0m: \tlinear_probe_layer: layer1_0_relu3\n",
      "\u001b[34m\u001b[1mwandb\u001b[0m: \tmodel: RN50x4\n",
      "\u001b[34m\u001b[1mwandb\u001b[0m: \tnum_iterations: 512\n",
      "\u001b[34m\u001b[1mwandb\u001b[0m: \tobjective: neuron\n",
      "\u001b[34m\u001b[1mwandb\u001b[0m: \toptimizer: AdamW\n",
      "\u001b[34m\u001b[1mwandb\u001b[0m: \trandom_seed: 18630595\n",
      "\u001b[34m\u001b[1mwandb\u001b[0m: \tuse_std_transforms: True\n",
      "\u001b[34m\u001b[1mwandb\u001b[0m: \tuse_transforms: True\n",
      "\u001b[34m\u001b[1mwandb\u001b[0m: \tvisualization_layer: layer4_5_conv3\n"
     ]
    },
    {
     "data": {
      "text/html": [
       "Tracking run with wandb version 0.16.0"
      ],
      "text/plain": [
       "<IPython.core.display.HTML object>"
      ]
     },
     "metadata": {},
     "output_type": "display_data"
    },
    {
     "data": {
      "text/html": [
       "Run data is saved locally in <code>/apps/11785-f23-prj/wandb/run-20231204_181527-88fnce6b</code>"
      ],
      "text/plain": [
       "<IPython.core.display.HTML object>"
      ]
     },
     "metadata": {},
     "output_type": "display_data"
    },
    {
     "data": {
      "text/html": [
       "Syncing run <strong><a href='https://wandb.ai/rohanprasad/idl-project-flowers-facet/runs/88fnce6b' target=\"_blank\">misty-sweep-19</a></strong> to <a href='https://wandb.ai/rohanprasad/idl-project-flowers-facet' target=\"_blank\">Weights & Biases</a> (<a href='https://wandb.me/run' target=\"_blank\">docs</a>)<br/>Sweep page: <a href='https://wandb.ai/rohanprasad/idl-project-flowers-facet/sweeps/cuq4fdws' target=\"_blank\">https://wandb.ai/rohanprasad/idl-project-flowers-facet/sweeps/cuq4fdws</a>"
      ],
      "text/plain": [
       "<IPython.core.display.HTML object>"
      ]
     },
     "metadata": {},
     "output_type": "display_data"
    },
    {
     "data": {
      "text/html": [
       " View project at <a href='https://wandb.ai/rohanprasad/idl-project-flowers-facet' target=\"_blank\">https://wandb.ai/rohanprasad/idl-project-flowers-facet</a>"
      ],
      "text/plain": [
       "<IPython.core.display.HTML object>"
      ]
     },
     "metadata": {},
     "output_type": "display_data"
    },
    {
     "data": {
      "text/html": [
       " View sweep at <a href='https://wandb.ai/rohanprasad/idl-project-flowers-facet/sweeps/cuq4fdws' target=\"_blank\">https://wandb.ai/rohanprasad/idl-project-flowers-facet/sweeps/cuq4fdws</a>"
      ],
      "text/plain": [
       "<IPython.core.display.HTML object>"
      ]
     },
     "metadata": {},
     "output_type": "display_data"
    },
    {
     "data": {
      "text/html": [
       " View run at <a href='https://wandb.ai/rohanprasad/idl-project-flowers-facet/runs/88fnce6b' target=\"_blank\">https://wandb.ai/rohanprasad/idl-project-flowers-facet/runs/88fnce6b</a>"
      ],
      "text/plain": [
       "<IPython.core.display.HTML object>"
      ]
     },
     "metadata": {},
     "output_type": "display_data"
    },
    {
     "name": "stderr",
     "output_type": "stream",
     "text": [
      "2023-12-04 18:15:37,404 [Thread-61 (_] [INFO ]  Starting sweep [ run  88fnce6b ] with config = \n",
      "{'channel': 128, 'learning_rate': 0.05, 'linear_probe_layer': 'layer1_0_relu3', 'model': 'RN50x4', 'num_iterations': 512, 'objective': 'neuron', 'optimizer': 'AdamW', 'random_seed': 18630595, 'use_std_transforms': True, 'use_transforms': True, 'visualization_layer': 'layer4_5_conv3'}\n",
      "2023-12-04 18:15:37,406 [Thread-61 (_] [INFO ]  Setting random seed to 18630595\n",
      "2023-12-04 18:15:37,407 [Thread-61 (_] [INFO ]  Loading CLIP model [ RN50x4 ].\n",
      "2023-12-04 18:15:42,182 [Thread-61 (_] [INFO ]  Finished loading model [ RN50x4 ]\n",
      "2023-12-04 18:15:42,184 [Thread-61 (_] [INFO ]  Finished loading transforms [ Compose(\n",
      "    Resize(size=288, interpolation=bicubic, max_size=None, antialias=warn)\n",
      "    CenterCrop(size=(288, 288))\n",
      "    Normalize(mean=(0.48145466, 0.4578275, 0.40821073), std=(0.26862954, 0.26130258, 0.27577711))\n",
      ") ]\n",
      "2023-12-04 18:15:42,185 [Thread-61 (_] [INFO ]  Registering hooks.\n",
      "2023-12-04 18:15:42,188 [Thread-61 (_] [INFO ]  Finished registering hooks.\n",
      "2023-12-04 18:15:42,192 [Thread-61 (_] [INFO ]  Retrieving weights of linear probe [ path = /apps/11785-f23-prj/faceted_visualization/probes/logs/flower/RN50x4/layer1_0_relu3/version_4_20/model_checkpoint.pth ]\n",
      "2023-12-04 18:15:42,197 [Thread-61 (_] [INFO ]  Final list of transforms = [Resize(size=288, interpolation=bicubic, max_size=None, antialias=warn), CenterCrop(size=(288, 288)), Normalize(mean=(0.48145466, 0.4578275, 0.40821073), std=(0.26862954, 0.26130258, 0.27577711)), RandomAffine(degrees=[0.0, 0.0], translate=(0.03, 0.03), interpolation=InterpolationMode.NEAREST, fill=0), RandomAffine(degrees=[0.0, 0.0], scale=(0.9, 1.1), interpolation=InterpolationMode.NEAREST, fill=0), RandomRotation(degrees=[-10.0, 10.0], interpolation=InterpolationMode.NEAREST, expand=False, fill=0), RandomAffine(degrees=[0.0, 0.0], translate=(0.015, 0.015), interpolation=InterpolationMode.NEAREST, fill=0)]\n",
      "2023-12-04 18:15:42,198 [Thread-61 (_] [INFO ]  Starting optimization process [ run_id = 88fnce6b ]...\n",
      "/opt/conda/lib/python3.10/site-packages/torchvision/transforms/functional.py:1603: UserWarning: The default value of the antialias parameter of all the resizing transforms (Resize(), RandomResizedCrop(), etc.) will change from None to True in v0.17, in order to be consistent across the PIL and Tensor backends. To suppress this warning, directly pass antialias=True (recommended, future default), antialias=None (current default, which means False for Tensors and True for PIL), or antialias=False (only works on Tensors - PIL will still use antialiasing). This also applies if you are using the inference transforms from the models weights: update the call to weights.transforms(antialias=True).\n",
      "  warnings.warn(\n",
      "2023-12-04 18:15:42,248 [Thread-61 (_] [INFO ]  Epoch: 1/512: Loss = 0.1685791 :: Learning Rate = 0.0500000\n",
      "2023-12-04 18:15:47,717 [Thread-61 (_] [INFO ]  Epoch: 101/512: Loss = -0.2734375 :: Learning Rate = 0.0500000\n",
      "2023-12-04 18:15:53,038 [Thread-61 (_] [INFO ]  Epoch: 201/512: Loss = -0.7773438 :: Learning Rate = 0.0500000\n",
      "2023-12-04 18:15:58,489 [Thread-61 (_] [INFO ]  Epoch: 301/512: Loss = -0.4064941 :: Learning Rate = 0.0500000\n",
      "2023-12-04 18:16:03,517 [Thread-61 (_] [INFO ]  Epoch: 401/512: Loss = -0.7338867 :: Learning Rate = 0.0500000\n",
      "2023-12-04 18:16:08,663 [Thread-61 (_] [INFO ]  Epoch: 501/512: Loss = 0.0289307 :: Learning Rate = 0.0500000\n",
      "2023-12-04 18:16:09,245 [Thread-61 (_] [INFO ]  Epoch: 512/512: Loss = -0.3308105 :: Learning Rate = 0.0500000\n",
      "2023-12-04 18:16:09,270 [Thread-61 (_] [INFO ]  Completed run [ 88fnce6b ]\n"
     ]
    },
    {
     "data": {
      "application/vnd.jupyter.widget-view+json": {
       "model_id": "",
       "version_major": 2,
       "version_minor": 0
      },
      "text/plain": [
       "VBox(children=(Label(value='1.209 MB of 1.209 MB uploaded\\r'), FloatProgress(value=1.0, max=1.0)))"
      ]
     },
     "metadata": {},
     "output_type": "display_data"
    },
    {
     "data": {
      "text/html": [
       "<style>\n",
       "    table.wandb td:nth-child(1) { padding: 0 10px; text-align: left ; width: auto;} td:nth-child(2) {text-align: left ; width: 100%}\n",
       "    .wandb-row { display: flex; flex-direction: row; flex-wrap: wrap; justify-content: flex-start; width: 100% }\n",
       "    .wandb-col { display: flex; flex-direction: column; flex-basis: 100%; flex: 1; padding: 10px; }\n",
       "    </style>\n",
       "<div class=\"wandb-row\"><div class=\"wandb-col\"><h3>Run history:</h3><br/><table class=\"wandb\"><tr><td>loss</td><td>█▅▁▄▁▇▄</td></tr></table><br/></div><div class=\"wandb-col\"><h3>Run summary:</h3><br/><table class=\"wandb\"><tr><td>loss</td><td>-0.33081</td></tr></table><br/></div></div>"
      ],
      "text/plain": [
       "<IPython.core.display.HTML object>"
      ]
     },
     "metadata": {},
     "output_type": "display_data"
    },
    {
     "data": {
      "text/html": [
       " View run <strong style=\"color:#cdcd00\">misty-sweep-19</strong> at: <a href='https://wandb.ai/rohanprasad/idl-project-flowers-facet/runs/88fnce6b' target=\"_blank\">https://wandb.ai/rohanprasad/idl-project-flowers-facet/runs/88fnce6b</a><br/>Synced 6 W&B file(s), 7 media file(s), 0 artifact file(s) and 0 other file(s)"
      ],
      "text/plain": [
       "<IPython.core.display.HTML object>"
      ]
     },
     "metadata": {},
     "output_type": "display_data"
    },
    {
     "data": {
      "text/html": [
       "Find logs at: <code>./wandb/run-20231204_181527-88fnce6b/logs</code>"
      ],
      "text/plain": [
       "<IPython.core.display.HTML object>"
      ]
     },
     "metadata": {},
     "output_type": "display_data"
    },
    {
     "name": "stderr",
     "output_type": "stream",
     "text": [
      "\u001b[34m\u001b[1mwandb\u001b[0m: Agent Starting Run: 2ufuex4h with config:\n",
      "\u001b[34m\u001b[1mwandb\u001b[0m: \tchannel: 128\n",
      "\u001b[34m\u001b[1mwandb\u001b[0m: \tlearning_rate: 0.05\n",
      "\u001b[34m\u001b[1mwandb\u001b[0m: \tlinear_probe_layer: layer1_0_relu3\n",
      "\u001b[34m\u001b[1mwandb\u001b[0m: \tmodel: RN50x4\n",
      "\u001b[34m\u001b[1mwandb\u001b[0m: \tnum_iterations: 512\n",
      "\u001b[34m\u001b[1mwandb\u001b[0m: \tobjective: channel\n",
      "\u001b[34m\u001b[1mwandb\u001b[0m: \toptimizer: AdamW\n",
      "\u001b[34m\u001b[1mwandb\u001b[0m: \trandom_seed: 18630595\n",
      "\u001b[34m\u001b[1mwandb\u001b[0m: \tuse_std_transforms: True\n",
      "\u001b[34m\u001b[1mwandb\u001b[0m: \tuse_transforms: True\n",
      "\u001b[34m\u001b[1mwandb\u001b[0m: \tvisualization_layer: layer4_5_conv3\n"
     ]
    },
    {
     "data": {
      "text/html": [
       "Tracking run with wandb version 0.16.0"
      ],
      "text/plain": [
       "<IPython.core.display.HTML object>"
      ]
     },
     "metadata": {},
     "output_type": "display_data"
    },
    {
     "data": {
      "text/html": [
       "Run data is saved locally in <code>/apps/11785-f23-prj/wandb/run-20231204_181618-2ufuex4h</code>"
      ],
      "text/plain": [
       "<IPython.core.display.HTML object>"
      ]
     },
     "metadata": {},
     "output_type": "display_data"
    },
    {
     "data": {
      "text/html": [
       "Syncing run <strong><a href='https://wandb.ai/rohanprasad/idl-project-flowers-facet/runs/2ufuex4h' target=\"_blank\">young-sweep-20</a></strong> to <a href='https://wandb.ai/rohanprasad/idl-project-flowers-facet' target=\"_blank\">Weights & Biases</a> (<a href='https://wandb.me/run' target=\"_blank\">docs</a>)<br/>Sweep page: <a href='https://wandb.ai/rohanprasad/idl-project-flowers-facet/sweeps/cuq4fdws' target=\"_blank\">https://wandb.ai/rohanprasad/idl-project-flowers-facet/sweeps/cuq4fdws</a>"
      ],
      "text/plain": [
       "<IPython.core.display.HTML object>"
      ]
     },
     "metadata": {},
     "output_type": "display_data"
    },
    {
     "data": {
      "text/html": [
       " View project at <a href='https://wandb.ai/rohanprasad/idl-project-flowers-facet' target=\"_blank\">https://wandb.ai/rohanprasad/idl-project-flowers-facet</a>"
      ],
      "text/plain": [
       "<IPython.core.display.HTML object>"
      ]
     },
     "metadata": {},
     "output_type": "display_data"
    },
    {
     "data": {
      "text/html": [
       " View sweep at <a href='https://wandb.ai/rohanprasad/idl-project-flowers-facet/sweeps/cuq4fdws' target=\"_blank\">https://wandb.ai/rohanprasad/idl-project-flowers-facet/sweeps/cuq4fdws</a>"
      ],
      "text/plain": [
       "<IPython.core.display.HTML object>"
      ]
     },
     "metadata": {},
     "output_type": "display_data"
    },
    {
     "data": {
      "text/html": [
       " View run at <a href='https://wandb.ai/rohanprasad/idl-project-flowers-facet/runs/2ufuex4h' target=\"_blank\">https://wandb.ai/rohanprasad/idl-project-flowers-facet/runs/2ufuex4h</a>"
      ],
      "text/plain": [
       "<IPython.core.display.HTML object>"
      ]
     },
     "metadata": {},
     "output_type": "display_data"
    },
    {
     "name": "stderr",
     "output_type": "stream",
     "text": [
      "2023-12-04 18:16:28,826 [Thread-64 (_] [INFO ]  Starting sweep [ run  2ufuex4h ] with config = \n",
      "{'channel': 128, 'learning_rate': 0.05, 'linear_probe_layer': 'layer1_0_relu3', 'model': 'RN50x4', 'num_iterations': 512, 'objective': 'channel', 'optimizer': 'AdamW', 'random_seed': 18630595, 'use_std_transforms': True, 'use_transforms': True, 'visualization_layer': 'layer4_5_conv3'}\n",
      "2023-12-04 18:16:28,828 [Thread-64 (_] [INFO ]  Setting random seed to 18630595\n",
      "2023-12-04 18:16:28,829 [Thread-64 (_] [INFO ]  Loading CLIP model [ RN50x4 ].\n",
      "2023-12-04 18:16:33,551 [Thread-64 (_] [INFO ]  Finished loading model [ RN50x4 ]\n",
      "2023-12-04 18:16:33,552 [Thread-64 (_] [INFO ]  Finished loading transforms [ Compose(\n",
      "    Resize(size=288, interpolation=bicubic, max_size=None, antialias=warn)\n",
      "    CenterCrop(size=(288, 288))\n",
      "    Normalize(mean=(0.48145466, 0.4578275, 0.40821073), std=(0.26862954, 0.26130258, 0.27577711))\n",
      ") ]\n",
      "2023-12-04 18:16:33,553 [Thread-64 (_] [INFO ]  Registering hooks.\n",
      "2023-12-04 18:16:33,556 [Thread-64 (_] [INFO ]  Finished registering hooks.\n",
      "2023-12-04 18:16:33,561 [Thread-64 (_] [INFO ]  Retrieving weights of linear probe [ path = /apps/11785-f23-prj/faceted_visualization/probes/logs/flower/RN50x4/layer1_0_relu3/version_4_20/model_checkpoint.pth ]\n",
      "2023-12-04 18:16:33,566 [Thread-64 (_] [INFO ]  Final list of transforms = [Resize(size=288, interpolation=bicubic, max_size=None, antialias=warn), CenterCrop(size=(288, 288)), Normalize(mean=(0.48145466, 0.4578275, 0.40821073), std=(0.26862954, 0.26130258, 0.27577711)), RandomAffine(degrees=[0.0, 0.0], translate=(0.03, 0.03), interpolation=InterpolationMode.NEAREST, fill=0), RandomAffine(degrees=[0.0, 0.0], scale=(0.9, 1.1), interpolation=InterpolationMode.NEAREST, fill=0), RandomRotation(degrees=[-10.0, 10.0], interpolation=InterpolationMode.NEAREST, expand=False, fill=0), RandomAffine(degrees=[0.0, 0.0], translate=(0.015, 0.015), interpolation=InterpolationMode.NEAREST, fill=0)]\n",
      "2023-12-04 18:16:33,567 [Thread-64 (_] [INFO ]  Starting optimization process [ run_id = 2ufuex4h ]...\n",
      "/opt/conda/lib/python3.10/site-packages/torchvision/transforms/functional.py:1603: UserWarning: The default value of the antialias parameter of all the resizing transforms (Resize(), RandomResizedCrop(), etc.) will change from None to True in v0.17, in order to be consistent across the PIL and Tensor backends. To suppress this warning, directly pass antialias=True (recommended, future default), antialias=None (current default, which means False for Tensors and True for PIL), or antialias=False (only works on Tensors - PIL will still use antialiasing). This also applies if you are using the inference transforms from the models weights: update the call to weights.transforms(antialias=True).\n",
      "  warnings.warn(\n",
      "2023-12-04 18:16:33,618 [Thread-64 (_] [INFO ]  Epoch: 1/512: Loss = 0.1226196 :: Learning Rate = 0.0500000\n",
      "2023-12-04 18:16:38,839 [Thread-64 (_] [INFO ]  Epoch: 101/512: Loss = -0.2089844 :: Learning Rate = 0.0500000\n",
      "2023-12-04 18:16:44,169 [Thread-64 (_] [INFO ]  Epoch: 201/512: Loss = -0.0625000 :: Learning Rate = 0.0500000\n",
      "2023-12-04 18:16:49,461 [Thread-64 (_] [INFO ]  Epoch: 301/512: Loss = -0.4179688 :: Learning Rate = 0.0500000\n",
      "2023-12-04 18:16:54,517 [Thread-64 (_] [INFO ]  Epoch: 401/512: Loss = -0.1602783 :: Learning Rate = 0.0500000\n",
      "2023-12-04 18:16:59,694 [Thread-64 (_] [INFO ]  Epoch: 501/512: Loss = -0.1724854 :: Learning Rate = 0.0500000\n",
      "2023-12-04 18:17:00,287 [Thread-64 (_] [INFO ]  Epoch: 512/512: Loss = -0.2956543 :: Learning Rate = 0.0500000\n",
      "2023-12-04 18:17:00,310 [Thread-64 (_] [INFO ]  Completed run [ 2ufuex4h ]\n"
     ]
    },
    {
     "data": {
      "application/vnd.jupyter.widget-view+json": {
       "model_id": "",
       "version_major": 2,
       "version_minor": 0
      },
      "text/plain": [
       "VBox(children=(Label(value='1.275 MB of 1.275 MB uploaded\\r'), FloatProgress(value=1.0, max=1.0)))"
      ]
     },
     "metadata": {},
     "output_type": "display_data"
    },
    {
     "data": {
      "text/html": [
       "<style>\n",
       "    table.wandb td:nth-child(1) { padding: 0 10px; text-align: left ; width: auto;} td:nth-child(2) {text-align: left ; width: 100%}\n",
       "    .wandb-row { display: flex; flex-direction: row; flex-wrap: wrap; justify-content: flex-start; width: 100% }\n",
       "    .wandb-col { display: flex; flex-direction: column; flex-basis: 100%; flex: 1; padding: 10px; }\n",
       "    </style>\n",
       "<div class=\"wandb-row\"><div class=\"wandb-col\"><h3>Run history:</h3><br/><table class=\"wandb\"><tr><td>loss</td><td>█▄▆▁▄▄▃</td></tr></table><br/></div><div class=\"wandb-col\"><h3>Run summary:</h3><br/><table class=\"wandb\"><tr><td>loss</td><td>-0.29565</td></tr></table><br/></div></div>"
      ],
      "text/plain": [
       "<IPython.core.display.HTML object>"
      ]
     },
     "metadata": {},
     "output_type": "display_data"
    },
    {
     "data": {
      "text/html": [
       " View run <strong style=\"color:#cdcd00\">young-sweep-20</strong> at: <a href='https://wandb.ai/rohanprasad/idl-project-flowers-facet/runs/2ufuex4h' target=\"_blank\">https://wandb.ai/rohanprasad/idl-project-flowers-facet/runs/2ufuex4h</a><br/>Synced 6 W&B file(s), 7 media file(s), 0 artifact file(s) and 0 other file(s)"
      ],
      "text/plain": [
       "<IPython.core.display.HTML object>"
      ]
     },
     "metadata": {},
     "output_type": "display_data"
    },
    {
     "data": {
      "text/html": [
       "Find logs at: <code>./wandb/run-20231204_181618-2ufuex4h/logs</code>"
      ],
      "text/plain": [
       "<IPython.core.display.HTML object>"
      ]
     },
     "metadata": {},
     "output_type": "display_data"
    },
    {
     "name": "stderr",
     "output_type": "stream",
     "text": [
      "\u001b[34m\u001b[1mwandb\u001b[0m: Agent Starting Run: gjyb50zz with config:\n",
      "\u001b[34m\u001b[1mwandb\u001b[0m: \tchannel: 128\n",
      "\u001b[34m\u001b[1mwandb\u001b[0m: \tlearning_rate: 0.05\n",
      "\u001b[34m\u001b[1mwandb\u001b[0m: \tlinear_probe_layer: layer1_3_conv3\n",
      "\u001b[34m\u001b[1mwandb\u001b[0m: \tmodel: RN50x4\n",
      "\u001b[34m\u001b[1mwandb\u001b[0m: \tnum_iterations: 512\n",
      "\u001b[34m\u001b[1mwandb\u001b[0m: \tobjective: neuron\n",
      "\u001b[34m\u001b[1mwandb\u001b[0m: \toptimizer: AdamW\n",
      "\u001b[34m\u001b[1mwandb\u001b[0m: \trandom_seed: 18630595\n",
      "\u001b[34m\u001b[1mwandb\u001b[0m: \tuse_std_transforms: True\n",
      "\u001b[34m\u001b[1mwandb\u001b[0m: \tuse_transforms: True\n",
      "\u001b[34m\u001b[1mwandb\u001b[0m: \tvisualization_layer: layer4_5_conv3\n"
     ]
    },
    {
     "data": {
      "text/html": [
       "Tracking run with wandb version 0.16.0"
      ],
      "text/plain": [
       "<IPython.core.display.HTML object>"
      ]
     },
     "metadata": {},
     "output_type": "display_data"
    },
    {
     "data": {
      "text/html": [
       "Run data is saved locally in <code>/apps/11785-f23-prj/wandb/run-20231204_181709-gjyb50zz</code>"
      ],
      "text/plain": [
       "<IPython.core.display.HTML object>"
      ]
     },
     "metadata": {},
     "output_type": "display_data"
    },
    {
     "data": {
      "text/html": [
       "Syncing run <strong><a href='https://wandb.ai/rohanprasad/idl-project-flowers-facet/runs/gjyb50zz' target=\"_blank\">golden-sweep-21</a></strong> to <a href='https://wandb.ai/rohanprasad/idl-project-flowers-facet' target=\"_blank\">Weights & Biases</a> (<a href='https://wandb.me/run' target=\"_blank\">docs</a>)<br/>Sweep page: <a href='https://wandb.ai/rohanprasad/idl-project-flowers-facet/sweeps/cuq4fdws' target=\"_blank\">https://wandb.ai/rohanprasad/idl-project-flowers-facet/sweeps/cuq4fdws</a>"
      ],
      "text/plain": [
       "<IPython.core.display.HTML object>"
      ]
     },
     "metadata": {},
     "output_type": "display_data"
    },
    {
     "data": {
      "text/html": [
       " View project at <a href='https://wandb.ai/rohanprasad/idl-project-flowers-facet' target=\"_blank\">https://wandb.ai/rohanprasad/idl-project-flowers-facet</a>"
      ],
      "text/plain": [
       "<IPython.core.display.HTML object>"
      ]
     },
     "metadata": {},
     "output_type": "display_data"
    },
    {
     "data": {
      "text/html": [
       " View sweep at <a href='https://wandb.ai/rohanprasad/idl-project-flowers-facet/sweeps/cuq4fdws' target=\"_blank\">https://wandb.ai/rohanprasad/idl-project-flowers-facet/sweeps/cuq4fdws</a>"
      ],
      "text/plain": [
       "<IPython.core.display.HTML object>"
      ]
     },
     "metadata": {},
     "output_type": "display_data"
    },
    {
     "data": {
      "text/html": [
       " View run at <a href='https://wandb.ai/rohanprasad/idl-project-flowers-facet/runs/gjyb50zz' target=\"_blank\">https://wandb.ai/rohanprasad/idl-project-flowers-facet/runs/gjyb50zz</a>"
      ],
      "text/plain": [
       "<IPython.core.display.HTML object>"
      ]
     },
     "metadata": {},
     "output_type": "display_data"
    },
    {
     "name": "stderr",
     "output_type": "stream",
     "text": [
      "2023-12-04 18:17:19,475 [Thread-67 (_] [INFO ]  Starting sweep [ run  gjyb50zz ] with config = \n",
      "{'channel': 128, 'learning_rate': 0.05, 'linear_probe_layer': 'layer1_3_conv3', 'model': 'RN50x4', 'num_iterations': 512, 'objective': 'neuron', 'optimizer': 'AdamW', 'random_seed': 18630595, 'use_std_transforms': True, 'use_transforms': True, 'visualization_layer': 'layer4_5_conv3'}\n",
      "2023-12-04 18:17:19,477 [Thread-67 (_] [INFO ]  Setting random seed to 18630595\n",
      "2023-12-04 18:17:19,479 [Thread-67 (_] [INFO ]  Loading CLIP model [ RN50x4 ].\n",
      "2023-12-04 18:17:24,045 [Thread-67 (_] [INFO ]  Finished loading model [ RN50x4 ]\n",
      "2023-12-04 18:17:24,046 [Thread-67 (_] [INFO ]  Finished loading transforms [ Compose(\n",
      "    Resize(size=288, interpolation=bicubic, max_size=None, antialias=warn)\n",
      "    CenterCrop(size=(288, 288))\n",
      "    Normalize(mean=(0.48145466, 0.4578275, 0.40821073), std=(0.26862954, 0.26130258, 0.27577711))\n",
      ") ]\n",
      "2023-12-04 18:17:24,048 [Thread-67 (_] [INFO ]  Registering hooks.\n",
      "2023-12-04 18:17:24,050 [Thread-67 (_] [INFO ]  Finished registering hooks.\n",
      "2023-12-04 18:17:24,056 [Thread-67 (_] [INFO ]  Retrieving weights of linear probe [ path = /apps/11785-f23-prj/faceted_visualization/probes/logs/flower/RN50x4/layer1_3_conv3/version_4_20/model_checkpoint.pth ]\n",
      "2023-12-04 18:17:24,062 [Thread-67 (_] [INFO ]  Final list of transforms = [Resize(size=288, interpolation=bicubic, max_size=None, antialias=warn), CenterCrop(size=(288, 288)), Normalize(mean=(0.48145466, 0.4578275, 0.40821073), std=(0.26862954, 0.26130258, 0.27577711)), RandomAffine(degrees=[0.0, 0.0], translate=(0.03, 0.03), interpolation=InterpolationMode.NEAREST, fill=0), RandomAffine(degrees=[0.0, 0.0], scale=(0.9, 1.1), interpolation=InterpolationMode.NEAREST, fill=0), RandomRotation(degrees=[-10.0, 10.0], interpolation=InterpolationMode.NEAREST, expand=False, fill=0), RandomAffine(degrees=[0.0, 0.0], translate=(0.015, 0.015), interpolation=InterpolationMode.NEAREST, fill=0)]\n",
      "2023-12-04 18:17:24,063 [Thread-67 (_] [INFO ]  Starting optimization process [ run_id = gjyb50zz ]...\n",
      "/opt/conda/lib/python3.10/site-packages/torchvision/transforms/functional.py:1603: UserWarning: The default value of the antialias parameter of all the resizing transforms (Resize(), RandomResizedCrop(), etc.) will change from None to True in v0.17, in order to be consistent across the PIL and Tensor backends. To suppress this warning, directly pass antialias=True (recommended, future default), antialias=None (current default, which means False for Tensors and True for PIL), or antialias=False (only works on Tensors - PIL will still use antialiasing). This also applies if you are using the inference transforms from the models weights: update the call to weights.transforms(antialias=True).\n",
      "  warnings.warn(\n",
      "2023-12-04 18:17:24,117 [Thread-67 (_] [INFO ]  Epoch: 1/512: Loss = 0.0864868 :: Learning Rate = 0.0500000\n",
      "2023-12-04 18:17:29,341 [Thread-67 (_] [INFO ]  Epoch: 101/512: Loss = -0.3186035 :: Learning Rate = 0.0500000\n",
      "2023-12-04 18:17:34,468 [Thread-67 (_] [INFO ]  Epoch: 201/512: Loss = -0.3652344 :: Learning Rate = 0.0500000\n",
      "2023-12-04 18:17:39,507 [Thread-67 (_] [INFO ]  Epoch: 301/512: Loss = -0.5029297 :: Learning Rate = 0.0500000\n",
      "2023-12-04 18:17:44,588 [Thread-67 (_] [INFO ]  Epoch: 401/512: Loss = -0.6030273 :: Learning Rate = 0.0500000\n",
      "2023-12-04 18:17:49,572 [Thread-67 (_] [INFO ]  Epoch: 501/512: Loss = -0.5942383 :: Learning Rate = 0.0500000\n",
      "2023-12-04 18:17:50,149 [Thread-67 (_] [INFO ]  Epoch: 512/512: Loss = -0.6518555 :: Learning Rate = 0.0500000\n",
      "2023-12-04 18:17:50,174 [Thread-67 (_] [INFO ]  Completed run [ gjyb50zz ]\n"
     ]
    },
    {
     "data": {
      "application/vnd.jupyter.widget-view+json": {
       "model_id": "",
       "version_major": 2,
       "version_minor": 0
      },
      "text/plain": [
       "VBox(children=(Label(value='1.191 MB of 1.191 MB uploaded\\r'), FloatProgress(value=1.0, max=1.0)))"
      ]
     },
     "metadata": {},
     "output_type": "display_data"
    },
    {
     "data": {
      "text/html": [
       "<style>\n",
       "    table.wandb td:nth-child(1) { padding: 0 10px; text-align: left ; width: auto;} td:nth-child(2) {text-align: left ; width: 100%}\n",
       "    .wandb-row { display: flex; flex-direction: row; flex-wrap: wrap; justify-content: flex-start; width: 100% }\n",
       "    .wandb-col { display: flex; flex-direction: column; flex-basis: 100%; flex: 1; padding: 10px; }\n",
       "    </style>\n",
       "<div class=\"wandb-row\"><div class=\"wandb-col\"><h3>Run history:</h3><br/><table class=\"wandb\"><tr><td>loss</td><td>█▄▄▂▁▂▁</td></tr></table><br/></div><div class=\"wandb-col\"><h3>Run summary:</h3><br/><table class=\"wandb\"><tr><td>loss</td><td>-0.65186</td></tr></table><br/></div></div>"
      ],
      "text/plain": [
       "<IPython.core.display.HTML object>"
      ]
     },
     "metadata": {},
     "output_type": "display_data"
    },
    {
     "data": {
      "text/html": [
       " View run <strong style=\"color:#cdcd00\">golden-sweep-21</strong> at: <a href='https://wandb.ai/rohanprasad/idl-project-flowers-facet/runs/gjyb50zz' target=\"_blank\">https://wandb.ai/rohanprasad/idl-project-flowers-facet/runs/gjyb50zz</a><br/>Synced 6 W&B file(s), 7 media file(s), 0 artifact file(s) and 0 other file(s)"
      ],
      "text/plain": [
       "<IPython.core.display.HTML object>"
      ]
     },
     "metadata": {},
     "output_type": "display_data"
    },
    {
     "data": {
      "text/html": [
       "Find logs at: <code>./wandb/run-20231204_181709-gjyb50zz/logs</code>"
      ],
      "text/plain": [
       "<IPython.core.display.HTML object>"
      ]
     },
     "metadata": {},
     "output_type": "display_data"
    },
    {
     "name": "stderr",
     "output_type": "stream",
     "text": [
      "\u001b[34m\u001b[1mwandb\u001b[0m: Agent Starting Run: 7tjfclth with config:\n",
      "\u001b[34m\u001b[1mwandb\u001b[0m: \tchannel: 128\n",
      "\u001b[34m\u001b[1mwandb\u001b[0m: \tlearning_rate: 0.05\n",
      "\u001b[34m\u001b[1mwandb\u001b[0m: \tlinear_probe_layer: layer1_3_conv3\n",
      "\u001b[34m\u001b[1mwandb\u001b[0m: \tmodel: RN50x4\n",
      "\u001b[34m\u001b[1mwandb\u001b[0m: \tnum_iterations: 512\n",
      "\u001b[34m\u001b[1mwandb\u001b[0m: \tobjective: channel\n",
      "\u001b[34m\u001b[1mwandb\u001b[0m: \toptimizer: AdamW\n",
      "\u001b[34m\u001b[1mwandb\u001b[0m: \trandom_seed: 18630595\n",
      "\u001b[34m\u001b[1mwandb\u001b[0m: \tuse_std_transforms: True\n",
      "\u001b[34m\u001b[1mwandb\u001b[0m: \tuse_transforms: True\n",
      "\u001b[34m\u001b[1mwandb\u001b[0m: \tvisualization_layer: layer4_5_conv3\n"
     ]
    },
    {
     "data": {
      "text/html": [
       "Tracking run with wandb version 0.16.0"
      ],
      "text/plain": [
       "<IPython.core.display.HTML object>"
      ]
     },
     "metadata": {},
     "output_type": "display_data"
    },
    {
     "data": {
      "text/html": [
       "Run data is saved locally in <code>/apps/11785-f23-prj/wandb/run-20231204_181759-7tjfclth</code>"
      ],
      "text/plain": [
       "<IPython.core.display.HTML object>"
      ]
     },
     "metadata": {},
     "output_type": "display_data"
    },
    {
     "data": {
      "text/html": [
       "Syncing run <strong><a href='https://wandb.ai/rohanprasad/idl-project-flowers-facet/runs/7tjfclth' target=\"_blank\">giddy-sweep-22</a></strong> to <a href='https://wandb.ai/rohanprasad/idl-project-flowers-facet' target=\"_blank\">Weights & Biases</a> (<a href='https://wandb.me/run' target=\"_blank\">docs</a>)<br/>Sweep page: <a href='https://wandb.ai/rohanprasad/idl-project-flowers-facet/sweeps/cuq4fdws' target=\"_blank\">https://wandb.ai/rohanprasad/idl-project-flowers-facet/sweeps/cuq4fdws</a>"
      ],
      "text/plain": [
       "<IPython.core.display.HTML object>"
      ]
     },
     "metadata": {},
     "output_type": "display_data"
    },
    {
     "data": {
      "text/html": [
       " View project at <a href='https://wandb.ai/rohanprasad/idl-project-flowers-facet' target=\"_blank\">https://wandb.ai/rohanprasad/idl-project-flowers-facet</a>"
      ],
      "text/plain": [
       "<IPython.core.display.HTML object>"
      ]
     },
     "metadata": {},
     "output_type": "display_data"
    },
    {
     "data": {
      "text/html": [
       " View sweep at <a href='https://wandb.ai/rohanprasad/idl-project-flowers-facet/sweeps/cuq4fdws' target=\"_blank\">https://wandb.ai/rohanprasad/idl-project-flowers-facet/sweeps/cuq4fdws</a>"
      ],
      "text/plain": [
       "<IPython.core.display.HTML object>"
      ]
     },
     "metadata": {},
     "output_type": "display_data"
    },
    {
     "data": {
      "text/html": [
       " View run at <a href='https://wandb.ai/rohanprasad/idl-project-flowers-facet/runs/7tjfclth' target=\"_blank\">https://wandb.ai/rohanprasad/idl-project-flowers-facet/runs/7tjfclth</a>"
      ],
      "text/plain": [
       "<IPython.core.display.HTML object>"
      ]
     },
     "metadata": {},
     "output_type": "display_data"
    },
    {
     "name": "stderr",
     "output_type": "stream",
     "text": [
      "2023-12-04 18:18:09,762 [Thread-70 (_] [INFO ]  Starting sweep [ run  7tjfclth ] with config = \n",
      "{'channel': 128, 'learning_rate': 0.05, 'linear_probe_layer': 'layer1_3_conv3', 'model': 'RN50x4', 'num_iterations': 512, 'objective': 'channel', 'optimizer': 'AdamW', 'random_seed': 18630595, 'use_std_transforms': True, 'use_transforms': True, 'visualization_layer': 'layer4_5_conv3'}\n",
      "2023-12-04 18:18:09,764 [Thread-70 (_] [INFO ]  Setting random seed to 18630595\n",
      "2023-12-04 18:18:09,765 [Thread-70 (_] [INFO ]  Loading CLIP model [ RN50x4 ].\n",
      "2023-12-04 18:18:14,278 [Thread-70 (_] [INFO ]  Finished loading model [ RN50x4 ]\n",
      "2023-12-04 18:18:14,280 [Thread-70 (_] [INFO ]  Finished loading transforms [ Compose(\n",
      "    Resize(size=288, interpolation=bicubic, max_size=None, antialias=warn)\n",
      "    CenterCrop(size=(288, 288))\n",
      "    Normalize(mean=(0.48145466, 0.4578275, 0.40821073), std=(0.26862954, 0.26130258, 0.27577711))\n",
      ") ]\n",
      "2023-12-04 18:18:14,281 [Thread-70 (_] [INFO ]  Registering hooks.\n",
      "2023-12-04 18:18:14,284 [Thread-70 (_] [INFO ]  Finished registering hooks.\n",
      "2023-12-04 18:18:14,289 [Thread-70 (_] [INFO ]  Retrieving weights of linear probe [ path = /apps/11785-f23-prj/faceted_visualization/probes/logs/flower/RN50x4/layer1_3_conv3/version_4_20/model_checkpoint.pth ]\n",
      "2023-12-04 18:18:14,294 [Thread-70 (_] [INFO ]  Final list of transforms = [Resize(size=288, interpolation=bicubic, max_size=None, antialias=warn), CenterCrop(size=(288, 288)), Normalize(mean=(0.48145466, 0.4578275, 0.40821073), std=(0.26862954, 0.26130258, 0.27577711)), RandomAffine(degrees=[0.0, 0.0], translate=(0.03, 0.03), interpolation=InterpolationMode.NEAREST, fill=0), RandomAffine(degrees=[0.0, 0.0], scale=(0.9, 1.1), interpolation=InterpolationMode.NEAREST, fill=0), RandomRotation(degrees=[-10.0, 10.0], interpolation=InterpolationMode.NEAREST, expand=False, fill=0), RandomAffine(degrees=[0.0, 0.0], translate=(0.015, 0.015), interpolation=InterpolationMode.NEAREST, fill=0)]\n",
      "2023-12-04 18:18:14,295 [Thread-70 (_] [INFO ]  Starting optimization process [ run_id = 7tjfclth ]...\n",
      "/opt/conda/lib/python3.10/site-packages/torchvision/transforms/functional.py:1603: UserWarning: The default value of the antialias parameter of all the resizing transforms (Resize(), RandomResizedCrop(), etc.) will change from None to True in v0.17, in order to be consistent across the PIL and Tensor backends. To suppress this warning, directly pass antialias=True (recommended, future default), antialias=None (current default, which means False for Tensors and True for PIL), or antialias=False (only works on Tensors - PIL will still use antialiasing). This also applies if you are using the inference transforms from the models weights: update the call to weights.transforms(antialias=True).\n",
      "  warnings.warn(\n",
      "2023-12-04 18:18:14,342 [Thread-70 (_] [INFO ]  Epoch: 1/512: Loss = 0.0405579 :: Learning Rate = 0.0500000\n",
      "2023-12-04 18:18:19,521 [Thread-70 (_] [INFO ]  Epoch: 101/512: Loss = -0.1573486 :: Learning Rate = 0.0500000\n",
      "2023-12-04 18:18:24,594 [Thread-70 (_] [INFO ]  Epoch: 201/512: Loss = -0.1679688 :: Learning Rate = 0.0500000\n",
      "2023-12-04 18:18:29,725 [Thread-70 (_] [INFO ]  Epoch: 301/512: Loss = -0.1889648 :: Learning Rate = 0.0500000\n",
      "2023-12-04 18:18:34,764 [Thread-70 (_] [INFO ]  Epoch: 401/512: Loss = -0.2410889 :: Learning Rate = 0.0500000\n",
      "2023-12-04 18:18:39,768 [Thread-70 (_] [INFO ]  Epoch: 501/512: Loss = -0.2186279 :: Learning Rate = 0.0500000\n",
      "2023-12-04 18:18:40,336 [Thread-70 (_] [INFO ]  Epoch: 512/512: Loss = -0.2563477 :: Learning Rate = 0.0500000\n",
      "2023-12-04 18:18:40,360 [Thread-70 (_] [INFO ]  Completed run [ 7tjfclth ]\n"
     ]
    },
    {
     "data": {
      "application/vnd.jupyter.widget-view+json": {
       "model_id": "",
       "version_major": 2,
       "version_minor": 0
      },
      "text/plain": [
       "VBox(children=(Label(value='1.259 MB of 1.259 MB uploaded\\r'), FloatProgress(value=1.0, max=1.0)))"
      ]
     },
     "metadata": {},
     "output_type": "display_data"
    },
    {
     "data": {
      "text/html": [
       "<style>\n",
       "    table.wandb td:nth-child(1) { padding: 0 10px; text-align: left ; width: auto;} td:nth-child(2) {text-align: left ; width: 100%}\n",
       "    .wandb-row { display: flex; flex-direction: row; flex-wrap: wrap; justify-content: flex-start; width: 100% }\n",
       "    .wandb-col { display: flex; flex-direction: column; flex-basis: 100%; flex: 1; padding: 10px; }\n",
       "    </style>\n",
       "<div class=\"wandb-row\"><div class=\"wandb-col\"><h3>Run history:</h3><br/><table class=\"wandb\"><tr><td>loss</td><td>█▃▃▃▁▂▁</td></tr></table><br/></div><div class=\"wandb-col\"><h3>Run summary:</h3><br/><table class=\"wandb\"><tr><td>loss</td><td>-0.25635</td></tr></table><br/></div></div>"
      ],
      "text/plain": [
       "<IPython.core.display.HTML object>"
      ]
     },
     "metadata": {},
     "output_type": "display_data"
    },
    {
     "data": {
      "text/html": [
       " View run <strong style=\"color:#cdcd00\">giddy-sweep-22</strong> at: <a href='https://wandb.ai/rohanprasad/idl-project-flowers-facet/runs/7tjfclth' target=\"_blank\">https://wandb.ai/rohanprasad/idl-project-flowers-facet/runs/7tjfclth</a><br/>Synced 6 W&B file(s), 7 media file(s), 0 artifact file(s) and 0 other file(s)"
      ],
      "text/plain": [
       "<IPython.core.display.HTML object>"
      ]
     },
     "metadata": {},
     "output_type": "display_data"
    },
    {
     "data": {
      "text/html": [
       "Find logs at: <code>./wandb/run-20231204_181759-7tjfclth/logs</code>"
      ],
      "text/plain": [
       "<IPython.core.display.HTML object>"
      ]
     },
     "metadata": {},
     "output_type": "display_data"
    },
    {
     "name": "stderr",
     "output_type": "stream",
     "text": [
      "\u001b[34m\u001b[1mwandb\u001b[0m: Agent Starting Run: df3jqo3y with config:\n",
      "\u001b[34m\u001b[1mwandb\u001b[0m: \tchannel: 128\n",
      "\u001b[34m\u001b[1mwandb\u001b[0m: \tlearning_rate: 0.05\n",
      "\u001b[34m\u001b[1mwandb\u001b[0m: \tlinear_probe_layer: layer1_3_relu3\n",
      "\u001b[34m\u001b[1mwandb\u001b[0m: \tmodel: RN50x4\n",
      "\u001b[34m\u001b[1mwandb\u001b[0m: \tnum_iterations: 512\n",
      "\u001b[34m\u001b[1mwandb\u001b[0m: \tobjective: neuron\n",
      "\u001b[34m\u001b[1mwandb\u001b[0m: \toptimizer: AdamW\n",
      "\u001b[34m\u001b[1mwandb\u001b[0m: \trandom_seed: 18630595\n",
      "\u001b[34m\u001b[1mwandb\u001b[0m: \tuse_std_transforms: True\n",
      "\u001b[34m\u001b[1mwandb\u001b[0m: \tuse_transforms: True\n",
      "\u001b[34m\u001b[1mwandb\u001b[0m: \tvisualization_layer: layer4_5_conv3\n"
     ]
    },
    {
     "data": {
      "text/html": [
       "Tracking run with wandb version 0.16.0"
      ],
      "text/plain": [
       "<IPython.core.display.HTML object>"
      ]
     },
     "metadata": {},
     "output_type": "display_data"
    },
    {
     "data": {
      "text/html": [
       "Run data is saved locally in <code>/apps/11785-f23-prj/wandb/run-20231204_181850-df3jqo3y</code>"
      ],
      "text/plain": [
       "<IPython.core.display.HTML object>"
      ]
     },
     "metadata": {},
     "output_type": "display_data"
    },
    {
     "data": {
      "text/html": [
       "Syncing run <strong><a href='https://wandb.ai/rohanprasad/idl-project-flowers-facet/runs/df3jqo3y' target=\"_blank\">bright-sweep-23</a></strong> to <a href='https://wandb.ai/rohanprasad/idl-project-flowers-facet' target=\"_blank\">Weights & Biases</a> (<a href='https://wandb.me/run' target=\"_blank\">docs</a>)<br/>Sweep page: <a href='https://wandb.ai/rohanprasad/idl-project-flowers-facet/sweeps/cuq4fdws' target=\"_blank\">https://wandb.ai/rohanprasad/idl-project-flowers-facet/sweeps/cuq4fdws</a>"
      ],
      "text/plain": [
       "<IPython.core.display.HTML object>"
      ]
     },
     "metadata": {},
     "output_type": "display_data"
    },
    {
     "data": {
      "text/html": [
       " View project at <a href='https://wandb.ai/rohanprasad/idl-project-flowers-facet' target=\"_blank\">https://wandb.ai/rohanprasad/idl-project-flowers-facet</a>"
      ],
      "text/plain": [
       "<IPython.core.display.HTML object>"
      ]
     },
     "metadata": {},
     "output_type": "display_data"
    },
    {
     "data": {
      "text/html": [
       " View sweep at <a href='https://wandb.ai/rohanprasad/idl-project-flowers-facet/sweeps/cuq4fdws' target=\"_blank\">https://wandb.ai/rohanprasad/idl-project-flowers-facet/sweeps/cuq4fdws</a>"
      ],
      "text/plain": [
       "<IPython.core.display.HTML object>"
      ]
     },
     "metadata": {},
     "output_type": "display_data"
    },
    {
     "data": {
      "text/html": [
       " View run at <a href='https://wandb.ai/rohanprasad/idl-project-flowers-facet/runs/df3jqo3y' target=\"_blank\">https://wandb.ai/rohanprasad/idl-project-flowers-facet/runs/df3jqo3y</a>"
      ],
      "text/plain": [
       "<IPython.core.display.HTML object>"
      ]
     },
     "metadata": {},
     "output_type": "display_data"
    },
    {
     "name": "stderr",
     "output_type": "stream",
     "text": [
      "2023-12-04 18:19:00,673 [Thread-73 (_] [INFO ]  Starting sweep [ run  df3jqo3y ] with config = \n",
      "{'channel': 128, 'learning_rate': 0.05, 'linear_probe_layer': 'layer1_3_relu3', 'model': 'RN50x4', 'num_iterations': 512, 'objective': 'neuron', 'optimizer': 'AdamW', 'random_seed': 18630595, 'use_std_transforms': True, 'use_transforms': True, 'visualization_layer': 'layer4_5_conv3'}\n",
      "2023-12-04 18:19:00,674 [Thread-73 (_] [INFO ]  Setting random seed to 18630595\n",
      "2023-12-04 18:19:00,676 [Thread-73 (_] [INFO ]  Loading CLIP model [ RN50x4 ].\n",
      "2023-12-04 18:19:05,360 [Thread-73 (_] [INFO ]  Finished loading model [ RN50x4 ]\n",
      "2023-12-04 18:19:05,362 [Thread-73 (_] [INFO ]  Finished loading transforms [ Compose(\n",
      "    Resize(size=288, interpolation=bicubic, max_size=None, antialias=warn)\n",
      "    CenterCrop(size=(288, 288))\n",
      "    Normalize(mean=(0.48145466, 0.4578275, 0.40821073), std=(0.26862954, 0.26130258, 0.27577711))\n",
      ") ]\n",
      "2023-12-04 18:19:05,363 [Thread-73 (_] [INFO ]  Registering hooks.\n",
      "2023-12-04 18:19:05,366 [Thread-73 (_] [INFO ]  Finished registering hooks.\n",
      "2023-12-04 18:19:05,372 [Thread-73 (_] [INFO ]  Retrieving weights of linear probe [ path = /apps/11785-f23-prj/faceted_visualization/probes/logs/flower/RN50x4/layer1_3_relu3/version_4_20/model_checkpoint.pth ]\n",
      "2023-12-04 18:19:05,377 [Thread-73 (_] [INFO ]  Final list of transforms = [Resize(size=288, interpolation=bicubic, max_size=None, antialias=warn), CenterCrop(size=(288, 288)), Normalize(mean=(0.48145466, 0.4578275, 0.40821073), std=(0.26862954, 0.26130258, 0.27577711)), RandomAffine(degrees=[0.0, 0.0], translate=(0.03, 0.03), interpolation=InterpolationMode.NEAREST, fill=0), RandomAffine(degrees=[0.0, 0.0], scale=(0.9, 1.1), interpolation=InterpolationMode.NEAREST, fill=0), RandomRotation(degrees=[-10.0, 10.0], interpolation=InterpolationMode.NEAREST, expand=False, fill=0), RandomAffine(degrees=[0.0, 0.0], translate=(0.015, 0.015), interpolation=InterpolationMode.NEAREST, fill=0)]\n",
      "2023-12-04 18:19:05,378 [Thread-73 (_] [INFO ]  Starting optimization process [ run_id = df3jqo3y ]...\n",
      "/opt/conda/lib/python3.10/site-packages/torchvision/transforms/functional.py:1603: UserWarning: The default value of the antialias parameter of all the resizing transforms (Resize(), RandomResizedCrop(), etc.) will change from None to True in v0.17, in order to be consistent across the PIL and Tensor backends. To suppress this warning, directly pass antialias=True (recommended, future default), antialias=None (current default, which means False for Tensors and True for PIL), or antialias=False (only works on Tensors - PIL will still use antialiasing). This also applies if you are using the inference transforms from the models weights: update the call to weights.transforms(antialias=True).\n",
      "  warnings.warn(\n",
      "2023-12-04 18:19:05,435 [Thread-73 (_] [INFO ]  Epoch: 1/512: Loss = -2.9550781 :: Learning Rate = 0.0500000\n",
      "2023-12-04 18:19:10,547 [Thread-73 (_] [INFO ]  Epoch: 101/512: Loss = 0.1888428 :: Learning Rate = 0.0500000\n",
      "2023-12-04 18:19:15,595 [Thread-73 (_] [INFO ]  Epoch: 201/512: Loss = 1.1796875 :: Learning Rate = 0.0500000\n",
      "2023-12-04 18:19:20,631 [Thread-73 (_] [INFO ]  Epoch: 301/512: Loss = -0.4758301 :: Learning Rate = 0.0500000\n",
      "2023-12-04 18:19:25,632 [Thread-73 (_] [INFO ]  Epoch: 401/512: Loss = -4.0859375 :: Learning Rate = 0.0500000\n",
      "2023-12-04 18:19:30,750 [Thread-73 (_] [INFO ]  Epoch: 501/512: Loss = 0.7456055 :: Learning Rate = 0.0500000\n",
      "2023-12-04 18:19:31,353 [Thread-73 (_] [INFO ]  Epoch: 512/512: Loss = -0.2736816 :: Learning Rate = 0.0500000\n",
      "2023-12-04 18:19:31,383 [Thread-73 (_] [INFO ]  Completed run [ df3jqo3y ]\n"
     ]
    },
    {
     "data": {
      "application/vnd.jupyter.widget-view+json": {
       "model_id": "",
       "version_major": 2,
       "version_minor": 0
      },
      "text/plain": [
       "VBox(children=(Label(value='1.200 MB of 1.200 MB uploaded\\r'), FloatProgress(value=1.0, max=1.0)))"
      ]
     },
     "metadata": {},
     "output_type": "display_data"
    },
    {
     "data": {
      "text/html": [
       "<style>\n",
       "    table.wandb td:nth-child(1) { padding: 0 10px; text-align: left ; width: auto;} td:nth-child(2) {text-align: left ; width: 100%}\n",
       "    .wandb-row { display: flex; flex-direction: row; flex-wrap: wrap; justify-content: flex-start; width: 100% }\n",
       "    .wandb-col { display: flex; flex-direction: column; flex-basis: 100%; flex: 1; padding: 10px; }\n",
       "    </style>\n",
       "<div class=\"wandb-row\"><div class=\"wandb-col\"><h3>Run history:</h3><br/><table class=\"wandb\"><tr><td>loss</td><td>▃▇█▆▁▇▆</td></tr></table><br/></div><div class=\"wandb-col\"><h3>Run summary:</h3><br/><table class=\"wandb\"><tr><td>loss</td><td>-0.27368</td></tr></table><br/></div></div>"
      ],
      "text/plain": [
       "<IPython.core.display.HTML object>"
      ]
     },
     "metadata": {},
     "output_type": "display_data"
    },
    {
     "data": {
      "text/html": [
       " View run <strong style=\"color:#cdcd00\">bright-sweep-23</strong> at: <a href='https://wandb.ai/rohanprasad/idl-project-flowers-facet/runs/df3jqo3y' target=\"_blank\">https://wandb.ai/rohanprasad/idl-project-flowers-facet/runs/df3jqo3y</a><br/>Synced 6 W&B file(s), 7 media file(s), 0 artifact file(s) and 0 other file(s)"
      ],
      "text/plain": [
       "<IPython.core.display.HTML object>"
      ]
     },
     "metadata": {},
     "output_type": "display_data"
    },
    {
     "data": {
      "text/html": [
       "Find logs at: <code>./wandb/run-20231204_181850-df3jqo3y/logs</code>"
      ],
      "text/plain": [
       "<IPython.core.display.HTML object>"
      ]
     },
     "metadata": {},
     "output_type": "display_data"
    },
    {
     "name": "stderr",
     "output_type": "stream",
     "text": [
      "\u001b[34m\u001b[1mwandb\u001b[0m: Agent Starting Run: 4r5i3mhn with config:\n",
      "\u001b[34m\u001b[1mwandb\u001b[0m: \tchannel: 128\n",
      "\u001b[34m\u001b[1mwandb\u001b[0m: \tlearning_rate: 0.05\n",
      "\u001b[34m\u001b[1mwandb\u001b[0m: \tlinear_probe_layer: layer1_3_relu3\n",
      "\u001b[34m\u001b[1mwandb\u001b[0m: \tmodel: RN50x4\n",
      "\u001b[34m\u001b[1mwandb\u001b[0m: \tnum_iterations: 512\n",
      "\u001b[34m\u001b[1mwandb\u001b[0m: \tobjective: channel\n",
      "\u001b[34m\u001b[1mwandb\u001b[0m: \toptimizer: AdamW\n",
      "\u001b[34m\u001b[1mwandb\u001b[0m: \trandom_seed: 18630595\n",
      "\u001b[34m\u001b[1mwandb\u001b[0m: \tuse_std_transforms: True\n",
      "\u001b[34m\u001b[1mwandb\u001b[0m: \tuse_transforms: True\n",
      "\u001b[34m\u001b[1mwandb\u001b[0m: \tvisualization_layer: layer4_5_conv3\n"
     ]
    },
    {
     "data": {
      "text/html": [
       "Tracking run with wandb version 0.16.0"
      ],
      "text/plain": [
       "<IPython.core.display.HTML object>"
      ]
     },
     "metadata": {},
     "output_type": "display_data"
    },
    {
     "data": {
      "text/html": [
       "Run data is saved locally in <code>/apps/11785-f23-prj/wandb/run-20231204_181941-4r5i3mhn</code>"
      ],
      "text/plain": [
       "<IPython.core.display.HTML object>"
      ]
     },
     "metadata": {},
     "output_type": "display_data"
    },
    {
     "data": {
      "text/html": [
       "Syncing run <strong><a href='https://wandb.ai/rohanprasad/idl-project-flowers-facet/runs/4r5i3mhn' target=\"_blank\">ruby-sweep-24</a></strong> to <a href='https://wandb.ai/rohanprasad/idl-project-flowers-facet' target=\"_blank\">Weights & Biases</a> (<a href='https://wandb.me/run' target=\"_blank\">docs</a>)<br/>Sweep page: <a href='https://wandb.ai/rohanprasad/idl-project-flowers-facet/sweeps/cuq4fdws' target=\"_blank\">https://wandb.ai/rohanprasad/idl-project-flowers-facet/sweeps/cuq4fdws</a>"
      ],
      "text/plain": [
       "<IPython.core.display.HTML object>"
      ]
     },
     "metadata": {},
     "output_type": "display_data"
    },
    {
     "data": {
      "text/html": [
       " View project at <a href='https://wandb.ai/rohanprasad/idl-project-flowers-facet' target=\"_blank\">https://wandb.ai/rohanprasad/idl-project-flowers-facet</a>"
      ],
      "text/plain": [
       "<IPython.core.display.HTML object>"
      ]
     },
     "metadata": {},
     "output_type": "display_data"
    },
    {
     "data": {
      "text/html": [
       " View sweep at <a href='https://wandb.ai/rohanprasad/idl-project-flowers-facet/sweeps/cuq4fdws' target=\"_blank\">https://wandb.ai/rohanprasad/idl-project-flowers-facet/sweeps/cuq4fdws</a>"
      ],
      "text/plain": [
       "<IPython.core.display.HTML object>"
      ]
     },
     "metadata": {},
     "output_type": "display_data"
    },
    {
     "data": {
      "text/html": [
       " View run at <a href='https://wandb.ai/rohanprasad/idl-project-flowers-facet/runs/4r5i3mhn' target=\"_blank\">https://wandb.ai/rohanprasad/idl-project-flowers-facet/runs/4r5i3mhn</a>"
      ],
      "text/plain": [
       "<IPython.core.display.HTML object>"
      ]
     },
     "metadata": {},
     "output_type": "display_data"
    },
    {
     "name": "stderr",
     "output_type": "stream",
     "text": [
      "2023-12-04 18:19:51,957 [Thread-76 (_] [INFO ]  Starting sweep [ run  4r5i3mhn ] with config = \n",
      "{'channel': 128, 'learning_rate': 0.05, 'linear_probe_layer': 'layer1_3_relu3', 'model': 'RN50x4', 'num_iterations': 512, 'objective': 'channel', 'optimizer': 'AdamW', 'random_seed': 18630595, 'use_std_transforms': True, 'use_transforms': True, 'visualization_layer': 'layer4_5_conv3'}\n",
      "2023-12-04 18:19:51,958 [Thread-76 (_] [INFO ]  Setting random seed to 18630595\n",
      "2023-12-04 18:19:51,960 [Thread-76 (_] [INFO ]  Loading CLIP model [ RN50x4 ].\n",
      "2023-12-04 18:19:56,454 [Thread-76 (_] [INFO ]  Finished loading model [ RN50x4 ]\n",
      "2023-12-04 18:19:56,455 [Thread-76 (_] [INFO ]  Finished loading transforms [ Compose(\n",
      "    Resize(size=288, interpolation=bicubic, max_size=None, antialias=warn)\n",
      "    CenterCrop(size=(288, 288))\n",
      "    Normalize(mean=(0.48145466, 0.4578275, 0.40821073), std=(0.26862954, 0.26130258, 0.27577711))\n",
      ") ]\n",
      "2023-12-04 18:19:56,456 [Thread-76 (_] [INFO ]  Registering hooks.\n",
      "2023-12-04 18:19:56,459 [Thread-76 (_] [INFO ]  Finished registering hooks.\n",
      "2023-12-04 18:19:56,464 [Thread-76 (_] [INFO ]  Retrieving weights of linear probe [ path = /apps/11785-f23-prj/faceted_visualization/probes/logs/flower/RN50x4/layer1_3_relu3/version_4_20/model_checkpoint.pth ]\n",
      "2023-12-04 18:19:56,469 [Thread-76 (_] [INFO ]  Final list of transforms = [Resize(size=288, interpolation=bicubic, max_size=None, antialias=warn), CenterCrop(size=(288, 288)), Normalize(mean=(0.48145466, 0.4578275, 0.40821073), std=(0.26862954, 0.26130258, 0.27577711)), RandomAffine(degrees=[0.0, 0.0], translate=(0.03, 0.03), interpolation=InterpolationMode.NEAREST, fill=0), RandomAffine(degrees=[0.0, 0.0], scale=(0.9, 1.1), interpolation=InterpolationMode.NEAREST, fill=0), RandomRotation(degrees=[-10.0, 10.0], interpolation=InterpolationMode.NEAREST, expand=False, fill=0), RandomAffine(degrees=[0.0, 0.0], translate=(0.015, 0.015), interpolation=InterpolationMode.NEAREST, fill=0)]\n",
      "2023-12-04 18:19:56,470 [Thread-76 (_] [INFO ]  Starting optimization process [ run_id = 4r5i3mhn ]...\n",
      "/opt/conda/lib/python3.10/site-packages/torchvision/transforms/functional.py:1603: UserWarning: The default value of the antialias parameter of all the resizing transforms (Resize(), RandomResizedCrop(), etc.) will change from None to True in v0.17, in order to be consistent across the PIL and Tensor backends. To suppress this warning, directly pass antialias=True (recommended, future default), antialias=None (current default, which means False for Tensors and True for PIL), or antialias=False (only works on Tensors - PIL will still use antialiasing). This also applies if you are using the inference transforms from the models weights: update the call to weights.transforms(antialias=True).\n",
      "  warnings.warn(\n",
      "2023-12-04 18:19:56,520 [Thread-76 (_] [INFO ]  Epoch: 1/512: Loss = -3.0019531 :: Learning Rate = 0.0500000\n",
      "2023-12-04 18:20:01,610 [Thread-76 (_] [INFO ]  Epoch: 101/512: Loss = 0.3496094 :: Learning Rate = 0.0500000\n",
      "2023-12-04 18:20:06,654 [Thread-76 (_] [INFO ]  Epoch: 201/512: Loss = -2.0058594 :: Learning Rate = 0.0500000\n",
      "2023-12-04 18:20:11,573 [Thread-76 (_] [INFO ]  Epoch: 301/512: Loss = -0.7792969 :: Learning Rate = 0.0500000\n",
      "2023-12-04 18:20:16,698 [Thread-76 (_] [INFO ]  Epoch: 401/512: Loss = 0.3322754 :: Learning Rate = 0.0500000\n",
      "2023-12-04 18:20:21,740 [Thread-76 (_] [INFO ]  Epoch: 501/512: Loss = 0.8520508 :: Learning Rate = 0.0500000\n",
      "2023-12-04 18:20:22,327 [Thread-76 (_] [INFO ]  Epoch: 512/512: Loss = -1.4638672 :: Learning Rate = 0.0500000\n",
      "2023-12-04 18:20:22,350 [Thread-76 (_] [INFO ]  Completed run [ 4r5i3mhn ]\n"
     ]
    },
    {
     "data": {
      "application/vnd.jupyter.widget-view+json": {
       "model_id": "",
       "version_major": 2,
       "version_minor": 0
      },
      "text/plain": [
       "VBox(children=(Label(value='1.202 MB of 1.202 MB uploaded\\r'), FloatProgress(value=1.0, max=1.0)))"
      ]
     },
     "metadata": {},
     "output_type": "display_data"
    },
    {
     "data": {
      "text/html": [
       "<style>\n",
       "    table.wandb td:nth-child(1) { padding: 0 10px; text-align: left ; width: auto;} td:nth-child(2) {text-align: left ; width: 100%}\n",
       "    .wandb-row { display: flex; flex-direction: row; flex-wrap: wrap; justify-content: flex-start; width: 100% }\n",
       "    .wandb-col { display: flex; flex-direction: column; flex-basis: 100%; flex: 1; padding: 10px; }\n",
       "    </style>\n",
       "<div class=\"wandb-row\"><div class=\"wandb-col\"><h3>Run history:</h3><br/><table class=\"wandb\"><tr><td>loss</td><td>▁▇▃▅▇█▄</td></tr></table><br/></div><div class=\"wandb-col\"><h3>Run summary:</h3><br/><table class=\"wandb\"><tr><td>loss</td><td>-1.46387</td></tr></table><br/></div></div>"
      ],
      "text/plain": [
       "<IPython.core.display.HTML object>"
      ]
     },
     "metadata": {},
     "output_type": "display_data"
    },
    {
     "data": {
      "text/html": [
       " View run <strong style=\"color:#cdcd00\">ruby-sweep-24</strong> at: <a href='https://wandb.ai/rohanprasad/idl-project-flowers-facet/runs/4r5i3mhn' target=\"_blank\">https://wandb.ai/rohanprasad/idl-project-flowers-facet/runs/4r5i3mhn</a><br/>Synced 6 W&B file(s), 7 media file(s), 0 artifact file(s) and 0 other file(s)"
      ],
      "text/plain": [
       "<IPython.core.display.HTML object>"
      ]
     },
     "metadata": {},
     "output_type": "display_data"
    },
    {
     "data": {
      "text/html": [
       "Find logs at: <code>./wandb/run-20231204_181941-4r5i3mhn/logs</code>"
      ],
      "text/plain": [
       "<IPython.core.display.HTML object>"
      ]
     },
     "metadata": {},
     "output_type": "display_data"
    },
    {
     "name": "stderr",
     "output_type": "stream",
     "text": [
      "\u001b[34m\u001b[1mwandb\u001b[0m: Agent Starting Run: ws46ewyj with config:\n",
      "\u001b[34m\u001b[1mwandb\u001b[0m: \tchannel: 128\n",
      "\u001b[34m\u001b[1mwandb\u001b[0m: \tlearning_rate: 0.05\n",
      "\u001b[34m\u001b[1mwandb\u001b[0m: \tlinear_probe_layer: layer2_5_conv3\n",
      "\u001b[34m\u001b[1mwandb\u001b[0m: \tmodel: RN50x4\n",
      "\u001b[34m\u001b[1mwandb\u001b[0m: \tnum_iterations: 512\n",
      "\u001b[34m\u001b[1mwandb\u001b[0m: \tobjective: neuron\n",
      "\u001b[34m\u001b[1mwandb\u001b[0m: \toptimizer: AdamW\n",
      "\u001b[34m\u001b[1mwandb\u001b[0m: \trandom_seed: 18630595\n",
      "\u001b[34m\u001b[1mwandb\u001b[0m: \tuse_std_transforms: True\n",
      "\u001b[34m\u001b[1mwandb\u001b[0m: \tuse_transforms: True\n",
      "\u001b[34m\u001b[1mwandb\u001b[0m: \tvisualization_layer: layer4_5_conv3\n"
     ]
    },
    {
     "data": {
      "text/html": [
       "Tracking run with wandb version 0.16.0"
      ],
      "text/plain": [
       "<IPython.core.display.HTML object>"
      ]
     },
     "metadata": {},
     "output_type": "display_data"
    },
    {
     "data": {
      "text/html": [
       "Run data is saved locally in <code>/apps/11785-f23-prj/wandb/run-20231204_182032-ws46ewyj</code>"
      ],
      "text/plain": [
       "<IPython.core.display.HTML object>"
      ]
     },
     "metadata": {},
     "output_type": "display_data"
    },
    {
     "data": {
      "text/html": [
       "Syncing run <strong><a href='https://wandb.ai/rohanprasad/idl-project-flowers-facet/runs/ws46ewyj' target=\"_blank\">feasible-sweep-25</a></strong> to <a href='https://wandb.ai/rohanprasad/idl-project-flowers-facet' target=\"_blank\">Weights & Biases</a> (<a href='https://wandb.me/run' target=\"_blank\">docs</a>)<br/>Sweep page: <a href='https://wandb.ai/rohanprasad/idl-project-flowers-facet/sweeps/cuq4fdws' target=\"_blank\">https://wandb.ai/rohanprasad/idl-project-flowers-facet/sweeps/cuq4fdws</a>"
      ],
      "text/plain": [
       "<IPython.core.display.HTML object>"
      ]
     },
     "metadata": {},
     "output_type": "display_data"
    },
    {
     "data": {
      "text/html": [
       " View project at <a href='https://wandb.ai/rohanprasad/idl-project-flowers-facet' target=\"_blank\">https://wandb.ai/rohanprasad/idl-project-flowers-facet</a>"
      ],
      "text/plain": [
       "<IPython.core.display.HTML object>"
      ]
     },
     "metadata": {},
     "output_type": "display_data"
    },
    {
     "data": {
      "text/html": [
       " View sweep at <a href='https://wandb.ai/rohanprasad/idl-project-flowers-facet/sweeps/cuq4fdws' target=\"_blank\">https://wandb.ai/rohanprasad/idl-project-flowers-facet/sweeps/cuq4fdws</a>"
      ],
      "text/plain": [
       "<IPython.core.display.HTML object>"
      ]
     },
     "metadata": {},
     "output_type": "display_data"
    },
    {
     "data": {
      "text/html": [
       " View run at <a href='https://wandb.ai/rohanprasad/idl-project-flowers-facet/runs/ws46ewyj' target=\"_blank\">https://wandb.ai/rohanprasad/idl-project-flowers-facet/runs/ws46ewyj</a>"
      ],
      "text/plain": [
       "<IPython.core.display.HTML object>"
      ]
     },
     "metadata": {},
     "output_type": "display_data"
    },
    {
     "name": "stderr",
     "output_type": "stream",
     "text": [
      "2023-12-04 18:20:42,888 [Thread-79 (_] [INFO ]  Starting sweep [ run  ws46ewyj ] with config = \n",
      "{'channel': 128, 'learning_rate': 0.05, 'linear_probe_layer': 'layer2_5_conv3', 'model': 'RN50x4', 'num_iterations': 512, 'objective': 'neuron', 'optimizer': 'AdamW', 'random_seed': 18630595, 'use_std_transforms': True, 'use_transforms': True, 'visualization_layer': 'layer4_5_conv3'}\n",
      "2023-12-04 18:20:42,890 [Thread-79 (_] [INFO ]  Setting random seed to 18630595\n",
      "2023-12-04 18:20:42,891 [Thread-79 (_] [INFO ]  Loading CLIP model [ RN50x4 ].\n",
      "2023-12-04 18:20:47,380 [Thread-79 (_] [INFO ]  Finished loading model [ RN50x4 ]\n",
      "2023-12-04 18:20:47,381 [Thread-79 (_] [INFO ]  Finished loading transforms [ Compose(\n",
      "    Resize(size=288, interpolation=bicubic, max_size=None, antialias=warn)\n",
      "    CenterCrop(size=(288, 288))\n",
      "    Normalize(mean=(0.48145466, 0.4578275, 0.40821073), std=(0.26862954, 0.26130258, 0.27577711))\n",
      ") ]\n",
      "2023-12-04 18:20:47,382 [Thread-79 (_] [INFO ]  Registering hooks.\n",
      "2023-12-04 18:20:47,386 [Thread-79 (_] [INFO ]  Finished registering hooks.\n",
      "2023-12-04 18:20:47,390 [Thread-79 (_] [INFO ]  Retrieving weights of linear probe [ path = /apps/11785-f23-prj/faceted_visualization/probes/logs/flower/RN50x4/layer2_5_conv3/version_4_20/model_checkpoint.pth ]\n",
      "2023-12-04 18:20:47,394 [Thread-79 (_] [INFO ]  Final list of transforms = [Resize(size=288, interpolation=bicubic, max_size=None, antialias=warn), CenterCrop(size=(288, 288)), Normalize(mean=(0.48145466, 0.4578275, 0.40821073), std=(0.26862954, 0.26130258, 0.27577711)), RandomAffine(degrees=[0.0, 0.0], translate=(0.03, 0.03), interpolation=InterpolationMode.NEAREST, fill=0), RandomAffine(degrees=[0.0, 0.0], scale=(0.9, 1.1), interpolation=InterpolationMode.NEAREST, fill=0), RandomRotation(degrees=[-10.0, 10.0], interpolation=InterpolationMode.NEAREST, expand=False, fill=0), RandomAffine(degrees=[0.0, 0.0], translate=(0.015, 0.015), interpolation=InterpolationMode.NEAREST, fill=0)]\n",
      "2023-12-04 18:20:47,395 [Thread-79 (_] [INFO ]  Starting optimization process [ run_id = ws46ewyj ]...\n",
      "/opt/conda/lib/python3.10/site-packages/torchvision/transforms/functional.py:1603: UserWarning: The default value of the antialias parameter of all the resizing transforms (Resize(), RandomResizedCrop(), etc.) will change from None to True in v0.17, in order to be consistent across the PIL and Tensor backends. To suppress this warning, directly pass antialias=True (recommended, future default), antialias=None (current default, which means False for Tensors and True for PIL), or antialias=False (only works on Tensors - PIL will still use antialiasing). This also applies if you are using the inference transforms from the models weights: update the call to weights.transforms(antialias=True).\n",
      "  warnings.warn(\n",
      "2023-12-04 18:20:47,441 [Thread-79 (_] [INFO ]  Epoch: 1/512: Loss = 0.1013794 :: Learning Rate = 0.0500000\n",
      "2023-12-04 18:20:52,105 [Thread-79 (_] [INFO ]  Epoch: 101/512: Loss = -0.3408203 :: Learning Rate = 0.0500000\n",
      "2023-12-04 18:20:56,642 [Thread-79 (_] [INFO ]  Epoch: 201/512: Loss = -0.4121094 :: Learning Rate = 0.0500000\n",
      "2023-12-04 18:21:01,201 [Thread-79 (_] [INFO ]  Epoch: 301/512: Loss = -0.5849609 :: Learning Rate = 0.0500000\n",
      "2023-12-04 18:21:05,827 [Thread-79 (_] [INFO ]  Epoch: 401/512: Loss = -0.6674805 :: Learning Rate = 0.0500000\n",
      "2023-12-04 18:21:10,634 [Thread-79 (_] [INFO ]  Epoch: 501/512: Loss = -0.6391602 :: Learning Rate = 0.0500000\n",
      "2023-12-04 18:21:11,171 [Thread-79 (_] [INFO ]  Epoch: 512/512: Loss = -0.6147461 :: Learning Rate = 0.0500000\n",
      "2023-12-04 18:21:11,195 [Thread-79 (_] [INFO ]  Completed run [ ws46ewyj ]\n"
     ]
    },
    {
     "data": {
      "application/vnd.jupyter.widget-view+json": {
       "model_id": "",
       "version_major": 2,
       "version_minor": 0
      },
      "text/plain": [
       "VBox(children=(Label(value='1.215 MB of 1.215 MB uploaded\\r'), FloatProgress(value=1.0, max=1.0)))"
      ]
     },
     "metadata": {},
     "output_type": "display_data"
    },
    {
     "data": {
      "text/html": [
       "<style>\n",
       "    table.wandb td:nth-child(1) { padding: 0 10px; text-align: left ; width: auto;} td:nth-child(2) {text-align: left ; width: 100%}\n",
       "    .wandb-row { display: flex; flex-direction: row; flex-wrap: wrap; justify-content: flex-start; width: 100% }\n",
       "    .wandb-col { display: flex; flex-direction: column; flex-basis: 100%; flex: 1; padding: 10px; }\n",
       "    </style>\n",
       "<div class=\"wandb-row\"><div class=\"wandb-col\"><h3>Run history:</h3><br/><table class=\"wandb\"><tr><td>loss</td><td>█▄▃▂▁▁▁</td></tr></table><br/></div><div class=\"wandb-col\"><h3>Run summary:</h3><br/><table class=\"wandb\"><tr><td>loss</td><td>-0.61475</td></tr></table><br/></div></div>"
      ],
      "text/plain": [
       "<IPython.core.display.HTML object>"
      ]
     },
     "metadata": {},
     "output_type": "display_data"
    },
    {
     "data": {
      "text/html": [
       " View run <strong style=\"color:#cdcd00\">feasible-sweep-25</strong> at: <a href='https://wandb.ai/rohanprasad/idl-project-flowers-facet/runs/ws46ewyj' target=\"_blank\">https://wandb.ai/rohanprasad/idl-project-flowers-facet/runs/ws46ewyj</a><br/>Synced 6 W&B file(s), 7 media file(s), 0 artifact file(s) and 0 other file(s)"
      ],
      "text/plain": [
       "<IPython.core.display.HTML object>"
      ]
     },
     "metadata": {},
     "output_type": "display_data"
    },
    {
     "data": {
      "text/html": [
       "Find logs at: <code>./wandb/run-20231204_182032-ws46ewyj/logs</code>"
      ],
      "text/plain": [
       "<IPython.core.display.HTML object>"
      ]
     },
     "metadata": {},
     "output_type": "display_data"
    },
    {
     "name": "stderr",
     "output_type": "stream",
     "text": [
      "\u001b[34m\u001b[1mwandb\u001b[0m: Agent Starting Run: yttcf7mo with config:\n",
      "\u001b[34m\u001b[1mwandb\u001b[0m: \tchannel: 128\n",
      "\u001b[34m\u001b[1mwandb\u001b[0m: \tlearning_rate: 0.05\n",
      "\u001b[34m\u001b[1mwandb\u001b[0m: \tlinear_probe_layer: layer2_5_conv3\n",
      "\u001b[34m\u001b[1mwandb\u001b[0m: \tmodel: RN50x4\n",
      "\u001b[34m\u001b[1mwandb\u001b[0m: \tnum_iterations: 512\n",
      "\u001b[34m\u001b[1mwandb\u001b[0m: \tobjective: channel\n",
      "\u001b[34m\u001b[1mwandb\u001b[0m: \toptimizer: AdamW\n",
      "\u001b[34m\u001b[1mwandb\u001b[0m: \trandom_seed: 18630595\n",
      "\u001b[34m\u001b[1mwandb\u001b[0m: \tuse_std_transforms: True\n",
      "\u001b[34m\u001b[1mwandb\u001b[0m: \tuse_transforms: True\n",
      "\u001b[34m\u001b[1mwandb\u001b[0m: \tvisualization_layer: layer4_5_conv3\n"
     ]
    },
    {
     "data": {
      "text/html": [
       "Tracking run with wandb version 0.16.0"
      ],
      "text/plain": [
       "<IPython.core.display.HTML object>"
      ]
     },
     "metadata": {},
     "output_type": "display_data"
    },
    {
     "data": {
      "text/html": [
       "Run data is saved locally in <code>/apps/11785-f23-prj/wandb/run-20231204_182118-yttcf7mo</code>"
      ],
      "text/plain": [
       "<IPython.core.display.HTML object>"
      ]
     },
     "metadata": {},
     "output_type": "display_data"
    },
    {
     "data": {
      "text/html": [
       "Syncing run <strong><a href='https://wandb.ai/rohanprasad/idl-project-flowers-facet/runs/yttcf7mo' target=\"_blank\">lemon-sweep-26</a></strong> to <a href='https://wandb.ai/rohanprasad/idl-project-flowers-facet' target=\"_blank\">Weights & Biases</a> (<a href='https://wandb.me/run' target=\"_blank\">docs</a>)<br/>Sweep page: <a href='https://wandb.ai/rohanprasad/idl-project-flowers-facet/sweeps/cuq4fdws' target=\"_blank\">https://wandb.ai/rohanprasad/idl-project-flowers-facet/sweeps/cuq4fdws</a>"
      ],
      "text/plain": [
       "<IPython.core.display.HTML object>"
      ]
     },
     "metadata": {},
     "output_type": "display_data"
    },
    {
     "data": {
      "text/html": [
       " View project at <a href='https://wandb.ai/rohanprasad/idl-project-flowers-facet' target=\"_blank\">https://wandb.ai/rohanprasad/idl-project-flowers-facet</a>"
      ],
      "text/plain": [
       "<IPython.core.display.HTML object>"
      ]
     },
     "metadata": {},
     "output_type": "display_data"
    },
    {
     "data": {
      "text/html": [
       " View sweep at <a href='https://wandb.ai/rohanprasad/idl-project-flowers-facet/sweeps/cuq4fdws' target=\"_blank\">https://wandb.ai/rohanprasad/idl-project-flowers-facet/sweeps/cuq4fdws</a>"
      ],
      "text/plain": [
       "<IPython.core.display.HTML object>"
      ]
     },
     "metadata": {},
     "output_type": "display_data"
    },
    {
     "data": {
      "text/html": [
       " View run at <a href='https://wandb.ai/rohanprasad/idl-project-flowers-facet/runs/yttcf7mo' target=\"_blank\">https://wandb.ai/rohanprasad/idl-project-flowers-facet/runs/yttcf7mo</a>"
      ],
      "text/plain": [
       "<IPython.core.display.HTML object>"
      ]
     },
     "metadata": {},
     "output_type": "display_data"
    },
    {
     "name": "stderr",
     "output_type": "stream",
     "text": [
      "2023-12-04 18:21:28,942 [Thread-82 (_] [INFO ]  Starting sweep [ run  yttcf7mo ] with config = \n",
      "{'channel': 128, 'learning_rate': 0.05, 'linear_probe_layer': 'layer2_5_conv3', 'model': 'RN50x4', 'num_iterations': 512, 'objective': 'channel', 'optimizer': 'AdamW', 'random_seed': 18630595, 'use_std_transforms': True, 'use_transforms': True, 'visualization_layer': 'layer4_5_conv3'}\n",
      "2023-12-04 18:21:28,944 [Thread-82 (_] [INFO ]  Setting random seed to 18630595\n",
      "2023-12-04 18:21:28,945 [Thread-82 (_] [INFO ]  Loading CLIP model [ RN50x4 ].\n",
      "2023-12-04 18:21:33,595 [Thread-82 (_] [INFO ]  Finished loading model [ RN50x4 ]\n",
      "2023-12-04 18:21:33,597 [Thread-82 (_] [INFO ]  Finished loading transforms [ Compose(\n",
      "    Resize(size=288, interpolation=bicubic, max_size=None, antialias=warn)\n",
      "    CenterCrop(size=(288, 288))\n",
      "    Normalize(mean=(0.48145466, 0.4578275, 0.40821073), std=(0.26862954, 0.26130258, 0.27577711))\n",
      ") ]\n",
      "2023-12-04 18:21:33,598 [Thread-82 (_] [INFO ]  Registering hooks.\n",
      "2023-12-04 18:21:33,601 [Thread-82 (_] [INFO ]  Finished registering hooks.\n",
      "2023-12-04 18:21:33,606 [Thread-82 (_] [INFO ]  Retrieving weights of linear probe [ path = /apps/11785-f23-prj/faceted_visualization/probes/logs/flower/RN50x4/layer2_5_conv3/version_4_20/model_checkpoint.pth ]\n",
      "2023-12-04 18:21:33,609 [Thread-82 (_] [INFO ]  Final list of transforms = [Resize(size=288, interpolation=bicubic, max_size=None, antialias=warn), CenterCrop(size=(288, 288)), Normalize(mean=(0.48145466, 0.4578275, 0.40821073), std=(0.26862954, 0.26130258, 0.27577711)), RandomAffine(degrees=[0.0, 0.0], translate=(0.03, 0.03), interpolation=InterpolationMode.NEAREST, fill=0), RandomAffine(degrees=[0.0, 0.0], scale=(0.9, 1.1), interpolation=InterpolationMode.NEAREST, fill=0), RandomRotation(degrees=[-10.0, 10.0], interpolation=InterpolationMode.NEAREST, expand=False, fill=0), RandomAffine(degrees=[0.0, 0.0], translate=(0.015, 0.015), interpolation=InterpolationMode.NEAREST, fill=0)]\n",
      "2023-12-04 18:21:33,610 [Thread-82 (_] [INFO ]  Starting optimization process [ run_id = yttcf7mo ]...\n",
      "/opt/conda/lib/python3.10/site-packages/torchvision/transforms/functional.py:1603: UserWarning: The default value of the antialias parameter of all the resizing transforms (Resize(), RandomResizedCrop(), etc.) will change from None to True in v0.17, in order to be consistent across the PIL and Tensor backends. To suppress this warning, directly pass antialias=True (recommended, future default), antialias=None (current default, which means False for Tensors and True for PIL), or antialias=False (only works on Tensors - PIL will still use antialiasing). This also applies if you are using the inference transforms from the models weights: update the call to weights.transforms(antialias=True).\n",
      "  warnings.warn(\n",
      "2023-12-04 18:21:33,654 [Thread-82 (_] [INFO ]  Epoch: 1/512: Loss = 0.0554199 :: Learning Rate = 0.0500000\n",
      "2023-12-04 18:21:38,263 [Thread-82 (_] [INFO ]  Epoch: 101/512: Loss = -0.1635742 :: Learning Rate = 0.0500000\n",
      "2023-12-04 18:21:42,881 [Thread-82 (_] [INFO ]  Epoch: 201/512: Loss = -0.1888428 :: Learning Rate = 0.0500000\n",
      "2023-12-04 18:21:47,478 [Thread-82 (_] [INFO ]  Epoch: 301/512: Loss = -0.1734619 :: Learning Rate = 0.0500000\n",
      "2023-12-04 18:21:52,075 [Thread-82 (_] [INFO ]  Epoch: 401/512: Loss = -0.2080078 :: Learning Rate = 0.0500000\n",
      "2023-12-04 18:21:56,736 [Thread-82 (_] [INFO ]  Epoch: 501/512: Loss = -0.2265625 :: Learning Rate = 0.0500000\n",
      "2023-12-04 18:21:57,293 [Thread-82 (_] [INFO ]  Epoch: 512/512: Loss = -0.2421875 :: Learning Rate = 0.0500000\n",
      "2023-12-04 18:21:57,317 [Thread-82 (_] [INFO ]  Completed run [ yttcf7mo ]\n"
     ]
    },
    {
     "data": {
      "application/vnd.jupyter.widget-view+json": {
       "model_id": "",
       "version_major": 2,
       "version_minor": 0
      },
      "text/plain": [
       "VBox(children=(Label(value='1.257 MB of 1.257 MB uploaded\\r'), FloatProgress(value=1.0, max=1.0)))"
      ]
     },
     "metadata": {},
     "output_type": "display_data"
    },
    {
     "data": {
      "text/html": [
       "<style>\n",
       "    table.wandb td:nth-child(1) { padding: 0 10px; text-align: left ; width: auto;} td:nth-child(2) {text-align: left ; width: 100%}\n",
       "    .wandb-row { display: flex; flex-direction: row; flex-wrap: wrap; justify-content: flex-start; width: 100% }\n",
       "    .wandb-col { display: flex; flex-direction: column; flex-basis: 100%; flex: 1; padding: 10px; }\n",
       "    </style>\n",
       "<div class=\"wandb-row\"><div class=\"wandb-col\"><h3>Run history:</h3><br/><table class=\"wandb\"><tr><td>loss</td><td>█▃▂▃▂▁▁</td></tr></table><br/></div><div class=\"wandb-col\"><h3>Run summary:</h3><br/><table class=\"wandb\"><tr><td>loss</td><td>-0.24219</td></tr></table><br/></div></div>"
      ],
      "text/plain": [
       "<IPython.core.display.HTML object>"
      ]
     },
     "metadata": {},
     "output_type": "display_data"
    },
    {
     "data": {
      "text/html": [
       " View run <strong style=\"color:#cdcd00\">lemon-sweep-26</strong> at: <a href='https://wandb.ai/rohanprasad/idl-project-flowers-facet/runs/yttcf7mo' target=\"_blank\">https://wandb.ai/rohanprasad/idl-project-flowers-facet/runs/yttcf7mo</a><br/>Synced 6 W&B file(s), 7 media file(s), 0 artifact file(s) and 0 other file(s)"
      ],
      "text/plain": [
       "<IPython.core.display.HTML object>"
      ]
     },
     "metadata": {},
     "output_type": "display_data"
    },
    {
     "data": {
      "text/html": [
       "Find logs at: <code>./wandb/run-20231204_182118-yttcf7mo/logs</code>"
      ],
      "text/plain": [
       "<IPython.core.display.HTML object>"
      ]
     },
     "metadata": {},
     "output_type": "display_data"
    },
    {
     "name": "stderr",
     "output_type": "stream",
     "text": [
      "\u001b[34m\u001b[1mwandb\u001b[0m: Agent Starting Run: j9xngh2r with config:\n",
      "\u001b[34m\u001b[1mwandb\u001b[0m: \tchannel: 128\n",
      "\u001b[34m\u001b[1mwandb\u001b[0m: \tlearning_rate: 0.05\n",
      "\u001b[34m\u001b[1mwandb\u001b[0m: \tlinear_probe_layer: layer2_5_relu3\n",
      "\u001b[34m\u001b[1mwandb\u001b[0m: \tmodel: RN50x4\n",
      "\u001b[34m\u001b[1mwandb\u001b[0m: \tnum_iterations: 512\n",
      "\u001b[34m\u001b[1mwandb\u001b[0m: \tobjective: neuron\n",
      "\u001b[34m\u001b[1mwandb\u001b[0m: \toptimizer: AdamW\n",
      "\u001b[34m\u001b[1mwandb\u001b[0m: \trandom_seed: 18630595\n",
      "\u001b[34m\u001b[1mwandb\u001b[0m: \tuse_std_transforms: True\n",
      "\u001b[34m\u001b[1mwandb\u001b[0m: \tuse_transforms: True\n",
      "\u001b[34m\u001b[1mwandb\u001b[0m: \tvisualization_layer: layer4_5_conv3\n"
     ]
    },
    {
     "data": {
      "text/html": [
       "Tracking run with wandb version 0.16.0"
      ],
      "text/plain": [
       "<IPython.core.display.HTML object>"
      ]
     },
     "metadata": {},
     "output_type": "display_data"
    },
    {
     "data": {
      "text/html": [
       "Run data is saved locally in <code>/apps/11785-f23-prj/wandb/run-20231204_182204-j9xngh2r</code>"
      ],
      "text/plain": [
       "<IPython.core.display.HTML object>"
      ]
     },
     "metadata": {},
     "output_type": "display_data"
    },
    {
     "data": {
      "text/html": [
       "Syncing run <strong><a href='https://wandb.ai/rohanprasad/idl-project-flowers-facet/runs/j9xngh2r' target=\"_blank\">peach-sweep-27</a></strong> to <a href='https://wandb.ai/rohanprasad/idl-project-flowers-facet' target=\"_blank\">Weights & Biases</a> (<a href='https://wandb.me/run' target=\"_blank\">docs</a>)<br/>Sweep page: <a href='https://wandb.ai/rohanprasad/idl-project-flowers-facet/sweeps/cuq4fdws' target=\"_blank\">https://wandb.ai/rohanprasad/idl-project-flowers-facet/sweeps/cuq4fdws</a>"
      ],
      "text/plain": [
       "<IPython.core.display.HTML object>"
      ]
     },
     "metadata": {},
     "output_type": "display_data"
    },
    {
     "data": {
      "text/html": [
       " View project at <a href='https://wandb.ai/rohanprasad/idl-project-flowers-facet' target=\"_blank\">https://wandb.ai/rohanprasad/idl-project-flowers-facet</a>"
      ],
      "text/plain": [
       "<IPython.core.display.HTML object>"
      ]
     },
     "metadata": {},
     "output_type": "display_data"
    },
    {
     "data": {
      "text/html": [
       " View sweep at <a href='https://wandb.ai/rohanprasad/idl-project-flowers-facet/sweeps/cuq4fdws' target=\"_blank\">https://wandb.ai/rohanprasad/idl-project-flowers-facet/sweeps/cuq4fdws</a>"
      ],
      "text/plain": [
       "<IPython.core.display.HTML object>"
      ]
     },
     "metadata": {},
     "output_type": "display_data"
    },
    {
     "data": {
      "text/html": [
       " View run at <a href='https://wandb.ai/rohanprasad/idl-project-flowers-facet/runs/j9xngh2r' target=\"_blank\">https://wandb.ai/rohanprasad/idl-project-flowers-facet/runs/j9xngh2r</a>"
      ],
      "text/plain": [
       "<IPython.core.display.HTML object>"
      ]
     },
     "metadata": {},
     "output_type": "display_data"
    },
    {
     "name": "stderr",
     "output_type": "stream",
     "text": [
      "2023-12-04 18:22:15,187 [Thread-85 (_] [INFO ]  Starting sweep [ run  j9xngh2r ] with config = \n",
      "{'channel': 128, 'learning_rate': 0.05, 'linear_probe_layer': 'layer2_5_relu3', 'model': 'RN50x4', 'num_iterations': 512, 'objective': 'neuron', 'optimizer': 'AdamW', 'random_seed': 18630595, 'use_std_transforms': True, 'use_transforms': True, 'visualization_layer': 'layer4_5_conv3'}\n",
      "2023-12-04 18:22:15,188 [Thread-85 (_] [INFO ]  Setting random seed to 18630595\n",
      "2023-12-04 18:22:15,190 [Thread-85 (_] [INFO ]  Loading CLIP model [ RN50x4 ].\n",
      "2023-12-04 18:22:19,692 [Thread-85 (_] [INFO ]  Finished loading model [ RN50x4 ]\n",
      "2023-12-04 18:22:19,694 [Thread-85 (_] [INFO ]  Finished loading transforms [ Compose(\n",
      "    Resize(size=288, interpolation=bicubic, max_size=None, antialias=warn)\n",
      "    CenterCrop(size=(288, 288))\n",
      "    Normalize(mean=(0.48145466, 0.4578275, 0.40821073), std=(0.26862954, 0.26130258, 0.27577711))\n",
      ") ]\n",
      "2023-12-04 18:22:19,695 [Thread-85 (_] [INFO ]  Registering hooks.\n",
      "2023-12-04 18:22:19,698 [Thread-85 (_] [INFO ]  Finished registering hooks.\n",
      "2023-12-04 18:22:19,702 [Thread-85 (_] [INFO ]  Retrieving weights of linear probe [ path = /apps/11785-f23-prj/faceted_visualization/probes/logs/flower/RN50x4/layer2_5_relu3/version_4_20/model_checkpoint.pth ]\n",
      "2023-12-04 18:22:19,706 [Thread-85 (_] [INFO ]  Final list of transforms = [Resize(size=288, interpolation=bicubic, max_size=None, antialias=warn), CenterCrop(size=(288, 288)), Normalize(mean=(0.48145466, 0.4578275, 0.40821073), std=(0.26862954, 0.26130258, 0.27577711)), RandomAffine(degrees=[0.0, 0.0], translate=(0.03, 0.03), interpolation=InterpolationMode.NEAREST, fill=0), RandomAffine(degrees=[0.0, 0.0], scale=(0.9, 1.1), interpolation=InterpolationMode.NEAREST, fill=0), RandomRotation(degrees=[-10.0, 10.0], interpolation=InterpolationMode.NEAREST, expand=False, fill=0), RandomAffine(degrees=[0.0, 0.0], translate=(0.015, 0.015), interpolation=InterpolationMode.NEAREST, fill=0)]\n",
      "2023-12-04 18:22:19,707 [Thread-85 (_] [INFO ]  Starting optimization process [ run_id = j9xngh2r ]...\n",
      "/opt/conda/lib/python3.10/site-packages/torchvision/transforms/functional.py:1603: UserWarning: The default value of the antialias parameter of all the resizing transforms (Resize(), RandomResizedCrop(), etc.) will change from None to True in v0.17, in order to be consistent across the PIL and Tensor backends. To suppress this warning, directly pass antialias=True (recommended, future default), antialias=None (current default, which means False for Tensors and True for PIL), or antialias=False (only works on Tensors - PIL will still use antialiasing). This also applies if you are using the inference transforms from the models weights: update the call to weights.transforms(antialias=True).\n",
      "  warnings.warn(\n",
      "2023-12-04 18:22:19,751 [Thread-85 (_] [INFO ]  Epoch: 1/512: Loss = -2.4746094 :: Learning Rate = 0.0500000\n",
      "2023-12-04 18:22:24,574 [Thread-85 (_] [INFO ]  Epoch: 101/512: Loss = -0.6044922 :: Learning Rate = 0.0500000\n",
      "2023-12-04 18:22:29,137 [Thread-85 (_] [INFO ]  Epoch: 201/512: Loss = -3.8476562 :: Learning Rate = 0.0500000\n",
      "2023-12-04 18:22:33,755 [Thread-85 (_] [INFO ]  Epoch: 301/512: Loss = -3.5390625 :: Learning Rate = 0.0500000\n",
      "2023-12-04 18:22:38,346 [Thread-85 (_] [INFO ]  Epoch: 401/512: Loss = 1.5185547 :: Learning Rate = 0.0500000\n",
      "2023-12-04 18:22:42,949 [Thread-85 (_] [INFO ]  Epoch: 501/512: Loss = -2.9492188 :: Learning Rate = 0.0500000\n",
      "2023-12-04 18:22:43,473 [Thread-85 (_] [INFO ]  Epoch: 512/512: Loss = -4.8320312 :: Learning Rate = 0.0500000\n",
      "2023-12-04 18:22:43,497 [Thread-85 (_] [INFO ]  Completed run [ j9xngh2r ]\n"
     ]
    },
    {
     "data": {
      "application/vnd.jupyter.widget-view+json": {
       "model_id": "",
       "version_major": 2,
       "version_minor": 0
      },
      "text/plain": [
       "VBox(children=(Label(value='1.214 MB of 1.214 MB uploaded\\r'), FloatProgress(value=1.0, max=1.0)))"
      ]
     },
     "metadata": {},
     "output_type": "display_data"
    },
    {
     "data": {
      "text/html": [
       "<style>\n",
       "    table.wandb td:nth-child(1) { padding: 0 10px; text-align: left ; width: auto;} td:nth-child(2) {text-align: left ; width: 100%}\n",
       "    .wandb-row { display: flex; flex-direction: row; flex-wrap: wrap; justify-content: flex-start; width: 100% }\n",
       "    .wandb-col { display: flex; flex-direction: column; flex-basis: 100%; flex: 1; padding: 10px; }\n",
       "    </style>\n",
       "<div class=\"wandb-row\"><div class=\"wandb-col\"><h3>Run history:</h3><br/><table class=\"wandb\"><tr><td>loss</td><td>▄▆▂▂█▃▁</td></tr></table><br/></div><div class=\"wandb-col\"><h3>Run summary:</h3><br/><table class=\"wandb\"><tr><td>loss</td><td>-4.83203</td></tr></table><br/></div></div>"
      ],
      "text/plain": [
       "<IPython.core.display.HTML object>"
      ]
     },
     "metadata": {},
     "output_type": "display_data"
    },
    {
     "data": {
      "text/html": [
       " View run <strong style=\"color:#cdcd00\">peach-sweep-27</strong> at: <a href='https://wandb.ai/rohanprasad/idl-project-flowers-facet/runs/j9xngh2r' target=\"_blank\">https://wandb.ai/rohanprasad/idl-project-flowers-facet/runs/j9xngh2r</a><br/>Synced 6 W&B file(s), 7 media file(s), 0 artifact file(s) and 0 other file(s)"
      ],
      "text/plain": [
       "<IPython.core.display.HTML object>"
      ]
     },
     "metadata": {},
     "output_type": "display_data"
    },
    {
     "data": {
      "text/html": [
       "Find logs at: <code>./wandb/run-20231204_182204-j9xngh2r/logs</code>"
      ],
      "text/plain": [
       "<IPython.core.display.HTML object>"
      ]
     },
     "metadata": {},
     "output_type": "display_data"
    },
    {
     "name": "stderr",
     "output_type": "stream",
     "text": [
      "\u001b[34m\u001b[1mwandb\u001b[0m: Agent Starting Run: c26fvx0g with config:\n",
      "\u001b[34m\u001b[1mwandb\u001b[0m: \tchannel: 128\n",
      "\u001b[34m\u001b[1mwandb\u001b[0m: \tlearning_rate: 0.05\n",
      "\u001b[34m\u001b[1mwandb\u001b[0m: \tlinear_probe_layer: layer2_5_relu3\n",
      "\u001b[34m\u001b[1mwandb\u001b[0m: \tmodel: RN50x4\n",
      "\u001b[34m\u001b[1mwandb\u001b[0m: \tnum_iterations: 512\n",
      "\u001b[34m\u001b[1mwandb\u001b[0m: \tobjective: channel\n",
      "\u001b[34m\u001b[1mwandb\u001b[0m: \toptimizer: AdamW\n",
      "\u001b[34m\u001b[1mwandb\u001b[0m: \trandom_seed: 18630595\n",
      "\u001b[34m\u001b[1mwandb\u001b[0m: \tuse_std_transforms: True\n",
      "\u001b[34m\u001b[1mwandb\u001b[0m: \tuse_transforms: True\n",
      "\u001b[34m\u001b[1mwandb\u001b[0m: \tvisualization_layer: layer4_5_conv3\n"
     ]
    },
    {
     "data": {
      "text/html": [
       "Tracking run with wandb version 0.16.0"
      ],
      "text/plain": [
       "<IPython.core.display.HTML object>"
      ]
     },
     "metadata": {},
     "output_type": "display_data"
    },
    {
     "data": {
      "text/html": [
       "Run data is saved locally in <code>/apps/11785-f23-prj/wandb/run-20231204_182250-c26fvx0g</code>"
      ],
      "text/plain": [
       "<IPython.core.display.HTML object>"
      ]
     },
     "metadata": {},
     "output_type": "display_data"
    },
    {
     "data": {
      "text/html": [
       "Syncing run <strong><a href='https://wandb.ai/rohanprasad/idl-project-flowers-facet/runs/c26fvx0g' target=\"_blank\">resilient-sweep-28</a></strong> to <a href='https://wandb.ai/rohanprasad/idl-project-flowers-facet' target=\"_blank\">Weights & Biases</a> (<a href='https://wandb.me/run' target=\"_blank\">docs</a>)<br/>Sweep page: <a href='https://wandb.ai/rohanprasad/idl-project-flowers-facet/sweeps/cuq4fdws' target=\"_blank\">https://wandb.ai/rohanprasad/idl-project-flowers-facet/sweeps/cuq4fdws</a>"
      ],
      "text/plain": [
       "<IPython.core.display.HTML object>"
      ]
     },
     "metadata": {},
     "output_type": "display_data"
    },
    {
     "data": {
      "text/html": [
       " View project at <a href='https://wandb.ai/rohanprasad/idl-project-flowers-facet' target=\"_blank\">https://wandb.ai/rohanprasad/idl-project-flowers-facet</a>"
      ],
      "text/plain": [
       "<IPython.core.display.HTML object>"
      ]
     },
     "metadata": {},
     "output_type": "display_data"
    },
    {
     "data": {
      "text/html": [
       " View sweep at <a href='https://wandb.ai/rohanprasad/idl-project-flowers-facet/sweeps/cuq4fdws' target=\"_blank\">https://wandb.ai/rohanprasad/idl-project-flowers-facet/sweeps/cuq4fdws</a>"
      ],
      "text/plain": [
       "<IPython.core.display.HTML object>"
      ]
     },
     "metadata": {},
     "output_type": "display_data"
    },
    {
     "data": {
      "text/html": [
       " View run at <a href='https://wandb.ai/rohanprasad/idl-project-flowers-facet/runs/c26fvx0g' target=\"_blank\">https://wandb.ai/rohanprasad/idl-project-flowers-facet/runs/c26fvx0g</a>"
      ],
      "text/plain": [
       "<IPython.core.display.HTML object>"
      ]
     },
     "metadata": {},
     "output_type": "display_data"
    },
    {
     "name": "stderr",
     "output_type": "stream",
     "text": [
      "2023-12-04 18:23:00,261 [Thread-88 (_] [INFO ]  Starting sweep [ run  c26fvx0g ] with config = \n",
      "{'channel': 128, 'learning_rate': 0.05, 'linear_probe_layer': 'layer2_5_relu3', 'model': 'RN50x4', 'num_iterations': 512, 'objective': 'channel', 'optimizer': 'AdamW', 'random_seed': 18630595, 'use_std_transforms': True, 'use_transforms': True, 'visualization_layer': 'layer4_5_conv3'}\n",
      "2023-12-04 18:23:00,263 [Thread-88 (_] [INFO ]  Setting random seed to 18630595\n",
      "2023-12-04 18:23:00,265 [Thread-88 (_] [INFO ]  Loading CLIP model [ RN50x4 ].\n",
      "2023-12-04 18:23:04,999 [Thread-88 (_] [INFO ]  Finished loading model [ RN50x4 ]\n",
      "2023-12-04 18:23:05,000 [Thread-88 (_] [INFO ]  Finished loading transforms [ Compose(\n",
      "    Resize(size=288, interpolation=bicubic, max_size=None, antialias=warn)\n",
      "    CenterCrop(size=(288, 288))\n",
      "    Normalize(mean=(0.48145466, 0.4578275, 0.40821073), std=(0.26862954, 0.26130258, 0.27577711))\n",
      ") ]\n",
      "2023-12-04 18:23:05,001 [Thread-88 (_] [INFO ]  Registering hooks.\n",
      "2023-12-04 18:23:05,004 [Thread-88 (_] [INFO ]  Finished registering hooks.\n",
      "2023-12-04 18:23:05,008 [Thread-88 (_] [INFO ]  Retrieving weights of linear probe [ path = /apps/11785-f23-prj/faceted_visualization/probes/logs/flower/RN50x4/layer2_5_relu3/version_4_20/model_checkpoint.pth ]\n",
      "2023-12-04 18:23:05,012 [Thread-88 (_] [INFO ]  Final list of transforms = [Resize(size=288, interpolation=bicubic, max_size=None, antialias=warn), CenterCrop(size=(288, 288)), Normalize(mean=(0.48145466, 0.4578275, 0.40821073), std=(0.26862954, 0.26130258, 0.27577711)), RandomAffine(degrees=[0.0, 0.0], translate=(0.03, 0.03), interpolation=InterpolationMode.NEAREST, fill=0), RandomAffine(degrees=[0.0, 0.0], scale=(0.9, 1.1), interpolation=InterpolationMode.NEAREST, fill=0), RandomRotation(degrees=[-10.0, 10.0], interpolation=InterpolationMode.NEAREST, expand=False, fill=0), RandomAffine(degrees=[0.0, 0.0], translate=(0.015, 0.015), interpolation=InterpolationMode.NEAREST, fill=0)]\n",
      "2023-12-04 18:23:05,014 [Thread-88 (_] [INFO ]  Starting optimization process [ run_id = c26fvx0g ]...\n",
      "/opt/conda/lib/python3.10/site-packages/torchvision/transforms/functional.py:1603: UserWarning: The default value of the antialias parameter of all the resizing transforms (Resize(), RandomResizedCrop(), etc.) will change from None to True in v0.17, in order to be consistent across the PIL and Tensor backends. To suppress this warning, directly pass antialias=True (recommended, future default), antialias=None (current default, which means False for Tensors and True for PIL), or antialias=False (only works on Tensors - PIL will still use antialiasing). This also applies if you are using the inference transforms from the models weights: update the call to weights.transforms(antialias=True).\n",
      "  warnings.warn(\n",
      "2023-12-04 18:23:05,059 [Thread-88 (_] [INFO ]  Epoch: 1/512: Loss = -2.5214844 :: Learning Rate = 0.0500000\n",
      "2023-12-04 18:23:09,999 [Thread-88 (_] [INFO ]  Epoch: 101/512: Loss = -3.1972656 :: Learning Rate = 0.0500000\n",
      "2023-12-04 18:23:14,776 [Thread-88 (_] [INFO ]  Epoch: 201/512: Loss = -0.5839844 :: Learning Rate = 0.0500000\n",
      "2023-12-04 18:23:19,351 [Thread-88 (_] [INFO ]  Epoch: 301/512: Loss = -1.5781250 :: Learning Rate = 0.0500000\n",
      "2023-12-04 18:23:23,991 [Thread-88 (_] [INFO ]  Epoch: 401/512: Loss = -0.6870117 :: Learning Rate = 0.0500000\n",
      "2023-12-04 18:23:28,586 [Thread-88 (_] [INFO ]  Epoch: 501/512: Loss = 0.7519531 :: Learning Rate = 0.0500000\n",
      "2023-12-04 18:23:29,155 [Thread-88 (_] [INFO ]  Epoch: 512/512: Loss = -1.4921875 :: Learning Rate = 0.0500000\n",
      "2023-12-04 18:23:29,181 [Thread-88 (_] [INFO ]  Completed run [ c26fvx0g ]\n"
     ]
    },
    {
     "data": {
      "application/vnd.jupyter.widget-view+json": {
       "model_id": "",
       "version_major": 2,
       "version_minor": 0
      },
      "text/plain": [
       "VBox(children=(Label(value='1.214 MB of 1.214 MB uploaded\\r'), FloatProgress(value=1.0, max=1.0)))"
      ]
     },
     "metadata": {},
     "output_type": "display_data"
    },
    {
     "data": {
      "text/html": [
       "<style>\n",
       "    table.wandb td:nth-child(1) { padding: 0 10px; text-align: left ; width: auto;} td:nth-child(2) {text-align: left ; width: 100%}\n",
       "    .wandb-row { display: flex; flex-direction: row; flex-wrap: wrap; justify-content: flex-start; width: 100% }\n",
       "    .wandb-col { display: flex; flex-direction: column; flex-basis: 100%; flex: 1; padding: 10px; }\n",
       "    </style>\n",
       "<div class=\"wandb-row\"><div class=\"wandb-col\"><h3>Run history:</h3><br/><table class=\"wandb\"><tr><td>loss</td><td>▂▁▆▄▅█▄</td></tr></table><br/></div><div class=\"wandb-col\"><h3>Run summary:</h3><br/><table class=\"wandb\"><tr><td>loss</td><td>-1.49219</td></tr></table><br/></div></div>"
      ],
      "text/plain": [
       "<IPython.core.display.HTML object>"
      ]
     },
     "metadata": {},
     "output_type": "display_data"
    },
    {
     "data": {
      "text/html": [
       " View run <strong style=\"color:#cdcd00\">resilient-sweep-28</strong> at: <a href='https://wandb.ai/rohanprasad/idl-project-flowers-facet/runs/c26fvx0g' target=\"_blank\">https://wandb.ai/rohanprasad/idl-project-flowers-facet/runs/c26fvx0g</a><br/>Synced 6 W&B file(s), 7 media file(s), 0 artifact file(s) and 0 other file(s)"
      ],
      "text/plain": [
       "<IPython.core.display.HTML object>"
      ]
     },
     "metadata": {},
     "output_type": "display_data"
    },
    {
     "data": {
      "text/html": [
       "Find logs at: <code>./wandb/run-20231204_182250-c26fvx0g/logs</code>"
      ],
      "text/plain": [
       "<IPython.core.display.HTML object>"
      ]
     },
     "metadata": {},
     "output_type": "display_data"
    },
    {
     "name": "stderr",
     "output_type": "stream",
     "text": [
      "\u001b[34m\u001b[1mwandb\u001b[0m: Agent Starting Run: ndp762le with config:\n",
      "\u001b[34m\u001b[1mwandb\u001b[0m: \tchannel: 128\n",
      "\u001b[34m\u001b[1mwandb\u001b[0m: \tlearning_rate: 0.05\n",
      "\u001b[34m\u001b[1mwandb\u001b[0m: \tlinear_probe_layer: layer3_9_conv3\n",
      "\u001b[34m\u001b[1mwandb\u001b[0m: \tmodel: RN50x4\n",
      "\u001b[34m\u001b[1mwandb\u001b[0m: \tnum_iterations: 512\n",
      "\u001b[34m\u001b[1mwandb\u001b[0m: \tobjective: neuron\n",
      "\u001b[34m\u001b[1mwandb\u001b[0m: \toptimizer: AdamW\n",
      "\u001b[34m\u001b[1mwandb\u001b[0m: \trandom_seed: 18630595\n",
      "\u001b[34m\u001b[1mwandb\u001b[0m: \tuse_std_transforms: True\n",
      "\u001b[34m\u001b[1mwandb\u001b[0m: \tuse_transforms: True\n",
      "\u001b[34m\u001b[1mwandb\u001b[0m: \tvisualization_layer: layer4_5_conv3\n"
     ]
    },
    {
     "data": {
      "text/html": [
       "Tracking run with wandb version 0.16.0"
      ],
      "text/plain": [
       "<IPython.core.display.HTML object>"
      ]
     },
     "metadata": {},
     "output_type": "display_data"
    },
    {
     "data": {
      "text/html": [
       "Run data is saved locally in <code>/apps/11785-f23-prj/wandb/run-20231204_182336-ndp762le</code>"
      ],
      "text/plain": [
       "<IPython.core.display.HTML object>"
      ]
     },
     "metadata": {},
     "output_type": "display_data"
    },
    {
     "data": {
      "text/html": [
       "Syncing run <strong><a href='https://wandb.ai/rohanprasad/idl-project-flowers-facet/runs/ndp762le' target=\"_blank\">distinctive-sweep-29</a></strong> to <a href='https://wandb.ai/rohanprasad/idl-project-flowers-facet' target=\"_blank\">Weights & Biases</a> (<a href='https://wandb.me/run' target=\"_blank\">docs</a>)<br/>Sweep page: <a href='https://wandb.ai/rohanprasad/idl-project-flowers-facet/sweeps/cuq4fdws' target=\"_blank\">https://wandb.ai/rohanprasad/idl-project-flowers-facet/sweeps/cuq4fdws</a>"
      ],
      "text/plain": [
       "<IPython.core.display.HTML object>"
      ]
     },
     "metadata": {},
     "output_type": "display_data"
    },
    {
     "data": {
      "text/html": [
       " View project at <a href='https://wandb.ai/rohanprasad/idl-project-flowers-facet' target=\"_blank\">https://wandb.ai/rohanprasad/idl-project-flowers-facet</a>"
      ],
      "text/plain": [
       "<IPython.core.display.HTML object>"
      ]
     },
     "metadata": {},
     "output_type": "display_data"
    },
    {
     "data": {
      "text/html": [
       " View sweep at <a href='https://wandb.ai/rohanprasad/idl-project-flowers-facet/sweeps/cuq4fdws' target=\"_blank\">https://wandb.ai/rohanprasad/idl-project-flowers-facet/sweeps/cuq4fdws</a>"
      ],
      "text/plain": [
       "<IPython.core.display.HTML object>"
      ]
     },
     "metadata": {},
     "output_type": "display_data"
    },
    {
     "data": {
      "text/html": [
       " View run at <a href='https://wandb.ai/rohanprasad/idl-project-flowers-facet/runs/ndp762le' target=\"_blank\">https://wandb.ai/rohanprasad/idl-project-flowers-facet/runs/ndp762le</a>"
      ],
      "text/plain": [
       "<IPython.core.display.HTML object>"
      ]
     },
     "metadata": {},
     "output_type": "display_data"
    },
    {
     "name": "stderr",
     "output_type": "stream",
     "text": [
      "2023-12-04 18:23:46,376 [Thread-91 (_] [INFO ]  Starting sweep [ run  ndp762le ] with config = \n",
      "{'channel': 128, 'learning_rate': 0.05, 'linear_probe_layer': 'layer3_9_conv3', 'model': 'RN50x4', 'num_iterations': 512, 'objective': 'neuron', 'optimizer': 'AdamW', 'random_seed': 18630595, 'use_std_transforms': True, 'use_transforms': True, 'visualization_layer': 'layer4_5_conv3'}\n",
      "2023-12-04 18:23:46,377 [Thread-91 (_] [INFO ]  Setting random seed to 18630595\n",
      "2023-12-04 18:23:46,379 [Thread-91 (_] [INFO ]  Loading CLIP model [ RN50x4 ].\n",
      "2023-12-04 18:23:50,905 [Thread-91 (_] [INFO ]  Finished loading model [ RN50x4 ]\n",
      "2023-12-04 18:23:50,907 [Thread-91 (_] [INFO ]  Finished loading transforms [ Compose(\n",
      "    Resize(size=288, interpolation=bicubic, max_size=None, antialias=warn)\n",
      "    CenterCrop(size=(288, 288))\n",
      "    Normalize(mean=(0.48145466, 0.4578275, 0.40821073), std=(0.26862954, 0.26130258, 0.27577711))\n",
      ") ]\n",
      "2023-12-04 18:23:50,908 [Thread-91 (_] [INFO ]  Registering hooks.\n",
      "2023-12-04 18:23:50,911 [Thread-91 (_] [INFO ]  Finished registering hooks.\n",
      "2023-12-04 18:23:50,915 [Thread-91 (_] [INFO ]  Retrieving weights of linear probe [ path = /apps/11785-f23-prj/faceted_visualization/probes/logs/flower/RN50x4/layer3_9_conv3/version_4_20/model_checkpoint.pth ]\n",
      "2023-12-04 18:23:50,918 [Thread-91 (_] [INFO ]  Final list of transforms = [Resize(size=288, interpolation=bicubic, max_size=None, antialias=warn), CenterCrop(size=(288, 288)), Normalize(mean=(0.48145466, 0.4578275, 0.40821073), std=(0.26862954, 0.26130258, 0.27577711)), RandomAffine(degrees=[0.0, 0.0], translate=(0.03, 0.03), interpolation=InterpolationMode.NEAREST, fill=0), RandomAffine(degrees=[0.0, 0.0], scale=(0.9, 1.1), interpolation=InterpolationMode.NEAREST, fill=0), RandomRotation(degrees=[-10.0, 10.0], interpolation=InterpolationMode.NEAREST, expand=False, fill=0), RandomAffine(degrees=[0.0, 0.0], translate=(0.015, 0.015), interpolation=InterpolationMode.NEAREST, fill=0)]\n",
      "2023-12-04 18:23:50,919 [Thread-91 (_] [INFO ]  Starting optimization process [ run_id = ndp762le ]...\n",
      "/opt/conda/lib/python3.10/site-packages/torchvision/transforms/functional.py:1603: UserWarning: The default value of the antialias parameter of all the resizing transforms (Resize(), RandomResizedCrop(), etc.) will change from None to True in v0.17, in order to be consistent across the PIL and Tensor backends. To suppress this warning, directly pass antialias=True (recommended, future default), antialias=None (current default, which means False for Tensors and True for PIL), or antialias=False (only works on Tensors - PIL will still use antialiasing). This also applies if you are using the inference transforms from the models weights: update the call to weights.transforms(antialias=True).\n",
      "  warnings.warn(\n",
      "2023-12-04 18:23:50,958 [Thread-91 (_] [INFO ]  Epoch: 1/512: Loss = 0.1162720 :: Learning Rate = 0.0500000\n",
      "2023-12-04 18:23:55,467 [Thread-91 (_] [INFO ]  Epoch: 101/512: Loss = -0.3718262 :: Learning Rate = 0.0500000\n",
      "2023-12-04 18:23:59,756 [Thread-91 (_] [INFO ]  Epoch: 201/512: Loss = -0.3874512 :: Learning Rate = 0.0500000\n",
      "2023-12-04 18:24:03,933 [Thread-91 (_] [INFO ]  Epoch: 301/512: Loss = -0.5424805 :: Learning Rate = 0.0500000\n",
      "2023-12-04 18:24:08,027 [Thread-91 (_] [INFO ]  Epoch: 401/512: Loss = -0.6640625 :: Learning Rate = 0.0500000\n",
      "2023-12-04 18:24:12,287 [Thread-91 (_] [INFO ]  Epoch: 501/512: Loss = -0.6059570 :: Learning Rate = 0.0500000\n",
      "2023-12-04 18:24:12,761 [Thread-91 (_] [INFO ]  Epoch: 512/512: Loss = -0.7006836 :: Learning Rate = 0.0500000\n",
      "2023-12-04 18:24:12,785 [Thread-91 (_] [INFO ]  Completed run [ ndp762le ]\n"
     ]
    },
    {
     "data": {
      "application/vnd.jupyter.widget-view+json": {
       "model_id": "",
       "version_major": 2,
       "version_minor": 0
      },
      "text/plain": [
       "VBox(children=(Label(value='1.202 MB of 1.202 MB uploaded\\r'), FloatProgress(value=1.0, max=1.0)))"
      ]
     },
     "metadata": {},
     "output_type": "display_data"
    },
    {
     "data": {
      "text/html": [
       "<style>\n",
       "    table.wandb td:nth-child(1) { padding: 0 10px; text-align: left ; width: auto;} td:nth-child(2) {text-align: left ; width: 100%}\n",
       "    .wandb-row { display: flex; flex-direction: row; flex-wrap: wrap; justify-content: flex-start; width: 100% }\n",
       "    .wandb-col { display: flex; flex-direction: column; flex-basis: 100%; flex: 1; padding: 10px; }\n",
       "    </style>\n",
       "<div class=\"wandb-row\"><div class=\"wandb-col\"><h3>Run history:</h3><br/><table class=\"wandb\"><tr><td>loss</td><td>█▄▄▂▁▂▁</td></tr></table><br/></div><div class=\"wandb-col\"><h3>Run summary:</h3><br/><table class=\"wandb\"><tr><td>loss</td><td>-0.70068</td></tr></table><br/></div></div>"
      ],
      "text/plain": [
       "<IPython.core.display.HTML object>"
      ]
     },
     "metadata": {},
     "output_type": "display_data"
    },
    {
     "data": {
      "text/html": [
       " View run <strong style=\"color:#cdcd00\">distinctive-sweep-29</strong> at: <a href='https://wandb.ai/rohanprasad/idl-project-flowers-facet/runs/ndp762le' target=\"_blank\">https://wandb.ai/rohanprasad/idl-project-flowers-facet/runs/ndp762le</a><br/>Synced 6 W&B file(s), 7 media file(s), 0 artifact file(s) and 0 other file(s)"
      ],
      "text/plain": [
       "<IPython.core.display.HTML object>"
      ]
     },
     "metadata": {},
     "output_type": "display_data"
    },
    {
     "data": {
      "text/html": [
       "Find logs at: <code>./wandb/run-20231204_182336-ndp762le/logs</code>"
      ],
      "text/plain": [
       "<IPython.core.display.HTML object>"
      ]
     },
     "metadata": {},
     "output_type": "display_data"
    },
    {
     "name": "stderr",
     "output_type": "stream",
     "text": [
      "\u001b[34m\u001b[1mwandb\u001b[0m: Agent Starting Run: icyr6zgo with config:\n",
      "\u001b[34m\u001b[1mwandb\u001b[0m: \tchannel: 128\n",
      "\u001b[34m\u001b[1mwandb\u001b[0m: \tlearning_rate: 0.05\n",
      "\u001b[34m\u001b[1mwandb\u001b[0m: \tlinear_probe_layer: layer3_9_conv3\n",
      "\u001b[34m\u001b[1mwandb\u001b[0m: \tmodel: RN50x4\n",
      "\u001b[34m\u001b[1mwandb\u001b[0m: \tnum_iterations: 512\n",
      "\u001b[34m\u001b[1mwandb\u001b[0m: \tobjective: channel\n",
      "\u001b[34m\u001b[1mwandb\u001b[0m: \toptimizer: AdamW\n",
      "\u001b[34m\u001b[1mwandb\u001b[0m: \trandom_seed: 18630595\n",
      "\u001b[34m\u001b[1mwandb\u001b[0m: \tuse_std_transforms: True\n",
      "\u001b[34m\u001b[1mwandb\u001b[0m: \tuse_transforms: True\n",
      "\u001b[34m\u001b[1mwandb\u001b[0m: \tvisualization_layer: layer4_5_conv3\n"
     ]
    },
    {
     "data": {
      "text/html": [
       "Tracking run with wandb version 0.16.0"
      ],
      "text/plain": [
       "<IPython.core.display.HTML object>"
      ]
     },
     "metadata": {},
     "output_type": "display_data"
    },
    {
     "data": {
      "text/html": [
       "Run data is saved locally in <code>/apps/11785-f23-prj/wandb/run-20231204_182422-icyr6zgo</code>"
      ],
      "text/plain": [
       "<IPython.core.display.HTML object>"
      ]
     },
     "metadata": {},
     "output_type": "display_data"
    },
    {
     "data": {
      "text/html": [
       "Syncing run <strong><a href='https://wandb.ai/rohanprasad/idl-project-flowers-facet/runs/icyr6zgo' target=\"_blank\">firm-sweep-30</a></strong> to <a href='https://wandb.ai/rohanprasad/idl-project-flowers-facet' target=\"_blank\">Weights & Biases</a> (<a href='https://wandb.me/run' target=\"_blank\">docs</a>)<br/>Sweep page: <a href='https://wandb.ai/rohanprasad/idl-project-flowers-facet/sweeps/cuq4fdws' target=\"_blank\">https://wandb.ai/rohanprasad/idl-project-flowers-facet/sweeps/cuq4fdws</a>"
      ],
      "text/plain": [
       "<IPython.core.display.HTML object>"
      ]
     },
     "metadata": {},
     "output_type": "display_data"
    },
    {
     "data": {
      "text/html": [
       " View project at <a href='https://wandb.ai/rohanprasad/idl-project-flowers-facet' target=\"_blank\">https://wandb.ai/rohanprasad/idl-project-flowers-facet</a>"
      ],
      "text/plain": [
       "<IPython.core.display.HTML object>"
      ]
     },
     "metadata": {},
     "output_type": "display_data"
    },
    {
     "data": {
      "text/html": [
       " View sweep at <a href='https://wandb.ai/rohanprasad/idl-project-flowers-facet/sweeps/cuq4fdws' target=\"_blank\">https://wandb.ai/rohanprasad/idl-project-flowers-facet/sweeps/cuq4fdws</a>"
      ],
      "text/plain": [
       "<IPython.core.display.HTML object>"
      ]
     },
     "metadata": {},
     "output_type": "display_data"
    },
    {
     "data": {
      "text/html": [
       " View run at <a href='https://wandb.ai/rohanprasad/idl-project-flowers-facet/runs/icyr6zgo' target=\"_blank\">https://wandb.ai/rohanprasad/idl-project-flowers-facet/runs/icyr6zgo</a>"
      ],
      "text/plain": [
       "<IPython.core.display.HTML object>"
      ]
     },
     "metadata": {},
     "output_type": "display_data"
    },
    {
     "name": "stderr",
     "output_type": "stream",
     "text": [
      "2023-12-04 18:24:32,381 [Thread-94 (_] [INFO ]  Starting sweep [ run  icyr6zgo ] with config = \n",
      "{'channel': 128, 'learning_rate': 0.05, 'linear_probe_layer': 'layer3_9_conv3', 'model': 'RN50x4', 'num_iterations': 512, 'objective': 'channel', 'optimizer': 'AdamW', 'random_seed': 18630595, 'use_std_transforms': True, 'use_transforms': True, 'visualization_layer': 'layer4_5_conv3'}\n",
      "2023-12-04 18:24:32,382 [Thread-94 (_] [INFO ]  Setting random seed to 18630595\n",
      "2023-12-04 18:24:32,383 [Thread-94 (_] [INFO ]  Loading CLIP model [ RN50x4 ].\n",
      "2023-12-04 18:24:36,944 [Thread-94 (_] [INFO ]  Finished loading model [ RN50x4 ]\n",
      "2023-12-04 18:24:36,946 [Thread-94 (_] [INFO ]  Finished loading transforms [ Compose(\n",
      "    Resize(size=288, interpolation=bicubic, max_size=None, antialias=warn)\n",
      "    CenterCrop(size=(288, 288))\n",
      "    Normalize(mean=(0.48145466, 0.4578275, 0.40821073), std=(0.26862954, 0.26130258, 0.27577711))\n",
      ") ]\n",
      "2023-12-04 18:24:36,948 [Thread-94 (_] [INFO ]  Registering hooks.\n",
      "2023-12-04 18:24:36,951 [Thread-94 (_] [INFO ]  Finished registering hooks.\n",
      "2023-12-04 18:24:36,955 [Thread-94 (_] [INFO ]  Retrieving weights of linear probe [ path = /apps/11785-f23-prj/faceted_visualization/probes/logs/flower/RN50x4/layer3_9_conv3/version_4_20/model_checkpoint.pth ]\n",
      "2023-12-04 18:24:36,958 [Thread-94 (_] [INFO ]  Final list of transforms = [Resize(size=288, interpolation=bicubic, max_size=None, antialias=warn), CenterCrop(size=(288, 288)), Normalize(mean=(0.48145466, 0.4578275, 0.40821073), std=(0.26862954, 0.26130258, 0.27577711)), RandomAffine(degrees=[0.0, 0.0], translate=(0.03, 0.03), interpolation=InterpolationMode.NEAREST, fill=0), RandomAffine(degrees=[0.0, 0.0], scale=(0.9, 1.1), interpolation=InterpolationMode.NEAREST, fill=0), RandomRotation(degrees=[-10.0, 10.0], interpolation=InterpolationMode.NEAREST, expand=False, fill=0), RandomAffine(degrees=[0.0, 0.0], translate=(0.015, 0.015), interpolation=InterpolationMode.NEAREST, fill=0)]\n",
      "2023-12-04 18:24:36,960 [Thread-94 (_] [INFO ]  Starting optimization process [ run_id = icyr6zgo ]...\n",
      "/opt/conda/lib/python3.10/site-packages/torchvision/transforms/functional.py:1603: UserWarning: The default value of the antialias parameter of all the resizing transforms (Resize(), RandomResizedCrop(), etc.) will change from None to True in v0.17, in order to be consistent across the PIL and Tensor backends. To suppress this warning, directly pass antialias=True (recommended, future default), antialias=None (current default, which means False for Tensors and True for PIL), or antialias=False (only works on Tensors - PIL will still use antialiasing). This also applies if you are using the inference transforms from the models weights: update the call to weights.transforms(antialias=True).\n",
      "  warnings.warn(\n",
      "2023-12-04 18:24:37,002 [Thread-94 (_] [INFO ]  Epoch: 1/512: Loss = 0.0703125 :: Learning Rate = 0.0500000\n",
      "2023-12-04 18:24:41,245 [Thread-94 (_] [INFO ]  Epoch: 101/512: Loss = -0.1495361 :: Learning Rate = 0.0500000\n",
      "2023-12-04 18:24:45,584 [Thread-94 (_] [INFO ]  Epoch: 201/512: Loss = -0.2078857 :: Learning Rate = 0.0500000\n",
      "2023-12-04 18:24:49,820 [Thread-94 (_] [INFO ]  Epoch: 301/512: Loss = -0.2175293 :: Learning Rate = 0.0500000\n",
      "2023-12-04 18:24:53,956 [Thread-94 (_] [INFO ]  Epoch: 401/512: Loss = -0.2653809 :: Learning Rate = 0.0500000\n",
      "2023-12-04 18:24:58,060 [Thread-94 (_] [INFO ]  Epoch: 501/512: Loss = -0.2363281 :: Learning Rate = 0.0500000\n",
      "2023-12-04 18:24:58,534 [Thread-94 (_] [INFO ]  Epoch: 512/512: Loss = -0.3225098 :: Learning Rate = 0.0500000\n",
      "2023-12-04 18:24:58,558 [Thread-94 (_] [INFO ]  Completed run [ icyr6zgo ]\n"
     ]
    },
    {
     "data": {
      "application/vnd.jupyter.widget-view+json": {
       "model_id": "",
       "version_major": 2,
       "version_minor": 0
      },
      "text/plain": [
       "VBox(children=(Label(value='1.256 MB of 1.256 MB uploaded\\r'), FloatProgress(value=1.0, max=1.0)))"
      ]
     },
     "metadata": {},
     "output_type": "display_data"
    },
    {
     "data": {
      "text/html": [
       "<style>\n",
       "    table.wandb td:nth-child(1) { padding: 0 10px; text-align: left ; width: auto;} td:nth-child(2) {text-align: left ; width: 100%}\n",
       "    .wandb-row { display: flex; flex-direction: row; flex-wrap: wrap; justify-content: flex-start; width: 100% }\n",
       "    .wandb-col { display: flex; flex-direction: column; flex-basis: 100%; flex: 1; padding: 10px; }\n",
       "    </style>\n",
       "<div class=\"wandb-row\"><div class=\"wandb-col\"><h3>Run history:</h3><br/><table class=\"wandb\"><tr><td>loss</td><td>█▄▃▃▂▃▁</td></tr></table><br/></div><div class=\"wandb-col\"><h3>Run summary:</h3><br/><table class=\"wandb\"><tr><td>loss</td><td>-0.32251</td></tr></table><br/></div></div>"
      ],
      "text/plain": [
       "<IPython.core.display.HTML object>"
      ]
     },
     "metadata": {},
     "output_type": "display_data"
    },
    {
     "data": {
      "text/html": [
       " View run <strong style=\"color:#cdcd00\">firm-sweep-30</strong> at: <a href='https://wandb.ai/rohanprasad/idl-project-flowers-facet/runs/icyr6zgo' target=\"_blank\">https://wandb.ai/rohanprasad/idl-project-flowers-facet/runs/icyr6zgo</a><br/>Synced 6 W&B file(s), 7 media file(s), 0 artifact file(s) and 0 other file(s)"
      ],
      "text/plain": [
       "<IPython.core.display.HTML object>"
      ]
     },
     "metadata": {},
     "output_type": "display_data"
    },
    {
     "data": {
      "text/html": [
       "Find logs at: <code>./wandb/run-20231204_182422-icyr6zgo/logs</code>"
      ],
      "text/plain": [
       "<IPython.core.display.HTML object>"
      ]
     },
     "metadata": {},
     "output_type": "display_data"
    },
    {
     "name": "stderr",
     "output_type": "stream",
     "text": [
      "\u001b[34m\u001b[1mwandb\u001b[0m: Sweep Agent: Waiting for job.\n",
      "502 response executing GraphQL.\n",
      "\n",
      "<html><head>\n",
      "<meta http-equiv=\"content-type\" content=\"text/html;charset=utf-8\">\n",
      "<title>502 Server Error</title>\n",
      "</head>\n",
      "<body text=#000000 bgcolor=#ffffff>\n",
      "<h1>Error: Server Error</h1>\n",
      "<h2>The server encountered a temporary error and could not complete your request.<p>Please try again in 30 seconds.</h2>\n",
      "<h2></h2>\n",
      "</body></html>\n",
      "\n",
      "\u001b[34m\u001b[1mwandb\u001b[0m: Job received.\n",
      "\u001b[34m\u001b[1mwandb\u001b[0m: Agent Starting Run: tq1hml3v with config:\n",
      "\u001b[34m\u001b[1mwandb\u001b[0m: \tchannel: 128\n",
      "\u001b[34m\u001b[1mwandb\u001b[0m: \tlearning_rate: 0.05\n",
      "\u001b[34m\u001b[1mwandb\u001b[0m: \tlinear_probe_layer: layer3_9_relu3\n",
      "\u001b[34m\u001b[1mwandb\u001b[0m: \tmodel: RN50x4\n",
      "\u001b[34m\u001b[1mwandb\u001b[0m: \tnum_iterations: 512\n",
      "\u001b[34m\u001b[1mwandb\u001b[0m: \tobjective: neuron\n",
      "\u001b[34m\u001b[1mwandb\u001b[0m: \toptimizer: AdamW\n",
      "\u001b[34m\u001b[1mwandb\u001b[0m: \trandom_seed: 18630595\n",
      "\u001b[34m\u001b[1mwandb\u001b[0m: \tuse_std_transforms: True\n",
      "\u001b[34m\u001b[1mwandb\u001b[0m: \tuse_transforms: True\n",
      "\u001b[34m\u001b[1mwandb\u001b[0m: \tvisualization_layer: layer4_5_conv3\n"
     ]
    },
    {
     "data": {
      "text/html": [
       "Tracking run with wandb version 0.16.0"
      ],
      "text/plain": [
       "<IPython.core.display.HTML object>"
      ]
     },
     "metadata": {},
     "output_type": "display_data"
    },
    {
     "data": {
      "text/html": [
       "Run data is saved locally in <code>/apps/11785-f23-prj/wandb/run-20231204_182606-tq1hml3v</code>"
      ],
      "text/plain": [
       "<IPython.core.display.HTML object>"
      ]
     },
     "metadata": {},
     "output_type": "display_data"
    },
    {
     "data": {
      "text/html": [
       "Syncing run <strong><a href='https://wandb.ai/rohanprasad/idl-project-flowers-facet/runs/tq1hml3v' target=\"_blank\">stilted-sweep-31</a></strong> to <a href='https://wandb.ai/rohanprasad/idl-project-flowers-facet' target=\"_blank\">Weights & Biases</a> (<a href='https://wandb.me/run' target=\"_blank\">docs</a>)<br/>Sweep page: <a href='https://wandb.ai/rohanprasad/idl-project-flowers-facet/sweeps/cuq4fdws' target=\"_blank\">https://wandb.ai/rohanprasad/idl-project-flowers-facet/sweeps/cuq4fdws</a>"
      ],
      "text/plain": [
       "<IPython.core.display.HTML object>"
      ]
     },
     "metadata": {},
     "output_type": "display_data"
    },
    {
     "data": {
      "text/html": [
       " View project at <a href='https://wandb.ai/rohanprasad/idl-project-flowers-facet' target=\"_blank\">https://wandb.ai/rohanprasad/idl-project-flowers-facet</a>"
      ],
      "text/plain": [
       "<IPython.core.display.HTML object>"
      ]
     },
     "metadata": {},
     "output_type": "display_data"
    },
    {
     "data": {
      "text/html": [
       " View sweep at <a href='https://wandb.ai/rohanprasad/idl-project-flowers-facet/sweeps/cuq4fdws' target=\"_blank\">https://wandb.ai/rohanprasad/idl-project-flowers-facet/sweeps/cuq4fdws</a>"
      ],
      "text/plain": [
       "<IPython.core.display.HTML object>"
      ]
     },
     "metadata": {},
     "output_type": "display_data"
    },
    {
     "data": {
      "text/html": [
       " View run at <a href='https://wandb.ai/rohanprasad/idl-project-flowers-facet/runs/tq1hml3v' target=\"_blank\">https://wandb.ai/rohanprasad/idl-project-flowers-facet/runs/tq1hml3v</a>"
      ],
      "text/plain": [
       "<IPython.core.display.HTML object>"
      ]
     },
     "metadata": {},
     "output_type": "display_data"
    },
    {
     "name": "stderr",
     "output_type": "stream",
     "text": [
      "2023-12-04 18:26:16,857 [Thread-97 (_] [INFO ]  Starting sweep [ run  tq1hml3v ] with config = \n",
      "{'channel': 128, 'learning_rate': 0.05, 'linear_probe_layer': 'layer3_9_relu3', 'model': 'RN50x4', 'num_iterations': 512, 'objective': 'neuron', 'optimizer': 'AdamW', 'random_seed': 18630595, 'use_std_transforms': True, 'use_transforms': True, 'visualization_layer': 'layer4_5_conv3'}\n",
      "2023-12-04 18:26:16,858 [Thread-97 (_] [INFO ]  Setting random seed to 18630595\n",
      "2023-12-04 18:26:16,860 [Thread-97 (_] [INFO ]  Loading CLIP model [ RN50x4 ].\n",
      "2023-12-04 18:26:21,320 [Thread-97 (_] [INFO ]  Finished loading model [ RN50x4 ]\n",
      "2023-12-04 18:26:21,322 [Thread-97 (_] [INFO ]  Finished loading transforms [ Compose(\n",
      "    Resize(size=288, interpolation=bicubic, max_size=None, antialias=warn)\n",
      "    CenterCrop(size=(288, 288))\n",
      "    Normalize(mean=(0.48145466, 0.4578275, 0.40821073), std=(0.26862954, 0.26130258, 0.27577711))\n",
      ") ]\n",
      "2023-12-04 18:26:21,323 [Thread-97 (_] [INFO ]  Registering hooks.\n",
      "2023-12-04 18:26:21,327 [Thread-97 (_] [INFO ]  Finished registering hooks.\n",
      "2023-12-04 18:26:21,332 [Thread-97 (_] [INFO ]  Retrieving weights of linear probe [ path = /apps/11785-f23-prj/faceted_visualization/probes/logs/flower/RN50x4/layer3_9_relu3/version_4_20/model_checkpoint.pth ]\n",
      "2023-12-04 18:26:21,335 [Thread-97 (_] [INFO ]  Final list of transforms = [Resize(size=288, interpolation=bicubic, max_size=None, antialias=warn), CenterCrop(size=(288, 288)), Normalize(mean=(0.48145466, 0.4578275, 0.40821073), std=(0.26862954, 0.26130258, 0.27577711)), RandomAffine(degrees=[0.0, 0.0], translate=(0.03, 0.03), interpolation=InterpolationMode.NEAREST, fill=0), RandomAffine(degrees=[0.0, 0.0], scale=(0.9, 1.1), interpolation=InterpolationMode.NEAREST, fill=0), RandomRotation(degrees=[-10.0, 10.0], interpolation=InterpolationMode.NEAREST, expand=False, fill=0), RandomAffine(degrees=[0.0, 0.0], translate=(0.015, 0.015), interpolation=InterpolationMode.NEAREST, fill=0)]\n",
      "2023-12-04 18:26:21,336 [Thread-97 (_] [INFO ]  Starting optimization process [ run_id = tq1hml3v ]...\n",
      "/opt/conda/lib/python3.10/site-packages/torchvision/transforms/functional.py:1603: UserWarning: The default value of the antialias parameter of all the resizing transforms (Resize(), RandomResizedCrop(), etc.) will change from None to True in v0.17, in order to be consistent across the PIL and Tensor backends. To suppress this warning, directly pass antialias=True (recommended, future default), antialias=None (current default, which means False for Tensors and True for PIL), or antialias=False (only works on Tensors - PIL will still use antialiasing). This also applies if you are using the inference transforms from the models weights: update the call to weights.transforms(antialias=True).\n",
      "  warnings.warn(\n",
      "2023-12-04 18:26:21,381 [Thread-97 (_] [INFO ]  Epoch: 1/512: Loss = -0.2274170 :: Learning Rate = 0.0500000\n",
      "2023-12-04 18:26:25,578 [Thread-97 (_] [INFO ]  Epoch: 101/512: Loss = -1.0322266 :: Learning Rate = 0.0500000\n",
      "2023-12-04 18:26:29,720 [Thread-97 (_] [INFO ]  Epoch: 201/512: Loss = -3.2871094 :: Learning Rate = 0.0500000\n",
      "2023-12-04 18:26:33,857 [Thread-97 (_] [INFO ]  Epoch: 301/512: Loss = 0.2380371 :: Learning Rate = 0.0500000\n",
      "2023-12-04 18:26:38,008 [Thread-97 (_] [INFO ]  Epoch: 401/512: Loss = -1.9267578 :: Learning Rate = 0.0500000\n",
      "2023-12-04 18:26:42,298 [Thread-97 (_] [INFO ]  Epoch: 501/512: Loss = -2.2324219 :: Learning Rate = 0.0500000\n",
      "2023-12-04 18:26:42,815 [Thread-97 (_] [INFO ]  Epoch: 512/512: Loss = -2.5156250 :: Learning Rate = 0.0500000\n",
      "2023-12-04 18:26:42,839 [Thread-97 (_] [INFO ]  Completed run [ tq1hml3v ]\n"
     ]
    },
    {
     "data": {
      "application/vnd.jupyter.widget-view+json": {
       "model_id": "",
       "version_major": 2,
       "version_minor": 0
      },
      "text/plain": [
       "VBox(children=(Label(value='1.244 MB of 1.244 MB uploaded\\r'), FloatProgress(value=1.0, max=1.0)))"
      ]
     },
     "metadata": {},
     "output_type": "display_data"
    },
    {
     "data": {
      "text/html": [
       "<style>\n",
       "    table.wandb td:nth-child(1) { padding: 0 10px; text-align: left ; width: auto;} td:nth-child(2) {text-align: left ; width: 100%}\n",
       "    .wandb-row { display: flex; flex-direction: row; flex-wrap: wrap; justify-content: flex-start; width: 100% }\n",
       "    .wandb-col { display: flex; flex-direction: column; flex-basis: 100%; flex: 1; padding: 10px; }\n",
       "    </style>\n",
       "<div class=\"wandb-row\"><div class=\"wandb-col\"><h3>Run history:</h3><br/><table class=\"wandb\"><tr><td>loss</td><td>▇▅▁█▄▃▃</td></tr></table><br/></div><div class=\"wandb-col\"><h3>Run summary:</h3><br/><table class=\"wandb\"><tr><td>loss</td><td>-2.51562</td></tr></table><br/></div></div>"
      ],
      "text/plain": [
       "<IPython.core.display.HTML object>"
      ]
     },
     "metadata": {},
     "output_type": "display_data"
    },
    {
     "data": {
      "text/html": [
       " View run <strong style=\"color:#cdcd00\">stilted-sweep-31</strong> at: <a href='https://wandb.ai/rohanprasad/idl-project-flowers-facet/runs/tq1hml3v' target=\"_blank\">https://wandb.ai/rohanprasad/idl-project-flowers-facet/runs/tq1hml3v</a><br/>Synced 6 W&B file(s), 7 media file(s), 0 artifact file(s) and 0 other file(s)"
      ],
      "text/plain": [
       "<IPython.core.display.HTML object>"
      ]
     },
     "metadata": {},
     "output_type": "display_data"
    },
    {
     "data": {
      "text/html": [
       "Find logs at: <code>./wandb/run-20231204_182606-tq1hml3v/logs</code>"
      ],
      "text/plain": [
       "<IPython.core.display.HTML object>"
      ]
     },
     "metadata": {},
     "output_type": "display_data"
    },
    {
     "name": "stderr",
     "output_type": "stream",
     "text": [
      "\u001b[34m\u001b[1mwandb\u001b[0m: Agent Starting Run: 3vwp6irf with config:\n",
      "\u001b[34m\u001b[1mwandb\u001b[0m: \tchannel: 128\n",
      "\u001b[34m\u001b[1mwandb\u001b[0m: \tlearning_rate: 0.05\n",
      "\u001b[34m\u001b[1mwandb\u001b[0m: \tlinear_probe_layer: layer3_9_relu3\n",
      "\u001b[34m\u001b[1mwandb\u001b[0m: \tmodel: RN50x4\n",
      "\u001b[34m\u001b[1mwandb\u001b[0m: \tnum_iterations: 512\n",
      "\u001b[34m\u001b[1mwandb\u001b[0m: \tobjective: channel\n",
      "\u001b[34m\u001b[1mwandb\u001b[0m: \toptimizer: AdamW\n",
      "\u001b[34m\u001b[1mwandb\u001b[0m: \trandom_seed: 18630595\n",
      "\u001b[34m\u001b[1mwandb\u001b[0m: \tuse_std_transforms: True\n",
      "\u001b[34m\u001b[1mwandb\u001b[0m: \tuse_transforms: True\n",
      "\u001b[34m\u001b[1mwandb\u001b[0m: \tvisualization_layer: layer4_5_conv3\n"
     ]
    },
    {
     "data": {
      "text/html": [
       "Tracking run with wandb version 0.16.0"
      ],
      "text/plain": [
       "<IPython.core.display.HTML object>"
      ]
     },
     "metadata": {},
     "output_type": "display_data"
    },
    {
     "data": {
      "text/html": [
       "Run data is saved locally in <code>/apps/11785-f23-prj/wandb/run-20231204_182700-3vwp6irf</code>"
      ],
      "text/plain": [
       "<IPython.core.display.HTML object>"
      ]
     },
     "metadata": {},
     "output_type": "display_data"
    },
    {
     "data": {
      "text/html": [
       "Syncing run <strong><a href='https://wandb.ai/rohanprasad/idl-project-flowers-facet/runs/3vwp6irf' target=\"_blank\">atomic-sweep-32</a></strong> to <a href='https://wandb.ai/rohanprasad/idl-project-flowers-facet' target=\"_blank\">Weights & Biases</a> (<a href='https://wandb.me/run' target=\"_blank\">docs</a>)<br/>Sweep page: <a href='https://wandb.ai/rohanprasad/idl-project-flowers-facet/sweeps/cuq4fdws' target=\"_blank\">https://wandb.ai/rohanprasad/idl-project-flowers-facet/sweeps/cuq4fdws</a>"
      ],
      "text/plain": [
       "<IPython.core.display.HTML object>"
      ]
     },
     "metadata": {},
     "output_type": "display_data"
    },
    {
     "data": {
      "text/html": [
       " View project at <a href='https://wandb.ai/rohanprasad/idl-project-flowers-facet' target=\"_blank\">https://wandb.ai/rohanprasad/idl-project-flowers-facet</a>"
      ],
      "text/plain": [
       "<IPython.core.display.HTML object>"
      ]
     },
     "metadata": {},
     "output_type": "display_data"
    },
    {
     "data": {
      "text/html": [
       " View sweep at <a href='https://wandb.ai/rohanprasad/idl-project-flowers-facet/sweeps/cuq4fdws' target=\"_blank\">https://wandb.ai/rohanprasad/idl-project-flowers-facet/sweeps/cuq4fdws</a>"
      ],
      "text/plain": [
       "<IPython.core.display.HTML object>"
      ]
     },
     "metadata": {},
     "output_type": "display_data"
    },
    {
     "data": {
      "text/html": [
       " View run at <a href='https://wandb.ai/rohanprasad/idl-project-flowers-facet/runs/3vwp6irf' target=\"_blank\">https://wandb.ai/rohanprasad/idl-project-flowers-facet/runs/3vwp6irf</a>"
      ],
      "text/plain": [
       "<IPython.core.display.HTML object>"
      ]
     },
     "metadata": {},
     "output_type": "display_data"
    },
    {
     "name": "stderr",
     "output_type": "stream",
     "text": [
      "2023-12-04 18:27:10,990 [Thread-100 (] [INFO ]  Starting sweep [ run  3vwp6irf ] with config = \n",
      "{'channel': 128, 'learning_rate': 0.05, 'linear_probe_layer': 'layer3_9_relu3', 'model': 'RN50x4', 'num_iterations': 512, 'objective': 'channel', 'optimizer': 'AdamW', 'random_seed': 18630595, 'use_std_transforms': True, 'use_transforms': True, 'visualization_layer': 'layer4_5_conv3'}\n",
      "2023-12-04 18:27:10,991 [Thread-100 (] [INFO ]  Setting random seed to 18630595\n",
      "2023-12-04 18:27:10,992 [Thread-100 (] [INFO ]  Loading CLIP model [ RN50x4 ].\n",
      "2023-12-04 18:27:15,658 [Thread-100 (] [INFO ]  Finished loading model [ RN50x4 ]\n",
      "2023-12-04 18:27:15,660 [Thread-100 (] [INFO ]  Finished loading transforms [ Compose(\n",
      "    Resize(size=288, interpolation=bicubic, max_size=None, antialias=warn)\n",
      "    CenterCrop(size=(288, 288))\n",
      "    Normalize(mean=(0.48145466, 0.4578275, 0.40821073), std=(0.26862954, 0.26130258, 0.27577711))\n",
      ") ]\n",
      "2023-12-04 18:27:15,661 [Thread-100 (] [INFO ]  Registering hooks.\n",
      "2023-12-04 18:27:15,664 [Thread-100 (] [INFO ]  Finished registering hooks.\n",
      "2023-12-04 18:27:15,668 [Thread-100 (] [INFO ]  Retrieving weights of linear probe [ path = /apps/11785-f23-prj/faceted_visualization/probes/logs/flower/RN50x4/layer3_9_relu3/version_4_20/model_checkpoint.pth ]\n",
      "2023-12-04 18:27:15,672 [Thread-100 (] [INFO ]  Final list of transforms = [Resize(size=288, interpolation=bicubic, max_size=None, antialias=warn), CenterCrop(size=(288, 288)), Normalize(mean=(0.48145466, 0.4578275, 0.40821073), std=(0.26862954, 0.26130258, 0.27577711)), RandomAffine(degrees=[0.0, 0.0], translate=(0.03, 0.03), interpolation=InterpolationMode.NEAREST, fill=0), RandomAffine(degrees=[0.0, 0.0], scale=(0.9, 1.1), interpolation=InterpolationMode.NEAREST, fill=0), RandomRotation(degrees=[-10.0, 10.0], interpolation=InterpolationMode.NEAREST, expand=False, fill=0), RandomAffine(degrees=[0.0, 0.0], translate=(0.015, 0.015), interpolation=InterpolationMode.NEAREST, fill=0)]\n",
      "2023-12-04 18:27:15,673 [Thread-100 (] [INFO ]  Starting optimization process [ run_id = 3vwp6irf ]...\n",
      "/opt/conda/lib/python3.10/site-packages/torchvision/transforms/functional.py:1603: UserWarning: The default value of the antialias parameter of all the resizing transforms (Resize(), RandomResizedCrop(), etc.) will change from None to True in v0.17, in order to be consistent across the PIL and Tensor backends. To suppress this warning, directly pass antialias=True (recommended, future default), antialias=None (current default, which means False for Tensors and True for PIL), or antialias=False (only works on Tensors - PIL will still use antialiasing). This also applies if you are using the inference transforms from the models weights: update the call to weights.transforms(antialias=True).\n",
      "  warnings.warn(\n",
      "2023-12-04 18:27:15,717 [Thread-100 (] [INFO ]  Epoch: 1/512: Loss = -0.2734375 :: Learning Rate = 0.0500000\n",
      "2023-12-04 18:27:19,910 [Thread-100 (] [INFO ]  Epoch: 101/512: Loss = -0.6542969 :: Learning Rate = 0.0500000\n",
      "2023-12-04 18:27:24,108 [Thread-100 (] [INFO ]  Epoch: 201/512: Loss = -1.4003906 :: Learning Rate = 0.0500000\n",
      "2023-12-04 18:27:28,453 [Thread-100 (] [INFO ]  Epoch: 301/512: Loss = -1.4677734 :: Learning Rate = 0.0500000\n",
      "2023-12-04 18:27:32,802 [Thread-100 (] [INFO ]  Epoch: 401/512: Loss = -0.9687500 :: Learning Rate = 0.0500000\n",
      "2023-12-04 18:27:37,226 [Thread-100 (] [INFO ]  Epoch: 501/512: Loss = -1.7539062 :: Learning Rate = 0.0500000\n",
      "2023-12-04 18:27:37,713 [Thread-100 (] [INFO ]  Epoch: 512/512: Loss = -0.6108398 :: Learning Rate = 0.0500000\n",
      "2023-12-04 18:27:37,745 [Thread-100 (] [INFO ]  Completed run [ 3vwp6irf ]\n"
     ]
    },
    {
     "data": {
      "application/vnd.jupyter.widget-view+json": {
       "model_id": "",
       "version_major": 2,
       "version_minor": 0
      },
      "text/plain": [
       "VBox(children=(Label(value='1.244 MB of 1.244 MB uploaded\\r'), FloatProgress(value=1.0, max=1.0)))"
      ]
     },
     "metadata": {},
     "output_type": "display_data"
    },
    {
     "data": {
      "text/html": [
       "<style>\n",
       "    table.wandb td:nth-child(1) { padding: 0 10px; text-align: left ; width: auto;} td:nth-child(2) {text-align: left ; width: 100%}\n",
       "    .wandb-row { display: flex; flex-direction: row; flex-wrap: wrap; justify-content: flex-start; width: 100% }\n",
       "    .wandb-col { display: flex; flex-direction: column; flex-basis: 100%; flex: 1; padding: 10px; }\n",
       "    </style>\n",
       "<div class=\"wandb-row\"><div class=\"wandb-col\"><h3>Run history:</h3><br/><table class=\"wandb\"><tr><td>loss</td><td>█▆▃▂▅▁▆</td></tr></table><br/></div><div class=\"wandb-col\"><h3>Run summary:</h3><br/><table class=\"wandb\"><tr><td>loss</td><td>-0.61084</td></tr></table><br/></div></div>"
      ],
      "text/plain": [
       "<IPython.core.display.HTML object>"
      ]
     },
     "metadata": {},
     "output_type": "display_data"
    },
    {
     "data": {
      "text/html": [
       " View run <strong style=\"color:#cdcd00\">atomic-sweep-32</strong> at: <a href='https://wandb.ai/rohanprasad/idl-project-flowers-facet/runs/3vwp6irf' target=\"_blank\">https://wandb.ai/rohanprasad/idl-project-flowers-facet/runs/3vwp6irf</a><br/>Synced 6 W&B file(s), 7 media file(s), 0 artifact file(s) and 0 other file(s)"
      ],
      "text/plain": [
       "<IPython.core.display.HTML object>"
      ]
     },
     "metadata": {},
     "output_type": "display_data"
    },
    {
     "data": {
      "text/html": [
       "Find logs at: <code>./wandb/run-20231204_182700-3vwp6irf/logs</code>"
      ],
      "text/plain": [
       "<IPython.core.display.HTML object>"
      ]
     },
     "metadata": {},
     "output_type": "display_data"
    },
    {
     "name": "stderr",
     "output_type": "stream",
     "text": [
      "\u001b[34m\u001b[1mwandb\u001b[0m: Agent Starting Run: gc0qb7ww with config:\n",
      "\u001b[34m\u001b[1mwandb\u001b[0m: \tchannel: 512\n",
      "\u001b[34m\u001b[1mwandb\u001b[0m: \tlearning_rate: 0.05\n",
      "\u001b[34m\u001b[1mwandb\u001b[0m: \tlinear_probe_layer: layer1_0_conv3\n",
      "\u001b[34m\u001b[1mwandb\u001b[0m: \tmodel: RN50x4\n",
      "\u001b[34m\u001b[1mwandb\u001b[0m: \tnum_iterations: 512\n",
      "\u001b[34m\u001b[1mwandb\u001b[0m: \tobjective: neuron\n",
      "\u001b[34m\u001b[1mwandb\u001b[0m: \toptimizer: AdamW\n",
      "\u001b[34m\u001b[1mwandb\u001b[0m: \trandom_seed: 18630595\n",
      "\u001b[34m\u001b[1mwandb\u001b[0m: \tuse_std_transforms: True\n",
      "\u001b[34m\u001b[1mwandb\u001b[0m: \tuse_transforms: True\n",
      "\u001b[34m\u001b[1mwandb\u001b[0m: \tvisualization_layer: layer4_5_conv3\n"
     ]
    },
    {
     "data": {
      "text/html": [
       "Tracking run with wandb version 0.16.0"
      ],
      "text/plain": [
       "<IPython.core.display.HTML object>"
      ]
     },
     "metadata": {},
     "output_type": "display_data"
    },
    {
     "data": {
      "text/html": [
       "Run data is saved locally in <code>/apps/11785-f23-prj/wandb/run-20231204_182750-gc0qb7ww</code>"
      ],
      "text/plain": [
       "<IPython.core.display.HTML object>"
      ]
     },
     "metadata": {},
     "output_type": "display_data"
    },
    {
     "data": {
      "text/html": [
       "Syncing run <strong><a href='https://wandb.ai/rohanprasad/idl-project-flowers-facet/runs/gc0qb7ww' target=\"_blank\">winter-sweep-33</a></strong> to <a href='https://wandb.ai/rohanprasad/idl-project-flowers-facet' target=\"_blank\">Weights & Biases</a> (<a href='https://wandb.me/run' target=\"_blank\">docs</a>)<br/>Sweep page: <a href='https://wandb.ai/rohanprasad/idl-project-flowers-facet/sweeps/cuq4fdws' target=\"_blank\">https://wandb.ai/rohanprasad/idl-project-flowers-facet/sweeps/cuq4fdws</a>"
      ],
      "text/plain": [
       "<IPython.core.display.HTML object>"
      ]
     },
     "metadata": {},
     "output_type": "display_data"
    },
    {
     "data": {
      "text/html": [
       " View project at <a href='https://wandb.ai/rohanprasad/idl-project-flowers-facet' target=\"_blank\">https://wandb.ai/rohanprasad/idl-project-flowers-facet</a>"
      ],
      "text/plain": [
       "<IPython.core.display.HTML object>"
      ]
     },
     "metadata": {},
     "output_type": "display_data"
    },
    {
     "data": {
      "text/html": [
       " View sweep at <a href='https://wandb.ai/rohanprasad/idl-project-flowers-facet/sweeps/cuq4fdws' target=\"_blank\">https://wandb.ai/rohanprasad/idl-project-flowers-facet/sweeps/cuq4fdws</a>"
      ],
      "text/plain": [
       "<IPython.core.display.HTML object>"
      ]
     },
     "metadata": {},
     "output_type": "display_data"
    },
    {
     "data": {
      "text/html": [
       " View run at <a href='https://wandb.ai/rohanprasad/idl-project-flowers-facet/runs/gc0qb7ww' target=\"_blank\">https://wandb.ai/rohanprasad/idl-project-flowers-facet/runs/gc0qb7ww</a>"
      ],
      "text/plain": [
       "<IPython.core.display.HTML object>"
      ]
     },
     "metadata": {},
     "output_type": "display_data"
    },
    {
     "name": "stderr",
     "output_type": "stream",
     "text": [
      "2023-12-04 18:28:01,059 [Thread-103 (] [INFO ]  Starting sweep [ run  gc0qb7ww ] with config = \n",
      "{'channel': 512, 'learning_rate': 0.05, 'linear_probe_layer': 'layer1_0_conv3', 'model': 'RN50x4', 'num_iterations': 512, 'objective': 'neuron', 'optimizer': 'AdamW', 'random_seed': 18630595, 'use_std_transforms': True, 'use_transforms': True, 'visualization_layer': 'layer4_5_conv3'}\n",
      "2023-12-04 18:28:01,060 [Thread-103 (] [INFO ]  Setting random seed to 18630595\n",
      "2023-12-04 18:28:01,062 [Thread-103 (] [INFO ]  Loading CLIP model [ RN50x4 ].\n",
      "2023-12-04 18:28:05,564 [Thread-103 (] [INFO ]  Finished loading model [ RN50x4 ]\n",
      "2023-12-04 18:28:05,566 [Thread-103 (] [INFO ]  Finished loading transforms [ Compose(\n",
      "    Resize(size=288, interpolation=bicubic, max_size=None, antialias=warn)\n",
      "    CenterCrop(size=(288, 288))\n",
      "    Normalize(mean=(0.48145466, 0.4578275, 0.40821073), std=(0.26862954, 0.26130258, 0.27577711))\n",
      ") ]\n",
      "2023-12-04 18:28:05,567 [Thread-103 (] [INFO ]  Registering hooks.\n",
      "2023-12-04 18:28:05,569 [Thread-103 (] [INFO ]  Finished registering hooks.\n",
      "2023-12-04 18:28:05,574 [Thread-103 (] [INFO ]  Retrieving weights of linear probe [ path = /apps/11785-f23-prj/faceted_visualization/probes/logs/flower/RN50x4/layer1_0_conv3/version_4_20/model_checkpoint.pth ]\n",
      "2023-12-04 18:28:05,579 [Thread-103 (] [INFO ]  Final list of transforms = [Resize(size=288, interpolation=bicubic, max_size=None, antialias=warn), CenterCrop(size=(288, 288)), Normalize(mean=(0.48145466, 0.4578275, 0.40821073), std=(0.26862954, 0.26130258, 0.27577711)), RandomAffine(degrees=[0.0, 0.0], translate=(0.03, 0.03), interpolation=InterpolationMode.NEAREST, fill=0), RandomAffine(degrees=[0.0, 0.0], scale=(0.9, 1.1), interpolation=InterpolationMode.NEAREST, fill=0), RandomRotation(degrees=[-10.0, 10.0], interpolation=InterpolationMode.NEAREST, expand=False, fill=0), RandomAffine(degrees=[0.0, 0.0], translate=(0.015, 0.015), interpolation=InterpolationMode.NEAREST, fill=0)]\n",
      "2023-12-04 18:28:05,580 [Thread-103 (] [INFO ]  Starting optimization process [ run_id = gc0qb7ww ]...\n",
      "/opt/conda/lib/python3.10/site-packages/torchvision/transforms/functional.py:1603: UserWarning: The default value of the antialias parameter of all the resizing transforms (Resize(), RandomResizedCrop(), etc.) will change from None to True in v0.17, in order to be consistent across the PIL and Tensor backends. To suppress this warning, directly pass antialias=True (recommended, future default), antialias=None (current default, which means False for Tensors and True for PIL), or antialias=False (only works on Tensors - PIL will still use antialiasing). This also applies if you are using the inference transforms from the models weights: update the call to weights.transforms(antialias=True).\n",
      "  warnings.warn(\n",
      "2023-12-04 18:28:05,650 [Thread-103 (] [INFO ]  Epoch: 1/512: Loss = 0.1381836 :: Learning Rate = 0.0500000\n",
      "2023-12-04 18:28:10,977 [Thread-103 (] [INFO ]  Epoch: 101/512: Loss = -0.4970703 :: Learning Rate = 0.0500000\n",
      "2023-12-04 18:28:16,291 [Thread-103 (] [INFO ]  Epoch: 201/512: Loss = -0.8247070 :: Learning Rate = 0.0500000\n",
      "2023-12-04 18:28:21,532 [Thread-103 (] [INFO ]  Epoch: 301/512: Loss = -1.0761719 :: Learning Rate = 0.0500000\n",
      "2023-12-04 18:28:26,710 [Thread-103 (] [INFO ]  Epoch: 401/512: Loss = -1.1250000 :: Learning Rate = 0.0500000\n",
      "2023-12-04 18:28:32,209 [Thread-103 (] [INFO ]  Epoch: 501/512: Loss = -1.0126953 :: Learning Rate = 0.0500000\n",
      "2023-12-04 18:28:32,784 [Thread-103 (] [INFO ]  Epoch: 512/512: Loss = -1.1230469 :: Learning Rate = 0.0500000\n",
      "2023-12-04 18:28:32,808 [Thread-103 (] [INFO ]  Completed run [ gc0qb7ww ]\n"
     ]
    },
    {
     "data": {
      "application/vnd.jupyter.widget-view+json": {
       "model_id": "",
       "version_major": 2,
       "version_minor": 0
      },
      "text/plain": [
       "VBox(children=(Label(value='0.999 MB of 1.195 MB uploaded\\r'), FloatProgress(value=0.8356798332418249, max=1.0…"
      ]
     },
     "metadata": {},
     "output_type": "display_data"
    },
    {
     "data": {
      "text/html": [
       "<style>\n",
       "    table.wandb td:nth-child(1) { padding: 0 10px; text-align: left ; width: auto;} td:nth-child(2) {text-align: left ; width: 100%}\n",
       "    .wandb-row { display: flex; flex-direction: row; flex-wrap: wrap; justify-content: flex-start; width: 100% }\n",
       "    .wandb-col { display: flex; flex-direction: column; flex-basis: 100%; flex: 1; padding: 10px; }\n",
       "    </style>\n",
       "<div class=\"wandb-row\"><div class=\"wandb-col\"><h3>Run history:</h3><br/><table class=\"wandb\"><tr><td>loss</td><td>█▄▃▁▁▂▁</td></tr></table><br/></div><div class=\"wandb-col\"><h3>Run summary:</h3><br/><table class=\"wandb\"><tr><td>loss</td><td>-1.12305</td></tr></table><br/></div></div>"
      ],
      "text/plain": [
       "<IPython.core.display.HTML object>"
      ]
     },
     "metadata": {},
     "output_type": "display_data"
    },
    {
     "data": {
      "text/html": [
       " View run <strong style=\"color:#cdcd00\">winter-sweep-33</strong> at: <a href='https://wandb.ai/rohanprasad/idl-project-flowers-facet/runs/gc0qb7ww' target=\"_blank\">https://wandb.ai/rohanprasad/idl-project-flowers-facet/runs/gc0qb7ww</a><br/>Synced 6 W&B file(s), 7 media file(s), 0 artifact file(s) and 0 other file(s)"
      ],
      "text/plain": [
       "<IPython.core.display.HTML object>"
      ]
     },
     "metadata": {},
     "output_type": "display_data"
    },
    {
     "data": {
      "text/html": [
       "Find logs at: <code>./wandb/run-20231204_182750-gc0qb7ww/logs</code>"
      ],
      "text/plain": [
       "<IPython.core.display.HTML object>"
      ]
     },
     "metadata": {},
     "output_type": "display_data"
    },
    {
     "name": "stderr",
     "output_type": "stream",
     "text": [
      "\u001b[34m\u001b[1mwandb\u001b[0m: Agent Starting Run: f3wmdz8l with config:\n",
      "\u001b[34m\u001b[1mwandb\u001b[0m: \tchannel: 512\n",
      "\u001b[34m\u001b[1mwandb\u001b[0m: \tlearning_rate: 0.05\n",
      "\u001b[34m\u001b[1mwandb\u001b[0m: \tlinear_probe_layer: layer1_0_conv3\n",
      "\u001b[34m\u001b[1mwandb\u001b[0m: \tmodel: RN50x4\n",
      "\u001b[34m\u001b[1mwandb\u001b[0m: \tnum_iterations: 512\n",
      "\u001b[34m\u001b[1mwandb\u001b[0m: \tobjective: channel\n",
      "\u001b[34m\u001b[1mwandb\u001b[0m: \toptimizer: AdamW\n",
      "\u001b[34m\u001b[1mwandb\u001b[0m: \trandom_seed: 18630595\n",
      "\u001b[34m\u001b[1mwandb\u001b[0m: \tuse_std_transforms: True\n",
      "\u001b[34m\u001b[1mwandb\u001b[0m: \tuse_transforms: True\n",
      "\u001b[34m\u001b[1mwandb\u001b[0m: \tvisualization_layer: layer4_5_conv3\n"
     ]
    },
    {
     "data": {
      "text/html": [
       "Tracking run with wandb version 0.16.0"
      ],
      "text/plain": [
       "<IPython.core.display.HTML object>"
      ]
     },
     "metadata": {},
     "output_type": "display_data"
    },
    {
     "data": {
      "text/html": [
       "Run data is saved locally in <code>/apps/11785-f23-prj/wandb/run-20231204_182924-f3wmdz8l</code>"
      ],
      "text/plain": [
       "<IPython.core.display.HTML object>"
      ]
     },
     "metadata": {},
     "output_type": "display_data"
    },
    {
     "data": {
      "text/html": [
       "Syncing run <strong><a href='https://wandb.ai/rohanprasad/idl-project-flowers-facet/runs/f3wmdz8l' target=\"_blank\">brisk-sweep-34</a></strong> to <a href='https://wandb.ai/rohanprasad/idl-project-flowers-facet' target=\"_blank\">Weights & Biases</a> (<a href='https://wandb.me/run' target=\"_blank\">docs</a>)<br/>Sweep page: <a href='https://wandb.ai/rohanprasad/idl-project-flowers-facet/sweeps/cuq4fdws' target=\"_blank\">https://wandb.ai/rohanprasad/idl-project-flowers-facet/sweeps/cuq4fdws</a>"
      ],
      "text/plain": [
       "<IPython.core.display.HTML object>"
      ]
     },
     "metadata": {},
     "output_type": "display_data"
    },
    {
     "data": {
      "text/html": [
       " View project at <a href='https://wandb.ai/rohanprasad/idl-project-flowers-facet' target=\"_blank\">https://wandb.ai/rohanprasad/idl-project-flowers-facet</a>"
      ],
      "text/plain": [
       "<IPython.core.display.HTML object>"
      ]
     },
     "metadata": {},
     "output_type": "display_data"
    },
    {
     "data": {
      "text/html": [
       " View sweep at <a href='https://wandb.ai/rohanprasad/idl-project-flowers-facet/sweeps/cuq4fdws' target=\"_blank\">https://wandb.ai/rohanprasad/idl-project-flowers-facet/sweeps/cuq4fdws</a>"
      ],
      "text/plain": [
       "<IPython.core.display.HTML object>"
      ]
     },
     "metadata": {},
     "output_type": "display_data"
    },
    {
     "data": {
      "text/html": [
       " View run at <a href='https://wandb.ai/rohanprasad/idl-project-flowers-facet/runs/f3wmdz8l' target=\"_blank\">https://wandb.ai/rohanprasad/idl-project-flowers-facet/runs/f3wmdz8l</a>"
      ],
      "text/plain": [
       "<IPython.core.display.HTML object>"
      ]
     },
     "metadata": {},
     "output_type": "display_data"
    },
    {
     "name": "stderr",
     "output_type": "stream",
     "text": [
      "2023-12-04 18:29:35,168 [Thread-106 (] [INFO ]  Starting sweep [ run  f3wmdz8l ] with config = \n",
      "{'channel': 512, 'learning_rate': 0.05, 'linear_probe_layer': 'layer1_0_conv3', 'model': 'RN50x4', 'num_iterations': 512, 'objective': 'channel', 'optimizer': 'AdamW', 'random_seed': 18630595, 'use_std_transforms': True, 'use_transforms': True, 'visualization_layer': 'layer4_5_conv3'}\n",
      "2023-12-04 18:29:35,170 [Thread-106 (] [INFO ]  Setting random seed to 18630595\n",
      "2023-12-04 18:29:35,171 [Thread-106 (] [INFO ]  Loading CLIP model [ RN50x4 ].\n",
      "2023-12-04 18:29:39,783 [Thread-106 (] [INFO ]  Finished loading model [ RN50x4 ]\n",
      "2023-12-04 18:29:39,785 [Thread-106 (] [INFO ]  Finished loading transforms [ Compose(\n",
      "    Resize(size=288, interpolation=bicubic, max_size=None, antialias=warn)\n",
      "    CenterCrop(size=(288, 288))\n",
      "    Normalize(mean=(0.48145466, 0.4578275, 0.40821073), std=(0.26862954, 0.26130258, 0.27577711))\n",
      ") ]\n",
      "2023-12-04 18:29:39,786 [Thread-106 (] [INFO ]  Registering hooks.\n",
      "2023-12-04 18:29:39,790 [Thread-106 (] [INFO ]  Finished registering hooks.\n",
      "2023-12-04 18:29:39,795 [Thread-106 (] [INFO ]  Retrieving weights of linear probe [ path = /apps/11785-f23-prj/faceted_visualization/probes/logs/flower/RN50x4/layer1_0_conv3/version_4_20/model_checkpoint.pth ]\n",
      "2023-12-04 18:29:39,800 [Thread-106 (] [INFO ]  Final list of transforms = [Resize(size=288, interpolation=bicubic, max_size=None, antialias=warn), CenterCrop(size=(288, 288)), Normalize(mean=(0.48145466, 0.4578275, 0.40821073), std=(0.26862954, 0.26130258, 0.27577711)), RandomAffine(degrees=[0.0, 0.0], translate=(0.03, 0.03), interpolation=InterpolationMode.NEAREST, fill=0), RandomAffine(degrees=[0.0, 0.0], scale=(0.9, 1.1), interpolation=InterpolationMode.NEAREST, fill=0), RandomRotation(degrees=[-10.0, 10.0], interpolation=InterpolationMode.NEAREST, expand=False, fill=0), RandomAffine(degrees=[0.0, 0.0], translate=(0.015, 0.015), interpolation=InterpolationMode.NEAREST, fill=0)]\n",
      "2023-12-04 18:29:39,801 [Thread-106 (] [INFO ]  Starting optimization process [ run_id = f3wmdz8l ]...\n",
      "/opt/conda/lib/python3.10/site-packages/torchvision/transforms/functional.py:1603: UserWarning: The default value of the antialias parameter of all the resizing transforms (Resize(), RandomResizedCrop(), etc.) will change from None to True in v0.17, in order to be consistent across the PIL and Tensor backends. To suppress this warning, directly pass antialias=True (recommended, future default), antialias=None (current default, which means False for Tensors and True for PIL), or antialias=False (only works on Tensors - PIL will still use antialiasing). This also applies if you are using the inference transforms from the models weights: update the call to weights.transforms(antialias=True).\n",
      "  warnings.warn(\n",
      "2023-12-04 18:29:39,851 [Thread-106 (] [INFO ]  Epoch: 1/512: Loss = 0.1004639 :: Learning Rate = 0.0500000\n",
      "2023-12-04 18:29:45,257 [Thread-106 (] [INFO ]  Epoch: 101/512: Loss = -0.0478821 :: Learning Rate = 0.0500000\n",
      "2023-12-04 18:29:50,382 [Thread-106 (] [INFO ]  Epoch: 201/512: Loss = -0.3703613 :: Learning Rate = 0.0500000\n",
      "2023-12-04 18:29:55,462 [Thread-106 (] [INFO ]  Epoch: 301/512: Loss = -0.7060547 :: Learning Rate = 0.0500000\n",
      "2023-12-04 18:30:00,543 [Thread-106 (] [INFO ]  Epoch: 401/512: Loss = -0.6298828 :: Learning Rate = 0.0500000\n",
      "2023-12-04 18:30:05,685 [Thread-106 (] [INFO ]  Epoch: 501/512: Loss = -0.7001953 :: Learning Rate = 0.0500000\n",
      "2023-12-04 18:30:06,270 [Thread-106 (] [INFO ]  Epoch: 512/512: Loss = -0.9165039 :: Learning Rate = 0.0500000\n",
      "2023-12-04 18:30:06,293 [Thread-106 (] [INFO ]  Completed run [ f3wmdz8l ]\n"
     ]
    },
    {
     "data": {
      "application/vnd.jupyter.widget-view+json": {
       "model_id": "",
       "version_major": 2,
       "version_minor": 0
      },
      "text/plain": [
       "VBox(children=(Label(value='1.275 MB of 1.297 MB uploaded\\r'), FloatProgress(value=0.9832973135544426, max=1.0…"
      ]
     },
     "metadata": {},
     "output_type": "display_data"
    },
    {
     "data": {
      "text/html": [
       "<style>\n",
       "    table.wandb td:nth-child(1) { padding: 0 10px; text-align: left ; width: auto;} td:nth-child(2) {text-align: left ; width: 100%}\n",
       "    .wandb-row { display: flex; flex-direction: row; flex-wrap: wrap; justify-content: flex-start; width: 100% }\n",
       "    .wandb-col { display: flex; flex-direction: column; flex-basis: 100%; flex: 1; padding: 10px; }\n",
       "    </style>\n",
       "<div class=\"wandb-row\"><div class=\"wandb-col\"><h3>Run history:</h3><br/><table class=\"wandb\"><tr><td>loss</td><td>█▇▅▂▃▂▁</td></tr></table><br/></div><div class=\"wandb-col\"><h3>Run summary:</h3><br/><table class=\"wandb\"><tr><td>loss</td><td>-0.9165</td></tr></table><br/></div></div>"
      ],
      "text/plain": [
       "<IPython.core.display.HTML object>"
      ]
     },
     "metadata": {},
     "output_type": "display_data"
    },
    {
     "data": {
      "text/html": [
       " View run <strong style=\"color:#cdcd00\">brisk-sweep-34</strong> at: <a href='https://wandb.ai/rohanprasad/idl-project-flowers-facet/runs/f3wmdz8l' target=\"_blank\">https://wandb.ai/rohanprasad/idl-project-flowers-facet/runs/f3wmdz8l</a><br/>Synced 6 W&B file(s), 7 media file(s), 0 artifact file(s) and 0 other file(s)"
      ],
      "text/plain": [
       "<IPython.core.display.HTML object>"
      ]
     },
     "metadata": {},
     "output_type": "display_data"
    },
    {
     "data": {
      "text/html": [
       "Find logs at: <code>./wandb/run-20231204_182924-f3wmdz8l/logs</code>"
      ],
      "text/plain": [
       "<IPython.core.display.HTML object>"
      ]
     },
     "metadata": {},
     "output_type": "display_data"
    },
    {
     "name": "stderr",
     "output_type": "stream",
     "text": [
      "\u001b[34m\u001b[1mwandb\u001b[0m: Agent Starting Run: 7xc1g59k with config:\n",
      "\u001b[34m\u001b[1mwandb\u001b[0m: \tchannel: 512\n",
      "\u001b[34m\u001b[1mwandb\u001b[0m: \tlearning_rate: 0.05\n",
      "\u001b[34m\u001b[1mwandb\u001b[0m: \tlinear_probe_layer: layer1_0_relu3\n",
      "\u001b[34m\u001b[1mwandb\u001b[0m: \tmodel: RN50x4\n",
      "\u001b[34m\u001b[1mwandb\u001b[0m: \tnum_iterations: 512\n",
      "\u001b[34m\u001b[1mwandb\u001b[0m: \tobjective: neuron\n",
      "\u001b[34m\u001b[1mwandb\u001b[0m: \toptimizer: AdamW\n",
      "\u001b[34m\u001b[1mwandb\u001b[0m: \trandom_seed: 18630595\n",
      "\u001b[34m\u001b[1mwandb\u001b[0m: \tuse_std_transforms: True\n",
      "\u001b[34m\u001b[1mwandb\u001b[0m: \tuse_transforms: True\n",
      "\u001b[34m\u001b[1mwandb\u001b[0m: \tvisualization_layer: layer4_5_conv3\n"
     ]
    },
    {
     "data": {
      "text/html": [
       "Tracking run with wandb version 0.16.0"
      ],
      "text/plain": [
       "<IPython.core.display.HTML object>"
      ]
     },
     "metadata": {},
     "output_type": "display_data"
    },
    {
     "data": {
      "text/html": [
       "Run data is saved locally in <code>/apps/11785-f23-prj/wandb/run-20231204_183015-7xc1g59k</code>"
      ],
      "text/plain": [
       "<IPython.core.display.HTML object>"
      ]
     },
     "metadata": {},
     "output_type": "display_data"
    },
    {
     "data": {
      "text/html": [
       "Syncing run <strong><a href='https://wandb.ai/rohanprasad/idl-project-flowers-facet/runs/7xc1g59k' target=\"_blank\">drawn-sweep-35</a></strong> to <a href='https://wandb.ai/rohanprasad/idl-project-flowers-facet' target=\"_blank\">Weights & Biases</a> (<a href='https://wandb.me/run' target=\"_blank\">docs</a>)<br/>Sweep page: <a href='https://wandb.ai/rohanprasad/idl-project-flowers-facet/sweeps/cuq4fdws' target=\"_blank\">https://wandb.ai/rohanprasad/idl-project-flowers-facet/sweeps/cuq4fdws</a>"
      ],
      "text/plain": [
       "<IPython.core.display.HTML object>"
      ]
     },
     "metadata": {},
     "output_type": "display_data"
    },
    {
     "data": {
      "text/html": [
       " View project at <a href='https://wandb.ai/rohanprasad/idl-project-flowers-facet' target=\"_blank\">https://wandb.ai/rohanprasad/idl-project-flowers-facet</a>"
      ],
      "text/plain": [
       "<IPython.core.display.HTML object>"
      ]
     },
     "metadata": {},
     "output_type": "display_data"
    },
    {
     "data": {
      "text/html": [
       " View sweep at <a href='https://wandb.ai/rohanprasad/idl-project-flowers-facet/sweeps/cuq4fdws' target=\"_blank\">https://wandb.ai/rohanprasad/idl-project-flowers-facet/sweeps/cuq4fdws</a>"
      ],
      "text/plain": [
       "<IPython.core.display.HTML object>"
      ]
     },
     "metadata": {},
     "output_type": "display_data"
    },
    {
     "data": {
      "text/html": [
       " View run at <a href='https://wandb.ai/rohanprasad/idl-project-flowers-facet/runs/7xc1g59k' target=\"_blank\">https://wandb.ai/rohanprasad/idl-project-flowers-facet/runs/7xc1g59k</a>"
      ],
      "text/plain": [
       "<IPython.core.display.HTML object>"
      ]
     },
     "metadata": {},
     "output_type": "display_data"
    },
    {
     "name": "stderr",
     "output_type": "stream",
     "text": [
      "2023-12-04 18:30:26,400 [Thread-109 (] [INFO ]  Starting sweep [ run  7xc1g59k ] with config = \n",
      "{'channel': 512, 'learning_rate': 0.05, 'linear_probe_layer': 'layer1_0_relu3', 'model': 'RN50x4', 'num_iterations': 512, 'objective': 'neuron', 'optimizer': 'AdamW', 'random_seed': 18630595, 'use_std_transforms': True, 'use_transforms': True, 'visualization_layer': 'layer4_5_conv3'}\n",
      "2023-12-04 18:30:26,401 [Thread-109 (] [INFO ]  Setting random seed to 18630595\n",
      "2023-12-04 18:30:26,402 [Thread-109 (] [INFO ]  Loading CLIP model [ RN50x4 ].\n",
      "2023-12-04 18:30:31,008 [Thread-109 (] [INFO ]  Finished loading model [ RN50x4 ]\n",
      "2023-12-04 18:30:31,010 [Thread-109 (] [INFO ]  Finished loading transforms [ Compose(\n",
      "    Resize(size=288, interpolation=bicubic, max_size=None, antialias=warn)\n",
      "    CenterCrop(size=(288, 288))\n",
      "    Normalize(mean=(0.48145466, 0.4578275, 0.40821073), std=(0.26862954, 0.26130258, 0.27577711))\n",
      ") ]\n",
      "2023-12-04 18:30:31,012 [Thread-109 (] [INFO ]  Registering hooks.\n",
      "2023-12-04 18:30:31,015 [Thread-109 (] [INFO ]  Finished registering hooks.\n",
      "2023-12-04 18:30:31,019 [Thread-109 (] [INFO ]  Retrieving weights of linear probe [ path = /apps/11785-f23-prj/faceted_visualization/probes/logs/flower/RN50x4/layer1_0_relu3/version_4_20/model_checkpoint.pth ]\n",
      "2023-12-04 18:30:31,024 [Thread-109 (] [INFO ]  Final list of transforms = [Resize(size=288, interpolation=bicubic, max_size=None, antialias=warn), CenterCrop(size=(288, 288)), Normalize(mean=(0.48145466, 0.4578275, 0.40821073), std=(0.26862954, 0.26130258, 0.27577711)), RandomAffine(degrees=[0.0, 0.0], translate=(0.03, 0.03), interpolation=InterpolationMode.NEAREST, fill=0), RandomAffine(degrees=[0.0, 0.0], scale=(0.9, 1.1), interpolation=InterpolationMode.NEAREST, fill=0), RandomRotation(degrees=[-10.0, 10.0], interpolation=InterpolationMode.NEAREST, expand=False, fill=0), RandomAffine(degrees=[0.0, 0.0], translate=(0.015, 0.015), interpolation=InterpolationMode.NEAREST, fill=0)]\n",
      "2023-12-04 18:30:31,026 [Thread-109 (] [INFO ]  Starting optimization process [ run_id = 7xc1g59k ]...\n",
      "/opt/conda/lib/python3.10/site-packages/torchvision/transforms/functional.py:1603: UserWarning: The default value of the antialias parameter of all the resizing transforms (Resize(), RandomResizedCrop(), etc.) will change from None to True in v0.17, in order to be consistent across the PIL and Tensor backends. To suppress this warning, directly pass antialias=True (recommended, future default), antialias=None (current default, which means False for Tensors and True for PIL), or antialias=False (only works on Tensors - PIL will still use antialiasing). This also applies if you are using the inference transforms from the models weights: update the call to weights.transforms(antialias=True).\n",
      "  warnings.warn(\n",
      "2023-12-04 18:30:31,075 [Thread-109 (] [INFO ]  Epoch: 1/512: Loss = 0.1436768 :: Learning Rate = 0.0500000\n",
      "2023-12-04 18:30:36,425 [Thread-109 (] [INFO ]  Epoch: 101/512: Loss = -0.4936523 :: Learning Rate = 0.0500000\n",
      "2023-12-04 18:30:41,673 [Thread-109 (] [INFO ]  Epoch: 201/512: Loss = -1.0908203 :: Learning Rate = 0.0500000\n",
      "2023-12-04 18:30:46,906 [Thread-109 (] [INFO ]  Epoch: 301/512: Loss = -0.9804688 :: Learning Rate = 0.0500000\n",
      "2023-12-04 18:30:52,029 [Thread-109 (] [INFO ]  Epoch: 401/512: Loss = -1.4003906 :: Learning Rate = 0.0500000\n",
      "2023-12-04 18:30:57,231 [Thread-109 (] [INFO ]  Epoch: 501/512: Loss = -1.0039062 :: Learning Rate = 0.0500000\n",
      "2023-12-04 18:30:57,823 [Thread-109 (] [INFO ]  Epoch: 512/512: Loss = -0.9604492 :: Learning Rate = 0.0500000\n",
      "2023-12-04 18:30:57,847 [Thread-109 (] [INFO ]  Completed run [ 7xc1g59k ]\n"
     ]
    },
    {
     "data": {
      "application/vnd.jupyter.widget-view+json": {
       "model_id": "",
       "version_major": 2,
       "version_minor": 0
      },
      "text/plain": [
       "VBox(children=(Label(value='1.192 MB of 1.192 MB uploaded\\r'), FloatProgress(value=1.0, max=1.0)))"
      ]
     },
     "metadata": {},
     "output_type": "display_data"
    },
    {
     "data": {
      "text/html": [
       "<style>\n",
       "    table.wandb td:nth-child(1) { padding: 0 10px; text-align: left ; width: auto;} td:nth-child(2) {text-align: left ; width: 100%}\n",
       "    .wandb-row { display: flex; flex-direction: row; flex-wrap: wrap; justify-content: flex-start; width: 100% }\n",
       "    .wandb-col { display: flex; flex-direction: column; flex-basis: 100%; flex: 1; padding: 10px; }\n",
       "    </style>\n",
       "<div class=\"wandb-row\"><div class=\"wandb-col\"><h3>Run history:</h3><br/><table class=\"wandb\"><tr><td>loss</td><td>█▅▂▃▁▃▃</td></tr></table><br/></div><div class=\"wandb-col\"><h3>Run summary:</h3><br/><table class=\"wandb\"><tr><td>loss</td><td>-0.96045</td></tr></table><br/></div></div>"
      ],
      "text/plain": [
       "<IPython.core.display.HTML object>"
      ]
     },
     "metadata": {},
     "output_type": "display_data"
    },
    {
     "data": {
      "text/html": [
       " View run <strong style=\"color:#cdcd00\">drawn-sweep-35</strong> at: <a href='https://wandb.ai/rohanprasad/idl-project-flowers-facet/runs/7xc1g59k' target=\"_blank\">https://wandb.ai/rohanprasad/idl-project-flowers-facet/runs/7xc1g59k</a><br/>Synced 6 W&B file(s), 7 media file(s), 0 artifact file(s) and 0 other file(s)"
      ],
      "text/plain": [
       "<IPython.core.display.HTML object>"
      ]
     },
     "metadata": {},
     "output_type": "display_data"
    },
    {
     "data": {
      "text/html": [
       "Find logs at: <code>./wandb/run-20231204_183015-7xc1g59k/logs</code>"
      ],
      "text/plain": [
       "<IPython.core.display.HTML object>"
      ]
     },
     "metadata": {},
     "output_type": "display_data"
    },
    {
     "name": "stderr",
     "output_type": "stream",
     "text": [
      "\u001b[34m\u001b[1mwandb\u001b[0m: Agent Starting Run: xhb22zqc with config:\n",
      "\u001b[34m\u001b[1mwandb\u001b[0m: \tchannel: 512\n",
      "\u001b[34m\u001b[1mwandb\u001b[0m: \tlearning_rate: 0.05\n",
      "\u001b[34m\u001b[1mwandb\u001b[0m: \tlinear_probe_layer: layer1_0_relu3\n",
      "\u001b[34m\u001b[1mwandb\u001b[0m: \tmodel: RN50x4\n",
      "\u001b[34m\u001b[1mwandb\u001b[0m: \tnum_iterations: 512\n",
      "\u001b[34m\u001b[1mwandb\u001b[0m: \tobjective: channel\n",
      "\u001b[34m\u001b[1mwandb\u001b[0m: \toptimizer: AdamW\n",
      "\u001b[34m\u001b[1mwandb\u001b[0m: \trandom_seed: 18630595\n",
      "\u001b[34m\u001b[1mwandb\u001b[0m: \tuse_std_transforms: True\n",
      "\u001b[34m\u001b[1mwandb\u001b[0m: \tuse_transforms: True\n",
      "\u001b[34m\u001b[1mwandb\u001b[0m: \tvisualization_layer: layer4_5_conv3\n"
     ]
    },
    {
     "data": {
      "text/html": [
       "Tracking run with wandb version 0.16.0"
      ],
      "text/plain": [
       "<IPython.core.display.HTML object>"
      ]
     },
     "metadata": {},
     "output_type": "display_data"
    },
    {
     "data": {
      "text/html": [
       "Run data is saved locally in <code>/apps/11785-f23-prj/wandb/run-20231204_183106-xhb22zqc</code>"
      ],
      "text/plain": [
       "<IPython.core.display.HTML object>"
      ]
     },
     "metadata": {},
     "output_type": "display_data"
    },
    {
     "data": {
      "text/html": [
       "Syncing run <strong><a href='https://wandb.ai/rohanprasad/idl-project-flowers-facet/runs/xhb22zqc' target=\"_blank\">sweet-sweep-36</a></strong> to <a href='https://wandb.ai/rohanprasad/idl-project-flowers-facet' target=\"_blank\">Weights & Biases</a> (<a href='https://wandb.me/run' target=\"_blank\">docs</a>)<br/>Sweep page: <a href='https://wandb.ai/rohanprasad/idl-project-flowers-facet/sweeps/cuq4fdws' target=\"_blank\">https://wandb.ai/rohanprasad/idl-project-flowers-facet/sweeps/cuq4fdws</a>"
      ],
      "text/plain": [
       "<IPython.core.display.HTML object>"
      ]
     },
     "metadata": {},
     "output_type": "display_data"
    },
    {
     "data": {
      "text/html": [
       " View project at <a href='https://wandb.ai/rohanprasad/idl-project-flowers-facet' target=\"_blank\">https://wandb.ai/rohanprasad/idl-project-flowers-facet</a>"
      ],
      "text/plain": [
       "<IPython.core.display.HTML object>"
      ]
     },
     "metadata": {},
     "output_type": "display_data"
    },
    {
     "data": {
      "text/html": [
       " View sweep at <a href='https://wandb.ai/rohanprasad/idl-project-flowers-facet/sweeps/cuq4fdws' target=\"_blank\">https://wandb.ai/rohanprasad/idl-project-flowers-facet/sweeps/cuq4fdws</a>"
      ],
      "text/plain": [
       "<IPython.core.display.HTML object>"
      ]
     },
     "metadata": {},
     "output_type": "display_data"
    },
    {
     "data": {
      "text/html": [
       " View run at <a href='https://wandb.ai/rohanprasad/idl-project-flowers-facet/runs/xhb22zqc' target=\"_blank\">https://wandb.ai/rohanprasad/idl-project-flowers-facet/runs/xhb22zqc</a>"
      ],
      "text/plain": [
       "<IPython.core.display.HTML object>"
      ]
     },
     "metadata": {},
     "output_type": "display_data"
    },
    {
     "name": "stderr",
     "output_type": "stream",
     "text": [
      "2023-12-04 18:31:17,132 [Thread-112 (] [INFO ]  Starting sweep [ run  xhb22zqc ] with config = \n",
      "{'channel': 512, 'learning_rate': 0.05, 'linear_probe_layer': 'layer1_0_relu3', 'model': 'RN50x4', 'num_iterations': 512, 'objective': 'channel', 'optimizer': 'AdamW', 'random_seed': 18630595, 'use_std_transforms': True, 'use_transforms': True, 'visualization_layer': 'layer4_5_conv3'}\n",
      "2023-12-04 18:31:17,134 [Thread-112 (] [INFO ]  Setting random seed to 18630595\n",
      "2023-12-04 18:31:17,136 [Thread-112 (] [INFO ]  Loading CLIP model [ RN50x4 ].\n",
      "2023-12-04 18:31:21,770 [Thread-112 (] [INFO ]  Finished loading model [ RN50x4 ]\n",
      "2023-12-04 18:31:21,771 [Thread-112 (] [INFO ]  Finished loading transforms [ Compose(\n",
      "    Resize(size=288, interpolation=bicubic, max_size=None, antialias=warn)\n",
      "    CenterCrop(size=(288, 288))\n",
      "    Normalize(mean=(0.48145466, 0.4578275, 0.40821073), std=(0.26862954, 0.26130258, 0.27577711))\n",
      ") ]\n",
      "2023-12-04 18:31:21,773 [Thread-112 (] [INFO ]  Registering hooks.\n",
      "2023-12-04 18:31:21,776 [Thread-112 (] [INFO ]  Finished registering hooks.\n",
      "2023-12-04 18:31:21,781 [Thread-112 (] [INFO ]  Retrieving weights of linear probe [ path = /apps/11785-f23-prj/faceted_visualization/probes/logs/flower/RN50x4/layer1_0_relu3/version_4_20/model_checkpoint.pth ]\n",
      "2023-12-04 18:31:21,788 [Thread-112 (] [INFO ]  Final list of transforms = [Resize(size=288, interpolation=bicubic, max_size=None, antialias=warn), CenterCrop(size=(288, 288)), Normalize(mean=(0.48145466, 0.4578275, 0.40821073), std=(0.26862954, 0.26130258, 0.27577711)), RandomAffine(degrees=[0.0, 0.0], translate=(0.03, 0.03), interpolation=InterpolationMode.NEAREST, fill=0), RandomAffine(degrees=[0.0, 0.0], scale=(0.9, 1.1), interpolation=InterpolationMode.NEAREST, fill=0), RandomRotation(degrees=[-10.0, 10.0], interpolation=InterpolationMode.NEAREST, expand=False, fill=0), RandomAffine(degrees=[0.0, 0.0], translate=(0.015, 0.015), interpolation=InterpolationMode.NEAREST, fill=0)]\n",
      "2023-12-04 18:31:21,789 [Thread-112 (] [INFO ]  Starting optimization process [ run_id = xhb22zqc ]...\n",
      "/opt/conda/lib/python3.10/site-packages/torchvision/transforms/functional.py:1603: UserWarning: The default value of the antialias parameter of all the resizing transforms (Resize(), RandomResizedCrop(), etc.) will change from None to True in v0.17, in order to be consistent across the PIL and Tensor backends. To suppress this warning, directly pass antialias=True (recommended, future default), antialias=None (current default, which means False for Tensors and True for PIL), or antialias=False (only works on Tensors - PIL will still use antialiasing). This also applies if you are using the inference transforms from the models weights: update the call to weights.transforms(antialias=True).\n",
      "  warnings.warn(\n",
      "2023-12-04 18:31:21,839 [Thread-112 (] [INFO ]  Epoch: 1/512: Loss = 0.1060181 :: Learning Rate = 0.0500000\n",
      "2023-12-04 18:31:27,192 [Thread-112 (] [INFO ]  Epoch: 101/512: Loss = -0.5551758 :: Learning Rate = 0.0500000\n",
      "2023-12-04 18:31:32,434 [Thread-112 (] [INFO ]  Epoch: 201/512: Loss = -0.4499512 :: Learning Rate = 0.0500000\n",
      "2023-12-04 18:31:37,517 [Thread-112 (] [INFO ]  Epoch: 301/512: Loss = -0.9946289 :: Learning Rate = 0.0500000\n",
      "2023-12-04 18:31:42,666 [Thread-112 (] [INFO ]  Epoch: 401/512: Loss = -0.7973633 :: Learning Rate = 0.0500000\n",
      "2023-12-04 18:31:47,750 [Thread-112 (] [INFO ]  Epoch: 501/512: Loss = -1.4511719 :: Learning Rate = 0.0500000\n",
      "2023-12-04 18:31:48,334 [Thread-112 (] [INFO ]  Epoch: 512/512: Loss = -0.8984375 :: Learning Rate = 0.0500000\n",
      "2023-12-04 18:31:48,360 [Thread-112 (] [INFO ]  Completed run [ xhb22zqc ]\n"
     ]
    },
    {
     "data": {
      "application/vnd.jupyter.widget-view+json": {
       "model_id": "",
       "version_major": 2,
       "version_minor": 0
      },
      "text/plain": [
       "VBox(children=(Label(value='1.262 MB of 1.283 MB uploaded\\r'), FloatProgress(value=0.9831228833933185, max=1.0…"
      ]
     },
     "metadata": {},
     "output_type": "display_data"
    },
    {
     "data": {
      "text/html": [
       "<style>\n",
       "    table.wandb td:nth-child(1) { padding: 0 10px; text-align: left ; width: auto;} td:nth-child(2) {text-align: left ; width: 100%}\n",
       "    .wandb-row { display: flex; flex-direction: row; flex-wrap: wrap; justify-content: flex-start; width: 100% }\n",
       "    .wandb-col { display: flex; flex-direction: column; flex-basis: 100%; flex: 1; padding: 10px; }\n",
       "    </style>\n",
       "<div class=\"wandb-row\"><div class=\"wandb-col\"><h3>Run history:</h3><br/><table class=\"wandb\"><tr><td>loss</td><td>█▅▆▃▄▁▃</td></tr></table><br/></div><div class=\"wandb-col\"><h3>Run summary:</h3><br/><table class=\"wandb\"><tr><td>loss</td><td>-0.89844</td></tr></table><br/></div></div>"
      ],
      "text/plain": [
       "<IPython.core.display.HTML object>"
      ]
     },
     "metadata": {},
     "output_type": "display_data"
    },
    {
     "data": {
      "text/html": [
       " View run <strong style=\"color:#cdcd00\">sweet-sweep-36</strong> at: <a href='https://wandb.ai/rohanprasad/idl-project-flowers-facet/runs/xhb22zqc' target=\"_blank\">https://wandb.ai/rohanprasad/idl-project-flowers-facet/runs/xhb22zqc</a><br/>Synced 6 W&B file(s), 7 media file(s), 0 artifact file(s) and 0 other file(s)"
      ],
      "text/plain": [
       "<IPython.core.display.HTML object>"
      ]
     },
     "metadata": {},
     "output_type": "display_data"
    },
    {
     "data": {
      "text/html": [
       "Find logs at: <code>./wandb/run-20231204_183106-xhb22zqc/logs</code>"
      ],
      "text/plain": [
       "<IPython.core.display.HTML object>"
      ]
     },
     "metadata": {},
     "output_type": "display_data"
    },
    {
     "name": "stderr",
     "output_type": "stream",
     "text": [
      "\u001b[34m\u001b[1mwandb\u001b[0m: Agent Starting Run: 0ovk359g with config:\n",
      "\u001b[34m\u001b[1mwandb\u001b[0m: \tchannel: 512\n",
      "\u001b[34m\u001b[1mwandb\u001b[0m: \tlearning_rate: 0.05\n",
      "\u001b[34m\u001b[1mwandb\u001b[0m: \tlinear_probe_layer: layer1_3_conv3\n",
      "\u001b[34m\u001b[1mwandb\u001b[0m: \tmodel: RN50x4\n",
      "\u001b[34m\u001b[1mwandb\u001b[0m: \tnum_iterations: 512\n",
      "\u001b[34m\u001b[1mwandb\u001b[0m: \tobjective: neuron\n",
      "\u001b[34m\u001b[1mwandb\u001b[0m: \toptimizer: AdamW\n",
      "\u001b[34m\u001b[1mwandb\u001b[0m: \trandom_seed: 18630595\n",
      "\u001b[34m\u001b[1mwandb\u001b[0m: \tuse_std_transforms: True\n",
      "\u001b[34m\u001b[1mwandb\u001b[0m: \tuse_transforms: True\n",
      "\u001b[34m\u001b[1mwandb\u001b[0m: \tvisualization_layer: layer4_5_conv3\n"
     ]
    },
    {
     "data": {
      "text/html": [
       "Tracking run with wandb version 0.16.0"
      ],
      "text/plain": [
       "<IPython.core.display.HTML object>"
      ]
     },
     "metadata": {},
     "output_type": "display_data"
    },
    {
     "data": {
      "text/html": [
       "Run data is saved locally in <code>/apps/11785-f23-prj/wandb/run-20231204_183157-0ovk359g</code>"
      ],
      "text/plain": [
       "<IPython.core.display.HTML object>"
      ]
     },
     "metadata": {},
     "output_type": "display_data"
    },
    {
     "data": {
      "text/html": [
       "Syncing run <strong><a href='https://wandb.ai/rohanprasad/idl-project-flowers-facet/runs/0ovk359g' target=\"_blank\">wandering-sweep-37</a></strong> to <a href='https://wandb.ai/rohanprasad/idl-project-flowers-facet' target=\"_blank\">Weights & Biases</a> (<a href='https://wandb.me/run' target=\"_blank\">docs</a>)<br/>Sweep page: <a href='https://wandb.ai/rohanprasad/idl-project-flowers-facet/sweeps/cuq4fdws' target=\"_blank\">https://wandb.ai/rohanprasad/idl-project-flowers-facet/sweeps/cuq4fdws</a>"
      ],
      "text/plain": [
       "<IPython.core.display.HTML object>"
      ]
     },
     "metadata": {},
     "output_type": "display_data"
    },
    {
     "data": {
      "text/html": [
       " View project at <a href='https://wandb.ai/rohanprasad/idl-project-flowers-facet' target=\"_blank\">https://wandb.ai/rohanprasad/idl-project-flowers-facet</a>"
      ],
      "text/plain": [
       "<IPython.core.display.HTML object>"
      ]
     },
     "metadata": {},
     "output_type": "display_data"
    },
    {
     "data": {
      "text/html": [
       " View sweep at <a href='https://wandb.ai/rohanprasad/idl-project-flowers-facet/sweeps/cuq4fdws' target=\"_blank\">https://wandb.ai/rohanprasad/idl-project-flowers-facet/sweeps/cuq4fdws</a>"
      ],
      "text/plain": [
       "<IPython.core.display.HTML object>"
      ]
     },
     "metadata": {},
     "output_type": "display_data"
    },
    {
     "data": {
      "text/html": [
       " View run at <a href='https://wandb.ai/rohanprasad/idl-project-flowers-facet/runs/0ovk359g' target=\"_blank\">https://wandb.ai/rohanprasad/idl-project-flowers-facet/runs/0ovk359g</a>"
      ],
      "text/plain": [
       "<IPython.core.display.HTML object>"
      ]
     },
     "metadata": {},
     "output_type": "display_data"
    },
    {
     "name": "stderr",
     "output_type": "stream",
     "text": [
      "2023-12-04 18:32:08,319 [Thread-115 (] [INFO ]  Starting sweep [ run  0ovk359g ] with config = \n",
      "{'channel': 512, 'learning_rate': 0.05, 'linear_probe_layer': 'layer1_3_conv3', 'model': 'RN50x4', 'num_iterations': 512, 'objective': 'neuron', 'optimizer': 'AdamW', 'random_seed': 18630595, 'use_std_transforms': True, 'use_transforms': True, 'visualization_layer': 'layer4_5_conv3'}\n",
      "2023-12-04 18:32:08,321 [Thread-115 (] [INFO ]  Setting random seed to 18630595\n",
      "2023-12-04 18:32:08,323 [Thread-115 (] [INFO ]  Loading CLIP model [ RN50x4 ].\n",
      "2023-12-04 18:32:12,814 [Thread-115 (] [INFO ]  Finished loading model [ RN50x4 ]\n",
      "2023-12-04 18:32:12,816 [Thread-115 (] [INFO ]  Finished loading transforms [ Compose(\n",
      "    Resize(size=288, interpolation=bicubic, max_size=None, antialias=warn)\n",
      "    CenterCrop(size=(288, 288))\n",
      "    Normalize(mean=(0.48145466, 0.4578275, 0.40821073), std=(0.26862954, 0.26130258, 0.27577711))\n",
      ") ]\n",
      "2023-12-04 18:32:12,817 [Thread-115 (] [INFO ]  Registering hooks.\n",
      "2023-12-04 18:32:12,820 [Thread-115 (] [INFO ]  Finished registering hooks.\n",
      "2023-12-04 18:32:12,824 [Thread-115 (] [INFO ]  Retrieving weights of linear probe [ path = /apps/11785-f23-prj/faceted_visualization/probes/logs/flower/RN50x4/layer1_3_conv3/version_4_20/model_checkpoint.pth ]\n",
      "2023-12-04 18:32:12,829 [Thread-115 (] [INFO ]  Final list of transforms = [Resize(size=288, interpolation=bicubic, max_size=None, antialias=warn), CenterCrop(size=(288, 288)), Normalize(mean=(0.48145466, 0.4578275, 0.40821073), std=(0.26862954, 0.26130258, 0.27577711)), RandomAffine(degrees=[0.0, 0.0], translate=(0.03, 0.03), interpolation=InterpolationMode.NEAREST, fill=0), RandomAffine(degrees=[0.0, 0.0], scale=(0.9, 1.1), interpolation=InterpolationMode.NEAREST, fill=0), RandomRotation(degrees=[-10.0, 10.0], interpolation=InterpolationMode.NEAREST, expand=False, fill=0), RandomAffine(degrees=[0.0, 0.0], translate=(0.015, 0.015), interpolation=InterpolationMode.NEAREST, fill=0)]\n",
      "2023-12-04 18:32:12,830 [Thread-115 (] [INFO ]  Starting optimization process [ run_id = 0ovk359g ]...\n",
      "/opt/conda/lib/python3.10/site-packages/torchvision/transforms/functional.py:1603: UserWarning: The default value of the antialias parameter of all the resizing transforms (Resize(), RandomResizedCrop(), etc.) will change from None to True in v0.17, in order to be consistent across the PIL and Tensor backends. To suppress this warning, directly pass antialias=True (recommended, future default), antialias=None (current default, which means False for Tensors and True for PIL), or antialias=False (only works on Tensors - PIL will still use antialiasing). This also applies if you are using the inference transforms from the models weights: update the call to weights.transforms(antialias=True).\n",
      "  warnings.warn(\n",
      "2023-12-04 18:32:12,882 [Thread-115 (] [INFO ]  Epoch: 1/512: Loss = 0.0616455 :: Learning Rate = 0.0500000\n",
      "2023-12-04 18:32:18,151 [Thread-115 (] [INFO ]  Epoch: 101/512: Loss = -0.6562500 :: Learning Rate = 0.0500000\n",
      "2023-12-04 18:32:23,184 [Thread-115 (] [INFO ]  Epoch: 201/512: Loss = -0.8251953 :: Learning Rate = 0.0500000\n",
      "2023-12-04 18:32:28,204 [Thread-115 (] [INFO ]  Epoch: 301/512: Loss = -0.8847656 :: Learning Rate = 0.0500000\n",
      "2023-12-04 18:32:33,237 [Thread-115 (] [INFO ]  Epoch: 401/512: Loss = -1.1064453 :: Learning Rate = 0.0500000\n",
      "2023-12-04 18:32:38,183 [Thread-115 (] [INFO ]  Epoch: 501/512: Loss = -1.0410156 :: Learning Rate = 0.0500000\n",
      "2023-12-04 18:32:38,753 [Thread-115 (] [INFO ]  Epoch: 512/512: Loss = -1.1386719 :: Learning Rate = 0.0500000\n",
      "2023-12-04 18:32:38,777 [Thread-115 (] [INFO ]  Completed run [ 0ovk359g ]\n"
     ]
    },
    {
     "data": {
      "application/vnd.jupyter.widget-view+json": {
       "model_id": "",
       "version_major": 2,
       "version_minor": 0
      },
      "text/plain": [
       "VBox(children=(Label(value='1.194 MB of 1.194 MB uploaded\\r'), FloatProgress(value=1.0, max=1.0)))"
      ]
     },
     "metadata": {},
     "output_type": "display_data"
    },
    {
     "data": {
      "text/html": [
       "<style>\n",
       "    table.wandb td:nth-child(1) { padding: 0 10px; text-align: left ; width: auto;} td:nth-child(2) {text-align: left ; width: 100%}\n",
       "    .wandb-row { display: flex; flex-direction: row; flex-wrap: wrap; justify-content: flex-start; width: 100% }\n",
       "    .wandb-col { display: flex; flex-direction: column; flex-basis: 100%; flex: 1; padding: 10px; }\n",
       "    </style>\n",
       "<div class=\"wandb-row\"><div class=\"wandb-col\"><h3>Run history:</h3><br/><table class=\"wandb\"><tr><td>loss</td><td>█▄▃▂▁▂▁</td></tr></table><br/></div><div class=\"wandb-col\"><h3>Run summary:</h3><br/><table class=\"wandb\"><tr><td>loss</td><td>-1.13867</td></tr></table><br/></div></div>"
      ],
      "text/plain": [
       "<IPython.core.display.HTML object>"
      ]
     },
     "metadata": {},
     "output_type": "display_data"
    },
    {
     "data": {
      "text/html": [
       " View run <strong style=\"color:#cdcd00\">wandering-sweep-37</strong> at: <a href='https://wandb.ai/rohanprasad/idl-project-flowers-facet/runs/0ovk359g' target=\"_blank\">https://wandb.ai/rohanprasad/idl-project-flowers-facet/runs/0ovk359g</a><br/>Synced 6 W&B file(s), 7 media file(s), 0 artifact file(s) and 0 other file(s)"
      ],
      "text/plain": [
       "<IPython.core.display.HTML object>"
      ]
     },
     "metadata": {},
     "output_type": "display_data"
    },
    {
     "data": {
      "text/html": [
       "Find logs at: <code>./wandb/run-20231204_183157-0ovk359g/logs</code>"
      ],
      "text/plain": [
       "<IPython.core.display.HTML object>"
      ]
     },
     "metadata": {},
     "output_type": "display_data"
    },
    {
     "name": "stderr",
     "output_type": "stream",
     "text": [
      "\u001b[34m\u001b[1mwandb\u001b[0m: Agent Starting Run: vbhujoy4 with config:\n",
      "\u001b[34m\u001b[1mwandb\u001b[0m: \tchannel: 512\n",
      "\u001b[34m\u001b[1mwandb\u001b[0m: \tlearning_rate: 0.05\n",
      "\u001b[34m\u001b[1mwandb\u001b[0m: \tlinear_probe_layer: layer1_3_conv3\n",
      "\u001b[34m\u001b[1mwandb\u001b[0m: \tmodel: RN50x4\n",
      "\u001b[34m\u001b[1mwandb\u001b[0m: \tnum_iterations: 512\n",
      "\u001b[34m\u001b[1mwandb\u001b[0m: \tobjective: channel\n",
      "\u001b[34m\u001b[1mwandb\u001b[0m: \toptimizer: AdamW\n",
      "\u001b[34m\u001b[1mwandb\u001b[0m: \trandom_seed: 18630595\n",
      "\u001b[34m\u001b[1mwandb\u001b[0m: \tuse_std_transforms: True\n",
      "\u001b[34m\u001b[1mwandb\u001b[0m: \tuse_transforms: True\n",
      "\u001b[34m\u001b[1mwandb\u001b[0m: \tvisualization_layer: layer4_5_conv3\n"
     ]
    },
    {
     "data": {
      "text/html": [
       "Tracking run with wandb version 0.16.0"
      ],
      "text/plain": [
       "<IPython.core.display.HTML object>"
      ]
     },
     "metadata": {},
     "output_type": "display_data"
    },
    {
     "data": {
      "text/html": [
       "Run data is saved locally in <code>/apps/11785-f23-prj/wandb/run-20231204_183248-vbhujoy4</code>"
      ],
      "text/plain": [
       "<IPython.core.display.HTML object>"
      ]
     },
     "metadata": {},
     "output_type": "display_data"
    },
    {
     "data": {
      "text/html": [
       "Syncing run <strong><a href='https://wandb.ai/rohanprasad/idl-project-flowers-facet/runs/vbhujoy4' target=\"_blank\">devout-sweep-38</a></strong> to <a href='https://wandb.ai/rohanprasad/idl-project-flowers-facet' target=\"_blank\">Weights & Biases</a> (<a href='https://wandb.me/run' target=\"_blank\">docs</a>)<br/>Sweep page: <a href='https://wandb.ai/rohanprasad/idl-project-flowers-facet/sweeps/cuq4fdws' target=\"_blank\">https://wandb.ai/rohanprasad/idl-project-flowers-facet/sweeps/cuq4fdws</a>"
      ],
      "text/plain": [
       "<IPython.core.display.HTML object>"
      ]
     },
     "metadata": {},
     "output_type": "display_data"
    },
    {
     "data": {
      "text/html": [
       " View project at <a href='https://wandb.ai/rohanprasad/idl-project-flowers-facet' target=\"_blank\">https://wandb.ai/rohanprasad/idl-project-flowers-facet</a>"
      ],
      "text/plain": [
       "<IPython.core.display.HTML object>"
      ]
     },
     "metadata": {},
     "output_type": "display_data"
    },
    {
     "data": {
      "text/html": [
       " View sweep at <a href='https://wandb.ai/rohanprasad/idl-project-flowers-facet/sweeps/cuq4fdws' target=\"_blank\">https://wandb.ai/rohanprasad/idl-project-flowers-facet/sweeps/cuq4fdws</a>"
      ],
      "text/plain": [
       "<IPython.core.display.HTML object>"
      ]
     },
     "metadata": {},
     "output_type": "display_data"
    },
    {
     "data": {
      "text/html": [
       " View run at <a href='https://wandb.ai/rohanprasad/idl-project-flowers-facet/runs/vbhujoy4' target=\"_blank\">https://wandb.ai/rohanprasad/idl-project-flowers-facet/runs/vbhujoy4</a>"
      ],
      "text/plain": [
       "<IPython.core.display.HTML object>"
      ]
     },
     "metadata": {},
     "output_type": "display_data"
    },
    {
     "name": "stderr",
     "output_type": "stream",
     "text": [
      "2023-12-04 18:32:59,347 [Thread-118 (] [INFO ]  Starting sweep [ run  vbhujoy4 ] with config = \n",
      "{'channel': 512, 'learning_rate': 0.05, 'linear_probe_layer': 'layer1_3_conv3', 'model': 'RN50x4', 'num_iterations': 512, 'objective': 'channel', 'optimizer': 'AdamW', 'random_seed': 18630595, 'use_std_transforms': True, 'use_transforms': True, 'visualization_layer': 'layer4_5_conv3'}\n",
      "2023-12-04 18:32:59,350 [Thread-118 (] [INFO ]  Setting random seed to 18630595\n",
      "2023-12-04 18:32:59,351 [Thread-118 (] [INFO ]  Loading CLIP model [ RN50x4 ].\n",
      "2023-12-04 18:33:03,873 [Thread-118 (] [INFO ]  Finished loading model [ RN50x4 ]\n",
      "2023-12-04 18:33:03,875 [Thread-118 (] [INFO ]  Finished loading transforms [ Compose(\n",
      "    Resize(size=288, interpolation=bicubic, max_size=None, antialias=warn)\n",
      "    CenterCrop(size=(288, 288))\n",
      "    Normalize(mean=(0.48145466, 0.4578275, 0.40821073), std=(0.26862954, 0.26130258, 0.27577711))\n",
      ") ]\n",
      "2023-12-04 18:33:03,877 [Thread-118 (] [INFO ]  Registering hooks.\n",
      "2023-12-04 18:33:03,881 [Thread-118 (] [INFO ]  Finished registering hooks.\n",
      "2023-12-04 18:33:03,885 [Thread-118 (] [INFO ]  Retrieving weights of linear probe [ path = /apps/11785-f23-prj/faceted_visualization/probes/logs/flower/RN50x4/layer1_3_conv3/version_4_20/model_checkpoint.pth ]\n",
      "2023-12-04 18:33:03,893 [Thread-118 (] [INFO ]  Final list of transforms = [Resize(size=288, interpolation=bicubic, max_size=None, antialias=warn), CenterCrop(size=(288, 288)), Normalize(mean=(0.48145466, 0.4578275, 0.40821073), std=(0.26862954, 0.26130258, 0.27577711)), RandomAffine(degrees=[0.0, 0.0], translate=(0.03, 0.03), interpolation=InterpolationMode.NEAREST, fill=0), RandomAffine(degrees=[0.0, 0.0], scale=(0.9, 1.1), interpolation=InterpolationMode.NEAREST, fill=0), RandomRotation(degrees=[-10.0, 10.0], interpolation=InterpolationMode.NEAREST, expand=False, fill=0), RandomAffine(degrees=[0.0, 0.0], translate=(0.015, 0.015), interpolation=InterpolationMode.NEAREST, fill=0)]\n",
      "2023-12-04 18:33:03,894 [Thread-118 (] [INFO ]  Starting optimization process [ run_id = vbhujoy4 ]...\n",
      "/opt/conda/lib/python3.10/site-packages/torchvision/transforms/functional.py:1603: UserWarning: The default value of the antialias parameter of all the resizing transforms (Resize(), RandomResizedCrop(), etc.) will change from None to True in v0.17, in order to be consistent across the PIL and Tensor backends. To suppress this warning, directly pass antialias=True (recommended, future default), antialias=None (current default, which means False for Tensors and True for PIL), or antialias=False (only works on Tensors - PIL will still use antialiasing). This also applies if you are using the inference transforms from the models weights: update the call to weights.transforms(antialias=True).\n",
      "  warnings.warn(\n",
      "2023-12-04 18:33:03,945 [Thread-118 (] [INFO ]  Epoch: 1/512: Loss = 0.0239410 :: Learning Rate = 0.0500000\n",
      "2023-12-04 18:33:09,081 [Thread-118 (] [INFO ]  Epoch: 101/512: Loss = -0.3383789 :: Learning Rate = 0.0500000\n",
      "2023-12-04 18:33:14,155 [Thread-118 (] [INFO ]  Epoch: 201/512: Loss = -0.3820801 :: Learning Rate = 0.0500000\n",
      "2023-12-04 18:33:19,113 [Thread-118 (] [INFO ]  Epoch: 301/512: Loss = -0.4108887 :: Learning Rate = 0.0500000\n",
      "2023-12-04 18:33:24,088 [Thread-118 (] [INFO ]  Epoch: 401/512: Loss = -0.5122070 :: Learning Rate = 0.0500000\n",
      "2023-12-04 18:33:29,102 [Thread-118 (] [INFO ]  Epoch: 501/512: Loss = -0.5517578 :: Learning Rate = 0.0500000\n",
      "2023-12-04 18:33:29,712 [Thread-118 (] [INFO ]  Epoch: 512/512: Loss = -0.5786133 :: Learning Rate = 0.0500000\n",
      "2023-12-04 18:33:29,736 [Thread-118 (] [INFO ]  Completed run [ vbhujoy4 ]\n"
     ]
    },
    {
     "data": {
      "application/vnd.jupyter.widget-view+json": {
       "model_id": "",
       "version_major": 2,
       "version_minor": 0
      },
      "text/plain": [
       "VBox(children=(Label(value='1.261 MB of 1.261 MB uploaded\\r'), FloatProgress(value=1.0, max=1.0)))"
      ]
     },
     "metadata": {},
     "output_type": "display_data"
    },
    {
     "data": {
      "text/html": [
       "<style>\n",
       "    table.wandb td:nth-child(1) { padding: 0 10px; text-align: left ; width: auto;} td:nth-child(2) {text-align: left ; width: 100%}\n",
       "    .wandb-row { display: flex; flex-direction: row; flex-wrap: wrap; justify-content: flex-start; width: 100% }\n",
       "    .wandb-col { display: flex; flex-direction: column; flex-basis: 100%; flex: 1; padding: 10px; }\n",
       "    </style>\n",
       "<div class=\"wandb-row\"><div class=\"wandb-col\"><h3>Run history:</h3><br/><table class=\"wandb\"><tr><td>loss</td><td>█▄▃▃▂▁▁</td></tr></table><br/></div><div class=\"wandb-col\"><h3>Run summary:</h3><br/><table class=\"wandb\"><tr><td>loss</td><td>-0.57861</td></tr></table><br/></div></div>"
      ],
      "text/plain": [
       "<IPython.core.display.HTML object>"
      ]
     },
     "metadata": {},
     "output_type": "display_data"
    },
    {
     "data": {
      "text/html": [
       " View run <strong style=\"color:#cdcd00\">devout-sweep-38</strong> at: <a href='https://wandb.ai/rohanprasad/idl-project-flowers-facet/runs/vbhujoy4' target=\"_blank\">https://wandb.ai/rohanprasad/idl-project-flowers-facet/runs/vbhujoy4</a><br/>Synced 6 W&B file(s), 7 media file(s), 0 artifact file(s) and 0 other file(s)"
      ],
      "text/plain": [
       "<IPython.core.display.HTML object>"
      ]
     },
     "metadata": {},
     "output_type": "display_data"
    },
    {
     "data": {
      "text/html": [
       "Find logs at: <code>./wandb/run-20231204_183248-vbhujoy4/logs</code>"
      ],
      "text/plain": [
       "<IPython.core.display.HTML object>"
      ]
     },
     "metadata": {},
     "output_type": "display_data"
    },
    {
     "name": "stderr",
     "output_type": "stream",
     "text": [
      "\u001b[34m\u001b[1mwandb\u001b[0m: Agent Starting Run: er85i15p with config:\n",
      "\u001b[34m\u001b[1mwandb\u001b[0m: \tchannel: 512\n",
      "\u001b[34m\u001b[1mwandb\u001b[0m: \tlearning_rate: 0.05\n",
      "\u001b[34m\u001b[1mwandb\u001b[0m: \tlinear_probe_layer: layer1_3_relu3\n",
      "\u001b[34m\u001b[1mwandb\u001b[0m: \tmodel: RN50x4\n",
      "\u001b[34m\u001b[1mwandb\u001b[0m: \tnum_iterations: 512\n",
      "\u001b[34m\u001b[1mwandb\u001b[0m: \tobjective: neuron\n",
      "\u001b[34m\u001b[1mwandb\u001b[0m: \toptimizer: AdamW\n",
      "\u001b[34m\u001b[1mwandb\u001b[0m: \trandom_seed: 18630595\n",
      "\u001b[34m\u001b[1mwandb\u001b[0m: \tuse_std_transforms: True\n",
      "\u001b[34m\u001b[1mwandb\u001b[0m: \tuse_transforms: True\n",
      "\u001b[34m\u001b[1mwandb\u001b[0m: \tvisualization_layer: layer4_5_conv3\n"
     ]
    },
    {
     "data": {
      "text/html": [
       "Tracking run with wandb version 0.16.0"
      ],
      "text/plain": [
       "<IPython.core.display.HTML object>"
      ]
     },
     "metadata": {},
     "output_type": "display_data"
    },
    {
     "data": {
      "text/html": [
       "Run data is saved locally in <code>/apps/11785-f23-prj/wandb/run-20231204_183339-er85i15p</code>"
      ],
      "text/plain": [
       "<IPython.core.display.HTML object>"
      ]
     },
     "metadata": {},
     "output_type": "display_data"
    },
    {
     "data": {
      "text/html": [
       "Syncing run <strong><a href='https://wandb.ai/rohanprasad/idl-project-flowers-facet/runs/er85i15p' target=\"_blank\">sunny-sweep-39</a></strong> to <a href='https://wandb.ai/rohanprasad/idl-project-flowers-facet' target=\"_blank\">Weights & Biases</a> (<a href='https://wandb.me/run' target=\"_blank\">docs</a>)<br/>Sweep page: <a href='https://wandb.ai/rohanprasad/idl-project-flowers-facet/sweeps/cuq4fdws' target=\"_blank\">https://wandb.ai/rohanprasad/idl-project-flowers-facet/sweeps/cuq4fdws</a>"
      ],
      "text/plain": [
       "<IPython.core.display.HTML object>"
      ]
     },
     "metadata": {},
     "output_type": "display_data"
    },
    {
     "data": {
      "text/html": [
       " View project at <a href='https://wandb.ai/rohanprasad/idl-project-flowers-facet' target=\"_blank\">https://wandb.ai/rohanprasad/idl-project-flowers-facet</a>"
      ],
      "text/plain": [
       "<IPython.core.display.HTML object>"
      ]
     },
     "metadata": {},
     "output_type": "display_data"
    },
    {
     "data": {
      "text/html": [
       " View sweep at <a href='https://wandb.ai/rohanprasad/idl-project-flowers-facet/sweeps/cuq4fdws' target=\"_blank\">https://wandb.ai/rohanprasad/idl-project-flowers-facet/sweeps/cuq4fdws</a>"
      ],
      "text/plain": [
       "<IPython.core.display.HTML object>"
      ]
     },
     "metadata": {},
     "output_type": "display_data"
    },
    {
     "data": {
      "text/html": [
       " View run at <a href='https://wandb.ai/rohanprasad/idl-project-flowers-facet/runs/er85i15p' target=\"_blank\">https://wandb.ai/rohanprasad/idl-project-flowers-facet/runs/er85i15p</a>"
      ],
      "text/plain": [
       "<IPython.core.display.HTML object>"
      ]
     },
     "metadata": {},
     "output_type": "display_data"
    },
    {
     "name": "stderr",
     "output_type": "stream",
     "text": [
      "2023-12-04 18:33:49,346 [Thread-121 (] [INFO ]  Starting sweep [ run  er85i15p ] with config = \n",
      "{'channel': 512, 'learning_rate': 0.05, 'linear_probe_layer': 'layer1_3_relu3', 'model': 'RN50x4', 'num_iterations': 512, 'objective': 'neuron', 'optimizer': 'AdamW', 'random_seed': 18630595, 'use_std_transforms': True, 'use_transforms': True, 'visualization_layer': 'layer4_5_conv3'}\n",
      "2023-12-04 18:33:49,348 [Thread-121 (] [INFO ]  Setting random seed to 18630595\n",
      "2023-12-04 18:33:49,349 [Thread-121 (] [INFO ]  Loading CLIP model [ RN50x4 ].\n",
      "2023-12-04 18:33:53,961 [Thread-121 (] [INFO ]  Finished loading model [ RN50x4 ]\n",
      "2023-12-04 18:33:53,963 [Thread-121 (] [INFO ]  Finished loading transforms [ Compose(\n",
      "    Resize(size=288, interpolation=bicubic, max_size=None, antialias=warn)\n",
      "    CenterCrop(size=(288, 288))\n",
      "    Normalize(mean=(0.48145466, 0.4578275, 0.40821073), std=(0.26862954, 0.26130258, 0.27577711))\n",
      ") ]\n",
      "2023-12-04 18:33:53,965 [Thread-121 (] [INFO ]  Registering hooks.\n",
      "2023-12-04 18:33:53,967 [Thread-121 (] [INFO ]  Finished registering hooks.\n",
      "2023-12-04 18:33:53,972 [Thread-121 (] [INFO ]  Retrieving weights of linear probe [ path = /apps/11785-f23-prj/faceted_visualization/probes/logs/flower/RN50x4/layer1_3_relu3/version_4_20/model_checkpoint.pth ]\n",
      "2023-12-04 18:33:53,977 [Thread-121 (] [INFO ]  Final list of transforms = [Resize(size=288, interpolation=bicubic, max_size=None, antialias=warn), CenterCrop(size=(288, 288)), Normalize(mean=(0.48145466, 0.4578275, 0.40821073), std=(0.26862954, 0.26130258, 0.27577711)), RandomAffine(degrees=[0.0, 0.0], translate=(0.03, 0.03), interpolation=InterpolationMode.NEAREST, fill=0), RandomAffine(degrees=[0.0, 0.0], scale=(0.9, 1.1), interpolation=InterpolationMode.NEAREST, fill=0), RandomRotation(degrees=[-10.0, 10.0], interpolation=InterpolationMode.NEAREST, expand=False, fill=0), RandomAffine(degrees=[0.0, 0.0], translate=(0.015, 0.015), interpolation=InterpolationMode.NEAREST, fill=0)]\n",
      "2023-12-04 18:33:53,978 [Thread-121 (] [INFO ]  Starting optimization process [ run_id = er85i15p ]...\n",
      "/opt/conda/lib/python3.10/site-packages/torchvision/transforms/functional.py:1603: UserWarning: The default value of the antialias parameter of all the resizing transforms (Resize(), RandomResizedCrop(), etc.) will change from None to True in v0.17, in order to be consistent across the PIL and Tensor backends. To suppress this warning, directly pass antialias=True (recommended, future default), antialias=None (current default, which means False for Tensors and True for PIL), or antialias=False (only works on Tensors - PIL will still use antialiasing). This also applies if you are using the inference transforms from the models weights: update the call to weights.transforms(antialias=True).\n",
      "  warnings.warn(\n",
      "2023-12-04 18:33:54,026 [Thread-121 (] [INFO ]  Epoch: 1/512: Loss = -2.9804688 :: Learning Rate = 0.0500000\n",
      "2023-12-04 18:33:59,125 [Thread-121 (] [INFO ]  Epoch: 101/512: Loss = -1.1083984 :: Learning Rate = 0.0500000\n",
      "2023-12-04 18:34:04,154 [Thread-121 (] [INFO ]  Epoch: 201/512: Loss = -0.1684570 :: Learning Rate = 0.0500000\n",
      "2023-12-04 18:34:09,155 [Thread-121 (] [INFO ]  Epoch: 301/512: Loss = -0.7080078 :: Learning Rate = 0.0500000\n",
      "2023-12-04 18:34:14,200 [Thread-121 (] [INFO ]  Epoch: 401/512: Loss = -2.2187500 :: Learning Rate = 0.0500000\n",
      "2023-12-04 18:34:19,444 [Thread-121 (] [INFO ]  Epoch: 501/512: Loss = -2.1582031 :: Learning Rate = 0.0500000\n",
      "2023-12-04 18:34:20,063 [Thread-121 (] [INFO ]  Epoch: 512/512: Loss = -2.8925781 :: Learning Rate = 0.0500000\n",
      "2023-12-04 18:34:20,087 [Thread-121 (] [INFO ]  Completed run [ er85i15p ]\n"
     ]
    },
    {
     "data": {
      "application/vnd.jupyter.widget-view+json": {
       "model_id": "",
       "version_major": 2,
       "version_minor": 0
      },
      "text/plain": [
       "VBox(children=(Label(value='1.204 MB of 1.204 MB uploaded\\r'), FloatProgress(value=1.0, max=1.0)))"
      ]
     },
     "metadata": {},
     "output_type": "display_data"
    },
    {
     "data": {
      "text/html": [
       "<style>\n",
       "    table.wandb td:nth-child(1) { padding: 0 10px; text-align: left ; width: auto;} td:nth-child(2) {text-align: left ; width: 100%}\n",
       "    .wandb-row { display: flex; flex-direction: row; flex-wrap: wrap; justify-content: flex-start; width: 100% }\n",
       "    .wandb-col { display: flex; flex-direction: column; flex-basis: 100%; flex: 1; padding: 10px; }\n",
       "    </style>\n",
       "<div class=\"wandb-row\"><div class=\"wandb-col\"><h3>Run history:</h3><br/><table class=\"wandb\"><tr><td>loss</td><td>▁▆█▇▃▃▁</td></tr></table><br/></div><div class=\"wandb-col\"><h3>Run summary:</h3><br/><table class=\"wandb\"><tr><td>loss</td><td>-2.89258</td></tr></table><br/></div></div>"
      ],
      "text/plain": [
       "<IPython.core.display.HTML object>"
      ]
     },
     "metadata": {},
     "output_type": "display_data"
    },
    {
     "data": {
      "text/html": [
       " View run <strong style=\"color:#cdcd00\">sunny-sweep-39</strong> at: <a href='https://wandb.ai/rohanprasad/idl-project-flowers-facet/runs/er85i15p' target=\"_blank\">https://wandb.ai/rohanprasad/idl-project-flowers-facet/runs/er85i15p</a><br/>Synced 6 W&B file(s), 7 media file(s), 0 artifact file(s) and 0 other file(s)"
      ],
      "text/plain": [
       "<IPython.core.display.HTML object>"
      ]
     },
     "metadata": {},
     "output_type": "display_data"
    },
    {
     "data": {
      "text/html": [
       "Find logs at: <code>./wandb/run-20231204_183339-er85i15p/logs</code>"
      ],
      "text/plain": [
       "<IPython.core.display.HTML object>"
      ]
     },
     "metadata": {},
     "output_type": "display_data"
    },
    {
     "name": "stderr",
     "output_type": "stream",
     "text": [
      "\u001b[34m\u001b[1mwandb\u001b[0m: Agent Starting Run: 91ungovl with config:\n",
      "\u001b[34m\u001b[1mwandb\u001b[0m: \tchannel: 512\n",
      "\u001b[34m\u001b[1mwandb\u001b[0m: \tlearning_rate: 0.05\n",
      "\u001b[34m\u001b[1mwandb\u001b[0m: \tlinear_probe_layer: layer1_3_relu3\n",
      "\u001b[34m\u001b[1mwandb\u001b[0m: \tmodel: RN50x4\n",
      "\u001b[34m\u001b[1mwandb\u001b[0m: \tnum_iterations: 512\n",
      "\u001b[34m\u001b[1mwandb\u001b[0m: \tobjective: channel\n",
      "\u001b[34m\u001b[1mwandb\u001b[0m: \toptimizer: AdamW\n",
      "\u001b[34m\u001b[1mwandb\u001b[0m: \trandom_seed: 18630595\n",
      "\u001b[34m\u001b[1mwandb\u001b[0m: \tuse_std_transforms: True\n",
      "\u001b[34m\u001b[1mwandb\u001b[0m: \tuse_transforms: True\n",
      "\u001b[34m\u001b[1mwandb\u001b[0m: \tvisualization_layer: layer4_5_conv3\n"
     ]
    },
    {
     "data": {
      "text/html": [
       "Tracking run with wandb version 0.16.0"
      ],
      "text/plain": [
       "<IPython.core.display.HTML object>"
      ]
     },
     "metadata": {},
     "output_type": "display_data"
    },
    {
     "data": {
      "text/html": [
       "Run data is saved locally in <code>/apps/11785-f23-prj/wandb/run-20231204_183430-91ungovl</code>"
      ],
      "text/plain": [
       "<IPython.core.display.HTML object>"
      ]
     },
     "metadata": {},
     "output_type": "display_data"
    },
    {
     "data": {
      "text/html": [
       "Syncing run <strong><a href='https://wandb.ai/rohanprasad/idl-project-flowers-facet/runs/91ungovl' target=\"_blank\">silver-sweep-40</a></strong> to <a href='https://wandb.ai/rohanprasad/idl-project-flowers-facet' target=\"_blank\">Weights & Biases</a> (<a href='https://wandb.me/run' target=\"_blank\">docs</a>)<br/>Sweep page: <a href='https://wandb.ai/rohanprasad/idl-project-flowers-facet/sweeps/cuq4fdws' target=\"_blank\">https://wandb.ai/rohanprasad/idl-project-flowers-facet/sweeps/cuq4fdws</a>"
      ],
      "text/plain": [
       "<IPython.core.display.HTML object>"
      ]
     },
     "metadata": {},
     "output_type": "display_data"
    },
    {
     "data": {
      "text/html": [
       " View project at <a href='https://wandb.ai/rohanprasad/idl-project-flowers-facet' target=\"_blank\">https://wandb.ai/rohanprasad/idl-project-flowers-facet</a>"
      ],
      "text/plain": [
       "<IPython.core.display.HTML object>"
      ]
     },
     "metadata": {},
     "output_type": "display_data"
    },
    {
     "data": {
      "text/html": [
       " View sweep at <a href='https://wandb.ai/rohanprasad/idl-project-flowers-facet/sweeps/cuq4fdws' target=\"_blank\">https://wandb.ai/rohanprasad/idl-project-flowers-facet/sweeps/cuq4fdws</a>"
      ],
      "text/plain": [
       "<IPython.core.display.HTML object>"
      ]
     },
     "metadata": {},
     "output_type": "display_data"
    },
    {
     "data": {
      "text/html": [
       " View run at <a href='https://wandb.ai/rohanprasad/idl-project-flowers-facet/runs/91ungovl' target=\"_blank\">https://wandb.ai/rohanprasad/idl-project-flowers-facet/runs/91ungovl</a>"
      ],
      "text/plain": [
       "<IPython.core.display.HTML object>"
      ]
     },
     "metadata": {},
     "output_type": "display_data"
    },
    {
     "name": "stderr",
     "output_type": "stream",
     "text": [
      "2023-12-04 18:34:40,551 [Thread-124 (] [INFO ]  Starting sweep [ run  91ungovl ] with config = \n",
      "{'channel': 512, 'learning_rate': 0.05, 'linear_probe_layer': 'layer1_3_relu3', 'model': 'RN50x4', 'num_iterations': 512, 'objective': 'channel', 'optimizer': 'AdamW', 'random_seed': 18630595, 'use_std_transforms': True, 'use_transforms': True, 'visualization_layer': 'layer4_5_conv3'}\n",
      "2023-12-04 18:34:40,552 [Thread-124 (] [INFO ]  Setting random seed to 18630595\n",
      "2023-12-04 18:34:40,554 [Thread-124 (] [INFO ]  Loading CLIP model [ RN50x4 ].\n",
      "2023-12-04 18:34:45,041 [Thread-124 (] [INFO ]  Finished loading model [ RN50x4 ]\n",
      "2023-12-04 18:34:45,042 [Thread-124 (] [INFO ]  Finished loading transforms [ Compose(\n",
      "    Resize(size=288, interpolation=bicubic, max_size=None, antialias=warn)\n",
      "    CenterCrop(size=(288, 288))\n",
      "    Normalize(mean=(0.48145466, 0.4578275, 0.40821073), std=(0.26862954, 0.26130258, 0.27577711))\n",
      ") ]\n",
      "2023-12-04 18:34:45,043 [Thread-124 (] [INFO ]  Registering hooks.\n",
      "2023-12-04 18:34:45,046 [Thread-124 (] [INFO ]  Finished registering hooks.\n",
      "2023-12-04 18:34:45,050 [Thread-124 (] [INFO ]  Retrieving weights of linear probe [ path = /apps/11785-f23-prj/faceted_visualization/probes/logs/flower/RN50x4/layer1_3_relu3/version_4_20/model_checkpoint.pth ]\n",
      "2023-12-04 18:34:45,056 [Thread-124 (] [INFO ]  Final list of transforms = [Resize(size=288, interpolation=bicubic, max_size=None, antialias=warn), CenterCrop(size=(288, 288)), Normalize(mean=(0.48145466, 0.4578275, 0.40821073), std=(0.26862954, 0.26130258, 0.27577711)), RandomAffine(degrees=[0.0, 0.0], translate=(0.03, 0.03), interpolation=InterpolationMode.NEAREST, fill=0), RandomAffine(degrees=[0.0, 0.0], scale=(0.9, 1.1), interpolation=InterpolationMode.NEAREST, fill=0), RandomRotation(degrees=[-10.0, 10.0], interpolation=InterpolationMode.NEAREST, expand=False, fill=0), RandomAffine(degrees=[0.0, 0.0], translate=(0.015, 0.015), interpolation=InterpolationMode.NEAREST, fill=0)]\n",
      "2023-12-04 18:34:45,057 [Thread-124 (] [INFO ]  Starting optimization process [ run_id = 91ungovl ]...\n",
      "/opt/conda/lib/python3.10/site-packages/torchvision/transforms/functional.py:1603: UserWarning: The default value of the antialias parameter of all the resizing transforms (Resize(), RandomResizedCrop(), etc.) will change from None to True in v0.17, in order to be consistent across the PIL and Tensor backends. To suppress this warning, directly pass antialias=True (recommended, future default), antialias=None (current default, which means False for Tensors and True for PIL), or antialias=False (only works on Tensors - PIL will still use antialiasing). This also applies if you are using the inference transforms from the models weights: update the call to weights.transforms(antialias=True).\n",
      "  warnings.warn(\n",
      "2023-12-04 18:34:45,108 [Thread-124 (] [INFO ]  Epoch: 1/512: Loss = -3.0175781 :: Learning Rate = 0.0500000\n",
      "2023-12-04 18:34:50,228 [Thread-124 (] [INFO ]  Epoch: 101/512: Loss = -0.1212158 :: Learning Rate = 0.0500000\n",
      "2023-12-04 18:34:55,337 [Thread-124 (] [INFO ]  Epoch: 201/512: Loss = -0.8017578 :: Learning Rate = 0.0500000\n",
      "2023-12-04 18:35:00,311 [Thread-124 (] [INFO ]  Epoch: 301/512: Loss = -0.3466797 :: Learning Rate = 0.0500000\n",
      "2023-12-04 18:35:05,392 [Thread-124 (] [INFO ]  Epoch: 401/512: Loss = -1.1992188 :: Learning Rate = 0.0500000\n",
      "2023-12-04 18:35:10,494 [Thread-124 (] [INFO ]  Epoch: 501/512: Loss = -2.7402344 :: Learning Rate = 0.0500000\n",
      "2023-12-04 18:35:11,083 [Thread-124 (] [INFO ]  Epoch: 512/512: Loss = -1.4472656 :: Learning Rate = 0.0500000\n",
      "2023-12-04 18:35:11,108 [Thread-124 (] [INFO ]  Completed run [ 91ungovl ]\n"
     ]
    },
    {
     "data": {
      "application/vnd.jupyter.widget-view+json": {
       "model_id": "",
       "version_major": 2,
       "version_minor": 0
      },
      "text/plain": [
       "VBox(children=(Label(value='1.221 MB of 1.221 MB uploaded\\r'), FloatProgress(value=1.0, max=1.0)))"
      ]
     },
     "metadata": {},
     "output_type": "display_data"
    },
    {
     "data": {
      "text/html": [
       "<style>\n",
       "    table.wandb td:nth-child(1) { padding: 0 10px; text-align: left ; width: auto;} td:nth-child(2) {text-align: left ; width: 100%}\n",
       "    .wandb-row { display: flex; flex-direction: row; flex-wrap: wrap; justify-content: flex-start; width: 100% }\n",
       "    .wandb-col { display: flex; flex-direction: column; flex-basis: 100%; flex: 1; padding: 10px; }\n",
       "    </style>\n",
       "<div class=\"wandb-row\"><div class=\"wandb-col\"><h3>Run history:</h3><br/><table class=\"wandb\"><tr><td>loss</td><td>▁█▆▇▅▂▅</td></tr></table><br/></div><div class=\"wandb-col\"><h3>Run summary:</h3><br/><table class=\"wandb\"><tr><td>loss</td><td>-1.44727</td></tr></table><br/></div></div>"
      ],
      "text/plain": [
       "<IPython.core.display.HTML object>"
      ]
     },
     "metadata": {},
     "output_type": "display_data"
    },
    {
     "data": {
      "text/html": [
       " View run <strong style=\"color:#cdcd00\">silver-sweep-40</strong> at: <a href='https://wandb.ai/rohanprasad/idl-project-flowers-facet/runs/91ungovl' target=\"_blank\">https://wandb.ai/rohanprasad/idl-project-flowers-facet/runs/91ungovl</a><br/>Synced 6 W&B file(s), 7 media file(s), 0 artifact file(s) and 0 other file(s)"
      ],
      "text/plain": [
       "<IPython.core.display.HTML object>"
      ]
     },
     "metadata": {},
     "output_type": "display_data"
    },
    {
     "data": {
      "text/html": [
       "Find logs at: <code>./wandb/run-20231204_183430-91ungovl/logs</code>"
      ],
      "text/plain": [
       "<IPython.core.display.HTML object>"
      ]
     },
     "metadata": {},
     "output_type": "display_data"
    },
    {
     "name": "stderr",
     "output_type": "stream",
     "text": [
      "\u001b[34m\u001b[1mwandb\u001b[0m: Agent Starting Run: gz8fd360 with config:\n",
      "\u001b[34m\u001b[1mwandb\u001b[0m: \tchannel: 512\n",
      "\u001b[34m\u001b[1mwandb\u001b[0m: \tlearning_rate: 0.05\n",
      "\u001b[34m\u001b[1mwandb\u001b[0m: \tlinear_probe_layer: layer2_5_conv3\n",
      "\u001b[34m\u001b[1mwandb\u001b[0m: \tmodel: RN50x4\n",
      "\u001b[34m\u001b[1mwandb\u001b[0m: \tnum_iterations: 512\n",
      "\u001b[34m\u001b[1mwandb\u001b[0m: \tobjective: neuron\n",
      "\u001b[34m\u001b[1mwandb\u001b[0m: \toptimizer: AdamW\n",
      "\u001b[34m\u001b[1mwandb\u001b[0m: \trandom_seed: 18630595\n",
      "\u001b[34m\u001b[1mwandb\u001b[0m: \tuse_std_transforms: True\n",
      "\u001b[34m\u001b[1mwandb\u001b[0m: \tuse_transforms: True\n",
      "\u001b[34m\u001b[1mwandb\u001b[0m: \tvisualization_layer: layer4_5_conv3\n"
     ]
    },
    {
     "data": {
      "text/html": [
       "Tracking run with wandb version 0.16.0"
      ],
      "text/plain": [
       "<IPython.core.display.HTML object>"
      ]
     },
     "metadata": {},
     "output_type": "display_data"
    },
    {
     "data": {
      "text/html": [
       "Run data is saved locally in <code>/apps/11785-f23-prj/wandb/run-20231204_183521-gz8fd360</code>"
      ],
      "text/plain": [
       "<IPython.core.display.HTML object>"
      ]
     },
     "metadata": {},
     "output_type": "display_data"
    },
    {
     "data": {
      "text/html": [
       "Syncing run <strong><a href='https://wandb.ai/rohanprasad/idl-project-flowers-facet/runs/gz8fd360' target=\"_blank\">floral-sweep-41</a></strong> to <a href='https://wandb.ai/rohanprasad/idl-project-flowers-facet' target=\"_blank\">Weights & Biases</a> (<a href='https://wandb.me/run' target=\"_blank\">docs</a>)<br/>Sweep page: <a href='https://wandb.ai/rohanprasad/idl-project-flowers-facet/sweeps/cuq4fdws' target=\"_blank\">https://wandb.ai/rohanprasad/idl-project-flowers-facet/sweeps/cuq4fdws</a>"
      ],
      "text/plain": [
       "<IPython.core.display.HTML object>"
      ]
     },
     "metadata": {},
     "output_type": "display_data"
    },
    {
     "data": {
      "text/html": [
       " View project at <a href='https://wandb.ai/rohanprasad/idl-project-flowers-facet' target=\"_blank\">https://wandb.ai/rohanprasad/idl-project-flowers-facet</a>"
      ],
      "text/plain": [
       "<IPython.core.display.HTML object>"
      ]
     },
     "metadata": {},
     "output_type": "display_data"
    },
    {
     "data": {
      "text/html": [
       " View sweep at <a href='https://wandb.ai/rohanprasad/idl-project-flowers-facet/sweeps/cuq4fdws' target=\"_blank\">https://wandb.ai/rohanprasad/idl-project-flowers-facet/sweeps/cuq4fdws</a>"
      ],
      "text/plain": [
       "<IPython.core.display.HTML object>"
      ]
     },
     "metadata": {},
     "output_type": "display_data"
    },
    {
     "data": {
      "text/html": [
       " View run at <a href='https://wandb.ai/rohanprasad/idl-project-flowers-facet/runs/gz8fd360' target=\"_blank\">https://wandb.ai/rohanprasad/idl-project-flowers-facet/runs/gz8fd360</a>"
      ],
      "text/plain": [
       "<IPython.core.display.HTML object>"
      ]
     },
     "metadata": {},
     "output_type": "display_data"
    },
    {
     "name": "stderr",
     "output_type": "stream",
     "text": [
      "2023-12-04 18:35:31,602 [Thread-127 (] [INFO ]  Starting sweep [ run  gz8fd360 ] with config = \n",
      "{'channel': 512, 'learning_rate': 0.05, 'linear_probe_layer': 'layer2_5_conv3', 'model': 'RN50x4', 'num_iterations': 512, 'objective': 'neuron', 'optimizer': 'AdamW', 'random_seed': 18630595, 'use_std_transforms': True, 'use_transforms': True, 'visualization_layer': 'layer4_5_conv3'}\n",
      "2023-12-04 18:35:31,603 [Thread-127 (] [INFO ]  Setting random seed to 18630595\n",
      "2023-12-04 18:35:31,606 [Thread-127 (] [INFO ]  Loading CLIP model [ RN50x4 ].\n",
      "2023-12-04 18:35:36,275 [Thread-127 (] [INFO ]  Finished loading model [ RN50x4 ]\n",
      "2023-12-04 18:35:36,277 [Thread-127 (] [INFO ]  Finished loading transforms [ Compose(\n",
      "    Resize(size=288, interpolation=bicubic, max_size=None, antialias=warn)\n",
      "    CenterCrop(size=(288, 288))\n",
      "    Normalize(mean=(0.48145466, 0.4578275, 0.40821073), std=(0.26862954, 0.26130258, 0.27577711))\n",
      ") ]\n",
      "2023-12-04 18:35:36,279 [Thread-127 (] [INFO ]  Registering hooks.\n",
      "2023-12-04 18:35:36,282 [Thread-127 (] [INFO ]  Finished registering hooks.\n",
      "2023-12-04 18:35:36,286 [Thread-127 (] [INFO ]  Retrieving weights of linear probe [ path = /apps/11785-f23-prj/faceted_visualization/probes/logs/flower/RN50x4/layer2_5_conv3/version_4_20/model_checkpoint.pth ]\n",
      "2023-12-04 18:35:36,290 [Thread-127 (] [INFO ]  Final list of transforms = [Resize(size=288, interpolation=bicubic, max_size=None, antialias=warn), CenterCrop(size=(288, 288)), Normalize(mean=(0.48145466, 0.4578275, 0.40821073), std=(0.26862954, 0.26130258, 0.27577711)), RandomAffine(degrees=[0.0, 0.0], translate=(0.03, 0.03), interpolation=InterpolationMode.NEAREST, fill=0), RandomAffine(degrees=[0.0, 0.0], scale=(0.9, 1.1), interpolation=InterpolationMode.NEAREST, fill=0), RandomRotation(degrees=[-10.0, 10.0], interpolation=InterpolationMode.NEAREST, expand=False, fill=0), RandomAffine(degrees=[0.0, 0.0], translate=(0.015, 0.015), interpolation=InterpolationMode.NEAREST, fill=0)]\n",
      "2023-12-04 18:35:36,291 [Thread-127 (] [INFO ]  Starting optimization process [ run_id = gz8fd360 ]...\n",
      "/opt/conda/lib/python3.10/site-packages/torchvision/transforms/functional.py:1603: UserWarning: The default value of the antialias parameter of all the resizing transforms (Resize(), RandomResizedCrop(), etc.) will change from None to True in v0.17, in order to be consistent across the PIL and Tensor backends. To suppress this warning, directly pass antialias=True (recommended, future default), antialias=None (current default, which means False for Tensors and True for PIL), or antialias=False (only works on Tensors - PIL will still use antialiasing). This also applies if you are using the inference transforms from the models weights: update the call to weights.transforms(antialias=True).\n",
      "  warnings.warn(\n",
      "2023-12-04 18:35:36,335 [Thread-127 (] [INFO ]  Epoch: 1/512: Loss = 0.0765381 :: Learning Rate = 0.0500000\n",
      "2023-12-04 18:35:40,984 [Thread-127 (] [INFO ]  Epoch: 101/512: Loss = -0.5805664 :: Learning Rate = 0.0500000\n",
      "2023-12-04 18:35:45,581 [Thread-127 (] [INFO ]  Epoch: 201/512: Loss = -0.6562500 :: Learning Rate = 0.0500000\n",
      "2023-12-04 18:35:50,179 [Thread-127 (] [INFO ]  Epoch: 301/512: Loss = -0.7846680 :: Learning Rate = 0.0500000\n",
      "2023-12-04 18:35:54,807 [Thread-127 (] [INFO ]  Epoch: 401/512: Loss = -1.0791016 :: Learning Rate = 0.0500000\n",
      "2023-12-04 18:35:59,550 [Thread-127 (] [INFO ]  Epoch: 501/512: Loss = -0.8813477 :: Learning Rate = 0.0500000\n",
      "2023-12-04 18:36:00,152 [Thread-127 (] [INFO ]  Epoch: 512/512: Loss = -1.0156250 :: Learning Rate = 0.0500000\n",
      "2023-12-04 18:36:00,177 [Thread-127 (] [INFO ]  Completed run [ gz8fd360 ]\n"
     ]
    },
    {
     "data": {
      "application/vnd.jupyter.widget-view+json": {
       "model_id": "",
       "version_major": 2,
       "version_minor": 0
      },
      "text/plain": [
       "VBox(children=(Label(value='1.196 MB of 1.196 MB uploaded\\r'), FloatProgress(value=1.0, max=1.0)))"
      ]
     },
     "metadata": {},
     "output_type": "display_data"
    },
    {
     "data": {
      "text/html": [
       "<style>\n",
       "    table.wandb td:nth-child(1) { padding: 0 10px; text-align: left ; width: auto;} td:nth-child(2) {text-align: left ; width: 100%}\n",
       "    .wandb-row { display: flex; flex-direction: row; flex-wrap: wrap; justify-content: flex-start; width: 100% }\n",
       "    .wandb-col { display: flex; flex-direction: column; flex-basis: 100%; flex: 1; padding: 10px; }\n",
       "    </style>\n",
       "<div class=\"wandb-row\"><div class=\"wandb-col\"><h3>Run history:</h3><br/><table class=\"wandb\"><tr><td>loss</td><td>█▄▄▃▁▂▁</td></tr></table><br/></div><div class=\"wandb-col\"><h3>Run summary:</h3><br/><table class=\"wandb\"><tr><td>loss</td><td>-1.01562</td></tr></table><br/></div></div>"
      ],
      "text/plain": [
       "<IPython.core.display.HTML object>"
      ]
     },
     "metadata": {},
     "output_type": "display_data"
    },
    {
     "data": {
      "text/html": [
       " View run <strong style=\"color:#cdcd00\">floral-sweep-41</strong> at: <a href='https://wandb.ai/rohanprasad/idl-project-flowers-facet/runs/gz8fd360' target=\"_blank\">https://wandb.ai/rohanprasad/idl-project-flowers-facet/runs/gz8fd360</a><br/>Synced 6 W&B file(s), 7 media file(s), 0 artifact file(s) and 0 other file(s)"
      ],
      "text/plain": [
       "<IPython.core.display.HTML object>"
      ]
     },
     "metadata": {},
     "output_type": "display_data"
    },
    {
     "data": {
      "text/html": [
       "Find logs at: <code>./wandb/run-20231204_183521-gz8fd360/logs</code>"
      ],
      "text/plain": [
       "<IPython.core.display.HTML object>"
      ]
     },
     "metadata": {},
     "output_type": "display_data"
    },
    {
     "name": "stderr",
     "output_type": "stream",
     "text": [
      "\u001b[34m\u001b[1mwandb\u001b[0m: Agent Starting Run: vesedavx with config:\n",
      "\u001b[34m\u001b[1mwandb\u001b[0m: \tchannel: 512\n",
      "\u001b[34m\u001b[1mwandb\u001b[0m: \tlearning_rate: 0.05\n",
      "\u001b[34m\u001b[1mwandb\u001b[0m: \tlinear_probe_layer: layer2_5_conv3\n",
      "\u001b[34m\u001b[1mwandb\u001b[0m: \tmodel: RN50x4\n",
      "\u001b[34m\u001b[1mwandb\u001b[0m: \tnum_iterations: 512\n",
      "\u001b[34m\u001b[1mwandb\u001b[0m: \tobjective: channel\n",
      "\u001b[34m\u001b[1mwandb\u001b[0m: \toptimizer: AdamW\n",
      "\u001b[34m\u001b[1mwandb\u001b[0m: \trandom_seed: 18630595\n",
      "\u001b[34m\u001b[1mwandb\u001b[0m: \tuse_std_transforms: True\n",
      "\u001b[34m\u001b[1mwandb\u001b[0m: \tuse_transforms: True\n",
      "\u001b[34m\u001b[1mwandb\u001b[0m: \tvisualization_layer: layer4_5_conv3\n"
     ]
    },
    {
     "data": {
      "text/html": [
       "Tracking run with wandb version 0.16.0"
      ],
      "text/plain": [
       "<IPython.core.display.HTML object>"
      ]
     },
     "metadata": {},
     "output_type": "display_data"
    },
    {
     "data": {
      "text/html": [
       "Run data is saved locally in <code>/apps/11785-f23-prj/wandb/run-20231204_183607-vesedavx</code>"
      ],
      "text/plain": [
       "<IPython.core.display.HTML object>"
      ]
     },
     "metadata": {},
     "output_type": "display_data"
    },
    {
     "data": {
      "text/html": [
       "Syncing run <strong><a href='https://wandb.ai/rohanprasad/idl-project-flowers-facet/runs/vesedavx' target=\"_blank\">exalted-sweep-42</a></strong> to <a href='https://wandb.ai/rohanprasad/idl-project-flowers-facet' target=\"_blank\">Weights & Biases</a> (<a href='https://wandb.me/run' target=\"_blank\">docs</a>)<br/>Sweep page: <a href='https://wandb.ai/rohanprasad/idl-project-flowers-facet/sweeps/cuq4fdws' target=\"_blank\">https://wandb.ai/rohanprasad/idl-project-flowers-facet/sweeps/cuq4fdws</a>"
      ],
      "text/plain": [
       "<IPython.core.display.HTML object>"
      ]
     },
     "metadata": {},
     "output_type": "display_data"
    },
    {
     "data": {
      "text/html": [
       " View project at <a href='https://wandb.ai/rohanprasad/idl-project-flowers-facet' target=\"_blank\">https://wandb.ai/rohanprasad/idl-project-flowers-facet</a>"
      ],
      "text/plain": [
       "<IPython.core.display.HTML object>"
      ]
     },
     "metadata": {},
     "output_type": "display_data"
    },
    {
     "data": {
      "text/html": [
       " View sweep at <a href='https://wandb.ai/rohanprasad/idl-project-flowers-facet/sweeps/cuq4fdws' target=\"_blank\">https://wandb.ai/rohanprasad/idl-project-flowers-facet/sweeps/cuq4fdws</a>"
      ],
      "text/plain": [
       "<IPython.core.display.HTML object>"
      ]
     },
     "metadata": {},
     "output_type": "display_data"
    },
    {
     "data": {
      "text/html": [
       " View run at <a href='https://wandb.ai/rohanprasad/idl-project-flowers-facet/runs/vesedavx' target=\"_blank\">https://wandb.ai/rohanprasad/idl-project-flowers-facet/runs/vesedavx</a>"
      ],
      "text/plain": [
       "<IPython.core.display.HTML object>"
      ]
     },
     "metadata": {},
     "output_type": "display_data"
    },
    {
     "name": "stderr",
     "output_type": "stream",
     "text": [
      "2023-12-04 18:36:17,758 [Thread-130 (] [INFO ]  Starting sweep [ run  vesedavx ] with config = \n",
      "{'channel': 512, 'learning_rate': 0.05, 'linear_probe_layer': 'layer2_5_conv3', 'model': 'RN50x4', 'num_iterations': 512, 'objective': 'channel', 'optimizer': 'AdamW', 'random_seed': 18630595, 'use_std_transforms': True, 'use_transforms': True, 'visualization_layer': 'layer4_5_conv3'}\n",
      "2023-12-04 18:36:17,760 [Thread-130 (] [INFO ]  Setting random seed to 18630595\n",
      "2023-12-04 18:36:17,761 [Thread-130 (] [INFO ]  Loading CLIP model [ RN50x4 ].\n",
      "2023-12-04 18:36:22,460 [Thread-130 (] [INFO ]  Finished loading model [ RN50x4 ]\n",
      "2023-12-04 18:36:22,462 [Thread-130 (] [INFO ]  Finished loading transforms [ Compose(\n",
      "    Resize(size=288, interpolation=bicubic, max_size=None, antialias=warn)\n",
      "    CenterCrop(size=(288, 288))\n",
      "    Normalize(mean=(0.48145466, 0.4578275, 0.40821073), std=(0.26862954, 0.26130258, 0.27577711))\n",
      ") ]\n",
      "2023-12-04 18:36:22,463 [Thread-130 (] [INFO ]  Registering hooks.\n",
      "2023-12-04 18:36:22,466 [Thread-130 (] [INFO ]  Finished registering hooks.\n",
      "2023-12-04 18:36:22,470 [Thread-130 (] [INFO ]  Retrieving weights of linear probe [ path = /apps/11785-f23-prj/faceted_visualization/probes/logs/flower/RN50x4/layer2_5_conv3/version_4_20/model_checkpoint.pth ]\n",
      "2023-12-04 18:36:22,474 [Thread-130 (] [INFO ]  Final list of transforms = [Resize(size=288, interpolation=bicubic, max_size=None, antialias=warn), CenterCrop(size=(288, 288)), Normalize(mean=(0.48145466, 0.4578275, 0.40821073), std=(0.26862954, 0.26130258, 0.27577711)), RandomAffine(degrees=[0.0, 0.0], translate=(0.03, 0.03), interpolation=InterpolationMode.NEAREST, fill=0), RandomAffine(degrees=[0.0, 0.0], scale=(0.9, 1.1), interpolation=InterpolationMode.NEAREST, fill=0), RandomRotation(degrees=[-10.0, 10.0], interpolation=InterpolationMode.NEAREST, expand=False, fill=0), RandomAffine(degrees=[0.0, 0.0], translate=(0.015, 0.015), interpolation=InterpolationMode.NEAREST, fill=0)]\n",
      "2023-12-04 18:36:22,476 [Thread-130 (] [INFO ]  Starting optimization process [ run_id = vesedavx ]...\n",
      "/opt/conda/lib/python3.10/site-packages/torchvision/transforms/functional.py:1603: UserWarning: The default value of the antialias parameter of all the resizing transforms (Resize(), RandomResizedCrop(), etc.) will change from None to True in v0.17, in order to be consistent across the PIL and Tensor backends. To suppress this warning, directly pass antialias=True (recommended, future default), antialias=None (current default, which means False for Tensors and True for PIL), or antialias=False (only works on Tensors - PIL will still use antialiasing). This also applies if you are using the inference transforms from the models weights: update the call to weights.transforms(antialias=True).\n",
      "  warnings.warn(\n",
      "2023-12-04 18:36:22,520 [Thread-130 (] [INFO ]  Epoch: 1/512: Loss = 0.0388184 :: Learning Rate = 0.0500000\n",
      "2023-12-04 18:36:27,123 [Thread-130 (] [INFO ]  Epoch: 101/512: Loss = -0.2778320 :: Learning Rate = 0.0500000\n",
      "2023-12-04 18:36:31,776 [Thread-130 (] [INFO ]  Epoch: 201/512: Loss = -0.3461914 :: Learning Rate = 0.0500000\n",
      "2023-12-04 18:36:36,386 [Thread-130 (] [INFO ]  Epoch: 301/512: Loss = -0.4523926 :: Learning Rate = 0.0500000\n",
      "2023-12-04 18:36:40,948 [Thread-130 (] [INFO ]  Epoch: 401/512: Loss = -0.4965820 :: Learning Rate = 0.0500000\n",
      "2023-12-04 18:36:45,553 [Thread-130 (] [INFO ]  Epoch: 501/512: Loss = -0.5532227 :: Learning Rate = 0.0500000\n",
      "2023-12-04 18:36:46,082 [Thread-130 (] [INFO ]  Epoch: 512/512: Loss = -0.5986328 :: Learning Rate = 0.0500000\n",
      "2023-12-04 18:36:46,106 [Thread-130 (] [INFO ]  Completed run [ vesedavx ]\n"
     ]
    },
    {
     "data": {
      "application/vnd.jupyter.widget-view+json": {
       "model_id": "",
       "version_major": 2,
       "version_minor": 0
      },
      "text/plain": [
       "VBox(children=(Label(value='1.269 MB of 1.269 MB uploaded\\r'), FloatProgress(value=1.0, max=1.0)))"
      ]
     },
     "metadata": {},
     "output_type": "display_data"
    },
    {
     "data": {
      "text/html": [
       "<style>\n",
       "    table.wandb td:nth-child(1) { padding: 0 10px; text-align: left ; width: auto;} td:nth-child(2) {text-align: left ; width: 100%}\n",
       "    .wandb-row { display: flex; flex-direction: row; flex-wrap: wrap; justify-content: flex-start; width: 100% }\n",
       "    .wandb-col { display: flex; flex-direction: column; flex-basis: 100%; flex: 1; padding: 10px; }\n",
       "    </style>\n",
       "<div class=\"wandb-row\"><div class=\"wandb-col\"><h3>Run history:</h3><br/><table class=\"wandb\"><tr><td>loss</td><td>█▅▄▃▂▁▁</td></tr></table><br/></div><div class=\"wandb-col\"><h3>Run summary:</h3><br/><table class=\"wandb\"><tr><td>loss</td><td>-0.59863</td></tr></table><br/></div></div>"
      ],
      "text/plain": [
       "<IPython.core.display.HTML object>"
      ]
     },
     "metadata": {},
     "output_type": "display_data"
    },
    {
     "data": {
      "text/html": [
       " View run <strong style=\"color:#cdcd00\">exalted-sweep-42</strong> at: <a href='https://wandb.ai/rohanprasad/idl-project-flowers-facet/runs/vesedavx' target=\"_blank\">https://wandb.ai/rohanprasad/idl-project-flowers-facet/runs/vesedavx</a><br/>Synced 6 W&B file(s), 7 media file(s), 0 artifact file(s) and 0 other file(s)"
      ],
      "text/plain": [
       "<IPython.core.display.HTML object>"
      ]
     },
     "metadata": {},
     "output_type": "display_data"
    },
    {
     "data": {
      "text/html": [
       "Find logs at: <code>./wandb/run-20231204_183607-vesedavx/logs</code>"
      ],
      "text/plain": [
       "<IPython.core.display.HTML object>"
      ]
     },
     "metadata": {},
     "output_type": "display_data"
    },
    {
     "name": "stderr",
     "output_type": "stream",
     "text": [
      "\u001b[34m\u001b[1mwandb\u001b[0m: Agent Starting Run: 7tf0x3hv with config:\n",
      "\u001b[34m\u001b[1mwandb\u001b[0m: \tchannel: 512\n",
      "\u001b[34m\u001b[1mwandb\u001b[0m: \tlearning_rate: 0.05\n",
      "\u001b[34m\u001b[1mwandb\u001b[0m: \tlinear_probe_layer: layer2_5_relu3\n",
      "\u001b[34m\u001b[1mwandb\u001b[0m: \tmodel: RN50x4\n",
      "\u001b[34m\u001b[1mwandb\u001b[0m: \tnum_iterations: 512\n",
      "\u001b[34m\u001b[1mwandb\u001b[0m: \tobjective: neuron\n",
      "\u001b[34m\u001b[1mwandb\u001b[0m: \toptimizer: AdamW\n",
      "\u001b[34m\u001b[1mwandb\u001b[0m: \trandom_seed: 18630595\n",
      "\u001b[34m\u001b[1mwandb\u001b[0m: \tuse_std_transforms: True\n",
      "\u001b[34m\u001b[1mwandb\u001b[0m: \tuse_transforms: True\n",
      "\u001b[34m\u001b[1mwandb\u001b[0m: \tvisualization_layer: layer4_5_conv3\n"
     ]
    },
    {
     "data": {
      "text/html": [
       "Tracking run with wandb version 0.16.0"
      ],
      "text/plain": [
       "<IPython.core.display.HTML object>"
      ]
     },
     "metadata": {},
     "output_type": "display_data"
    },
    {
     "data": {
      "text/html": [
       "Run data is saved locally in <code>/apps/11785-f23-prj/wandb/run-20231204_183653-7tf0x3hv</code>"
      ],
      "text/plain": [
       "<IPython.core.display.HTML object>"
      ]
     },
     "metadata": {},
     "output_type": "display_data"
    },
    {
     "data": {
      "text/html": [
       "Syncing run <strong><a href='https://wandb.ai/rohanprasad/idl-project-flowers-facet/runs/7tf0x3hv' target=\"_blank\">dauntless-sweep-43</a></strong> to <a href='https://wandb.ai/rohanprasad/idl-project-flowers-facet' target=\"_blank\">Weights & Biases</a> (<a href='https://wandb.me/run' target=\"_blank\">docs</a>)<br/>Sweep page: <a href='https://wandb.ai/rohanprasad/idl-project-flowers-facet/sweeps/cuq4fdws' target=\"_blank\">https://wandb.ai/rohanprasad/idl-project-flowers-facet/sweeps/cuq4fdws</a>"
      ],
      "text/plain": [
       "<IPython.core.display.HTML object>"
      ]
     },
     "metadata": {},
     "output_type": "display_data"
    },
    {
     "data": {
      "text/html": [
       " View project at <a href='https://wandb.ai/rohanprasad/idl-project-flowers-facet' target=\"_blank\">https://wandb.ai/rohanprasad/idl-project-flowers-facet</a>"
      ],
      "text/plain": [
       "<IPython.core.display.HTML object>"
      ]
     },
     "metadata": {},
     "output_type": "display_data"
    },
    {
     "data": {
      "text/html": [
       " View sweep at <a href='https://wandb.ai/rohanprasad/idl-project-flowers-facet/sweeps/cuq4fdws' target=\"_blank\">https://wandb.ai/rohanprasad/idl-project-flowers-facet/sweeps/cuq4fdws</a>"
      ],
      "text/plain": [
       "<IPython.core.display.HTML object>"
      ]
     },
     "metadata": {},
     "output_type": "display_data"
    },
    {
     "data": {
      "text/html": [
       " View run at <a href='https://wandb.ai/rohanprasad/idl-project-flowers-facet/runs/7tf0x3hv' target=\"_blank\">https://wandb.ai/rohanprasad/idl-project-flowers-facet/runs/7tf0x3hv</a>"
      ],
      "text/plain": [
       "<IPython.core.display.HTML object>"
      ]
     },
     "metadata": {},
     "output_type": "display_data"
    },
    {
     "name": "stderr",
     "output_type": "stream",
     "text": [
      "2023-12-04 18:37:03,779 [Thread-133 (] [INFO ]  Starting sweep [ run  7tf0x3hv ] with config = \n",
      "{'channel': 512, 'learning_rate': 0.05, 'linear_probe_layer': 'layer2_5_relu3', 'model': 'RN50x4', 'num_iterations': 512, 'objective': 'neuron', 'optimizer': 'AdamW', 'random_seed': 18630595, 'use_std_transforms': True, 'use_transforms': True, 'visualization_layer': 'layer4_5_conv3'}\n",
      "2023-12-04 18:37:03,780 [Thread-133 (] [INFO ]  Setting random seed to 18630595\n",
      "2023-12-04 18:37:03,782 [Thread-133 (] [INFO ]  Loading CLIP model [ RN50x4 ].\n",
      "2023-12-04 18:37:08,313 [Thread-133 (] [INFO ]  Finished loading model [ RN50x4 ]\n",
      "2023-12-04 18:37:08,315 [Thread-133 (] [INFO ]  Finished loading transforms [ Compose(\n",
      "    Resize(size=288, interpolation=bicubic, max_size=None, antialias=warn)\n",
      "    CenterCrop(size=(288, 288))\n",
      "    Normalize(mean=(0.48145466, 0.4578275, 0.40821073), std=(0.26862954, 0.26130258, 0.27577711))\n",
      ") ]\n",
      "2023-12-04 18:37:08,316 [Thread-133 (] [INFO ]  Registering hooks.\n",
      "2023-12-04 18:37:08,319 [Thread-133 (] [INFO ]  Finished registering hooks.\n",
      "2023-12-04 18:37:08,323 [Thread-133 (] [INFO ]  Retrieving weights of linear probe [ path = /apps/11785-f23-prj/faceted_visualization/probes/logs/flower/RN50x4/layer2_5_relu3/version_4_20/model_checkpoint.pth ]\n",
      "2023-12-04 18:37:08,327 [Thread-133 (] [INFO ]  Final list of transforms = [Resize(size=288, interpolation=bicubic, max_size=None, antialias=warn), CenterCrop(size=(288, 288)), Normalize(mean=(0.48145466, 0.4578275, 0.40821073), std=(0.26862954, 0.26130258, 0.27577711)), RandomAffine(degrees=[0.0, 0.0], translate=(0.03, 0.03), interpolation=InterpolationMode.NEAREST, fill=0), RandomAffine(degrees=[0.0, 0.0], scale=(0.9, 1.1), interpolation=InterpolationMode.NEAREST, fill=0), RandomRotation(degrees=[-10.0, 10.0], interpolation=InterpolationMode.NEAREST, expand=False, fill=0), RandomAffine(degrees=[0.0, 0.0], translate=(0.015, 0.015), interpolation=InterpolationMode.NEAREST, fill=0)]\n",
      "2023-12-04 18:37:08,328 [Thread-133 (] [INFO ]  Starting optimization process [ run_id = 7tf0x3hv ]...\n",
      "/opt/conda/lib/python3.10/site-packages/torchvision/transforms/functional.py:1603: UserWarning: The default value of the antialias parameter of all the resizing transforms (Resize(), RandomResizedCrop(), etc.) will change from None to True in v0.17, in order to be consistent across the PIL and Tensor backends. To suppress this warning, directly pass antialias=True (recommended, future default), antialias=None (current default, which means False for Tensors and True for PIL), or antialias=False (only works on Tensors - PIL will still use antialiasing). This also applies if you are using the inference transforms from the models weights: update the call to weights.transforms(antialias=True).\n",
      "  warnings.warn(\n",
      "2023-12-04 18:37:08,372 [Thread-133 (] [INFO ]  Epoch: 1/512: Loss = -2.5000000 :: Learning Rate = 0.0500000\n",
      "2023-12-04 18:37:13,105 [Thread-133 (] [INFO ]  Epoch: 101/512: Loss = -0.6479492 :: Learning Rate = 0.0500000\n",
      "2023-12-04 18:37:17,713 [Thread-133 (] [INFO ]  Epoch: 201/512: Loss = -2.8027344 :: Learning Rate = 0.0500000\n",
      "2023-12-04 18:37:22,316 [Thread-133 (] [INFO ]  Epoch: 301/512: Loss = -1.7724609 :: Learning Rate = 0.0500000\n",
      "2023-12-04 18:37:26,907 [Thread-133 (] [INFO ]  Epoch: 401/512: Loss = -0.9545898 :: Learning Rate = 0.0500000\n",
      "2023-12-04 18:37:31,525 [Thread-133 (] [INFO ]  Epoch: 501/512: Loss = -6.6523438 :: Learning Rate = 0.0500000\n",
      "2023-12-04 18:37:32,050 [Thread-133 (] [INFO ]  Epoch: 512/512: Loss = -2.6425781 :: Learning Rate = 0.0500000\n",
      "2023-12-04 18:37:32,074 [Thread-133 (] [INFO ]  Completed run [ 7tf0x3hv ]\n"
     ]
    },
    {
     "data": {
      "application/vnd.jupyter.widget-view+json": {
       "model_id": "",
       "version_major": 2,
       "version_minor": 0
      },
      "text/plain": [
       "VBox(children=(Label(value='1.196 MB of 1.196 MB uploaded\\r'), FloatProgress(value=1.0, max=1.0)))"
      ]
     },
     "metadata": {},
     "output_type": "display_data"
    },
    {
     "data": {
      "text/html": [
       "<style>\n",
       "    table.wandb td:nth-child(1) { padding: 0 10px; text-align: left ; width: auto;} td:nth-child(2) {text-align: left ; width: 100%}\n",
       "    .wandb-row { display: flex; flex-direction: row; flex-wrap: wrap; justify-content: flex-start; width: 100% }\n",
       "    .wandb-col { display: flex; flex-direction: column; flex-basis: 100%; flex: 1; padding: 10px; }\n",
       "    </style>\n",
       "<div class=\"wandb-row\"><div class=\"wandb-col\"><h3>Run history:</h3><br/><table class=\"wandb\"><tr><td>loss</td><td>▆█▅▇█▁▆</td></tr></table><br/></div><div class=\"wandb-col\"><h3>Run summary:</h3><br/><table class=\"wandb\"><tr><td>loss</td><td>-2.64258</td></tr></table><br/></div></div>"
      ],
      "text/plain": [
       "<IPython.core.display.HTML object>"
      ]
     },
     "metadata": {},
     "output_type": "display_data"
    },
    {
     "data": {
      "text/html": [
       " View run <strong style=\"color:#cdcd00\">dauntless-sweep-43</strong> at: <a href='https://wandb.ai/rohanprasad/idl-project-flowers-facet/runs/7tf0x3hv' target=\"_blank\">https://wandb.ai/rohanprasad/idl-project-flowers-facet/runs/7tf0x3hv</a><br/>Synced 6 W&B file(s), 7 media file(s), 0 artifact file(s) and 0 other file(s)"
      ],
      "text/plain": [
       "<IPython.core.display.HTML object>"
      ]
     },
     "metadata": {},
     "output_type": "display_data"
    },
    {
     "data": {
      "text/html": [
       "Find logs at: <code>./wandb/run-20231204_183653-7tf0x3hv/logs</code>"
      ],
      "text/plain": [
       "<IPython.core.display.HTML object>"
      ]
     },
     "metadata": {},
     "output_type": "display_data"
    },
    {
     "name": "stderr",
     "output_type": "stream",
     "text": [
      "\u001b[34m\u001b[1mwandb\u001b[0m: Agent Starting Run: b6rds6en with config:\n",
      "\u001b[34m\u001b[1mwandb\u001b[0m: \tchannel: 512\n",
      "\u001b[34m\u001b[1mwandb\u001b[0m: \tlearning_rate: 0.05\n",
      "\u001b[34m\u001b[1mwandb\u001b[0m: \tlinear_probe_layer: layer2_5_relu3\n",
      "\u001b[34m\u001b[1mwandb\u001b[0m: \tmodel: RN50x4\n",
      "\u001b[34m\u001b[1mwandb\u001b[0m: \tnum_iterations: 512\n",
      "\u001b[34m\u001b[1mwandb\u001b[0m: \tobjective: channel\n",
      "\u001b[34m\u001b[1mwandb\u001b[0m: \toptimizer: AdamW\n",
      "\u001b[34m\u001b[1mwandb\u001b[0m: \trandom_seed: 18630595\n",
      "\u001b[34m\u001b[1mwandb\u001b[0m: \tuse_std_transforms: True\n",
      "\u001b[34m\u001b[1mwandb\u001b[0m: \tuse_transforms: True\n",
      "\u001b[34m\u001b[1mwandb\u001b[0m: \tvisualization_layer: layer4_5_conv3\n"
     ]
    },
    {
     "data": {
      "text/html": [
       "Tracking run with wandb version 0.16.0"
      ],
      "text/plain": [
       "<IPython.core.display.HTML object>"
      ]
     },
     "metadata": {},
     "output_type": "display_data"
    },
    {
     "data": {
      "text/html": [
       "Run data is saved locally in <code>/apps/11785-f23-prj/wandb/run-20231204_183738-b6rds6en</code>"
      ],
      "text/plain": [
       "<IPython.core.display.HTML object>"
      ]
     },
     "metadata": {},
     "output_type": "display_data"
    },
    {
     "data": {
      "text/html": [
       "Syncing run <strong><a href='https://wandb.ai/rohanprasad/idl-project-flowers-facet/runs/b6rds6en' target=\"_blank\">wobbly-sweep-44</a></strong> to <a href='https://wandb.ai/rohanprasad/idl-project-flowers-facet' target=\"_blank\">Weights & Biases</a> (<a href='https://wandb.me/run' target=\"_blank\">docs</a>)<br/>Sweep page: <a href='https://wandb.ai/rohanprasad/idl-project-flowers-facet/sweeps/cuq4fdws' target=\"_blank\">https://wandb.ai/rohanprasad/idl-project-flowers-facet/sweeps/cuq4fdws</a>"
      ],
      "text/plain": [
       "<IPython.core.display.HTML object>"
      ]
     },
     "metadata": {},
     "output_type": "display_data"
    },
    {
     "data": {
      "text/html": [
       " View project at <a href='https://wandb.ai/rohanprasad/idl-project-flowers-facet' target=\"_blank\">https://wandb.ai/rohanprasad/idl-project-flowers-facet</a>"
      ],
      "text/plain": [
       "<IPython.core.display.HTML object>"
      ]
     },
     "metadata": {},
     "output_type": "display_data"
    },
    {
     "data": {
      "text/html": [
       " View sweep at <a href='https://wandb.ai/rohanprasad/idl-project-flowers-facet/sweeps/cuq4fdws' target=\"_blank\">https://wandb.ai/rohanprasad/idl-project-flowers-facet/sweeps/cuq4fdws</a>"
      ],
      "text/plain": [
       "<IPython.core.display.HTML object>"
      ]
     },
     "metadata": {},
     "output_type": "display_data"
    },
    {
     "data": {
      "text/html": [
       " View run at <a href='https://wandb.ai/rohanprasad/idl-project-flowers-facet/runs/b6rds6en' target=\"_blank\">https://wandb.ai/rohanprasad/idl-project-flowers-facet/runs/b6rds6en</a>"
      ],
      "text/plain": [
       "<IPython.core.display.HTML object>"
      ]
     },
     "metadata": {},
     "output_type": "display_data"
    },
    {
     "name": "stderr",
     "output_type": "stream",
     "text": [
      "2023-12-04 18:37:48,952 [Thread-136 (] [INFO ]  Starting sweep [ run  b6rds6en ] with config = \n",
      "{'channel': 512, 'learning_rate': 0.05, 'linear_probe_layer': 'layer2_5_relu3', 'model': 'RN50x4', 'num_iterations': 512, 'objective': 'channel', 'optimizer': 'AdamW', 'random_seed': 18630595, 'use_std_transforms': True, 'use_transforms': True, 'visualization_layer': 'layer4_5_conv3'}\n",
      "2023-12-04 18:37:48,954 [Thread-136 (] [INFO ]  Setting random seed to 18630595\n",
      "2023-12-04 18:37:48,955 [Thread-136 (] [INFO ]  Loading CLIP model [ RN50x4 ].\n",
      "2023-12-04 18:37:53,414 [Thread-136 (] [INFO ]  Finished loading model [ RN50x4 ]\n",
      "2023-12-04 18:37:53,415 [Thread-136 (] [INFO ]  Finished loading transforms [ Compose(\n",
      "    Resize(size=288, interpolation=bicubic, max_size=None, antialias=warn)\n",
      "    CenterCrop(size=(288, 288))\n",
      "    Normalize(mean=(0.48145466, 0.4578275, 0.40821073), std=(0.26862954, 0.26130258, 0.27577711))\n",
      ") ]\n",
      "2023-12-04 18:37:53,417 [Thread-136 (] [INFO ]  Registering hooks.\n",
      "2023-12-04 18:37:53,420 [Thread-136 (] [INFO ]  Finished registering hooks.\n",
      "2023-12-04 18:37:53,426 [Thread-136 (] [INFO ]  Retrieving weights of linear probe [ path = /apps/11785-f23-prj/faceted_visualization/probes/logs/flower/RN50x4/layer2_5_relu3/version_4_20/model_checkpoint.pth ]\n",
      "2023-12-04 18:37:53,430 [Thread-136 (] [INFO ]  Final list of transforms = [Resize(size=288, interpolation=bicubic, max_size=None, antialias=warn), CenterCrop(size=(288, 288)), Normalize(mean=(0.48145466, 0.4578275, 0.40821073), std=(0.26862954, 0.26130258, 0.27577711)), RandomAffine(degrees=[0.0, 0.0], translate=(0.03, 0.03), interpolation=InterpolationMode.NEAREST, fill=0), RandomAffine(degrees=[0.0, 0.0], scale=(0.9, 1.1), interpolation=InterpolationMode.NEAREST, fill=0), RandomRotation(degrees=[-10.0, 10.0], interpolation=InterpolationMode.NEAREST, expand=False, fill=0), RandomAffine(degrees=[0.0, 0.0], translate=(0.015, 0.015), interpolation=InterpolationMode.NEAREST, fill=0)]\n",
      "2023-12-04 18:37:53,431 [Thread-136 (] [INFO ]  Starting optimization process [ run_id = b6rds6en ]...\n",
      "/opt/conda/lib/python3.10/site-packages/torchvision/transforms/functional.py:1603: UserWarning: The default value of the antialias parameter of all the resizing transforms (Resize(), RandomResizedCrop(), etc.) will change from None to True in v0.17, in order to be consistent across the PIL and Tensor backends. To suppress this warning, directly pass antialias=True (recommended, future default), antialias=None (current default, which means False for Tensors and True for PIL), or antialias=False (only works on Tensors - PIL will still use antialiasing). This also applies if you are using the inference transforms from the models weights: update the call to weights.transforms(antialias=True).\n",
      "  warnings.warn(\n",
      "2023-12-04 18:37:53,475 [Thread-136 (] [INFO ]  Epoch: 1/512: Loss = -2.5371094 :: Learning Rate = 0.0500000\n",
      "2023-12-04 18:37:58,108 [Thread-136 (] [INFO ]  Epoch: 101/512: Loss = 0.1784668 :: Learning Rate = 0.0500000\n",
      "2023-12-04 18:38:02,730 [Thread-136 (] [INFO ]  Epoch: 201/512: Loss = 1.1416016 :: Learning Rate = 0.0500000\n",
      "2023-12-04 18:38:07,285 [Thread-136 (] [INFO ]  Epoch: 301/512: Loss = -1.9355469 :: Learning Rate = 0.0500000\n",
      "2023-12-04 18:38:11,920 [Thread-136 (] [INFO ]  Epoch: 401/512: Loss = 1.6464844 :: Learning Rate = 0.0500000\n",
      "2023-12-04 18:38:16,462 [Thread-136 (] [INFO ]  Epoch: 501/512: Loss = 1.1396484 :: Learning Rate = 0.0500000\n",
      "2023-12-04 18:38:16,986 [Thread-136 (] [INFO ]  Epoch: 512/512: Loss = 0.0546570 :: Learning Rate = 0.0500000\n",
      "2023-12-04 18:38:17,010 [Thread-136 (] [INFO ]  Completed run [ b6rds6en ]\n"
     ]
    },
    {
     "data": {
      "application/vnd.jupyter.widget-view+json": {
       "model_id": "",
       "version_major": 2,
       "version_minor": 0
      },
      "text/plain": [
       "VBox(children=(Label(value='1.218 MB of 1.218 MB uploaded\\r'), FloatProgress(value=1.0, max=1.0)))"
      ]
     },
     "metadata": {},
     "output_type": "display_data"
    },
    {
     "data": {
      "text/html": [
       "<style>\n",
       "    table.wandb td:nth-child(1) { padding: 0 10px; text-align: left ; width: auto;} td:nth-child(2) {text-align: left ; width: 100%}\n",
       "    .wandb-row { display: flex; flex-direction: row; flex-wrap: wrap; justify-content: flex-start; width: 100% }\n",
       "    .wandb-col { display: flex; flex-direction: column; flex-basis: 100%; flex: 1; padding: 10px; }\n",
       "    </style>\n",
       "<div class=\"wandb-row\"><div class=\"wandb-col\"><h3>Run history:</h3><br/><table class=\"wandb\"><tr><td>loss</td><td>▁▆▇▂█▇▅</td></tr></table><br/></div><div class=\"wandb-col\"><h3>Run summary:</h3><br/><table class=\"wandb\"><tr><td>loss</td><td>0.05466</td></tr></table><br/></div></div>"
      ],
      "text/plain": [
       "<IPython.core.display.HTML object>"
      ]
     },
     "metadata": {},
     "output_type": "display_data"
    },
    {
     "data": {
      "text/html": [
       " View run <strong style=\"color:#cdcd00\">wobbly-sweep-44</strong> at: <a href='https://wandb.ai/rohanprasad/idl-project-flowers-facet/runs/b6rds6en' target=\"_blank\">https://wandb.ai/rohanprasad/idl-project-flowers-facet/runs/b6rds6en</a><br/>Synced 6 W&B file(s), 7 media file(s), 0 artifact file(s) and 0 other file(s)"
      ],
      "text/plain": [
       "<IPython.core.display.HTML object>"
      ]
     },
     "metadata": {},
     "output_type": "display_data"
    },
    {
     "data": {
      "text/html": [
       "Find logs at: <code>./wandb/run-20231204_183738-b6rds6en/logs</code>"
      ],
      "text/plain": [
       "<IPython.core.display.HTML object>"
      ]
     },
     "metadata": {},
     "output_type": "display_data"
    },
    {
     "name": "stderr",
     "output_type": "stream",
     "text": [
      "\u001b[34m\u001b[1mwandb\u001b[0m: Agent Starting Run: 5tj2hvyt with config:\n",
      "\u001b[34m\u001b[1mwandb\u001b[0m: \tchannel: 512\n",
      "\u001b[34m\u001b[1mwandb\u001b[0m: \tlearning_rate: 0.05\n",
      "\u001b[34m\u001b[1mwandb\u001b[0m: \tlinear_probe_layer: layer3_9_conv3\n",
      "\u001b[34m\u001b[1mwandb\u001b[0m: \tmodel: RN50x4\n",
      "\u001b[34m\u001b[1mwandb\u001b[0m: \tnum_iterations: 512\n",
      "\u001b[34m\u001b[1mwandb\u001b[0m: \tobjective: neuron\n",
      "\u001b[34m\u001b[1mwandb\u001b[0m: \toptimizer: AdamW\n",
      "\u001b[34m\u001b[1mwandb\u001b[0m: \trandom_seed: 18630595\n",
      "\u001b[34m\u001b[1mwandb\u001b[0m: \tuse_std_transforms: True\n",
      "\u001b[34m\u001b[1mwandb\u001b[0m: \tuse_transforms: True\n",
      "\u001b[34m\u001b[1mwandb\u001b[0m: \tvisualization_layer: layer4_5_conv3\n"
     ]
    },
    {
     "data": {
      "text/html": [
       "Tracking run with wandb version 0.16.0"
      ],
      "text/plain": [
       "<IPython.core.display.HTML object>"
      ]
     },
     "metadata": {},
     "output_type": "display_data"
    },
    {
     "data": {
      "text/html": [
       "Run data is saved locally in <code>/apps/11785-f23-prj/wandb/run-20231204_183824-5tj2hvyt</code>"
      ],
      "text/plain": [
       "<IPython.core.display.HTML object>"
      ]
     },
     "metadata": {},
     "output_type": "display_data"
    },
    {
     "data": {
      "text/html": [
       "Syncing run <strong><a href='https://wandb.ai/rohanprasad/idl-project-flowers-facet/runs/5tj2hvyt' target=\"_blank\">firm-sweep-45</a></strong> to <a href='https://wandb.ai/rohanprasad/idl-project-flowers-facet' target=\"_blank\">Weights & Biases</a> (<a href='https://wandb.me/run' target=\"_blank\">docs</a>)<br/>Sweep page: <a href='https://wandb.ai/rohanprasad/idl-project-flowers-facet/sweeps/cuq4fdws' target=\"_blank\">https://wandb.ai/rohanprasad/idl-project-flowers-facet/sweeps/cuq4fdws</a>"
      ],
      "text/plain": [
       "<IPython.core.display.HTML object>"
      ]
     },
     "metadata": {},
     "output_type": "display_data"
    },
    {
     "data": {
      "text/html": [
       " View project at <a href='https://wandb.ai/rohanprasad/idl-project-flowers-facet' target=\"_blank\">https://wandb.ai/rohanprasad/idl-project-flowers-facet</a>"
      ],
      "text/plain": [
       "<IPython.core.display.HTML object>"
      ]
     },
     "metadata": {},
     "output_type": "display_data"
    },
    {
     "data": {
      "text/html": [
       " View sweep at <a href='https://wandb.ai/rohanprasad/idl-project-flowers-facet/sweeps/cuq4fdws' target=\"_blank\">https://wandb.ai/rohanprasad/idl-project-flowers-facet/sweeps/cuq4fdws</a>"
      ],
      "text/plain": [
       "<IPython.core.display.HTML object>"
      ]
     },
     "metadata": {},
     "output_type": "display_data"
    },
    {
     "data": {
      "text/html": [
       " View run at <a href='https://wandb.ai/rohanprasad/idl-project-flowers-facet/runs/5tj2hvyt' target=\"_blank\">https://wandb.ai/rohanprasad/idl-project-flowers-facet/runs/5tj2hvyt</a>"
      ],
      "text/plain": [
       "<IPython.core.display.HTML object>"
      ]
     },
     "metadata": {},
     "output_type": "display_data"
    },
    {
     "name": "stderr",
     "output_type": "stream",
     "text": [
      "2023-12-04 18:38:34,972 [Thread-139 (] [INFO ]  Starting sweep [ run  5tj2hvyt ] with config = \n",
      "{'channel': 512, 'learning_rate': 0.05, 'linear_probe_layer': 'layer3_9_conv3', 'model': 'RN50x4', 'num_iterations': 512, 'objective': 'neuron', 'optimizer': 'AdamW', 'random_seed': 18630595, 'use_std_transforms': True, 'use_transforms': True, 'visualization_layer': 'layer4_5_conv3'}\n",
      "2023-12-04 18:38:34,973 [Thread-139 (] [INFO ]  Setting random seed to 18630595\n",
      "2023-12-04 18:38:34,975 [Thread-139 (] [INFO ]  Loading CLIP model [ RN50x4 ].\n",
      "2023-12-04 18:38:39,692 [Thread-139 (] [INFO ]  Finished loading model [ RN50x4 ]\n",
      "2023-12-04 18:38:39,694 [Thread-139 (] [INFO ]  Finished loading transforms [ Compose(\n",
      "    Resize(size=288, interpolation=bicubic, max_size=None, antialias=warn)\n",
      "    CenterCrop(size=(288, 288))\n",
      "    Normalize(mean=(0.48145466, 0.4578275, 0.40821073), std=(0.26862954, 0.26130258, 0.27577711))\n",
      ") ]\n",
      "2023-12-04 18:38:39,695 [Thread-139 (] [INFO ]  Registering hooks.\n",
      "2023-12-04 18:38:39,698 [Thread-139 (] [INFO ]  Finished registering hooks.\n",
      "2023-12-04 18:38:39,702 [Thread-139 (] [INFO ]  Retrieving weights of linear probe [ path = /apps/11785-f23-prj/faceted_visualization/probes/logs/flower/RN50x4/layer3_9_conv3/version_4_20/model_checkpoint.pth ]\n",
      "2023-12-04 18:38:39,705 [Thread-139 (] [INFO ]  Final list of transforms = [Resize(size=288, interpolation=bicubic, max_size=None, antialias=warn), CenterCrop(size=(288, 288)), Normalize(mean=(0.48145466, 0.4578275, 0.40821073), std=(0.26862954, 0.26130258, 0.27577711)), RandomAffine(degrees=[0.0, 0.0], translate=(0.03, 0.03), interpolation=InterpolationMode.NEAREST, fill=0), RandomAffine(degrees=[0.0, 0.0], scale=(0.9, 1.1), interpolation=InterpolationMode.NEAREST, fill=0), RandomRotation(degrees=[-10.0, 10.0], interpolation=InterpolationMode.NEAREST, expand=False, fill=0), RandomAffine(degrees=[0.0, 0.0], translate=(0.015, 0.015), interpolation=InterpolationMode.NEAREST, fill=0)]\n",
      "2023-12-04 18:38:39,707 [Thread-139 (] [INFO ]  Starting optimization process [ run_id = 5tj2hvyt ]...\n",
      "/opt/conda/lib/python3.10/site-packages/torchvision/transforms/functional.py:1603: UserWarning: The default value of the antialias parameter of all the resizing transforms (Resize(), RandomResizedCrop(), etc.) will change from None to True in v0.17, in order to be consistent across the PIL and Tensor backends. To suppress this warning, directly pass antialias=True (recommended, future default), antialias=None (current default, which means False for Tensors and True for PIL), or antialias=False (only works on Tensors - PIL will still use antialiasing). This also applies if you are using the inference transforms from the models weights: update the call to weights.transforms(antialias=True).\n",
      "  warnings.warn(\n",
      "2023-12-04 18:38:39,747 [Thread-139 (] [INFO ]  Epoch: 1/512: Loss = 0.0914307 :: Learning Rate = 0.0500000\n",
      "2023-12-04 18:38:43,996 [Thread-139 (] [INFO ]  Epoch: 101/512: Loss = -0.6284180 :: Learning Rate = 0.0500000\n",
      "2023-12-04 18:38:48,151 [Thread-139 (] [INFO ]  Epoch: 201/512: Loss = -0.8447266 :: Learning Rate = 0.0500000\n",
      "2023-12-04 18:38:52,281 [Thread-139 (] [INFO ]  Epoch: 301/512: Loss = -0.9731445 :: Learning Rate = 0.0500000\n",
      "2023-12-04 18:38:56,463 [Thread-139 (] [INFO ]  Epoch: 401/512: Loss = -1.1757812 :: Learning Rate = 0.0500000\n",
      "2023-12-04 18:39:00,578 [Thread-139 (] [INFO ]  Epoch: 501/512: Loss = -1.0634766 :: Learning Rate = 0.0500000\n",
      "2023-12-04 18:39:01,058 [Thread-139 (] [INFO ]  Epoch: 512/512: Loss = -1.2470703 :: Learning Rate = 0.0500000\n",
      "2023-12-04 18:39:01,082 [Thread-139 (] [INFO ]  Completed run [ 5tj2hvyt ]\n"
     ]
    },
    {
     "data": {
      "application/vnd.jupyter.widget-view+json": {
       "model_id": "",
       "version_major": 2,
       "version_minor": 0
      },
      "text/plain": [
       "VBox(children=(Label(value='1.198 MB of 1.198 MB uploaded\\r'), FloatProgress(value=1.0, max=1.0)))"
      ]
     },
     "metadata": {},
     "output_type": "display_data"
    },
    {
     "data": {
      "text/html": [
       "<style>\n",
       "    table.wandb td:nth-child(1) { padding: 0 10px; text-align: left ; width: auto;} td:nth-child(2) {text-align: left ; width: 100%}\n",
       "    .wandb-row { display: flex; flex-direction: row; flex-wrap: wrap; justify-content: flex-start; width: 100% }\n",
       "    .wandb-col { display: flex; flex-direction: column; flex-basis: 100%; flex: 1; padding: 10px; }\n",
       "    </style>\n",
       "<div class=\"wandb-row\"><div class=\"wandb-col\"><h3>Run history:</h3><br/><table class=\"wandb\"><tr><td>loss</td><td>█▄▃▂▁▂▁</td></tr></table><br/></div><div class=\"wandb-col\"><h3>Run summary:</h3><br/><table class=\"wandb\"><tr><td>loss</td><td>-1.24707</td></tr></table><br/></div></div>"
      ],
      "text/plain": [
       "<IPython.core.display.HTML object>"
      ]
     },
     "metadata": {},
     "output_type": "display_data"
    },
    {
     "data": {
      "text/html": [
       " View run <strong style=\"color:#cdcd00\">firm-sweep-45</strong> at: <a href='https://wandb.ai/rohanprasad/idl-project-flowers-facet/runs/5tj2hvyt' target=\"_blank\">https://wandb.ai/rohanprasad/idl-project-flowers-facet/runs/5tj2hvyt</a><br/>Synced 6 W&B file(s), 7 media file(s), 0 artifact file(s) and 0 other file(s)"
      ],
      "text/plain": [
       "<IPython.core.display.HTML object>"
      ]
     },
     "metadata": {},
     "output_type": "display_data"
    },
    {
     "data": {
      "text/html": [
       "Find logs at: <code>./wandb/run-20231204_183824-5tj2hvyt/logs</code>"
      ],
      "text/plain": [
       "<IPython.core.display.HTML object>"
      ]
     },
     "metadata": {},
     "output_type": "display_data"
    },
    {
     "name": "stderr",
     "output_type": "stream",
     "text": [
      "\u001b[34m\u001b[1mwandb\u001b[0m: Agent Starting Run: j6wmw2if with config:\n",
      "\u001b[34m\u001b[1mwandb\u001b[0m: \tchannel: 512\n",
      "\u001b[34m\u001b[1mwandb\u001b[0m: \tlearning_rate: 0.05\n",
      "\u001b[34m\u001b[1mwandb\u001b[0m: \tlinear_probe_layer: layer3_9_conv3\n",
      "\u001b[34m\u001b[1mwandb\u001b[0m: \tmodel: RN50x4\n",
      "\u001b[34m\u001b[1mwandb\u001b[0m: \tnum_iterations: 512\n",
      "\u001b[34m\u001b[1mwandb\u001b[0m: \tobjective: channel\n",
      "\u001b[34m\u001b[1mwandb\u001b[0m: \toptimizer: AdamW\n",
      "\u001b[34m\u001b[1mwandb\u001b[0m: \trandom_seed: 18630595\n",
      "\u001b[34m\u001b[1mwandb\u001b[0m: \tuse_std_transforms: True\n",
      "\u001b[34m\u001b[1mwandb\u001b[0m: \tuse_transforms: True\n",
      "\u001b[34m\u001b[1mwandb\u001b[0m: \tvisualization_layer: layer4_5_conv3\n"
     ]
    },
    {
     "data": {
      "text/html": [
       "Tracking run with wandb version 0.16.0"
      ],
      "text/plain": [
       "<IPython.core.display.HTML object>"
      ]
     },
     "metadata": {},
     "output_type": "display_data"
    },
    {
     "data": {
      "text/html": [
       "Run data is saved locally in <code>/apps/11785-f23-prj/wandb/run-20231204_183909-j6wmw2if</code>"
      ],
      "text/plain": [
       "<IPython.core.display.HTML object>"
      ]
     },
     "metadata": {},
     "output_type": "display_data"
    },
    {
     "data": {
      "text/html": [
       "Syncing run <strong><a href='https://wandb.ai/rohanprasad/idl-project-flowers-facet/runs/j6wmw2if' target=\"_blank\">warm-sweep-46</a></strong> to <a href='https://wandb.ai/rohanprasad/idl-project-flowers-facet' target=\"_blank\">Weights & Biases</a> (<a href='https://wandb.me/run' target=\"_blank\">docs</a>)<br/>Sweep page: <a href='https://wandb.ai/rohanprasad/idl-project-flowers-facet/sweeps/cuq4fdws' target=\"_blank\">https://wandb.ai/rohanprasad/idl-project-flowers-facet/sweeps/cuq4fdws</a>"
      ],
      "text/plain": [
       "<IPython.core.display.HTML object>"
      ]
     },
     "metadata": {},
     "output_type": "display_data"
    },
    {
     "data": {
      "text/html": [
       " View project at <a href='https://wandb.ai/rohanprasad/idl-project-flowers-facet' target=\"_blank\">https://wandb.ai/rohanprasad/idl-project-flowers-facet</a>"
      ],
      "text/plain": [
       "<IPython.core.display.HTML object>"
      ]
     },
     "metadata": {},
     "output_type": "display_data"
    },
    {
     "data": {
      "text/html": [
       " View sweep at <a href='https://wandb.ai/rohanprasad/idl-project-flowers-facet/sweeps/cuq4fdws' target=\"_blank\">https://wandb.ai/rohanprasad/idl-project-flowers-facet/sweeps/cuq4fdws</a>"
      ],
      "text/plain": [
       "<IPython.core.display.HTML object>"
      ]
     },
     "metadata": {},
     "output_type": "display_data"
    },
    {
     "data": {
      "text/html": [
       " View run at <a href='https://wandb.ai/rohanprasad/idl-project-flowers-facet/runs/j6wmw2if' target=\"_blank\">https://wandb.ai/rohanprasad/idl-project-flowers-facet/runs/j6wmw2if</a>"
      ],
      "text/plain": [
       "<IPython.core.display.HTML object>"
      ]
     },
     "metadata": {},
     "output_type": "display_data"
    },
    {
     "name": "stderr",
     "output_type": "stream",
     "text": [
      "2023-12-04 18:39:20,174 [Thread-142 (] [INFO ]  Starting sweep [ run  j6wmw2if ] with config = \n",
      "{'channel': 512, 'learning_rate': 0.05, 'linear_probe_layer': 'layer3_9_conv3', 'model': 'RN50x4', 'num_iterations': 512, 'objective': 'channel', 'optimizer': 'AdamW', 'random_seed': 18630595, 'use_std_transforms': True, 'use_transforms': True, 'visualization_layer': 'layer4_5_conv3'}\n",
      "2023-12-04 18:39:20,175 [Thread-142 (] [INFO ]  Setting random seed to 18630595\n",
      "2023-12-04 18:39:20,177 [Thread-142 (] [INFO ]  Loading CLIP model [ RN50x4 ].\n",
      "2023-12-04 18:39:24,661 [Thread-142 (] [INFO ]  Finished loading model [ RN50x4 ]\n",
      "2023-12-04 18:39:24,663 [Thread-142 (] [INFO ]  Finished loading transforms [ Compose(\n",
      "    Resize(size=288, interpolation=bicubic, max_size=None, antialias=warn)\n",
      "    CenterCrop(size=(288, 288))\n",
      "    Normalize(mean=(0.48145466, 0.4578275, 0.40821073), std=(0.26862954, 0.26130258, 0.27577711))\n",
      ") ]\n",
      "2023-12-04 18:39:24,664 [Thread-142 (] [INFO ]  Registering hooks.\n",
      "2023-12-04 18:39:24,667 [Thread-142 (] [INFO ]  Finished registering hooks.\n",
      "2023-12-04 18:39:24,671 [Thread-142 (] [INFO ]  Retrieving weights of linear probe [ path = /apps/11785-f23-prj/faceted_visualization/probes/logs/flower/RN50x4/layer3_9_conv3/version_4_20/model_checkpoint.pth ]\n",
      "2023-12-04 18:39:24,674 [Thread-142 (] [INFO ]  Final list of transforms = [Resize(size=288, interpolation=bicubic, max_size=None, antialias=warn), CenterCrop(size=(288, 288)), Normalize(mean=(0.48145466, 0.4578275, 0.40821073), std=(0.26862954, 0.26130258, 0.27577711)), RandomAffine(degrees=[0.0, 0.0], translate=(0.03, 0.03), interpolation=InterpolationMode.NEAREST, fill=0), RandomAffine(degrees=[0.0, 0.0], scale=(0.9, 1.1), interpolation=InterpolationMode.NEAREST, fill=0), RandomRotation(degrees=[-10.0, 10.0], interpolation=InterpolationMode.NEAREST, expand=False, fill=0), RandomAffine(degrees=[0.0, 0.0], translate=(0.015, 0.015), interpolation=InterpolationMode.NEAREST, fill=0)]\n",
      "2023-12-04 18:39:24,675 [Thread-142 (] [INFO ]  Starting optimization process [ run_id = j6wmw2if ]...\n",
      "/opt/conda/lib/python3.10/site-packages/torchvision/transforms/functional.py:1603: UserWarning: The default value of the antialias parameter of all the resizing transforms (Resize(), RandomResizedCrop(), etc.) will change from None to True in v0.17, in order to be consistent across the PIL and Tensor backends. To suppress this warning, directly pass antialias=True (recommended, future default), antialias=None (current default, which means False for Tensors and True for PIL), or antialias=False (only works on Tensors - PIL will still use antialiasing). This also applies if you are using the inference transforms from the models weights: update the call to weights.transforms(antialias=True).\n",
      "  warnings.warn(\n",
      "2023-12-04 18:39:24,716 [Thread-142 (] [INFO ]  Epoch: 1/512: Loss = 0.0537415 :: Learning Rate = 0.0500000\n",
      "2023-12-04 18:39:29,115 [Thread-142 (] [INFO ]  Epoch: 101/512: Loss = -0.3437500 :: Learning Rate = 0.0500000\n",
      "2023-12-04 18:39:33,494 [Thread-142 (] [INFO ]  Epoch: 201/512: Loss = -0.4375000 :: Learning Rate = 0.0500000\n",
      "2023-12-04 18:39:37,725 [Thread-142 (] [INFO ]  Epoch: 301/512: Loss = -0.4904785 :: Learning Rate = 0.0500000\n",
      "2023-12-04 18:39:41,978 [Thread-142 (] [INFO ]  Epoch: 401/512: Loss = -0.6342773 :: Learning Rate = 0.0500000\n",
      "2023-12-04 18:39:46,175 [Thread-142 (] [INFO ]  Epoch: 501/512: Loss = -0.6445312 :: Learning Rate = 0.0500000\n",
      "2023-12-04 18:39:46,655 [Thread-142 (] [INFO ]  Epoch: 512/512: Loss = -0.7270508 :: Learning Rate = 0.0500000\n",
      "2023-12-04 18:39:46,679 [Thread-142 (] [INFO ]  Completed run [ j6wmw2if ]\n"
     ]
    },
    {
     "data": {
      "application/vnd.jupyter.widget-view+json": {
       "model_id": "",
       "version_major": 2,
       "version_minor": 0
      },
      "text/plain": [
       "VBox(children=(Label(value='1.248 MB of 1.248 MB uploaded\\r'), FloatProgress(value=1.0, max=1.0)))"
      ]
     },
     "metadata": {},
     "output_type": "display_data"
    },
    {
     "data": {
      "text/html": [
       "<style>\n",
       "    table.wandb td:nth-child(1) { padding: 0 10px; text-align: left ; width: auto;} td:nth-child(2) {text-align: left ; width: 100%}\n",
       "    .wandb-row { display: flex; flex-direction: row; flex-wrap: wrap; justify-content: flex-start; width: 100% }\n",
       "    .wandb-col { display: flex; flex-direction: column; flex-basis: 100%; flex: 1; padding: 10px; }\n",
       "    </style>\n",
       "<div class=\"wandb-row\"><div class=\"wandb-col\"><h3>Run history:</h3><br/><table class=\"wandb\"><tr><td>loss</td><td>█▄▄▃▂▂▁</td></tr></table><br/></div><div class=\"wandb-col\"><h3>Run summary:</h3><br/><table class=\"wandb\"><tr><td>loss</td><td>-0.72705</td></tr></table><br/></div></div>"
      ],
      "text/plain": [
       "<IPython.core.display.HTML object>"
      ]
     },
     "metadata": {},
     "output_type": "display_data"
    },
    {
     "data": {
      "text/html": [
       " View run <strong style=\"color:#cdcd00\">warm-sweep-46</strong> at: <a href='https://wandb.ai/rohanprasad/idl-project-flowers-facet/runs/j6wmw2if' target=\"_blank\">https://wandb.ai/rohanprasad/idl-project-flowers-facet/runs/j6wmw2if</a><br/>Synced 6 W&B file(s), 7 media file(s), 0 artifact file(s) and 0 other file(s)"
      ],
      "text/plain": [
       "<IPython.core.display.HTML object>"
      ]
     },
     "metadata": {},
     "output_type": "display_data"
    },
    {
     "data": {
      "text/html": [
       "Find logs at: <code>./wandb/run-20231204_183909-j6wmw2if/logs</code>"
      ],
      "text/plain": [
       "<IPython.core.display.HTML object>"
      ]
     },
     "metadata": {},
     "output_type": "display_data"
    },
    {
     "name": "stderr",
     "output_type": "stream",
     "text": [
      "\u001b[34m\u001b[1mwandb\u001b[0m: Agent Starting Run: 2cd4vugi with config:\n",
      "\u001b[34m\u001b[1mwandb\u001b[0m: \tchannel: 512\n",
      "\u001b[34m\u001b[1mwandb\u001b[0m: \tlearning_rate: 0.05\n",
      "\u001b[34m\u001b[1mwandb\u001b[0m: \tlinear_probe_layer: layer3_9_relu3\n",
      "\u001b[34m\u001b[1mwandb\u001b[0m: \tmodel: RN50x4\n",
      "\u001b[34m\u001b[1mwandb\u001b[0m: \tnum_iterations: 512\n",
      "\u001b[34m\u001b[1mwandb\u001b[0m: \tobjective: neuron\n",
      "\u001b[34m\u001b[1mwandb\u001b[0m: \toptimizer: AdamW\n",
      "\u001b[34m\u001b[1mwandb\u001b[0m: \trandom_seed: 18630595\n",
      "\u001b[34m\u001b[1mwandb\u001b[0m: \tuse_std_transforms: True\n",
      "\u001b[34m\u001b[1mwandb\u001b[0m: \tuse_transforms: True\n",
      "\u001b[34m\u001b[1mwandb\u001b[0m: \tvisualization_layer: layer4_5_conv3\n"
     ]
    },
    {
     "data": {
      "text/html": [
       "Tracking run with wandb version 0.16.0"
      ],
      "text/plain": [
       "<IPython.core.display.HTML object>"
      ]
     },
     "metadata": {},
     "output_type": "display_data"
    },
    {
     "data": {
      "text/html": [
       "Run data is saved locally in <code>/apps/11785-f23-prj/wandb/run-20231204_183955-2cd4vugi</code>"
      ],
      "text/plain": [
       "<IPython.core.display.HTML object>"
      ]
     },
     "metadata": {},
     "output_type": "display_data"
    },
    {
     "data": {
      "text/html": [
       "Syncing run <strong><a href='https://wandb.ai/rohanprasad/idl-project-flowers-facet/runs/2cd4vugi' target=\"_blank\">unique-sweep-47</a></strong> to <a href='https://wandb.ai/rohanprasad/idl-project-flowers-facet' target=\"_blank\">Weights & Biases</a> (<a href='https://wandb.me/run' target=\"_blank\">docs</a>)<br/>Sweep page: <a href='https://wandb.ai/rohanprasad/idl-project-flowers-facet/sweeps/cuq4fdws' target=\"_blank\">https://wandb.ai/rohanprasad/idl-project-flowers-facet/sweeps/cuq4fdws</a>"
      ],
      "text/plain": [
       "<IPython.core.display.HTML object>"
      ]
     },
     "metadata": {},
     "output_type": "display_data"
    },
    {
     "data": {
      "text/html": [
       " View project at <a href='https://wandb.ai/rohanprasad/idl-project-flowers-facet' target=\"_blank\">https://wandb.ai/rohanprasad/idl-project-flowers-facet</a>"
      ],
      "text/plain": [
       "<IPython.core.display.HTML object>"
      ]
     },
     "metadata": {},
     "output_type": "display_data"
    },
    {
     "data": {
      "text/html": [
       " View sweep at <a href='https://wandb.ai/rohanprasad/idl-project-flowers-facet/sweeps/cuq4fdws' target=\"_blank\">https://wandb.ai/rohanprasad/idl-project-flowers-facet/sweeps/cuq4fdws</a>"
      ],
      "text/plain": [
       "<IPython.core.display.HTML object>"
      ]
     },
     "metadata": {},
     "output_type": "display_data"
    },
    {
     "data": {
      "text/html": [
       " View run at <a href='https://wandb.ai/rohanprasad/idl-project-flowers-facet/runs/2cd4vugi' target=\"_blank\">https://wandb.ai/rohanprasad/idl-project-flowers-facet/runs/2cd4vugi</a>"
      ],
      "text/plain": [
       "<IPython.core.display.HTML object>"
      ]
     },
     "metadata": {},
     "output_type": "display_data"
    },
    {
     "name": "stderr",
     "output_type": "stream",
     "text": [
      "2023-12-04 18:40:06,190 [Thread-145 (] [INFO ]  Starting sweep [ run  2cd4vugi ] with config = \n",
      "{'channel': 512, 'learning_rate': 0.05, 'linear_probe_layer': 'layer3_9_relu3', 'model': 'RN50x4', 'num_iterations': 512, 'objective': 'neuron', 'optimizer': 'AdamW', 'random_seed': 18630595, 'use_std_transforms': True, 'use_transforms': True, 'visualization_layer': 'layer4_5_conv3'}\n",
      "2023-12-04 18:40:06,191 [Thread-145 (] [INFO ]  Setting random seed to 18630595\n",
      "2023-12-04 18:40:06,192 [Thread-145 (] [INFO ]  Loading CLIP model [ RN50x4 ].\n",
      "2023-12-04 18:40:10,680 [Thread-145 (] [INFO ]  Finished loading model [ RN50x4 ]\n",
      "2023-12-04 18:40:10,682 [Thread-145 (] [INFO ]  Finished loading transforms [ Compose(\n",
      "    Resize(size=288, interpolation=bicubic, max_size=None, antialias=warn)\n",
      "    CenterCrop(size=(288, 288))\n",
      "    Normalize(mean=(0.48145466, 0.4578275, 0.40821073), std=(0.26862954, 0.26130258, 0.27577711))\n",
      ") ]\n",
      "2023-12-04 18:40:10,683 [Thread-145 (] [INFO ]  Registering hooks.\n",
      "2023-12-04 18:40:10,686 [Thread-145 (] [INFO ]  Finished registering hooks.\n",
      "2023-12-04 18:40:10,693 [Thread-145 (] [INFO ]  Retrieving weights of linear probe [ path = /apps/11785-f23-prj/faceted_visualization/probes/logs/flower/RN50x4/layer3_9_relu3/version_4_20/model_checkpoint.pth ]\n",
      "2023-12-04 18:40:10,696 [Thread-145 (] [INFO ]  Final list of transforms = [Resize(size=288, interpolation=bicubic, max_size=None, antialias=warn), CenterCrop(size=(288, 288)), Normalize(mean=(0.48145466, 0.4578275, 0.40821073), std=(0.26862954, 0.26130258, 0.27577711)), RandomAffine(degrees=[0.0, 0.0], translate=(0.03, 0.03), interpolation=InterpolationMode.NEAREST, fill=0), RandomAffine(degrees=[0.0, 0.0], scale=(0.9, 1.1), interpolation=InterpolationMode.NEAREST, fill=0), RandomRotation(degrees=[-10.0, 10.0], interpolation=InterpolationMode.NEAREST, expand=False, fill=0), RandomAffine(degrees=[0.0, 0.0], translate=(0.015, 0.015), interpolation=InterpolationMode.NEAREST, fill=0)]\n",
      "2023-12-04 18:40:10,697 [Thread-145 (] [INFO ]  Starting optimization process [ run_id = 2cd4vugi ]...\n",
      "/opt/conda/lib/python3.10/site-packages/torchvision/transforms/functional.py:1603: UserWarning: The default value of the antialias parameter of all the resizing transforms (Resize(), RandomResizedCrop(), etc.) will change from None to True in v0.17, in order to be consistent across the PIL and Tensor backends. To suppress this warning, directly pass antialias=True (recommended, future default), antialias=None (current default, which means False for Tensors and True for PIL), or antialias=False (only works on Tensors - PIL will still use antialiasing). This also applies if you are using the inference transforms from the models weights: update the call to weights.transforms(antialias=True).\n",
      "  warnings.warn(\n",
      "2023-12-04 18:40:10,737 [Thread-145 (] [INFO ]  Epoch: 1/512: Loss = -0.2521973 :: Learning Rate = 0.0500000\n",
      "2023-12-04 18:40:15,122 [Thread-145 (] [INFO ]  Epoch: 101/512: Loss = -0.9326172 :: Learning Rate = 0.0500000\n",
      "2023-12-04 18:40:19,452 [Thread-145 (] [INFO ]  Epoch: 201/512: Loss = -2.1875000 :: Learning Rate = 0.0500000\n",
      "2023-12-04 18:40:23,585 [Thread-145 (] [INFO ]  Epoch: 301/512: Loss = -2.0957031 :: Learning Rate = 0.0500000\n",
      "2023-12-04 18:40:27,826 [Thread-145 (] [INFO ]  Epoch: 401/512: Loss = -2.2382812 :: Learning Rate = 0.0500000\n",
      "2023-12-04 18:40:31,976 [Thread-145 (] [INFO ]  Epoch: 501/512: Loss = -1.3886719 :: Learning Rate = 0.0500000\n",
      "2023-12-04 18:40:32,446 [Thread-145 (] [INFO ]  Epoch: 512/512: Loss = -2.3164062 :: Learning Rate = 0.0500000\n",
      "2023-12-04 18:40:32,470 [Thread-145 (] [INFO ]  Completed run [ 2cd4vugi ]\n"
     ]
    },
    {
     "data": {
      "application/vnd.jupyter.widget-view+json": {
       "model_id": "",
       "version_major": 2,
       "version_minor": 0
      },
      "text/plain": [
       "VBox(children=(Label(value='1.246 MB of 1.246 MB uploaded\\r'), FloatProgress(value=1.0, max=1.0)))"
      ]
     },
     "metadata": {},
     "output_type": "display_data"
    },
    {
     "data": {
      "text/html": [
       "<style>\n",
       "    table.wandb td:nth-child(1) { padding: 0 10px; text-align: left ; width: auto;} td:nth-child(2) {text-align: left ; width: 100%}\n",
       "    .wandb-row { display: flex; flex-direction: row; flex-wrap: wrap; justify-content: flex-start; width: 100% }\n",
       "    .wandb-col { display: flex; flex-direction: column; flex-basis: 100%; flex: 1; padding: 10px; }\n",
       "    </style>\n",
       "<div class=\"wandb-row\"><div class=\"wandb-col\"><h3>Run history:</h3><br/><table class=\"wandb\"><tr><td>loss</td><td>█▆▁▂▁▄▁</td></tr></table><br/></div><div class=\"wandb-col\"><h3>Run summary:</h3><br/><table class=\"wandb\"><tr><td>loss</td><td>-2.31641</td></tr></table><br/></div></div>"
      ],
      "text/plain": [
       "<IPython.core.display.HTML object>"
      ]
     },
     "metadata": {},
     "output_type": "display_data"
    },
    {
     "data": {
      "text/html": [
       " View run <strong style=\"color:#cdcd00\">unique-sweep-47</strong> at: <a href='https://wandb.ai/rohanprasad/idl-project-flowers-facet/runs/2cd4vugi' target=\"_blank\">https://wandb.ai/rohanprasad/idl-project-flowers-facet/runs/2cd4vugi</a><br/>Synced 6 W&B file(s), 7 media file(s), 0 artifact file(s) and 0 other file(s)"
      ],
      "text/plain": [
       "<IPython.core.display.HTML object>"
      ]
     },
     "metadata": {},
     "output_type": "display_data"
    },
    {
     "data": {
      "text/html": [
       "Find logs at: <code>./wandb/run-20231204_183955-2cd4vugi/logs</code>"
      ],
      "text/plain": [
       "<IPython.core.display.HTML object>"
      ]
     },
     "metadata": {},
     "output_type": "display_data"
    },
    {
     "name": "stderr",
     "output_type": "stream",
     "text": [
      "\u001b[34m\u001b[1mwandb\u001b[0m: Agent Starting Run: j6issmrf with config:\n",
      "\u001b[34m\u001b[1mwandb\u001b[0m: \tchannel: 512\n",
      "\u001b[34m\u001b[1mwandb\u001b[0m: \tlearning_rate: 0.05\n",
      "\u001b[34m\u001b[1mwandb\u001b[0m: \tlinear_probe_layer: layer3_9_relu3\n",
      "\u001b[34m\u001b[1mwandb\u001b[0m: \tmodel: RN50x4\n",
      "\u001b[34m\u001b[1mwandb\u001b[0m: \tnum_iterations: 512\n",
      "\u001b[34m\u001b[1mwandb\u001b[0m: \tobjective: channel\n",
      "\u001b[34m\u001b[1mwandb\u001b[0m: \toptimizer: AdamW\n",
      "\u001b[34m\u001b[1mwandb\u001b[0m: \trandom_seed: 18630595\n",
      "\u001b[34m\u001b[1mwandb\u001b[0m: \tuse_std_transforms: True\n",
      "\u001b[34m\u001b[1mwandb\u001b[0m: \tuse_transforms: True\n",
      "\u001b[34m\u001b[1mwandb\u001b[0m: \tvisualization_layer: layer4_5_conv3\n"
     ]
    },
    {
     "data": {
      "text/html": [
       "Tracking run with wandb version 0.16.0"
      ],
      "text/plain": [
       "<IPython.core.display.HTML object>"
      ]
     },
     "metadata": {},
     "output_type": "display_data"
    },
    {
     "data": {
      "text/html": [
       "Run data is saved locally in <code>/apps/11785-f23-prj/wandb/run-20231204_184040-j6issmrf</code>"
      ],
      "text/plain": [
       "<IPython.core.display.HTML object>"
      ]
     },
     "metadata": {},
     "output_type": "display_data"
    },
    {
     "data": {
      "text/html": [
       "Syncing run <strong><a href='https://wandb.ai/rohanprasad/idl-project-flowers-facet/runs/j6issmrf' target=\"_blank\">laced-sweep-48</a></strong> to <a href='https://wandb.ai/rohanprasad/idl-project-flowers-facet' target=\"_blank\">Weights & Biases</a> (<a href='https://wandb.me/run' target=\"_blank\">docs</a>)<br/>Sweep page: <a href='https://wandb.ai/rohanprasad/idl-project-flowers-facet/sweeps/cuq4fdws' target=\"_blank\">https://wandb.ai/rohanprasad/idl-project-flowers-facet/sweeps/cuq4fdws</a>"
      ],
      "text/plain": [
       "<IPython.core.display.HTML object>"
      ]
     },
     "metadata": {},
     "output_type": "display_data"
    },
    {
     "data": {
      "text/html": [
       " View project at <a href='https://wandb.ai/rohanprasad/idl-project-flowers-facet' target=\"_blank\">https://wandb.ai/rohanprasad/idl-project-flowers-facet</a>"
      ],
      "text/plain": [
       "<IPython.core.display.HTML object>"
      ]
     },
     "metadata": {},
     "output_type": "display_data"
    },
    {
     "data": {
      "text/html": [
       " View sweep at <a href='https://wandb.ai/rohanprasad/idl-project-flowers-facet/sweeps/cuq4fdws' target=\"_blank\">https://wandb.ai/rohanprasad/idl-project-flowers-facet/sweeps/cuq4fdws</a>"
      ],
      "text/plain": [
       "<IPython.core.display.HTML object>"
      ]
     },
     "metadata": {},
     "output_type": "display_data"
    },
    {
     "data": {
      "text/html": [
       " View run at <a href='https://wandb.ai/rohanprasad/idl-project-flowers-facet/runs/j6issmrf' target=\"_blank\">https://wandb.ai/rohanprasad/idl-project-flowers-facet/runs/j6issmrf</a>"
      ],
      "text/plain": [
       "<IPython.core.display.HTML object>"
      ]
     },
     "metadata": {},
     "output_type": "display_data"
    },
    {
     "name": "stderr",
     "output_type": "stream",
     "text": [
      "2023-12-04 18:40:51,188 [Thread-148 (] [INFO ]  Starting sweep [ run  j6issmrf ] with config = \n",
      "{'channel': 512, 'learning_rate': 0.05, 'linear_probe_layer': 'layer3_9_relu3', 'model': 'RN50x4', 'num_iterations': 512, 'objective': 'channel', 'optimizer': 'AdamW', 'random_seed': 18630595, 'use_std_transforms': True, 'use_transforms': True, 'visualization_layer': 'layer4_5_conv3'}\n",
      "2023-12-04 18:40:51,191 [Thread-148 (] [INFO ]  Setting random seed to 18630595\n",
      "2023-12-04 18:40:51,192 [Thread-148 (] [INFO ]  Loading CLIP model [ RN50x4 ].\n",
      "2023-12-04 18:40:55,707 [Thread-148 (] [INFO ]  Finished loading model [ RN50x4 ]\n",
      "2023-12-04 18:40:55,709 [Thread-148 (] [INFO ]  Finished loading transforms [ Compose(\n",
      "    Resize(size=288, interpolation=bicubic, max_size=None, antialias=warn)\n",
      "    CenterCrop(size=(288, 288))\n",
      "    Normalize(mean=(0.48145466, 0.4578275, 0.40821073), std=(0.26862954, 0.26130258, 0.27577711))\n",
      ") ]\n",
      "2023-12-04 18:40:55,710 [Thread-148 (] [INFO ]  Registering hooks.\n",
      "2023-12-04 18:40:55,713 [Thread-148 (] [INFO ]  Finished registering hooks.\n",
      "2023-12-04 18:40:55,719 [Thread-148 (] [INFO ]  Retrieving weights of linear probe [ path = /apps/11785-f23-prj/faceted_visualization/probes/logs/flower/RN50x4/layer3_9_relu3/version_4_20/model_checkpoint.pth ]\n",
      "2023-12-04 18:40:55,722 [Thread-148 (] [INFO ]  Final list of transforms = [Resize(size=288, interpolation=bicubic, max_size=None, antialias=warn), CenterCrop(size=(288, 288)), Normalize(mean=(0.48145466, 0.4578275, 0.40821073), std=(0.26862954, 0.26130258, 0.27577711)), RandomAffine(degrees=[0.0, 0.0], translate=(0.03, 0.03), interpolation=InterpolationMode.NEAREST, fill=0), RandomAffine(degrees=[0.0, 0.0], scale=(0.9, 1.1), interpolation=InterpolationMode.NEAREST, fill=0), RandomRotation(degrees=[-10.0, 10.0], interpolation=InterpolationMode.NEAREST, expand=False, fill=0), RandomAffine(degrees=[0.0, 0.0], translate=(0.015, 0.015), interpolation=InterpolationMode.NEAREST, fill=0)]\n",
      "2023-12-04 18:40:55,723 [Thread-148 (] [INFO ]  Starting optimization process [ run_id = j6issmrf ]...\n",
      "/opt/conda/lib/python3.10/site-packages/torchvision/transforms/functional.py:1603: UserWarning: The default value of the antialias parameter of all the resizing transforms (Resize(), RandomResizedCrop(), etc.) will change from None to True in v0.17, in order to be consistent across the PIL and Tensor backends. To suppress this warning, directly pass antialias=True (recommended, future default), antialias=None (current default, which means False for Tensors and True for PIL), or antialias=False (only works on Tensors - PIL will still use antialiasing). This also applies if you are using the inference transforms from the models weights: update the call to weights.transforms(antialias=True).\n",
      "  warnings.warn(\n",
      "2023-12-04 18:40:55,764 [Thread-148 (] [INFO ]  Epoch: 1/512: Loss = -0.2900391 :: Learning Rate = 0.0500000\n",
      "2023-12-04 18:41:00,227 [Thread-148 (] [INFO ]  Epoch: 101/512: Loss = -0.4809570 :: Learning Rate = 0.0500000\n",
      "2023-12-04 18:41:04,778 [Thread-148 (] [INFO ]  Epoch: 201/512: Loss = -1.5439453 :: Learning Rate = 0.0500000\n",
      "2023-12-04 18:41:09,157 [Thread-148 (] [INFO ]  Epoch: 301/512: Loss = -0.7348633 :: Learning Rate = 0.0500000\n",
      "2023-12-04 18:41:13,274 [Thread-148 (] [INFO ]  Epoch: 401/512: Loss = -0.1651611 :: Learning Rate = 0.0500000\n",
      "2023-12-04 18:41:17,502 [Thread-148 (] [INFO ]  Epoch: 501/512: Loss = -2.0292969 :: Learning Rate = 0.0500000\n",
      "2023-12-04 18:41:17,987 [Thread-148 (] [INFO ]  Epoch: 512/512: Loss = -2.0839844 :: Learning Rate = 0.0500000\n",
      "2023-12-04 18:41:18,011 [Thread-148 (] [INFO ]  Completed run [ j6issmrf ]\n"
     ]
    },
    {
     "data": {
      "application/vnd.jupyter.widget-view+json": {
       "model_id": "",
       "version_major": 2,
       "version_minor": 0
      },
      "text/plain": [
       "VBox(children=(Label(value='1.256 MB of 1.256 MB uploaded\\r'), FloatProgress(value=1.0, max=1.0)))"
      ]
     },
     "metadata": {},
     "output_type": "display_data"
    },
    {
     "data": {
      "text/html": [
       "<style>\n",
       "    table.wandb td:nth-child(1) { padding: 0 10px; text-align: left ; width: auto;} td:nth-child(2) {text-align: left ; width: 100%}\n",
       "    .wandb-row { display: flex; flex-direction: row; flex-wrap: wrap; justify-content: flex-start; width: 100% }\n",
       "    .wandb-col { display: flex; flex-direction: column; flex-basis: 100%; flex: 1; padding: 10px; }\n",
       "    </style>\n",
       "<div class=\"wandb-row\"><div class=\"wandb-col\"><h3>Run history:</h3><br/><table class=\"wandb\"><tr><td>loss</td><td>█▇▃▆█▁▁</td></tr></table><br/></div><div class=\"wandb-col\"><h3>Run summary:</h3><br/><table class=\"wandb\"><tr><td>loss</td><td>-2.08398</td></tr></table><br/></div></div>"
      ],
      "text/plain": [
       "<IPython.core.display.HTML object>"
      ]
     },
     "metadata": {},
     "output_type": "display_data"
    },
    {
     "data": {
      "text/html": [
       " View run <strong style=\"color:#cdcd00\">laced-sweep-48</strong> at: <a href='https://wandb.ai/rohanprasad/idl-project-flowers-facet/runs/j6issmrf' target=\"_blank\">https://wandb.ai/rohanprasad/idl-project-flowers-facet/runs/j6issmrf</a><br/>Synced 6 W&B file(s), 7 media file(s), 0 artifact file(s) and 0 other file(s)"
      ],
      "text/plain": [
       "<IPython.core.display.HTML object>"
      ]
     },
     "metadata": {},
     "output_type": "display_data"
    },
    {
     "data": {
      "text/html": [
       "Find logs at: <code>./wandb/run-20231204_184040-j6issmrf/logs</code>"
      ],
      "text/plain": [
       "<IPython.core.display.HTML object>"
      ]
     },
     "metadata": {},
     "output_type": "display_data"
    },
    {
     "name": "stderr",
     "output_type": "stream",
     "text": [
      "\u001b[34m\u001b[1mwandb\u001b[0m: Agent Starting Run: rucp1m98 with config:\n",
      "\u001b[34m\u001b[1mwandb\u001b[0m: \tchannel: 2048\n",
      "\u001b[34m\u001b[1mwandb\u001b[0m: \tlearning_rate: 0.05\n",
      "\u001b[34m\u001b[1mwandb\u001b[0m: \tlinear_probe_layer: layer1_0_conv3\n",
      "\u001b[34m\u001b[1mwandb\u001b[0m: \tmodel: RN50x4\n",
      "\u001b[34m\u001b[1mwandb\u001b[0m: \tnum_iterations: 512\n",
      "\u001b[34m\u001b[1mwandb\u001b[0m: \tobjective: neuron\n",
      "\u001b[34m\u001b[1mwandb\u001b[0m: \toptimizer: AdamW\n",
      "\u001b[34m\u001b[1mwandb\u001b[0m: \trandom_seed: 18630595\n",
      "\u001b[34m\u001b[1mwandb\u001b[0m: \tuse_std_transforms: True\n",
      "\u001b[34m\u001b[1mwandb\u001b[0m: \tuse_transforms: True\n",
      "\u001b[34m\u001b[1mwandb\u001b[0m: \tvisualization_layer: layer4_5_conv3\n"
     ]
    },
    {
     "data": {
      "text/html": [
       "Tracking run with wandb version 0.16.0"
      ],
      "text/plain": [
       "<IPython.core.display.HTML object>"
      ]
     },
     "metadata": {},
     "output_type": "display_data"
    },
    {
     "data": {
      "text/html": [
       "Run data is saved locally in <code>/apps/11785-f23-prj/wandb/run-20231204_184127-rucp1m98</code>"
      ],
      "text/plain": [
       "<IPython.core.display.HTML object>"
      ]
     },
     "metadata": {},
     "output_type": "display_data"
    },
    {
     "data": {
      "text/html": [
       "Syncing run <strong><a href='https://wandb.ai/rohanprasad/idl-project-flowers-facet/runs/rucp1m98' target=\"_blank\">zesty-sweep-49</a></strong> to <a href='https://wandb.ai/rohanprasad/idl-project-flowers-facet' target=\"_blank\">Weights & Biases</a> (<a href='https://wandb.me/run' target=\"_blank\">docs</a>)<br/>Sweep page: <a href='https://wandb.ai/rohanprasad/idl-project-flowers-facet/sweeps/cuq4fdws' target=\"_blank\">https://wandb.ai/rohanprasad/idl-project-flowers-facet/sweeps/cuq4fdws</a>"
      ],
      "text/plain": [
       "<IPython.core.display.HTML object>"
      ]
     },
     "metadata": {},
     "output_type": "display_data"
    },
    {
     "data": {
      "text/html": [
       " View project at <a href='https://wandb.ai/rohanprasad/idl-project-flowers-facet' target=\"_blank\">https://wandb.ai/rohanprasad/idl-project-flowers-facet</a>"
      ],
      "text/plain": [
       "<IPython.core.display.HTML object>"
      ]
     },
     "metadata": {},
     "output_type": "display_data"
    },
    {
     "data": {
      "text/html": [
       " View sweep at <a href='https://wandb.ai/rohanprasad/idl-project-flowers-facet/sweeps/cuq4fdws' target=\"_blank\">https://wandb.ai/rohanprasad/idl-project-flowers-facet/sweeps/cuq4fdws</a>"
      ],
      "text/plain": [
       "<IPython.core.display.HTML object>"
      ]
     },
     "metadata": {},
     "output_type": "display_data"
    },
    {
     "data": {
      "text/html": [
       " View run at <a href='https://wandb.ai/rohanprasad/idl-project-flowers-facet/runs/rucp1m98' target=\"_blank\">https://wandb.ai/rohanprasad/idl-project-flowers-facet/runs/rucp1m98</a>"
      ],
      "text/plain": [
       "<IPython.core.display.HTML object>"
      ]
     },
     "metadata": {},
     "output_type": "display_data"
    },
    {
     "name": "stderr",
     "output_type": "stream",
     "text": [
      "2023-12-04 18:41:37,324 [Thread-151 (] [INFO ]  Starting sweep [ run  rucp1m98 ] with config = \n",
      "{'channel': 2048, 'learning_rate': 0.05, 'linear_probe_layer': 'layer1_0_conv3', 'model': 'RN50x4', 'num_iterations': 512, 'objective': 'neuron', 'optimizer': 'AdamW', 'random_seed': 18630595, 'use_std_transforms': True, 'use_transforms': True, 'visualization_layer': 'layer4_5_conv3'}\n",
      "2023-12-04 18:41:37,326 [Thread-151 (] [INFO ]  Setting random seed to 18630595\n",
      "2023-12-04 18:41:37,328 [Thread-151 (] [INFO ]  Loading CLIP model [ RN50x4 ].\n",
      "2023-12-04 18:41:41,814 [Thread-151 (] [INFO ]  Finished loading model [ RN50x4 ]\n",
      "2023-12-04 18:41:41,815 [Thread-151 (] [INFO ]  Finished loading transforms [ Compose(\n",
      "    Resize(size=288, interpolation=bicubic, max_size=None, antialias=warn)\n",
      "    CenterCrop(size=(288, 288))\n",
      "    Normalize(mean=(0.48145466, 0.4578275, 0.40821073), std=(0.26862954, 0.26130258, 0.27577711))\n",
      ") ]\n",
      "2023-12-04 18:41:41,816 [Thread-151 (] [INFO ]  Registering hooks.\n",
      "2023-12-04 18:41:41,819 [Thread-151 (] [INFO ]  Finished registering hooks.\n",
      "2023-12-04 18:41:41,823 [Thread-151 (] [INFO ]  Retrieving weights of linear probe [ path = /apps/11785-f23-prj/faceted_visualization/probes/logs/flower/RN50x4/layer1_0_conv3/version_4_20/model_checkpoint.pth ]\n",
      "2023-12-04 18:41:41,828 [Thread-151 (] [INFO ]  Final list of transforms = [Resize(size=288, interpolation=bicubic, max_size=None, antialias=warn), CenterCrop(size=(288, 288)), Normalize(mean=(0.48145466, 0.4578275, 0.40821073), std=(0.26862954, 0.26130258, 0.27577711)), RandomAffine(degrees=[0.0, 0.0], translate=(0.03, 0.03), interpolation=InterpolationMode.NEAREST, fill=0), RandomAffine(degrees=[0.0, 0.0], scale=(0.9, 1.1), interpolation=InterpolationMode.NEAREST, fill=0), RandomRotation(degrees=[-10.0, 10.0], interpolation=InterpolationMode.NEAREST, expand=False, fill=0), RandomAffine(degrees=[0.0, 0.0], translate=(0.015, 0.015), interpolation=InterpolationMode.NEAREST, fill=0)]\n",
      "2023-12-04 18:41:41,829 [Thread-151 (] [INFO ]  Starting optimization process [ run_id = rucp1m98 ]...\n",
      "/opt/conda/lib/python3.10/site-packages/torchvision/transforms/functional.py:1603: UserWarning: The default value of the antialias parameter of all the resizing transforms (Resize(), RandomResizedCrop(), etc.) will change from None to True in v0.17, in order to be consistent across the PIL and Tensor backends. To suppress this warning, directly pass antialias=True (recommended, future default), antialias=None (current default, which means False for Tensors and True for PIL), or antialias=False (only works on Tensors - PIL will still use antialiasing). This also applies if you are using the inference transforms from the models weights: update the call to weights.transforms(antialias=True).\n",
      "  warnings.warn(\n",
      "2023-12-04 18:41:41,897 [Thread-151 (] [INFO ]  Epoch: 1/512: Loss = 0.1528320 :: Learning Rate = 0.0500000\n",
      "2023-12-04 18:41:47,169 [Thread-151 (] [INFO ]  Epoch: 101/512: Loss = -0.3420410 :: Learning Rate = 0.0500000\n",
      "2023-12-04 18:41:52,452 [Thread-151 (] [INFO ]  Epoch: 201/512: Loss = -0.6713867 :: Learning Rate = 0.0500000\n",
      "2023-12-04 18:41:57,805 [Thread-151 (] [INFO ]  Epoch: 301/512: Loss = -0.8144531 :: Learning Rate = 0.0500000\n",
      "2023-12-04 18:42:02,968 [Thread-151 (] [INFO ]  Epoch: 401/512: Loss = -1.0097656 :: Learning Rate = 0.0500000\n",
      "2023-12-04 18:42:08,068 [Thread-151 (] [INFO ]  Epoch: 501/512: Loss = -0.7797852 :: Learning Rate = 0.0500000\n",
      "2023-12-04 18:42:08,661 [Thread-151 (] [INFO ]  Epoch: 512/512: Loss = -1.0205078 :: Learning Rate = 0.0500000\n",
      "2023-12-04 18:42:08,685 [Thread-151 (] [INFO ]  Completed run [ rucp1m98 ]\n"
     ]
    },
    {
     "data": {
      "application/vnd.jupyter.widget-view+json": {
       "model_id": "",
       "version_major": 2,
       "version_minor": 0
      },
      "text/plain": [
       "VBox(children=(Label(value='1.202 MB of 1.223 MB uploaded\\r'), FloatProgress(value=0.9822757616480471, max=1.0…"
      ]
     },
     "metadata": {},
     "output_type": "display_data"
    },
    {
     "data": {
      "text/html": [
       "<style>\n",
       "    table.wandb td:nth-child(1) { padding: 0 10px; text-align: left ; width: auto;} td:nth-child(2) {text-align: left ; width: 100%}\n",
       "    .wandb-row { display: flex; flex-direction: row; flex-wrap: wrap; justify-content: flex-start; width: 100% }\n",
       "    .wandb-col { display: flex; flex-direction: column; flex-basis: 100%; flex: 1; padding: 10px; }\n",
       "    </style>\n",
       "<div class=\"wandb-row\"><div class=\"wandb-col\"><h3>Run history:</h3><br/><table class=\"wandb\"><tr><td>loss</td><td>█▅▃▂▁▂▁</td></tr></table><br/></div><div class=\"wandb-col\"><h3>Run summary:</h3><br/><table class=\"wandb\"><tr><td>loss</td><td>-1.02051</td></tr></table><br/></div></div>"
      ],
      "text/plain": [
       "<IPython.core.display.HTML object>"
      ]
     },
     "metadata": {},
     "output_type": "display_data"
    },
    {
     "data": {
      "text/html": [
       " View run <strong style=\"color:#cdcd00\">zesty-sweep-49</strong> at: <a href='https://wandb.ai/rohanprasad/idl-project-flowers-facet/runs/rucp1m98' target=\"_blank\">https://wandb.ai/rohanprasad/idl-project-flowers-facet/runs/rucp1m98</a><br/>Synced 6 W&B file(s), 7 media file(s), 0 artifact file(s) and 0 other file(s)"
      ],
      "text/plain": [
       "<IPython.core.display.HTML object>"
      ]
     },
     "metadata": {},
     "output_type": "display_data"
    },
    {
     "data": {
      "text/html": [
       "Find logs at: <code>./wandb/run-20231204_184127-rucp1m98/logs</code>"
      ],
      "text/plain": [
       "<IPython.core.display.HTML object>"
      ]
     },
     "metadata": {},
     "output_type": "display_data"
    },
    {
     "name": "stderr",
     "output_type": "stream",
     "text": [
      "\u001b[34m\u001b[1mwandb\u001b[0m: Agent Starting Run: se6i3t4q with config:\n",
      "\u001b[34m\u001b[1mwandb\u001b[0m: \tchannel: 2048\n",
      "\u001b[34m\u001b[1mwandb\u001b[0m: \tlearning_rate: 0.05\n",
      "\u001b[34m\u001b[1mwandb\u001b[0m: \tlinear_probe_layer: layer1_0_conv3\n",
      "\u001b[34m\u001b[1mwandb\u001b[0m: \tmodel: RN50x4\n",
      "\u001b[34m\u001b[1mwandb\u001b[0m: \tnum_iterations: 512\n",
      "\u001b[34m\u001b[1mwandb\u001b[0m: \tobjective: channel\n",
      "\u001b[34m\u001b[1mwandb\u001b[0m: \toptimizer: AdamW\n",
      "\u001b[34m\u001b[1mwandb\u001b[0m: \trandom_seed: 18630595\n",
      "\u001b[34m\u001b[1mwandb\u001b[0m: \tuse_std_transforms: True\n",
      "\u001b[34m\u001b[1mwandb\u001b[0m: \tuse_transforms: True\n",
      "\u001b[34m\u001b[1mwandb\u001b[0m: \tvisualization_layer: layer4_5_conv3\n"
     ]
    },
    {
     "data": {
      "text/html": [
       "Tracking run with wandb version 0.16.0"
      ],
      "text/plain": [
       "<IPython.core.display.HTML object>"
      ]
     },
     "metadata": {},
     "output_type": "display_data"
    },
    {
     "data": {
      "text/html": [
       "Run data is saved locally in <code>/apps/11785-f23-prj/wandb/run-20231204_184218-se6i3t4q</code>"
      ],
      "text/plain": [
       "<IPython.core.display.HTML object>"
      ]
     },
     "metadata": {},
     "output_type": "display_data"
    },
    {
     "data": {
      "text/html": [
       "Syncing run <strong><a href='https://wandb.ai/rohanprasad/idl-project-flowers-facet/runs/se6i3t4q' target=\"_blank\">youthful-sweep-50</a></strong> to <a href='https://wandb.ai/rohanprasad/idl-project-flowers-facet' target=\"_blank\">Weights & Biases</a> (<a href='https://wandb.me/run' target=\"_blank\">docs</a>)<br/>Sweep page: <a href='https://wandb.ai/rohanprasad/idl-project-flowers-facet/sweeps/cuq4fdws' target=\"_blank\">https://wandb.ai/rohanprasad/idl-project-flowers-facet/sweeps/cuq4fdws</a>"
      ],
      "text/plain": [
       "<IPython.core.display.HTML object>"
      ]
     },
     "metadata": {},
     "output_type": "display_data"
    },
    {
     "data": {
      "text/html": [
       " View project at <a href='https://wandb.ai/rohanprasad/idl-project-flowers-facet' target=\"_blank\">https://wandb.ai/rohanprasad/idl-project-flowers-facet</a>"
      ],
      "text/plain": [
       "<IPython.core.display.HTML object>"
      ]
     },
     "metadata": {},
     "output_type": "display_data"
    },
    {
     "data": {
      "text/html": [
       " View sweep at <a href='https://wandb.ai/rohanprasad/idl-project-flowers-facet/sweeps/cuq4fdws' target=\"_blank\">https://wandb.ai/rohanprasad/idl-project-flowers-facet/sweeps/cuq4fdws</a>"
      ],
      "text/plain": [
       "<IPython.core.display.HTML object>"
      ]
     },
     "metadata": {},
     "output_type": "display_data"
    },
    {
     "data": {
      "text/html": [
       " View run at <a href='https://wandb.ai/rohanprasad/idl-project-flowers-facet/runs/se6i3t4q' target=\"_blank\">https://wandb.ai/rohanprasad/idl-project-flowers-facet/runs/se6i3t4q</a>"
      ],
      "text/plain": [
       "<IPython.core.display.HTML object>"
      ]
     },
     "metadata": {},
     "output_type": "display_data"
    },
    {
     "name": "stderr",
     "output_type": "stream",
     "text": [
      "2023-12-04 18:42:28,701 [Thread-154 (] [INFO ]  Starting sweep [ run  se6i3t4q ] with config = \n",
      "{'channel': 2048, 'learning_rate': 0.05, 'linear_probe_layer': 'layer1_0_conv3', 'model': 'RN50x4', 'num_iterations': 512, 'objective': 'channel', 'optimizer': 'AdamW', 'random_seed': 18630595, 'use_std_transforms': True, 'use_transforms': True, 'visualization_layer': 'layer4_5_conv3'}\n",
      "2023-12-04 18:42:28,702 [Thread-154 (] [INFO ]  Setting random seed to 18630595\n",
      "2023-12-04 18:42:28,704 [Thread-154 (] [INFO ]  Loading CLIP model [ RN50x4 ].\n",
      "2023-12-04 18:42:33,205 [Thread-154 (] [INFO ]  Finished loading model [ RN50x4 ]\n",
      "2023-12-04 18:42:33,208 [Thread-154 (] [INFO ]  Finished loading transforms [ Compose(\n",
      "    Resize(size=288, interpolation=bicubic, max_size=None, antialias=warn)\n",
      "    CenterCrop(size=(288, 288))\n",
      "    Normalize(mean=(0.48145466, 0.4578275, 0.40821073), std=(0.26862954, 0.26130258, 0.27577711))\n",
      ") ]\n",
      "2023-12-04 18:42:33,209 [Thread-154 (] [INFO ]  Registering hooks.\n",
      "2023-12-04 18:42:33,213 [Thread-154 (] [INFO ]  Finished registering hooks.\n",
      "2023-12-04 18:42:33,218 [Thread-154 (] [INFO ]  Retrieving weights of linear probe [ path = /apps/11785-f23-prj/faceted_visualization/probes/logs/flower/RN50x4/layer1_0_conv3/version_4_20/model_checkpoint.pth ]\n",
      "2023-12-04 18:42:33,224 [Thread-154 (] [INFO ]  Final list of transforms = [Resize(size=288, interpolation=bicubic, max_size=None, antialias=warn), CenterCrop(size=(288, 288)), Normalize(mean=(0.48145466, 0.4578275, 0.40821073), std=(0.26862954, 0.26130258, 0.27577711)), RandomAffine(degrees=[0.0, 0.0], translate=(0.03, 0.03), interpolation=InterpolationMode.NEAREST, fill=0), RandomAffine(degrees=[0.0, 0.0], scale=(0.9, 1.1), interpolation=InterpolationMode.NEAREST, fill=0), RandomRotation(degrees=[-10.0, 10.0], interpolation=InterpolationMode.NEAREST, expand=False, fill=0), RandomAffine(degrees=[0.0, 0.0], translate=(0.015, 0.015), interpolation=InterpolationMode.NEAREST, fill=0)]\n",
      "2023-12-04 18:42:33,225 [Thread-154 (] [INFO ]  Starting optimization process [ run_id = se6i3t4q ]...\n",
      "/opt/conda/lib/python3.10/site-packages/torchvision/transforms/functional.py:1603: UserWarning: The default value of the antialias parameter of all the resizing transforms (Resize(), RandomResizedCrop(), etc.) will change from None to True in v0.17, in order to be consistent across the PIL and Tensor backends. To suppress this warning, directly pass antialias=True (recommended, future default), antialias=None (current default, which means False for Tensors and True for PIL), or antialias=False (only works on Tensors - PIL will still use antialiasing). This also applies if you are using the inference transforms from the models weights: update the call to weights.transforms(antialias=True).\n",
      "  warnings.warn(\n",
      "2023-12-04 18:42:33,280 [Thread-154 (] [INFO ]  Epoch: 1/512: Loss = 0.1418457 :: Learning Rate = 0.0500000\n",
      "2023-12-04 18:42:38,373 [Thread-154 (] [INFO ]  Epoch: 101/512: Loss = -0.1470947 :: Learning Rate = 0.0500000\n",
      "2023-12-04 18:42:43,409 [Thread-154 (] [INFO ]  Epoch: 201/512: Loss = -0.3195801 :: Learning Rate = 0.0500000\n",
      "2023-12-04 18:42:48,491 [Thread-154 (] [INFO ]  Epoch: 301/512: Loss = -0.3227539 :: Learning Rate = 0.0500000\n",
      "2023-12-04 18:42:53,526 [Thread-154 (] [INFO ]  Epoch: 401/512: Loss = -0.5493164 :: Learning Rate = 0.0500000\n",
      "2023-12-04 18:42:58,548 [Thread-154 (] [INFO ]  Epoch: 501/512: Loss = -0.5166016 :: Learning Rate = 0.0500000\n",
      "2023-12-04 18:42:59,124 [Thread-154 (] [INFO ]  Epoch: 512/512: Loss = -0.5258789 :: Learning Rate = 0.0500000\n",
      "2023-12-04 18:42:59,148 [Thread-154 (] [INFO ]  Completed run [ se6i3t4q ]\n"
     ]
    },
    {
     "data": {
      "application/vnd.jupyter.widget-view+json": {
       "model_id": "",
       "version_major": 2,
       "version_minor": 0
      },
      "text/plain": [
       "VBox(children=(Label(value='1.271 MB of 1.271 MB uploaded\\r'), FloatProgress(value=1.0, max=1.0)))"
      ]
     },
     "metadata": {},
     "output_type": "display_data"
    },
    {
     "data": {
      "text/html": [
       "<style>\n",
       "    table.wandb td:nth-child(1) { padding: 0 10px; text-align: left ; width: auto;} td:nth-child(2) {text-align: left ; width: 100%}\n",
       "    .wandb-row { display: flex; flex-direction: row; flex-wrap: wrap; justify-content: flex-start; width: 100% }\n",
       "    .wandb-col { display: flex; flex-direction: column; flex-basis: 100%; flex: 1; padding: 10px; }\n",
       "    </style>\n",
       "<div class=\"wandb-row\"><div class=\"wandb-col\"><h3>Run history:</h3><br/><table class=\"wandb\"><tr><td>loss</td><td>█▅▃▃▁▁▁</td></tr></table><br/></div><div class=\"wandb-col\"><h3>Run summary:</h3><br/><table class=\"wandb\"><tr><td>loss</td><td>-0.52588</td></tr></table><br/></div></div>"
      ],
      "text/plain": [
       "<IPython.core.display.HTML object>"
      ]
     },
     "metadata": {},
     "output_type": "display_data"
    },
    {
     "data": {
      "text/html": [
       " View run <strong style=\"color:#cdcd00\">youthful-sweep-50</strong> at: <a href='https://wandb.ai/rohanprasad/idl-project-flowers-facet/runs/se6i3t4q' target=\"_blank\">https://wandb.ai/rohanprasad/idl-project-flowers-facet/runs/se6i3t4q</a><br/>Synced 6 W&B file(s), 7 media file(s), 0 artifact file(s) and 0 other file(s)"
      ],
      "text/plain": [
       "<IPython.core.display.HTML object>"
      ]
     },
     "metadata": {},
     "output_type": "display_data"
    },
    {
     "data": {
      "text/html": [
       "Find logs at: <code>./wandb/run-20231204_184218-se6i3t4q/logs</code>"
      ],
      "text/plain": [
       "<IPython.core.display.HTML object>"
      ]
     },
     "metadata": {},
     "output_type": "display_data"
    },
    {
     "name": "stderr",
     "output_type": "stream",
     "text": [
      "\u001b[34m\u001b[1mwandb\u001b[0m: Agent Starting Run: 9mdv7pz4 with config:\n",
      "\u001b[34m\u001b[1mwandb\u001b[0m: \tchannel: 2048\n",
      "\u001b[34m\u001b[1mwandb\u001b[0m: \tlearning_rate: 0.05\n",
      "\u001b[34m\u001b[1mwandb\u001b[0m: \tlinear_probe_layer: layer1_0_relu3\n",
      "\u001b[34m\u001b[1mwandb\u001b[0m: \tmodel: RN50x4\n",
      "\u001b[34m\u001b[1mwandb\u001b[0m: \tnum_iterations: 512\n",
      "\u001b[34m\u001b[1mwandb\u001b[0m: \tobjective: neuron\n",
      "\u001b[34m\u001b[1mwandb\u001b[0m: \toptimizer: AdamW\n",
      "\u001b[34m\u001b[1mwandb\u001b[0m: \trandom_seed: 18630595\n",
      "\u001b[34m\u001b[1mwandb\u001b[0m: \tuse_std_transforms: True\n",
      "\u001b[34m\u001b[1mwandb\u001b[0m: \tuse_transforms: True\n",
      "\u001b[34m\u001b[1mwandb\u001b[0m: \tvisualization_layer: layer4_5_conv3\n"
     ]
    },
    {
     "data": {
      "text/html": [
       "Tracking run with wandb version 0.16.0"
      ],
      "text/plain": [
       "<IPython.core.display.HTML object>"
      ]
     },
     "metadata": {},
     "output_type": "display_data"
    },
    {
     "data": {
      "text/html": [
       "Run data is saved locally in <code>/apps/11785-f23-prj/wandb/run-20231204_184308-9mdv7pz4</code>"
      ],
      "text/plain": [
       "<IPython.core.display.HTML object>"
      ]
     },
     "metadata": {},
     "output_type": "display_data"
    },
    {
     "data": {
      "text/html": [
       "Syncing run <strong><a href='https://wandb.ai/rohanprasad/idl-project-flowers-facet/runs/9mdv7pz4' target=\"_blank\">vague-sweep-51</a></strong> to <a href='https://wandb.ai/rohanprasad/idl-project-flowers-facet' target=\"_blank\">Weights & Biases</a> (<a href='https://wandb.me/run' target=\"_blank\">docs</a>)<br/>Sweep page: <a href='https://wandb.ai/rohanprasad/idl-project-flowers-facet/sweeps/cuq4fdws' target=\"_blank\">https://wandb.ai/rohanprasad/idl-project-flowers-facet/sweeps/cuq4fdws</a>"
      ],
      "text/plain": [
       "<IPython.core.display.HTML object>"
      ]
     },
     "metadata": {},
     "output_type": "display_data"
    },
    {
     "data": {
      "text/html": [
       " View project at <a href='https://wandb.ai/rohanprasad/idl-project-flowers-facet' target=\"_blank\">https://wandb.ai/rohanprasad/idl-project-flowers-facet</a>"
      ],
      "text/plain": [
       "<IPython.core.display.HTML object>"
      ]
     },
     "metadata": {},
     "output_type": "display_data"
    },
    {
     "data": {
      "text/html": [
       " View sweep at <a href='https://wandb.ai/rohanprasad/idl-project-flowers-facet/sweeps/cuq4fdws' target=\"_blank\">https://wandb.ai/rohanprasad/idl-project-flowers-facet/sweeps/cuq4fdws</a>"
      ],
      "text/plain": [
       "<IPython.core.display.HTML object>"
      ]
     },
     "metadata": {},
     "output_type": "display_data"
    },
    {
     "data": {
      "text/html": [
       " View run at <a href='https://wandb.ai/rohanprasad/idl-project-flowers-facet/runs/9mdv7pz4' target=\"_blank\">https://wandb.ai/rohanprasad/idl-project-flowers-facet/runs/9mdv7pz4</a>"
      ],
      "text/plain": [
       "<IPython.core.display.HTML object>"
      ]
     },
     "metadata": {},
     "output_type": "display_data"
    },
    {
     "name": "stderr",
     "output_type": "stream",
     "text": [
      "2023-12-04 18:43:18,443 [Thread-157 (] [INFO ]  Starting sweep [ run  9mdv7pz4 ] with config = \n",
      "{'channel': 2048, 'learning_rate': 0.05, 'linear_probe_layer': 'layer1_0_relu3', 'model': 'RN50x4', 'num_iterations': 512, 'objective': 'neuron', 'optimizer': 'AdamW', 'random_seed': 18630595, 'use_std_transforms': True, 'use_transforms': True, 'visualization_layer': 'layer4_5_conv3'}\n",
      "2023-12-04 18:43:18,444 [Thread-157 (] [INFO ]  Setting random seed to 18630595\n",
      "2023-12-04 18:43:18,446 [Thread-157 (] [INFO ]  Loading CLIP model [ RN50x4 ].\n",
      "2023-12-04 18:43:22,911 [Thread-157 (] [INFO ]  Finished loading model [ RN50x4 ]\n",
      "2023-12-04 18:43:22,913 [Thread-157 (] [INFO ]  Finished loading transforms [ Compose(\n",
      "    Resize(size=288, interpolation=bicubic, max_size=None, antialias=warn)\n",
      "    CenterCrop(size=(288, 288))\n",
      "    Normalize(mean=(0.48145466, 0.4578275, 0.40821073), std=(0.26862954, 0.26130258, 0.27577711))\n",
      ") ]\n",
      "2023-12-04 18:43:22,914 [Thread-157 (] [INFO ]  Registering hooks.\n",
      "2023-12-04 18:43:22,918 [Thread-157 (] [INFO ]  Finished registering hooks.\n",
      "2023-12-04 18:43:22,922 [Thread-157 (] [INFO ]  Retrieving weights of linear probe [ path = /apps/11785-f23-prj/faceted_visualization/probes/logs/flower/RN50x4/layer1_0_relu3/version_4_20/model_checkpoint.pth ]\n",
      "2023-12-04 18:43:22,927 [Thread-157 (] [INFO ]  Final list of transforms = [Resize(size=288, interpolation=bicubic, max_size=None, antialias=warn), CenterCrop(size=(288, 288)), Normalize(mean=(0.48145466, 0.4578275, 0.40821073), std=(0.26862954, 0.26130258, 0.27577711)), RandomAffine(degrees=[0.0, 0.0], translate=(0.03, 0.03), interpolation=InterpolationMode.NEAREST, fill=0), RandomAffine(degrees=[0.0, 0.0], scale=(0.9, 1.1), interpolation=InterpolationMode.NEAREST, fill=0), RandomRotation(degrees=[-10.0, 10.0], interpolation=InterpolationMode.NEAREST, expand=False, fill=0), RandomAffine(degrees=[0.0, 0.0], translate=(0.015, 0.015), interpolation=InterpolationMode.NEAREST, fill=0)]\n",
      "2023-12-04 18:43:22,928 [Thread-157 (] [INFO ]  Starting optimization process [ run_id = 9mdv7pz4 ]...\n",
      "/opt/conda/lib/python3.10/site-packages/torchvision/transforms/functional.py:1603: UserWarning: The default value of the antialias parameter of all the resizing transforms (Resize(), RandomResizedCrop(), etc.) will change from None to True in v0.17, in order to be consistent across the PIL and Tensor backends. To suppress this warning, directly pass antialias=True (recommended, future default), antialias=None (current default, which means False for Tensors and True for PIL), or antialias=False (only works on Tensors - PIL will still use antialiasing). This also applies if you are using the inference transforms from the models weights: update the call to weights.transforms(antialias=True).\n",
      "  warnings.warn(\n",
      "2023-12-04 18:43:22,982 [Thread-157 (] [INFO ]  Epoch: 1/512: Loss = 0.1584473 :: Learning Rate = 0.0500000\n",
      "2023-12-04 18:43:28,047 [Thread-157 (] [INFO ]  Epoch: 101/512: Loss = -0.3757324 :: Learning Rate = 0.0500000\n",
      "2023-12-04 18:43:33,107 [Thread-157 (] [INFO ]  Epoch: 201/512: Loss = -0.5722656 :: Learning Rate = 0.0500000\n",
      "2023-12-04 18:43:38,129 [Thread-157 (] [INFO ]  Epoch: 301/512: Loss = -0.8061523 :: Learning Rate = 0.0500000\n",
      "2023-12-04 18:43:43,191 [Thread-157 (] [INFO ]  Epoch: 401/512: Loss = -0.6850586 :: Learning Rate = 0.0500000\n",
      "2023-12-04 18:43:48,256 [Thread-157 (] [INFO ]  Epoch: 501/512: Loss = -0.7290039 :: Learning Rate = 0.0500000\n",
      "2023-12-04 18:43:48,835 [Thread-157 (] [INFO ]  Epoch: 512/512: Loss = -0.9765625 :: Learning Rate = 0.0500000\n",
      "2023-12-04 18:43:48,859 [Thread-157 (] [INFO ]  Completed run [ 9mdv7pz4 ]\n"
     ]
    },
    {
     "data": {
      "application/vnd.jupyter.widget-view+json": {
       "model_id": "",
       "version_major": 2,
       "version_minor": 0
      },
      "text/plain": [
       "VBox(children=(Label(value='1.198 MB of 1.198 MB uploaded\\r'), FloatProgress(value=1.0, max=1.0)))"
      ]
     },
     "metadata": {},
     "output_type": "display_data"
    },
    {
     "data": {
      "text/html": [
       "<style>\n",
       "    table.wandb td:nth-child(1) { padding: 0 10px; text-align: left ; width: auto;} td:nth-child(2) {text-align: left ; width: 100%}\n",
       "    .wandb-row { display: flex; flex-direction: row; flex-wrap: wrap; justify-content: flex-start; width: 100% }\n",
       "    .wandb-col { display: flex; flex-direction: column; flex-basis: 100%; flex: 1; padding: 10px; }\n",
       "    </style>\n",
       "<div class=\"wandb-row\"><div class=\"wandb-col\"><h3>Run history:</h3><br/><table class=\"wandb\"><tr><td>loss</td><td>█▅▃▂▃▃▁</td></tr></table><br/></div><div class=\"wandb-col\"><h3>Run summary:</h3><br/><table class=\"wandb\"><tr><td>loss</td><td>-0.97656</td></tr></table><br/></div></div>"
      ],
      "text/plain": [
       "<IPython.core.display.HTML object>"
      ]
     },
     "metadata": {},
     "output_type": "display_data"
    },
    {
     "data": {
      "text/html": [
       " View run <strong style=\"color:#cdcd00\">vague-sweep-51</strong> at: <a href='https://wandb.ai/rohanprasad/idl-project-flowers-facet/runs/9mdv7pz4' target=\"_blank\">https://wandb.ai/rohanprasad/idl-project-flowers-facet/runs/9mdv7pz4</a><br/>Synced 6 W&B file(s), 7 media file(s), 0 artifact file(s) and 0 other file(s)"
      ],
      "text/plain": [
       "<IPython.core.display.HTML object>"
      ]
     },
     "metadata": {},
     "output_type": "display_data"
    },
    {
     "data": {
      "text/html": [
       "Find logs at: <code>./wandb/run-20231204_184308-9mdv7pz4/logs</code>"
      ],
      "text/plain": [
       "<IPython.core.display.HTML object>"
      ]
     },
     "metadata": {},
     "output_type": "display_data"
    },
    {
     "name": "stderr",
     "output_type": "stream",
     "text": [
      "\u001b[34m\u001b[1mwandb\u001b[0m: Agent Starting Run: 0joiytgq with config:\n",
      "\u001b[34m\u001b[1mwandb\u001b[0m: \tchannel: 2048\n",
      "\u001b[34m\u001b[1mwandb\u001b[0m: \tlearning_rate: 0.05\n",
      "\u001b[34m\u001b[1mwandb\u001b[0m: \tlinear_probe_layer: layer1_0_relu3\n",
      "\u001b[34m\u001b[1mwandb\u001b[0m: \tmodel: RN50x4\n",
      "\u001b[34m\u001b[1mwandb\u001b[0m: \tnum_iterations: 512\n",
      "\u001b[34m\u001b[1mwandb\u001b[0m: \tobjective: channel\n",
      "\u001b[34m\u001b[1mwandb\u001b[0m: \toptimizer: AdamW\n",
      "\u001b[34m\u001b[1mwandb\u001b[0m: \trandom_seed: 18630595\n",
      "\u001b[34m\u001b[1mwandb\u001b[0m: \tuse_std_transforms: True\n",
      "\u001b[34m\u001b[1mwandb\u001b[0m: \tuse_transforms: True\n",
      "\u001b[34m\u001b[1mwandb\u001b[0m: \tvisualization_layer: layer4_5_conv3\n"
     ]
    },
    {
     "data": {
      "text/html": [
       "Tracking run with wandb version 0.16.0"
      ],
      "text/plain": [
       "<IPython.core.display.HTML object>"
      ]
     },
     "metadata": {},
     "output_type": "display_data"
    },
    {
     "data": {
      "text/html": [
       "Run data is saved locally in <code>/apps/11785-f23-prj/wandb/run-20231204_184355-0joiytgq</code>"
      ],
      "text/plain": [
       "<IPython.core.display.HTML object>"
      ]
     },
     "metadata": {},
     "output_type": "display_data"
    },
    {
     "data": {
      "text/html": [
       "Syncing run <strong><a href='https://wandb.ai/rohanprasad/idl-project-flowers-facet/runs/0joiytgq' target=\"_blank\">unique-sweep-52</a></strong> to <a href='https://wandb.ai/rohanprasad/idl-project-flowers-facet' target=\"_blank\">Weights & Biases</a> (<a href='https://wandb.me/run' target=\"_blank\">docs</a>)<br/>Sweep page: <a href='https://wandb.ai/rohanprasad/idl-project-flowers-facet/sweeps/cuq4fdws' target=\"_blank\">https://wandb.ai/rohanprasad/idl-project-flowers-facet/sweeps/cuq4fdws</a>"
      ],
      "text/plain": [
       "<IPython.core.display.HTML object>"
      ]
     },
     "metadata": {},
     "output_type": "display_data"
    },
    {
     "data": {
      "text/html": [
       " View project at <a href='https://wandb.ai/rohanprasad/idl-project-flowers-facet' target=\"_blank\">https://wandb.ai/rohanprasad/idl-project-flowers-facet</a>"
      ],
      "text/plain": [
       "<IPython.core.display.HTML object>"
      ]
     },
     "metadata": {},
     "output_type": "display_data"
    },
    {
     "data": {
      "text/html": [
       " View sweep at <a href='https://wandb.ai/rohanprasad/idl-project-flowers-facet/sweeps/cuq4fdws' target=\"_blank\">https://wandb.ai/rohanprasad/idl-project-flowers-facet/sweeps/cuq4fdws</a>"
      ],
      "text/plain": [
       "<IPython.core.display.HTML object>"
      ]
     },
     "metadata": {},
     "output_type": "display_data"
    },
    {
     "data": {
      "text/html": [
       " View run at <a href='https://wandb.ai/rohanprasad/idl-project-flowers-facet/runs/0joiytgq' target=\"_blank\">https://wandb.ai/rohanprasad/idl-project-flowers-facet/runs/0joiytgq</a>"
      ],
      "text/plain": [
       "<IPython.core.display.HTML object>"
      ]
     },
     "metadata": {},
     "output_type": "display_data"
    },
    {
     "name": "stderr",
     "output_type": "stream",
     "text": [
      "2023-12-04 18:44:05,526 [Thread-160 (] [INFO ]  Starting sweep [ run  0joiytgq ] with config = \n",
      "{'channel': 2048, 'learning_rate': 0.05, 'linear_probe_layer': 'layer1_0_relu3', 'model': 'RN50x4', 'num_iterations': 512, 'objective': 'channel', 'optimizer': 'AdamW', 'random_seed': 18630595, 'use_std_transforms': True, 'use_transforms': True, 'visualization_layer': 'layer4_5_conv3'}\n",
      "2023-12-04 18:44:05,527 [Thread-160 (] [INFO ]  Setting random seed to 18630595\n",
      "2023-12-04 18:44:05,529 [Thread-160 (] [INFO ]  Loading CLIP model [ RN50x4 ].\n",
      "2023-12-04 18:44:09,994 [Thread-160 (] [INFO ]  Finished loading model [ RN50x4 ]\n",
      "2023-12-04 18:44:09,996 [Thread-160 (] [INFO ]  Finished loading transforms [ Compose(\n",
      "    Resize(size=288, interpolation=bicubic, max_size=None, antialias=warn)\n",
      "    CenterCrop(size=(288, 288))\n",
      "    Normalize(mean=(0.48145466, 0.4578275, 0.40821073), std=(0.26862954, 0.26130258, 0.27577711))\n",
      ") ]\n",
      "2023-12-04 18:44:09,997 [Thread-160 (] [INFO ]  Registering hooks.\n",
      "2023-12-04 18:44:10,000 [Thread-160 (] [INFO ]  Finished registering hooks.\n",
      "2023-12-04 18:44:10,004 [Thread-160 (] [INFO ]  Retrieving weights of linear probe [ path = /apps/11785-f23-prj/faceted_visualization/probes/logs/flower/RN50x4/layer1_0_relu3/version_4_20/model_checkpoint.pth ]\n",
      "2023-12-04 18:44:10,009 [Thread-160 (] [INFO ]  Final list of transforms = [Resize(size=288, interpolation=bicubic, max_size=None, antialias=warn), CenterCrop(size=(288, 288)), Normalize(mean=(0.48145466, 0.4578275, 0.40821073), std=(0.26862954, 0.26130258, 0.27577711)), RandomAffine(degrees=[0.0, 0.0], translate=(0.03, 0.03), interpolation=InterpolationMode.NEAREST, fill=0), RandomAffine(degrees=[0.0, 0.0], scale=(0.9, 1.1), interpolation=InterpolationMode.NEAREST, fill=0), RandomRotation(degrees=[-10.0, 10.0], interpolation=InterpolationMode.NEAREST, expand=False, fill=0), RandomAffine(degrees=[0.0, 0.0], translate=(0.015, 0.015), interpolation=InterpolationMode.NEAREST, fill=0)]\n",
      "2023-12-04 18:44:10,010 [Thread-160 (] [INFO ]  Starting optimization process [ run_id = 0joiytgq ]...\n",
      "/opt/conda/lib/python3.10/site-packages/torchvision/transforms/functional.py:1603: UserWarning: The default value of the antialias parameter of all the resizing transforms (Resize(), RandomResizedCrop(), etc.) will change from None to True in v0.17, in order to be consistent across the PIL and Tensor backends. To suppress this warning, directly pass antialias=True (recommended, future default), antialias=None (current default, which means False for Tensors and True for PIL), or antialias=False (only works on Tensors - PIL will still use antialiasing). This also applies if you are using the inference transforms from the models weights: update the call to weights.transforms(antialias=True).\n",
      "  warnings.warn(\n",
      "2023-12-04 18:44:10,064 [Thread-160 (] [INFO ]  Epoch: 1/512: Loss = 0.1474609 :: Learning Rate = 0.0500000\n",
      "2023-12-04 18:44:15,188 [Thread-160 (] [INFO ]  Epoch: 101/512: Loss = -0.1937256 :: Learning Rate = 0.0500000\n",
      "2023-12-04 18:44:20,266 [Thread-160 (] [INFO ]  Epoch: 201/512: Loss = -0.1968994 :: Learning Rate = 0.0500000\n",
      "2023-12-04 18:44:25,356 [Thread-160 (] [INFO ]  Epoch: 301/512: Loss = -0.2486572 :: Learning Rate = 0.0500000\n",
      "2023-12-04 18:44:30,461 [Thread-160 (] [INFO ]  Epoch: 401/512: Loss = -0.6420898 :: Learning Rate = 0.0500000\n",
      "2023-12-04 18:44:35,560 [Thread-160 (] [INFO ]  Epoch: 501/512: Loss = -0.3771973 :: Learning Rate = 0.0500000\n",
      "2023-12-04 18:44:36,140 [Thread-160 (] [INFO ]  Epoch: 512/512: Loss = -0.3376465 :: Learning Rate = 0.0500000\n",
      "2023-12-04 18:44:36,164 [Thread-160 (] [INFO ]  Completed run [ 0joiytgq ]\n"
     ]
    },
    {
     "data": {
      "application/vnd.jupyter.widget-view+json": {
       "model_id": "",
       "version_major": 2,
       "version_minor": 0
      },
      "text/plain": [
       "VBox(children=(Label(value='1.243 MB of 1.243 MB uploaded\\r'), FloatProgress(value=1.0, max=1.0)))"
      ]
     },
     "metadata": {},
     "output_type": "display_data"
    },
    {
     "data": {
      "text/html": [
       "<style>\n",
       "    table.wandb td:nth-child(1) { padding: 0 10px; text-align: left ; width: auto;} td:nth-child(2) {text-align: left ; width: 100%}\n",
       "    .wandb-row { display: flex; flex-direction: row; flex-wrap: wrap; justify-content: flex-start; width: 100% }\n",
       "    .wandb-col { display: flex; flex-direction: column; flex-basis: 100%; flex: 1; padding: 10px; }\n",
       "    </style>\n",
       "<div class=\"wandb-row\"><div class=\"wandb-col\"><h3>Run history:</h3><br/><table class=\"wandb\"><tr><td>loss</td><td>█▅▅▄▁▃▄</td></tr></table><br/></div><div class=\"wandb-col\"><h3>Run summary:</h3><br/><table class=\"wandb\"><tr><td>loss</td><td>-0.33765</td></tr></table><br/></div></div>"
      ],
      "text/plain": [
       "<IPython.core.display.HTML object>"
      ]
     },
     "metadata": {},
     "output_type": "display_data"
    },
    {
     "data": {
      "text/html": [
       " View run <strong style=\"color:#cdcd00\">unique-sweep-52</strong> at: <a href='https://wandb.ai/rohanprasad/idl-project-flowers-facet/runs/0joiytgq' target=\"_blank\">https://wandb.ai/rohanprasad/idl-project-flowers-facet/runs/0joiytgq</a><br/>Synced 6 W&B file(s), 7 media file(s), 0 artifact file(s) and 0 other file(s)"
      ],
      "text/plain": [
       "<IPython.core.display.HTML object>"
      ]
     },
     "metadata": {},
     "output_type": "display_data"
    },
    {
     "data": {
      "text/html": [
       "Find logs at: <code>./wandb/run-20231204_184355-0joiytgq/logs</code>"
      ],
      "text/plain": [
       "<IPython.core.display.HTML object>"
      ]
     },
     "metadata": {},
     "output_type": "display_data"
    },
    {
     "name": "stderr",
     "output_type": "stream",
     "text": [
      "\u001b[34m\u001b[1mwandb\u001b[0m: Agent Starting Run: kuptpoh0 with config:\n",
      "\u001b[34m\u001b[1mwandb\u001b[0m: \tchannel: 2048\n",
      "\u001b[34m\u001b[1mwandb\u001b[0m: \tlearning_rate: 0.05\n",
      "\u001b[34m\u001b[1mwandb\u001b[0m: \tlinear_probe_layer: layer1_3_conv3\n",
      "\u001b[34m\u001b[1mwandb\u001b[0m: \tmodel: RN50x4\n",
      "\u001b[34m\u001b[1mwandb\u001b[0m: \tnum_iterations: 512\n",
      "\u001b[34m\u001b[1mwandb\u001b[0m: \tobjective: neuron\n",
      "\u001b[34m\u001b[1mwandb\u001b[0m: \toptimizer: AdamW\n",
      "\u001b[34m\u001b[1mwandb\u001b[0m: \trandom_seed: 18630595\n",
      "\u001b[34m\u001b[1mwandb\u001b[0m: \tuse_std_transforms: True\n",
      "\u001b[34m\u001b[1mwandb\u001b[0m: \tuse_transforms: True\n",
      "\u001b[34m\u001b[1mwandb\u001b[0m: \tvisualization_layer: layer4_5_conv3\n"
     ]
    },
    {
     "data": {
      "text/html": [
       "Tracking run with wandb version 0.16.0"
      ],
      "text/plain": [
       "<IPython.core.display.HTML object>"
      ]
     },
     "metadata": {},
     "output_type": "display_data"
    },
    {
     "data": {
      "text/html": [
       "Run data is saved locally in <code>/apps/11785-f23-prj/wandb/run-20231204_184445-kuptpoh0</code>"
      ],
      "text/plain": [
       "<IPython.core.display.HTML object>"
      ]
     },
     "metadata": {},
     "output_type": "display_data"
    },
    {
     "data": {
      "text/html": [
       "Syncing run <strong><a href='https://wandb.ai/rohanprasad/idl-project-flowers-facet/runs/kuptpoh0' target=\"_blank\">royal-sweep-53</a></strong> to <a href='https://wandb.ai/rohanprasad/idl-project-flowers-facet' target=\"_blank\">Weights & Biases</a> (<a href='https://wandb.me/run' target=\"_blank\">docs</a>)<br/>Sweep page: <a href='https://wandb.ai/rohanprasad/idl-project-flowers-facet/sweeps/cuq4fdws' target=\"_blank\">https://wandb.ai/rohanprasad/idl-project-flowers-facet/sweeps/cuq4fdws</a>"
      ],
      "text/plain": [
       "<IPython.core.display.HTML object>"
      ]
     },
     "metadata": {},
     "output_type": "display_data"
    },
    {
     "data": {
      "text/html": [
       " View project at <a href='https://wandb.ai/rohanprasad/idl-project-flowers-facet' target=\"_blank\">https://wandb.ai/rohanprasad/idl-project-flowers-facet</a>"
      ],
      "text/plain": [
       "<IPython.core.display.HTML object>"
      ]
     },
     "metadata": {},
     "output_type": "display_data"
    },
    {
     "data": {
      "text/html": [
       " View sweep at <a href='https://wandb.ai/rohanprasad/idl-project-flowers-facet/sweeps/cuq4fdws' target=\"_blank\">https://wandb.ai/rohanprasad/idl-project-flowers-facet/sweeps/cuq4fdws</a>"
      ],
      "text/plain": [
       "<IPython.core.display.HTML object>"
      ]
     },
     "metadata": {},
     "output_type": "display_data"
    },
    {
     "data": {
      "text/html": [
       " View run at <a href='https://wandb.ai/rohanprasad/idl-project-flowers-facet/runs/kuptpoh0' target=\"_blank\">https://wandb.ai/rohanprasad/idl-project-flowers-facet/runs/kuptpoh0</a>"
      ],
      "text/plain": [
       "<IPython.core.display.HTML object>"
      ]
     },
     "metadata": {},
     "output_type": "display_data"
    },
    {
     "name": "stderr",
     "output_type": "stream",
     "text": [
      "2023-12-04 18:44:55,701 [Thread-163 (] [INFO ]  Starting sweep [ run  kuptpoh0 ] with config = \n",
      "{'channel': 2048, 'learning_rate': 0.05, 'linear_probe_layer': 'layer1_3_conv3', 'model': 'RN50x4', 'num_iterations': 512, 'objective': 'neuron', 'optimizer': 'AdamW', 'random_seed': 18630595, 'use_std_transforms': True, 'use_transforms': True, 'visualization_layer': 'layer4_5_conv3'}\n",
      "2023-12-04 18:44:55,703 [Thread-163 (] [INFO ]  Setting random seed to 18630595\n",
      "2023-12-04 18:44:55,705 [Thread-163 (] [INFO ]  Loading CLIP model [ RN50x4 ].\n",
      "2023-12-04 18:45:00,184 [Thread-163 (] [INFO ]  Finished loading model [ RN50x4 ]\n",
      "2023-12-04 18:45:00,186 [Thread-163 (] [INFO ]  Finished loading transforms [ Compose(\n",
      "    Resize(size=288, interpolation=bicubic, max_size=None, antialias=warn)\n",
      "    CenterCrop(size=(288, 288))\n",
      "    Normalize(mean=(0.48145466, 0.4578275, 0.40821073), std=(0.26862954, 0.26130258, 0.27577711))\n",
      ") ]\n",
      "2023-12-04 18:45:00,187 [Thread-163 (] [INFO ]  Registering hooks.\n",
      "2023-12-04 18:45:00,191 [Thread-163 (] [INFO ]  Finished registering hooks.\n",
      "2023-12-04 18:45:00,195 [Thread-163 (] [INFO ]  Retrieving weights of linear probe [ path = /apps/11785-f23-prj/faceted_visualization/probes/logs/flower/RN50x4/layer1_3_conv3/version_4_20/model_checkpoint.pth ]\n",
      "2023-12-04 18:45:00,201 [Thread-163 (] [INFO ]  Final list of transforms = [Resize(size=288, interpolation=bicubic, max_size=None, antialias=warn), CenterCrop(size=(288, 288)), Normalize(mean=(0.48145466, 0.4578275, 0.40821073), std=(0.26862954, 0.26130258, 0.27577711)), RandomAffine(degrees=[0.0, 0.0], translate=(0.03, 0.03), interpolation=InterpolationMode.NEAREST, fill=0), RandomAffine(degrees=[0.0, 0.0], scale=(0.9, 1.1), interpolation=InterpolationMode.NEAREST, fill=0), RandomRotation(degrees=[-10.0, 10.0], interpolation=InterpolationMode.NEAREST, expand=False, fill=0), RandomAffine(degrees=[0.0, 0.0], translate=(0.015, 0.015), interpolation=InterpolationMode.NEAREST, fill=0)]\n",
      "2023-12-04 18:45:00,201 [Thread-163 (] [INFO ]  Starting optimization process [ run_id = kuptpoh0 ]...\n",
      "/opt/conda/lib/python3.10/site-packages/torchvision/transforms/functional.py:1603: UserWarning: The default value of the antialias parameter of all the resizing transforms (Resize(), RandomResizedCrop(), etc.) will change from None to True in v0.17, in order to be consistent across the PIL and Tensor backends. To suppress this warning, directly pass antialias=True (recommended, future default), antialias=None (current default, which means False for Tensors and True for PIL), or antialias=False (only works on Tensors - PIL will still use antialiasing). This also applies if you are using the inference transforms from the models weights: update the call to weights.transforms(antialias=True).\n",
      "  warnings.warn(\n",
      "2023-12-04 18:45:00,257 [Thread-163 (] [INFO ]  Epoch: 1/512: Loss = 0.0763550 :: Learning Rate = 0.0500000\n",
      "2023-12-04 18:45:05,288 [Thread-163 (] [INFO ]  Epoch: 101/512: Loss = -0.3232422 :: Learning Rate = 0.0500000\n",
      "2023-12-04 18:45:10,318 [Thread-163 (] [INFO ]  Epoch: 201/512: Loss = -0.6152344 :: Learning Rate = 0.0500000\n",
      "2023-12-04 18:45:15,338 [Thread-163 (] [INFO ]  Epoch: 301/512: Loss = -0.8491211 :: Learning Rate = 0.0500000\n",
      "2023-12-04 18:45:20,336 [Thread-163 (] [INFO ]  Epoch: 401/512: Loss = -0.9013672 :: Learning Rate = 0.0500000\n",
      "2023-12-04 18:45:25,330 [Thread-163 (] [INFO ]  Epoch: 501/512: Loss = -0.9497070 :: Learning Rate = 0.0500000\n",
      "2023-12-04 18:45:25,905 [Thread-163 (] [INFO ]  Epoch: 512/512: Loss = -0.9462891 :: Learning Rate = 0.0500000\n",
      "2023-12-04 18:45:25,929 [Thread-163 (] [INFO ]  Completed run [ kuptpoh0 ]\n"
     ]
    },
    {
     "data": {
      "application/vnd.jupyter.widget-view+json": {
       "model_id": "",
       "version_major": 2,
       "version_minor": 0
      },
      "text/plain": [
       "VBox(children=(Label(value='1.187 MB of 1.187 MB uploaded\\r'), FloatProgress(value=1.0, max=1.0)))"
      ]
     },
     "metadata": {},
     "output_type": "display_data"
    },
    {
     "data": {
      "text/html": [
       "<style>\n",
       "    table.wandb td:nth-child(1) { padding: 0 10px; text-align: left ; width: auto;} td:nth-child(2) {text-align: left ; width: 100%}\n",
       "    .wandb-row { display: flex; flex-direction: row; flex-wrap: wrap; justify-content: flex-start; width: 100% }\n",
       "    .wandb-col { display: flex; flex-direction: column; flex-basis: 100%; flex: 1; padding: 10px; }\n",
       "    </style>\n",
       "<div class=\"wandb-row\"><div class=\"wandb-col\"><h3>Run history:</h3><br/><table class=\"wandb\"><tr><td>loss</td><td>█▅▃▂▁▁▁</td></tr></table><br/></div><div class=\"wandb-col\"><h3>Run summary:</h3><br/><table class=\"wandb\"><tr><td>loss</td><td>-0.94629</td></tr></table><br/></div></div>"
      ],
      "text/plain": [
       "<IPython.core.display.HTML object>"
      ]
     },
     "metadata": {},
     "output_type": "display_data"
    },
    {
     "data": {
      "text/html": [
       " View run <strong style=\"color:#cdcd00\">royal-sweep-53</strong> at: <a href='https://wandb.ai/rohanprasad/idl-project-flowers-facet/runs/kuptpoh0' target=\"_blank\">https://wandb.ai/rohanprasad/idl-project-flowers-facet/runs/kuptpoh0</a><br/>Synced 6 W&B file(s), 7 media file(s), 0 artifact file(s) and 0 other file(s)"
      ],
      "text/plain": [
       "<IPython.core.display.HTML object>"
      ]
     },
     "metadata": {},
     "output_type": "display_data"
    },
    {
     "data": {
      "text/html": [
       "Find logs at: <code>./wandb/run-20231204_184445-kuptpoh0/logs</code>"
      ],
      "text/plain": [
       "<IPython.core.display.HTML object>"
      ]
     },
     "metadata": {},
     "output_type": "display_data"
    },
    {
     "name": "stderr",
     "output_type": "stream",
     "text": [
      "\u001b[34m\u001b[1mwandb\u001b[0m: Sweep Agent: Waiting for job.\n",
      "\u001b[34m\u001b[1mwandb\u001b[0m: Job received.\n",
      "\u001b[34m\u001b[1mwandb\u001b[0m: Agent Starting Run: w5yfrwtl with config:\n",
      "\u001b[34m\u001b[1mwandb\u001b[0m: \tchannel: 2048\n",
      "\u001b[34m\u001b[1mwandb\u001b[0m: \tlearning_rate: 0.05\n",
      "\u001b[34m\u001b[1mwandb\u001b[0m: \tlinear_probe_layer: layer1_3_conv3\n",
      "\u001b[34m\u001b[1mwandb\u001b[0m: \tmodel: RN50x4\n",
      "\u001b[34m\u001b[1mwandb\u001b[0m: \tnum_iterations: 512\n",
      "\u001b[34m\u001b[1mwandb\u001b[0m: \tobjective: channel\n",
      "\u001b[34m\u001b[1mwandb\u001b[0m: \toptimizer: AdamW\n",
      "\u001b[34m\u001b[1mwandb\u001b[0m: \trandom_seed: 18630595\n",
      "\u001b[34m\u001b[1mwandb\u001b[0m: \tuse_std_transforms: True\n",
      "\u001b[34m\u001b[1mwandb\u001b[0m: \tuse_transforms: True\n",
      "\u001b[34m\u001b[1mwandb\u001b[0m: \tvisualization_layer: layer4_5_conv3\n"
     ]
    },
    {
     "data": {
      "text/html": [
       "Tracking run with wandb version 0.16.0"
      ],
      "text/plain": [
       "<IPython.core.display.HTML object>"
      ]
     },
     "metadata": {},
     "output_type": "display_data"
    },
    {
     "data": {
      "text/html": [
       "Run data is saved locally in <code>/apps/11785-f23-prj/wandb/run-20231204_184541-w5yfrwtl</code>"
      ],
      "text/plain": [
       "<IPython.core.display.HTML object>"
      ]
     },
     "metadata": {},
     "output_type": "display_data"
    },
    {
     "data": {
      "text/html": [
       "Syncing run <strong><a href='https://wandb.ai/rohanprasad/idl-project-flowers-facet/runs/w5yfrwtl' target=\"_blank\">dauntless-sweep-54</a></strong> to <a href='https://wandb.ai/rohanprasad/idl-project-flowers-facet' target=\"_blank\">Weights & Biases</a> (<a href='https://wandb.me/run' target=\"_blank\">docs</a>)<br/>Sweep page: <a href='https://wandb.ai/rohanprasad/idl-project-flowers-facet/sweeps/cuq4fdws' target=\"_blank\">https://wandb.ai/rohanprasad/idl-project-flowers-facet/sweeps/cuq4fdws</a>"
      ],
      "text/plain": [
       "<IPython.core.display.HTML object>"
      ]
     },
     "metadata": {},
     "output_type": "display_data"
    },
    {
     "data": {
      "text/html": [
       " View project at <a href='https://wandb.ai/rohanprasad/idl-project-flowers-facet' target=\"_blank\">https://wandb.ai/rohanprasad/idl-project-flowers-facet</a>"
      ],
      "text/plain": [
       "<IPython.core.display.HTML object>"
      ]
     },
     "metadata": {},
     "output_type": "display_data"
    },
    {
     "data": {
      "text/html": [
       " View sweep at <a href='https://wandb.ai/rohanprasad/idl-project-flowers-facet/sweeps/cuq4fdws' target=\"_blank\">https://wandb.ai/rohanprasad/idl-project-flowers-facet/sweeps/cuq4fdws</a>"
      ],
      "text/plain": [
       "<IPython.core.display.HTML object>"
      ]
     },
     "metadata": {},
     "output_type": "display_data"
    },
    {
     "data": {
      "text/html": [
       " View run at <a href='https://wandb.ai/rohanprasad/idl-project-flowers-facet/runs/w5yfrwtl' target=\"_blank\">https://wandb.ai/rohanprasad/idl-project-flowers-facet/runs/w5yfrwtl</a>"
      ],
      "text/plain": [
       "<IPython.core.display.HTML object>"
      ]
     },
     "metadata": {},
     "output_type": "display_data"
    },
    {
     "name": "stderr",
     "output_type": "stream",
     "text": [
      "2023-12-04 18:45:51,818 [Thread-166 (] [INFO ]  Starting sweep [ run  w5yfrwtl ] with config = \n",
      "{'channel': 2048, 'learning_rate': 0.05, 'linear_probe_layer': 'layer1_3_conv3', 'model': 'RN50x4', 'num_iterations': 512, 'objective': 'channel', 'optimizer': 'AdamW', 'random_seed': 18630595, 'use_std_transforms': True, 'use_transforms': True, 'visualization_layer': 'layer4_5_conv3'}\n",
      "2023-12-04 18:45:51,819 [Thread-166 (] [INFO ]  Setting random seed to 18630595\n",
      "2023-12-04 18:45:51,821 [Thread-166 (] [INFO ]  Loading CLIP model [ RN50x4 ].\n",
      "2023-12-04 18:45:56,486 [Thread-166 (] [INFO ]  Finished loading model [ RN50x4 ]\n",
      "2023-12-04 18:45:56,487 [Thread-166 (] [INFO ]  Finished loading transforms [ Compose(\n",
      "    Resize(size=288, interpolation=bicubic, max_size=None, antialias=warn)\n",
      "    CenterCrop(size=(288, 288))\n",
      "    Normalize(mean=(0.48145466, 0.4578275, 0.40821073), std=(0.26862954, 0.26130258, 0.27577711))\n",
      ") ]\n",
      "2023-12-04 18:45:56,488 [Thread-166 (] [INFO ]  Registering hooks.\n",
      "2023-12-04 18:45:56,491 [Thread-166 (] [INFO ]  Finished registering hooks.\n",
      "2023-12-04 18:45:56,495 [Thread-166 (] [INFO ]  Retrieving weights of linear probe [ path = /apps/11785-f23-prj/faceted_visualization/probes/logs/flower/RN50x4/layer1_3_conv3/version_4_20/model_checkpoint.pth ]\n",
      "2023-12-04 18:45:56,500 [Thread-166 (] [INFO ]  Final list of transforms = [Resize(size=288, interpolation=bicubic, max_size=None, antialias=warn), CenterCrop(size=(288, 288)), Normalize(mean=(0.48145466, 0.4578275, 0.40821073), std=(0.26862954, 0.26130258, 0.27577711)), RandomAffine(degrees=[0.0, 0.0], translate=(0.03, 0.03), interpolation=InterpolationMode.NEAREST, fill=0), RandomAffine(degrees=[0.0, 0.0], scale=(0.9, 1.1), interpolation=InterpolationMode.NEAREST, fill=0), RandomRotation(degrees=[-10.0, 10.0], interpolation=InterpolationMode.NEAREST, expand=False, fill=0), RandomAffine(degrees=[0.0, 0.0], translate=(0.015, 0.015), interpolation=InterpolationMode.NEAREST, fill=0)]\n",
      "2023-12-04 18:45:56,501 [Thread-166 (] [INFO ]  Starting optimization process [ run_id = w5yfrwtl ]...\n",
      "/opt/conda/lib/python3.10/site-packages/torchvision/transforms/functional.py:1603: UserWarning: The default value of the antialias parameter of all the resizing transforms (Resize(), RandomResizedCrop(), etc.) will change from None to True in v0.17, in order to be consistent across the PIL and Tensor backends. To suppress this warning, directly pass antialias=True (recommended, future default), antialias=None (current default, which means False for Tensors and True for PIL), or antialias=False (only works on Tensors - PIL will still use antialiasing). This also applies if you are using the inference transforms from the models weights: update the call to weights.transforms(antialias=True).\n",
      "  warnings.warn(\n",
      "2023-12-04 18:45:56,554 [Thread-166 (] [INFO ]  Epoch: 1/512: Loss = 0.0653076 :: Learning Rate = 0.0500000\n",
      "2023-12-04 18:46:01,529 [Thread-166 (] [INFO ]  Epoch: 101/512: Loss = -0.0889893 :: Learning Rate = 0.0500000\n",
      "2023-12-04 18:46:06,489 [Thread-166 (] [INFO ]  Epoch: 201/512: Loss = -0.2086182 :: Learning Rate = 0.0500000\n",
      "2023-12-04 18:46:11,449 [Thread-166 (] [INFO ]  Epoch: 301/512: Loss = -0.3337402 :: Learning Rate = 0.0500000\n",
      "2023-12-04 18:46:16,434 [Thread-166 (] [INFO ]  Epoch: 401/512: Loss = -0.5073242 :: Learning Rate = 0.0500000\n",
      "2023-12-04 18:46:21,419 [Thread-166 (] [INFO ]  Epoch: 501/512: Loss = -0.4758301 :: Learning Rate = 0.0500000\n",
      "2023-12-04 18:46:21,986 [Thread-166 (] [INFO ]  Epoch: 512/512: Loss = -0.5854492 :: Learning Rate = 0.0500000\n",
      "2023-12-04 18:46:22,010 [Thread-166 (] [INFO ]  Completed run [ w5yfrwtl ]\n"
     ]
    },
    {
     "data": {
      "application/vnd.jupyter.widget-view+json": {
       "model_id": "",
       "version_major": 2,
       "version_minor": 0
      },
      "text/plain": [
       "VBox(children=(Label(value='1.253 MB of 1.253 MB uploaded\\r'), FloatProgress(value=1.0, max=1.0)))"
      ]
     },
     "metadata": {},
     "output_type": "display_data"
    },
    {
     "data": {
      "text/html": [
       "<style>\n",
       "    table.wandb td:nth-child(1) { padding: 0 10px; text-align: left ; width: auto;} td:nth-child(2) {text-align: left ; width: 100%}\n",
       "    .wandb-row { display: flex; flex-direction: row; flex-wrap: wrap; justify-content: flex-start; width: 100% }\n",
       "    .wandb-col { display: flex; flex-direction: column; flex-basis: 100%; flex: 1; padding: 10px; }\n",
       "    </style>\n",
       "<div class=\"wandb-row\"><div class=\"wandb-col\"><h3>Run history:</h3><br/><table class=\"wandb\"><tr><td>loss</td><td>█▆▅▄▂▂▁</td></tr></table><br/></div><div class=\"wandb-col\"><h3>Run summary:</h3><br/><table class=\"wandb\"><tr><td>loss</td><td>-0.58545</td></tr></table><br/></div></div>"
      ],
      "text/plain": [
       "<IPython.core.display.HTML object>"
      ]
     },
     "metadata": {},
     "output_type": "display_data"
    },
    {
     "data": {
      "text/html": [
       " View run <strong style=\"color:#cdcd00\">dauntless-sweep-54</strong> at: <a href='https://wandb.ai/rohanprasad/idl-project-flowers-facet/runs/w5yfrwtl' target=\"_blank\">https://wandb.ai/rohanprasad/idl-project-flowers-facet/runs/w5yfrwtl</a><br/>Synced 6 W&B file(s), 7 media file(s), 0 artifact file(s) and 0 other file(s)"
      ],
      "text/plain": [
       "<IPython.core.display.HTML object>"
      ]
     },
     "metadata": {},
     "output_type": "display_data"
    },
    {
     "data": {
      "text/html": [
       "Find logs at: <code>./wandb/run-20231204_184541-w5yfrwtl/logs</code>"
      ],
      "text/plain": [
       "<IPython.core.display.HTML object>"
      ]
     },
     "metadata": {},
     "output_type": "display_data"
    },
    {
     "name": "stderr",
     "output_type": "stream",
     "text": [
      "\u001b[34m\u001b[1mwandb\u001b[0m: Agent Starting Run: 3yj9lazl with config:\n",
      "\u001b[34m\u001b[1mwandb\u001b[0m: \tchannel: 2048\n",
      "\u001b[34m\u001b[1mwandb\u001b[0m: \tlearning_rate: 0.05\n",
      "\u001b[34m\u001b[1mwandb\u001b[0m: \tlinear_probe_layer: layer1_3_relu3\n",
      "\u001b[34m\u001b[1mwandb\u001b[0m: \tmodel: RN50x4\n",
      "\u001b[34m\u001b[1mwandb\u001b[0m: \tnum_iterations: 512\n",
      "\u001b[34m\u001b[1mwandb\u001b[0m: \tobjective: neuron\n",
      "\u001b[34m\u001b[1mwandb\u001b[0m: \toptimizer: AdamW\n",
      "\u001b[34m\u001b[1mwandb\u001b[0m: \trandom_seed: 18630595\n",
      "\u001b[34m\u001b[1mwandb\u001b[0m: \tuse_std_transforms: True\n",
      "\u001b[34m\u001b[1mwandb\u001b[0m: \tuse_transforms: True\n",
      "\u001b[34m\u001b[1mwandb\u001b[0m: \tvisualization_layer: layer4_5_conv3\n"
     ]
    },
    {
     "data": {
      "text/html": [
       "Tracking run with wandb version 0.16.0"
      ],
      "text/plain": [
       "<IPython.core.display.HTML object>"
      ]
     },
     "metadata": {},
     "output_type": "display_data"
    },
    {
     "data": {
      "text/html": [
       "Run data is saved locally in <code>/apps/11785-f23-prj/wandb/run-20231204_184631-3yj9lazl</code>"
      ],
      "text/plain": [
       "<IPython.core.display.HTML object>"
      ]
     },
     "metadata": {},
     "output_type": "display_data"
    },
    {
     "data": {
      "text/html": [
       "Syncing run <strong><a href='https://wandb.ai/rohanprasad/idl-project-flowers-facet/runs/3yj9lazl' target=\"_blank\">bright-sweep-55</a></strong> to <a href='https://wandb.ai/rohanprasad/idl-project-flowers-facet' target=\"_blank\">Weights & Biases</a> (<a href='https://wandb.me/run' target=\"_blank\">docs</a>)<br/>Sweep page: <a href='https://wandb.ai/rohanprasad/idl-project-flowers-facet/sweeps/cuq4fdws' target=\"_blank\">https://wandb.ai/rohanprasad/idl-project-flowers-facet/sweeps/cuq4fdws</a>"
      ],
      "text/plain": [
       "<IPython.core.display.HTML object>"
      ]
     },
     "metadata": {},
     "output_type": "display_data"
    },
    {
     "data": {
      "text/html": [
       " View project at <a href='https://wandb.ai/rohanprasad/idl-project-flowers-facet' target=\"_blank\">https://wandb.ai/rohanprasad/idl-project-flowers-facet</a>"
      ],
      "text/plain": [
       "<IPython.core.display.HTML object>"
      ]
     },
     "metadata": {},
     "output_type": "display_data"
    },
    {
     "data": {
      "text/html": [
       " View sweep at <a href='https://wandb.ai/rohanprasad/idl-project-flowers-facet/sweeps/cuq4fdws' target=\"_blank\">https://wandb.ai/rohanprasad/idl-project-flowers-facet/sweeps/cuq4fdws</a>"
      ],
      "text/plain": [
       "<IPython.core.display.HTML object>"
      ]
     },
     "metadata": {},
     "output_type": "display_data"
    },
    {
     "data": {
      "text/html": [
       " View run at <a href='https://wandb.ai/rohanprasad/idl-project-flowers-facet/runs/3yj9lazl' target=\"_blank\">https://wandb.ai/rohanprasad/idl-project-flowers-facet/runs/3yj9lazl</a>"
      ],
      "text/plain": [
       "<IPython.core.display.HTML object>"
      ]
     },
     "metadata": {},
     "output_type": "display_data"
    },
    {
     "name": "stderr",
     "output_type": "stream",
     "text": [
      "2023-12-04 18:46:41,883 [Thread-169 (] [INFO ]  Starting sweep [ run  3yj9lazl ] with config = \n",
      "{'channel': 2048, 'learning_rate': 0.05, 'linear_probe_layer': 'layer1_3_relu3', 'model': 'RN50x4', 'num_iterations': 512, 'objective': 'neuron', 'optimizer': 'AdamW', 'random_seed': 18630595, 'use_std_transforms': True, 'use_transforms': True, 'visualization_layer': 'layer4_5_conv3'}\n",
      "2023-12-04 18:46:41,885 [Thread-169 (] [INFO ]  Setting random seed to 18630595\n",
      "2023-12-04 18:46:41,887 [Thread-169 (] [INFO ]  Loading CLIP model [ RN50x4 ].\n",
      "2023-12-04 18:46:46,384 [Thread-169 (] [INFO ]  Finished loading model [ RN50x4 ]\n",
      "2023-12-04 18:46:46,386 [Thread-169 (] [INFO ]  Finished loading transforms [ Compose(\n",
      "    Resize(size=288, interpolation=bicubic, max_size=None, antialias=warn)\n",
      "    CenterCrop(size=(288, 288))\n",
      "    Normalize(mean=(0.48145466, 0.4578275, 0.40821073), std=(0.26862954, 0.26130258, 0.27577711))\n",
      ") ]\n",
      "2023-12-04 18:46:46,387 [Thread-169 (] [INFO ]  Registering hooks.\n",
      "2023-12-04 18:46:46,391 [Thread-169 (] [INFO ]  Finished registering hooks.\n",
      "2023-12-04 18:46:46,395 [Thread-169 (] [INFO ]  Retrieving weights of linear probe [ path = /apps/11785-f23-prj/faceted_visualization/probes/logs/flower/RN50x4/layer1_3_relu3/version_4_20/model_checkpoint.pth ]\n",
      "2023-12-04 18:46:46,402 [Thread-169 (] [INFO ]  Final list of transforms = [Resize(size=288, interpolation=bicubic, max_size=None, antialias=warn), CenterCrop(size=(288, 288)), Normalize(mean=(0.48145466, 0.4578275, 0.40821073), std=(0.26862954, 0.26130258, 0.27577711)), RandomAffine(degrees=[0.0, 0.0], translate=(0.03, 0.03), interpolation=InterpolationMode.NEAREST, fill=0), RandomAffine(degrees=[0.0, 0.0], scale=(0.9, 1.1), interpolation=InterpolationMode.NEAREST, fill=0), RandomRotation(degrees=[-10.0, 10.0], interpolation=InterpolationMode.NEAREST, expand=False, fill=0), RandomAffine(degrees=[0.0, 0.0], translate=(0.015, 0.015), interpolation=InterpolationMode.NEAREST, fill=0)]\n",
      "2023-12-04 18:46:46,403 [Thread-169 (] [INFO ]  Starting optimization process [ run_id = 3yj9lazl ]...\n",
      "/opt/conda/lib/python3.10/site-packages/torchvision/transforms/functional.py:1603: UserWarning: The default value of the antialias parameter of all the resizing transforms (Resize(), RandomResizedCrop(), etc.) will change from None to True in v0.17, in order to be consistent across the PIL and Tensor backends. To suppress this warning, directly pass antialias=True (recommended, future default), antialias=None (current default, which means False for Tensors and True for PIL), or antialias=False (only works on Tensors - PIL will still use antialiasing). This also applies if you are using the inference transforms from the models weights: update the call to weights.transforms(antialias=True).\n",
      "  warnings.warn(\n",
      "2023-12-04 18:46:46,455 [Thread-169 (] [INFO ]  Epoch: 1/512: Loss = -2.9648438 :: Learning Rate = 0.0500000\n",
      "2023-12-04 18:46:51,477 [Thread-169 (] [INFO ]  Epoch: 101/512: Loss = -0.5507812 :: Learning Rate = 0.0500000\n",
      "2023-12-04 18:46:56,469 [Thread-169 (] [INFO ]  Epoch: 201/512: Loss = 0.2739258 :: Learning Rate = 0.0500000\n",
      "2023-12-04 18:47:01,462 [Thread-169 (] [INFO ]  Epoch: 301/512: Loss = 0.5922852 :: Learning Rate = 0.0500000\n",
      "2023-12-04 18:47:06,457 [Thread-169 (] [INFO ]  Epoch: 401/512: Loss = 0.6909180 :: Learning Rate = 0.0500000\n",
      "2023-12-04 18:47:11,438 [Thread-169 (] [INFO ]  Epoch: 501/512: Loss = -0.6943359 :: Learning Rate = 0.0500000\n",
      "2023-12-04 18:47:12,013 [Thread-169 (] [INFO ]  Epoch: 512/512: Loss = -0.2841797 :: Learning Rate = 0.0500000\n",
      "2023-12-04 18:47:12,036 [Thread-169 (] [INFO ]  Completed run [ 3yj9lazl ]\n"
     ]
    },
    {
     "data": {
      "application/vnd.jupyter.widget-view+json": {
       "model_id": "",
       "version_major": 2,
       "version_minor": 0
      },
      "text/plain": [
       "VBox(children=(Label(value='1.206 MB of 1.206 MB uploaded\\r'), FloatProgress(value=1.0, max=1.0)))"
      ]
     },
     "metadata": {},
     "output_type": "display_data"
    },
    {
     "data": {
      "text/html": [
       "<style>\n",
       "    table.wandb td:nth-child(1) { padding: 0 10px; text-align: left ; width: auto;} td:nth-child(2) {text-align: left ; width: 100%}\n",
       "    .wandb-row { display: flex; flex-direction: row; flex-wrap: wrap; justify-content: flex-start; width: 100% }\n",
       "    .wandb-col { display: flex; flex-direction: column; flex-basis: 100%; flex: 1; padding: 10px; }\n",
       "    </style>\n",
       "<div class=\"wandb-row\"><div class=\"wandb-col\"><h3>Run history:</h3><br/><table class=\"wandb\"><tr><td>loss</td><td>▁▆▇██▅▆</td></tr></table><br/></div><div class=\"wandb-col\"><h3>Run summary:</h3><br/><table class=\"wandb\"><tr><td>loss</td><td>-0.28418</td></tr></table><br/></div></div>"
      ],
      "text/plain": [
       "<IPython.core.display.HTML object>"
      ]
     },
     "metadata": {},
     "output_type": "display_data"
    },
    {
     "data": {
      "text/html": [
       " View run <strong style=\"color:#cdcd00\">bright-sweep-55</strong> at: <a href='https://wandb.ai/rohanprasad/idl-project-flowers-facet/runs/3yj9lazl' target=\"_blank\">https://wandb.ai/rohanprasad/idl-project-flowers-facet/runs/3yj9lazl</a><br/>Synced 6 W&B file(s), 7 media file(s), 0 artifact file(s) and 0 other file(s)"
      ],
      "text/plain": [
       "<IPython.core.display.HTML object>"
      ]
     },
     "metadata": {},
     "output_type": "display_data"
    },
    {
     "data": {
      "text/html": [
       "Find logs at: <code>./wandb/run-20231204_184631-3yj9lazl/logs</code>"
      ],
      "text/plain": [
       "<IPython.core.display.HTML object>"
      ]
     },
     "metadata": {},
     "output_type": "display_data"
    },
    {
     "name": "stderr",
     "output_type": "stream",
     "text": [
      "\u001b[34m\u001b[1mwandb\u001b[0m: Agent Starting Run: 4x3hgexv with config:\n",
      "\u001b[34m\u001b[1mwandb\u001b[0m: \tchannel: 2048\n",
      "\u001b[34m\u001b[1mwandb\u001b[0m: \tlearning_rate: 0.05\n",
      "\u001b[34m\u001b[1mwandb\u001b[0m: \tlinear_probe_layer: layer1_3_relu3\n",
      "\u001b[34m\u001b[1mwandb\u001b[0m: \tmodel: RN50x4\n",
      "\u001b[34m\u001b[1mwandb\u001b[0m: \tnum_iterations: 512\n",
      "\u001b[34m\u001b[1mwandb\u001b[0m: \tobjective: channel\n",
      "\u001b[34m\u001b[1mwandb\u001b[0m: \toptimizer: AdamW\n",
      "\u001b[34m\u001b[1mwandb\u001b[0m: \trandom_seed: 18630595\n",
      "\u001b[34m\u001b[1mwandb\u001b[0m: \tuse_std_transforms: True\n",
      "\u001b[34m\u001b[1mwandb\u001b[0m: \tuse_transforms: True\n",
      "\u001b[34m\u001b[1mwandb\u001b[0m: \tvisualization_layer: layer4_5_conv3\n"
     ]
    },
    {
     "data": {
      "text/html": [
       "Tracking run with wandb version 0.16.0"
      ],
      "text/plain": [
       "<IPython.core.display.HTML object>"
      ]
     },
     "metadata": {},
     "output_type": "display_data"
    },
    {
     "data": {
      "text/html": [
       "Run data is saved locally in <code>/apps/11785-f23-prj/wandb/run-20231204_184722-4x3hgexv</code>"
      ],
      "text/plain": [
       "<IPython.core.display.HTML object>"
      ]
     },
     "metadata": {},
     "output_type": "display_data"
    },
    {
     "data": {
      "text/html": [
       "Syncing run <strong><a href='https://wandb.ai/rohanprasad/idl-project-flowers-facet/runs/4x3hgexv' target=\"_blank\">fast-sweep-56</a></strong> to <a href='https://wandb.ai/rohanprasad/idl-project-flowers-facet' target=\"_blank\">Weights & Biases</a> (<a href='https://wandb.me/run' target=\"_blank\">docs</a>)<br/>Sweep page: <a href='https://wandb.ai/rohanprasad/idl-project-flowers-facet/sweeps/cuq4fdws' target=\"_blank\">https://wandb.ai/rohanprasad/idl-project-flowers-facet/sweeps/cuq4fdws</a>"
      ],
      "text/plain": [
       "<IPython.core.display.HTML object>"
      ]
     },
     "metadata": {},
     "output_type": "display_data"
    },
    {
     "data": {
      "text/html": [
       " View project at <a href='https://wandb.ai/rohanprasad/idl-project-flowers-facet' target=\"_blank\">https://wandb.ai/rohanprasad/idl-project-flowers-facet</a>"
      ],
      "text/plain": [
       "<IPython.core.display.HTML object>"
      ]
     },
     "metadata": {},
     "output_type": "display_data"
    },
    {
     "data": {
      "text/html": [
       " View sweep at <a href='https://wandb.ai/rohanprasad/idl-project-flowers-facet/sweeps/cuq4fdws' target=\"_blank\">https://wandb.ai/rohanprasad/idl-project-flowers-facet/sweeps/cuq4fdws</a>"
      ],
      "text/plain": [
       "<IPython.core.display.HTML object>"
      ]
     },
     "metadata": {},
     "output_type": "display_data"
    },
    {
     "data": {
      "text/html": [
       " View run at <a href='https://wandb.ai/rohanprasad/idl-project-flowers-facet/runs/4x3hgexv' target=\"_blank\">https://wandb.ai/rohanprasad/idl-project-flowers-facet/runs/4x3hgexv</a>"
      ],
      "text/plain": [
       "<IPython.core.display.HTML object>"
      ]
     },
     "metadata": {},
     "output_type": "display_data"
    },
    {
     "name": "stderr",
     "output_type": "stream",
     "text": [
      "2023-12-04 18:47:32,939 [Thread-172 (] [INFO ]  Starting sweep [ run  4x3hgexv ] with config = \n",
      "{'channel': 2048, 'learning_rate': 0.05, 'linear_probe_layer': 'layer1_3_relu3', 'model': 'RN50x4', 'num_iterations': 512, 'objective': 'channel', 'optimizer': 'AdamW', 'random_seed': 18630595, 'use_std_transforms': True, 'use_transforms': True, 'visualization_layer': 'layer4_5_conv3'}\n",
      "2023-12-04 18:47:32,940 [Thread-172 (] [INFO ]  Setting random seed to 18630595\n",
      "2023-12-04 18:47:32,942 [Thread-172 (] [INFO ]  Loading CLIP model [ RN50x4 ].\n",
      "2023-12-04 18:47:37,426 [Thread-172 (] [INFO ]  Finished loading model [ RN50x4 ]\n",
      "2023-12-04 18:47:37,428 [Thread-172 (] [INFO ]  Finished loading transforms [ Compose(\n",
      "    Resize(size=288, interpolation=bicubic, max_size=None, antialias=warn)\n",
      "    CenterCrop(size=(288, 288))\n",
      "    Normalize(mean=(0.48145466, 0.4578275, 0.40821073), std=(0.26862954, 0.26130258, 0.27577711))\n",
      ") ]\n",
      "2023-12-04 18:47:37,429 [Thread-172 (] [INFO ]  Registering hooks.\n",
      "2023-12-04 18:47:37,432 [Thread-172 (] [INFO ]  Finished registering hooks.\n",
      "2023-12-04 18:47:37,436 [Thread-172 (] [INFO ]  Retrieving weights of linear probe [ path = /apps/11785-f23-prj/faceted_visualization/probes/logs/flower/RN50x4/layer1_3_relu3/version_4_20/model_checkpoint.pth ]\n",
      "2023-12-04 18:47:37,441 [Thread-172 (] [INFO ]  Final list of transforms = [Resize(size=288, interpolation=bicubic, max_size=None, antialias=warn), CenterCrop(size=(288, 288)), Normalize(mean=(0.48145466, 0.4578275, 0.40821073), std=(0.26862954, 0.26130258, 0.27577711)), RandomAffine(degrees=[0.0, 0.0], translate=(0.03, 0.03), interpolation=InterpolationMode.NEAREST, fill=0), RandomAffine(degrees=[0.0, 0.0], scale=(0.9, 1.1), interpolation=InterpolationMode.NEAREST, fill=0), RandomRotation(degrees=[-10.0, 10.0], interpolation=InterpolationMode.NEAREST, expand=False, fill=0), RandomAffine(degrees=[0.0, 0.0], translate=(0.015, 0.015), interpolation=InterpolationMode.NEAREST, fill=0)]\n",
      "2023-12-04 18:47:37,442 [Thread-172 (] [INFO ]  Starting optimization process [ run_id = 4x3hgexv ]...\n",
      "/opt/conda/lib/python3.10/site-packages/torchvision/transforms/functional.py:1603: UserWarning: The default value of the antialias parameter of all the resizing transforms (Resize(), RandomResizedCrop(), etc.) will change from None to True in v0.17, in order to be consistent across the PIL and Tensor backends. To suppress this warning, directly pass antialias=True (recommended, future default), antialias=None (current default, which means False for Tensors and True for PIL), or antialias=False (only works on Tensors - PIL will still use antialiasing). This also applies if you are using the inference transforms from the models weights: update the call to weights.transforms(antialias=True).\n",
      "  warnings.warn(\n",
      "2023-12-04 18:47:37,495 [Thread-172 (] [INFO ]  Epoch: 1/512: Loss = -2.9765625 :: Learning Rate = 0.0500000\n",
      "2023-12-04 18:47:42,537 [Thread-172 (] [INFO ]  Epoch: 101/512: Loss = -0.0676880 :: Learning Rate = 0.0500000\n",
      "2023-12-04 18:47:47,548 [Thread-172 (] [INFO ]  Epoch: 201/512: Loss = 0.8520508 :: Learning Rate = 0.0500000\n",
      "2023-12-04 18:47:52,532 [Thread-172 (] [INFO ]  Epoch: 301/512: Loss = 1.3378906 :: Learning Rate = 0.0500000\n",
      "2023-12-04 18:47:57,541 [Thread-172 (] [INFO ]  Epoch: 401/512: Loss = 0.0401917 :: Learning Rate = 0.0500000\n",
      "2023-12-04 18:48:02,531 [Thread-172 (] [INFO ]  Epoch: 501/512: Loss = -2.1386719 :: Learning Rate = 0.0500000\n",
      "2023-12-04 18:48:03,115 [Thread-172 (] [INFO ]  Epoch: 512/512: Loss = 3.3574219 :: Learning Rate = 0.0500000\n",
      "2023-12-04 18:48:03,139 [Thread-172 (] [INFO ]  Completed run [ 4x3hgexv ]\n"
     ]
    },
    {
     "data": {
      "application/vnd.jupyter.widget-view+json": {
       "model_id": "",
       "version_major": 2,
       "version_minor": 0
      },
      "text/plain": [
       "VBox(children=(Label(value='1.201 MB of 1.201 MB uploaded\\r'), FloatProgress(value=1.0, max=1.0)))"
      ]
     },
     "metadata": {},
     "output_type": "display_data"
    },
    {
     "data": {
      "text/html": [
       "<style>\n",
       "    table.wandb td:nth-child(1) { padding: 0 10px; text-align: left ; width: auto;} td:nth-child(2) {text-align: left ; width: 100%}\n",
       "    .wandb-row { display: flex; flex-direction: row; flex-wrap: wrap; justify-content: flex-start; width: 100% }\n",
       "    .wandb-col { display: flex; flex-direction: column; flex-basis: 100%; flex: 1; padding: 10px; }\n",
       "    </style>\n",
       "<div class=\"wandb-row\"><div class=\"wandb-col\"><h3>Run history:</h3><br/><table class=\"wandb\"><tr><td>loss</td><td>▁▄▅▆▄▂█</td></tr></table><br/></div><div class=\"wandb-col\"><h3>Run summary:</h3><br/><table class=\"wandb\"><tr><td>loss</td><td>3.35742</td></tr></table><br/></div></div>"
      ],
      "text/plain": [
       "<IPython.core.display.HTML object>"
      ]
     },
     "metadata": {},
     "output_type": "display_data"
    },
    {
     "data": {
      "text/html": [
       " View run <strong style=\"color:#cdcd00\">fast-sweep-56</strong> at: <a href='https://wandb.ai/rohanprasad/idl-project-flowers-facet/runs/4x3hgexv' target=\"_blank\">https://wandb.ai/rohanprasad/idl-project-flowers-facet/runs/4x3hgexv</a><br/>Synced 6 W&B file(s), 7 media file(s), 0 artifact file(s) and 0 other file(s)"
      ],
      "text/plain": [
       "<IPython.core.display.HTML object>"
      ]
     },
     "metadata": {},
     "output_type": "display_data"
    },
    {
     "data": {
      "text/html": [
       "Find logs at: <code>./wandb/run-20231204_184722-4x3hgexv/logs</code>"
      ],
      "text/plain": [
       "<IPython.core.display.HTML object>"
      ]
     },
     "metadata": {},
     "output_type": "display_data"
    },
    {
     "name": "stderr",
     "output_type": "stream",
     "text": [
      "\u001b[34m\u001b[1mwandb\u001b[0m: Agent Starting Run: qdy8h9mv with config:\n",
      "\u001b[34m\u001b[1mwandb\u001b[0m: \tchannel: 2048\n",
      "\u001b[34m\u001b[1mwandb\u001b[0m: \tlearning_rate: 0.05\n",
      "\u001b[34m\u001b[1mwandb\u001b[0m: \tlinear_probe_layer: layer2_5_conv3\n",
      "\u001b[34m\u001b[1mwandb\u001b[0m: \tmodel: RN50x4\n",
      "\u001b[34m\u001b[1mwandb\u001b[0m: \tnum_iterations: 512\n",
      "\u001b[34m\u001b[1mwandb\u001b[0m: \tobjective: neuron\n",
      "\u001b[34m\u001b[1mwandb\u001b[0m: \toptimizer: AdamW\n",
      "\u001b[34m\u001b[1mwandb\u001b[0m: \trandom_seed: 18630595\n",
      "\u001b[34m\u001b[1mwandb\u001b[0m: \tuse_std_transforms: True\n",
      "\u001b[34m\u001b[1mwandb\u001b[0m: \tuse_transforms: True\n",
      "\u001b[34m\u001b[1mwandb\u001b[0m: \tvisualization_layer: layer4_5_conv3\n"
     ]
    },
    {
     "data": {
      "text/html": [
       "Tracking run with wandb version 0.16.0"
      ],
      "text/plain": [
       "<IPython.core.display.HTML object>"
      ]
     },
     "metadata": {},
     "output_type": "display_data"
    },
    {
     "data": {
      "text/html": [
       "Run data is saved locally in <code>/apps/11785-f23-prj/wandb/run-20231204_184809-qdy8h9mv</code>"
      ],
      "text/plain": [
       "<IPython.core.display.HTML object>"
      ]
     },
     "metadata": {},
     "output_type": "display_data"
    },
    {
     "data": {
      "text/html": [
       "Syncing run <strong><a href='https://wandb.ai/rohanprasad/idl-project-flowers-facet/runs/qdy8h9mv' target=\"_blank\">expert-sweep-57</a></strong> to <a href='https://wandb.ai/rohanprasad/idl-project-flowers-facet' target=\"_blank\">Weights & Biases</a> (<a href='https://wandb.me/run' target=\"_blank\">docs</a>)<br/>Sweep page: <a href='https://wandb.ai/rohanprasad/idl-project-flowers-facet/sweeps/cuq4fdws' target=\"_blank\">https://wandb.ai/rohanprasad/idl-project-flowers-facet/sweeps/cuq4fdws</a>"
      ],
      "text/plain": [
       "<IPython.core.display.HTML object>"
      ]
     },
     "metadata": {},
     "output_type": "display_data"
    },
    {
     "data": {
      "text/html": [
       " View project at <a href='https://wandb.ai/rohanprasad/idl-project-flowers-facet' target=\"_blank\">https://wandb.ai/rohanprasad/idl-project-flowers-facet</a>"
      ],
      "text/plain": [
       "<IPython.core.display.HTML object>"
      ]
     },
     "metadata": {},
     "output_type": "display_data"
    },
    {
     "data": {
      "text/html": [
       " View sweep at <a href='https://wandb.ai/rohanprasad/idl-project-flowers-facet/sweeps/cuq4fdws' target=\"_blank\">https://wandb.ai/rohanprasad/idl-project-flowers-facet/sweeps/cuq4fdws</a>"
      ],
      "text/plain": [
       "<IPython.core.display.HTML object>"
      ]
     },
     "metadata": {},
     "output_type": "display_data"
    },
    {
     "data": {
      "text/html": [
       " View run at <a href='https://wandb.ai/rohanprasad/idl-project-flowers-facet/runs/qdy8h9mv' target=\"_blank\">https://wandb.ai/rohanprasad/idl-project-flowers-facet/runs/qdy8h9mv</a>"
      ],
      "text/plain": [
       "<IPython.core.display.HTML object>"
      ]
     },
     "metadata": {},
     "output_type": "display_data"
    },
    {
     "name": "stderr",
     "output_type": "stream",
     "text": [
      "2023-12-04 18:48:19,962 [Thread-175 (] [INFO ]  Starting sweep [ run  qdy8h9mv ] with config = \n",
      "{'channel': 2048, 'learning_rate': 0.05, 'linear_probe_layer': 'layer2_5_conv3', 'model': 'RN50x4', 'num_iterations': 512, 'objective': 'neuron', 'optimizer': 'AdamW', 'random_seed': 18630595, 'use_std_transforms': True, 'use_transforms': True, 'visualization_layer': 'layer4_5_conv3'}\n",
      "2023-12-04 18:48:19,964 [Thread-175 (] [INFO ]  Setting random seed to 18630595\n",
      "2023-12-04 18:48:19,966 [Thread-175 (] [INFO ]  Loading CLIP model [ RN50x4 ].\n",
      "2023-12-04 18:48:24,440 [Thread-175 (] [INFO ]  Finished loading model [ RN50x4 ]\n",
      "2023-12-04 18:48:24,441 [Thread-175 (] [INFO ]  Finished loading transforms [ Compose(\n",
      "    Resize(size=288, interpolation=bicubic, max_size=None, antialias=warn)\n",
      "    CenterCrop(size=(288, 288))\n",
      "    Normalize(mean=(0.48145466, 0.4578275, 0.40821073), std=(0.26862954, 0.26130258, 0.27577711))\n",
      ") ]\n",
      "2023-12-04 18:48:24,443 [Thread-175 (] [INFO ]  Registering hooks.\n",
      "2023-12-04 18:48:24,446 [Thread-175 (] [INFO ]  Finished registering hooks.\n",
      "2023-12-04 18:48:24,451 [Thread-175 (] [INFO ]  Retrieving weights of linear probe [ path = /apps/11785-f23-prj/faceted_visualization/probes/logs/flower/RN50x4/layer2_5_conv3/version_4_20/model_checkpoint.pth ]\n",
      "2023-12-04 18:48:24,455 [Thread-175 (] [INFO ]  Final list of transforms = [Resize(size=288, interpolation=bicubic, max_size=None, antialias=warn), CenterCrop(size=(288, 288)), Normalize(mean=(0.48145466, 0.4578275, 0.40821073), std=(0.26862954, 0.26130258, 0.27577711)), RandomAffine(degrees=[0.0, 0.0], translate=(0.03, 0.03), interpolation=InterpolationMode.NEAREST, fill=0), RandomAffine(degrees=[0.0, 0.0], scale=(0.9, 1.1), interpolation=InterpolationMode.NEAREST, fill=0), RandomRotation(degrees=[-10.0, 10.0], interpolation=InterpolationMode.NEAREST, expand=False, fill=0), RandomAffine(degrees=[0.0, 0.0], translate=(0.015, 0.015), interpolation=InterpolationMode.NEAREST, fill=0)]\n",
      "2023-12-04 18:48:24,456 [Thread-175 (] [INFO ]  Starting optimization process [ run_id = qdy8h9mv ]...\n",
      "/opt/conda/lib/python3.10/site-packages/torchvision/transforms/functional.py:1603: UserWarning: The default value of the antialias parameter of all the resizing transforms (Resize(), RandomResizedCrop(), etc.) will change from None to True in v0.17, in order to be consistent across the PIL and Tensor backends. To suppress this warning, directly pass antialias=True (recommended, future default), antialias=None (current default, which means False for Tensors and True for PIL), or antialias=False (only works on Tensors - PIL will still use antialiasing). This also applies if you are using the inference transforms from the models weights: update the call to weights.transforms(antialias=True).\n",
      "  warnings.warn(\n",
      "2023-12-04 18:48:24,505 [Thread-175 (] [INFO ]  Epoch: 1/512: Loss = 0.0912476 :: Learning Rate = 0.0500000\n",
      "2023-12-04 18:48:29,130 [Thread-175 (] [INFO ]  Epoch: 101/512: Loss = -0.2958984 :: Learning Rate = 0.0500000\n",
      "2023-12-04 18:48:33,669 [Thread-175 (] [INFO ]  Epoch: 201/512: Loss = -0.5395508 :: Learning Rate = 0.0500000\n",
      "2023-12-04 18:48:38,222 [Thread-175 (] [INFO ]  Epoch: 301/512: Loss = -0.7231445 :: Learning Rate = 0.0500000\n",
      "2023-12-04 18:48:42,778 [Thread-175 (] [INFO ]  Epoch: 401/512: Loss = -1.0234375 :: Learning Rate = 0.0500000\n",
      "2023-12-04 18:48:47,314 [Thread-175 (] [INFO ]  Epoch: 501/512: Loss = -0.8315430 :: Learning Rate = 0.0500000\n",
      "2023-12-04 18:48:47,839 [Thread-175 (] [INFO ]  Epoch: 512/512: Loss = -1.0117188 :: Learning Rate = 0.0500000\n",
      "2023-12-04 18:48:47,864 [Thread-175 (] [INFO ]  Completed run [ qdy8h9mv ]\n"
     ]
    },
    {
     "data": {
      "application/vnd.jupyter.widget-view+json": {
       "model_id": "",
       "version_major": 2,
       "version_minor": 0
      },
      "text/plain": [
       "VBox(children=(Label(value='1.229 MB of 1.229 MB uploaded\\r'), FloatProgress(value=1.0, max=1.0)))"
      ]
     },
     "metadata": {},
     "output_type": "display_data"
    },
    {
     "data": {
      "text/html": [
       "<style>\n",
       "    table.wandb td:nth-child(1) { padding: 0 10px; text-align: left ; width: auto;} td:nth-child(2) {text-align: left ; width: 100%}\n",
       "    .wandb-row { display: flex; flex-direction: row; flex-wrap: wrap; justify-content: flex-start; width: 100% }\n",
       "    .wandb-col { display: flex; flex-direction: column; flex-basis: 100%; flex: 1; padding: 10px; }\n",
       "    </style>\n",
       "<div class=\"wandb-row\"><div class=\"wandb-col\"><h3>Run history:</h3><br/><table class=\"wandb\"><tr><td>loss</td><td>█▆▄▃▁▂▁</td></tr></table><br/></div><div class=\"wandb-col\"><h3>Run summary:</h3><br/><table class=\"wandb\"><tr><td>loss</td><td>-1.01172</td></tr></table><br/></div></div>"
      ],
      "text/plain": [
       "<IPython.core.display.HTML object>"
      ]
     },
     "metadata": {},
     "output_type": "display_data"
    },
    {
     "data": {
      "text/html": [
       " View run <strong style=\"color:#cdcd00\">expert-sweep-57</strong> at: <a href='https://wandb.ai/rohanprasad/idl-project-flowers-facet/runs/qdy8h9mv' target=\"_blank\">https://wandb.ai/rohanprasad/idl-project-flowers-facet/runs/qdy8h9mv</a><br/>Synced 6 W&B file(s), 7 media file(s), 0 artifact file(s) and 0 other file(s)"
      ],
      "text/plain": [
       "<IPython.core.display.HTML object>"
      ]
     },
     "metadata": {},
     "output_type": "display_data"
    },
    {
     "data": {
      "text/html": [
       "Find logs at: <code>./wandb/run-20231204_184809-qdy8h9mv/logs</code>"
      ],
      "text/plain": [
       "<IPython.core.display.HTML object>"
      ]
     },
     "metadata": {},
     "output_type": "display_data"
    },
    {
     "name": "stderr",
     "output_type": "stream",
     "text": [
      "\u001b[34m\u001b[1mwandb\u001b[0m: Agent Starting Run: ftiqbwfr with config:\n",
      "\u001b[34m\u001b[1mwandb\u001b[0m: \tchannel: 2048\n",
      "\u001b[34m\u001b[1mwandb\u001b[0m: \tlearning_rate: 0.05\n",
      "\u001b[34m\u001b[1mwandb\u001b[0m: \tlinear_probe_layer: layer2_5_conv3\n",
      "\u001b[34m\u001b[1mwandb\u001b[0m: \tmodel: RN50x4\n",
      "\u001b[34m\u001b[1mwandb\u001b[0m: \tnum_iterations: 512\n",
      "\u001b[34m\u001b[1mwandb\u001b[0m: \tobjective: channel\n",
      "\u001b[34m\u001b[1mwandb\u001b[0m: \toptimizer: AdamW\n",
      "\u001b[34m\u001b[1mwandb\u001b[0m: \trandom_seed: 18630595\n",
      "\u001b[34m\u001b[1mwandb\u001b[0m: \tuse_std_transforms: True\n",
      "\u001b[34m\u001b[1mwandb\u001b[0m: \tuse_transforms: True\n",
      "\u001b[34m\u001b[1mwandb\u001b[0m: \tvisualization_layer: layer4_5_conv3\n"
     ]
    },
    {
     "data": {
      "text/html": [
       "Tracking run with wandb version 0.16.0"
      ],
      "text/plain": [
       "<IPython.core.display.HTML object>"
      ]
     },
     "metadata": {},
     "output_type": "display_data"
    },
    {
     "data": {
      "text/html": [
       "Run data is saved locally in <code>/apps/11785-f23-prj/wandb/run-20231204_184854-ftiqbwfr</code>"
      ],
      "text/plain": [
       "<IPython.core.display.HTML object>"
      ]
     },
     "metadata": {},
     "output_type": "display_data"
    },
    {
     "data": {
      "text/html": [
       "Syncing run <strong><a href='https://wandb.ai/rohanprasad/idl-project-flowers-facet/runs/ftiqbwfr' target=\"_blank\">legendary-sweep-58</a></strong> to <a href='https://wandb.ai/rohanprasad/idl-project-flowers-facet' target=\"_blank\">Weights & Biases</a> (<a href='https://wandb.me/run' target=\"_blank\">docs</a>)<br/>Sweep page: <a href='https://wandb.ai/rohanprasad/idl-project-flowers-facet/sweeps/cuq4fdws' target=\"_blank\">https://wandb.ai/rohanprasad/idl-project-flowers-facet/sweeps/cuq4fdws</a>"
      ],
      "text/plain": [
       "<IPython.core.display.HTML object>"
      ]
     },
     "metadata": {},
     "output_type": "display_data"
    },
    {
     "data": {
      "text/html": [
       " View project at <a href='https://wandb.ai/rohanprasad/idl-project-flowers-facet' target=\"_blank\">https://wandb.ai/rohanprasad/idl-project-flowers-facet</a>"
      ],
      "text/plain": [
       "<IPython.core.display.HTML object>"
      ]
     },
     "metadata": {},
     "output_type": "display_data"
    },
    {
     "data": {
      "text/html": [
       " View sweep at <a href='https://wandb.ai/rohanprasad/idl-project-flowers-facet/sweeps/cuq4fdws' target=\"_blank\">https://wandb.ai/rohanprasad/idl-project-flowers-facet/sweeps/cuq4fdws</a>"
      ],
      "text/plain": [
       "<IPython.core.display.HTML object>"
      ]
     },
     "metadata": {},
     "output_type": "display_data"
    },
    {
     "data": {
      "text/html": [
       " View run at <a href='https://wandb.ai/rohanprasad/idl-project-flowers-facet/runs/ftiqbwfr' target=\"_blank\">https://wandb.ai/rohanprasad/idl-project-flowers-facet/runs/ftiqbwfr</a>"
      ],
      "text/plain": [
       "<IPython.core.display.HTML object>"
      ]
     },
     "metadata": {},
     "output_type": "display_data"
    },
    {
     "name": "stderr",
     "output_type": "stream",
     "text": [
      "2023-12-04 18:49:05,121 [Thread-178 (] [INFO ]  Starting sweep [ run  ftiqbwfr ] with config = \n",
      "{'channel': 2048, 'learning_rate': 0.05, 'linear_probe_layer': 'layer2_5_conv3', 'model': 'RN50x4', 'num_iterations': 512, 'objective': 'channel', 'optimizer': 'AdamW', 'random_seed': 18630595, 'use_std_transforms': True, 'use_transforms': True, 'visualization_layer': 'layer4_5_conv3'}\n",
      "2023-12-04 18:49:05,123 [Thread-178 (] [INFO ]  Setting random seed to 18630595\n",
      "2023-12-04 18:49:05,124 [Thread-178 (] [INFO ]  Loading CLIP model [ RN50x4 ].\n",
      "2023-12-04 18:49:09,616 [Thread-178 (] [INFO ]  Finished loading model [ RN50x4 ]\n",
      "2023-12-04 18:49:09,618 [Thread-178 (] [INFO ]  Finished loading transforms [ Compose(\n",
      "    Resize(size=288, interpolation=bicubic, max_size=None, antialias=warn)\n",
      "    CenterCrop(size=(288, 288))\n",
      "    Normalize(mean=(0.48145466, 0.4578275, 0.40821073), std=(0.26862954, 0.26130258, 0.27577711))\n",
      ") ]\n",
      "2023-12-04 18:49:09,619 [Thread-178 (] [INFO ]  Registering hooks.\n",
      "2023-12-04 18:49:09,622 [Thread-178 (] [INFO ]  Finished registering hooks.\n",
      "2023-12-04 18:49:09,626 [Thread-178 (] [INFO ]  Retrieving weights of linear probe [ path = /apps/11785-f23-prj/faceted_visualization/probes/logs/flower/RN50x4/layer2_5_conv3/version_4_20/model_checkpoint.pth ]\n",
      "2023-12-04 18:49:09,630 [Thread-178 (] [INFO ]  Final list of transforms = [Resize(size=288, interpolation=bicubic, max_size=None, antialias=warn), CenterCrop(size=(288, 288)), Normalize(mean=(0.48145466, 0.4578275, 0.40821073), std=(0.26862954, 0.26130258, 0.27577711)), RandomAffine(degrees=[0.0, 0.0], translate=(0.03, 0.03), interpolation=InterpolationMode.NEAREST, fill=0), RandomAffine(degrees=[0.0, 0.0], scale=(0.9, 1.1), interpolation=InterpolationMode.NEAREST, fill=0), RandomRotation(degrees=[-10.0, 10.0], interpolation=InterpolationMode.NEAREST, expand=False, fill=0), RandomAffine(degrees=[0.0, 0.0], translate=(0.015, 0.015), interpolation=InterpolationMode.NEAREST, fill=0)]\n",
      "2023-12-04 18:49:09,631 [Thread-178 (] [INFO ]  Starting optimization process [ run_id = ftiqbwfr ]...\n",
      "/opt/conda/lib/python3.10/site-packages/torchvision/transforms/functional.py:1603: UserWarning: The default value of the antialias parameter of all the resizing transforms (Resize(), RandomResizedCrop(), etc.) will change from None to True in v0.17, in order to be consistent across the PIL and Tensor backends. To suppress this warning, directly pass antialias=True (recommended, future default), antialias=None (current default, which means False for Tensors and True for PIL), or antialias=False (only works on Tensors - PIL will still use antialiasing). This also applies if you are using the inference transforms from the models weights: update the call to weights.transforms(antialias=True).\n",
      "  warnings.warn(\n",
      "2023-12-04 18:49:09,679 [Thread-178 (] [INFO ]  Epoch: 1/512: Loss = 0.0802002 :: Learning Rate = 0.0500000\n",
      "2023-12-04 18:49:14,242 [Thread-178 (] [INFO ]  Epoch: 101/512: Loss = -0.1257324 :: Learning Rate = 0.0500000\n",
      "2023-12-04 18:49:18,800 [Thread-178 (] [INFO ]  Epoch: 201/512: Loss = -0.2138672 :: Learning Rate = 0.0500000\n",
      "2023-12-04 18:49:23,536 [Thread-178 (] [INFO ]  Epoch: 301/512: Loss = -0.3232422 :: Learning Rate = 0.0500000\n",
      "2023-12-04 18:49:28,133 [Thread-178 (] [INFO ]  Epoch: 401/512: Loss = -0.5424805 :: Learning Rate = 0.0500000\n",
      "2023-12-04 18:49:32,681 [Thread-178 (] [INFO ]  Epoch: 501/512: Loss = -0.6376953 :: Learning Rate = 0.0500000\n",
      "2023-12-04 18:49:33,204 [Thread-178 (] [INFO ]  Epoch: 512/512: Loss = -0.7597656 :: Learning Rate = 0.0500000\n",
      "2023-12-04 18:49:33,228 [Thread-178 (] [INFO ]  Completed run [ ftiqbwfr ]\n"
     ]
    },
    {
     "data": {
      "application/vnd.jupyter.widget-view+json": {
       "model_id": "",
       "version_major": 2,
       "version_minor": 0
      },
      "text/plain": [
       "VBox(children=(Label(value='1.268 MB of 1.268 MB uploaded\\r'), FloatProgress(value=1.0, max=1.0)))"
      ]
     },
     "metadata": {},
     "output_type": "display_data"
    },
    {
     "data": {
      "text/html": [
       "<style>\n",
       "    table.wandb td:nth-child(1) { padding: 0 10px; text-align: left ; width: auto;} td:nth-child(2) {text-align: left ; width: 100%}\n",
       "    .wandb-row { display: flex; flex-direction: row; flex-wrap: wrap; justify-content: flex-start; width: 100% }\n",
       "    .wandb-col { display: flex; flex-direction: column; flex-basis: 100%; flex: 1; padding: 10px; }\n",
       "    </style>\n",
       "<div class=\"wandb-row\"><div class=\"wandb-col\"><h3>Run history:</h3><br/><table class=\"wandb\"><tr><td>loss</td><td>█▆▆▅▃▂▁</td></tr></table><br/></div><div class=\"wandb-col\"><h3>Run summary:</h3><br/><table class=\"wandb\"><tr><td>loss</td><td>-0.75977</td></tr></table><br/></div></div>"
      ],
      "text/plain": [
       "<IPython.core.display.HTML object>"
      ]
     },
     "metadata": {},
     "output_type": "display_data"
    },
    {
     "data": {
      "text/html": [
       " View run <strong style=\"color:#cdcd00\">legendary-sweep-58</strong> at: <a href='https://wandb.ai/rohanprasad/idl-project-flowers-facet/runs/ftiqbwfr' target=\"_blank\">https://wandb.ai/rohanprasad/idl-project-flowers-facet/runs/ftiqbwfr</a><br/>Synced 6 W&B file(s), 7 media file(s), 0 artifact file(s) and 0 other file(s)"
      ],
      "text/plain": [
       "<IPython.core.display.HTML object>"
      ]
     },
     "metadata": {},
     "output_type": "display_data"
    },
    {
     "data": {
      "text/html": [
       "Find logs at: <code>./wandb/run-20231204_184854-ftiqbwfr/logs</code>"
      ],
      "text/plain": [
       "<IPython.core.display.HTML object>"
      ]
     },
     "metadata": {},
     "output_type": "display_data"
    },
    {
     "name": "stderr",
     "output_type": "stream",
     "text": [
      "\u001b[34m\u001b[1mwandb\u001b[0m: Agent Starting Run: jwlqtv7r with config:\n",
      "\u001b[34m\u001b[1mwandb\u001b[0m: \tchannel: 2048\n",
      "\u001b[34m\u001b[1mwandb\u001b[0m: \tlearning_rate: 0.05\n",
      "\u001b[34m\u001b[1mwandb\u001b[0m: \tlinear_probe_layer: layer2_5_relu3\n",
      "\u001b[34m\u001b[1mwandb\u001b[0m: \tmodel: RN50x4\n",
      "\u001b[34m\u001b[1mwandb\u001b[0m: \tnum_iterations: 512\n",
      "\u001b[34m\u001b[1mwandb\u001b[0m: \tobjective: neuron\n",
      "\u001b[34m\u001b[1mwandb\u001b[0m: \toptimizer: AdamW\n",
      "\u001b[34m\u001b[1mwandb\u001b[0m: \trandom_seed: 18630595\n",
      "\u001b[34m\u001b[1mwandb\u001b[0m: \tuse_std_transforms: True\n",
      "\u001b[34m\u001b[1mwandb\u001b[0m: \tuse_transforms: True\n",
      "\u001b[34m\u001b[1mwandb\u001b[0m: \tvisualization_layer: layer4_5_conv3\n"
     ]
    },
    {
     "data": {
      "text/html": [
       "Tracking run with wandb version 0.16.0"
      ],
      "text/plain": [
       "<IPython.core.display.HTML object>"
      ]
     },
     "metadata": {},
     "output_type": "display_data"
    },
    {
     "data": {
      "text/html": [
       "Run data is saved locally in <code>/apps/11785-f23-prj/wandb/run-20231204_184940-jwlqtv7r</code>"
      ],
      "text/plain": [
       "<IPython.core.display.HTML object>"
      ]
     },
     "metadata": {},
     "output_type": "display_data"
    },
    {
     "data": {
      "text/html": [
       "Syncing run <strong><a href='https://wandb.ai/rohanprasad/idl-project-flowers-facet/runs/jwlqtv7r' target=\"_blank\">lemon-sweep-59</a></strong> to <a href='https://wandb.ai/rohanprasad/idl-project-flowers-facet' target=\"_blank\">Weights & Biases</a> (<a href='https://wandb.me/run' target=\"_blank\">docs</a>)<br/>Sweep page: <a href='https://wandb.ai/rohanprasad/idl-project-flowers-facet/sweeps/cuq4fdws' target=\"_blank\">https://wandb.ai/rohanprasad/idl-project-flowers-facet/sweeps/cuq4fdws</a>"
      ],
      "text/plain": [
       "<IPython.core.display.HTML object>"
      ]
     },
     "metadata": {},
     "output_type": "display_data"
    },
    {
     "data": {
      "text/html": [
       " View project at <a href='https://wandb.ai/rohanprasad/idl-project-flowers-facet' target=\"_blank\">https://wandb.ai/rohanprasad/idl-project-flowers-facet</a>"
      ],
      "text/plain": [
       "<IPython.core.display.HTML object>"
      ]
     },
     "metadata": {},
     "output_type": "display_data"
    },
    {
     "data": {
      "text/html": [
       " View sweep at <a href='https://wandb.ai/rohanprasad/idl-project-flowers-facet/sweeps/cuq4fdws' target=\"_blank\">https://wandb.ai/rohanprasad/idl-project-flowers-facet/sweeps/cuq4fdws</a>"
      ],
      "text/plain": [
       "<IPython.core.display.HTML object>"
      ]
     },
     "metadata": {},
     "output_type": "display_data"
    },
    {
     "data": {
      "text/html": [
       " View run at <a href='https://wandb.ai/rohanprasad/idl-project-flowers-facet/runs/jwlqtv7r' target=\"_blank\">https://wandb.ai/rohanprasad/idl-project-flowers-facet/runs/jwlqtv7r</a>"
      ],
      "text/plain": [
       "<IPython.core.display.HTML object>"
      ]
     },
     "metadata": {},
     "output_type": "display_data"
    },
    {
     "name": "stderr",
     "output_type": "stream",
     "text": [
      "2023-12-04 18:49:51,106 [Thread-181 (] [INFO ]  Starting sweep [ run  jwlqtv7r ] with config = \n",
      "{'channel': 2048, 'learning_rate': 0.05, 'linear_probe_layer': 'layer2_5_relu3', 'model': 'RN50x4', 'num_iterations': 512, 'objective': 'neuron', 'optimizer': 'AdamW', 'random_seed': 18630595, 'use_std_transforms': True, 'use_transforms': True, 'visualization_layer': 'layer4_5_conv3'}\n",
      "2023-12-04 18:49:51,108 [Thread-181 (] [INFO ]  Setting random seed to 18630595\n",
      "2023-12-04 18:49:51,110 [Thread-181 (] [INFO ]  Loading CLIP model [ RN50x4 ].\n",
      "2023-12-04 18:49:55,579 [Thread-181 (] [INFO ]  Finished loading model [ RN50x4 ]\n",
      "2023-12-04 18:49:55,581 [Thread-181 (] [INFO ]  Finished loading transforms [ Compose(\n",
      "    Resize(size=288, interpolation=bicubic, max_size=None, antialias=warn)\n",
      "    CenterCrop(size=(288, 288))\n",
      "    Normalize(mean=(0.48145466, 0.4578275, 0.40821073), std=(0.26862954, 0.26130258, 0.27577711))\n",
      ") ]\n",
      "2023-12-04 18:49:55,582 [Thread-181 (] [INFO ]  Registering hooks.\n",
      "2023-12-04 18:49:55,585 [Thread-181 (] [INFO ]  Finished registering hooks.\n",
      "2023-12-04 18:49:55,589 [Thread-181 (] [INFO ]  Retrieving weights of linear probe [ path = /apps/11785-f23-prj/faceted_visualization/probes/logs/flower/RN50x4/layer2_5_relu3/version_4_20/model_checkpoint.pth ]\n",
      "2023-12-04 18:49:55,593 [Thread-181 (] [INFO ]  Final list of transforms = [Resize(size=288, interpolation=bicubic, max_size=None, antialias=warn), CenterCrop(size=(288, 288)), Normalize(mean=(0.48145466, 0.4578275, 0.40821073), std=(0.26862954, 0.26130258, 0.27577711)), RandomAffine(degrees=[0.0, 0.0], translate=(0.03, 0.03), interpolation=InterpolationMode.NEAREST, fill=0), RandomAffine(degrees=[0.0, 0.0], scale=(0.9, 1.1), interpolation=InterpolationMode.NEAREST, fill=0), RandomRotation(degrees=[-10.0, 10.0], interpolation=InterpolationMode.NEAREST, expand=False, fill=0), RandomAffine(degrees=[0.0, 0.0], translate=(0.015, 0.015), interpolation=InterpolationMode.NEAREST, fill=0)]\n",
      "2023-12-04 18:49:55,594 [Thread-181 (] [INFO ]  Starting optimization process [ run_id = jwlqtv7r ]...\n",
      "/opt/conda/lib/python3.10/site-packages/torchvision/transforms/functional.py:1603: UserWarning: The default value of the antialias parameter of all the resizing transforms (Resize(), RandomResizedCrop(), etc.) will change from None to True in v0.17, in order to be consistent across the PIL and Tensor backends. To suppress this warning, directly pass antialias=True (recommended, future default), antialias=None (current default, which means False for Tensors and True for PIL), or antialias=False (only works on Tensors - PIL will still use antialiasing). This also applies if you are using the inference transforms from the models weights: update the call to weights.transforms(antialias=True).\n",
      "  warnings.warn(\n",
      "2023-12-04 18:49:55,641 [Thread-181 (] [INFO ]  Epoch: 1/512: Loss = -2.4863281 :: Learning Rate = 0.0500000\n",
      "2023-12-04 18:50:00,198 [Thread-181 (] [INFO ]  Epoch: 101/512: Loss = 2.4414062 :: Learning Rate = 0.0500000\n",
      "2023-12-04 18:50:04,717 [Thread-181 (] [INFO ]  Epoch: 201/512: Loss = 0.0450439 :: Learning Rate = 0.0500000\n",
      "2023-12-04 18:50:09,272 [Thread-181 (] [INFO ]  Epoch: 301/512: Loss = 0.6635742 :: Learning Rate = 0.0500000\n",
      "2023-12-04 18:50:13,845 [Thread-181 (] [INFO ]  Epoch: 401/512: Loss = 0.0858765 :: Learning Rate = 0.0500000\n",
      "2023-12-04 18:50:18,387 [Thread-181 (] [INFO ]  Epoch: 501/512: Loss = -3.2519531 :: Learning Rate = 0.0500000\n",
      "2023-12-04 18:50:18,907 [Thread-181 (] [INFO ]  Epoch: 512/512: Loss = -2.8144531 :: Learning Rate = 0.0500000\n",
      "2023-12-04 18:50:18,931 [Thread-181 (] [INFO ]  Completed run [ jwlqtv7r ]\n"
     ]
    },
    {
     "data": {
      "application/vnd.jupyter.widget-view+json": {
       "model_id": "",
       "version_major": 2,
       "version_minor": 0
      },
      "text/plain": [
       "VBox(children=(Label(value='1.225 MB of 1.225 MB uploaded\\r'), FloatProgress(value=1.0, max=1.0)))"
      ]
     },
     "metadata": {},
     "output_type": "display_data"
    },
    {
     "data": {
      "text/html": [
       "<style>\n",
       "    table.wandb td:nth-child(1) { padding: 0 10px; text-align: left ; width: auto;} td:nth-child(2) {text-align: left ; width: 100%}\n",
       "    .wandb-row { display: flex; flex-direction: row; flex-wrap: wrap; justify-content: flex-start; width: 100% }\n",
       "    .wandb-col { display: flex; flex-direction: column; flex-basis: 100%; flex: 1; padding: 10px; }\n",
       "    </style>\n",
       "<div class=\"wandb-row\"><div class=\"wandb-col\"><h3>Run history:</h3><br/><table class=\"wandb\"><tr><td>loss</td><td>▂█▅▆▅▁▂</td></tr></table><br/></div><div class=\"wandb-col\"><h3>Run summary:</h3><br/><table class=\"wandb\"><tr><td>loss</td><td>-2.81445</td></tr></table><br/></div></div>"
      ],
      "text/plain": [
       "<IPython.core.display.HTML object>"
      ]
     },
     "metadata": {},
     "output_type": "display_data"
    },
    {
     "data": {
      "text/html": [
       " View run <strong style=\"color:#cdcd00\">lemon-sweep-59</strong> at: <a href='https://wandb.ai/rohanprasad/idl-project-flowers-facet/runs/jwlqtv7r' target=\"_blank\">https://wandb.ai/rohanprasad/idl-project-flowers-facet/runs/jwlqtv7r</a><br/>Synced 6 W&B file(s), 7 media file(s), 0 artifact file(s) and 0 other file(s)"
      ],
      "text/plain": [
       "<IPython.core.display.HTML object>"
      ]
     },
     "metadata": {},
     "output_type": "display_data"
    },
    {
     "data": {
      "text/html": [
       "Find logs at: <code>./wandb/run-20231204_184940-jwlqtv7r/logs</code>"
      ],
      "text/plain": [
       "<IPython.core.display.HTML object>"
      ]
     },
     "metadata": {},
     "output_type": "display_data"
    },
    {
     "name": "stderr",
     "output_type": "stream",
     "text": [
      "\u001b[34m\u001b[1mwandb\u001b[0m: Agent Starting Run: 593ydc0g with config:\n",
      "\u001b[34m\u001b[1mwandb\u001b[0m: \tchannel: 2048\n",
      "\u001b[34m\u001b[1mwandb\u001b[0m: \tlearning_rate: 0.05\n",
      "\u001b[34m\u001b[1mwandb\u001b[0m: \tlinear_probe_layer: layer2_5_relu3\n",
      "\u001b[34m\u001b[1mwandb\u001b[0m: \tmodel: RN50x4\n",
      "\u001b[34m\u001b[1mwandb\u001b[0m: \tnum_iterations: 512\n",
      "\u001b[34m\u001b[1mwandb\u001b[0m: \tobjective: channel\n",
      "\u001b[34m\u001b[1mwandb\u001b[0m: \toptimizer: AdamW\n",
      "\u001b[34m\u001b[1mwandb\u001b[0m: \trandom_seed: 18630595\n",
      "\u001b[34m\u001b[1mwandb\u001b[0m: \tuse_std_transforms: True\n",
      "\u001b[34m\u001b[1mwandb\u001b[0m: \tuse_transforms: True\n",
      "\u001b[34m\u001b[1mwandb\u001b[0m: \tvisualization_layer: layer4_5_conv3\n"
     ]
    },
    {
     "data": {
      "text/html": [
       "Tracking run with wandb version 0.16.0"
      ],
      "text/plain": [
       "<IPython.core.display.HTML object>"
      ]
     },
     "metadata": {},
     "output_type": "display_data"
    },
    {
     "data": {
      "text/html": [
       "Run data is saved locally in <code>/apps/11785-f23-prj/wandb/run-20231204_185025-593ydc0g</code>"
      ],
      "text/plain": [
       "<IPython.core.display.HTML object>"
      ]
     },
     "metadata": {},
     "output_type": "display_data"
    },
    {
     "data": {
      "text/html": [
       "Syncing run <strong><a href='https://wandb.ai/rohanprasad/idl-project-flowers-facet/runs/593ydc0g' target=\"_blank\">revived-sweep-60</a></strong> to <a href='https://wandb.ai/rohanprasad/idl-project-flowers-facet' target=\"_blank\">Weights & Biases</a> (<a href='https://wandb.me/run' target=\"_blank\">docs</a>)<br/>Sweep page: <a href='https://wandb.ai/rohanprasad/idl-project-flowers-facet/sweeps/cuq4fdws' target=\"_blank\">https://wandb.ai/rohanprasad/idl-project-flowers-facet/sweeps/cuq4fdws</a>"
      ],
      "text/plain": [
       "<IPython.core.display.HTML object>"
      ]
     },
     "metadata": {},
     "output_type": "display_data"
    },
    {
     "data": {
      "text/html": [
       " View project at <a href='https://wandb.ai/rohanprasad/idl-project-flowers-facet' target=\"_blank\">https://wandb.ai/rohanprasad/idl-project-flowers-facet</a>"
      ],
      "text/plain": [
       "<IPython.core.display.HTML object>"
      ]
     },
     "metadata": {},
     "output_type": "display_data"
    },
    {
     "data": {
      "text/html": [
       " View sweep at <a href='https://wandb.ai/rohanprasad/idl-project-flowers-facet/sweeps/cuq4fdws' target=\"_blank\">https://wandb.ai/rohanprasad/idl-project-flowers-facet/sweeps/cuq4fdws</a>"
      ],
      "text/plain": [
       "<IPython.core.display.HTML object>"
      ]
     },
     "metadata": {},
     "output_type": "display_data"
    },
    {
     "data": {
      "text/html": [
       " View run at <a href='https://wandb.ai/rohanprasad/idl-project-flowers-facet/runs/593ydc0g' target=\"_blank\">https://wandb.ai/rohanprasad/idl-project-flowers-facet/runs/593ydc0g</a>"
      ],
      "text/plain": [
       "<IPython.core.display.HTML object>"
      ]
     },
     "metadata": {},
     "output_type": "display_data"
    },
    {
     "name": "stderr",
     "output_type": "stream",
     "text": [
      "2023-12-04 18:50:36,187 [Thread-184 (] [INFO ]  Starting sweep [ run  593ydc0g ] with config = \n",
      "{'channel': 2048, 'learning_rate': 0.05, 'linear_probe_layer': 'layer2_5_relu3', 'model': 'RN50x4', 'num_iterations': 512, 'objective': 'channel', 'optimizer': 'AdamW', 'random_seed': 18630595, 'use_std_transforms': True, 'use_transforms': True, 'visualization_layer': 'layer4_5_conv3'}\n",
      "2023-12-04 18:50:36,188 [Thread-184 (] [INFO ]  Setting random seed to 18630595\n",
      "2023-12-04 18:50:36,190 [Thread-184 (] [INFO ]  Loading CLIP model [ RN50x4 ].\n",
      "2023-12-04 18:50:40,652 [Thread-184 (] [INFO ]  Finished loading model [ RN50x4 ]\n",
      "2023-12-04 18:50:40,654 [Thread-184 (] [INFO ]  Finished loading transforms [ Compose(\n",
      "    Resize(size=288, interpolation=bicubic, max_size=None, antialias=warn)\n",
      "    CenterCrop(size=(288, 288))\n",
      "    Normalize(mean=(0.48145466, 0.4578275, 0.40821073), std=(0.26862954, 0.26130258, 0.27577711))\n",
      ") ]\n",
      "2023-12-04 18:50:40,655 [Thread-184 (] [INFO ]  Registering hooks.\n",
      "2023-12-04 18:50:40,658 [Thread-184 (] [INFO ]  Finished registering hooks.\n",
      "2023-12-04 18:50:40,662 [Thread-184 (] [INFO ]  Retrieving weights of linear probe [ path = /apps/11785-f23-prj/faceted_visualization/probes/logs/flower/RN50x4/layer2_5_relu3/version_4_20/model_checkpoint.pth ]\n",
      "2023-12-04 18:50:40,666 [Thread-184 (] [INFO ]  Final list of transforms = [Resize(size=288, interpolation=bicubic, max_size=None, antialias=warn), CenterCrop(size=(288, 288)), Normalize(mean=(0.48145466, 0.4578275, 0.40821073), std=(0.26862954, 0.26130258, 0.27577711)), RandomAffine(degrees=[0.0, 0.0], translate=(0.03, 0.03), interpolation=InterpolationMode.NEAREST, fill=0), RandomAffine(degrees=[0.0, 0.0], scale=(0.9, 1.1), interpolation=InterpolationMode.NEAREST, fill=0), RandomRotation(degrees=[-10.0, 10.0], interpolation=InterpolationMode.NEAREST, expand=False, fill=0), RandomAffine(degrees=[0.0, 0.0], translate=(0.015, 0.015), interpolation=InterpolationMode.NEAREST, fill=0)]\n",
      "2023-12-04 18:50:40,667 [Thread-184 (] [INFO ]  Starting optimization process [ run_id = 593ydc0g ]...\n",
      "/opt/conda/lib/python3.10/site-packages/torchvision/transforms/functional.py:1603: UserWarning: The default value of the antialias parameter of all the resizing transforms (Resize(), RandomResizedCrop(), etc.) will change from None to True in v0.17, in order to be consistent across the PIL and Tensor backends. To suppress this warning, directly pass antialias=True (recommended, future default), antialias=None (current default, which means False for Tensors and True for PIL), or antialias=False (only works on Tensors - PIL will still use antialiasing). This also applies if you are using the inference transforms from the models weights: update the call to weights.transforms(antialias=True).\n",
      "  warnings.warn(\n",
      "2023-12-04 18:50:40,716 [Thread-184 (] [INFO ]  Epoch: 1/512: Loss = -2.4960938 :: Learning Rate = 0.0500000\n",
      "2023-12-04 18:50:45,354 [Thread-184 (] [INFO ]  Epoch: 101/512: Loss = -3.3046875 :: Learning Rate = 0.0500000\n",
      "2023-12-04 18:50:49,911 [Thread-184 (] [INFO ]  Epoch: 201/512: Loss = -0.1101685 :: Learning Rate = 0.0500000\n",
      "2023-12-04 18:50:54,502 [Thread-184 (] [INFO ]  Epoch: 301/512: Loss = -1.5009766 :: Learning Rate = 0.0500000\n",
      "2023-12-04 18:50:59,070 [Thread-184 (] [INFO ]  Epoch: 401/512: Loss = -0.3039551 :: Learning Rate = 0.0500000\n",
      "2023-12-04 18:51:03,895 [Thread-184 (] [INFO ]  Epoch: 501/512: Loss = -1.7929688 :: Learning Rate = 0.0500000\n",
      "2023-12-04 18:51:04,424 [Thread-184 (] [INFO ]  Epoch: 512/512: Loss = 0.0216980 :: Learning Rate = 0.0500000\n",
      "2023-12-04 18:51:04,448 [Thread-184 (] [INFO ]  Completed run [ 593ydc0g ]\n"
     ]
    },
    {
     "data": {
      "application/vnd.jupyter.widget-view+json": {
       "model_id": "",
       "version_major": 2,
       "version_minor": 0
      },
      "text/plain": [
       "VBox(children=(Label(value='1.200 MB of 1.200 MB uploaded\\r'), FloatProgress(value=1.0, max=1.0)))"
      ]
     },
     "metadata": {},
     "output_type": "display_data"
    },
    {
     "data": {
      "text/html": [
       "<style>\n",
       "    table.wandb td:nth-child(1) { padding: 0 10px; text-align: left ; width: auto;} td:nth-child(2) {text-align: left ; width: 100%}\n",
       "    .wandb-row { display: flex; flex-direction: row; flex-wrap: wrap; justify-content: flex-start; width: 100% }\n",
       "    .wandb-col { display: flex; flex-direction: column; flex-basis: 100%; flex: 1; padding: 10px; }\n",
       "    </style>\n",
       "<div class=\"wandb-row\"><div class=\"wandb-col\"><h3>Run history:</h3><br/><table class=\"wandb\"><tr><td>loss</td><td>▃▁█▅▇▄█</td></tr></table><br/></div><div class=\"wandb-col\"><h3>Run summary:</h3><br/><table class=\"wandb\"><tr><td>loss</td><td>0.0217</td></tr></table><br/></div></div>"
      ],
      "text/plain": [
       "<IPython.core.display.HTML object>"
      ]
     },
     "metadata": {},
     "output_type": "display_data"
    },
    {
     "data": {
      "text/html": [
       " View run <strong style=\"color:#cdcd00\">revived-sweep-60</strong> at: <a href='https://wandb.ai/rohanprasad/idl-project-flowers-facet/runs/593ydc0g' target=\"_blank\">https://wandb.ai/rohanprasad/idl-project-flowers-facet/runs/593ydc0g</a><br/>Synced 6 W&B file(s), 7 media file(s), 0 artifact file(s) and 0 other file(s)"
      ],
      "text/plain": [
       "<IPython.core.display.HTML object>"
      ]
     },
     "metadata": {},
     "output_type": "display_data"
    },
    {
     "data": {
      "text/html": [
       "Find logs at: <code>./wandb/run-20231204_185025-593ydc0g/logs</code>"
      ],
      "text/plain": [
       "<IPython.core.display.HTML object>"
      ]
     },
     "metadata": {},
     "output_type": "display_data"
    },
    {
     "name": "stderr",
     "output_type": "stream",
     "text": [
      "\u001b[34m\u001b[1mwandb\u001b[0m: Agent Starting Run: ut43ufhl with config:\n",
      "\u001b[34m\u001b[1mwandb\u001b[0m: \tchannel: 2048\n",
      "\u001b[34m\u001b[1mwandb\u001b[0m: \tlearning_rate: 0.05\n",
      "\u001b[34m\u001b[1mwandb\u001b[0m: \tlinear_probe_layer: layer3_9_conv3\n",
      "\u001b[34m\u001b[1mwandb\u001b[0m: \tmodel: RN50x4\n",
      "\u001b[34m\u001b[1mwandb\u001b[0m: \tnum_iterations: 512\n",
      "\u001b[34m\u001b[1mwandb\u001b[0m: \tobjective: neuron\n",
      "\u001b[34m\u001b[1mwandb\u001b[0m: \toptimizer: AdamW\n",
      "\u001b[34m\u001b[1mwandb\u001b[0m: \trandom_seed: 18630595\n",
      "\u001b[34m\u001b[1mwandb\u001b[0m: \tuse_std_transforms: True\n",
      "\u001b[34m\u001b[1mwandb\u001b[0m: \tuse_transforms: True\n",
      "\u001b[34m\u001b[1mwandb\u001b[0m: \tvisualization_layer: layer4_5_conv3\n"
     ]
    },
    {
     "data": {
      "text/html": [
       "Tracking run with wandb version 0.16.0"
      ],
      "text/plain": [
       "<IPython.core.display.HTML object>"
      ]
     },
     "metadata": {},
     "output_type": "display_data"
    },
    {
     "data": {
      "text/html": [
       "Run data is saved locally in <code>/apps/11785-f23-prj/wandb/run-20231204_185112-ut43ufhl</code>"
      ],
      "text/plain": [
       "<IPython.core.display.HTML object>"
      ]
     },
     "metadata": {},
     "output_type": "display_data"
    },
    {
     "data": {
      "text/html": [
       "Syncing run <strong><a href='https://wandb.ai/rohanprasad/idl-project-flowers-facet/runs/ut43ufhl' target=\"_blank\">curious-sweep-61</a></strong> to <a href='https://wandb.ai/rohanprasad/idl-project-flowers-facet' target=\"_blank\">Weights & Biases</a> (<a href='https://wandb.me/run' target=\"_blank\">docs</a>)<br/>Sweep page: <a href='https://wandb.ai/rohanprasad/idl-project-flowers-facet/sweeps/cuq4fdws' target=\"_blank\">https://wandb.ai/rohanprasad/idl-project-flowers-facet/sweeps/cuq4fdws</a>"
      ],
      "text/plain": [
       "<IPython.core.display.HTML object>"
      ]
     },
     "metadata": {},
     "output_type": "display_data"
    },
    {
     "data": {
      "text/html": [
       " View project at <a href='https://wandb.ai/rohanprasad/idl-project-flowers-facet' target=\"_blank\">https://wandb.ai/rohanprasad/idl-project-flowers-facet</a>"
      ],
      "text/plain": [
       "<IPython.core.display.HTML object>"
      ]
     },
     "metadata": {},
     "output_type": "display_data"
    },
    {
     "data": {
      "text/html": [
       " View sweep at <a href='https://wandb.ai/rohanprasad/idl-project-flowers-facet/sweeps/cuq4fdws' target=\"_blank\">https://wandb.ai/rohanprasad/idl-project-flowers-facet/sweeps/cuq4fdws</a>"
      ],
      "text/plain": [
       "<IPython.core.display.HTML object>"
      ]
     },
     "metadata": {},
     "output_type": "display_data"
    },
    {
     "data": {
      "text/html": [
       " View run at <a href='https://wandb.ai/rohanprasad/idl-project-flowers-facet/runs/ut43ufhl' target=\"_blank\">https://wandb.ai/rohanprasad/idl-project-flowers-facet/runs/ut43ufhl</a>"
      ],
      "text/plain": [
       "<IPython.core.display.HTML object>"
      ]
     },
     "metadata": {},
     "output_type": "display_data"
    },
    {
     "name": "stderr",
     "output_type": "stream",
     "text": [
      "2023-12-04 18:51:22,299 [Thread-187 (] [INFO ]  Starting sweep [ run  ut43ufhl ] with config = \n",
      "{'channel': 2048, 'learning_rate': 0.05, 'linear_probe_layer': 'layer3_9_conv3', 'model': 'RN50x4', 'num_iterations': 512, 'objective': 'neuron', 'optimizer': 'AdamW', 'random_seed': 18630595, 'use_std_transforms': True, 'use_transforms': True, 'visualization_layer': 'layer4_5_conv3'}\n",
      "2023-12-04 18:51:22,300 [Thread-187 (] [INFO ]  Setting random seed to 18630595\n",
      "2023-12-04 18:51:22,302 [Thread-187 (] [INFO ]  Loading CLIP model [ RN50x4 ].\n",
      "2023-12-04 18:51:26,772 [Thread-187 (] [INFO ]  Finished loading model [ RN50x4 ]\n",
      "2023-12-04 18:51:26,774 [Thread-187 (] [INFO ]  Finished loading transforms [ Compose(\n",
      "    Resize(size=288, interpolation=bicubic, max_size=None, antialias=warn)\n",
      "    CenterCrop(size=(288, 288))\n",
      "    Normalize(mean=(0.48145466, 0.4578275, 0.40821073), std=(0.26862954, 0.26130258, 0.27577711))\n",
      ") ]\n",
      "2023-12-04 18:51:26,775 [Thread-187 (] [INFO ]  Registering hooks.\n",
      "2023-12-04 18:51:26,779 [Thread-187 (] [INFO ]  Finished registering hooks.\n",
      "2023-12-04 18:51:26,784 [Thread-187 (] [INFO ]  Retrieving weights of linear probe [ path = /apps/11785-f23-prj/faceted_visualization/probes/logs/flower/RN50x4/layer3_9_conv3/version_4_20/model_checkpoint.pth ]\n",
      "2023-12-04 18:51:26,788 [Thread-187 (] [INFO ]  Final list of transforms = [Resize(size=288, interpolation=bicubic, max_size=None, antialias=warn), CenterCrop(size=(288, 288)), Normalize(mean=(0.48145466, 0.4578275, 0.40821073), std=(0.26862954, 0.26130258, 0.27577711)), RandomAffine(degrees=[0.0, 0.0], translate=(0.03, 0.03), interpolation=InterpolationMode.NEAREST, fill=0), RandomAffine(degrees=[0.0, 0.0], scale=(0.9, 1.1), interpolation=InterpolationMode.NEAREST, fill=0), RandomRotation(degrees=[-10.0, 10.0], interpolation=InterpolationMode.NEAREST, expand=False, fill=0), RandomAffine(degrees=[0.0, 0.0], translate=(0.015, 0.015), interpolation=InterpolationMode.NEAREST, fill=0)]\n",
      "2023-12-04 18:51:26,789 [Thread-187 (] [INFO ]  Starting optimization process [ run_id = ut43ufhl ]...\n",
      "/opt/conda/lib/python3.10/site-packages/torchvision/transforms/functional.py:1603: UserWarning: The default value of the antialias parameter of all the resizing transforms (Resize(), RandomResizedCrop(), etc.) will change from None to True in v0.17, in order to be consistent across the PIL and Tensor backends. To suppress this warning, directly pass antialias=True (recommended, future default), antialias=None (current default, which means False for Tensors and True for PIL), or antialias=False (only works on Tensors - PIL will still use antialiasing). This also applies if you are using the inference transforms from the models weights: update the call to weights.transforms(antialias=True).\n",
      "  warnings.warn(\n",
      "2023-12-04 18:51:26,835 [Thread-187 (] [INFO ]  Epoch: 1/512: Loss = 0.1061401 :: Learning Rate = 0.0500000\n",
      "2023-12-04 18:51:30,986 [Thread-187 (] [INFO ]  Epoch: 101/512: Loss = -0.3542480 :: Learning Rate = 0.0500000\n",
      "2023-12-04 18:51:35,125 [Thread-187 (] [INFO ]  Epoch: 201/512: Loss = -0.6894531 :: Learning Rate = 0.0500000\n",
      "2023-12-04 18:51:39,230 [Thread-187 (] [INFO ]  Epoch: 301/512: Loss = -0.7832031 :: Learning Rate = 0.0500000\n",
      "2023-12-04 18:51:43,343 [Thread-187 (] [INFO ]  Epoch: 401/512: Loss = -0.9853516 :: Learning Rate = 0.0500000\n",
      "2023-12-04 18:51:47,460 [Thread-187 (] [INFO ]  Epoch: 501/512: Loss = -0.8750000 :: Learning Rate = 0.0500000\n",
      "2023-12-04 18:51:47,934 [Thread-187 (] [INFO ]  Epoch: 512/512: Loss = -0.9921875 :: Learning Rate = 0.0500000\n",
      "2023-12-04 18:51:47,959 [Thread-187 (] [INFO ]  Completed run [ ut43ufhl ]\n"
     ]
    },
    {
     "data": {
      "application/vnd.jupyter.widget-view+json": {
       "model_id": "",
       "version_major": 2,
       "version_minor": 0
      },
      "text/plain": [
       "VBox(children=(Label(value='1.217 MB of 1.217 MB uploaded\\r'), FloatProgress(value=1.0, max=1.0)))"
      ]
     },
     "metadata": {},
     "output_type": "display_data"
    },
    {
     "data": {
      "text/html": [
       "<style>\n",
       "    table.wandb td:nth-child(1) { padding: 0 10px; text-align: left ; width: auto;} td:nth-child(2) {text-align: left ; width: 100%}\n",
       "    .wandb-row { display: flex; flex-direction: row; flex-wrap: wrap; justify-content: flex-start; width: 100% }\n",
       "    .wandb-col { display: flex; flex-direction: column; flex-basis: 100%; flex: 1; padding: 10px; }\n",
       "    </style>\n",
       "<div class=\"wandb-row\"><div class=\"wandb-col\"><h3>Run history:</h3><br/><table class=\"wandb\"><tr><td>loss</td><td>█▅▃▂▁▂▁</td></tr></table><br/></div><div class=\"wandb-col\"><h3>Run summary:</h3><br/><table class=\"wandb\"><tr><td>loss</td><td>-0.99219</td></tr></table><br/></div></div>"
      ],
      "text/plain": [
       "<IPython.core.display.HTML object>"
      ]
     },
     "metadata": {},
     "output_type": "display_data"
    },
    {
     "data": {
      "text/html": [
       " View run <strong style=\"color:#cdcd00\">curious-sweep-61</strong> at: <a href='https://wandb.ai/rohanprasad/idl-project-flowers-facet/runs/ut43ufhl' target=\"_blank\">https://wandb.ai/rohanprasad/idl-project-flowers-facet/runs/ut43ufhl</a><br/>Synced 6 W&B file(s), 7 media file(s), 0 artifact file(s) and 0 other file(s)"
      ],
      "text/plain": [
       "<IPython.core.display.HTML object>"
      ]
     },
     "metadata": {},
     "output_type": "display_data"
    },
    {
     "data": {
      "text/html": [
       "Find logs at: <code>./wandb/run-20231204_185112-ut43ufhl/logs</code>"
      ],
      "text/plain": [
       "<IPython.core.display.HTML object>"
      ]
     },
     "metadata": {},
     "output_type": "display_data"
    },
    {
     "name": "stderr",
     "output_type": "stream",
     "text": [
      "\u001b[34m\u001b[1mwandb\u001b[0m: Agent Starting Run: kf2u7a6n with config:\n",
      "\u001b[34m\u001b[1mwandb\u001b[0m: \tchannel: 2048\n",
      "\u001b[34m\u001b[1mwandb\u001b[0m: \tlearning_rate: 0.05\n",
      "\u001b[34m\u001b[1mwandb\u001b[0m: \tlinear_probe_layer: layer3_9_conv3\n",
      "\u001b[34m\u001b[1mwandb\u001b[0m: \tmodel: RN50x4\n",
      "\u001b[34m\u001b[1mwandb\u001b[0m: \tnum_iterations: 512\n",
      "\u001b[34m\u001b[1mwandb\u001b[0m: \tobjective: channel\n",
      "\u001b[34m\u001b[1mwandb\u001b[0m: \toptimizer: AdamW\n",
      "\u001b[34m\u001b[1mwandb\u001b[0m: \trandom_seed: 18630595\n",
      "\u001b[34m\u001b[1mwandb\u001b[0m: \tuse_std_transforms: True\n",
      "\u001b[34m\u001b[1mwandb\u001b[0m: \tuse_transforms: True\n",
      "\u001b[34m\u001b[1mwandb\u001b[0m: \tvisualization_layer: layer4_5_conv3\n"
     ]
    },
    {
     "data": {
      "text/html": [
       "Tracking run with wandb version 0.16.0"
      ],
      "text/plain": [
       "<IPython.core.display.HTML object>"
      ]
     },
     "metadata": {},
     "output_type": "display_data"
    },
    {
     "data": {
      "text/html": [
       "Run data is saved locally in <code>/apps/11785-f23-prj/wandb/run-20231204_185157-kf2u7a6n</code>"
      ],
      "text/plain": [
       "<IPython.core.display.HTML object>"
      ]
     },
     "metadata": {},
     "output_type": "display_data"
    },
    {
     "data": {
      "text/html": [
       "Syncing run <strong><a href='https://wandb.ai/rohanprasad/idl-project-flowers-facet/runs/kf2u7a6n' target=\"_blank\">sandy-sweep-62</a></strong> to <a href='https://wandb.ai/rohanprasad/idl-project-flowers-facet' target=\"_blank\">Weights & Biases</a> (<a href='https://wandb.me/run' target=\"_blank\">docs</a>)<br/>Sweep page: <a href='https://wandb.ai/rohanprasad/idl-project-flowers-facet/sweeps/cuq4fdws' target=\"_blank\">https://wandb.ai/rohanprasad/idl-project-flowers-facet/sweeps/cuq4fdws</a>"
      ],
      "text/plain": [
       "<IPython.core.display.HTML object>"
      ]
     },
     "metadata": {},
     "output_type": "display_data"
    },
    {
     "data": {
      "text/html": [
       " View project at <a href='https://wandb.ai/rohanprasad/idl-project-flowers-facet' target=\"_blank\">https://wandb.ai/rohanprasad/idl-project-flowers-facet</a>"
      ],
      "text/plain": [
       "<IPython.core.display.HTML object>"
      ]
     },
     "metadata": {},
     "output_type": "display_data"
    },
    {
     "data": {
      "text/html": [
       " View sweep at <a href='https://wandb.ai/rohanprasad/idl-project-flowers-facet/sweeps/cuq4fdws' target=\"_blank\">https://wandb.ai/rohanprasad/idl-project-flowers-facet/sweeps/cuq4fdws</a>"
      ],
      "text/plain": [
       "<IPython.core.display.HTML object>"
      ]
     },
     "metadata": {},
     "output_type": "display_data"
    },
    {
     "data": {
      "text/html": [
       " View run at <a href='https://wandb.ai/rohanprasad/idl-project-flowers-facet/runs/kf2u7a6n' target=\"_blank\">https://wandb.ai/rohanprasad/idl-project-flowers-facet/runs/kf2u7a6n</a>"
      ],
      "text/plain": [
       "<IPython.core.display.HTML object>"
      ]
     },
     "metadata": {},
     "output_type": "display_data"
    },
    {
     "name": "stderr",
     "output_type": "stream",
     "text": [
      "2023-12-04 18:52:07,371 [Thread-190 (] [INFO ]  Starting sweep [ run  kf2u7a6n ] with config = \n",
      "{'channel': 2048, 'learning_rate': 0.05, 'linear_probe_layer': 'layer3_9_conv3', 'model': 'RN50x4', 'num_iterations': 512, 'objective': 'channel', 'optimizer': 'AdamW', 'random_seed': 18630595, 'use_std_transforms': True, 'use_transforms': True, 'visualization_layer': 'layer4_5_conv3'}\n",
      "2023-12-04 18:52:07,373 [Thread-190 (] [INFO ]  Setting random seed to 18630595\n",
      "2023-12-04 18:52:07,374 [Thread-190 (] [INFO ]  Loading CLIP model [ RN50x4 ].\n",
      "2023-12-04 18:52:11,867 [Thread-190 (] [INFO ]  Finished loading model [ RN50x4 ]\n",
      "2023-12-04 18:52:11,869 [Thread-190 (] [INFO ]  Finished loading transforms [ Compose(\n",
      "    Resize(size=288, interpolation=bicubic, max_size=None, antialias=warn)\n",
      "    CenterCrop(size=(288, 288))\n",
      "    Normalize(mean=(0.48145466, 0.4578275, 0.40821073), std=(0.26862954, 0.26130258, 0.27577711))\n",
      ") ]\n",
      "2023-12-04 18:52:11,870 [Thread-190 (] [INFO ]  Registering hooks.\n",
      "2023-12-04 18:52:11,873 [Thread-190 (] [INFO ]  Finished registering hooks.\n",
      "2023-12-04 18:52:11,877 [Thread-190 (] [INFO ]  Retrieving weights of linear probe [ path = /apps/11785-f23-prj/faceted_visualization/probes/logs/flower/RN50x4/layer3_9_conv3/version_4_20/model_checkpoint.pth ]\n",
      "2023-12-04 18:52:11,880 [Thread-190 (] [INFO ]  Final list of transforms = [Resize(size=288, interpolation=bicubic, max_size=None, antialias=warn), CenterCrop(size=(288, 288)), Normalize(mean=(0.48145466, 0.4578275, 0.40821073), std=(0.26862954, 0.26130258, 0.27577711)), RandomAffine(degrees=[0.0, 0.0], translate=(0.03, 0.03), interpolation=InterpolationMode.NEAREST, fill=0), RandomAffine(degrees=[0.0, 0.0], scale=(0.9, 1.1), interpolation=InterpolationMode.NEAREST, fill=0), RandomRotation(degrees=[-10.0, 10.0], interpolation=InterpolationMode.NEAREST, expand=False, fill=0), RandomAffine(degrees=[0.0, 0.0], translate=(0.015, 0.015), interpolation=InterpolationMode.NEAREST, fill=0)]\n",
      "2023-12-04 18:52:11,881 [Thread-190 (] [INFO ]  Starting optimization process [ run_id = kf2u7a6n ]...\n",
      "/opt/conda/lib/python3.10/site-packages/torchvision/transforms/functional.py:1603: UserWarning: The default value of the antialias parameter of all the resizing transforms (Resize(), RandomResizedCrop(), etc.) will change from None to True in v0.17, in order to be consistent across the PIL and Tensor backends. To suppress this warning, directly pass antialias=True (recommended, future default), antialias=None (current default, which means False for Tensors and True for PIL), or antialias=False (only works on Tensors - PIL will still use antialiasing). This also applies if you are using the inference transforms from the models weights: update the call to weights.transforms(antialias=True).\n",
      "  warnings.warn(\n",
      "2023-12-04 18:52:11,926 [Thread-190 (] [INFO ]  Epoch: 1/512: Loss = 0.0950928 :: Learning Rate = 0.0500000\n",
      "2023-12-04 18:52:16,112 [Thread-190 (] [INFO ]  Epoch: 101/512: Loss = -0.0874634 :: Learning Rate = 0.0500000\n",
      "2023-12-04 18:52:20,230 [Thread-190 (] [INFO ]  Epoch: 201/512: Loss = -0.1788330 :: Learning Rate = 0.0500000\n",
      "2023-12-04 18:52:24,383 [Thread-190 (] [INFO ]  Epoch: 301/512: Loss = -0.3200684 :: Learning Rate = 0.0500000\n",
      "2023-12-04 18:52:28,523 [Thread-190 (] [INFO ]  Epoch: 401/512: Loss = -0.6826172 :: Learning Rate = 0.0500000\n",
      "2023-12-04 18:52:32,660 [Thread-190 (] [INFO ]  Epoch: 501/512: Loss = -0.6040039 :: Learning Rate = 0.0500000\n",
      "2023-12-04 18:52:33,135 [Thread-190 (] [INFO ]  Epoch: 512/512: Loss = -0.7260742 :: Learning Rate = 0.0500000\n",
      "2023-12-04 18:52:33,159 [Thread-190 (] [INFO ]  Completed run [ kf2u7a6n ]\n"
     ]
    },
    {
     "data": {
      "application/vnd.jupyter.widget-view+json": {
       "model_id": "",
       "version_major": 2,
       "version_minor": 0
      },
      "text/plain": [
       "VBox(children=(Label(value='1.243 MB of 1.243 MB uploaded\\r'), FloatProgress(value=1.0, max=1.0)))"
      ]
     },
     "metadata": {},
     "output_type": "display_data"
    },
    {
     "data": {
      "text/html": [
       "<style>\n",
       "    table.wandb td:nth-child(1) { padding: 0 10px; text-align: left ; width: auto;} td:nth-child(2) {text-align: left ; width: 100%}\n",
       "    .wandb-row { display: flex; flex-direction: row; flex-wrap: wrap; justify-content: flex-start; width: 100% }\n",
       "    .wandb-col { display: flex; flex-direction: column; flex-basis: 100%; flex: 1; padding: 10px; }\n",
       "    </style>\n",
       "<div class=\"wandb-row\"><div class=\"wandb-col\"><h3>Run history:</h3><br/><table class=\"wandb\"><tr><td>loss</td><td>█▆▆▄▁▂▁</td></tr></table><br/></div><div class=\"wandb-col\"><h3>Run summary:</h3><br/><table class=\"wandb\"><tr><td>loss</td><td>-0.72607</td></tr></table><br/></div></div>"
      ],
      "text/plain": [
       "<IPython.core.display.HTML object>"
      ]
     },
     "metadata": {},
     "output_type": "display_data"
    },
    {
     "data": {
      "text/html": [
       " View run <strong style=\"color:#cdcd00\">sandy-sweep-62</strong> at: <a href='https://wandb.ai/rohanprasad/idl-project-flowers-facet/runs/kf2u7a6n' target=\"_blank\">https://wandb.ai/rohanprasad/idl-project-flowers-facet/runs/kf2u7a6n</a><br/>Synced 6 W&B file(s), 7 media file(s), 0 artifact file(s) and 0 other file(s)"
      ],
      "text/plain": [
       "<IPython.core.display.HTML object>"
      ]
     },
     "metadata": {},
     "output_type": "display_data"
    },
    {
     "data": {
      "text/html": [
       "Find logs at: <code>./wandb/run-20231204_185157-kf2u7a6n/logs</code>"
      ],
      "text/plain": [
       "<IPython.core.display.HTML object>"
      ]
     },
     "metadata": {},
     "output_type": "display_data"
    },
    {
     "name": "stderr",
     "output_type": "stream",
     "text": [
      "\u001b[34m\u001b[1mwandb\u001b[0m: Agent Starting Run: w0kgyeke with config:\n",
      "\u001b[34m\u001b[1mwandb\u001b[0m: \tchannel: 2048\n",
      "\u001b[34m\u001b[1mwandb\u001b[0m: \tlearning_rate: 0.05\n",
      "\u001b[34m\u001b[1mwandb\u001b[0m: \tlinear_probe_layer: layer3_9_relu3\n",
      "\u001b[34m\u001b[1mwandb\u001b[0m: \tmodel: RN50x4\n",
      "\u001b[34m\u001b[1mwandb\u001b[0m: \tnum_iterations: 512\n",
      "\u001b[34m\u001b[1mwandb\u001b[0m: \tobjective: neuron\n",
      "\u001b[34m\u001b[1mwandb\u001b[0m: \toptimizer: AdamW\n",
      "\u001b[34m\u001b[1mwandb\u001b[0m: \trandom_seed: 18630595\n",
      "\u001b[34m\u001b[1mwandb\u001b[0m: \tuse_std_transforms: True\n",
      "\u001b[34m\u001b[1mwandb\u001b[0m: \tuse_transforms: True\n",
      "\u001b[34m\u001b[1mwandb\u001b[0m: \tvisualization_layer: layer4_5_conv3\n"
     ]
    },
    {
     "data": {
      "text/html": [
       "Tracking run with wandb version 0.16.0"
      ],
      "text/plain": [
       "<IPython.core.display.HTML object>"
      ]
     },
     "metadata": {},
     "output_type": "display_data"
    },
    {
     "data": {
      "text/html": [
       "Run data is saved locally in <code>/apps/11785-f23-prj/wandb/run-20231204_185243-w0kgyeke</code>"
      ],
      "text/plain": [
       "<IPython.core.display.HTML object>"
      ]
     },
     "metadata": {},
     "output_type": "display_data"
    },
    {
     "data": {
      "text/html": [
       "Syncing run <strong><a href='https://wandb.ai/rohanprasad/idl-project-flowers-facet/runs/w0kgyeke' target=\"_blank\">earthy-sweep-63</a></strong> to <a href='https://wandb.ai/rohanprasad/idl-project-flowers-facet' target=\"_blank\">Weights & Biases</a> (<a href='https://wandb.me/run' target=\"_blank\">docs</a>)<br/>Sweep page: <a href='https://wandb.ai/rohanprasad/idl-project-flowers-facet/sweeps/cuq4fdws' target=\"_blank\">https://wandb.ai/rohanprasad/idl-project-flowers-facet/sweeps/cuq4fdws</a>"
      ],
      "text/plain": [
       "<IPython.core.display.HTML object>"
      ]
     },
     "metadata": {},
     "output_type": "display_data"
    },
    {
     "data": {
      "text/html": [
       " View project at <a href='https://wandb.ai/rohanprasad/idl-project-flowers-facet' target=\"_blank\">https://wandb.ai/rohanprasad/idl-project-flowers-facet</a>"
      ],
      "text/plain": [
       "<IPython.core.display.HTML object>"
      ]
     },
     "metadata": {},
     "output_type": "display_data"
    },
    {
     "data": {
      "text/html": [
       " View sweep at <a href='https://wandb.ai/rohanprasad/idl-project-flowers-facet/sweeps/cuq4fdws' target=\"_blank\">https://wandb.ai/rohanprasad/idl-project-flowers-facet/sweeps/cuq4fdws</a>"
      ],
      "text/plain": [
       "<IPython.core.display.HTML object>"
      ]
     },
     "metadata": {},
     "output_type": "display_data"
    },
    {
     "data": {
      "text/html": [
       " View run at <a href='https://wandb.ai/rohanprasad/idl-project-flowers-facet/runs/w0kgyeke' target=\"_blank\">https://wandb.ai/rohanprasad/idl-project-flowers-facet/runs/w0kgyeke</a>"
      ],
      "text/plain": [
       "<IPython.core.display.HTML object>"
      ]
     },
     "metadata": {},
     "output_type": "display_data"
    },
    {
     "name": "stderr",
     "output_type": "stream",
     "text": [
      "2023-12-04 18:52:53,644 [Thread-193 (] [INFO ]  Starting sweep [ run  w0kgyeke ] with config = \n",
      "{'channel': 2048, 'learning_rate': 0.05, 'linear_probe_layer': 'layer3_9_relu3', 'model': 'RN50x4', 'num_iterations': 512, 'objective': 'neuron', 'optimizer': 'AdamW', 'random_seed': 18630595, 'use_std_transforms': True, 'use_transforms': True, 'visualization_layer': 'layer4_5_conv3'}\n",
      "2023-12-04 18:52:53,645 [Thread-193 (] [INFO ]  Setting random seed to 18630595\n",
      "2023-12-04 18:52:53,647 [Thread-193 (] [INFO ]  Loading CLIP model [ RN50x4 ].\n",
      "2023-12-04 18:52:58,109 [Thread-193 (] [INFO ]  Finished loading model [ RN50x4 ]\n",
      "2023-12-04 18:52:58,111 [Thread-193 (] [INFO ]  Finished loading transforms [ Compose(\n",
      "    Resize(size=288, interpolation=bicubic, max_size=None, antialias=warn)\n",
      "    CenterCrop(size=(288, 288))\n",
      "    Normalize(mean=(0.48145466, 0.4578275, 0.40821073), std=(0.26862954, 0.26130258, 0.27577711))\n",
      ") ]\n",
      "2023-12-04 18:52:58,112 [Thread-193 (] [INFO ]  Registering hooks.\n",
      "2023-12-04 18:52:58,115 [Thread-193 (] [INFO ]  Finished registering hooks.\n",
      "2023-12-04 18:52:58,120 [Thread-193 (] [INFO ]  Retrieving weights of linear probe [ path = /apps/11785-f23-prj/faceted_visualization/probes/logs/flower/RN50x4/layer3_9_relu3/version_4_20/model_checkpoint.pth ]\n",
      "2023-12-04 18:52:58,123 [Thread-193 (] [INFO ]  Final list of transforms = [Resize(size=288, interpolation=bicubic, max_size=None, antialias=warn), CenterCrop(size=(288, 288)), Normalize(mean=(0.48145466, 0.4578275, 0.40821073), std=(0.26862954, 0.26130258, 0.27577711)), RandomAffine(degrees=[0.0, 0.0], translate=(0.03, 0.03), interpolation=InterpolationMode.NEAREST, fill=0), RandomAffine(degrees=[0.0, 0.0], scale=(0.9, 1.1), interpolation=InterpolationMode.NEAREST, fill=0), RandomRotation(degrees=[-10.0, 10.0], interpolation=InterpolationMode.NEAREST, expand=False, fill=0), RandomAffine(degrees=[0.0, 0.0], translate=(0.015, 0.015), interpolation=InterpolationMode.NEAREST, fill=0)]\n",
      "2023-12-04 18:52:58,124 [Thread-193 (] [INFO ]  Starting optimization process [ run_id = w0kgyeke ]...\n",
      "/opt/conda/lib/python3.10/site-packages/torchvision/transforms/functional.py:1603: UserWarning: The default value of the antialias parameter of all the resizing transforms (Resize(), RandomResizedCrop(), etc.) will change from None to True in v0.17, in order to be consistent across the PIL and Tensor backends. To suppress this warning, directly pass antialias=True (recommended, future default), antialias=None (current default, which means False for Tensors and True for PIL), or antialias=False (only works on Tensors - PIL will still use antialiasing). This also applies if you are using the inference transforms from the models weights: update the call to weights.transforms(antialias=True).\n",
      "  warnings.warn(\n",
      "2023-12-04 18:52:58,170 [Thread-193 (] [INFO ]  Epoch: 1/512: Loss = -0.2375488 :: Learning Rate = 0.0500000\n",
      "2023-12-04 18:53:02,315 [Thread-193 (] [INFO ]  Epoch: 101/512: Loss = -0.9624023 :: Learning Rate = 0.0500000\n",
      "2023-12-04 18:53:06,422 [Thread-193 (] [INFO ]  Epoch: 201/512: Loss = -2.3730469 :: Learning Rate = 0.0500000\n",
      "2023-12-04 18:53:10,526 [Thread-193 (] [INFO ]  Epoch: 301/512: Loss = -0.6899414 :: Learning Rate = 0.0500000\n",
      "2023-12-04 18:53:14,600 [Thread-193 (] [INFO ]  Epoch: 401/512: Loss = -2.8281250 :: Learning Rate = 0.0500000\n",
      "2023-12-04 18:53:18,693 [Thread-193 (] [INFO ]  Epoch: 501/512: Loss = -1.6210938 :: Learning Rate = 0.0500000\n",
      "2023-12-04 18:53:19,163 [Thread-193 (] [INFO ]  Epoch: 512/512: Loss = -3.8710938 :: Learning Rate = 0.0500000\n",
      "2023-12-04 18:53:19,187 [Thread-193 (] [INFO ]  Completed run [ w0kgyeke ]\n"
     ]
    },
    {
     "data": {
      "application/vnd.jupyter.widget-view+json": {
       "model_id": "",
       "version_major": 2,
       "version_minor": 0
      },
      "text/plain": [
       "VBox(children=(Label(value='1.249 MB of 1.270 MB uploaded\\r'), FloatProgress(value=0.9829321354198728, max=1.0…"
      ]
     },
     "metadata": {},
     "output_type": "display_data"
    },
    {
     "data": {
      "text/html": [
       "<style>\n",
       "    table.wandb td:nth-child(1) { padding: 0 10px; text-align: left ; width: auto;} td:nth-child(2) {text-align: left ; width: 100%}\n",
       "    .wandb-row { display: flex; flex-direction: row; flex-wrap: wrap; justify-content: flex-start; width: 100% }\n",
       "    .wandb-col { display: flex; flex-direction: column; flex-basis: 100%; flex: 1; padding: 10px; }\n",
       "    </style>\n",
       "<div class=\"wandb-row\"><div class=\"wandb-col\"><h3>Run history:</h3><br/><table class=\"wandb\"><tr><td>loss</td><td>█▇▄▇▃▅▁</td></tr></table><br/></div><div class=\"wandb-col\"><h3>Run summary:</h3><br/><table class=\"wandb\"><tr><td>loss</td><td>-3.87109</td></tr></table><br/></div></div>"
      ],
      "text/plain": [
       "<IPython.core.display.HTML object>"
      ]
     },
     "metadata": {},
     "output_type": "display_data"
    },
    {
     "data": {
      "text/html": [
       " View run <strong style=\"color:#cdcd00\">earthy-sweep-63</strong> at: <a href='https://wandb.ai/rohanprasad/idl-project-flowers-facet/runs/w0kgyeke' target=\"_blank\">https://wandb.ai/rohanprasad/idl-project-flowers-facet/runs/w0kgyeke</a><br/>Synced 6 W&B file(s), 7 media file(s), 0 artifact file(s) and 0 other file(s)"
      ],
      "text/plain": [
       "<IPython.core.display.HTML object>"
      ]
     },
     "metadata": {},
     "output_type": "display_data"
    },
    {
     "data": {
      "text/html": [
       "Find logs at: <code>./wandb/run-20231204_185243-w0kgyeke/logs</code>"
      ],
      "text/plain": [
       "<IPython.core.display.HTML object>"
      ]
     },
     "metadata": {},
     "output_type": "display_data"
    },
    {
     "name": "stderr",
     "output_type": "stream",
     "text": [
      "\u001b[34m\u001b[1mwandb\u001b[0m: Agent Starting Run: xd2nerwr with config:\n",
      "\u001b[34m\u001b[1mwandb\u001b[0m: \tchannel: 2048\n",
      "\u001b[34m\u001b[1mwandb\u001b[0m: \tlearning_rate: 0.05\n",
      "\u001b[34m\u001b[1mwandb\u001b[0m: \tlinear_probe_layer: layer3_9_relu3\n",
      "\u001b[34m\u001b[1mwandb\u001b[0m: \tmodel: RN50x4\n",
      "\u001b[34m\u001b[1mwandb\u001b[0m: \tnum_iterations: 512\n",
      "\u001b[34m\u001b[1mwandb\u001b[0m: \tobjective: channel\n",
      "\u001b[34m\u001b[1mwandb\u001b[0m: \toptimizer: AdamW\n",
      "\u001b[34m\u001b[1mwandb\u001b[0m: \trandom_seed: 18630595\n",
      "\u001b[34m\u001b[1mwandb\u001b[0m: \tuse_std_transforms: True\n",
      "\u001b[34m\u001b[1mwandb\u001b[0m: \tuse_transforms: True\n",
      "\u001b[34m\u001b[1mwandb\u001b[0m: \tvisualization_layer: layer4_5_conv3\n"
     ]
    },
    {
     "data": {
      "text/html": [
       "Tracking run with wandb version 0.16.0"
      ],
      "text/plain": [
       "<IPython.core.display.HTML object>"
      ]
     },
     "metadata": {},
     "output_type": "display_data"
    },
    {
     "data": {
      "text/html": [
       "Run data is saved locally in <code>/apps/11785-f23-prj/wandb/run-20231204_185328-xd2nerwr</code>"
      ],
      "text/plain": [
       "<IPython.core.display.HTML object>"
      ]
     },
     "metadata": {},
     "output_type": "display_data"
    },
    {
     "data": {
      "text/html": [
       "Syncing run <strong><a href='https://wandb.ai/rohanprasad/idl-project-flowers-facet/runs/xd2nerwr' target=\"_blank\">radiant-sweep-64</a></strong> to <a href='https://wandb.ai/rohanprasad/idl-project-flowers-facet' target=\"_blank\">Weights & Biases</a> (<a href='https://wandb.me/run' target=\"_blank\">docs</a>)<br/>Sweep page: <a href='https://wandb.ai/rohanprasad/idl-project-flowers-facet/sweeps/cuq4fdws' target=\"_blank\">https://wandb.ai/rohanprasad/idl-project-flowers-facet/sweeps/cuq4fdws</a>"
      ],
      "text/plain": [
       "<IPython.core.display.HTML object>"
      ]
     },
     "metadata": {},
     "output_type": "display_data"
    },
    {
     "data": {
      "text/html": [
       " View project at <a href='https://wandb.ai/rohanprasad/idl-project-flowers-facet' target=\"_blank\">https://wandb.ai/rohanprasad/idl-project-flowers-facet</a>"
      ],
      "text/plain": [
       "<IPython.core.display.HTML object>"
      ]
     },
     "metadata": {},
     "output_type": "display_data"
    },
    {
     "data": {
      "text/html": [
       " View sweep at <a href='https://wandb.ai/rohanprasad/idl-project-flowers-facet/sweeps/cuq4fdws' target=\"_blank\">https://wandb.ai/rohanprasad/idl-project-flowers-facet/sweeps/cuq4fdws</a>"
      ],
      "text/plain": [
       "<IPython.core.display.HTML object>"
      ]
     },
     "metadata": {},
     "output_type": "display_data"
    },
    {
     "data": {
      "text/html": [
       " View run at <a href='https://wandb.ai/rohanprasad/idl-project-flowers-facet/runs/xd2nerwr' target=\"_blank\">https://wandb.ai/rohanprasad/idl-project-flowers-facet/runs/xd2nerwr</a>"
      ],
      "text/plain": [
       "<IPython.core.display.HTML object>"
      ]
     },
     "metadata": {},
     "output_type": "display_data"
    },
    {
     "name": "stderr",
     "output_type": "stream",
     "text": [
      "2023-12-04 18:53:38,745 [Thread-196 (] [INFO ]  Starting sweep [ run  xd2nerwr ] with config = \n",
      "{'channel': 2048, 'learning_rate': 0.05, 'linear_probe_layer': 'layer3_9_relu3', 'model': 'RN50x4', 'num_iterations': 512, 'objective': 'channel', 'optimizer': 'AdamW', 'random_seed': 18630595, 'use_std_transforms': True, 'use_transforms': True, 'visualization_layer': 'layer4_5_conv3'}\n",
      "2023-12-04 18:53:38,746 [Thread-196 (] [INFO ]  Setting random seed to 18630595\n",
      "2023-12-04 18:53:38,747 [Thread-196 (] [INFO ]  Loading CLIP model [ RN50x4 ].\n",
      "2023-12-04 18:53:43,232 [Thread-196 (] [INFO ]  Finished loading model [ RN50x4 ]\n",
      "2023-12-04 18:53:43,234 [Thread-196 (] [INFO ]  Finished loading transforms [ Compose(\n",
      "    Resize(size=288, interpolation=bicubic, max_size=None, antialias=warn)\n",
      "    CenterCrop(size=(288, 288))\n",
      "    Normalize(mean=(0.48145466, 0.4578275, 0.40821073), std=(0.26862954, 0.26130258, 0.27577711))\n",
      ") ]\n",
      "2023-12-04 18:53:43,235 [Thread-196 (] [INFO ]  Registering hooks.\n",
      "2023-12-04 18:53:43,239 [Thread-196 (] [INFO ]  Finished registering hooks.\n",
      "2023-12-04 18:53:43,243 [Thread-196 (] [INFO ]  Retrieving weights of linear probe [ path = /apps/11785-f23-prj/faceted_visualization/probes/logs/flower/RN50x4/layer3_9_relu3/version_4_20/model_checkpoint.pth ]\n",
      "2023-12-04 18:53:43,246 [Thread-196 (] [INFO ]  Final list of transforms = [Resize(size=288, interpolation=bicubic, max_size=None, antialias=warn), CenterCrop(size=(288, 288)), Normalize(mean=(0.48145466, 0.4578275, 0.40821073), std=(0.26862954, 0.26130258, 0.27577711)), RandomAffine(degrees=[0.0, 0.0], translate=(0.03, 0.03), interpolation=InterpolationMode.NEAREST, fill=0), RandomAffine(degrees=[0.0, 0.0], scale=(0.9, 1.1), interpolation=InterpolationMode.NEAREST, fill=0), RandomRotation(degrees=[-10.0, 10.0], interpolation=InterpolationMode.NEAREST, expand=False, fill=0), RandomAffine(degrees=[0.0, 0.0], translate=(0.015, 0.015), interpolation=InterpolationMode.NEAREST, fill=0)]\n",
      "2023-12-04 18:53:43,247 [Thread-196 (] [INFO ]  Starting optimization process [ run_id = xd2nerwr ]...\n",
      "/opt/conda/lib/python3.10/site-packages/torchvision/transforms/functional.py:1603: UserWarning: The default value of the antialias parameter of all the resizing transforms (Resize(), RandomResizedCrop(), etc.) will change from None to True in v0.17, in order to be consistent across the PIL and Tensor backends. To suppress this warning, directly pass antialias=True (recommended, future default), antialias=None (current default, which means False for Tensors and True for PIL), or antialias=False (only works on Tensors - PIL will still use antialiasing). This also applies if you are using the inference transforms from the models weights: update the call to weights.transforms(antialias=True).\n",
      "  warnings.warn(\n",
      "2023-12-04 18:53:43,292 [Thread-196 (] [INFO ]  Epoch: 1/512: Loss = -0.2485352 :: Learning Rate = 0.0500000\n",
      "2023-12-04 18:53:47,470 [Thread-196 (] [INFO ]  Epoch: 101/512: Loss = -0.7187500 :: Learning Rate = 0.0500000\n",
      "2023-12-04 18:53:51,621 [Thread-196 (] [INFO ]  Epoch: 201/512: Loss = -1.6259766 :: Learning Rate = 0.0500000\n",
      "2023-12-04 18:53:55,743 [Thread-196 (] [INFO ]  Epoch: 301/512: Loss = -0.9150391 :: Learning Rate = 0.0500000\n",
      "2023-12-04 18:53:59,889 [Thread-196 (] [INFO ]  Epoch: 401/512: Loss = 0.3642578 :: Learning Rate = 0.0500000\n",
      "2023-12-04 18:54:04,085 [Thread-196 (] [INFO ]  Epoch: 501/512: Loss = -0.6367188 :: Learning Rate = 0.0500000\n",
      "2023-12-04 18:54:04,568 [Thread-196 (] [INFO ]  Epoch: 512/512: Loss = 0.2575684 :: Learning Rate = 0.0500000\n",
      "2023-12-04 18:54:04,593 [Thread-196 (] [INFO ]  Completed run [ xd2nerwr ]\n"
     ]
    },
    {
     "data": {
      "application/vnd.jupyter.widget-view+json": {
       "model_id": "",
       "version_major": 2,
       "version_minor": 0
      },
      "text/plain": [
       "VBox(children=(Label(value='1.272 MB of 1.272 MB uploaded\\r'), FloatProgress(value=1.0, max=1.0)))"
      ]
     },
     "metadata": {},
     "output_type": "display_data"
    },
    {
     "data": {
      "text/html": [
       "<style>\n",
       "    table.wandb td:nth-child(1) { padding: 0 10px; text-align: left ; width: auto;} td:nth-child(2) {text-align: left ; width: 100%}\n",
       "    .wandb-row { display: flex; flex-direction: row; flex-wrap: wrap; justify-content: flex-start; width: 100% }\n",
       "    .wandb-col { display: flex; flex-direction: column; flex-basis: 100%; flex: 1; padding: 10px; }\n",
       "    </style>\n",
       "<div class=\"wandb-row\"><div class=\"wandb-col\"><h3>Run history:</h3><br/><table class=\"wandb\"><tr><td>loss</td><td>▆▄▁▄█▄█</td></tr></table><br/></div><div class=\"wandb-col\"><h3>Run summary:</h3><br/><table class=\"wandb\"><tr><td>loss</td><td>0.25757</td></tr></table><br/></div></div>"
      ],
      "text/plain": [
       "<IPython.core.display.HTML object>"
      ]
     },
     "metadata": {},
     "output_type": "display_data"
    },
    {
     "data": {
      "text/html": [
       " View run <strong style=\"color:#cdcd00\">radiant-sweep-64</strong> at: <a href='https://wandb.ai/rohanprasad/idl-project-flowers-facet/runs/xd2nerwr' target=\"_blank\">https://wandb.ai/rohanprasad/idl-project-flowers-facet/runs/xd2nerwr</a><br/>Synced 6 W&B file(s), 7 media file(s), 0 artifact file(s) and 0 other file(s)"
      ],
      "text/plain": [
       "<IPython.core.display.HTML object>"
      ]
     },
     "metadata": {},
     "output_type": "display_data"
    },
    {
     "data": {
      "text/html": [
       "Find logs at: <code>./wandb/run-20231204_185328-xd2nerwr/logs</code>"
      ],
      "text/plain": [
       "<IPython.core.display.HTML object>"
      ]
     },
     "metadata": {},
     "output_type": "display_data"
    },
    {
     "name": "stderr",
     "output_type": "stream",
     "text": [
      "\u001b[34m\u001b[1mwandb\u001b[0m: Sweep Agent: Waiting for job.\n",
      "\u001b[34m\u001b[1mwandb\u001b[0m: Job received.\n",
      "\u001b[34m\u001b[1mwandb\u001b[0m: Agent Starting Run: 0p69z351 with config:\n",
      "\u001b[34m\u001b[1mwandb\u001b[0m: \tchannel: 2560\n",
      "\u001b[34m\u001b[1mwandb\u001b[0m: \tlearning_rate: 0.05\n",
      "\u001b[34m\u001b[1mwandb\u001b[0m: \tlinear_probe_layer: layer1_0_conv3\n",
      "\u001b[34m\u001b[1mwandb\u001b[0m: \tmodel: RN50x4\n",
      "\u001b[34m\u001b[1mwandb\u001b[0m: \tnum_iterations: 512\n",
      "\u001b[34m\u001b[1mwandb\u001b[0m: \tobjective: neuron\n",
      "\u001b[34m\u001b[1mwandb\u001b[0m: \toptimizer: AdamW\n",
      "\u001b[34m\u001b[1mwandb\u001b[0m: \trandom_seed: 18630595\n",
      "\u001b[34m\u001b[1mwandb\u001b[0m: \tuse_std_transforms: True\n",
      "\u001b[34m\u001b[1mwandb\u001b[0m: \tuse_transforms: True\n",
      "\u001b[34m\u001b[1mwandb\u001b[0m: \tvisualization_layer: layer4_5_conv3\n"
     ]
    },
    {
     "data": {
      "text/html": [
       "Tracking run with wandb version 0.16.0"
      ],
      "text/plain": [
       "<IPython.core.display.HTML object>"
      ]
     },
     "metadata": {},
     "output_type": "display_data"
    },
    {
     "data": {
      "text/html": [
       "Run data is saved locally in <code>/apps/11785-f23-prj/wandb/run-20231204_185420-0p69z351</code>"
      ],
      "text/plain": [
       "<IPython.core.display.HTML object>"
      ]
     },
     "metadata": {},
     "output_type": "display_data"
    },
    {
     "data": {
      "text/html": [
       "Syncing run <strong><a href='https://wandb.ai/rohanprasad/idl-project-flowers-facet/runs/0p69z351' target=\"_blank\">unique-sweep-65</a></strong> to <a href='https://wandb.ai/rohanprasad/idl-project-flowers-facet' target=\"_blank\">Weights & Biases</a> (<a href='https://wandb.me/run' target=\"_blank\">docs</a>)<br/>Sweep page: <a href='https://wandb.ai/rohanprasad/idl-project-flowers-facet/sweeps/cuq4fdws' target=\"_blank\">https://wandb.ai/rohanprasad/idl-project-flowers-facet/sweeps/cuq4fdws</a>"
      ],
      "text/plain": [
       "<IPython.core.display.HTML object>"
      ]
     },
     "metadata": {},
     "output_type": "display_data"
    },
    {
     "data": {
      "text/html": [
       " View project at <a href='https://wandb.ai/rohanprasad/idl-project-flowers-facet' target=\"_blank\">https://wandb.ai/rohanprasad/idl-project-flowers-facet</a>"
      ],
      "text/plain": [
       "<IPython.core.display.HTML object>"
      ]
     },
     "metadata": {},
     "output_type": "display_data"
    },
    {
     "data": {
      "text/html": [
       " View sweep at <a href='https://wandb.ai/rohanprasad/idl-project-flowers-facet/sweeps/cuq4fdws' target=\"_blank\">https://wandb.ai/rohanprasad/idl-project-flowers-facet/sweeps/cuq4fdws</a>"
      ],
      "text/plain": [
       "<IPython.core.display.HTML object>"
      ]
     },
     "metadata": {},
     "output_type": "display_data"
    },
    {
     "data": {
      "text/html": [
       " View run at <a href='https://wandb.ai/rohanprasad/idl-project-flowers-facet/runs/0p69z351' target=\"_blank\">https://wandb.ai/rohanprasad/idl-project-flowers-facet/runs/0p69z351</a>"
      ],
      "text/plain": [
       "<IPython.core.display.HTML object>"
      ]
     },
     "metadata": {},
     "output_type": "display_data"
    },
    {
     "name": "stderr",
     "output_type": "stream",
     "text": [
      "2023-12-04 18:54:30,810 [Thread-199 (] [INFO ]  Starting sweep [ run  0p69z351 ] with config = \n",
      "{'channel': 2560, 'learning_rate': 0.05, 'linear_probe_layer': 'layer1_0_conv3', 'model': 'RN50x4', 'num_iterations': 512, 'objective': 'neuron', 'optimizer': 'AdamW', 'random_seed': 18630595, 'use_std_transforms': True, 'use_transforms': True, 'visualization_layer': 'layer4_5_conv3'}\n",
      "2023-12-04 18:54:30,812 [Thread-199 (] [INFO ]  Setting random seed to 18630595\n",
      "2023-12-04 18:54:30,814 [Thread-199 (] [INFO ]  Loading CLIP model [ RN50x4 ].\n",
      "2023-12-04 18:54:35,271 [Thread-199 (] [INFO ]  Finished loading model [ RN50x4 ]\n",
      "2023-12-04 18:54:35,273 [Thread-199 (] [INFO ]  Finished loading transforms [ Compose(\n",
      "    Resize(size=288, interpolation=bicubic, max_size=None, antialias=warn)\n",
      "    CenterCrop(size=(288, 288))\n",
      "    Normalize(mean=(0.48145466, 0.4578275, 0.40821073), std=(0.26862954, 0.26130258, 0.27577711))\n",
      ") ]\n",
      "2023-12-04 18:54:35,274 [Thread-199 (] [INFO ]  Registering hooks.\n",
      "2023-12-04 18:54:35,277 [Thread-199 (] [INFO ]  Finished registering hooks.\n",
      "2023-12-04 18:54:35,281 [Thread-199 (] [INFO ]  Retrieving weights of linear probe [ path = /apps/11785-f23-prj/faceted_visualization/probes/logs/flower/RN50x4/layer1_0_conv3/version_4_20/model_checkpoint.pth ]\n",
      "2023-12-04 18:54:35,286 [Thread-199 (] [INFO ]  Final list of transforms = [Resize(size=288, interpolation=bicubic, max_size=None, antialias=warn), CenterCrop(size=(288, 288)), Normalize(mean=(0.48145466, 0.4578275, 0.40821073), std=(0.26862954, 0.26130258, 0.27577711)), RandomAffine(degrees=[0.0, 0.0], translate=(0.03, 0.03), interpolation=InterpolationMode.NEAREST, fill=0), RandomAffine(degrees=[0.0, 0.0], scale=(0.9, 1.1), interpolation=InterpolationMode.NEAREST, fill=0), RandomRotation(degrees=[-10.0, 10.0], interpolation=InterpolationMode.NEAREST, expand=False, fill=0), RandomAffine(degrees=[0.0, 0.0], translate=(0.015, 0.015), interpolation=InterpolationMode.NEAREST, fill=0)]\n",
      "2023-12-04 18:54:35,287 [Thread-199 (] [INFO ]  Starting optimization process [ run_id = 0p69z351 ]...\n",
      "/opt/conda/lib/python3.10/site-packages/torchvision/transforms/functional.py:1603: UserWarning: The default value of the antialias parameter of all the resizing transforms (Resize(), RandomResizedCrop(), etc.) will change from None to True in v0.17, in order to be consistent across the PIL and Tensor backends. To suppress this warning, directly pass antialias=True (recommended, future default), antialias=None (current default, which means False for Tensors and True for PIL), or antialias=False (only works on Tensors - PIL will still use antialiasing). This also applies if you are using the inference transforms from the models weights: update the call to weights.transforms(antialias=True).\n",
      "  warnings.warn(\n",
      "2023-12-04 18:54:35,340 [Thread-199 (] [INFO ]  Epoch: 1/512: Loss = 0.1362305 :: Learning Rate = 0.0500000\n",
      "2023-12-04 18:54:40,431 [Thread-199 (] [INFO ]  Epoch: 101/512: Loss = -0.1002808 :: Learning Rate = 0.0500000\n",
      "2023-12-04 18:54:45,440 [Thread-199 (] [INFO ]  Epoch: 201/512: Loss = -0.4179688 :: Learning Rate = 0.0500000\n",
      "2023-12-04 18:54:50,504 [Thread-199 (] [INFO ]  Epoch: 301/512: Loss = -0.4987793 :: Learning Rate = 0.0500000\n",
      "2023-12-04 18:54:55,563 [Thread-199 (] [INFO ]  Epoch: 401/512: Loss = -0.6064453 :: Learning Rate = 0.0500000\n",
      "2023-12-04 18:55:00,651 [Thread-199 (] [INFO ]  Epoch: 501/512: Loss = -0.5893555 :: Learning Rate = 0.0500000\n",
      "2023-12-04 18:55:01,227 [Thread-199 (] [INFO ]  Epoch: 512/512: Loss = -0.7226562 :: Learning Rate = 0.0500000\n",
      "2023-12-04 18:55:01,251 [Thread-199 (] [INFO ]  Completed run [ 0p69z351 ]\n"
     ]
    },
    {
     "data": {
      "application/vnd.jupyter.widget-view+json": {
       "model_id": "",
       "version_major": 2,
       "version_minor": 0
      },
      "text/plain": [
       "VBox(children=(Label(value='1.193 MB of 1.193 MB uploaded\\r'), FloatProgress(value=1.0, max=1.0)))"
      ]
     },
     "metadata": {},
     "output_type": "display_data"
    },
    {
     "data": {
      "text/html": [
       "<style>\n",
       "    table.wandb td:nth-child(1) { padding: 0 10px; text-align: left ; width: auto;} td:nth-child(2) {text-align: left ; width: 100%}\n",
       "    .wandb-row { display: flex; flex-direction: row; flex-wrap: wrap; justify-content: flex-start; width: 100% }\n",
       "    .wandb-col { display: flex; flex-direction: column; flex-basis: 100%; flex: 1; padding: 10px; }\n",
       "    </style>\n",
       "<div class=\"wandb-row\"><div class=\"wandb-col\"><h3>Run history:</h3><br/><table class=\"wandb\"><tr><td>loss</td><td>█▆▃▃▂▂▁</td></tr></table><br/></div><div class=\"wandb-col\"><h3>Run summary:</h3><br/><table class=\"wandb\"><tr><td>loss</td><td>-0.72266</td></tr></table><br/></div></div>"
      ],
      "text/plain": [
       "<IPython.core.display.HTML object>"
      ]
     },
     "metadata": {},
     "output_type": "display_data"
    },
    {
     "data": {
      "text/html": [
       " View run <strong style=\"color:#cdcd00\">unique-sweep-65</strong> at: <a href='https://wandb.ai/rohanprasad/idl-project-flowers-facet/runs/0p69z351' target=\"_blank\">https://wandb.ai/rohanprasad/idl-project-flowers-facet/runs/0p69z351</a><br/>Synced 6 W&B file(s), 7 media file(s), 0 artifact file(s) and 0 other file(s)"
      ],
      "text/plain": [
       "<IPython.core.display.HTML object>"
      ]
     },
     "metadata": {},
     "output_type": "display_data"
    },
    {
     "data": {
      "text/html": [
       "Find logs at: <code>./wandb/run-20231204_185420-0p69z351/logs</code>"
      ],
      "text/plain": [
       "<IPython.core.display.HTML object>"
      ]
     },
     "metadata": {},
     "output_type": "display_data"
    },
    {
     "name": "stderr",
     "output_type": "stream",
     "text": [
      "\u001b[34m\u001b[1mwandb\u001b[0m: Sweep Agent: Waiting for job.\n",
      "\u001b[34m\u001b[1mwandb\u001b[0m: Job received.\n",
      "\u001b[34m\u001b[1mwandb\u001b[0m: Agent Starting Run: y5n51oin with config:\n",
      "\u001b[34m\u001b[1mwandb\u001b[0m: \tchannel: 2560\n",
      "\u001b[34m\u001b[1mwandb\u001b[0m: \tlearning_rate: 0.05\n",
      "\u001b[34m\u001b[1mwandb\u001b[0m: \tlinear_probe_layer: layer1_0_conv3\n",
      "\u001b[34m\u001b[1mwandb\u001b[0m: \tmodel: RN50x4\n",
      "\u001b[34m\u001b[1mwandb\u001b[0m: \tnum_iterations: 512\n",
      "\u001b[34m\u001b[1mwandb\u001b[0m: \tobjective: channel\n",
      "\u001b[34m\u001b[1mwandb\u001b[0m: \toptimizer: AdamW\n",
      "\u001b[34m\u001b[1mwandb\u001b[0m: \trandom_seed: 18630595\n",
      "\u001b[34m\u001b[1mwandb\u001b[0m: \tuse_std_transforms: True\n",
      "\u001b[34m\u001b[1mwandb\u001b[0m: \tuse_transforms: True\n",
      "\u001b[34m\u001b[1mwandb\u001b[0m: \tvisualization_layer: layer4_5_conv3\n"
     ]
    },
    {
     "data": {
      "text/html": [
       "Tracking run with wandb version 0.16.0"
      ],
      "text/plain": [
       "<IPython.core.display.HTML object>"
      ]
     },
     "metadata": {},
     "output_type": "display_data"
    },
    {
     "data": {
      "text/html": [
       "Run data is saved locally in <code>/apps/11785-f23-prj/wandb/run-20231204_185516-y5n51oin</code>"
      ],
      "text/plain": [
       "<IPython.core.display.HTML object>"
      ]
     },
     "metadata": {},
     "output_type": "display_data"
    },
    {
     "data": {
      "text/html": [
       "Syncing run <strong><a href='https://wandb.ai/rohanprasad/idl-project-flowers-facet/runs/y5n51oin' target=\"_blank\">noble-sweep-66</a></strong> to <a href='https://wandb.ai/rohanprasad/idl-project-flowers-facet' target=\"_blank\">Weights & Biases</a> (<a href='https://wandb.me/run' target=\"_blank\">docs</a>)<br/>Sweep page: <a href='https://wandb.ai/rohanprasad/idl-project-flowers-facet/sweeps/cuq4fdws' target=\"_blank\">https://wandb.ai/rohanprasad/idl-project-flowers-facet/sweeps/cuq4fdws</a>"
      ],
      "text/plain": [
       "<IPython.core.display.HTML object>"
      ]
     },
     "metadata": {},
     "output_type": "display_data"
    },
    {
     "data": {
      "text/html": [
       " View project at <a href='https://wandb.ai/rohanprasad/idl-project-flowers-facet' target=\"_blank\">https://wandb.ai/rohanprasad/idl-project-flowers-facet</a>"
      ],
      "text/plain": [
       "<IPython.core.display.HTML object>"
      ]
     },
     "metadata": {},
     "output_type": "display_data"
    },
    {
     "data": {
      "text/html": [
       " View sweep at <a href='https://wandb.ai/rohanprasad/idl-project-flowers-facet/sweeps/cuq4fdws' target=\"_blank\">https://wandb.ai/rohanprasad/idl-project-flowers-facet/sweeps/cuq4fdws</a>"
      ],
      "text/plain": [
       "<IPython.core.display.HTML object>"
      ]
     },
     "metadata": {},
     "output_type": "display_data"
    },
    {
     "data": {
      "text/html": [
       " View run at <a href='https://wandb.ai/rohanprasad/idl-project-flowers-facet/runs/y5n51oin' target=\"_blank\">https://wandb.ai/rohanprasad/idl-project-flowers-facet/runs/y5n51oin</a>"
      ],
      "text/plain": [
       "<IPython.core.display.HTML object>"
      ]
     },
     "metadata": {},
     "output_type": "display_data"
    },
    {
     "name": "stderr",
     "output_type": "stream",
     "text": [
      "2023-12-04 18:55:27,038 [Thread-202 (] [INFO ]  Starting sweep [ run  y5n51oin ] with config = \n",
      "{'channel': 2560, 'learning_rate': 0.05, 'linear_probe_layer': 'layer1_0_conv3', 'model': 'RN50x4', 'num_iterations': 512, 'objective': 'channel', 'optimizer': 'AdamW', 'random_seed': 18630595, 'use_std_transforms': True, 'use_transforms': True, 'visualization_layer': 'layer4_5_conv3'}\n",
      "2023-12-04 18:55:27,039 [Thread-202 (] [INFO ]  Setting random seed to 18630595\n",
      "2023-12-04 18:55:27,041 [Thread-202 (] [INFO ]  Loading CLIP model [ RN50x4 ].\n",
      "2023-12-04 18:55:31,497 [Thread-202 (] [INFO ]  Finished loading model [ RN50x4 ]\n",
      "2023-12-04 18:55:31,499 [Thread-202 (] [INFO ]  Finished loading transforms [ Compose(\n",
      "    Resize(size=288, interpolation=bicubic, max_size=None, antialias=warn)\n",
      "    CenterCrop(size=(288, 288))\n",
      "    Normalize(mean=(0.48145466, 0.4578275, 0.40821073), std=(0.26862954, 0.26130258, 0.27577711))\n",
      ") ]\n",
      "2023-12-04 18:55:31,500 [Thread-202 (] [INFO ]  Registering hooks.\n",
      "2023-12-04 18:55:31,503 [Thread-202 (] [INFO ]  Finished registering hooks.\n",
      "2023-12-04 18:55:31,507 [Thread-202 (] [INFO ]  Retrieving weights of linear probe [ path = /apps/11785-f23-prj/faceted_visualization/probes/logs/flower/RN50x4/layer1_0_conv3/version_4_20/model_checkpoint.pth ]\n",
      "2023-12-04 18:55:31,512 [Thread-202 (] [INFO ]  Final list of transforms = [Resize(size=288, interpolation=bicubic, max_size=None, antialias=warn), CenterCrop(size=(288, 288)), Normalize(mean=(0.48145466, 0.4578275, 0.40821073), std=(0.26862954, 0.26130258, 0.27577711)), RandomAffine(degrees=[0.0, 0.0], translate=(0.03, 0.03), interpolation=InterpolationMode.NEAREST, fill=0), RandomAffine(degrees=[0.0, 0.0], scale=(0.9, 1.1), interpolation=InterpolationMode.NEAREST, fill=0), RandomRotation(degrees=[-10.0, 10.0], interpolation=InterpolationMode.NEAREST, expand=False, fill=0), RandomAffine(degrees=[0.0, 0.0], translate=(0.015, 0.015), interpolation=InterpolationMode.NEAREST, fill=0)]\n",
      "2023-12-04 18:55:31,514 [Thread-202 (] [INFO ]  Starting optimization process [ run_id = y5n51oin ]...\n",
      "/opt/conda/lib/python3.10/site-packages/torchvision/transforms/functional.py:1603: UserWarning: The default value of the antialias parameter of all the resizing transforms (Resize(), RandomResizedCrop(), etc.) will change from None to True in v0.17, in order to be consistent across the PIL and Tensor backends. To suppress this warning, directly pass antialias=True (recommended, future default), antialias=None (current default, which means False for Tensors and True for PIL), or antialias=False (only works on Tensors - PIL will still use antialiasing). This also applies if you are using the inference transforms from the models weights: update the call to weights.transforms(antialias=True).\n",
      "  warnings.warn(\n",
      "2023-12-04 18:55:31,568 [Thread-202 (] [INFO ]  Epoch: 1/512: Loss = 0.1174927 :: Learning Rate = 0.0500000\n",
      "2023-12-04 18:55:36,642 [Thread-202 (] [INFO ]  Epoch: 101/512: Loss = 0.0386047 :: Learning Rate = 0.0500000\n",
      "2023-12-04 18:55:41,703 [Thread-202 (] [INFO ]  Epoch: 201/512: Loss = -0.2305908 :: Learning Rate = 0.0500000\n",
      "2023-12-04 18:55:46,741 [Thread-202 (] [INFO ]  Epoch: 301/512: Loss = -0.0845947 :: Learning Rate = 0.0500000\n",
      "2023-12-04 18:55:51,813 [Thread-202 (] [INFO ]  Epoch: 401/512: Loss = -0.2626953 :: Learning Rate = 0.0500000\n",
      "2023-12-04 18:55:56,870 [Thread-202 (] [INFO ]  Epoch: 501/512: Loss = -0.2181396 :: Learning Rate = 0.0500000\n",
      "2023-12-04 18:55:57,449 [Thread-202 (] [INFO ]  Epoch: 512/512: Loss = -0.1418457 :: Learning Rate = 0.0500000\n",
      "2023-12-04 18:55:57,473 [Thread-202 (] [INFO ]  Completed run [ y5n51oin ]\n"
     ]
    },
    {
     "data": {
      "application/vnd.jupyter.widget-view+json": {
       "model_id": "",
       "version_major": 2,
       "version_minor": 0
      },
      "text/plain": [
       "VBox(children=(Label(value='1.248 MB of 1.248 MB uploaded\\r'), FloatProgress(value=1.0, max=1.0)))"
      ]
     },
     "metadata": {},
     "output_type": "display_data"
    },
    {
     "data": {
      "text/html": [
       "<style>\n",
       "    table.wandb td:nth-child(1) { padding: 0 10px; text-align: left ; width: auto;} td:nth-child(2) {text-align: left ; width: 100%}\n",
       "    .wandb-row { display: flex; flex-direction: row; flex-wrap: wrap; justify-content: flex-start; width: 100% }\n",
       "    .wandb-col { display: flex; flex-direction: column; flex-basis: 100%; flex: 1; padding: 10px; }\n",
       "    </style>\n",
       "<div class=\"wandb-row\"><div class=\"wandb-col\"><h3>Run history:</h3><br/><table class=\"wandb\"><tr><td>loss</td><td>█▇▂▄▁▂▃</td></tr></table><br/></div><div class=\"wandb-col\"><h3>Run summary:</h3><br/><table class=\"wandb\"><tr><td>loss</td><td>-0.14185</td></tr></table><br/></div></div>"
      ],
      "text/plain": [
       "<IPython.core.display.HTML object>"
      ]
     },
     "metadata": {},
     "output_type": "display_data"
    },
    {
     "data": {
      "text/html": [
       " View run <strong style=\"color:#cdcd00\">noble-sweep-66</strong> at: <a href='https://wandb.ai/rohanprasad/idl-project-flowers-facet/runs/y5n51oin' target=\"_blank\">https://wandb.ai/rohanprasad/idl-project-flowers-facet/runs/y5n51oin</a><br/>Synced 6 W&B file(s), 7 media file(s), 0 artifact file(s) and 0 other file(s)"
      ],
      "text/plain": [
       "<IPython.core.display.HTML object>"
      ]
     },
     "metadata": {},
     "output_type": "display_data"
    },
    {
     "data": {
      "text/html": [
       "Find logs at: <code>./wandb/run-20231204_185516-y5n51oin/logs</code>"
      ],
      "text/plain": [
       "<IPython.core.display.HTML object>"
      ]
     },
     "metadata": {},
     "output_type": "display_data"
    },
    {
     "name": "stderr",
     "output_type": "stream",
     "text": [
      "\u001b[34m\u001b[1mwandb\u001b[0m: Sweep Agent: Waiting for job.\n",
      "\u001b[34m\u001b[1mwandb\u001b[0m: Job received.\n",
      "\u001b[34m\u001b[1mwandb\u001b[0m: Agent Starting Run: hcoeyllj with config:\n",
      "\u001b[34m\u001b[1mwandb\u001b[0m: \tchannel: 2560\n",
      "\u001b[34m\u001b[1mwandb\u001b[0m: \tlearning_rate: 0.05\n",
      "\u001b[34m\u001b[1mwandb\u001b[0m: \tlinear_probe_layer: layer1_0_relu3\n",
      "\u001b[34m\u001b[1mwandb\u001b[0m: \tmodel: RN50x4\n",
      "\u001b[34m\u001b[1mwandb\u001b[0m: \tnum_iterations: 512\n",
      "\u001b[34m\u001b[1mwandb\u001b[0m: \tobjective: neuron\n",
      "\u001b[34m\u001b[1mwandb\u001b[0m: \toptimizer: AdamW\n",
      "\u001b[34m\u001b[1mwandb\u001b[0m: \trandom_seed: 18630595\n",
      "\u001b[34m\u001b[1mwandb\u001b[0m: \tuse_std_transforms: True\n",
      "\u001b[34m\u001b[1mwandb\u001b[0m: \tuse_transforms: True\n",
      "\u001b[34m\u001b[1mwandb\u001b[0m: \tvisualization_layer: layer4_5_conv3\n"
     ]
    },
    {
     "data": {
      "text/html": [
       "Tracking run with wandb version 0.16.0"
      ],
      "text/plain": [
       "<IPython.core.display.HTML object>"
      ]
     },
     "metadata": {},
     "output_type": "display_data"
    },
    {
     "data": {
      "text/html": [
       "Run data is saved locally in <code>/apps/11785-f23-prj/wandb/run-20231204_185612-hcoeyllj</code>"
      ],
      "text/plain": [
       "<IPython.core.display.HTML object>"
      ]
     },
     "metadata": {},
     "output_type": "display_data"
    },
    {
     "data": {
      "text/html": [
       "Syncing run <strong><a href='https://wandb.ai/rohanprasad/idl-project-flowers-facet/runs/hcoeyllj' target=\"_blank\">neat-sweep-67</a></strong> to <a href='https://wandb.ai/rohanprasad/idl-project-flowers-facet' target=\"_blank\">Weights & Biases</a> (<a href='https://wandb.me/run' target=\"_blank\">docs</a>)<br/>Sweep page: <a href='https://wandb.ai/rohanprasad/idl-project-flowers-facet/sweeps/cuq4fdws' target=\"_blank\">https://wandb.ai/rohanprasad/idl-project-flowers-facet/sweeps/cuq4fdws</a>"
      ],
      "text/plain": [
       "<IPython.core.display.HTML object>"
      ]
     },
     "metadata": {},
     "output_type": "display_data"
    },
    {
     "data": {
      "text/html": [
       " View project at <a href='https://wandb.ai/rohanprasad/idl-project-flowers-facet' target=\"_blank\">https://wandb.ai/rohanprasad/idl-project-flowers-facet</a>"
      ],
      "text/plain": [
       "<IPython.core.display.HTML object>"
      ]
     },
     "metadata": {},
     "output_type": "display_data"
    },
    {
     "data": {
      "text/html": [
       " View sweep at <a href='https://wandb.ai/rohanprasad/idl-project-flowers-facet/sweeps/cuq4fdws' target=\"_blank\">https://wandb.ai/rohanprasad/idl-project-flowers-facet/sweeps/cuq4fdws</a>"
      ],
      "text/plain": [
       "<IPython.core.display.HTML object>"
      ]
     },
     "metadata": {},
     "output_type": "display_data"
    },
    {
     "data": {
      "text/html": [
       " View run at <a href='https://wandb.ai/rohanprasad/idl-project-flowers-facet/runs/hcoeyllj' target=\"_blank\">https://wandb.ai/rohanprasad/idl-project-flowers-facet/runs/hcoeyllj</a>"
      ],
      "text/plain": [
       "<IPython.core.display.HTML object>"
      ]
     },
     "metadata": {},
     "output_type": "display_data"
    },
    {
     "name": "stderr",
     "output_type": "stream",
     "text": [
      "2023-12-04 18:56:23,030 [Thread-205 (] [INFO ]  Starting sweep [ run  hcoeyllj ] with config = \n",
      "{'channel': 2560, 'learning_rate': 0.05, 'linear_probe_layer': 'layer1_0_relu3', 'model': 'RN50x4', 'num_iterations': 512, 'objective': 'neuron', 'optimizer': 'AdamW', 'random_seed': 18630595, 'use_std_transforms': True, 'use_transforms': True, 'visualization_layer': 'layer4_5_conv3'}\n",
      "2023-12-04 18:56:23,031 [Thread-205 (] [INFO ]  Setting random seed to 18630595\n",
      "2023-12-04 18:56:23,033 [Thread-205 (] [INFO ]  Loading CLIP model [ RN50x4 ].\n",
      "2023-12-04 18:56:27,677 [Thread-205 (] [INFO ]  Finished loading model [ RN50x4 ]\n",
      "2023-12-04 18:56:27,679 [Thread-205 (] [INFO ]  Finished loading transforms [ Compose(\n",
      "    Resize(size=288, interpolation=bicubic, max_size=None, antialias=warn)\n",
      "    CenterCrop(size=(288, 288))\n",
      "    Normalize(mean=(0.48145466, 0.4578275, 0.40821073), std=(0.26862954, 0.26130258, 0.27577711))\n",
      ") ]\n",
      "2023-12-04 18:56:27,680 [Thread-205 (] [INFO ]  Registering hooks.\n",
      "2023-12-04 18:56:27,683 [Thread-205 (] [INFO ]  Finished registering hooks.\n",
      "2023-12-04 18:56:27,687 [Thread-205 (] [INFO ]  Retrieving weights of linear probe [ path = /apps/11785-f23-prj/faceted_visualization/probes/logs/flower/RN50x4/layer1_0_relu3/version_4_20/model_checkpoint.pth ]\n",
      "2023-12-04 18:56:27,692 [Thread-205 (] [INFO ]  Final list of transforms = [Resize(size=288, interpolation=bicubic, max_size=None, antialias=warn), CenterCrop(size=(288, 288)), Normalize(mean=(0.48145466, 0.4578275, 0.40821073), std=(0.26862954, 0.26130258, 0.27577711)), RandomAffine(degrees=[0.0, 0.0], translate=(0.03, 0.03), interpolation=InterpolationMode.NEAREST, fill=0), RandomAffine(degrees=[0.0, 0.0], scale=(0.9, 1.1), interpolation=InterpolationMode.NEAREST, fill=0), RandomRotation(degrees=[-10.0, 10.0], interpolation=InterpolationMode.NEAREST, expand=False, fill=0), RandomAffine(degrees=[0.0, 0.0], translate=(0.015, 0.015), interpolation=InterpolationMode.NEAREST, fill=0)]\n",
      "2023-12-04 18:56:27,693 [Thread-205 (] [INFO ]  Starting optimization process [ run_id = hcoeyllj ]...\n",
      "/opt/conda/lib/python3.10/site-packages/torchvision/transforms/functional.py:1603: UserWarning: The default value of the antialias parameter of all the resizing transforms (Resize(), RandomResizedCrop(), etc.) will change from None to True in v0.17, in order to be consistent across the PIL and Tensor backends. To suppress this warning, directly pass antialias=True (recommended, future default), antialias=None (current default, which means False for Tensors and True for PIL), or antialias=False (only works on Tensors - PIL will still use antialiasing). This also applies if you are using the inference transforms from the models weights: update the call to weights.transforms(antialias=True).\n",
      "  warnings.warn(\n",
      "2023-12-04 18:56:27,746 [Thread-205 (] [INFO ]  Epoch: 1/512: Loss = 0.1417236 :: Learning Rate = 0.0500000\n",
      "2023-12-04 18:56:32,806 [Thread-205 (] [INFO ]  Epoch: 101/512: Loss = -0.2937012 :: Learning Rate = 0.0500000\n",
      "2023-12-04 18:56:37,837 [Thread-205 (] [INFO ]  Epoch: 201/512: Loss = -0.4599609 :: Learning Rate = 0.0500000\n",
      "2023-12-04 18:56:42,902 [Thread-205 (] [INFO ]  Epoch: 301/512: Loss = -0.3894043 :: Learning Rate = 0.0500000\n",
      "2023-12-04 18:56:47,957 [Thread-205 (] [INFO ]  Epoch: 401/512: Loss = -0.6948242 :: Learning Rate = 0.0500000\n",
      "2023-12-04 18:56:53,007 [Thread-205 (] [INFO ]  Epoch: 501/512: Loss = -0.7192383 :: Learning Rate = 0.0500000\n",
      "2023-12-04 18:56:53,596 [Thread-205 (] [INFO ]  Epoch: 512/512: Loss = -0.5229492 :: Learning Rate = 0.0500000\n",
      "2023-12-04 18:56:53,620 [Thread-205 (] [INFO ]  Completed run [ hcoeyllj ]\n"
     ]
    },
    {
     "data": {
      "application/vnd.jupyter.widget-view+json": {
       "model_id": "",
       "version_major": 2,
       "version_minor": 0
      },
      "text/plain": [
       "VBox(children=(Label(value='1.192 MB of 1.192 MB uploaded\\r'), FloatProgress(value=1.0, max=1.0)))"
      ]
     },
     "metadata": {},
     "output_type": "display_data"
    },
    {
     "data": {
      "text/html": [
       "<style>\n",
       "    table.wandb td:nth-child(1) { padding: 0 10px; text-align: left ; width: auto;} td:nth-child(2) {text-align: left ; width: 100%}\n",
       "    .wandb-row { display: flex; flex-direction: row; flex-wrap: wrap; justify-content: flex-start; width: 100% }\n",
       "    .wandb-col { display: flex; flex-direction: column; flex-basis: 100%; flex: 1; padding: 10px; }\n",
       "    </style>\n",
       "<div class=\"wandb-row\"><div class=\"wandb-col\"><h3>Run history:</h3><br/><table class=\"wandb\"><tr><td>loss</td><td>█▄▃▄▁▁▃</td></tr></table><br/></div><div class=\"wandb-col\"><h3>Run summary:</h3><br/><table class=\"wandb\"><tr><td>loss</td><td>-0.52295</td></tr></table><br/></div></div>"
      ],
      "text/plain": [
       "<IPython.core.display.HTML object>"
      ]
     },
     "metadata": {},
     "output_type": "display_data"
    },
    {
     "data": {
      "text/html": [
       " View run <strong style=\"color:#cdcd00\">neat-sweep-67</strong> at: <a href='https://wandb.ai/rohanprasad/idl-project-flowers-facet/runs/hcoeyllj' target=\"_blank\">https://wandb.ai/rohanprasad/idl-project-flowers-facet/runs/hcoeyllj</a><br/>Synced 6 W&B file(s), 7 media file(s), 0 artifact file(s) and 0 other file(s)"
      ],
      "text/plain": [
       "<IPython.core.display.HTML object>"
      ]
     },
     "metadata": {},
     "output_type": "display_data"
    },
    {
     "data": {
      "text/html": [
       "Find logs at: <code>./wandb/run-20231204_185612-hcoeyllj/logs</code>"
      ],
      "text/plain": [
       "<IPython.core.display.HTML object>"
      ]
     },
     "metadata": {},
     "output_type": "display_data"
    },
    {
     "name": "stderr",
     "output_type": "stream",
     "text": [
      "\u001b[34m\u001b[1mwandb\u001b[0m: Agent Starting Run: ld5h142j with config:\n",
      "\u001b[34m\u001b[1mwandb\u001b[0m: \tchannel: 2560\n",
      "\u001b[34m\u001b[1mwandb\u001b[0m: \tlearning_rate: 0.05\n",
      "\u001b[34m\u001b[1mwandb\u001b[0m: \tlinear_probe_layer: layer1_0_relu3\n",
      "\u001b[34m\u001b[1mwandb\u001b[0m: \tmodel: RN50x4\n",
      "\u001b[34m\u001b[1mwandb\u001b[0m: \tnum_iterations: 512\n",
      "\u001b[34m\u001b[1mwandb\u001b[0m: \tobjective: channel\n",
      "\u001b[34m\u001b[1mwandb\u001b[0m: \toptimizer: AdamW\n",
      "\u001b[34m\u001b[1mwandb\u001b[0m: \trandom_seed: 18630595\n",
      "\u001b[34m\u001b[1mwandb\u001b[0m: \tuse_std_transforms: True\n",
      "\u001b[34m\u001b[1mwandb\u001b[0m: \tuse_transforms: True\n",
      "\u001b[34m\u001b[1mwandb\u001b[0m: \tvisualization_layer: layer4_5_conv3\n"
     ]
    },
    {
     "data": {
      "text/html": [
       "Tracking run with wandb version 0.16.0"
      ],
      "text/plain": [
       "<IPython.core.display.HTML object>"
      ]
     },
     "metadata": {},
     "output_type": "display_data"
    },
    {
     "data": {
      "text/html": [
       "Run data is saved locally in <code>/apps/11785-f23-prj/wandb/run-20231204_185700-ld5h142j</code>"
      ],
      "text/plain": [
       "<IPython.core.display.HTML object>"
      ]
     },
     "metadata": {},
     "output_type": "display_data"
    },
    {
     "data": {
      "text/html": [
       "Syncing run <strong><a href='https://wandb.ai/rohanprasad/idl-project-flowers-facet/runs/ld5h142j' target=\"_blank\">youthful-sweep-68</a></strong> to <a href='https://wandb.ai/rohanprasad/idl-project-flowers-facet' target=\"_blank\">Weights & Biases</a> (<a href='https://wandb.me/run' target=\"_blank\">docs</a>)<br/>Sweep page: <a href='https://wandb.ai/rohanprasad/idl-project-flowers-facet/sweeps/cuq4fdws' target=\"_blank\">https://wandb.ai/rohanprasad/idl-project-flowers-facet/sweeps/cuq4fdws</a>"
      ],
      "text/plain": [
       "<IPython.core.display.HTML object>"
      ]
     },
     "metadata": {},
     "output_type": "display_data"
    },
    {
     "data": {
      "text/html": [
       " View project at <a href='https://wandb.ai/rohanprasad/idl-project-flowers-facet' target=\"_blank\">https://wandb.ai/rohanprasad/idl-project-flowers-facet</a>"
      ],
      "text/plain": [
       "<IPython.core.display.HTML object>"
      ]
     },
     "metadata": {},
     "output_type": "display_data"
    },
    {
     "data": {
      "text/html": [
       " View sweep at <a href='https://wandb.ai/rohanprasad/idl-project-flowers-facet/sweeps/cuq4fdws' target=\"_blank\">https://wandb.ai/rohanprasad/idl-project-flowers-facet/sweeps/cuq4fdws</a>"
      ],
      "text/plain": [
       "<IPython.core.display.HTML object>"
      ]
     },
     "metadata": {},
     "output_type": "display_data"
    },
    {
     "data": {
      "text/html": [
       " View run at <a href='https://wandb.ai/rohanprasad/idl-project-flowers-facet/runs/ld5h142j' target=\"_blank\">https://wandb.ai/rohanprasad/idl-project-flowers-facet/runs/ld5h142j</a>"
      ],
      "text/plain": [
       "<IPython.core.display.HTML object>"
      ]
     },
     "metadata": {},
     "output_type": "display_data"
    },
    {
     "name": "stderr",
     "output_type": "stream",
     "text": [
      "2023-12-04 18:57:11,105 [Thread-208 (] [INFO ]  Starting sweep [ run  ld5h142j ] with config = \n",
      "{'channel': 2560, 'learning_rate': 0.05, 'linear_probe_layer': 'layer1_0_relu3', 'model': 'RN50x4', 'num_iterations': 512, 'objective': 'channel', 'optimizer': 'AdamW', 'random_seed': 18630595, 'use_std_transforms': True, 'use_transforms': True, 'visualization_layer': 'layer4_5_conv3'}\n",
      "2023-12-04 18:57:11,107 [Thread-208 (] [INFO ]  Setting random seed to 18630595\n",
      "2023-12-04 18:57:11,109 [Thread-208 (] [INFO ]  Loading CLIP model [ RN50x4 ].\n",
      "2023-12-04 18:57:15,599 [Thread-208 (] [INFO ]  Finished loading model [ RN50x4 ]\n",
      "2023-12-04 18:57:15,601 [Thread-208 (] [INFO ]  Finished loading transforms [ Compose(\n",
      "    Resize(size=288, interpolation=bicubic, max_size=None, antialias=warn)\n",
      "    CenterCrop(size=(288, 288))\n",
      "    Normalize(mean=(0.48145466, 0.4578275, 0.40821073), std=(0.26862954, 0.26130258, 0.27577711))\n",
      ") ]\n",
      "2023-12-04 18:57:15,602 [Thread-208 (] [INFO ]  Registering hooks.\n",
      "2023-12-04 18:57:15,605 [Thread-208 (] [INFO ]  Finished registering hooks.\n",
      "2023-12-04 18:57:15,609 [Thread-208 (] [INFO ]  Retrieving weights of linear probe [ path = /apps/11785-f23-prj/faceted_visualization/probes/logs/flower/RN50x4/layer1_0_relu3/version_4_20/model_checkpoint.pth ]\n",
      "2023-12-04 18:57:15,614 [Thread-208 (] [INFO ]  Final list of transforms = [Resize(size=288, interpolation=bicubic, max_size=None, antialias=warn), CenterCrop(size=(288, 288)), Normalize(mean=(0.48145466, 0.4578275, 0.40821073), std=(0.26862954, 0.26130258, 0.27577711)), RandomAffine(degrees=[0.0, 0.0], translate=(0.03, 0.03), interpolation=InterpolationMode.NEAREST, fill=0), RandomAffine(degrees=[0.0, 0.0], scale=(0.9, 1.1), interpolation=InterpolationMode.NEAREST, fill=0), RandomRotation(degrees=[-10.0, 10.0], interpolation=InterpolationMode.NEAREST, expand=False, fill=0), RandomAffine(degrees=[0.0, 0.0], translate=(0.015, 0.015), interpolation=InterpolationMode.NEAREST, fill=0)]\n",
      "2023-12-04 18:57:15,615 [Thread-208 (] [INFO ]  Starting optimization process [ run_id = ld5h142j ]...\n",
      "/opt/conda/lib/python3.10/site-packages/torchvision/transforms/functional.py:1603: UserWarning: The default value of the antialias parameter of all the resizing transforms (Resize(), RandomResizedCrop(), etc.) will change from None to True in v0.17, in order to be consistent across the PIL and Tensor backends. To suppress this warning, directly pass antialias=True (recommended, future default), antialias=None (current default, which means False for Tensors and True for PIL), or antialias=False (only works on Tensors - PIL will still use antialiasing). This also applies if you are using the inference transforms from the models weights: update the call to weights.transforms(antialias=True).\n",
      "  warnings.warn(\n",
      "2023-12-04 18:57:15,670 [Thread-208 (] [INFO ]  Epoch: 1/512: Loss = 0.1230469 :: Learning Rate = 0.0500000\n",
      "2023-12-04 18:57:20,738 [Thread-208 (] [INFO ]  Epoch: 101/512: Loss = -0.0827637 :: Learning Rate = 0.0500000\n",
      "2023-12-04 18:57:25,758 [Thread-208 (] [INFO ]  Epoch: 201/512: Loss = -0.3232422 :: Learning Rate = 0.0500000\n",
      "2023-12-04 18:57:30,818 [Thread-208 (] [INFO ]  Epoch: 301/512: Loss = -0.1604004 :: Learning Rate = 0.0500000\n",
      "2023-12-04 18:57:35,904 [Thread-208 (] [INFO ]  Epoch: 401/512: Loss = -0.7768555 :: Learning Rate = 0.0500000\n",
      "2023-12-04 18:57:40,955 [Thread-208 (] [INFO ]  Epoch: 501/512: Loss = -0.2512207 :: Learning Rate = 0.0500000\n",
      "2023-12-04 18:57:41,549 [Thread-208 (] [INFO ]  Epoch: 512/512: Loss = -0.5878906 :: Learning Rate = 0.0500000\n",
      "2023-12-04 18:57:41,572 [Thread-208 (] [INFO ]  Completed run [ ld5h142j ]\n"
     ]
    },
    {
     "data": {
      "application/vnd.jupyter.widget-view+json": {
       "model_id": "",
       "version_major": 2,
       "version_minor": 0
      },
      "text/plain": [
       "VBox(children=(Label(value='1.257 MB of 1.257 MB uploaded\\r'), FloatProgress(value=1.0, max=1.0)))"
      ]
     },
     "metadata": {},
     "output_type": "display_data"
    },
    {
     "data": {
      "text/html": [
       "<style>\n",
       "    table.wandb td:nth-child(1) { padding: 0 10px; text-align: left ; width: auto;} td:nth-child(2) {text-align: left ; width: 100%}\n",
       "    .wandb-row { display: flex; flex-direction: row; flex-wrap: wrap; justify-content: flex-start; width: 100% }\n",
       "    .wandb-col { display: flex; flex-direction: column; flex-basis: 100%; flex: 1; padding: 10px; }\n",
       "    </style>\n",
       "<div class=\"wandb-row\"><div class=\"wandb-col\"><h3>Run history:</h3><br/><table class=\"wandb\"><tr><td>loss</td><td>█▆▅▆▁▅▂</td></tr></table><br/></div><div class=\"wandb-col\"><h3>Run summary:</h3><br/><table class=\"wandb\"><tr><td>loss</td><td>-0.58789</td></tr></table><br/></div></div>"
      ],
      "text/plain": [
       "<IPython.core.display.HTML object>"
      ]
     },
     "metadata": {},
     "output_type": "display_data"
    },
    {
     "data": {
      "text/html": [
       " View run <strong style=\"color:#cdcd00\">youthful-sweep-68</strong> at: <a href='https://wandb.ai/rohanprasad/idl-project-flowers-facet/runs/ld5h142j' target=\"_blank\">https://wandb.ai/rohanprasad/idl-project-flowers-facet/runs/ld5h142j</a><br/>Synced 6 W&B file(s), 7 media file(s), 0 artifact file(s) and 0 other file(s)"
      ],
      "text/plain": [
       "<IPython.core.display.HTML object>"
      ]
     },
     "metadata": {},
     "output_type": "display_data"
    },
    {
     "data": {
      "text/html": [
       "Find logs at: <code>./wandb/run-20231204_185700-ld5h142j/logs</code>"
      ],
      "text/plain": [
       "<IPython.core.display.HTML object>"
      ]
     },
     "metadata": {},
     "output_type": "display_data"
    },
    {
     "name": "stderr",
     "output_type": "stream",
     "text": [
      "\u001b[34m\u001b[1mwandb\u001b[0m: Agent Starting Run: azlclkhz with config:\n",
      "\u001b[34m\u001b[1mwandb\u001b[0m: \tchannel: 2560\n",
      "\u001b[34m\u001b[1mwandb\u001b[0m: \tlearning_rate: 0.05\n",
      "\u001b[34m\u001b[1mwandb\u001b[0m: \tlinear_probe_layer: layer1_3_conv3\n",
      "\u001b[34m\u001b[1mwandb\u001b[0m: \tmodel: RN50x4\n",
      "\u001b[34m\u001b[1mwandb\u001b[0m: \tnum_iterations: 512\n",
      "\u001b[34m\u001b[1mwandb\u001b[0m: \tobjective: neuron\n",
      "\u001b[34m\u001b[1mwandb\u001b[0m: \toptimizer: AdamW\n",
      "\u001b[34m\u001b[1mwandb\u001b[0m: \trandom_seed: 18630595\n",
      "\u001b[34m\u001b[1mwandb\u001b[0m: \tuse_std_transforms: True\n",
      "\u001b[34m\u001b[1mwandb\u001b[0m: \tuse_transforms: True\n",
      "\u001b[34m\u001b[1mwandb\u001b[0m: \tvisualization_layer: layer4_5_conv3\n"
     ]
    },
    {
     "data": {
      "text/html": [
       "Tracking run with wandb version 0.16.0"
      ],
      "text/plain": [
       "<IPython.core.display.HTML object>"
      ]
     },
     "metadata": {},
     "output_type": "display_data"
    },
    {
     "data": {
      "text/html": [
       "Run data is saved locally in <code>/apps/11785-f23-prj/wandb/run-20231204_185751-azlclkhz</code>"
      ],
      "text/plain": [
       "<IPython.core.display.HTML object>"
      ]
     },
     "metadata": {},
     "output_type": "display_data"
    },
    {
     "data": {
      "text/html": [
       "Syncing run <strong><a href='https://wandb.ai/rohanprasad/idl-project-flowers-facet/runs/azlclkhz' target=\"_blank\">comic-sweep-69</a></strong> to <a href='https://wandb.ai/rohanprasad/idl-project-flowers-facet' target=\"_blank\">Weights & Biases</a> (<a href='https://wandb.me/run' target=\"_blank\">docs</a>)<br/>Sweep page: <a href='https://wandb.ai/rohanprasad/idl-project-flowers-facet/sweeps/cuq4fdws' target=\"_blank\">https://wandb.ai/rohanprasad/idl-project-flowers-facet/sweeps/cuq4fdws</a>"
      ],
      "text/plain": [
       "<IPython.core.display.HTML object>"
      ]
     },
     "metadata": {},
     "output_type": "display_data"
    },
    {
     "data": {
      "text/html": [
       " View project at <a href='https://wandb.ai/rohanprasad/idl-project-flowers-facet' target=\"_blank\">https://wandb.ai/rohanprasad/idl-project-flowers-facet</a>"
      ],
      "text/plain": [
       "<IPython.core.display.HTML object>"
      ]
     },
     "metadata": {},
     "output_type": "display_data"
    },
    {
     "data": {
      "text/html": [
       " View sweep at <a href='https://wandb.ai/rohanprasad/idl-project-flowers-facet/sweeps/cuq4fdws' target=\"_blank\">https://wandb.ai/rohanprasad/idl-project-flowers-facet/sweeps/cuq4fdws</a>"
      ],
      "text/plain": [
       "<IPython.core.display.HTML object>"
      ]
     },
     "metadata": {},
     "output_type": "display_data"
    },
    {
     "data": {
      "text/html": [
       " View run at <a href='https://wandb.ai/rohanprasad/idl-project-flowers-facet/runs/azlclkhz' target=\"_blank\">https://wandb.ai/rohanprasad/idl-project-flowers-facet/runs/azlclkhz</a>"
      ],
      "text/plain": [
       "<IPython.core.display.HTML object>"
      ]
     },
     "metadata": {},
     "output_type": "display_data"
    },
    {
     "name": "stderr",
     "output_type": "stream",
     "text": [
      "2023-12-04 18:58:01,297 [Thread-211 (] [INFO ]  Starting sweep [ run  azlclkhz ] with config = \n",
      "{'channel': 2560, 'learning_rate': 0.05, 'linear_probe_layer': 'layer1_3_conv3', 'model': 'RN50x4', 'num_iterations': 512, 'objective': 'neuron', 'optimizer': 'AdamW', 'random_seed': 18630595, 'use_std_transforms': True, 'use_transforms': True, 'visualization_layer': 'layer4_5_conv3'}\n",
      "2023-12-04 18:58:01,299 [Thread-211 (] [INFO ]  Setting random seed to 18630595\n",
      "2023-12-04 18:58:01,300 [Thread-211 (] [INFO ]  Loading CLIP model [ RN50x4 ].\n",
      "2023-12-04 18:58:05,777 [Thread-211 (] [INFO ]  Finished loading model [ RN50x4 ]\n",
      "2023-12-04 18:58:05,779 [Thread-211 (] [INFO ]  Finished loading transforms [ Compose(\n",
      "    Resize(size=288, interpolation=bicubic, max_size=None, antialias=warn)\n",
      "    CenterCrop(size=(288, 288))\n",
      "    Normalize(mean=(0.48145466, 0.4578275, 0.40821073), std=(0.26862954, 0.26130258, 0.27577711))\n",
      ") ]\n",
      "2023-12-04 18:58:05,780 [Thread-211 (] [INFO ]  Registering hooks.\n",
      "2023-12-04 18:58:05,783 [Thread-211 (] [INFO ]  Finished registering hooks.\n",
      "2023-12-04 18:58:05,787 [Thread-211 (] [INFO ]  Retrieving weights of linear probe [ path = /apps/11785-f23-prj/faceted_visualization/probes/logs/flower/RN50x4/layer1_3_conv3/version_4_20/model_checkpoint.pth ]\n",
      "2023-12-04 18:58:05,793 [Thread-211 (] [INFO ]  Final list of transforms = [Resize(size=288, interpolation=bicubic, max_size=None, antialias=warn), CenterCrop(size=(288, 288)), Normalize(mean=(0.48145466, 0.4578275, 0.40821073), std=(0.26862954, 0.26130258, 0.27577711)), RandomAffine(degrees=[0.0, 0.0], translate=(0.03, 0.03), interpolation=InterpolationMode.NEAREST, fill=0), RandomAffine(degrees=[0.0, 0.0], scale=(0.9, 1.1), interpolation=InterpolationMode.NEAREST, fill=0), RandomRotation(degrees=[-10.0, 10.0], interpolation=InterpolationMode.NEAREST, expand=False, fill=0), RandomAffine(degrees=[0.0, 0.0], translate=(0.015, 0.015), interpolation=InterpolationMode.NEAREST, fill=0)]\n",
      "2023-12-04 18:58:05,794 [Thread-211 (] [INFO ]  Starting optimization process [ run_id = azlclkhz ]...\n",
      "/opt/conda/lib/python3.10/site-packages/torchvision/transforms/functional.py:1603: UserWarning: The default value of the antialias parameter of all the resizing transforms (Resize(), RandomResizedCrop(), etc.) will change from None to True in v0.17, in order to be consistent across the PIL and Tensor backends. To suppress this warning, directly pass antialias=True (recommended, future default), antialias=None (current default, which means False for Tensors and True for PIL), or antialias=False (only works on Tensors - PIL will still use antialiasing). This also applies if you are using the inference transforms from the models weights: update the call to weights.transforms(antialias=True).\n",
      "  warnings.warn(\n",
      "2023-12-04 18:58:05,847 [Thread-211 (] [INFO ]  Epoch: 1/512: Loss = 0.0596619 :: Learning Rate = 0.0500000\n",
      "2023-12-04 18:58:10,896 [Thread-211 (] [INFO ]  Epoch: 101/512: Loss = -0.1060181 :: Learning Rate = 0.0500000\n",
      "2023-12-04 18:58:15,863 [Thread-211 (] [INFO ]  Epoch: 201/512: Loss = -0.4638672 :: Learning Rate = 0.0500000\n",
      "2023-12-04 18:58:20,839 [Thread-211 (] [INFO ]  Epoch: 301/512: Loss = -0.6035156 :: Learning Rate = 0.0500000\n",
      "2023-12-04 18:58:25,831 [Thread-211 (] [INFO ]  Epoch: 401/512: Loss = -0.5639648 :: Learning Rate = 0.0500000\n",
      "2023-12-04 18:58:30,960 [Thread-211 (] [INFO ]  Epoch: 501/512: Loss = -0.6635742 :: Learning Rate = 0.0500000\n",
      "2023-12-04 18:58:31,535 [Thread-211 (] [INFO ]  Epoch: 512/512: Loss = -0.6958008 :: Learning Rate = 0.0500000\n",
      "2023-12-04 18:58:31,559 [Thread-211 (] [INFO ]  Completed run [ azlclkhz ]\n"
     ]
    },
    {
     "data": {
      "application/vnd.jupyter.widget-view+json": {
       "model_id": "",
       "version_major": 2,
       "version_minor": 0
      },
      "text/plain": [
       "VBox(children=(Label(value='1.187 MB of 1.187 MB uploaded\\r'), FloatProgress(value=1.0, max=1.0)))"
      ]
     },
     "metadata": {},
     "output_type": "display_data"
    },
    {
     "data": {
      "text/html": [
       "<style>\n",
       "    table.wandb td:nth-child(1) { padding: 0 10px; text-align: left ; width: auto;} td:nth-child(2) {text-align: left ; width: 100%}\n",
       "    .wandb-row { display: flex; flex-direction: row; flex-wrap: wrap; justify-content: flex-start; width: 100% }\n",
       "    .wandb-col { display: flex; flex-direction: column; flex-basis: 100%; flex: 1; padding: 10px; }\n",
       "    </style>\n",
       "<div class=\"wandb-row\"><div class=\"wandb-col\"><h3>Run history:</h3><br/><table class=\"wandb\"><tr><td>loss</td><td>█▆▃▂▂▁▁</td></tr></table><br/></div><div class=\"wandb-col\"><h3>Run summary:</h3><br/><table class=\"wandb\"><tr><td>loss</td><td>-0.6958</td></tr></table><br/></div></div>"
      ],
      "text/plain": [
       "<IPython.core.display.HTML object>"
      ]
     },
     "metadata": {},
     "output_type": "display_data"
    },
    {
     "data": {
      "text/html": [
       " View run <strong style=\"color:#cdcd00\">comic-sweep-69</strong> at: <a href='https://wandb.ai/rohanprasad/idl-project-flowers-facet/runs/azlclkhz' target=\"_blank\">https://wandb.ai/rohanprasad/idl-project-flowers-facet/runs/azlclkhz</a><br/>Synced 6 W&B file(s), 7 media file(s), 0 artifact file(s) and 0 other file(s)"
      ],
      "text/plain": [
       "<IPython.core.display.HTML object>"
      ]
     },
     "metadata": {},
     "output_type": "display_data"
    },
    {
     "data": {
      "text/html": [
       "Find logs at: <code>./wandb/run-20231204_185751-azlclkhz/logs</code>"
      ],
      "text/plain": [
       "<IPython.core.display.HTML object>"
      ]
     },
     "metadata": {},
     "output_type": "display_data"
    },
    {
     "name": "stderr",
     "output_type": "stream",
     "text": [
      "\u001b[34m\u001b[1mwandb\u001b[0m: Agent Starting Run: oa5s1z4k with config:\n",
      "\u001b[34m\u001b[1mwandb\u001b[0m: \tchannel: 2560\n",
      "\u001b[34m\u001b[1mwandb\u001b[0m: \tlearning_rate: 0.05\n",
      "\u001b[34m\u001b[1mwandb\u001b[0m: \tlinear_probe_layer: layer1_3_conv3\n",
      "\u001b[34m\u001b[1mwandb\u001b[0m: \tmodel: RN50x4\n",
      "\u001b[34m\u001b[1mwandb\u001b[0m: \tnum_iterations: 512\n",
      "\u001b[34m\u001b[1mwandb\u001b[0m: \tobjective: channel\n",
      "\u001b[34m\u001b[1mwandb\u001b[0m: \toptimizer: AdamW\n",
      "\u001b[34m\u001b[1mwandb\u001b[0m: \trandom_seed: 18630595\n",
      "\u001b[34m\u001b[1mwandb\u001b[0m: \tuse_std_transforms: True\n",
      "\u001b[34m\u001b[1mwandb\u001b[0m: \tuse_transforms: True\n",
      "\u001b[34m\u001b[1mwandb\u001b[0m: \tvisualization_layer: layer4_5_conv3\n"
     ]
    },
    {
     "data": {
      "text/html": [
       "Tracking run with wandb version 0.16.0"
      ],
      "text/plain": [
       "<IPython.core.display.HTML object>"
      ]
     },
     "metadata": {},
     "output_type": "display_data"
    },
    {
     "data": {
      "text/html": [
       "Run data is saved locally in <code>/apps/11785-f23-prj/wandb/run-20231204_185842-oa5s1z4k</code>"
      ],
      "text/plain": [
       "<IPython.core.display.HTML object>"
      ]
     },
     "metadata": {},
     "output_type": "display_data"
    },
    {
     "data": {
      "text/html": [
       "Syncing run <strong><a href='https://wandb.ai/rohanprasad/idl-project-flowers-facet/runs/oa5s1z4k' target=\"_blank\">legendary-sweep-70</a></strong> to <a href='https://wandb.ai/rohanprasad/idl-project-flowers-facet' target=\"_blank\">Weights & Biases</a> (<a href='https://wandb.me/run' target=\"_blank\">docs</a>)<br/>Sweep page: <a href='https://wandb.ai/rohanprasad/idl-project-flowers-facet/sweeps/cuq4fdws' target=\"_blank\">https://wandb.ai/rohanprasad/idl-project-flowers-facet/sweeps/cuq4fdws</a>"
      ],
      "text/plain": [
       "<IPython.core.display.HTML object>"
      ]
     },
     "metadata": {},
     "output_type": "display_data"
    },
    {
     "data": {
      "text/html": [
       " View project at <a href='https://wandb.ai/rohanprasad/idl-project-flowers-facet' target=\"_blank\">https://wandb.ai/rohanprasad/idl-project-flowers-facet</a>"
      ],
      "text/plain": [
       "<IPython.core.display.HTML object>"
      ]
     },
     "metadata": {},
     "output_type": "display_data"
    },
    {
     "data": {
      "text/html": [
       " View sweep at <a href='https://wandb.ai/rohanprasad/idl-project-flowers-facet/sweeps/cuq4fdws' target=\"_blank\">https://wandb.ai/rohanprasad/idl-project-flowers-facet/sweeps/cuq4fdws</a>"
      ],
      "text/plain": [
       "<IPython.core.display.HTML object>"
      ]
     },
     "metadata": {},
     "output_type": "display_data"
    },
    {
     "data": {
      "text/html": [
       " View run at <a href='https://wandb.ai/rohanprasad/idl-project-flowers-facet/runs/oa5s1z4k' target=\"_blank\">https://wandb.ai/rohanprasad/idl-project-flowers-facet/runs/oa5s1z4k</a>"
      ],
      "text/plain": [
       "<IPython.core.display.HTML object>"
      ]
     },
     "metadata": {},
     "output_type": "display_data"
    },
    {
     "name": "stderr",
     "output_type": "stream",
     "text": [
      "2023-12-04 18:58:52,304 [Thread-214 (] [INFO ]  Starting sweep [ run  oa5s1z4k ] with config = \n",
      "{'channel': 2560, 'learning_rate': 0.05, 'linear_probe_layer': 'layer1_3_conv3', 'model': 'RN50x4', 'num_iterations': 512, 'objective': 'channel', 'optimizer': 'AdamW', 'random_seed': 18630595, 'use_std_transforms': True, 'use_transforms': True, 'visualization_layer': 'layer4_5_conv3'}\n",
      "2023-12-04 18:58:52,305 [Thread-214 (] [INFO ]  Setting random seed to 18630595\n",
      "2023-12-04 18:58:52,307 [Thread-214 (] [INFO ]  Loading CLIP model [ RN50x4 ].\n",
      "2023-12-04 18:58:56,756 [Thread-214 (] [INFO ]  Finished loading model [ RN50x4 ]\n",
      "2023-12-04 18:58:56,758 [Thread-214 (] [INFO ]  Finished loading transforms [ Compose(\n",
      "    Resize(size=288, interpolation=bicubic, max_size=None, antialias=warn)\n",
      "    CenterCrop(size=(288, 288))\n",
      "    Normalize(mean=(0.48145466, 0.4578275, 0.40821073), std=(0.26862954, 0.26130258, 0.27577711))\n",
      ") ]\n",
      "2023-12-04 18:58:56,758 [Thread-214 (] [INFO ]  Registering hooks.\n",
      "2023-12-04 18:58:56,761 [Thread-214 (] [INFO ]  Finished registering hooks.\n",
      "2023-12-04 18:58:56,765 [Thread-214 (] [INFO ]  Retrieving weights of linear probe [ path = /apps/11785-f23-prj/faceted_visualization/probes/logs/flower/RN50x4/layer1_3_conv3/version_4_20/model_checkpoint.pth ]\n",
      "2023-12-04 18:58:56,770 [Thread-214 (] [INFO ]  Final list of transforms = [Resize(size=288, interpolation=bicubic, max_size=None, antialias=warn), CenterCrop(size=(288, 288)), Normalize(mean=(0.48145466, 0.4578275, 0.40821073), std=(0.26862954, 0.26130258, 0.27577711)), RandomAffine(degrees=[0.0, 0.0], translate=(0.03, 0.03), interpolation=InterpolationMode.NEAREST, fill=0), RandomAffine(degrees=[0.0, 0.0], scale=(0.9, 1.1), interpolation=InterpolationMode.NEAREST, fill=0), RandomRotation(degrees=[-10.0, 10.0], interpolation=InterpolationMode.NEAREST, expand=False, fill=0), RandomAffine(degrees=[0.0, 0.0], translate=(0.015, 0.015), interpolation=InterpolationMode.NEAREST, fill=0)]\n",
      "2023-12-04 18:58:56,771 [Thread-214 (] [INFO ]  Starting optimization process [ run_id = oa5s1z4k ]...\n",
      "/opt/conda/lib/python3.10/site-packages/torchvision/transforms/functional.py:1603: UserWarning: The default value of the antialias parameter of all the resizing transforms (Resize(), RandomResizedCrop(), etc.) will change from None to True in v0.17, in order to be consistent across the PIL and Tensor backends. To suppress this warning, directly pass antialias=True (recommended, future default), antialias=None (current default, which means False for Tensors and True for PIL), or antialias=False (only works on Tensors - PIL will still use antialiasing). This also applies if you are using the inference transforms from the models weights: update the call to weights.transforms(antialias=True).\n",
      "  warnings.warn(\n",
      "2023-12-04 18:58:56,823 [Thread-214 (] [INFO ]  Epoch: 1/512: Loss = 0.0409851 :: Learning Rate = 0.0500000\n",
      "2023-12-04 18:59:01,891 [Thread-214 (] [INFO ]  Epoch: 101/512: Loss = -0.1474609 :: Learning Rate = 0.0500000\n",
      "2023-12-04 18:59:06,945 [Thread-214 (] [INFO ]  Epoch: 201/512: Loss = -0.2484131 :: Learning Rate = 0.0500000\n",
      "2023-12-04 18:59:11,900 [Thread-214 (] [INFO ]  Epoch: 301/512: Loss = -0.2563477 :: Learning Rate = 0.0500000\n",
      "2023-12-04 18:59:16,904 [Thread-214 (] [INFO ]  Epoch: 401/512: Loss = -0.3508301 :: Learning Rate = 0.0500000\n",
      "2023-12-04 18:59:21,897 [Thread-214 (] [INFO ]  Epoch: 501/512: Loss = -0.3520508 :: Learning Rate = 0.0500000\n",
      "2023-12-04 18:59:22,465 [Thread-214 (] [INFO ]  Epoch: 512/512: Loss = -0.3334961 :: Learning Rate = 0.0500000\n",
      "2023-12-04 18:59:22,488 [Thread-214 (] [INFO ]  Completed run [ oa5s1z4k ]\n"
     ]
    },
    {
     "data": {
      "application/vnd.jupyter.widget-view+json": {
       "model_id": "",
       "version_major": 2,
       "version_minor": 0
      },
      "text/plain": [
       "VBox(children=(Label(value='1.264 MB of 1.264 MB uploaded\\r'), FloatProgress(value=1.0, max=1.0)))"
      ]
     },
     "metadata": {},
     "output_type": "display_data"
    },
    {
     "data": {
      "text/html": [
       "<style>\n",
       "    table.wandb td:nth-child(1) { padding: 0 10px; text-align: left ; width: auto;} td:nth-child(2) {text-align: left ; width: 100%}\n",
       "    .wandb-row { display: flex; flex-direction: row; flex-wrap: wrap; justify-content: flex-start; width: 100% }\n",
       "    .wandb-col { display: flex; flex-direction: column; flex-basis: 100%; flex: 1; padding: 10px; }\n",
       "    </style>\n",
       "<div class=\"wandb-row\"><div class=\"wandb-col\"><h3>Run history:</h3><br/><table class=\"wandb\"><tr><td>loss</td><td>█▅▃▃▁▁▁</td></tr></table><br/></div><div class=\"wandb-col\"><h3>Run summary:</h3><br/><table class=\"wandb\"><tr><td>loss</td><td>-0.3335</td></tr></table><br/></div></div>"
      ],
      "text/plain": [
       "<IPython.core.display.HTML object>"
      ]
     },
     "metadata": {},
     "output_type": "display_data"
    },
    {
     "data": {
      "text/html": [
       " View run <strong style=\"color:#cdcd00\">legendary-sweep-70</strong> at: <a href='https://wandb.ai/rohanprasad/idl-project-flowers-facet/runs/oa5s1z4k' target=\"_blank\">https://wandb.ai/rohanprasad/idl-project-flowers-facet/runs/oa5s1z4k</a><br/>Synced 6 W&B file(s), 7 media file(s), 0 artifact file(s) and 0 other file(s)"
      ],
      "text/plain": [
       "<IPython.core.display.HTML object>"
      ]
     },
     "metadata": {},
     "output_type": "display_data"
    },
    {
     "data": {
      "text/html": [
       "Find logs at: <code>./wandb/run-20231204_185842-oa5s1z4k/logs</code>"
      ],
      "text/plain": [
       "<IPython.core.display.HTML object>"
      ]
     },
     "metadata": {},
     "output_type": "display_data"
    },
    {
     "name": "stderr",
     "output_type": "stream",
     "text": [
      "\u001b[34m\u001b[1mwandb\u001b[0m: Sweep Agent: Waiting for job.\n",
      "\u001b[34m\u001b[1mwandb\u001b[0m: Job received.\n",
      "\u001b[34m\u001b[1mwandb\u001b[0m: Agent Starting Run: 7dqh1xhe with config:\n",
      "\u001b[34m\u001b[1mwandb\u001b[0m: \tchannel: 2560\n",
      "\u001b[34m\u001b[1mwandb\u001b[0m: \tlearning_rate: 0.05\n",
      "\u001b[34m\u001b[1mwandb\u001b[0m: \tlinear_probe_layer: layer1_3_relu3\n",
      "\u001b[34m\u001b[1mwandb\u001b[0m: \tmodel: RN50x4\n",
      "\u001b[34m\u001b[1mwandb\u001b[0m: \tnum_iterations: 512\n",
      "\u001b[34m\u001b[1mwandb\u001b[0m: \tobjective: neuron\n",
      "\u001b[34m\u001b[1mwandb\u001b[0m: \toptimizer: AdamW\n",
      "\u001b[34m\u001b[1mwandb\u001b[0m: \trandom_seed: 18630595\n",
      "\u001b[34m\u001b[1mwandb\u001b[0m: \tuse_std_transforms: True\n",
      "\u001b[34m\u001b[1mwandb\u001b[0m: \tuse_transforms: True\n",
      "\u001b[34m\u001b[1mwandb\u001b[0m: \tvisualization_layer: layer4_5_conv3\n"
     ]
    },
    {
     "data": {
      "text/html": [
       "Tracking run with wandb version 0.16.0"
      ],
      "text/plain": [
       "<IPython.core.display.HTML object>"
      ]
     },
     "metadata": {},
     "output_type": "display_data"
    },
    {
     "data": {
      "text/html": [
       "Run data is saved locally in <code>/apps/11785-f23-prj/wandb/run-20231204_185938-7dqh1xhe</code>"
      ],
      "text/plain": [
       "<IPython.core.display.HTML object>"
      ]
     },
     "metadata": {},
     "output_type": "display_data"
    },
    {
     "data": {
      "text/html": [
       "Syncing run <strong><a href='https://wandb.ai/rohanprasad/idl-project-flowers-facet/runs/7dqh1xhe' target=\"_blank\">crimson-sweep-71</a></strong> to <a href='https://wandb.ai/rohanprasad/idl-project-flowers-facet' target=\"_blank\">Weights & Biases</a> (<a href='https://wandb.me/run' target=\"_blank\">docs</a>)<br/>Sweep page: <a href='https://wandb.ai/rohanprasad/idl-project-flowers-facet/sweeps/cuq4fdws' target=\"_blank\">https://wandb.ai/rohanprasad/idl-project-flowers-facet/sweeps/cuq4fdws</a>"
      ],
      "text/plain": [
       "<IPython.core.display.HTML object>"
      ]
     },
     "metadata": {},
     "output_type": "display_data"
    },
    {
     "data": {
      "text/html": [
       " View project at <a href='https://wandb.ai/rohanprasad/idl-project-flowers-facet' target=\"_blank\">https://wandb.ai/rohanprasad/idl-project-flowers-facet</a>"
      ],
      "text/plain": [
       "<IPython.core.display.HTML object>"
      ]
     },
     "metadata": {},
     "output_type": "display_data"
    },
    {
     "data": {
      "text/html": [
       " View sweep at <a href='https://wandb.ai/rohanprasad/idl-project-flowers-facet/sweeps/cuq4fdws' target=\"_blank\">https://wandb.ai/rohanprasad/idl-project-flowers-facet/sweeps/cuq4fdws</a>"
      ],
      "text/plain": [
       "<IPython.core.display.HTML object>"
      ]
     },
     "metadata": {},
     "output_type": "display_data"
    },
    {
     "data": {
      "text/html": [
       " View run at <a href='https://wandb.ai/rohanprasad/idl-project-flowers-facet/runs/7dqh1xhe' target=\"_blank\">https://wandb.ai/rohanprasad/idl-project-flowers-facet/runs/7dqh1xhe</a>"
      ],
      "text/plain": [
       "<IPython.core.display.HTML object>"
      ]
     },
     "metadata": {},
     "output_type": "display_data"
    },
    {
     "name": "stderr",
     "output_type": "stream",
     "text": [
      "2023-12-04 18:59:48,428 [Thread-217 (] [INFO ]  Starting sweep [ run  7dqh1xhe ] with config = \n",
      "{'channel': 2560, 'learning_rate': 0.05, 'linear_probe_layer': 'layer1_3_relu3', 'model': 'RN50x4', 'num_iterations': 512, 'objective': 'neuron', 'optimizer': 'AdamW', 'random_seed': 18630595, 'use_std_transforms': True, 'use_transforms': True, 'visualization_layer': 'layer4_5_conv3'}\n",
      "2023-12-04 18:59:48,429 [Thread-217 (] [INFO ]  Setting random seed to 18630595\n",
      "2023-12-04 18:59:48,431 [Thread-217 (] [INFO ]  Loading CLIP model [ RN50x4 ].\n",
      "2023-12-04 18:59:52,889 [Thread-217 (] [INFO ]  Finished loading model [ RN50x4 ]\n",
      "2023-12-04 18:59:52,891 [Thread-217 (] [INFO ]  Finished loading transforms [ Compose(\n",
      "    Resize(size=288, interpolation=bicubic, max_size=None, antialias=warn)\n",
      "    CenterCrop(size=(288, 288))\n",
      "    Normalize(mean=(0.48145466, 0.4578275, 0.40821073), std=(0.26862954, 0.26130258, 0.27577711))\n",
      ") ]\n",
      "2023-12-04 18:59:52,892 [Thread-217 (] [INFO ]  Registering hooks.\n",
      "2023-12-04 18:59:52,895 [Thread-217 (] [INFO ]  Finished registering hooks.\n",
      "2023-12-04 18:59:52,899 [Thread-217 (] [INFO ]  Retrieving weights of linear probe [ path = /apps/11785-f23-prj/faceted_visualization/probes/logs/flower/RN50x4/layer1_3_relu3/version_4_20/model_checkpoint.pth ]\n",
      "2023-12-04 18:59:52,904 [Thread-217 (] [INFO ]  Final list of transforms = [Resize(size=288, interpolation=bicubic, max_size=None, antialias=warn), CenterCrop(size=(288, 288)), Normalize(mean=(0.48145466, 0.4578275, 0.40821073), std=(0.26862954, 0.26130258, 0.27577711)), RandomAffine(degrees=[0.0, 0.0], translate=(0.03, 0.03), interpolation=InterpolationMode.NEAREST, fill=0), RandomAffine(degrees=[0.0, 0.0], scale=(0.9, 1.1), interpolation=InterpolationMode.NEAREST, fill=0), RandomRotation(degrees=[-10.0, 10.0], interpolation=InterpolationMode.NEAREST, expand=False, fill=0), RandomAffine(degrees=[0.0, 0.0], translate=(0.015, 0.015), interpolation=InterpolationMode.NEAREST, fill=0)]\n",
      "2023-12-04 18:59:52,905 [Thread-217 (] [INFO ]  Starting optimization process [ run_id = 7dqh1xhe ]...\n",
      "/opt/conda/lib/python3.10/site-packages/torchvision/transforms/functional.py:1603: UserWarning: The default value of the antialias parameter of all the resizing transforms (Resize(), RandomResizedCrop(), etc.) will change from None to True in v0.17, in order to be consistent across the PIL and Tensor backends. To suppress this warning, directly pass antialias=True (recommended, future default), antialias=None (current default, which means False for Tensors and True for PIL), or antialias=False (only works on Tensors - PIL will still use antialiasing). This also applies if you are using the inference transforms from the models weights: update the call to weights.transforms(antialias=True).\n",
      "  warnings.warn(\n",
      "2023-12-04 18:59:53,142 [Thread-217 (] [INFO ]  Epoch: 1/512: Loss = -2.9824219 :: Learning Rate = 0.0500000\n",
      "2023-12-04 18:59:58,110 [Thread-217 (] [INFO ]  Epoch: 101/512: Loss = 2.2851562 :: Learning Rate = 0.0500000\n",
      "2023-12-04 19:00:03,065 [Thread-217 (] [INFO ]  Epoch: 201/512: Loss = 1.5605469 :: Learning Rate = 0.0500000\n",
      "2023-12-04 19:00:08,026 [Thread-217 (] [INFO ]  Epoch: 301/512: Loss = -0.4309082 :: Learning Rate = 0.0500000\n",
      "2023-12-04 19:00:13,020 [Thread-217 (] [INFO ]  Epoch: 401/512: Loss = -1.9931641 :: Learning Rate = 0.0500000\n",
      "2023-12-04 19:00:17,990 [Thread-217 (] [INFO ]  Epoch: 501/512: Loss = -0.4331055 :: Learning Rate = 0.0500000\n",
      "2023-12-04 19:00:18,555 [Thread-217 (] [INFO ]  Epoch: 512/512: Loss = -1.5117188 :: Learning Rate = 0.0500000\n",
      "2023-12-04 19:00:18,581 [Thread-217 (] [INFO ]  Completed run [ 7dqh1xhe ]\n"
     ]
    },
    {
     "data": {
      "application/vnd.jupyter.widget-view+json": {
       "model_id": "",
       "version_major": 2,
       "version_minor": 0
      },
      "text/plain": [
       "VBox(children=(Label(value='1.214 MB of 1.214 MB uploaded\\r'), FloatProgress(value=1.0, max=1.0)))"
      ]
     },
     "metadata": {},
     "output_type": "display_data"
    },
    {
     "data": {
      "text/html": [
       "<style>\n",
       "    table.wandb td:nth-child(1) { padding: 0 10px; text-align: left ; width: auto;} td:nth-child(2) {text-align: left ; width: 100%}\n",
       "    .wandb-row { display: flex; flex-direction: row; flex-wrap: wrap; justify-content: flex-start; width: 100% }\n",
       "    .wandb-col { display: flex; flex-direction: column; flex-basis: 100%; flex: 1; padding: 10px; }\n",
       "    </style>\n",
       "<div class=\"wandb-row\"><div class=\"wandb-col\"><h3>Run history:</h3><br/><table class=\"wandb\"><tr><td>loss</td><td>▁█▇▄▂▄▃</td></tr></table><br/></div><div class=\"wandb-col\"><h3>Run summary:</h3><br/><table class=\"wandb\"><tr><td>loss</td><td>-1.51172</td></tr></table><br/></div></div>"
      ],
      "text/plain": [
       "<IPython.core.display.HTML object>"
      ]
     },
     "metadata": {},
     "output_type": "display_data"
    },
    {
     "data": {
      "text/html": [
       " View run <strong style=\"color:#cdcd00\">crimson-sweep-71</strong> at: <a href='https://wandb.ai/rohanprasad/idl-project-flowers-facet/runs/7dqh1xhe' target=\"_blank\">https://wandb.ai/rohanprasad/idl-project-flowers-facet/runs/7dqh1xhe</a><br/>Synced 6 W&B file(s), 7 media file(s), 0 artifact file(s) and 0 other file(s)"
      ],
      "text/plain": [
       "<IPython.core.display.HTML object>"
      ]
     },
     "metadata": {},
     "output_type": "display_data"
    },
    {
     "data": {
      "text/html": [
       "Find logs at: <code>./wandb/run-20231204_185938-7dqh1xhe/logs</code>"
      ],
      "text/plain": [
       "<IPython.core.display.HTML object>"
      ]
     },
     "metadata": {},
     "output_type": "display_data"
    },
    {
     "name": "stderr",
     "output_type": "stream",
     "text": [
      "\u001b[34m\u001b[1mwandb\u001b[0m: Sweep Agent: Waiting for job.\n",
      "\u001b[34m\u001b[1mwandb\u001b[0m: Job received.\n",
      "\u001b[34m\u001b[1mwandb\u001b[0m: Agent Starting Run: 1g4hr5z0 with config:\n",
      "\u001b[34m\u001b[1mwandb\u001b[0m: \tchannel: 2560\n",
      "\u001b[34m\u001b[1mwandb\u001b[0m: \tlearning_rate: 0.05\n",
      "\u001b[34m\u001b[1mwandb\u001b[0m: \tlinear_probe_layer: layer1_3_relu3\n",
      "\u001b[34m\u001b[1mwandb\u001b[0m: \tmodel: RN50x4\n",
      "\u001b[34m\u001b[1mwandb\u001b[0m: \tnum_iterations: 512\n",
      "\u001b[34m\u001b[1mwandb\u001b[0m: \tobjective: channel\n",
      "\u001b[34m\u001b[1mwandb\u001b[0m: \toptimizer: AdamW\n",
      "\u001b[34m\u001b[1mwandb\u001b[0m: \trandom_seed: 18630595\n",
      "\u001b[34m\u001b[1mwandb\u001b[0m: \tuse_std_transforms: True\n",
      "\u001b[34m\u001b[1mwandb\u001b[0m: \tuse_transforms: True\n",
      "\u001b[34m\u001b[1mwandb\u001b[0m: \tvisualization_layer: layer4_5_conv3\n"
     ]
    },
    {
     "data": {
      "text/html": [
       "Tracking run with wandb version 0.16.0"
      ],
      "text/plain": [
       "<IPython.core.display.HTML object>"
      ]
     },
     "metadata": {},
     "output_type": "display_data"
    },
    {
     "data": {
      "text/html": [
       "Run data is saved locally in <code>/apps/11785-f23-prj/wandb/run-20231204_190034-1g4hr5z0</code>"
      ],
      "text/plain": [
       "<IPython.core.display.HTML object>"
      ]
     },
     "metadata": {},
     "output_type": "display_data"
    },
    {
     "data": {
      "text/html": [
       "Syncing run <strong><a href='https://wandb.ai/rohanprasad/idl-project-flowers-facet/runs/1g4hr5z0' target=\"_blank\">fearless-sweep-72</a></strong> to <a href='https://wandb.ai/rohanprasad/idl-project-flowers-facet' target=\"_blank\">Weights & Biases</a> (<a href='https://wandb.me/run' target=\"_blank\">docs</a>)<br/>Sweep page: <a href='https://wandb.ai/rohanprasad/idl-project-flowers-facet/sweeps/cuq4fdws' target=\"_blank\">https://wandb.ai/rohanprasad/idl-project-flowers-facet/sweeps/cuq4fdws</a>"
      ],
      "text/plain": [
       "<IPython.core.display.HTML object>"
      ]
     },
     "metadata": {},
     "output_type": "display_data"
    },
    {
     "data": {
      "text/html": [
       " View project at <a href='https://wandb.ai/rohanprasad/idl-project-flowers-facet' target=\"_blank\">https://wandb.ai/rohanprasad/idl-project-flowers-facet</a>"
      ],
      "text/plain": [
       "<IPython.core.display.HTML object>"
      ]
     },
     "metadata": {},
     "output_type": "display_data"
    },
    {
     "data": {
      "text/html": [
       " View sweep at <a href='https://wandb.ai/rohanprasad/idl-project-flowers-facet/sweeps/cuq4fdws' target=\"_blank\">https://wandb.ai/rohanprasad/idl-project-flowers-facet/sweeps/cuq4fdws</a>"
      ],
      "text/plain": [
       "<IPython.core.display.HTML object>"
      ]
     },
     "metadata": {},
     "output_type": "display_data"
    },
    {
     "data": {
      "text/html": [
       " View run at <a href='https://wandb.ai/rohanprasad/idl-project-flowers-facet/runs/1g4hr5z0' target=\"_blank\">https://wandb.ai/rohanprasad/idl-project-flowers-facet/runs/1g4hr5z0</a>"
      ],
      "text/plain": [
       "<IPython.core.display.HTML object>"
      ]
     },
     "metadata": {},
     "output_type": "display_data"
    },
    {
     "name": "stderr",
     "output_type": "stream",
     "text": [
      "2023-12-04 19:00:44,503 [Thread-220 (] [INFO ]  Starting sweep [ run  1g4hr5z0 ] with config = \n",
      "{'channel': 2560, 'learning_rate': 0.05, 'linear_probe_layer': 'layer1_3_relu3', 'model': 'RN50x4', 'num_iterations': 512, 'objective': 'channel', 'optimizer': 'AdamW', 'random_seed': 18630595, 'use_std_transforms': True, 'use_transforms': True, 'visualization_layer': 'layer4_5_conv3'}\n",
      "2023-12-04 19:00:44,505 [Thread-220 (] [INFO ]  Setting random seed to 18630595\n",
      "2023-12-04 19:00:44,507 [Thread-220 (] [INFO ]  Loading CLIP model [ RN50x4 ].\n",
      "2023-12-04 19:00:49,210 [Thread-220 (] [INFO ]  Finished loading model [ RN50x4 ]\n",
      "2023-12-04 19:00:49,212 [Thread-220 (] [INFO ]  Finished loading transforms [ Compose(\n",
      "    Resize(size=288, interpolation=bicubic, max_size=None, antialias=warn)\n",
      "    CenterCrop(size=(288, 288))\n",
      "    Normalize(mean=(0.48145466, 0.4578275, 0.40821073), std=(0.26862954, 0.26130258, 0.27577711))\n",
      ") ]\n",
      "2023-12-04 19:00:49,213 [Thread-220 (] [INFO ]  Registering hooks.\n",
      "2023-12-04 19:00:49,216 [Thread-220 (] [INFO ]  Finished registering hooks.\n",
      "2023-12-04 19:00:49,220 [Thread-220 (] [INFO ]  Retrieving weights of linear probe [ path = /apps/11785-f23-prj/faceted_visualization/probes/logs/flower/RN50x4/layer1_3_relu3/version_4_20/model_checkpoint.pth ]\n",
      "2023-12-04 19:00:49,225 [Thread-220 (] [INFO ]  Final list of transforms = [Resize(size=288, interpolation=bicubic, max_size=None, antialias=warn), CenterCrop(size=(288, 288)), Normalize(mean=(0.48145466, 0.4578275, 0.40821073), std=(0.26862954, 0.26130258, 0.27577711)), RandomAffine(degrees=[0.0, 0.0], translate=(0.03, 0.03), interpolation=InterpolationMode.NEAREST, fill=0), RandomAffine(degrees=[0.0, 0.0], scale=(0.9, 1.1), interpolation=InterpolationMode.NEAREST, fill=0), RandomRotation(degrees=[-10.0, 10.0], interpolation=InterpolationMode.NEAREST, expand=False, fill=0), RandomAffine(degrees=[0.0, 0.0], translate=(0.015, 0.015), interpolation=InterpolationMode.NEAREST, fill=0)]\n",
      "2023-12-04 19:00:49,226 [Thread-220 (] [INFO ]  Starting optimization process [ run_id = 1g4hr5z0 ]...\n",
      "/opt/conda/lib/python3.10/site-packages/torchvision/transforms/functional.py:1603: UserWarning: The default value of the antialias parameter of all the resizing transforms (Resize(), RandomResizedCrop(), etc.) will change from None to True in v0.17, in order to be consistent across the PIL and Tensor backends. To suppress this warning, directly pass antialias=True (recommended, future default), antialias=None (current default, which means False for Tensors and True for PIL), or antialias=False (only works on Tensors - PIL will still use antialiasing). This also applies if you are using the inference transforms from the models weights: update the call to weights.transforms(antialias=True).\n",
      "  warnings.warn(\n",
      "2023-12-04 19:00:49,274 [Thread-220 (] [INFO ]  Epoch: 1/512: Loss = -3.0000000 :: Learning Rate = 0.0500000\n",
      "2023-12-04 19:00:54,480 [Thread-220 (] [INFO ]  Epoch: 101/512: Loss = -2.3535156 :: Learning Rate = 0.0500000\n",
      "2023-12-04 19:00:59,819 [Thread-220 (] [INFO ]  Epoch: 201/512: Loss = -1.7470703 :: Learning Rate = 0.0500000\n",
      "2023-12-04 19:01:05,127 [Thread-220 (] [INFO ]  Epoch: 301/512: Loss = -1.2949219 :: Learning Rate = 0.0500000\n",
      "2023-12-04 19:01:10,185 [Thread-220 (] [INFO ]  Epoch: 401/512: Loss = -2.0488281 :: Learning Rate = 0.0500000\n",
      "2023-12-04 19:01:15,173 [Thread-220 (] [INFO ]  Epoch: 501/512: Loss = -3.5761719 :: Learning Rate = 0.0500000\n",
      "2023-12-04 19:01:15,750 [Thread-220 (] [INFO ]  Epoch: 512/512: Loss = -2.0195312 :: Learning Rate = 0.0500000\n",
      "2023-12-04 19:01:15,775 [Thread-220 (] [INFO ]  Completed run [ 1g4hr5z0 ]\n"
     ]
    },
    {
     "data": {
      "application/vnd.jupyter.widget-view+json": {
       "model_id": "",
       "version_major": 2,
       "version_minor": 0
      },
      "text/plain": [
       "VBox(children=(Label(value='1.243 MB of 1.243 MB uploaded\\r'), FloatProgress(value=1.0, max=1.0)))"
      ]
     },
     "metadata": {},
     "output_type": "display_data"
    },
    {
     "data": {
      "text/html": [
       "<style>\n",
       "    table.wandb td:nth-child(1) { padding: 0 10px; text-align: left ; width: auto;} td:nth-child(2) {text-align: left ; width: 100%}\n",
       "    .wandb-row { display: flex; flex-direction: row; flex-wrap: wrap; justify-content: flex-start; width: 100% }\n",
       "    .wandb-col { display: flex; flex-direction: column; flex-basis: 100%; flex: 1; padding: 10px; }\n",
       "    </style>\n",
       "<div class=\"wandb-row\"><div class=\"wandb-col\"><h3>Run history:</h3><br/><table class=\"wandb\"><tr><td>loss</td><td>▃▅▇█▆▁▆</td></tr></table><br/></div><div class=\"wandb-col\"><h3>Run summary:</h3><br/><table class=\"wandb\"><tr><td>loss</td><td>-2.01953</td></tr></table><br/></div></div>"
      ],
      "text/plain": [
       "<IPython.core.display.HTML object>"
      ]
     },
     "metadata": {},
     "output_type": "display_data"
    },
    {
     "data": {
      "text/html": [
       " View run <strong style=\"color:#cdcd00\">fearless-sweep-72</strong> at: <a href='https://wandb.ai/rohanprasad/idl-project-flowers-facet/runs/1g4hr5z0' target=\"_blank\">https://wandb.ai/rohanprasad/idl-project-flowers-facet/runs/1g4hr5z0</a><br/>Synced 6 W&B file(s), 7 media file(s), 0 artifact file(s) and 0 other file(s)"
      ],
      "text/plain": [
       "<IPython.core.display.HTML object>"
      ]
     },
     "metadata": {},
     "output_type": "display_data"
    },
    {
     "data": {
      "text/html": [
       "Find logs at: <code>./wandb/run-20231204_190034-1g4hr5z0/logs</code>"
      ],
      "text/plain": [
       "<IPython.core.display.HTML object>"
      ]
     },
     "metadata": {},
     "output_type": "display_data"
    },
    {
     "name": "stderr",
     "output_type": "stream",
     "text": [
      "\u001b[34m\u001b[1mwandb\u001b[0m: Agent Starting Run: 1hhoskau with config:\n",
      "\u001b[34m\u001b[1mwandb\u001b[0m: \tchannel: 2560\n",
      "\u001b[34m\u001b[1mwandb\u001b[0m: \tlearning_rate: 0.05\n",
      "\u001b[34m\u001b[1mwandb\u001b[0m: \tlinear_probe_layer: layer2_5_conv3\n",
      "\u001b[34m\u001b[1mwandb\u001b[0m: \tmodel: RN50x4\n",
      "\u001b[34m\u001b[1mwandb\u001b[0m: \tnum_iterations: 512\n",
      "\u001b[34m\u001b[1mwandb\u001b[0m: \tobjective: neuron\n",
      "\u001b[34m\u001b[1mwandb\u001b[0m: \toptimizer: AdamW\n",
      "\u001b[34m\u001b[1mwandb\u001b[0m: \trandom_seed: 18630595\n",
      "\u001b[34m\u001b[1mwandb\u001b[0m: \tuse_std_transforms: True\n",
      "\u001b[34m\u001b[1mwandb\u001b[0m: \tuse_transforms: True\n",
      "\u001b[34m\u001b[1mwandb\u001b[0m: \tvisualization_layer: layer4_5_conv3\n"
     ]
    },
    {
     "data": {
      "text/html": [
       "Tracking run with wandb version 0.16.0"
      ],
      "text/plain": [
       "<IPython.core.display.HTML object>"
      ]
     },
     "metadata": {},
     "output_type": "display_data"
    },
    {
     "data": {
      "text/html": [
       "Run data is saved locally in <code>/apps/11785-f23-prj/wandb/run-20231204_190124-1hhoskau</code>"
      ],
      "text/plain": [
       "<IPython.core.display.HTML object>"
      ]
     },
     "metadata": {},
     "output_type": "display_data"
    },
    {
     "data": {
      "text/html": [
       "Syncing run <strong><a href='https://wandb.ai/rohanprasad/idl-project-flowers-facet/runs/1hhoskau' target=\"_blank\">super-sweep-73</a></strong> to <a href='https://wandb.ai/rohanprasad/idl-project-flowers-facet' target=\"_blank\">Weights & Biases</a> (<a href='https://wandb.me/run' target=\"_blank\">docs</a>)<br/>Sweep page: <a href='https://wandb.ai/rohanprasad/idl-project-flowers-facet/sweeps/cuq4fdws' target=\"_blank\">https://wandb.ai/rohanprasad/idl-project-flowers-facet/sweeps/cuq4fdws</a>"
      ],
      "text/plain": [
       "<IPython.core.display.HTML object>"
      ]
     },
     "metadata": {},
     "output_type": "display_data"
    },
    {
     "data": {
      "text/html": [
       " View project at <a href='https://wandb.ai/rohanprasad/idl-project-flowers-facet' target=\"_blank\">https://wandb.ai/rohanprasad/idl-project-flowers-facet</a>"
      ],
      "text/plain": [
       "<IPython.core.display.HTML object>"
      ]
     },
     "metadata": {},
     "output_type": "display_data"
    },
    {
     "data": {
      "text/html": [
       " View sweep at <a href='https://wandb.ai/rohanprasad/idl-project-flowers-facet/sweeps/cuq4fdws' target=\"_blank\">https://wandb.ai/rohanprasad/idl-project-flowers-facet/sweeps/cuq4fdws</a>"
      ],
      "text/plain": [
       "<IPython.core.display.HTML object>"
      ]
     },
     "metadata": {},
     "output_type": "display_data"
    },
    {
     "data": {
      "text/html": [
       " View run at <a href='https://wandb.ai/rohanprasad/idl-project-flowers-facet/runs/1hhoskau' target=\"_blank\">https://wandb.ai/rohanprasad/idl-project-flowers-facet/runs/1hhoskau</a>"
      ],
      "text/plain": [
       "<IPython.core.display.HTML object>"
      ]
     },
     "metadata": {},
     "output_type": "display_data"
    },
    {
     "name": "stderr",
     "output_type": "stream",
     "text": [
      "2023-12-04 19:01:34,566 [Thread-223 (] [INFO ]  Starting sweep [ run  1hhoskau ] with config = \n",
      "{'channel': 2560, 'learning_rate': 0.05, 'linear_probe_layer': 'layer2_5_conv3', 'model': 'RN50x4', 'num_iterations': 512, 'objective': 'neuron', 'optimizer': 'AdamW', 'random_seed': 18630595, 'use_std_transforms': True, 'use_transforms': True, 'visualization_layer': 'layer4_5_conv3'}\n",
      "2023-12-04 19:01:34,567 [Thread-223 (] [INFO ]  Setting random seed to 18630595\n",
      "2023-12-04 19:01:34,569 [Thread-223 (] [INFO ]  Loading CLIP model [ RN50x4 ].\n",
      "2023-12-04 19:01:39,155 [Thread-223 (] [INFO ]  Finished loading model [ RN50x4 ]\n",
      "2023-12-04 19:01:39,156 [Thread-223 (] [INFO ]  Finished loading transforms [ Compose(\n",
      "    Resize(size=288, interpolation=bicubic, max_size=None, antialias=warn)\n",
      "    CenterCrop(size=(288, 288))\n",
      "    Normalize(mean=(0.48145466, 0.4578275, 0.40821073), std=(0.26862954, 0.26130258, 0.27577711))\n",
      ") ]\n",
      "2023-12-04 19:01:39,157 [Thread-223 (] [INFO ]  Registering hooks.\n",
      "2023-12-04 19:01:39,160 [Thread-223 (] [INFO ]  Finished registering hooks.\n",
      "2023-12-04 19:01:39,164 [Thread-223 (] [INFO ]  Retrieving weights of linear probe [ path = /apps/11785-f23-prj/faceted_visualization/probes/logs/flower/RN50x4/layer2_5_conv3/version_4_20/model_checkpoint.pth ]\n",
      "2023-12-04 19:01:39,169 [Thread-223 (] [INFO ]  Final list of transforms = [Resize(size=288, interpolation=bicubic, max_size=None, antialias=warn), CenterCrop(size=(288, 288)), Normalize(mean=(0.48145466, 0.4578275, 0.40821073), std=(0.26862954, 0.26130258, 0.27577711)), RandomAffine(degrees=[0.0, 0.0], translate=(0.03, 0.03), interpolation=InterpolationMode.NEAREST, fill=0), RandomAffine(degrees=[0.0, 0.0], scale=(0.9, 1.1), interpolation=InterpolationMode.NEAREST, fill=0), RandomRotation(degrees=[-10.0, 10.0], interpolation=InterpolationMode.NEAREST, expand=False, fill=0), RandomAffine(degrees=[0.0, 0.0], translate=(0.015, 0.015), interpolation=InterpolationMode.NEAREST, fill=0)]\n",
      "2023-12-04 19:01:39,171 [Thread-223 (] [INFO ]  Starting optimization process [ run_id = 1hhoskau ]...\n",
      "/opt/conda/lib/python3.10/site-packages/torchvision/transforms/functional.py:1603: UserWarning: The default value of the antialias parameter of all the resizing transforms (Resize(), RandomResizedCrop(), etc.) will change from None to True in v0.17, in order to be consistent across the PIL and Tensor backends. To suppress this warning, directly pass antialias=True (recommended, future default), antialias=None (current default, which means False for Tensors and True for PIL), or antialias=False (only works on Tensors - PIL will still use antialiasing). This also applies if you are using the inference transforms from the models weights: update the call to weights.transforms(antialias=True).\n",
      "  warnings.warn(\n",
      "2023-12-04 19:01:39,216 [Thread-223 (] [INFO ]  Epoch: 1/512: Loss = 0.0745239 :: Learning Rate = 0.0500000\n",
      "2023-12-04 19:01:44,103 [Thread-223 (] [INFO ]  Epoch: 101/512: Loss = -0.3659668 :: Learning Rate = 0.0500000\n",
      "2023-12-04 19:01:49,023 [Thread-223 (] [INFO ]  Epoch: 201/512: Loss = -0.5278320 :: Learning Rate = 0.0500000\n",
      "2023-12-04 19:01:53,705 [Thread-223 (] [INFO ]  Epoch: 301/512: Loss = -0.6303711 :: Learning Rate = 0.0500000\n",
      "2023-12-04 19:01:58,460 [Thread-223 (] [INFO ]  Epoch: 401/512: Loss = -0.7890625 :: Learning Rate = 0.0500000\n",
      "2023-12-04 19:02:03,383 [Thread-223 (] [INFO ]  Epoch: 501/512: Loss = -0.7900391 :: Learning Rate = 0.0500000\n",
      "2023-12-04 19:02:03,906 [Thread-223 (] [INFO ]  Epoch: 512/512: Loss = -0.8417969 :: Learning Rate = 0.0500000\n",
      "2023-12-04 19:02:03,931 [Thread-223 (] [INFO ]  Completed run [ 1hhoskau ]\n"
     ]
    },
    {
     "data": {
      "application/vnd.jupyter.widget-view+json": {
       "model_id": "",
       "version_major": 2,
       "version_minor": 0
      },
      "text/plain": [
       "VBox(children=(Label(value='1.203 MB of 1.203 MB uploaded\\r'), FloatProgress(value=1.0, max=1.0)))"
      ]
     },
     "metadata": {},
     "output_type": "display_data"
    },
    {
     "data": {
      "text/html": [
       "<style>\n",
       "    table.wandb td:nth-child(1) { padding: 0 10px; text-align: left ; width: auto;} td:nth-child(2) {text-align: left ; width: 100%}\n",
       "    .wandb-row { display: flex; flex-direction: row; flex-wrap: wrap; justify-content: flex-start; width: 100% }\n",
       "    .wandb-col { display: flex; flex-direction: column; flex-basis: 100%; flex: 1; padding: 10px; }\n",
       "    </style>\n",
       "<div class=\"wandb-row\"><div class=\"wandb-col\"><h3>Run history:</h3><br/><table class=\"wandb\"><tr><td>loss</td><td>█▅▃▃▁▁▁</td></tr></table><br/></div><div class=\"wandb-col\"><h3>Run summary:</h3><br/><table class=\"wandb\"><tr><td>loss</td><td>-0.8418</td></tr></table><br/></div></div>"
      ],
      "text/plain": [
       "<IPython.core.display.HTML object>"
      ]
     },
     "metadata": {},
     "output_type": "display_data"
    },
    {
     "data": {
      "text/html": [
       " View run <strong style=\"color:#cdcd00\">super-sweep-73</strong> at: <a href='https://wandb.ai/rohanprasad/idl-project-flowers-facet/runs/1hhoskau' target=\"_blank\">https://wandb.ai/rohanprasad/idl-project-flowers-facet/runs/1hhoskau</a><br/>Synced 6 W&B file(s), 7 media file(s), 0 artifact file(s) and 0 other file(s)"
      ],
      "text/plain": [
       "<IPython.core.display.HTML object>"
      ]
     },
     "metadata": {},
     "output_type": "display_data"
    },
    {
     "data": {
      "text/html": [
       "Find logs at: <code>./wandb/run-20231204_190124-1hhoskau/logs</code>"
      ],
      "text/plain": [
       "<IPython.core.display.HTML object>"
      ]
     },
     "metadata": {},
     "output_type": "display_data"
    },
    {
     "name": "stderr",
     "output_type": "stream",
     "text": [
      "\u001b[34m\u001b[1mwandb\u001b[0m: Agent Starting Run: gshy92c1 with config:\n",
      "\u001b[34m\u001b[1mwandb\u001b[0m: \tchannel: 2560\n",
      "\u001b[34m\u001b[1mwandb\u001b[0m: \tlearning_rate: 0.05\n",
      "\u001b[34m\u001b[1mwandb\u001b[0m: \tlinear_probe_layer: layer2_5_conv3\n",
      "\u001b[34m\u001b[1mwandb\u001b[0m: \tmodel: RN50x4\n",
      "\u001b[34m\u001b[1mwandb\u001b[0m: \tnum_iterations: 512\n",
      "\u001b[34m\u001b[1mwandb\u001b[0m: \tobjective: channel\n",
      "\u001b[34m\u001b[1mwandb\u001b[0m: \toptimizer: AdamW\n",
      "\u001b[34m\u001b[1mwandb\u001b[0m: \trandom_seed: 18630595\n",
      "\u001b[34m\u001b[1mwandb\u001b[0m: \tuse_std_transforms: True\n",
      "\u001b[34m\u001b[1mwandb\u001b[0m: \tuse_transforms: True\n",
      "\u001b[34m\u001b[1mwandb\u001b[0m: \tvisualization_layer: layer4_5_conv3\n"
     ]
    },
    {
     "data": {
      "text/html": [
       "Tracking run with wandb version 0.16.0"
      ],
      "text/plain": [
       "<IPython.core.display.HTML object>"
      ]
     },
     "metadata": {},
     "output_type": "display_data"
    },
    {
     "data": {
      "text/html": [
       "Run data is saved locally in <code>/apps/11785-f23-prj/wandb/run-20231204_190210-gshy92c1</code>"
      ],
      "text/plain": [
       "<IPython.core.display.HTML object>"
      ]
     },
     "metadata": {},
     "output_type": "display_data"
    },
    {
     "data": {
      "text/html": [
       "Syncing run <strong><a href='https://wandb.ai/rohanprasad/idl-project-flowers-facet/runs/gshy92c1' target=\"_blank\">noble-sweep-74</a></strong> to <a href='https://wandb.ai/rohanprasad/idl-project-flowers-facet' target=\"_blank\">Weights & Biases</a> (<a href='https://wandb.me/run' target=\"_blank\">docs</a>)<br/>Sweep page: <a href='https://wandb.ai/rohanprasad/idl-project-flowers-facet/sweeps/cuq4fdws' target=\"_blank\">https://wandb.ai/rohanprasad/idl-project-flowers-facet/sweeps/cuq4fdws</a>"
      ],
      "text/plain": [
       "<IPython.core.display.HTML object>"
      ]
     },
     "metadata": {},
     "output_type": "display_data"
    },
    {
     "data": {
      "text/html": [
       " View project at <a href='https://wandb.ai/rohanprasad/idl-project-flowers-facet' target=\"_blank\">https://wandb.ai/rohanprasad/idl-project-flowers-facet</a>"
      ],
      "text/plain": [
       "<IPython.core.display.HTML object>"
      ]
     },
     "metadata": {},
     "output_type": "display_data"
    },
    {
     "data": {
      "text/html": [
       " View sweep at <a href='https://wandb.ai/rohanprasad/idl-project-flowers-facet/sweeps/cuq4fdws' target=\"_blank\">https://wandb.ai/rohanprasad/idl-project-flowers-facet/sweeps/cuq4fdws</a>"
      ],
      "text/plain": [
       "<IPython.core.display.HTML object>"
      ]
     },
     "metadata": {},
     "output_type": "display_data"
    },
    {
     "data": {
      "text/html": [
       " View run at <a href='https://wandb.ai/rohanprasad/idl-project-flowers-facet/runs/gshy92c1' target=\"_blank\">https://wandb.ai/rohanprasad/idl-project-flowers-facet/runs/gshy92c1</a>"
      ],
      "text/plain": [
       "<IPython.core.display.HTML object>"
      ]
     },
     "metadata": {},
     "output_type": "display_data"
    },
    {
     "name": "stderr",
     "output_type": "stream",
     "text": [
      "2023-12-04 19:02:20,632 [Thread-226 (] [INFO ]  Starting sweep [ run  gshy92c1 ] with config = \n",
      "{'channel': 2560, 'learning_rate': 0.05, 'linear_probe_layer': 'layer2_5_conv3', 'model': 'RN50x4', 'num_iterations': 512, 'objective': 'channel', 'optimizer': 'AdamW', 'random_seed': 18630595, 'use_std_transforms': True, 'use_transforms': True, 'visualization_layer': 'layer4_5_conv3'}\n",
      "2023-12-04 19:02:20,634 [Thread-226 (] [INFO ]  Setting random seed to 18630595\n",
      "2023-12-04 19:02:20,636 [Thread-226 (] [INFO ]  Loading CLIP model [ RN50x4 ].\n",
      "2023-12-04 19:02:25,106 [Thread-226 (] [INFO ]  Finished loading model [ RN50x4 ]\n",
      "2023-12-04 19:02:25,108 [Thread-226 (] [INFO ]  Finished loading transforms [ Compose(\n",
      "    Resize(size=288, interpolation=bicubic, max_size=None, antialias=warn)\n",
      "    CenterCrop(size=(288, 288))\n",
      "    Normalize(mean=(0.48145466, 0.4578275, 0.40821073), std=(0.26862954, 0.26130258, 0.27577711))\n",
      ") ]\n",
      "2023-12-04 19:02:25,109 [Thread-226 (] [INFO ]  Registering hooks.\n",
      "2023-12-04 19:02:25,112 [Thread-226 (] [INFO ]  Finished registering hooks.\n",
      "2023-12-04 19:02:25,116 [Thread-226 (] [INFO ]  Retrieving weights of linear probe [ path = /apps/11785-f23-prj/faceted_visualization/probes/logs/flower/RN50x4/layer2_5_conv3/version_4_20/model_checkpoint.pth ]\n",
      "2023-12-04 19:02:25,120 [Thread-226 (] [INFO ]  Final list of transforms = [Resize(size=288, interpolation=bicubic, max_size=None, antialias=warn), CenterCrop(size=(288, 288)), Normalize(mean=(0.48145466, 0.4578275, 0.40821073), std=(0.26862954, 0.26130258, 0.27577711)), RandomAffine(degrees=[0.0, 0.0], translate=(0.03, 0.03), interpolation=InterpolationMode.NEAREST, fill=0), RandomAffine(degrees=[0.0, 0.0], scale=(0.9, 1.1), interpolation=InterpolationMode.NEAREST, fill=0), RandomRotation(degrees=[-10.0, 10.0], interpolation=InterpolationMode.NEAREST, expand=False, fill=0), RandomAffine(degrees=[0.0, 0.0], translate=(0.015, 0.015), interpolation=InterpolationMode.NEAREST, fill=0)]\n",
      "2023-12-04 19:02:25,121 [Thread-226 (] [INFO ]  Starting optimization process [ run_id = gshy92c1 ]...\n",
      "/opt/conda/lib/python3.10/site-packages/torchvision/transforms/functional.py:1603: UserWarning: The default value of the antialias parameter of all the resizing transforms (Resize(), RandomResizedCrop(), etc.) will change from None to True in v0.17, in order to be consistent across the PIL and Tensor backends. To suppress this warning, directly pass antialias=True (recommended, future default), antialias=None (current default, which means False for Tensors and True for PIL), or antialias=False (only works on Tensors - PIL will still use antialiasing). This also applies if you are using the inference transforms from the models weights: update the call to weights.transforms(antialias=True).\n",
      "  warnings.warn(\n",
      "2023-12-04 19:02:25,170 [Thread-226 (] [INFO ]  Epoch: 1/512: Loss = 0.0558777 :: Learning Rate = 0.0500000\n",
      "2023-12-04 19:02:29,987 [Thread-226 (] [INFO ]  Epoch: 101/512: Loss = -0.0986328 :: Learning Rate = 0.0500000\n",
      "2023-12-04 19:02:34,797 [Thread-226 (] [INFO ]  Epoch: 201/512: Loss = -0.1781006 :: Learning Rate = 0.0500000\n",
      "2023-12-04 19:02:39,570 [Thread-226 (] [INFO ]  Epoch: 301/512: Loss = -0.2766113 :: Learning Rate = 0.0500000\n",
      "2023-12-04 19:02:44,593 [Thread-226 (] [INFO ]  Epoch: 401/512: Loss = -0.3818359 :: Learning Rate = 0.0500000\n",
      "2023-12-04 19:02:49,385 [Thread-226 (] [INFO ]  Epoch: 501/512: Loss = -0.3771973 :: Learning Rate = 0.0500000\n",
      "2023-12-04 19:02:49,923 [Thread-226 (] [INFO ]  Epoch: 512/512: Loss = -0.3979492 :: Learning Rate = 0.0500000\n",
      "2023-12-04 19:02:49,947 [Thread-226 (] [INFO ]  Completed run [ gshy92c1 ]\n"
     ]
    },
    {
     "data": {
      "application/vnd.jupyter.widget-view+json": {
       "model_id": "",
       "version_major": 2,
       "version_minor": 0
      },
      "text/plain": [
       "VBox(children=(Label(value='1.293 MB of 1.293 MB uploaded\\r'), FloatProgress(value=1.0, max=1.0)))"
      ]
     },
     "metadata": {},
     "output_type": "display_data"
    },
    {
     "data": {
      "text/html": [
       "<style>\n",
       "    table.wandb td:nth-child(1) { padding: 0 10px; text-align: left ; width: auto;} td:nth-child(2) {text-align: left ; width: 100%}\n",
       "    .wandb-row { display: flex; flex-direction: row; flex-wrap: wrap; justify-content: flex-start; width: 100% }\n",
       "    .wandb-col { display: flex; flex-direction: column; flex-basis: 100%; flex: 1; padding: 10px; }\n",
       "    </style>\n",
       "<div class=\"wandb-row\"><div class=\"wandb-col\"><h3>Run history:</h3><br/><table class=\"wandb\"><tr><td>loss</td><td>█▆▄▃▁▁▁</td></tr></table><br/></div><div class=\"wandb-col\"><h3>Run summary:</h3><br/><table class=\"wandb\"><tr><td>loss</td><td>-0.39795</td></tr></table><br/></div></div>"
      ],
      "text/plain": [
       "<IPython.core.display.HTML object>"
      ]
     },
     "metadata": {},
     "output_type": "display_data"
    },
    {
     "data": {
      "text/html": [
       " View run <strong style=\"color:#cdcd00\">noble-sweep-74</strong> at: <a href='https://wandb.ai/rohanprasad/idl-project-flowers-facet/runs/gshy92c1' target=\"_blank\">https://wandb.ai/rohanprasad/idl-project-flowers-facet/runs/gshy92c1</a><br/>Synced 6 W&B file(s), 7 media file(s), 0 artifact file(s) and 0 other file(s)"
      ],
      "text/plain": [
       "<IPython.core.display.HTML object>"
      ]
     },
     "metadata": {},
     "output_type": "display_data"
    },
    {
     "data": {
      "text/html": [
       "Find logs at: <code>./wandb/run-20231204_190210-gshy92c1/logs</code>"
      ],
      "text/plain": [
       "<IPython.core.display.HTML object>"
      ]
     },
     "metadata": {},
     "output_type": "display_data"
    },
    {
     "name": "stderr",
     "output_type": "stream",
     "text": [
      "\u001b[34m\u001b[1mwandb\u001b[0m: Agent Starting Run: r123zd4k with config:\n",
      "\u001b[34m\u001b[1mwandb\u001b[0m: \tchannel: 2560\n",
      "\u001b[34m\u001b[1mwandb\u001b[0m: \tlearning_rate: 0.05\n",
      "\u001b[34m\u001b[1mwandb\u001b[0m: \tlinear_probe_layer: layer2_5_relu3\n",
      "\u001b[34m\u001b[1mwandb\u001b[0m: \tmodel: RN50x4\n",
      "\u001b[34m\u001b[1mwandb\u001b[0m: \tnum_iterations: 512\n",
      "\u001b[34m\u001b[1mwandb\u001b[0m: \tobjective: neuron\n",
      "\u001b[34m\u001b[1mwandb\u001b[0m: \toptimizer: AdamW\n",
      "\u001b[34m\u001b[1mwandb\u001b[0m: \trandom_seed: 18630595\n",
      "\u001b[34m\u001b[1mwandb\u001b[0m: \tuse_std_transforms: True\n",
      "\u001b[34m\u001b[1mwandb\u001b[0m: \tuse_transforms: True\n",
      "\u001b[34m\u001b[1mwandb\u001b[0m: \tvisualization_layer: layer4_5_conv3\n"
     ]
    },
    {
     "data": {
      "text/html": [
       "Tracking run with wandb version 0.16.0"
      ],
      "text/plain": [
       "<IPython.core.display.HTML object>"
      ]
     },
     "metadata": {},
     "output_type": "display_data"
    },
    {
     "data": {
      "text/html": [
       "Run data is saved locally in <code>/apps/11785-f23-prj/wandb/run-20231204_190256-r123zd4k</code>"
      ],
      "text/plain": [
       "<IPython.core.display.HTML object>"
      ]
     },
     "metadata": {},
     "output_type": "display_data"
    },
    {
     "data": {
      "text/html": [
       "Syncing run <strong><a href='https://wandb.ai/rohanprasad/idl-project-flowers-facet/runs/r123zd4k' target=\"_blank\">lucky-sweep-75</a></strong> to <a href='https://wandb.ai/rohanprasad/idl-project-flowers-facet' target=\"_blank\">Weights & Biases</a> (<a href='https://wandb.me/run' target=\"_blank\">docs</a>)<br/>Sweep page: <a href='https://wandb.ai/rohanprasad/idl-project-flowers-facet/sweeps/cuq4fdws' target=\"_blank\">https://wandb.ai/rohanprasad/idl-project-flowers-facet/sweeps/cuq4fdws</a>"
      ],
      "text/plain": [
       "<IPython.core.display.HTML object>"
      ]
     },
     "metadata": {},
     "output_type": "display_data"
    },
    {
     "data": {
      "text/html": [
       " View project at <a href='https://wandb.ai/rohanprasad/idl-project-flowers-facet' target=\"_blank\">https://wandb.ai/rohanprasad/idl-project-flowers-facet</a>"
      ],
      "text/plain": [
       "<IPython.core.display.HTML object>"
      ]
     },
     "metadata": {},
     "output_type": "display_data"
    },
    {
     "data": {
      "text/html": [
       " View sweep at <a href='https://wandb.ai/rohanprasad/idl-project-flowers-facet/sweeps/cuq4fdws' target=\"_blank\">https://wandb.ai/rohanprasad/idl-project-flowers-facet/sweeps/cuq4fdws</a>"
      ],
      "text/plain": [
       "<IPython.core.display.HTML object>"
      ]
     },
     "metadata": {},
     "output_type": "display_data"
    },
    {
     "data": {
      "text/html": [
       " View run at <a href='https://wandb.ai/rohanprasad/idl-project-flowers-facet/runs/r123zd4k' target=\"_blank\">https://wandb.ai/rohanprasad/idl-project-flowers-facet/runs/r123zd4k</a>"
      ],
      "text/plain": [
       "<IPython.core.display.HTML object>"
      ]
     },
     "metadata": {},
     "output_type": "display_data"
    },
    {
     "name": "stderr",
     "output_type": "stream",
     "text": [
      "2023-12-04 19:03:07,068 [Thread-229 (] [INFO ]  Starting sweep [ run  r123zd4k ] with config = \n",
      "{'channel': 2560, 'learning_rate': 0.05, 'linear_probe_layer': 'layer2_5_relu3', 'model': 'RN50x4', 'num_iterations': 512, 'objective': 'neuron', 'optimizer': 'AdamW', 'random_seed': 18630595, 'use_std_transforms': True, 'use_transforms': True, 'visualization_layer': 'layer4_5_conv3'}\n",
      "2023-12-04 19:03:07,069 [Thread-229 (] [INFO ]  Setting random seed to 18630595\n",
      "2023-12-04 19:03:07,071 [Thread-229 (] [INFO ]  Loading CLIP model [ RN50x4 ].\n",
      "2023-12-04 19:03:11,578 [Thread-229 (] [INFO ]  Finished loading model [ RN50x4 ]\n",
      "2023-12-04 19:03:11,580 [Thread-229 (] [INFO ]  Finished loading transforms [ Compose(\n",
      "    Resize(size=288, interpolation=bicubic, max_size=None, antialias=warn)\n",
      "    CenterCrop(size=(288, 288))\n",
      "    Normalize(mean=(0.48145466, 0.4578275, 0.40821073), std=(0.26862954, 0.26130258, 0.27577711))\n",
      ") ]\n",
      "2023-12-04 19:03:11,580 [Thread-229 (] [INFO ]  Registering hooks.\n",
      "2023-12-04 19:03:11,583 [Thread-229 (] [INFO ]  Finished registering hooks.\n",
      "2023-12-04 19:03:11,588 [Thread-229 (] [INFO ]  Retrieving weights of linear probe [ path = /apps/11785-f23-prj/faceted_visualization/probes/logs/flower/RN50x4/layer2_5_relu3/version_4_20/model_checkpoint.pth ]\n",
      "2023-12-04 19:03:11,593 [Thread-229 (] [INFO ]  Final list of transforms = [Resize(size=288, interpolation=bicubic, max_size=None, antialias=warn), CenterCrop(size=(288, 288)), Normalize(mean=(0.48145466, 0.4578275, 0.40821073), std=(0.26862954, 0.26130258, 0.27577711)), RandomAffine(degrees=[0.0, 0.0], translate=(0.03, 0.03), interpolation=InterpolationMode.NEAREST, fill=0), RandomAffine(degrees=[0.0, 0.0], scale=(0.9, 1.1), interpolation=InterpolationMode.NEAREST, fill=0), RandomRotation(degrees=[-10.0, 10.0], interpolation=InterpolationMode.NEAREST, expand=False, fill=0), RandomAffine(degrees=[0.0, 0.0], translate=(0.015, 0.015), interpolation=InterpolationMode.NEAREST, fill=0)]\n",
      "2023-12-04 19:03:11,594 [Thread-229 (] [INFO ]  Starting optimization process [ run_id = r123zd4k ]...\n",
      "/opt/conda/lib/python3.10/site-packages/torchvision/transforms/functional.py:1603: UserWarning: The default value of the antialias parameter of all the resizing transforms (Resize(), RandomResizedCrop(), etc.) will change from None to True in v0.17, in order to be consistent across the PIL and Tensor backends. To suppress this warning, directly pass antialias=True (recommended, future default), antialias=None (current default, which means False for Tensors and True for PIL), or antialias=False (only works on Tensors - PIL will still use antialiasing). This also applies if you are using the inference transforms from the models weights: update the call to weights.transforms(antialias=True).\n",
      "  warnings.warn(\n",
      "2023-12-04 19:03:11,644 [Thread-229 (] [INFO ]  Epoch: 1/512: Loss = -2.5019531 :: Learning Rate = 0.0500000\n",
      "2023-12-04 19:03:16,271 [Thread-229 (] [INFO ]  Epoch: 101/512: Loss = -2.5136719 :: Learning Rate = 0.0500000\n",
      "2023-12-04 19:03:20,962 [Thread-229 (] [INFO ]  Epoch: 201/512: Loss = 0.4863281 :: Learning Rate = 0.0500000\n",
      "2023-12-04 19:03:25,787 [Thread-229 (] [INFO ]  Epoch: 301/512: Loss = -5.1406250 :: Learning Rate = 0.0500000\n",
      "2023-12-04 19:03:30,515 [Thread-229 (] [INFO ]  Epoch: 401/512: Loss = -2.1679688 :: Learning Rate = 0.0500000\n",
      "2023-12-04 19:03:35,292 [Thread-229 (] [INFO ]  Epoch: 501/512: Loss = -4.7031250 :: Learning Rate = 0.0500000\n",
      "2023-12-04 19:03:35,818 [Thread-229 (] [INFO ]  Epoch: 512/512: Loss = -5.2460938 :: Learning Rate = 0.0500000\n",
      "2023-12-04 19:03:35,842 [Thread-229 (] [INFO ]  Completed run [ r123zd4k ]\n"
     ]
    },
    {
     "data": {
      "application/vnd.jupyter.widget-view+json": {
       "model_id": "",
       "version_major": 2,
       "version_minor": 0
      },
      "text/plain": [
       "VBox(children=(Label(value='1.208 MB of 1.208 MB uploaded\\r'), FloatProgress(value=1.0, max=1.0)))"
      ]
     },
     "metadata": {},
     "output_type": "display_data"
    },
    {
     "data": {
      "text/html": [
       "<style>\n",
       "    table.wandb td:nth-child(1) { padding: 0 10px; text-align: left ; width: auto;} td:nth-child(2) {text-align: left ; width: 100%}\n",
       "    .wandb-row { display: flex; flex-direction: row; flex-wrap: wrap; justify-content: flex-start; width: 100% }\n",
       "    .wandb-col { display: flex; flex-direction: column; flex-basis: 100%; flex: 1; padding: 10px; }\n",
       "    </style>\n",
       "<div class=\"wandb-row\"><div class=\"wandb-col\"><h3>Run history:</h3><br/><table class=\"wandb\"><tr><td>loss</td><td>▄▄█▁▅▂▁</td></tr></table><br/></div><div class=\"wandb-col\"><h3>Run summary:</h3><br/><table class=\"wandb\"><tr><td>loss</td><td>-5.24609</td></tr></table><br/></div></div>"
      ],
      "text/plain": [
       "<IPython.core.display.HTML object>"
      ]
     },
     "metadata": {},
     "output_type": "display_data"
    },
    {
     "data": {
      "text/html": [
       " View run <strong style=\"color:#cdcd00\">lucky-sweep-75</strong> at: <a href='https://wandb.ai/rohanprasad/idl-project-flowers-facet/runs/r123zd4k' target=\"_blank\">https://wandb.ai/rohanprasad/idl-project-flowers-facet/runs/r123zd4k</a><br/>Synced 6 W&B file(s), 7 media file(s), 0 artifact file(s) and 0 other file(s)"
      ],
      "text/plain": [
       "<IPython.core.display.HTML object>"
      ]
     },
     "metadata": {},
     "output_type": "display_data"
    },
    {
     "data": {
      "text/html": [
       "Find logs at: <code>./wandb/run-20231204_190256-r123zd4k/logs</code>"
      ],
      "text/plain": [
       "<IPython.core.display.HTML object>"
      ]
     },
     "metadata": {},
     "output_type": "display_data"
    },
    {
     "name": "stderr",
     "output_type": "stream",
     "text": [
      "\u001b[34m\u001b[1mwandb\u001b[0m: Agent Starting Run: wrqbpus0 with config:\n",
      "\u001b[34m\u001b[1mwandb\u001b[0m: \tchannel: 2560\n",
      "\u001b[34m\u001b[1mwandb\u001b[0m: \tlearning_rate: 0.05\n",
      "\u001b[34m\u001b[1mwandb\u001b[0m: \tlinear_probe_layer: layer2_5_relu3\n",
      "\u001b[34m\u001b[1mwandb\u001b[0m: \tmodel: RN50x4\n",
      "\u001b[34m\u001b[1mwandb\u001b[0m: \tnum_iterations: 512\n",
      "\u001b[34m\u001b[1mwandb\u001b[0m: \tobjective: channel\n",
      "\u001b[34m\u001b[1mwandb\u001b[0m: \toptimizer: AdamW\n",
      "\u001b[34m\u001b[1mwandb\u001b[0m: \trandom_seed: 18630595\n",
      "\u001b[34m\u001b[1mwandb\u001b[0m: \tuse_std_transforms: True\n",
      "\u001b[34m\u001b[1mwandb\u001b[0m: \tuse_transforms: True\n",
      "\u001b[34m\u001b[1mwandb\u001b[0m: \tvisualization_layer: layer4_5_conv3\n"
     ]
    },
    {
     "data": {
      "text/html": [
       "Tracking run with wandb version 0.16.0"
      ],
      "text/plain": [
       "<IPython.core.display.HTML object>"
      ]
     },
     "metadata": {},
     "output_type": "display_data"
    },
    {
     "data": {
      "text/html": [
       "Run data is saved locally in <code>/apps/11785-f23-prj/wandb/run-20231204_190342-wrqbpus0</code>"
      ],
      "text/plain": [
       "<IPython.core.display.HTML object>"
      ]
     },
     "metadata": {},
     "output_type": "display_data"
    },
    {
     "data": {
      "text/html": [
       "Syncing run <strong><a href='https://wandb.ai/rohanprasad/idl-project-flowers-facet/runs/wrqbpus0' target=\"_blank\">earthy-sweep-76</a></strong> to <a href='https://wandb.ai/rohanprasad/idl-project-flowers-facet' target=\"_blank\">Weights & Biases</a> (<a href='https://wandb.me/run' target=\"_blank\">docs</a>)<br/>Sweep page: <a href='https://wandb.ai/rohanprasad/idl-project-flowers-facet/sweeps/cuq4fdws' target=\"_blank\">https://wandb.ai/rohanprasad/idl-project-flowers-facet/sweeps/cuq4fdws</a>"
      ],
      "text/plain": [
       "<IPython.core.display.HTML object>"
      ]
     },
     "metadata": {},
     "output_type": "display_data"
    },
    {
     "data": {
      "text/html": [
       " View project at <a href='https://wandb.ai/rohanprasad/idl-project-flowers-facet' target=\"_blank\">https://wandb.ai/rohanprasad/idl-project-flowers-facet</a>"
      ],
      "text/plain": [
       "<IPython.core.display.HTML object>"
      ]
     },
     "metadata": {},
     "output_type": "display_data"
    },
    {
     "data": {
      "text/html": [
       " View sweep at <a href='https://wandb.ai/rohanprasad/idl-project-flowers-facet/sweeps/cuq4fdws' target=\"_blank\">https://wandb.ai/rohanprasad/idl-project-flowers-facet/sweeps/cuq4fdws</a>"
      ],
      "text/plain": [
       "<IPython.core.display.HTML object>"
      ]
     },
     "metadata": {},
     "output_type": "display_data"
    },
    {
     "data": {
      "text/html": [
       " View run at <a href='https://wandb.ai/rohanprasad/idl-project-flowers-facet/runs/wrqbpus0' target=\"_blank\">https://wandb.ai/rohanprasad/idl-project-flowers-facet/runs/wrqbpus0</a>"
      ],
      "text/plain": [
       "<IPython.core.display.HTML object>"
      ]
     },
     "metadata": {},
     "output_type": "display_data"
    },
    {
     "name": "stderr",
     "output_type": "stream",
     "text": [
      "2023-12-04 19:03:53,328 [Thread-232 (] [INFO ]  Starting sweep [ run  wrqbpus0 ] with config = \n",
      "{'channel': 2560, 'learning_rate': 0.05, 'linear_probe_layer': 'layer2_5_relu3', 'model': 'RN50x4', 'num_iterations': 512, 'objective': 'channel', 'optimizer': 'AdamW', 'random_seed': 18630595, 'use_std_transforms': True, 'use_transforms': True, 'visualization_layer': 'layer4_5_conv3'}\n",
      "2023-12-04 19:03:53,329 [Thread-232 (] [INFO ]  Setting random seed to 18630595\n",
      "2023-12-04 19:03:53,330 [Thread-232 (] [INFO ]  Loading CLIP model [ RN50x4 ].\n",
      "2023-12-04 19:03:57,837 [Thread-232 (] [INFO ]  Finished loading model [ RN50x4 ]\n",
      "2023-12-04 19:03:57,839 [Thread-232 (] [INFO ]  Finished loading transforms [ Compose(\n",
      "    Resize(size=288, interpolation=bicubic, max_size=None, antialias=warn)\n",
      "    CenterCrop(size=(288, 288))\n",
      "    Normalize(mean=(0.48145466, 0.4578275, 0.40821073), std=(0.26862954, 0.26130258, 0.27577711))\n",
      ") ]\n",
      "2023-12-04 19:03:57,840 [Thread-232 (] [INFO ]  Registering hooks.\n",
      "2023-12-04 19:03:57,843 [Thread-232 (] [INFO ]  Finished registering hooks.\n",
      "2023-12-04 19:03:57,847 [Thread-232 (] [INFO ]  Retrieving weights of linear probe [ path = /apps/11785-f23-prj/faceted_visualization/probes/logs/flower/RN50x4/layer2_5_relu3/version_4_20/model_checkpoint.pth ]\n",
      "2023-12-04 19:03:57,851 [Thread-232 (] [INFO ]  Final list of transforms = [Resize(size=288, interpolation=bicubic, max_size=None, antialias=warn), CenterCrop(size=(288, 288)), Normalize(mean=(0.48145466, 0.4578275, 0.40821073), std=(0.26862954, 0.26130258, 0.27577711)), RandomAffine(degrees=[0.0, 0.0], translate=(0.03, 0.03), interpolation=InterpolationMode.NEAREST, fill=0), RandomAffine(degrees=[0.0, 0.0], scale=(0.9, 1.1), interpolation=InterpolationMode.NEAREST, fill=0), RandomRotation(degrees=[-10.0, 10.0], interpolation=InterpolationMode.NEAREST, expand=False, fill=0), RandomAffine(degrees=[0.0, 0.0], translate=(0.015, 0.015), interpolation=InterpolationMode.NEAREST, fill=0)]\n",
      "2023-12-04 19:03:57,853 [Thread-232 (] [INFO ]  Starting optimization process [ run_id = wrqbpus0 ]...\n",
      "/opt/conda/lib/python3.10/site-packages/torchvision/transforms/functional.py:1603: UserWarning: The default value of the antialias parameter of all the resizing transforms (Resize(), RandomResizedCrop(), etc.) will change from None to True in v0.17, in order to be consistent across the PIL and Tensor backends. To suppress this warning, directly pass antialias=True (recommended, future default), antialias=None (current default, which means False for Tensors and True for PIL), or antialias=False (only works on Tensors - PIL will still use antialiasing). This also applies if you are using the inference transforms from the models weights: update the call to weights.transforms(antialias=True).\n",
      "  warnings.warn(\n",
      "2023-12-04 19:03:57,901 [Thread-232 (] [INFO ]  Epoch: 1/512: Loss = -2.5214844 :: Learning Rate = 0.0500000\n",
      "2023-12-04 19:04:02,511 [Thread-232 (] [INFO ]  Epoch: 101/512: Loss = -2.6093750 :: Learning Rate = 0.0500000\n",
      "2023-12-04 19:04:07,148 [Thread-232 (] [INFO ]  Epoch: 201/512: Loss = -0.3933105 :: Learning Rate = 0.0500000\n",
      "2023-12-04 19:04:11,810 [Thread-232 (] [INFO ]  Epoch: 301/512: Loss = -2.5566406 :: Learning Rate = 0.0500000\n",
      "2023-12-04 19:04:16,530 [Thread-232 (] [INFO ]  Epoch: 401/512: Loss = -3.8476562 :: Learning Rate = 0.0500000\n",
      "2023-12-04 19:04:21,309 [Thread-232 (] [INFO ]  Epoch: 501/512: Loss = -3.8476562 :: Learning Rate = 0.0500000\n",
      "2023-12-04 19:04:21,869 [Thread-232 (] [INFO ]  Epoch: 512/512: Loss = -4.1015625 :: Learning Rate = 0.0500000\n",
      "2023-12-04 19:04:21,893 [Thread-232 (] [INFO ]  Completed run [ wrqbpus0 ]\n"
     ]
    },
    {
     "data": {
      "application/vnd.jupyter.widget-view+json": {
       "model_id": "",
       "version_major": 2,
       "version_minor": 0
      },
      "text/plain": [
       "VBox(children=(Label(value='1.215 MB of 1.215 MB uploaded\\r'), FloatProgress(value=1.0, max=1.0)))"
      ]
     },
     "metadata": {},
     "output_type": "display_data"
    },
    {
     "data": {
      "text/html": [
       "<style>\n",
       "    table.wandb td:nth-child(1) { padding: 0 10px; text-align: left ; width: auto;} td:nth-child(2) {text-align: left ; width: 100%}\n",
       "    .wandb-row { display: flex; flex-direction: row; flex-wrap: wrap; justify-content: flex-start; width: 100% }\n",
       "    .wandb-col { display: flex; flex-direction: column; flex-basis: 100%; flex: 1; padding: 10px; }\n",
       "    </style>\n",
       "<div class=\"wandb-row\"><div class=\"wandb-col\"><h3>Run history:</h3><br/><table class=\"wandb\"><tr><td>loss</td><td>▄▄█▄▁▁▁</td></tr></table><br/></div><div class=\"wandb-col\"><h3>Run summary:</h3><br/><table class=\"wandb\"><tr><td>loss</td><td>-4.10156</td></tr></table><br/></div></div>"
      ],
      "text/plain": [
       "<IPython.core.display.HTML object>"
      ]
     },
     "metadata": {},
     "output_type": "display_data"
    },
    {
     "data": {
      "text/html": [
       " View run <strong style=\"color:#cdcd00\">earthy-sweep-76</strong> at: <a href='https://wandb.ai/rohanprasad/idl-project-flowers-facet/runs/wrqbpus0' target=\"_blank\">https://wandb.ai/rohanprasad/idl-project-flowers-facet/runs/wrqbpus0</a><br/>Synced 6 W&B file(s), 7 media file(s), 0 artifact file(s) and 0 other file(s)"
      ],
      "text/plain": [
       "<IPython.core.display.HTML object>"
      ]
     },
     "metadata": {},
     "output_type": "display_data"
    },
    {
     "data": {
      "text/html": [
       "Find logs at: <code>./wandb/run-20231204_190342-wrqbpus0/logs</code>"
      ],
      "text/plain": [
       "<IPython.core.display.HTML object>"
      ]
     },
     "metadata": {},
     "output_type": "display_data"
    },
    {
     "name": "stderr",
     "output_type": "stream",
     "text": [
      "\u001b[34m\u001b[1mwandb\u001b[0m: Agent Starting Run: 8hihjams with config:\n",
      "\u001b[34m\u001b[1mwandb\u001b[0m: \tchannel: 2560\n",
      "\u001b[34m\u001b[1mwandb\u001b[0m: \tlearning_rate: 0.05\n",
      "\u001b[34m\u001b[1mwandb\u001b[0m: \tlinear_probe_layer: layer3_9_conv3\n",
      "\u001b[34m\u001b[1mwandb\u001b[0m: \tmodel: RN50x4\n",
      "\u001b[34m\u001b[1mwandb\u001b[0m: \tnum_iterations: 512\n",
      "\u001b[34m\u001b[1mwandb\u001b[0m: \tobjective: neuron\n",
      "\u001b[34m\u001b[1mwandb\u001b[0m: \toptimizer: AdamW\n",
      "\u001b[34m\u001b[1mwandb\u001b[0m: \trandom_seed: 18630595\n",
      "\u001b[34m\u001b[1mwandb\u001b[0m: \tuse_std_transforms: True\n",
      "\u001b[34m\u001b[1mwandb\u001b[0m: \tuse_transforms: True\n",
      "\u001b[34m\u001b[1mwandb\u001b[0m: \tvisualization_layer: layer4_5_conv3\n"
     ]
    },
    {
     "data": {
      "text/html": [
       "Tracking run with wandb version 0.16.0"
      ],
      "text/plain": [
       "<IPython.core.display.HTML object>"
      ]
     },
     "metadata": {},
     "output_type": "display_data"
    },
    {
     "data": {
      "text/html": [
       "Run data is saved locally in <code>/apps/11785-f23-prj/wandb/run-20231204_190428-8hihjams</code>"
      ],
      "text/plain": [
       "<IPython.core.display.HTML object>"
      ]
     },
     "metadata": {},
     "output_type": "display_data"
    },
    {
     "data": {
      "text/html": [
       "Syncing run <strong><a href='https://wandb.ai/rohanprasad/idl-project-flowers-facet/runs/8hihjams' target=\"_blank\">restful-sweep-77</a></strong> to <a href='https://wandb.ai/rohanprasad/idl-project-flowers-facet' target=\"_blank\">Weights & Biases</a> (<a href='https://wandb.me/run' target=\"_blank\">docs</a>)<br/>Sweep page: <a href='https://wandb.ai/rohanprasad/idl-project-flowers-facet/sweeps/cuq4fdws' target=\"_blank\">https://wandb.ai/rohanprasad/idl-project-flowers-facet/sweeps/cuq4fdws</a>"
      ],
      "text/plain": [
       "<IPython.core.display.HTML object>"
      ]
     },
     "metadata": {},
     "output_type": "display_data"
    },
    {
     "data": {
      "text/html": [
       " View project at <a href='https://wandb.ai/rohanprasad/idl-project-flowers-facet' target=\"_blank\">https://wandb.ai/rohanprasad/idl-project-flowers-facet</a>"
      ],
      "text/plain": [
       "<IPython.core.display.HTML object>"
      ]
     },
     "metadata": {},
     "output_type": "display_data"
    },
    {
     "data": {
      "text/html": [
       " View sweep at <a href='https://wandb.ai/rohanprasad/idl-project-flowers-facet/sweeps/cuq4fdws' target=\"_blank\">https://wandb.ai/rohanprasad/idl-project-flowers-facet/sweeps/cuq4fdws</a>"
      ],
      "text/plain": [
       "<IPython.core.display.HTML object>"
      ]
     },
     "metadata": {},
     "output_type": "display_data"
    },
    {
     "data": {
      "text/html": [
       " View run at <a href='https://wandb.ai/rohanprasad/idl-project-flowers-facet/runs/8hihjams' target=\"_blank\">https://wandb.ai/rohanprasad/idl-project-flowers-facet/runs/8hihjams</a>"
      ],
      "text/plain": [
       "<IPython.core.display.HTML object>"
      ]
     },
     "metadata": {},
     "output_type": "display_data"
    },
    {
     "name": "stderr",
     "output_type": "stream",
     "text": [
      "2023-12-04 19:04:39,187 [Thread-235 (] [INFO ]  Starting sweep [ run  8hihjams ] with config = \n",
      "{'channel': 2560, 'learning_rate': 0.05, 'linear_probe_layer': 'layer3_9_conv3', 'model': 'RN50x4', 'num_iterations': 512, 'objective': 'neuron', 'optimizer': 'AdamW', 'random_seed': 18630595, 'use_std_transforms': True, 'use_transforms': True, 'visualization_layer': 'layer4_5_conv3'}\n",
      "2023-12-04 19:04:39,188 [Thread-235 (] [INFO ]  Setting random seed to 18630595\n",
      "2023-12-04 19:04:39,189 [Thread-235 (] [INFO ]  Loading CLIP model [ RN50x4 ].\n",
      "2023-12-04 19:04:43,661 [Thread-235 (] [INFO ]  Finished loading model [ RN50x4 ]\n",
      "2023-12-04 19:04:43,663 [Thread-235 (] [INFO ]  Finished loading transforms [ Compose(\n",
      "    Resize(size=288, interpolation=bicubic, max_size=None, antialias=warn)\n",
      "    CenterCrop(size=(288, 288))\n",
      "    Normalize(mean=(0.48145466, 0.4578275, 0.40821073), std=(0.26862954, 0.26130258, 0.27577711))\n",
      ") ]\n",
      "2023-12-04 19:04:43,664 [Thread-235 (] [INFO ]  Registering hooks.\n",
      "2023-12-04 19:04:43,667 [Thread-235 (] [INFO ]  Finished registering hooks.\n",
      "2023-12-04 19:04:43,671 [Thread-235 (] [INFO ]  Retrieving weights of linear probe [ path = /apps/11785-f23-prj/faceted_visualization/probes/logs/flower/RN50x4/layer3_9_conv3/version_4_20/model_checkpoint.pth ]\n",
      "2023-12-04 19:04:43,674 [Thread-235 (] [INFO ]  Final list of transforms = [Resize(size=288, interpolation=bicubic, max_size=None, antialias=warn), CenterCrop(size=(288, 288)), Normalize(mean=(0.48145466, 0.4578275, 0.40821073), std=(0.26862954, 0.26130258, 0.27577711)), RandomAffine(degrees=[0.0, 0.0], translate=(0.03, 0.03), interpolation=InterpolationMode.NEAREST, fill=0), RandomAffine(degrees=[0.0, 0.0], scale=(0.9, 1.1), interpolation=InterpolationMode.NEAREST, fill=0), RandomRotation(degrees=[-10.0, 10.0], interpolation=InterpolationMode.NEAREST, expand=False, fill=0), RandomAffine(degrees=[0.0, 0.0], translate=(0.015, 0.015), interpolation=InterpolationMode.NEAREST, fill=0)]\n",
      "2023-12-04 19:04:43,675 [Thread-235 (] [INFO ]  Starting optimization process [ run_id = 8hihjams ]...\n",
      "/opt/conda/lib/python3.10/site-packages/torchvision/transforms/functional.py:1603: UserWarning: The default value of the antialias parameter of all the resizing transforms (Resize(), RandomResizedCrop(), etc.) will change from None to True in v0.17, in order to be consistent across the PIL and Tensor backends. To suppress this warning, directly pass antialias=True (recommended, future default), antialias=None (current default, which means False for Tensors and True for PIL), or antialias=False (only works on Tensors - PIL will still use antialiasing). This also applies if you are using the inference transforms from the models weights: update the call to weights.transforms(antialias=True).\n",
      "  warnings.warn(\n",
      "2023-12-04 19:04:43,720 [Thread-235 (] [INFO ]  Epoch: 1/512: Loss = 0.0894165 :: Learning Rate = 0.0500000\n",
      "2023-12-04 19:04:47,911 [Thread-235 (] [INFO ]  Epoch: 101/512: Loss = -0.3137207 :: Learning Rate = 0.0500000\n",
      "2023-12-04 19:04:52,110 [Thread-235 (] [INFO ]  Epoch: 201/512: Loss = -0.5830078 :: Learning Rate = 0.0500000\n",
      "2023-12-04 19:04:56,384 [Thread-235 (] [INFO ]  Epoch: 301/512: Loss = -0.5864258 :: Learning Rate = 0.0500000\n",
      "2023-12-04 19:05:00,620 [Thread-235 (] [INFO ]  Epoch: 401/512: Loss = -0.7856445 :: Learning Rate = 0.0500000\n",
      "2023-12-04 19:05:04,898 [Thread-235 (] [INFO ]  Epoch: 501/512: Loss = -0.6606445 :: Learning Rate = 0.0500000\n",
      "2023-12-04 19:05:05,380 [Thread-235 (] [INFO ]  Epoch: 512/512: Loss = -0.8041992 :: Learning Rate = 0.0500000\n",
      "2023-12-04 19:05:05,404 [Thread-235 (] [INFO ]  Completed run [ 8hihjams ]\n"
     ]
    },
    {
     "data": {
      "application/vnd.jupyter.widget-view+json": {
       "model_id": "",
       "version_major": 2,
       "version_minor": 0
      },
      "text/plain": [
       "VBox(children=(Label(value='1.186 MB of 1.186 MB uploaded\\r'), FloatProgress(value=1.0, max=1.0)))"
      ]
     },
     "metadata": {},
     "output_type": "display_data"
    },
    {
     "data": {
      "text/html": [
       "<style>\n",
       "    table.wandb td:nth-child(1) { padding: 0 10px; text-align: left ; width: auto;} td:nth-child(2) {text-align: left ; width: 100%}\n",
       "    .wandb-row { display: flex; flex-direction: row; flex-wrap: wrap; justify-content: flex-start; width: 100% }\n",
       "    .wandb-col { display: flex; flex-direction: column; flex-basis: 100%; flex: 1; padding: 10px; }\n",
       "    </style>\n",
       "<div class=\"wandb-row\"><div class=\"wandb-col\"><h3>Run history:</h3><br/><table class=\"wandb\"><tr><td>loss</td><td>█▅▃▃▁▂▁</td></tr></table><br/></div><div class=\"wandb-col\"><h3>Run summary:</h3><br/><table class=\"wandb\"><tr><td>loss</td><td>-0.8042</td></tr></table><br/></div></div>"
      ],
      "text/plain": [
       "<IPython.core.display.HTML object>"
      ]
     },
     "metadata": {},
     "output_type": "display_data"
    },
    {
     "data": {
      "text/html": [
       " View run <strong style=\"color:#cdcd00\">restful-sweep-77</strong> at: <a href='https://wandb.ai/rohanprasad/idl-project-flowers-facet/runs/8hihjams' target=\"_blank\">https://wandb.ai/rohanprasad/idl-project-flowers-facet/runs/8hihjams</a><br/>Synced 6 W&B file(s), 7 media file(s), 0 artifact file(s) and 0 other file(s)"
      ],
      "text/plain": [
       "<IPython.core.display.HTML object>"
      ]
     },
     "metadata": {},
     "output_type": "display_data"
    },
    {
     "data": {
      "text/html": [
       "Find logs at: <code>./wandb/run-20231204_190428-8hihjams/logs</code>"
      ],
      "text/plain": [
       "<IPython.core.display.HTML object>"
      ]
     },
     "metadata": {},
     "output_type": "display_data"
    },
    {
     "name": "stderr",
     "output_type": "stream",
     "text": [
      "\u001b[34m\u001b[1mwandb\u001b[0m: Agent Starting Run: eh8v0w2f with config:\n",
      "\u001b[34m\u001b[1mwandb\u001b[0m: \tchannel: 2560\n",
      "\u001b[34m\u001b[1mwandb\u001b[0m: \tlearning_rate: 0.05\n",
      "\u001b[34m\u001b[1mwandb\u001b[0m: \tlinear_probe_layer: layer3_9_conv3\n",
      "\u001b[34m\u001b[1mwandb\u001b[0m: \tmodel: RN50x4\n",
      "\u001b[34m\u001b[1mwandb\u001b[0m: \tnum_iterations: 512\n",
      "\u001b[34m\u001b[1mwandb\u001b[0m: \tobjective: channel\n",
      "\u001b[34m\u001b[1mwandb\u001b[0m: \toptimizer: AdamW\n",
      "\u001b[34m\u001b[1mwandb\u001b[0m: \trandom_seed: 18630595\n",
      "\u001b[34m\u001b[1mwandb\u001b[0m: \tuse_std_transforms: True\n",
      "\u001b[34m\u001b[1mwandb\u001b[0m: \tuse_transforms: True\n",
      "\u001b[34m\u001b[1mwandb\u001b[0m: \tvisualization_layer: layer4_5_conv3\n"
     ]
    },
    {
     "data": {
      "text/html": [
       "Tracking run with wandb version 0.16.0"
      ],
      "text/plain": [
       "<IPython.core.display.HTML object>"
      ]
     },
     "metadata": {},
     "output_type": "display_data"
    },
    {
     "data": {
      "text/html": [
       "Run data is saved locally in <code>/apps/11785-f23-prj/wandb/run-20231204_190513-eh8v0w2f</code>"
      ],
      "text/plain": [
       "<IPython.core.display.HTML object>"
      ]
     },
     "metadata": {},
     "output_type": "display_data"
    },
    {
     "data": {
      "text/html": [
       "Syncing run <strong><a href='https://wandb.ai/rohanprasad/idl-project-flowers-facet/runs/eh8v0w2f' target=\"_blank\">fiery-sweep-78</a></strong> to <a href='https://wandb.ai/rohanprasad/idl-project-flowers-facet' target=\"_blank\">Weights & Biases</a> (<a href='https://wandb.me/run' target=\"_blank\">docs</a>)<br/>Sweep page: <a href='https://wandb.ai/rohanprasad/idl-project-flowers-facet/sweeps/cuq4fdws' target=\"_blank\">https://wandb.ai/rohanprasad/idl-project-flowers-facet/sweeps/cuq4fdws</a>"
      ],
      "text/plain": [
       "<IPython.core.display.HTML object>"
      ]
     },
     "metadata": {},
     "output_type": "display_data"
    },
    {
     "data": {
      "text/html": [
       " View project at <a href='https://wandb.ai/rohanprasad/idl-project-flowers-facet' target=\"_blank\">https://wandb.ai/rohanprasad/idl-project-flowers-facet</a>"
      ],
      "text/plain": [
       "<IPython.core.display.HTML object>"
      ]
     },
     "metadata": {},
     "output_type": "display_data"
    },
    {
     "data": {
      "text/html": [
       " View sweep at <a href='https://wandb.ai/rohanprasad/idl-project-flowers-facet/sweeps/cuq4fdws' target=\"_blank\">https://wandb.ai/rohanprasad/idl-project-flowers-facet/sweeps/cuq4fdws</a>"
      ],
      "text/plain": [
       "<IPython.core.display.HTML object>"
      ]
     },
     "metadata": {},
     "output_type": "display_data"
    },
    {
     "data": {
      "text/html": [
       " View run at <a href='https://wandb.ai/rohanprasad/idl-project-flowers-facet/runs/eh8v0w2f' target=\"_blank\">https://wandb.ai/rohanprasad/idl-project-flowers-facet/runs/eh8v0w2f</a>"
      ],
      "text/plain": [
       "<IPython.core.display.HTML object>"
      ]
     },
     "metadata": {},
     "output_type": "display_data"
    },
    {
     "name": "stderr",
     "output_type": "stream",
     "text": [
      "2023-12-04 19:05:24,133 [Thread-238 (] [INFO ]  Starting sweep [ run  eh8v0w2f ] with config = \n",
      "{'channel': 2560, 'learning_rate': 0.05, 'linear_probe_layer': 'layer3_9_conv3', 'model': 'RN50x4', 'num_iterations': 512, 'objective': 'channel', 'optimizer': 'AdamW', 'random_seed': 18630595, 'use_std_transforms': True, 'use_transforms': True, 'visualization_layer': 'layer4_5_conv3'}\n",
      "2023-12-04 19:05:24,134 [Thread-238 (] [INFO ]  Setting random seed to 18630595\n",
      "2023-12-04 19:05:24,136 [Thread-238 (] [INFO ]  Loading CLIP model [ RN50x4 ].\n",
      "2023-12-04 19:05:28,633 [Thread-238 (] [INFO ]  Finished loading model [ RN50x4 ]\n",
      "2023-12-04 19:05:28,635 [Thread-238 (] [INFO ]  Finished loading transforms [ Compose(\n",
      "    Resize(size=288, interpolation=bicubic, max_size=None, antialias=warn)\n",
      "    CenterCrop(size=(288, 288))\n",
      "    Normalize(mean=(0.48145466, 0.4578275, 0.40821073), std=(0.26862954, 0.26130258, 0.27577711))\n",
      ") ]\n",
      "2023-12-04 19:05:28,636 [Thread-238 (] [INFO ]  Registering hooks.\n",
      "2023-12-04 19:05:28,639 [Thread-238 (] [INFO ]  Finished registering hooks.\n",
      "2023-12-04 19:05:28,644 [Thread-238 (] [INFO ]  Retrieving weights of linear probe [ path = /apps/11785-f23-prj/faceted_visualization/probes/logs/flower/RN50x4/layer3_9_conv3/version_4_20/model_checkpoint.pth ]\n",
      "2023-12-04 19:05:28,647 [Thread-238 (] [INFO ]  Final list of transforms = [Resize(size=288, interpolation=bicubic, max_size=None, antialias=warn), CenterCrop(size=(288, 288)), Normalize(mean=(0.48145466, 0.4578275, 0.40821073), std=(0.26862954, 0.26130258, 0.27577711)), RandomAffine(degrees=[0.0, 0.0], translate=(0.03, 0.03), interpolation=InterpolationMode.NEAREST, fill=0), RandomAffine(degrees=[0.0, 0.0], scale=(0.9, 1.1), interpolation=InterpolationMode.NEAREST, fill=0), RandomRotation(degrees=[-10.0, 10.0], interpolation=InterpolationMode.NEAREST, expand=False, fill=0), RandomAffine(degrees=[0.0, 0.0], translate=(0.015, 0.015), interpolation=InterpolationMode.NEAREST, fill=0)]\n",
      "2023-12-04 19:05:28,648 [Thread-238 (] [INFO ]  Starting optimization process [ run_id = eh8v0w2f ]...\n",
      "/opt/conda/lib/python3.10/site-packages/torchvision/transforms/functional.py:1603: UserWarning: The default value of the antialias parameter of all the resizing transforms (Resize(), RandomResizedCrop(), etc.) will change from None to True in v0.17, in order to be consistent across the PIL and Tensor backends. To suppress this warning, directly pass antialias=True (recommended, future default), antialias=None (current default, which means False for Tensors and True for PIL), or antialias=False (only works on Tensors - PIL will still use antialiasing). This also applies if you are using the inference transforms from the models weights: update the call to weights.transforms(antialias=True).\n",
      "  warnings.warn(\n",
      "2023-12-04 19:05:28,692 [Thread-238 (] [INFO ]  Epoch: 1/512: Loss = 0.0708008 :: Learning Rate = 0.0500000\n",
      "2023-12-04 19:05:32,919 [Thread-238 (] [INFO ]  Epoch: 101/512: Loss = -0.1821289 :: Learning Rate = 0.0500000\n",
      "2023-12-04 19:05:37,148 [Thread-238 (] [INFO ]  Epoch: 201/512: Loss = -0.2961426 :: Learning Rate = 0.0500000\n",
      "2023-12-04 19:05:41,455 [Thread-238 (] [INFO ]  Epoch: 301/512: Loss = -0.3120117 :: Learning Rate = 0.0500000\n",
      "2023-12-04 19:05:45,640 [Thread-238 (] [INFO ]  Epoch: 401/512: Loss = -0.4785156 :: Learning Rate = 0.0500000\n",
      "2023-12-04 19:05:49,918 [Thread-238 (] [INFO ]  Epoch: 501/512: Loss = -0.4711914 :: Learning Rate = 0.0500000\n",
      "2023-12-04 19:05:50,405 [Thread-238 (] [INFO ]  Epoch: 512/512: Loss = -0.4326172 :: Learning Rate = 0.0500000\n",
      "2023-12-04 19:05:50,430 [Thread-238 (] [INFO ]  Completed run [ eh8v0w2f ]\n"
     ]
    },
    {
     "data": {
      "application/vnd.jupyter.widget-view+json": {
       "model_id": "",
       "version_major": 2,
       "version_minor": 0
      },
      "text/plain": [
       "VBox(children=(Label(value='1.268 MB of 1.268 MB uploaded\\r'), FloatProgress(value=1.0, max=1.0)))"
      ]
     },
     "metadata": {},
     "output_type": "display_data"
    },
    {
     "data": {
      "text/html": [
       "<style>\n",
       "    table.wandb td:nth-child(1) { padding: 0 10px; text-align: left ; width: auto;} td:nth-child(2) {text-align: left ; width: 100%}\n",
       "    .wandb-row { display: flex; flex-direction: row; flex-wrap: wrap; justify-content: flex-start; width: 100% }\n",
       "    .wandb-col { display: flex; flex-direction: column; flex-basis: 100%; flex: 1; padding: 10px; }\n",
       "    </style>\n",
       "<div class=\"wandb-row\"><div class=\"wandb-col\"><h3>Run history:</h3><br/><table class=\"wandb\"><tr><td>loss</td><td>█▅▃▃▁▁▂</td></tr></table><br/></div><div class=\"wandb-col\"><h3>Run summary:</h3><br/><table class=\"wandb\"><tr><td>loss</td><td>-0.43262</td></tr></table><br/></div></div>"
      ],
      "text/plain": [
       "<IPython.core.display.HTML object>"
      ]
     },
     "metadata": {},
     "output_type": "display_data"
    },
    {
     "data": {
      "text/html": [
       " View run <strong style=\"color:#cdcd00\">fiery-sweep-78</strong> at: <a href='https://wandb.ai/rohanprasad/idl-project-flowers-facet/runs/eh8v0w2f' target=\"_blank\">https://wandb.ai/rohanprasad/idl-project-flowers-facet/runs/eh8v0w2f</a><br/>Synced 6 W&B file(s), 7 media file(s), 0 artifact file(s) and 0 other file(s)"
      ],
      "text/plain": [
       "<IPython.core.display.HTML object>"
      ]
     },
     "metadata": {},
     "output_type": "display_data"
    },
    {
     "data": {
      "text/html": [
       "Find logs at: <code>./wandb/run-20231204_190513-eh8v0w2f/logs</code>"
      ],
      "text/plain": [
       "<IPython.core.display.HTML object>"
      ]
     },
     "metadata": {},
     "output_type": "display_data"
    },
    {
     "name": "stderr",
     "output_type": "stream",
     "text": [
      "\u001b[34m\u001b[1mwandb\u001b[0m: Agent Starting Run: l1gtk5ym with config:\n",
      "\u001b[34m\u001b[1mwandb\u001b[0m: \tchannel: 2560\n",
      "\u001b[34m\u001b[1mwandb\u001b[0m: \tlearning_rate: 0.05\n",
      "\u001b[34m\u001b[1mwandb\u001b[0m: \tlinear_probe_layer: layer3_9_relu3\n",
      "\u001b[34m\u001b[1mwandb\u001b[0m: \tmodel: RN50x4\n",
      "\u001b[34m\u001b[1mwandb\u001b[0m: \tnum_iterations: 512\n",
      "\u001b[34m\u001b[1mwandb\u001b[0m: \tobjective: neuron\n",
      "\u001b[34m\u001b[1mwandb\u001b[0m: \toptimizer: AdamW\n",
      "\u001b[34m\u001b[1mwandb\u001b[0m: \trandom_seed: 18630595\n",
      "\u001b[34m\u001b[1mwandb\u001b[0m: \tuse_std_transforms: True\n",
      "\u001b[34m\u001b[1mwandb\u001b[0m: \tuse_transforms: True\n",
      "\u001b[34m\u001b[1mwandb\u001b[0m: \tvisualization_layer: layer4_5_conv3\n"
     ]
    },
    {
     "data": {
      "text/html": [
       "Tracking run with wandb version 0.16.0"
      ],
      "text/plain": [
       "<IPython.core.display.HTML object>"
      ]
     },
     "metadata": {},
     "output_type": "display_data"
    },
    {
     "data": {
      "text/html": [
       "Run data is saved locally in <code>/apps/11785-f23-prj/wandb/run-20231204_190559-l1gtk5ym</code>"
      ],
      "text/plain": [
       "<IPython.core.display.HTML object>"
      ]
     },
     "metadata": {},
     "output_type": "display_data"
    },
    {
     "data": {
      "text/html": [
       "Syncing run <strong><a href='https://wandb.ai/rohanprasad/idl-project-flowers-facet/runs/l1gtk5ym' target=\"_blank\">hardy-sweep-79</a></strong> to <a href='https://wandb.ai/rohanprasad/idl-project-flowers-facet' target=\"_blank\">Weights & Biases</a> (<a href='https://wandb.me/run' target=\"_blank\">docs</a>)<br/>Sweep page: <a href='https://wandb.ai/rohanprasad/idl-project-flowers-facet/sweeps/cuq4fdws' target=\"_blank\">https://wandb.ai/rohanprasad/idl-project-flowers-facet/sweeps/cuq4fdws</a>"
      ],
      "text/plain": [
       "<IPython.core.display.HTML object>"
      ]
     },
     "metadata": {},
     "output_type": "display_data"
    },
    {
     "data": {
      "text/html": [
       " View project at <a href='https://wandb.ai/rohanprasad/idl-project-flowers-facet' target=\"_blank\">https://wandb.ai/rohanprasad/idl-project-flowers-facet</a>"
      ],
      "text/plain": [
       "<IPython.core.display.HTML object>"
      ]
     },
     "metadata": {},
     "output_type": "display_data"
    },
    {
     "data": {
      "text/html": [
       " View sweep at <a href='https://wandb.ai/rohanprasad/idl-project-flowers-facet/sweeps/cuq4fdws' target=\"_blank\">https://wandb.ai/rohanprasad/idl-project-flowers-facet/sweeps/cuq4fdws</a>"
      ],
      "text/plain": [
       "<IPython.core.display.HTML object>"
      ]
     },
     "metadata": {},
     "output_type": "display_data"
    },
    {
     "data": {
      "text/html": [
       " View run at <a href='https://wandb.ai/rohanprasad/idl-project-flowers-facet/runs/l1gtk5ym' target=\"_blank\">https://wandb.ai/rohanprasad/idl-project-flowers-facet/runs/l1gtk5ym</a>"
      ],
      "text/plain": [
       "<IPython.core.display.HTML object>"
      ]
     },
     "metadata": {},
     "output_type": "display_data"
    },
    {
     "name": "stderr",
     "output_type": "stream",
     "text": [
      "2023-12-04 19:06:10,225 [Thread-241 (] [INFO ]  Starting sweep [ run  l1gtk5ym ] with config = \n",
      "{'channel': 2560, 'learning_rate': 0.05, 'linear_probe_layer': 'layer3_9_relu3', 'model': 'RN50x4', 'num_iterations': 512, 'objective': 'neuron', 'optimizer': 'AdamW', 'random_seed': 18630595, 'use_std_transforms': True, 'use_transforms': True, 'visualization_layer': 'layer4_5_conv3'}\n",
      "2023-12-04 19:06:10,226 [Thread-241 (] [INFO ]  Setting random seed to 18630595\n",
      "2023-12-04 19:06:10,227 [Thread-241 (] [INFO ]  Loading CLIP model [ RN50x4 ].\n",
      "2023-12-04 19:06:14,708 [Thread-241 (] [INFO ]  Finished loading model [ RN50x4 ]\n",
      "2023-12-04 19:06:14,709 [Thread-241 (] [INFO ]  Finished loading transforms [ Compose(\n",
      "    Resize(size=288, interpolation=bicubic, max_size=None, antialias=warn)\n",
      "    CenterCrop(size=(288, 288))\n",
      "    Normalize(mean=(0.48145466, 0.4578275, 0.40821073), std=(0.26862954, 0.26130258, 0.27577711))\n",
      ") ]\n",
      "2023-12-04 19:06:14,711 [Thread-241 (] [INFO ]  Registering hooks.\n",
      "2023-12-04 19:06:14,714 [Thread-241 (] [INFO ]  Finished registering hooks.\n",
      "2023-12-04 19:06:14,718 [Thread-241 (] [INFO ]  Retrieving weights of linear probe [ path = /apps/11785-f23-prj/faceted_visualization/probes/logs/flower/RN50x4/layer3_9_relu3/version_4_20/model_checkpoint.pth ]\n",
      "2023-12-04 19:06:14,721 [Thread-241 (] [INFO ]  Final list of transforms = [Resize(size=288, interpolation=bicubic, max_size=None, antialias=warn), CenterCrop(size=(288, 288)), Normalize(mean=(0.48145466, 0.4578275, 0.40821073), std=(0.26862954, 0.26130258, 0.27577711)), RandomAffine(degrees=[0.0, 0.0], translate=(0.03, 0.03), interpolation=InterpolationMode.NEAREST, fill=0), RandomAffine(degrees=[0.0, 0.0], scale=(0.9, 1.1), interpolation=InterpolationMode.NEAREST, fill=0), RandomRotation(degrees=[-10.0, 10.0], interpolation=InterpolationMode.NEAREST, expand=False, fill=0), RandomAffine(degrees=[0.0, 0.0], translate=(0.015, 0.015), interpolation=InterpolationMode.NEAREST, fill=0)]\n",
      "2023-12-04 19:06:14,722 [Thread-241 (] [INFO ]  Starting optimization process [ run_id = l1gtk5ym ]...\n",
      "/opt/conda/lib/python3.10/site-packages/torchvision/transforms/functional.py:1603: UserWarning: The default value of the antialias parameter of all the resizing transforms (Resize(), RandomResizedCrop(), etc.) will change from None to True in v0.17, in order to be consistent across the PIL and Tensor backends. To suppress this warning, directly pass antialias=True (recommended, future default), antialias=None (current default, which means False for Tensors and True for PIL), or antialias=False (only works on Tensors - PIL will still use antialiasing). This also applies if you are using the inference transforms from the models weights: update the call to weights.transforms(antialias=True).\n",
      "  warnings.warn(\n",
      "2023-12-04 19:06:14,766 [Thread-241 (] [INFO ]  Epoch: 1/512: Loss = -0.2541504 :: Learning Rate = 0.0500000\n",
      "2023-12-04 19:06:18,918 [Thread-241 (] [INFO ]  Epoch: 101/512: Loss = -0.3303223 :: Learning Rate = 0.0500000\n",
      "2023-12-04 19:06:23,047 [Thread-241 (] [INFO ]  Epoch: 201/512: Loss = -0.6777344 :: Learning Rate = 0.0500000\n",
      "2023-12-04 19:06:27,231 [Thread-241 (] [INFO ]  Epoch: 301/512: Loss = -0.7128906 :: Learning Rate = 0.0500000\n",
      "2023-12-04 19:06:31,477 [Thread-241 (] [INFO ]  Epoch: 401/512: Loss = -2.5800781 :: Learning Rate = 0.0500000\n",
      "2023-12-04 19:06:35,711 [Thread-241 (] [INFO ]  Epoch: 501/512: Loss = -1.7792969 :: Learning Rate = 0.0500000\n",
      "2023-12-04 19:06:36,197 [Thread-241 (] [INFO ]  Epoch: 512/512: Loss = -0.5327148 :: Learning Rate = 0.0500000\n",
      "2023-12-04 19:06:36,221 [Thread-241 (] [INFO ]  Completed run [ l1gtk5ym ]\n"
     ]
    },
    {
     "data": {
      "application/vnd.jupyter.widget-view+json": {
       "model_id": "",
       "version_major": 2,
       "version_minor": 0
      },
      "text/plain": [
       "VBox(children=(Label(value='1.237 MB of 1.237 MB uploaded\\r'), FloatProgress(value=1.0, max=1.0)))"
      ]
     },
     "metadata": {},
     "output_type": "display_data"
    },
    {
     "data": {
      "text/html": [
       "<style>\n",
       "    table.wandb td:nth-child(1) { padding: 0 10px; text-align: left ; width: auto;} td:nth-child(2) {text-align: left ; width: 100%}\n",
       "    .wandb-row { display: flex; flex-direction: row; flex-wrap: wrap; justify-content: flex-start; width: 100% }\n",
       "    .wandb-col { display: flex; flex-direction: column; flex-basis: 100%; flex: 1; padding: 10px; }\n",
       "    </style>\n",
       "<div class=\"wandb-row\"><div class=\"wandb-col\"><h3>Run history:</h3><br/><table class=\"wandb\"><tr><td>loss</td><td>██▇▇▁▃▇</td></tr></table><br/></div><div class=\"wandb-col\"><h3>Run summary:</h3><br/><table class=\"wandb\"><tr><td>loss</td><td>-0.53271</td></tr></table><br/></div></div>"
      ],
      "text/plain": [
       "<IPython.core.display.HTML object>"
      ]
     },
     "metadata": {},
     "output_type": "display_data"
    },
    {
     "data": {
      "text/html": [
       " View run <strong style=\"color:#cdcd00\">hardy-sweep-79</strong> at: <a href='https://wandb.ai/rohanprasad/idl-project-flowers-facet/runs/l1gtk5ym' target=\"_blank\">https://wandb.ai/rohanprasad/idl-project-flowers-facet/runs/l1gtk5ym</a><br/>Synced 6 W&B file(s), 7 media file(s), 0 artifact file(s) and 0 other file(s)"
      ],
      "text/plain": [
       "<IPython.core.display.HTML object>"
      ]
     },
     "metadata": {},
     "output_type": "display_data"
    },
    {
     "data": {
      "text/html": [
       "Find logs at: <code>./wandb/run-20231204_190559-l1gtk5ym/logs</code>"
      ],
      "text/plain": [
       "<IPython.core.display.HTML object>"
      ]
     },
     "metadata": {},
     "output_type": "display_data"
    },
    {
     "name": "stderr",
     "output_type": "stream",
     "text": [
      "\u001b[34m\u001b[1mwandb\u001b[0m: Agent Starting Run: kow8px6v with config:\n",
      "\u001b[34m\u001b[1mwandb\u001b[0m: \tchannel: 2560\n",
      "\u001b[34m\u001b[1mwandb\u001b[0m: \tlearning_rate: 0.05\n",
      "\u001b[34m\u001b[1mwandb\u001b[0m: \tlinear_probe_layer: layer3_9_relu3\n",
      "\u001b[34m\u001b[1mwandb\u001b[0m: \tmodel: RN50x4\n",
      "\u001b[34m\u001b[1mwandb\u001b[0m: \tnum_iterations: 512\n",
      "\u001b[34m\u001b[1mwandb\u001b[0m: \tobjective: channel\n",
      "\u001b[34m\u001b[1mwandb\u001b[0m: \toptimizer: AdamW\n",
      "\u001b[34m\u001b[1mwandb\u001b[0m: \trandom_seed: 18630595\n",
      "\u001b[34m\u001b[1mwandb\u001b[0m: \tuse_std_transforms: True\n",
      "\u001b[34m\u001b[1mwandb\u001b[0m: \tuse_transforms: True\n",
      "\u001b[34m\u001b[1mwandb\u001b[0m: \tvisualization_layer: layer4_5_conv3\n"
     ]
    },
    {
     "data": {
      "text/html": [
       "Tracking run with wandb version 0.16.0"
      ],
      "text/plain": [
       "<IPython.core.display.HTML object>"
      ]
     },
     "metadata": {},
     "output_type": "display_data"
    },
    {
     "data": {
      "text/html": [
       "Run data is saved locally in <code>/apps/11785-f23-prj/wandb/run-20231204_190647-kow8px6v</code>"
      ],
      "text/plain": [
       "<IPython.core.display.HTML object>"
      ]
     },
     "metadata": {},
     "output_type": "display_data"
    },
    {
     "data": {
      "text/html": [
       "Syncing run <strong><a href='https://wandb.ai/rohanprasad/idl-project-flowers-facet/runs/kow8px6v' target=\"_blank\">winter-sweep-80</a></strong> to <a href='https://wandb.ai/rohanprasad/idl-project-flowers-facet' target=\"_blank\">Weights & Biases</a> (<a href='https://wandb.me/run' target=\"_blank\">docs</a>)<br/>Sweep page: <a href='https://wandb.ai/rohanprasad/idl-project-flowers-facet/sweeps/cuq4fdws' target=\"_blank\">https://wandb.ai/rohanprasad/idl-project-flowers-facet/sweeps/cuq4fdws</a>"
      ],
      "text/plain": [
       "<IPython.core.display.HTML object>"
      ]
     },
     "metadata": {},
     "output_type": "display_data"
    },
    {
     "data": {
      "text/html": [
       " View project at <a href='https://wandb.ai/rohanprasad/idl-project-flowers-facet' target=\"_blank\">https://wandb.ai/rohanprasad/idl-project-flowers-facet</a>"
      ],
      "text/plain": [
       "<IPython.core.display.HTML object>"
      ]
     },
     "metadata": {},
     "output_type": "display_data"
    },
    {
     "data": {
      "text/html": [
       " View sweep at <a href='https://wandb.ai/rohanprasad/idl-project-flowers-facet/sweeps/cuq4fdws' target=\"_blank\">https://wandb.ai/rohanprasad/idl-project-flowers-facet/sweeps/cuq4fdws</a>"
      ],
      "text/plain": [
       "<IPython.core.display.HTML object>"
      ]
     },
     "metadata": {},
     "output_type": "display_data"
    },
    {
     "data": {
      "text/html": [
       " View run at <a href='https://wandb.ai/rohanprasad/idl-project-flowers-facet/runs/kow8px6v' target=\"_blank\">https://wandb.ai/rohanprasad/idl-project-flowers-facet/runs/kow8px6v</a>"
      ],
      "text/plain": [
       "<IPython.core.display.HTML object>"
      ]
     },
     "metadata": {},
     "output_type": "display_data"
    },
    {
     "name": "stderr",
     "output_type": "stream",
     "text": [
      "2023-12-04 19:06:57,354 [Thread-244 (] [INFO ]  Starting sweep [ run  kow8px6v ] with config = \n",
      "{'channel': 2560, 'learning_rate': 0.05, 'linear_probe_layer': 'layer3_9_relu3', 'model': 'RN50x4', 'num_iterations': 512, 'objective': 'channel', 'optimizer': 'AdamW', 'random_seed': 18630595, 'use_std_transforms': True, 'use_transforms': True, 'visualization_layer': 'layer4_5_conv3'}\n",
      "2023-12-04 19:06:57,356 [Thread-244 (] [INFO ]  Setting random seed to 18630595\n",
      "2023-12-04 19:06:57,357 [Thread-244 (] [INFO ]  Loading CLIP model [ RN50x4 ].\n",
      "2023-12-04 19:07:02,039 [Thread-244 (] [INFO ]  Finished loading model [ RN50x4 ]\n",
      "2023-12-04 19:07:02,041 [Thread-244 (] [INFO ]  Finished loading transforms [ Compose(\n",
      "    Resize(size=288, interpolation=bicubic, max_size=None, antialias=warn)\n",
      "    CenterCrop(size=(288, 288))\n",
      "    Normalize(mean=(0.48145466, 0.4578275, 0.40821073), std=(0.26862954, 0.26130258, 0.27577711))\n",
      ") ]\n",
      "2023-12-04 19:07:02,042 [Thread-244 (] [INFO ]  Registering hooks.\n",
      "2023-12-04 19:07:02,045 [Thread-244 (] [INFO ]  Finished registering hooks.\n",
      "2023-12-04 19:07:02,049 [Thread-244 (] [INFO ]  Retrieving weights of linear probe [ path = /apps/11785-f23-prj/faceted_visualization/probes/logs/flower/RN50x4/layer3_9_relu3/version_4_20/model_checkpoint.pth ]\n",
      "2023-12-04 19:07:02,053 [Thread-244 (] [INFO ]  Final list of transforms = [Resize(size=288, interpolation=bicubic, max_size=None, antialias=warn), CenterCrop(size=(288, 288)), Normalize(mean=(0.48145466, 0.4578275, 0.40821073), std=(0.26862954, 0.26130258, 0.27577711)), RandomAffine(degrees=[0.0, 0.0], translate=(0.03, 0.03), interpolation=InterpolationMode.NEAREST, fill=0), RandomAffine(degrees=[0.0, 0.0], scale=(0.9, 1.1), interpolation=InterpolationMode.NEAREST, fill=0), RandomRotation(degrees=[-10.0, 10.0], interpolation=InterpolationMode.NEAREST, expand=False, fill=0), RandomAffine(degrees=[0.0, 0.0], translate=(0.015, 0.015), interpolation=InterpolationMode.NEAREST, fill=0)]\n",
      "2023-12-04 19:07:02,054 [Thread-244 (] [INFO ]  Starting optimization process [ run_id = kow8px6v ]...\n",
      "/opt/conda/lib/python3.10/site-packages/torchvision/transforms/functional.py:1603: UserWarning: The default value of the antialias parameter of all the resizing transforms (Resize(), RandomResizedCrop(), etc.) will change from None to True in v0.17, in order to be consistent across the PIL and Tensor backends. To suppress this warning, directly pass antialias=True (recommended, future default), antialias=None (current default, which means False for Tensors and True for PIL), or antialias=False (only works on Tensors - PIL will still use antialiasing). This also applies if you are using the inference transforms from the models weights: update the call to weights.transforms(antialias=True).\n",
      "  warnings.warn(\n",
      "2023-12-04 19:07:02,100 [Thread-244 (] [INFO ]  Epoch: 1/512: Loss = -0.2729492 :: Learning Rate = 0.0500000\n",
      "2023-12-04 19:07:06,281 [Thread-244 (] [INFO ]  Epoch: 101/512: Loss = 0.2565918 :: Learning Rate = 0.0500000\n",
      "2023-12-04 19:07:10,584 [Thread-244 (] [INFO ]  Epoch: 201/512: Loss = -2.0195312 :: Learning Rate = 0.0500000\n",
      "2023-12-04 19:07:14,927 [Thread-244 (] [INFO ]  Epoch: 301/512: Loss = 1.0039062 :: Learning Rate = 0.0500000\n",
      "2023-12-04 19:07:19,238 [Thread-244 (] [INFO ]  Epoch: 401/512: Loss = -0.8476562 :: Learning Rate = 0.0500000\n",
      "2023-12-04 19:07:23,520 [Thread-244 (] [INFO ]  Epoch: 501/512: Loss = -1.4492188 :: Learning Rate = 0.0500000\n",
      "2023-12-04 19:07:24,006 [Thread-244 (] [INFO ]  Epoch: 512/512: Loss = -1.2392578 :: Learning Rate = 0.0500000\n",
      "2023-12-04 19:07:24,030 [Thread-244 (] [INFO ]  Completed run [ kow8px6v ]\n"
     ]
    },
    {
     "data": {
      "application/vnd.jupyter.widget-view+json": {
       "model_id": "",
       "version_major": 2,
       "version_minor": 0
      },
      "text/plain": [
       "VBox(children=(Label(value='1.256 MB of 1.256 MB uploaded\\r'), FloatProgress(value=1.0, max=1.0)))"
      ]
     },
     "metadata": {},
     "output_type": "display_data"
    },
    {
     "data": {
      "text/html": [
       "<style>\n",
       "    table.wandb td:nth-child(1) { padding: 0 10px; text-align: left ; width: auto;} td:nth-child(2) {text-align: left ; width: 100%}\n",
       "    .wandb-row { display: flex; flex-direction: row; flex-wrap: wrap; justify-content: flex-start; width: 100% }\n",
       "    .wandb-col { display: flex; flex-direction: column; flex-basis: 100%; flex: 1; padding: 10px; }\n",
       "    </style>\n",
       "<div class=\"wandb-row\"><div class=\"wandb-col\"><h3>Run history:</h3><br/><table class=\"wandb\"><tr><td>loss</td><td>▅▆▁█▄▂▃</td></tr></table><br/></div><div class=\"wandb-col\"><h3>Run summary:</h3><br/><table class=\"wandb\"><tr><td>loss</td><td>-1.23926</td></tr></table><br/></div></div>"
      ],
      "text/plain": [
       "<IPython.core.display.HTML object>"
      ]
     },
     "metadata": {},
     "output_type": "display_data"
    },
    {
     "data": {
      "text/html": [
       " View run <strong style=\"color:#cdcd00\">winter-sweep-80</strong> at: <a href='https://wandb.ai/rohanprasad/idl-project-flowers-facet/runs/kow8px6v' target=\"_blank\">https://wandb.ai/rohanprasad/idl-project-flowers-facet/runs/kow8px6v</a><br/>Synced 6 W&B file(s), 7 media file(s), 0 artifact file(s) and 0 other file(s)"
      ],
      "text/plain": [
       "<IPython.core.display.HTML object>"
      ]
     },
     "metadata": {},
     "output_type": "display_data"
    },
    {
     "data": {
      "text/html": [
       "Find logs at: <code>./wandb/run-20231204_190647-kow8px6v/logs</code>"
      ],
      "text/plain": [
       "<IPython.core.display.HTML object>"
      ]
     },
     "metadata": {},
     "output_type": "display_data"
    },
    {
     "name": "stderr",
     "output_type": "stream",
     "text": [
      "\u001b[34m\u001b[1mwandb\u001b[0m: Sweep Agent: Waiting for job.\n",
      "\u001b[34m\u001b[1mwandb\u001b[0m: Sweep Agent: Exiting.\n"
     ]
    }
   ],
   "source": [
    "sweep_id = wandb.sweep(sweep_config, project=\"idl-project-flowers-facet\", entity=\"rohanprasad\")\n",
    "logger.info(\"Sweep ID = %s\", sweep_id)\n",
    "wandb.agent(sweep_id, function=perform_sweep)"
   ]
  },
  {
   "cell_type": "code",
   "execution_count": null,
   "id": "6119e715f8cddb1",
   "metadata": {
    "is_executing": true
   },
   "outputs": [],
   "source": []
  }
 ],
 "metadata": {
  "kernelspec": {
   "display_name": "Python 3",
   "language": "python",
   "name": "python3"
  },
  "language_info": {
   "codemirror_mode": {
    "name": "ipython",
    "version": 3
   },
   "file_extension": ".py",
   "mimetype": "text/x-python",
   "name": "python",
   "nbconvert_exporter": "python",
   "pygments_lexer": "ipython3",
   "version": "3.10.13"
  }
 },
 "nbformat": 4,
 "nbformat_minor": 5
}

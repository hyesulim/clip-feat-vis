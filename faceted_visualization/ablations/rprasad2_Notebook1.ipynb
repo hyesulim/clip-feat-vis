{
 "cells": [
  {
   "cell_type": "code",
   "execution_count": 1,
   "id": "initial_id",
   "metadata": {
    "collapsed": true,
    "ExecuteTime": {
     "end_time": "2023-12-04T00:23:20.713440Z",
     "start_time": "2023-12-04T00:23:20.710759Z"
    }
   },
   "outputs": [],
   "source": [
    "import sys\n",
    "import os\n",
    "\n",
    "if sys.platform == \"darwin\":\n",
    "    ROOT = '/Users/rohan/repositories/11785-f23-prj/faceted_visualization'\n",
    "else:\n",
    "    ROOT = '/apps/11785-f23-prj/faceted_visualization'\n",
    "\n",
    "LIBRARY_HOME = os.path.join(ROOT, 'visualizer')\n",
    "PROBE_HOME = os.path.join(ROOT, \"probes\", \"flower\")\n",
    "LOG_PATH = os.path.join(ROOT, \"logs\")\n",
    "\n",
    "sys.path.append(ROOT)\n",
    "sys.path.append(LIBRARY_HOME)"
   ]
  },
  {
   "cell_type": "code",
   "execution_count": 2,
   "outputs": [],
   "source": [
    "import faceted_visualization.visualizer.main\n",
    "import faceted_visualization.visualizer.render\n",
    "import faceted_visualization.visualizer.hook\n",
    "import faceted_visualization.visualizer.image\n",
    "import faceted_visualization.visualizer.wb\n",
    "import faceted_visualization.visualizer.constants as constants\n",
    "import wandb\n",
    "import pprint\n",
    "import clip\n",
    "import os\n",
    "import logging\n",
    "import datetime\n",
    "import torch"
   ],
   "metadata": {
    "collapsed": false,
    "ExecuteTime": {
     "end_time": "2023-12-04T00:23:22.204008Z",
     "start_time": "2023-12-04T00:23:20.714798Z"
    }
   },
   "id": "beebabb3f954b46b"
  },
  {
   "cell_type": "code",
   "execution_count": 3,
   "outputs": [],
   "source": [
    "logging.basicConfig(force=True, level=\"INFO\",\n",
    "                    format=\"%(asctime)s [%(threadName)-12.12s] [%(levelname)-5.5s]  %(message)s\")\n",
    "logger = logging.getLogger()\n",
    "init_stream = True\n",
    "init_filehandler = True\n",
    "for handler in logger.handlers:\n",
    "    if isinstance(handler, logging.StreamHandler):\n",
    "        init_stream = False\n",
    "    if isinstance(handler, logging.FileHandler):\n",
    "        init_filehandler = False\n",
    "if init_stream:\n",
    "    consoleHandler = logging.StreamHandler(sys.stdout)\n",
    "    logger.addHandler(consoleHandler)\n",
    "if init_filehandler and sys.platform != \"darwin\":\n",
    "    fileHandler = logging.FileHandler(os.path.join(LOG_PATH, f\"{datetime.datetime.now().strftime('%Y%m%d%H%M%S')}.log\"))\n",
    "    fileHandler.setFormatter(\n",
    "        logging.Formatter(fmt=\"%(asctime)s [%(threadName)-12.12s] [%(levelname)-5.5s]  %(message)s\"))\n",
    "    logger.addHandler(fileHandler)"
   ],
   "metadata": {
    "collapsed": false,
    "ExecuteTime": {
     "end_time": "2023-12-04T00:23:22.208565Z",
     "start_time": "2023-12-04T00:23:22.205725Z"
    }
   },
   "id": "475feba850625225"
  },
  {
   "cell_type": "code",
   "execution_count": 4,
   "outputs": [
    {
     "name": "stderr",
     "output_type": "stream",
     "text": [
      "2023-12-03 19:23:22,210 [MainThread  ] [INFO ]  Sweep Configuration = \n",
      " {'method': 'grid',\n",
      " 'parameters': {'channel': {'values': [2560]},\n",
      "                'learning_rate': {'values': [0.05]},\n",
      "                'linear_probe_layer': {'values': ['layer1_0_conv3',\n",
      "                                                  'layer1_0_relu3',\n",
      "                                                  'layer1_3_conv3',\n",
      "                                                  'layer1_3_relu3',\n",
      "                                                  'layer2_5_conv3',\n",
      "                                                  'layer2_5_relu3',\n",
      "                                                  'layer3_9_conv3',\n",
      "                                                  'layer3_9_relu3']},\n",
      "                'model': {'values': ['RN50x4']},\n",
      "                'num_iterations': {'values': [2]},\n",
      "                'objective': {'values': ['neuron', 'channel']},\n",
      "                'optimizer': {'values': ['SGD', 'Adam', 'AdamW']},\n",
      "                'use_std_transforms': {'values': [True, False]},\n",
      "                'use_transforms': {'values': [True, False]},\n",
      "                'visualization_layer': {'values': ['layer4_5_conv3',\n",
      "                                                   'layer4_5_relu3',\n",
      "                                                   'layer4_5_bn3']}}}\n"
     ]
    }
   ],
   "source": [
    "parameter_dict = {\n",
    "    constants.NUMBER_OF_ITERATIONS: {\n",
    "        # 'values': [256, 512, 1024, 2048, 4096, 8192, 16384]\n",
    "        'values': [2]\n",
    "    },\n",
    "    constants.MODEL: {\n",
    "        'values': ['RN50x4']\n",
    "    },\n",
    "    constants.LINEAR_PROBE_LAYER: {\n",
    "        'values': [\n",
    "            'layer1_0_conv3',\n",
    "            'layer1_0_relu3',\n",
    "            'layer1_3_conv3',\n",
    "            'layer1_3_relu3',\n",
    "            'layer2_5_conv3',\n",
    "            'layer2_5_relu3',\n",
    "            'layer3_9_conv3',\n",
    "            'layer3_9_relu3'\n",
    "        ]\n",
    "    },\n",
    "    constants.VISUALIZATION_LAYER: {\n",
    "        'values': [\n",
    "            'layer4_5_conv3',\n",
    "            'layer4_5_relu3',\n",
    "            'layer4_5_bn3'\n",
    "        ]\n",
    "    },\n",
    "    constants.OPTIMIZER: {\n",
    "        'values': [\n",
    "            'SGD', 'Adam', 'AdamW'\n",
    "        ]\n",
    "    },\n",
    "    constants.LEARNING_RATE: {\n",
    "        'values': [\n",
    "            # 0.05, 0.01, 0.005, 0.001, 0.0005, 0.0001\n",
    "            0.05\n",
    "        ]\n",
    "    },\n",
    "    constants.CHANNEL: {\n",
    "        'values': [\n",
    "            # 1 , 64, 128, 256, 512, 1024, 1536, 2048, 2560  \n",
    "            2560\n",
    "        ]\n",
    "    },\n",
    "    constants.OBJECTIVE: {\n",
    "        'values': [\n",
    "            'neuron',\n",
    "            'channel'\n",
    "        ]\n",
    "    },\n",
    "    constants.USE_TRANSFORMS: {\n",
    "        'values': [\n",
    "            True, False\n",
    "        ]\n",
    "    },\n",
    "    constants.USE_STD_TRANSFORMS: {\n",
    "        'values': [\n",
    "            True, False\n",
    "        ]\n",
    "    }\n",
    "}\n",
    "sweep_config = {\n",
    "    'method': 'grid',\n",
    "    'parameters': parameter_dict\n",
    "\n",
    "}\n",
    "logger.info(\"Sweep Configuration = \\n %s\", pprint.pformat(sweep_config))"
   ],
   "metadata": {
    "collapsed": false,
    "ExecuteTime": {
     "end_time": "2023-12-04T00:23:22.213206Z",
     "start_time": "2023-12-04T00:23:22.208682Z"
    }
   },
   "id": "14f5ccd19f6b51fa"
  },
  {
   "cell_type": "code",
   "execution_count": 5,
   "outputs": [
    {
     "name": "stderr",
     "output_type": "stream",
     "text": [
      "2023-12-03 19:23:22,213 [MainThread  ] [INFO ]  Selected Device = cpu\n"
     ]
    }
   ],
   "source": [
    "if torch.cuda.is_available():\n",
    "    DEVICE = \"cuda:0\"\n",
    "else:\n",
    "    DEVICE = \"cpu\"\n",
    "logger.info(\"Selected Device = %s\", DEVICE)"
   ],
   "metadata": {
    "collapsed": false,
    "ExecuteTime": {
     "end_time": "2023-12-04T00:23:22.217255Z",
     "start_time": "2023-12-04T00:23:22.214159Z"
    }
   },
   "id": "9ba2ea01975d2704"
  },
  {
   "cell_type": "code",
   "execution_count": 6,
   "outputs": [],
   "source": [
    "def perform_sweep(config=None):\n",
    "    with wandb.init(config) as run:\n",
    "        current_sweep_config = wandb.config\n",
    "        logger.info('Starting sweep [ run  %s ] with config = \\n%s', run.id, current_sweep_config)\n",
    "        model, clip_transforms = faceted_visualization.visualizer.main.get_model(current_sweep_config[constants.MODEL],\n",
    "                                                                                 device=DEVICE)\n",
    "        model_hook = faceted_visualization.visualizer.hook.register_hooks(model)\n",
    "        if current_sweep_config[constants.MODEL].casefold() == 'RN50x4'.casefold():\n",
    "            image_h, image_w = 288, 288\n",
    "            probe_location = os.path.join(PROBE_HOME, current_sweep_config[constants.MODEL],\n",
    "                                          current_sweep_config[constants.LINEAR_PROBE_LAYER], \"version_4_20\",\n",
    "                                          \"model_checkpoint.pth\")\n",
    "        else:\n",
    "            image_h, image_w = 224, 224\n",
    "            probe_location = os.path.join(PROBE_HOME,\n",
    "                                          current_sweep_config[constants.MODEL] + \"_\" + current_sweep_config[\n",
    "                                              constants.LINEAR_PROBE_LAYER], \"version_1\", \"model_checkpoint.pth\")\n",
    "        params, image_f = faceted_visualization.visualizer.image.generate_img(h=image_h, w=image_w,\n",
    "                                                                              decorrelate=True,\n",
    "                                                                              fft=True,\n",
    "                                                                              device=DEVICE)\n",
    "        probe_weights = faceted_visualization.visualizer.main.get_probe_weights(model_location=probe_location,\n",
    "                                                                                device=DEVICE)\n",
    "        if current_sweep_config[constants.OPTIMIZER].casefold() == \"ADAM\".casefold():\n",
    "            optimizer = torch.optim.Adam(params=params, lr=current_sweep_config[constants.LEARNING_RATE])\n",
    "        elif current_sweep_config[constants.OPTIMIZER].casefold() == \"ADAMW\".casefold():\n",
    "            optimizer = torch.optim.AdamW(params=params, lr=current_sweep_config[constants.LEARNING_RATE])\n",
    "        elif current_sweep_config[constants.OPTIMIZER].casefold() == \"SGD\".casefold():\n",
    "            optimizer = torch.optim.SGD(params=params, lr=current_sweep_config[constants.LEARNING_RATE])\n",
    "        else:\n",
    "            logger.error(\"Unknown optimizer type [ %s ] provided\", current_sweep_config[constants.OPTIMIZER])\n",
    "            raise RuntimeError(f\"Unknown optimizer type [ {current_sweep_config[constants.OPTIMIZER]} ] provided\")\n",
    "\n",
    "        transforms = faceted_visualization.visualizer.image.consolidate_transforms(\n",
    "            use_clip_transforms=current_sweep_config[constants.USE_TRANSFORMS],\n",
    "            use_standard_transforms=current_sweep_config[constants.USE_STD_TRANSFORMS],\n",
    "            clip_transforms=clip_transforms\n",
    "        )\n",
    "\n",
    "        logger.info(\"Final list of transforms = %s\", transforms.transforms if transforms is not None else \"NA\")\n",
    "\n",
    "        wandb_object = faceted_visualization.visualizer.wb.WandB(\n",
    "            is_sweep=True,\n",
    "            enabled=True,\n",
    "            api_key=None,\n",
    "            entity=None,\n",
    "            run_name=None,\n",
    "            project=None,\n",
    "            config=None,\n",
    "        )\n",
    "        \n",
    "        if current_sweep_config[constants.OBJECTIVE] == \"neuron\":\n",
    "            image_name = f\"{current_sweep_config[constants.VISUALIZATION_LAYER]}:{current_sweep_config[constants.CHANNEL]}_mid_neuron\"\n",
    "        else:\n",
    "            image_name = f\"{current_sweep_config[constants.VISUALIZATION_LAYER]}:{current_sweep_config[constants.CHANNEL]}\"\n",
    "            \n",
    "        faceted_visualization.visualizer.render.optimize(\n",
    "            num_iterations=current_sweep_config[constants.NUMBER_OF_ITERATIONS],\n",
    "            transforms=transforms,\n",
    "            image_function=image_f,\n",
    "            model=model,\n",
    "            channel=current_sweep_config[constants.CHANNEL],\n",
    "            objective=current_sweep_config[constants.OBJECTIVE],\n",
    "            layer=current_sweep_config[constants.VISUALIZATION_LAYER],\n",
    "            linear_probe_layer=current_sweep_config[constants.LINEAR_PROBE_LAYER],\n",
    "            probe_weights=probe_weights,\n",
    "            optimizer=optimizer,\n",
    "            model_hook=model_hook,\n",
    "            neuron_x=current_sweep_config.get(constants.NEURON_X, None),\n",
    "            neuron_y=current_sweep_config.get(constants.NEURON_Y, None),\n",
    "            wandb_object=wandb_object,\n",
    "            run_id=run.id,\n",
    "            device=DEVICE,\n",
    "            image_name=image_name\n",
    "            )\n",
    "\n",
    "        logger.info(\"Completed run [ %s ]\", run.id)"
   ],
   "metadata": {
    "collapsed": false,
    "ExecuteTime": {
     "end_time": "2023-12-04T00:23:22.223037Z",
     "start_time": "2023-12-04T00:23:22.221623Z"
    }
   },
   "id": "ebac30fa2ab59dd2"
  },
  {
   "cell_type": "code",
   "execution_count": null,
   "outputs": [
    {
     "name": "stderr",
     "output_type": "stream",
     "text": [
      "2023-12-03 19:23:23,697 [MainThread  ] [INFO ]  Sweep ID = qsaz1i8g\n",
      "2023-12-03 19:23:23,699 [MainThread  ] [INFO ]  Starting sweep agent: entity=None, project=None, count=None\n"
     ]
    },
    {
     "name": "stdout",
     "output_type": "stream",
     "text": [
      "Create sweep with ID: qsaz1i8g\n",
      "Sweep URL: https://wandb.ai/rohanprasad/testing/sweeps/qsaz1i8g\n"
     ]
    },
    {
     "name": "stderr",
     "output_type": "stream",
     "text": [
      "\u001B[34m\u001B[1mwandb\u001B[0m: Agent Starting Run: zozyci3u with config:\n",
      "\u001B[34m\u001B[1mwandb\u001B[0m: \tchannel: 2560\n",
      "\u001B[34m\u001B[1mwandb\u001B[0m: \tlearning_rate: 0.05\n",
      "\u001B[34m\u001B[1mwandb\u001B[0m: \tlinear_probe_layer: layer1_0_conv3\n",
      "\u001B[34m\u001B[1mwandb\u001B[0m: \tmodel: RN50x4\n",
      "\u001B[34m\u001B[1mwandb\u001B[0m: \tnum_iterations: 2\n",
      "\u001B[34m\u001B[1mwandb\u001B[0m: \tobjective: neuron\n",
      "\u001B[34m\u001B[1mwandb\u001B[0m: \toptimizer: SGD\n",
      "\u001B[34m\u001B[1mwandb\u001B[0m: \tuse_std_transforms: True\n",
      "\u001B[34m\u001B[1mwandb\u001B[0m: \tuse_transforms: True\n",
      "\u001B[34m\u001B[1mwandb\u001B[0m: \tvisualization_layer: layer4_5_conv3\n",
      "\u001B[34m\u001B[1mwandb\u001B[0m: Currently logged in as: \u001B[33mrohanprasad\u001B[0m. Use \u001B[1m`wandb login --relogin`\u001B[0m to force relogin\n"
     ]
    },
    {
     "data": {
      "text/plain": "<IPython.core.display.HTML object>",
      "text/html": "wandb version 0.16.0 is available!  To upgrade, please run:\n $ pip install wandb --upgrade"
     },
     "metadata": {},
     "output_type": "display_data"
    },
    {
     "data": {
      "text/plain": "<IPython.core.display.HTML object>",
      "text/html": "Tracking run with wandb version 0.15.12"
     },
     "metadata": {},
     "output_type": "display_data"
    },
    {
     "data": {
      "text/plain": "<IPython.core.display.HTML object>",
      "text/html": "Run data is saved locally in <code>/Users/rohan/repositories/11785-f23-prj/faceted_visualization/ablations/wandb/run-20231203_192325-zozyci3u</code>"
     },
     "metadata": {},
     "output_type": "display_data"
    },
    {
     "data": {
      "text/plain": "<IPython.core.display.HTML object>",
      "text/html": "Syncing run <strong><a href='https://wandb.ai/rohanprasad/testing/runs/zozyci3u' target=\"_blank\">fluent-sweep-1</a></strong> to <a href='https://wandb.ai/rohanprasad/testing' target=\"_blank\">Weights & Biases</a> (<a href='https://wandb.me/run' target=\"_blank\">docs</a>)<br/>Sweep page: <a href='https://wandb.ai/rohanprasad/testing/sweeps/qsaz1i8g' target=\"_blank\">https://wandb.ai/rohanprasad/testing/sweeps/qsaz1i8g</a>"
     },
     "metadata": {},
     "output_type": "display_data"
    },
    {
     "data": {
      "text/plain": "<IPython.core.display.HTML object>",
      "text/html": " View project at <a href='https://wandb.ai/rohanprasad/testing' target=\"_blank\">https://wandb.ai/rohanprasad/testing</a>"
     },
     "metadata": {},
     "output_type": "display_data"
    },
    {
     "data": {
      "text/plain": "<IPython.core.display.HTML object>",
      "text/html": " View sweep at <a href='https://wandb.ai/rohanprasad/testing/sweeps/qsaz1i8g' target=\"_blank\">https://wandb.ai/rohanprasad/testing/sweeps/qsaz1i8g</a>"
     },
     "metadata": {},
     "output_type": "display_data"
    },
    {
     "data": {
      "text/plain": "<IPython.core.display.HTML object>",
      "text/html": " View run at <a href='https://wandb.ai/rohanprasad/testing/runs/zozyci3u' target=\"_blank\">https://wandb.ai/rohanprasad/testing/runs/zozyci3u</a>"
     },
     "metadata": {},
     "output_type": "display_data"
    },
    {
     "name": "stderr",
     "output_type": "stream",
     "text": [
      "2023-12-03 19:23:27,636 [Thread-6 (_r] [INFO ]  Starting sweep [ run  zozyci3u ] with config = \n",
      "{'channel': 2560, 'learning_rate': 0.05, 'linear_probe_layer': 'layer1_0_conv3', 'model': 'RN50x4', 'num_iterations': 2, 'objective': 'neuron', 'optimizer': 'SGD', 'use_std_transforms': True, 'use_transforms': True, 'visualization_layer': 'layer4_5_conv3'}\n",
      "2023-12-03 19:23:27,637 [Thread-6 (_r] [INFO ]  Loading CLIP model [ RN50x4 ].\n",
      "2023-12-03 19:23:30,750 [Thread-6 (_r] [INFO ]  Finished loading model [ RN50x4 ]\n",
      "2023-12-03 19:23:30,751 [Thread-6 (_r] [INFO ]  Finished loading transforms [ Compose(\n",
      "    Resize(size=288, interpolation=bicubic, max_size=None, antialias=warn)\n",
      "    CenterCrop(size=(288, 288))\n",
      "    Normalize(mean=(0.48145466, 0.4578275, 0.40821073), std=(0.26862954, 0.26130258, 0.27577711))\n",
      ") ]\n",
      "2023-12-03 19:23:30,752 [Thread-6 (_r] [INFO ]  Registering hooks.\n",
      "2023-12-03 19:23:30,754 [Thread-6 (_r] [INFO ]  Finished registering hooks.\n",
      "2023-12-03 19:23:30,760 [Thread-6 (_r] [INFO ]  Retrieving weights of linear probe [ path = /Users/rohan/repositories/11785-f23-prj/faceted_visualization/probes/flower/RN50x4/layer1_0_conv3/version_4_20/model_checkpoint.pth ]\n",
      "2023-12-03 19:23:30,764 [Thread-6 (_r] [INFO ]  Final list of transforms = [Resize(size=288, interpolation=bicubic, max_size=None, antialias=warn), CenterCrop(size=(288, 288)), Normalize(mean=(0.48145466, 0.4578275, 0.40821073), std=(0.26862954, 0.26130258, 0.27577711)), RandomAffine(degrees=[0.0, 0.0], translate=(0.03, 0.03), interpolation=InterpolationMode.NEAREST, fill=0), RandomAffine(degrees=[0.0, 0.0], scale=(0.9, 1.1), interpolation=InterpolationMode.NEAREST, fill=0), RandomRotation(degrees=[-10.0, 10.0], interpolation=InterpolationMode.NEAREST, expand=False, fill=0), RandomAffine(degrees=[0.0, 0.0], translate=(0.015, 0.015), interpolation=InterpolationMode.NEAREST, fill=0)]\n",
      "2023-12-03 19:23:30,766 [Thread-6 (_r] [INFO ]  Starting optimization process [ run_id = zozyci3u ]...\n",
      "2023-12-03 19:23:31,296 [Thread-6 (_r] [INFO ]  Epoch: 1/2: Loss = 0.0652384 :: Learning Rate = 0.0500000\n",
      "2023-12-03 19:23:31,358 [Thread-6 (_r] [INFO ]  NumExpr defaulting to 8 threads.\n",
      "2023-12-03 19:23:32,314 [Thread-6 (_r] [INFO ]  Epoch: 2/2: Loss = -0.0092112 :: Learning Rate = 0.0500000\n",
      "2023-12-03 19:23:32,356 [Thread-6 (_r] [INFO ]  Completed run [ zozyci3u ]\n"
     ]
    },
    {
     "data": {
      "text/plain": "<IPython.core.display.HTML object>",
      "text/html": "Waiting for W&B process to finish... <strong style=\"color:green\">(success).</strong>"
     },
     "metadata": {},
     "output_type": "display_data"
    },
    {
     "data": {
      "text/plain": "VBox(children=(Label(value='0.105 MB of 0.105 MB uploaded (0.000 MB deduped)\\r'), FloatProgress(value=1.0, max…",
      "application/vnd.jupyter.widget-view+json": {
       "version_major": 2,
       "version_minor": 0,
       "model_id": "3e57f3841a374894a5c91136483fceee"
      }
     },
     "metadata": {},
     "output_type": "display_data"
    },
    {
     "data": {
      "text/plain": "<IPython.core.display.HTML object>",
      "text/html": "<style>\n    table.wandb td:nth-child(1) { padding: 0 10px; text-align: left ; width: auto;} td:nth-child(2) {text-align: left ; width: 100%}\n    .wandb-row { display: flex; flex-direction: row; flex-wrap: wrap; justify-content: flex-start; width: 100% }\n    .wandb-col { display: flex; flex-direction: column; flex-basis: 100%; flex: 1; padding: 10px; }\n    </style>\n<div class=\"wandb-row\"><div class=\"wandb-col\"><h3>Run history:</h3><br/><table class=\"wandb\"><tr><td>loss</td><td>█▁</td></tr></table><br/></div><div class=\"wandb-col\"><h3>Run summary:</h3><br/><table class=\"wandb\"><tr><td>loss</td><td>-0.00921</td></tr></table><br/></div></div>"
     },
     "metadata": {},
     "output_type": "display_data"
    },
    {
     "data": {
      "text/plain": "<IPython.core.display.HTML object>",
      "text/html": " View run <strong style=\"color:#cdcd00\">fluent-sweep-1</strong> at: <a href='https://wandb.ai/rohanprasad/testing/runs/zozyci3u' target=\"_blank\">https://wandb.ai/rohanprasad/testing/runs/zozyci3u</a><br/>Synced 6 W&B file(s), 2 media file(s), 0 artifact file(s) and 0 other file(s)"
     },
     "metadata": {},
     "output_type": "display_data"
    },
    {
     "data": {
      "text/plain": "<IPython.core.display.HTML object>",
      "text/html": "Find logs at: <code>./wandb/run-20231203_192325-zozyci3u/logs</code>"
     },
     "metadata": {},
     "output_type": "display_data"
    },
    {
     "name": "stderr",
     "output_type": "stream",
     "text": [
      "\u001B[34m\u001B[1mwandb\u001B[0m: Agent Starting Run: rpdukvef with config:\n",
      "\u001B[34m\u001B[1mwandb\u001B[0m: \tchannel: 2560\n",
      "\u001B[34m\u001B[1mwandb\u001B[0m: \tlearning_rate: 0.05\n",
      "\u001B[34m\u001B[1mwandb\u001B[0m: \tlinear_probe_layer: layer1_0_conv3\n",
      "\u001B[34m\u001B[1mwandb\u001B[0m: \tmodel: RN50x4\n",
      "\u001B[34m\u001B[1mwandb\u001B[0m: \tnum_iterations: 2\n",
      "\u001B[34m\u001B[1mwandb\u001B[0m: \tobjective: neuron\n",
      "\u001B[34m\u001B[1mwandb\u001B[0m: \toptimizer: SGD\n",
      "\u001B[34m\u001B[1mwandb\u001B[0m: \tuse_std_transforms: True\n",
      "\u001B[34m\u001B[1mwandb\u001B[0m: \tuse_transforms: True\n",
      "\u001B[34m\u001B[1mwandb\u001B[0m: \tvisualization_layer: layer4_5_relu3\n"
     ]
    },
    {
     "data": {
      "text/plain": "<IPython.core.display.HTML object>",
      "text/html": "wandb version 0.16.0 is available!  To upgrade, please run:\n $ pip install wandb --upgrade"
     },
     "metadata": {},
     "output_type": "display_data"
    },
    {
     "data": {
      "text/plain": "<IPython.core.display.HTML object>",
      "text/html": "Tracking run with wandb version 0.15.12"
     },
     "metadata": {},
     "output_type": "display_data"
    },
    {
     "data": {
      "text/plain": "<IPython.core.display.HTML object>",
      "text/html": "Run data is saved locally in <code>/Users/rohan/repositories/11785-f23-prj/faceted_visualization/ablations/wandb/run-20231203_192341-rpdukvef</code>"
     },
     "metadata": {},
     "output_type": "display_data"
    },
    {
     "data": {
      "text/plain": "<IPython.core.display.HTML object>",
      "text/html": "Syncing run <strong><a href='https://wandb.ai/rohanprasad/testing/runs/rpdukvef' target=\"_blank\">cool-sweep-2</a></strong> to <a href='https://wandb.ai/rohanprasad/testing' target=\"_blank\">Weights & Biases</a> (<a href='https://wandb.me/run' target=\"_blank\">docs</a>)<br/>Sweep page: <a href='https://wandb.ai/rohanprasad/testing/sweeps/qsaz1i8g' target=\"_blank\">https://wandb.ai/rohanprasad/testing/sweeps/qsaz1i8g</a>"
     },
     "metadata": {},
     "output_type": "display_data"
    },
    {
     "data": {
      "text/plain": "<IPython.core.display.HTML object>",
      "text/html": " View project at <a href='https://wandb.ai/rohanprasad/testing' target=\"_blank\">https://wandb.ai/rohanprasad/testing</a>"
     },
     "metadata": {},
     "output_type": "display_data"
    },
    {
     "data": {
      "text/plain": "<IPython.core.display.HTML object>",
      "text/html": " View sweep at <a href='https://wandb.ai/rohanprasad/testing/sweeps/qsaz1i8g' target=\"_blank\">https://wandb.ai/rohanprasad/testing/sweeps/qsaz1i8g</a>"
     },
     "metadata": {},
     "output_type": "display_data"
    },
    {
     "data": {
      "text/plain": "<IPython.core.display.HTML object>",
      "text/html": " View run at <a href='https://wandb.ai/rohanprasad/testing/runs/rpdukvef' target=\"_blank\">https://wandb.ai/rohanprasad/testing/runs/rpdukvef</a>"
     },
     "metadata": {},
     "output_type": "display_data"
    },
    {
     "name": "stderr",
     "output_type": "stream",
     "text": [
      "2023-12-03 19:23:44,223 [Thread-10 (_] [INFO ]  Starting sweep [ run  rpdukvef ] with config = \n",
      "{'channel': 2560, 'learning_rate': 0.05, 'linear_probe_layer': 'layer1_0_conv3', 'model': 'RN50x4', 'num_iterations': 2, 'objective': 'neuron', 'optimizer': 'SGD', 'use_std_transforms': True, 'use_transforms': True, 'visualization_layer': 'layer4_5_relu3'}\n",
      "2023-12-03 19:23:44,223 [Thread-10 (_] [INFO ]  Loading CLIP model [ RN50x4 ].\n",
      "2023-12-03 19:23:47,248 [Thread-10 (_] [INFO ]  Finished loading model [ RN50x4 ]\n",
      "2023-12-03 19:23:47,249 [Thread-10 (_] [INFO ]  Finished loading transforms [ Compose(\n",
      "    Resize(size=288, interpolation=bicubic, max_size=None, antialias=warn)\n",
      "    CenterCrop(size=(288, 288))\n",
      "    Normalize(mean=(0.48145466, 0.4578275, 0.40821073), std=(0.26862954, 0.26130258, 0.27577711))\n",
      ") ]\n",
      "2023-12-03 19:23:47,249 [Thread-10 (_] [INFO ]  Registering hooks.\n",
      "2023-12-03 19:23:47,250 [Thread-10 (_] [INFO ]  Finished registering hooks.\n",
      "2023-12-03 19:23:47,257 [Thread-10 (_] [INFO ]  Retrieving weights of linear probe [ path = /Users/rohan/repositories/11785-f23-prj/faceted_visualization/probes/flower/RN50x4/layer1_0_conv3/version_4_20/model_checkpoint.pth ]\n",
      "2023-12-03 19:23:47,261 [Thread-10 (_] [INFO ]  Final list of transforms = [Resize(size=288, interpolation=bicubic, max_size=None, antialias=warn), CenterCrop(size=(288, 288)), Normalize(mean=(0.48145466, 0.4578275, 0.40821073), std=(0.26862954, 0.26130258, 0.27577711)), RandomAffine(degrees=[0.0, 0.0], translate=(0.03, 0.03), interpolation=InterpolationMode.NEAREST, fill=0), RandomAffine(degrees=[0.0, 0.0], scale=(0.9, 1.1), interpolation=InterpolationMode.NEAREST, fill=0), RandomRotation(degrees=[-10.0, 10.0], interpolation=InterpolationMode.NEAREST, expand=False, fill=0), RandomAffine(degrees=[0.0, 0.0], translate=(0.015, 0.015), interpolation=InterpolationMode.NEAREST, fill=0)]\n",
      "2023-12-03 19:23:47,262 [Thread-10 (_] [INFO ]  Starting optimization process [ run_id = rpdukvef ]...\n",
      "2023-12-03 19:23:47,631 [Thread-10 (_] [INFO ]  Epoch: 1/2: Loss = 0.4508325 :: Learning Rate = 0.0500000\n",
      "2023-12-03 19:23:48,006 [Thread-10 (_] [INFO ]  Epoch: 2/2: Loss = -2.2143137 :: Learning Rate = 0.0500000\n",
      "2023-12-03 19:23:48,044 [Thread-10 (_] [INFO ]  Completed run [ rpdukvef ]\n"
     ]
    },
    {
     "data": {
      "text/plain": "<IPython.core.display.HTML object>",
      "text/html": "Waiting for W&B process to finish... <strong style=\"color:green\">(success).</strong>"
     },
     "metadata": {},
     "output_type": "display_data"
    },
    {
     "data": {
      "text/plain": "<IPython.core.display.HTML object>",
      "text/html": "<style>\n    table.wandb td:nth-child(1) { padding: 0 10px; text-align: left ; width: auto;} td:nth-child(2) {text-align: left ; width: 100%}\n    .wandb-row { display: flex; flex-direction: row; flex-wrap: wrap; justify-content: flex-start; width: 100% }\n    .wandb-col { display: flex; flex-direction: column; flex-basis: 100%; flex: 1; padding: 10px; }\n    </style>\n<div class=\"wandb-row\"><div class=\"wandb-col\"><h3>Run history:</h3><br/><table class=\"wandb\"><tr><td>loss</td><td>█▁</td></tr></table><br/></div><div class=\"wandb-col\"><h3>Run summary:</h3><br/><table class=\"wandb\"><tr><td>loss</td><td>-2.21431</td></tr></table><br/></div></div>"
     },
     "metadata": {},
     "output_type": "display_data"
    },
    {
     "data": {
      "text/plain": "<IPython.core.display.HTML object>",
      "text/html": " View run <strong style=\"color:#cdcd00\">cool-sweep-2</strong> at: <a href='https://wandb.ai/rohanprasad/testing/runs/rpdukvef' target=\"_blank\">https://wandb.ai/rohanprasad/testing/runs/rpdukvef</a><br/>Synced 6 W&B file(s), 2 media file(s), 0 artifact file(s) and 0 other file(s)"
     },
     "metadata": {},
     "output_type": "display_data"
    },
    {
     "data": {
      "text/plain": "<IPython.core.display.HTML object>",
      "text/html": "Find logs at: <code>./wandb/run-20231203_192341-rpdukvef/logs</code>"
     },
     "metadata": {},
     "output_type": "display_data"
    },
    {
     "name": "stderr",
     "output_type": "stream",
     "text": [
      "\u001B[34m\u001B[1mwandb\u001B[0m: Agent Starting Run: ai2vrnte with config:\n",
      "\u001B[34m\u001B[1mwandb\u001B[0m: \tchannel: 2560\n",
      "\u001B[34m\u001B[1mwandb\u001B[0m: \tlearning_rate: 0.05\n",
      "\u001B[34m\u001B[1mwandb\u001B[0m: \tlinear_probe_layer: layer1_0_conv3\n",
      "\u001B[34m\u001B[1mwandb\u001B[0m: \tmodel: RN50x4\n",
      "\u001B[34m\u001B[1mwandb\u001B[0m: \tnum_iterations: 2\n",
      "\u001B[34m\u001B[1mwandb\u001B[0m: \tobjective: neuron\n",
      "\u001B[34m\u001B[1mwandb\u001B[0m: \toptimizer: SGD\n",
      "\u001B[34m\u001B[1mwandb\u001B[0m: \tuse_std_transforms: True\n",
      "\u001B[34m\u001B[1mwandb\u001B[0m: \tuse_transforms: True\n",
      "\u001B[34m\u001B[1mwandb\u001B[0m: \tvisualization_layer: layer4_5_bn3\n"
     ]
    },
    {
     "data": {
      "text/plain": "<IPython.core.display.HTML object>",
      "text/html": "wandb version 0.16.0 is available!  To upgrade, please run:\n $ pip install wandb --upgrade"
     },
     "metadata": {},
     "output_type": "display_data"
    },
    {
     "data": {
      "text/plain": "<IPython.core.display.HTML object>",
      "text/html": "Tracking run with wandb version 0.15.12"
     },
     "metadata": {},
     "output_type": "display_data"
    },
    {
     "data": {
      "text/plain": "<IPython.core.display.HTML object>",
      "text/html": "Run data is saved locally in <code>/Users/rohan/repositories/11785-f23-prj/faceted_visualization/ablations/wandb/run-20231203_192357-ai2vrnte</code>"
     },
     "metadata": {},
     "output_type": "display_data"
    },
    {
     "data": {
      "text/plain": "<IPython.core.display.HTML object>",
      "text/html": "Syncing run <strong><a href='https://wandb.ai/rohanprasad/testing/runs/ai2vrnte' target=\"_blank\">wobbly-sweep-3</a></strong> to <a href='https://wandb.ai/rohanprasad/testing' target=\"_blank\">Weights & Biases</a> (<a href='https://wandb.me/run' target=\"_blank\">docs</a>)<br/>Sweep page: <a href='https://wandb.ai/rohanprasad/testing/sweeps/qsaz1i8g' target=\"_blank\">https://wandb.ai/rohanprasad/testing/sweeps/qsaz1i8g</a>"
     },
     "metadata": {},
     "output_type": "display_data"
    },
    {
     "data": {
      "text/plain": "<IPython.core.display.HTML object>",
      "text/html": " View project at <a href='https://wandb.ai/rohanprasad/testing' target=\"_blank\">https://wandb.ai/rohanprasad/testing</a>"
     },
     "metadata": {},
     "output_type": "display_data"
    },
    {
     "data": {
      "text/plain": "<IPython.core.display.HTML object>",
      "text/html": " View sweep at <a href='https://wandb.ai/rohanprasad/testing/sweeps/qsaz1i8g' target=\"_blank\">https://wandb.ai/rohanprasad/testing/sweeps/qsaz1i8g</a>"
     },
     "metadata": {},
     "output_type": "display_data"
    },
    {
     "data": {
      "text/plain": "<IPython.core.display.HTML object>",
      "text/html": " View run at <a href='https://wandb.ai/rohanprasad/testing/runs/ai2vrnte' target=\"_blank\">https://wandb.ai/rohanprasad/testing/runs/ai2vrnte</a>"
     },
     "metadata": {},
     "output_type": "display_data"
    },
    {
     "name": "stderr",
     "output_type": "stream",
     "text": [
      "2023-12-03 19:23:59,725 [Thread-13 (_] [INFO ]  Starting sweep [ run  ai2vrnte ] with config = \n",
      "{'channel': 2560, 'learning_rate': 0.05, 'linear_probe_layer': 'layer1_0_conv3', 'model': 'RN50x4', 'num_iterations': 2, 'objective': 'neuron', 'optimizer': 'SGD', 'use_std_transforms': True, 'use_transforms': True, 'visualization_layer': 'layer4_5_bn3'}\n",
      "2023-12-03 19:23:59,726 [Thread-13 (_] [INFO ]  Loading CLIP model [ RN50x4 ].\n",
      "2023-12-03 19:24:02,632 [Thread-13 (_] [INFO ]  Finished loading model [ RN50x4 ]\n",
      "2023-12-03 19:24:02,632 [Thread-13 (_] [INFO ]  Finished loading transforms [ Compose(\n",
      "    Resize(size=288, interpolation=bicubic, max_size=None, antialias=warn)\n",
      "    CenterCrop(size=(288, 288))\n",
      "    Normalize(mean=(0.48145466, 0.4578275, 0.40821073), std=(0.26862954, 0.26130258, 0.27577711))\n",
      ") ]\n",
      "2023-12-03 19:24:02,633 [Thread-13 (_] [INFO ]  Registering hooks.\n",
      "2023-12-03 19:24:02,634 [Thread-13 (_] [INFO ]  Finished registering hooks.\n",
      "2023-12-03 19:24:02,641 [Thread-13 (_] [INFO ]  Retrieving weights of linear probe [ path = /Users/rohan/repositories/11785-f23-prj/faceted_visualization/probes/flower/RN50x4/layer1_0_conv3/version_4_20/model_checkpoint.pth ]\n",
      "2023-12-03 19:24:02,644 [Thread-13 (_] [INFO ]  Final list of transforms = [Resize(size=288, interpolation=bicubic, max_size=None, antialias=warn), CenterCrop(size=(288, 288)), Normalize(mean=(0.48145466, 0.4578275, 0.40821073), std=(0.26862954, 0.26130258, 0.27577711)), RandomAffine(degrees=[0.0, 0.0], translate=(0.03, 0.03), interpolation=InterpolationMode.NEAREST, fill=0), RandomAffine(degrees=[0.0, 0.0], scale=(0.9, 1.1), interpolation=InterpolationMode.NEAREST, fill=0), RandomRotation(degrees=[-10.0, 10.0], interpolation=InterpolationMode.NEAREST, expand=False, fill=0), RandomAffine(degrees=[0.0, 0.0], translate=(0.015, 0.015), interpolation=InterpolationMode.NEAREST, fill=0)]\n",
      "2023-12-03 19:24:02,645 [Thread-13 (_] [INFO ]  Starting optimization process [ run_id = ai2vrnte ]...\n",
      "2023-12-03 19:24:03,064 [Thread-13 (_] [INFO ]  Epoch: 1/2: Loss = 29.6426144 :: Learning Rate = 0.0500000\n",
      "2023-12-03 19:24:03,520 [Thread-13 (_] [INFO ]  Epoch: 2/2: Loss = 1.9647048 :: Learning Rate = 0.0500000\n",
      "2023-12-03 19:24:03,557 [Thread-13 (_] [INFO ]  Completed run [ ai2vrnte ]\n"
     ]
    },
    {
     "data": {
      "text/plain": "<IPython.core.display.HTML object>",
      "text/html": "Waiting for W&B process to finish... <strong style=\"color:green\">(success).</strong>"
     },
     "metadata": {},
     "output_type": "display_data"
    },
    {
     "data": {
      "text/plain": "<IPython.core.display.HTML object>",
      "text/html": "<style>\n    table.wandb td:nth-child(1) { padding: 0 10px; text-align: left ; width: auto;} td:nth-child(2) {text-align: left ; width: 100%}\n    .wandb-row { display: flex; flex-direction: row; flex-wrap: wrap; justify-content: flex-start; width: 100% }\n    .wandb-col { display: flex; flex-direction: column; flex-basis: 100%; flex: 1; padding: 10px; }\n    </style>\n<div class=\"wandb-row\"><div class=\"wandb-col\"><h3>Run history:</h3><br/><table class=\"wandb\"><tr><td>loss</td><td>█▁</td></tr></table><br/></div><div class=\"wandb-col\"><h3>Run summary:</h3><br/><table class=\"wandb\"><tr><td>loss</td><td>1.9647</td></tr></table><br/></div></div>"
     },
     "metadata": {},
     "output_type": "display_data"
    },
    {
     "data": {
      "text/plain": "<IPython.core.display.HTML object>",
      "text/html": " View run <strong style=\"color:#cdcd00\">wobbly-sweep-3</strong> at: <a href='https://wandb.ai/rohanprasad/testing/runs/ai2vrnte' target=\"_blank\">https://wandb.ai/rohanprasad/testing/runs/ai2vrnte</a><br/>Synced 6 W&B file(s), 2 media file(s), 0 artifact file(s) and 0 other file(s)"
     },
     "metadata": {},
     "output_type": "display_data"
    },
    {
     "data": {
      "text/plain": "<IPython.core.display.HTML object>",
      "text/html": "Find logs at: <code>./wandb/run-20231203_192357-ai2vrnte/logs</code>"
     },
     "metadata": {},
     "output_type": "display_data"
    },
    {
     "name": "stderr",
     "output_type": "stream",
     "text": [
      "\u001B[34m\u001B[1mwandb\u001B[0m: Agent Starting Run: m0szeetu with config:\n",
      "\u001B[34m\u001B[1mwandb\u001B[0m: \tchannel: 2560\n",
      "\u001B[34m\u001B[1mwandb\u001B[0m: \tlearning_rate: 0.05\n",
      "\u001B[34m\u001B[1mwandb\u001B[0m: \tlinear_probe_layer: layer1_0_conv3\n",
      "\u001B[34m\u001B[1mwandb\u001B[0m: \tmodel: RN50x4\n",
      "\u001B[34m\u001B[1mwandb\u001B[0m: \tnum_iterations: 2\n",
      "\u001B[34m\u001B[1mwandb\u001B[0m: \tobjective: neuron\n",
      "\u001B[34m\u001B[1mwandb\u001B[0m: \toptimizer: SGD\n",
      "\u001B[34m\u001B[1mwandb\u001B[0m: \tuse_std_transforms: True\n",
      "\u001B[34m\u001B[1mwandb\u001B[0m: \tuse_transforms: False\n",
      "\u001B[34m\u001B[1mwandb\u001B[0m: \tvisualization_layer: layer4_5_conv3\n"
     ]
    },
    {
     "data": {
      "text/plain": "<IPython.core.display.HTML object>",
      "text/html": "wandb version 0.16.0 is available!  To upgrade, please run:\n $ pip install wandb --upgrade"
     },
     "metadata": {},
     "output_type": "display_data"
    },
    {
     "data": {
      "text/plain": "<IPython.core.display.HTML object>",
      "text/html": "Tracking run with wandb version 0.15.12"
     },
     "metadata": {},
     "output_type": "display_data"
    },
    {
     "data": {
      "text/plain": "<IPython.core.display.HTML object>",
      "text/html": "Run data is saved locally in <code>/Users/rohan/repositories/11785-f23-prj/faceted_visualization/ablations/wandb/run-20231203_192412-m0szeetu</code>"
     },
     "metadata": {},
     "output_type": "display_data"
    },
    {
     "data": {
      "text/plain": "<IPython.core.display.HTML object>",
      "text/html": "Syncing run <strong><a href='https://wandb.ai/rohanprasad/testing/runs/m0szeetu' target=\"_blank\">atomic-sweep-4</a></strong> to <a href='https://wandb.ai/rohanprasad/testing' target=\"_blank\">Weights & Biases</a> (<a href='https://wandb.me/run' target=\"_blank\">docs</a>)<br/>Sweep page: <a href='https://wandb.ai/rohanprasad/testing/sweeps/qsaz1i8g' target=\"_blank\">https://wandb.ai/rohanprasad/testing/sweeps/qsaz1i8g</a>"
     },
     "metadata": {},
     "output_type": "display_data"
    },
    {
     "data": {
      "text/plain": "<IPython.core.display.HTML object>",
      "text/html": " View project at <a href='https://wandb.ai/rohanprasad/testing' target=\"_blank\">https://wandb.ai/rohanprasad/testing</a>"
     },
     "metadata": {},
     "output_type": "display_data"
    },
    {
     "data": {
      "text/plain": "<IPython.core.display.HTML object>",
      "text/html": " View sweep at <a href='https://wandb.ai/rohanprasad/testing/sweeps/qsaz1i8g' target=\"_blank\">https://wandb.ai/rohanprasad/testing/sweeps/qsaz1i8g</a>"
     },
     "metadata": {},
     "output_type": "display_data"
    },
    {
     "data": {
      "text/plain": "<IPython.core.display.HTML object>",
      "text/html": " View run at <a href='https://wandb.ai/rohanprasad/testing/runs/m0szeetu' target=\"_blank\">https://wandb.ai/rohanprasad/testing/runs/m0szeetu</a>"
     },
     "metadata": {},
     "output_type": "display_data"
    },
    {
     "name": "stderr",
     "output_type": "stream",
     "text": [
      "2023-12-03 19:24:15,086 [Thread-16 (_] [INFO ]  Starting sweep [ run  m0szeetu ] with config = \n",
      "{'channel': 2560, 'learning_rate': 0.05, 'linear_probe_layer': 'layer1_0_conv3', 'model': 'RN50x4', 'num_iterations': 2, 'objective': 'neuron', 'optimizer': 'SGD', 'use_std_transforms': True, 'use_transforms': False, 'visualization_layer': 'layer4_5_conv3'}\n",
      "2023-12-03 19:24:15,086 [Thread-16 (_] [INFO ]  Loading CLIP model [ RN50x4 ].\n",
      "2023-12-03 19:24:18,191 [Thread-16 (_] [INFO ]  Finished loading model [ RN50x4 ]\n",
      "2023-12-03 19:24:18,192 [Thread-16 (_] [INFO ]  Finished loading transforms [ Compose(\n",
      "    Resize(size=288, interpolation=bicubic, max_size=None, antialias=warn)\n",
      "    CenterCrop(size=(288, 288))\n",
      "    Normalize(mean=(0.48145466, 0.4578275, 0.40821073), std=(0.26862954, 0.26130258, 0.27577711))\n",
      ") ]\n",
      "2023-12-03 19:24:18,193 [Thread-16 (_] [INFO ]  Registering hooks.\n",
      "2023-12-03 19:24:18,194 [Thread-16 (_] [INFO ]  Finished registering hooks.\n",
      "2023-12-03 19:24:18,199 [Thread-16 (_] [INFO ]  Retrieving weights of linear probe [ path = /Users/rohan/repositories/11785-f23-prj/faceted_visualization/probes/flower/RN50x4/layer1_0_conv3/version_4_20/model_checkpoint.pth ]\n",
      "2023-12-03 19:24:18,203 [Thread-16 (_] [INFO ]  Final list of transforms = [RandomAffine(degrees=[0.0, 0.0], translate=(0.03, 0.03), interpolation=InterpolationMode.NEAREST, fill=0), RandomAffine(degrees=[0.0, 0.0], scale=(0.9, 1.1), interpolation=InterpolationMode.NEAREST, fill=0), RandomRotation(degrees=[-10.0, 10.0], interpolation=InterpolationMode.NEAREST, expand=False, fill=0), RandomAffine(degrees=[0.0, 0.0], translate=(0.015, 0.015), interpolation=InterpolationMode.NEAREST, fill=0)]\n",
      "2023-12-03 19:24:18,204 [Thread-16 (_] [INFO ]  Starting optimization process [ run_id = m0szeetu ]...\n",
      "2023-12-03 19:24:18,624 [Thread-16 (_] [INFO ]  Epoch: 1/2: Loss = -0.0944246 :: Learning Rate = 0.0500000\n",
      "2023-12-03 19:24:19,142 [Thread-16 (_] [INFO ]  Epoch: 2/2: Loss = 0.1941738 :: Learning Rate = 0.0500000\n",
      "2023-12-03 19:24:19,184 [Thread-16 (_] [INFO ]  Completed run [ m0szeetu ]\n"
     ]
    },
    {
     "data": {
      "text/plain": "<IPython.core.display.HTML object>",
      "text/html": "Waiting for W&B process to finish... <strong style=\"color:green\">(success).</strong>"
     },
     "metadata": {},
     "output_type": "display_data"
    },
    {
     "data": {
      "text/plain": "<IPython.core.display.HTML object>",
      "text/html": "<style>\n    table.wandb td:nth-child(1) { padding: 0 10px; text-align: left ; width: auto;} td:nth-child(2) {text-align: left ; width: 100%}\n    .wandb-row { display: flex; flex-direction: row; flex-wrap: wrap; justify-content: flex-start; width: 100% }\n    .wandb-col { display: flex; flex-direction: column; flex-basis: 100%; flex: 1; padding: 10px; }\n    </style>\n<div class=\"wandb-row\"><div class=\"wandb-col\"><h3>Run history:</h3><br/><table class=\"wandb\"><tr><td>loss</td><td>▁█</td></tr></table><br/></div><div class=\"wandb-col\"><h3>Run summary:</h3><br/><table class=\"wandb\"><tr><td>loss</td><td>0.19417</td></tr></table><br/></div></div>"
     },
     "metadata": {},
     "output_type": "display_data"
    },
    {
     "data": {
      "text/plain": "<IPython.core.display.HTML object>",
      "text/html": " View run <strong style=\"color:#cdcd00\">atomic-sweep-4</strong> at: <a href='https://wandb.ai/rohanprasad/testing/runs/m0szeetu' target=\"_blank\">https://wandb.ai/rohanprasad/testing/runs/m0szeetu</a><br/>Synced 6 W&B file(s), 2 media file(s), 0 artifact file(s) and 0 other file(s)"
     },
     "metadata": {},
     "output_type": "display_data"
    },
    {
     "data": {
      "text/plain": "<IPython.core.display.HTML object>",
      "text/html": "Find logs at: <code>./wandb/run-20231203_192412-m0szeetu/logs</code>"
     },
     "metadata": {},
     "output_type": "display_data"
    },
    {
     "name": "stderr",
     "output_type": "stream",
     "text": [
      "\u001B[34m\u001B[1mwandb\u001B[0m: Agent Starting Run: rq4gh5pl with config:\n",
      "\u001B[34m\u001B[1mwandb\u001B[0m: \tchannel: 2560\n",
      "\u001B[34m\u001B[1mwandb\u001B[0m: \tlearning_rate: 0.05\n",
      "\u001B[34m\u001B[1mwandb\u001B[0m: \tlinear_probe_layer: layer1_0_conv3\n",
      "\u001B[34m\u001B[1mwandb\u001B[0m: \tmodel: RN50x4\n",
      "\u001B[34m\u001B[1mwandb\u001B[0m: \tnum_iterations: 2\n",
      "\u001B[34m\u001B[1mwandb\u001B[0m: \tobjective: neuron\n",
      "\u001B[34m\u001B[1mwandb\u001B[0m: \toptimizer: SGD\n",
      "\u001B[34m\u001B[1mwandb\u001B[0m: \tuse_std_transforms: True\n",
      "\u001B[34m\u001B[1mwandb\u001B[0m: \tuse_transforms: False\n",
      "\u001B[34m\u001B[1mwandb\u001B[0m: \tvisualization_layer: layer4_5_relu3\n"
     ]
    },
    {
     "data": {
      "text/plain": "<IPython.core.display.HTML object>",
      "text/html": "wandb version 0.16.0 is available!  To upgrade, please run:\n $ pip install wandb --upgrade"
     },
     "metadata": {},
     "output_type": "display_data"
    },
    {
     "data": {
      "text/plain": "<IPython.core.display.HTML object>",
      "text/html": "Tracking run with wandb version 0.15.12"
     },
     "metadata": {},
     "output_type": "display_data"
    },
    {
     "data": {
      "text/plain": "<IPython.core.display.HTML object>",
      "text/html": "Run data is saved locally in <code>/Users/rohan/repositories/11785-f23-prj/faceted_visualization/ablations/wandb/run-20231203_192428-rq4gh5pl</code>"
     },
     "metadata": {},
     "output_type": "display_data"
    },
    {
     "data": {
      "text/plain": "<IPython.core.display.HTML object>",
      "text/html": "Syncing run <strong><a href='https://wandb.ai/rohanprasad/testing/runs/rq4gh5pl' target=\"_blank\">crisp-sweep-5</a></strong> to <a href='https://wandb.ai/rohanprasad/testing' target=\"_blank\">Weights & Biases</a> (<a href='https://wandb.me/run' target=\"_blank\">docs</a>)<br/>Sweep page: <a href='https://wandb.ai/rohanprasad/testing/sweeps/qsaz1i8g' target=\"_blank\">https://wandb.ai/rohanprasad/testing/sweeps/qsaz1i8g</a>"
     },
     "metadata": {},
     "output_type": "display_data"
    },
    {
     "data": {
      "text/plain": "<IPython.core.display.HTML object>",
      "text/html": " View project at <a href='https://wandb.ai/rohanprasad/testing' target=\"_blank\">https://wandb.ai/rohanprasad/testing</a>"
     },
     "metadata": {},
     "output_type": "display_data"
    },
    {
     "data": {
      "text/plain": "<IPython.core.display.HTML object>",
      "text/html": " View sweep at <a href='https://wandb.ai/rohanprasad/testing/sweeps/qsaz1i8g' target=\"_blank\">https://wandb.ai/rohanprasad/testing/sweeps/qsaz1i8g</a>"
     },
     "metadata": {},
     "output_type": "display_data"
    },
    {
     "data": {
      "text/plain": "<IPython.core.display.HTML object>",
      "text/html": " View run at <a href='https://wandb.ai/rohanprasad/testing/runs/rq4gh5pl' target=\"_blank\">https://wandb.ai/rohanprasad/testing/runs/rq4gh5pl</a>"
     },
     "metadata": {},
     "output_type": "display_data"
    },
    {
     "name": "stderr",
     "output_type": "stream",
     "text": [
      "2023-12-03 19:24:30,454 [Thread-19 (_] [INFO ]  Starting sweep [ run  rq4gh5pl ] with config = \n",
      "{'channel': 2560, 'learning_rate': 0.05, 'linear_probe_layer': 'layer1_0_conv3', 'model': 'RN50x4', 'num_iterations': 2, 'objective': 'neuron', 'optimizer': 'SGD', 'use_std_transforms': True, 'use_transforms': False, 'visualization_layer': 'layer4_5_relu3'}\n",
      "2023-12-03 19:24:30,454 [Thread-19 (_] [INFO ]  Loading CLIP model [ RN50x4 ].\n",
      "2023-12-03 19:24:34,085 [Thread-19 (_] [INFO ]  Finished loading model [ RN50x4 ]\n",
      "2023-12-03 19:24:34,087 [Thread-19 (_] [INFO ]  Finished loading transforms [ Compose(\n",
      "    Resize(size=288, interpolation=bicubic, max_size=None, antialias=warn)\n",
      "    CenterCrop(size=(288, 288))\n",
      "    Normalize(mean=(0.48145466, 0.4578275, 0.40821073), std=(0.26862954, 0.26130258, 0.27577711))\n",
      ") ]\n",
      "2023-12-03 19:24:34,087 [Thread-19 (_] [INFO ]  Registering hooks.\n",
      "2023-12-03 19:24:34,089 [Thread-19 (_] [INFO ]  Finished registering hooks.\n",
      "2023-12-03 19:24:34,093 [Thread-19 (_] [INFO ]  Retrieving weights of linear probe [ path = /Users/rohan/repositories/11785-f23-prj/faceted_visualization/probes/flower/RN50x4/layer1_0_conv3/version_4_20/model_checkpoint.pth ]\n",
      "2023-12-03 19:24:34,099 [Thread-19 (_] [INFO ]  Final list of transforms = [RandomAffine(degrees=[0.0, 0.0], translate=(0.03, 0.03), interpolation=InterpolationMode.NEAREST, fill=0), RandomAffine(degrees=[0.0, 0.0], scale=(0.9, 1.1), interpolation=InterpolationMode.NEAREST, fill=0), RandomRotation(degrees=[-10.0, 10.0], interpolation=InterpolationMode.NEAREST, expand=False, fill=0), RandomAffine(degrees=[0.0, 0.0], translate=(0.015, 0.015), interpolation=InterpolationMode.NEAREST, fill=0)]\n",
      "2023-12-03 19:24:34,099 [Thread-19 (_] [INFO ]  Starting optimization process [ run_id = rq4gh5pl ]...\n",
      "2023-12-03 19:24:34,565 [Thread-19 (_] [INFO ]  Epoch: 1/2: Loss = -0.8336104 :: Learning Rate = 0.0500000\n",
      "2023-12-03 19:24:34,982 [Thread-19 (_] [INFO ]  Epoch: 2/2: Loss = -2.6281219 :: Learning Rate = 0.0500000\n",
      "2023-12-03 19:24:35,021 [Thread-19 (_] [INFO ]  Completed run [ rq4gh5pl ]\n"
     ]
    },
    {
     "data": {
      "text/plain": "<IPython.core.display.HTML object>",
      "text/html": "Waiting for W&B process to finish... <strong style=\"color:green\">(success).</strong>"
     },
     "metadata": {},
     "output_type": "display_data"
    },
    {
     "data": {
      "text/plain": "VBox(children=(Label(value='0.104 MB of 0.104 MB uploaded (0.000 MB deduped)\\r'), FloatProgress(value=1.0, max…",
      "application/vnd.jupyter.widget-view+json": {
       "version_major": 2,
       "version_minor": 0,
       "model_id": "537bacc77b524e2e851ec0df61b6b398"
      }
     },
     "metadata": {},
     "output_type": "display_data"
    },
    {
     "data": {
      "text/plain": "<IPython.core.display.HTML object>",
      "text/html": "<style>\n    table.wandb td:nth-child(1) { padding: 0 10px; text-align: left ; width: auto;} td:nth-child(2) {text-align: left ; width: 100%}\n    .wandb-row { display: flex; flex-direction: row; flex-wrap: wrap; justify-content: flex-start; width: 100% }\n    .wandb-col { display: flex; flex-direction: column; flex-basis: 100%; flex: 1; padding: 10px; }\n    </style>\n<div class=\"wandb-row\"><div class=\"wandb-col\"><h3>Run history:</h3><br/><table class=\"wandb\"><tr><td>loss</td><td>█▁</td></tr></table><br/></div><div class=\"wandb-col\"><h3>Run summary:</h3><br/><table class=\"wandb\"><tr><td>loss</td><td>-2.62812</td></tr></table><br/></div></div>"
     },
     "metadata": {},
     "output_type": "display_data"
    },
    {
     "data": {
      "text/plain": "<IPython.core.display.HTML object>",
      "text/html": " View run <strong style=\"color:#cdcd00\">crisp-sweep-5</strong> at: <a href='https://wandb.ai/rohanprasad/testing/runs/rq4gh5pl' target=\"_blank\">https://wandb.ai/rohanprasad/testing/runs/rq4gh5pl</a><br/>Synced 6 W&B file(s), 2 media file(s), 0 artifact file(s) and 0 other file(s)"
     },
     "metadata": {},
     "output_type": "display_data"
    },
    {
     "data": {
      "text/plain": "<IPython.core.display.HTML object>",
      "text/html": "Find logs at: <code>./wandb/run-20231203_192428-rq4gh5pl/logs</code>"
     },
     "metadata": {},
     "output_type": "display_data"
    },
    {
     "name": "stderr",
     "output_type": "stream",
     "text": [
      "\u001B[34m\u001B[1mwandb\u001B[0m: Agent Starting Run: t4ez4d3k with config:\n",
      "\u001B[34m\u001B[1mwandb\u001B[0m: \tchannel: 2560\n",
      "\u001B[34m\u001B[1mwandb\u001B[0m: \tlearning_rate: 0.05\n",
      "\u001B[34m\u001B[1mwandb\u001B[0m: \tlinear_probe_layer: layer1_0_conv3\n",
      "\u001B[34m\u001B[1mwandb\u001B[0m: \tmodel: RN50x4\n",
      "\u001B[34m\u001B[1mwandb\u001B[0m: \tnum_iterations: 2\n",
      "\u001B[34m\u001B[1mwandb\u001B[0m: \tobjective: neuron\n",
      "\u001B[34m\u001B[1mwandb\u001B[0m: \toptimizer: SGD\n",
      "\u001B[34m\u001B[1mwandb\u001B[0m: \tuse_std_transforms: True\n",
      "\u001B[34m\u001B[1mwandb\u001B[0m: \tuse_transforms: False\n",
      "\u001B[34m\u001B[1mwandb\u001B[0m: \tvisualization_layer: layer4_5_bn3\n"
     ]
    },
    {
     "data": {
      "text/plain": "<IPython.core.display.HTML object>",
      "text/html": "wandb version 0.16.0 is available!  To upgrade, please run:\n $ pip install wandb --upgrade"
     },
     "metadata": {},
     "output_type": "display_data"
    },
    {
     "data": {
      "text/plain": "<IPython.core.display.HTML object>",
      "text/html": "Tracking run with wandb version 0.15.12"
     },
     "metadata": {},
     "output_type": "display_data"
    },
    {
     "data": {
      "text/plain": "<IPython.core.display.HTML object>",
      "text/html": "Run data is saved locally in <code>/Users/rohan/repositories/11785-f23-prj/faceted_visualization/ablations/wandb/run-20231203_192444-t4ez4d3k</code>"
     },
     "metadata": {},
     "output_type": "display_data"
    },
    {
     "data": {
      "text/plain": "<IPython.core.display.HTML object>",
      "text/html": "Syncing run <strong><a href='https://wandb.ai/rohanprasad/testing/runs/t4ez4d3k' target=\"_blank\">worldly-sweep-6</a></strong> to <a href='https://wandb.ai/rohanprasad/testing' target=\"_blank\">Weights & Biases</a> (<a href='https://wandb.me/run' target=\"_blank\">docs</a>)<br/>Sweep page: <a href='https://wandb.ai/rohanprasad/testing/sweeps/qsaz1i8g' target=\"_blank\">https://wandb.ai/rohanprasad/testing/sweeps/qsaz1i8g</a>"
     },
     "metadata": {},
     "output_type": "display_data"
    },
    {
     "data": {
      "text/plain": "<IPython.core.display.HTML object>",
      "text/html": " View project at <a href='https://wandb.ai/rohanprasad/testing' target=\"_blank\">https://wandb.ai/rohanprasad/testing</a>"
     },
     "metadata": {},
     "output_type": "display_data"
    },
    {
     "data": {
      "text/plain": "<IPython.core.display.HTML object>",
      "text/html": " View sweep at <a href='https://wandb.ai/rohanprasad/testing/sweeps/qsaz1i8g' target=\"_blank\">https://wandb.ai/rohanprasad/testing/sweeps/qsaz1i8g</a>"
     },
     "metadata": {},
     "output_type": "display_data"
    },
    {
     "data": {
      "text/plain": "<IPython.core.display.HTML object>",
      "text/html": " View run at <a href='https://wandb.ai/rohanprasad/testing/runs/t4ez4d3k' target=\"_blank\">https://wandb.ai/rohanprasad/testing/runs/t4ez4d3k</a>"
     },
     "metadata": {},
     "output_type": "display_data"
    },
    {
     "name": "stderr",
     "output_type": "stream",
     "text": [
      "2023-12-03 19:24:46,490 [Thread-22 (_] [INFO ]  Starting sweep [ run  t4ez4d3k ] with config = \n",
      "{'channel': 2560, 'learning_rate': 0.05, 'linear_probe_layer': 'layer1_0_conv3', 'model': 'RN50x4', 'num_iterations': 2, 'objective': 'neuron', 'optimizer': 'SGD', 'use_std_transforms': True, 'use_transforms': False, 'visualization_layer': 'layer4_5_bn3'}\n",
      "2023-12-03 19:24:46,491 [Thread-22 (_] [INFO ]  Loading CLIP model [ RN50x4 ].\n",
      "2023-12-03 19:24:50,287 [Thread-22 (_] [INFO ]  Finished loading model [ RN50x4 ]\n",
      "2023-12-03 19:24:50,289 [Thread-22 (_] [INFO ]  Finished loading transforms [ Compose(\n",
      "    Resize(size=288, interpolation=bicubic, max_size=None, antialias=warn)\n",
      "    CenterCrop(size=(288, 288))\n",
      "    Normalize(mean=(0.48145466, 0.4578275, 0.40821073), std=(0.26862954, 0.26130258, 0.27577711))\n",
      ") ]\n",
      "2023-12-03 19:24:50,289 [Thread-22 (_] [INFO ]  Registering hooks.\n",
      "2023-12-03 19:24:50,291 [Thread-22 (_] [INFO ]  Finished registering hooks.\n",
      "2023-12-03 19:24:50,296 [Thread-22 (_] [INFO ]  Retrieving weights of linear probe [ path = /Users/rohan/repositories/11785-f23-prj/faceted_visualization/probes/flower/RN50x4/layer1_0_conv3/version_4_20/model_checkpoint.pth ]\n",
      "2023-12-03 19:24:50,300 [Thread-22 (_] [INFO ]  Final list of transforms = [RandomAffine(degrees=[0.0, 0.0], translate=(0.03, 0.03), interpolation=InterpolationMode.NEAREST, fill=0), RandomAffine(degrees=[0.0, 0.0], scale=(0.9, 1.1), interpolation=InterpolationMode.NEAREST, fill=0), RandomRotation(degrees=[-10.0, 10.0], interpolation=InterpolationMode.NEAREST, expand=False, fill=0), RandomAffine(degrees=[0.0, 0.0], translate=(0.015, 0.015), interpolation=InterpolationMode.NEAREST, fill=0)]\n",
      "2023-12-03 19:24:50,300 [Thread-22 (_] [INFO ]  Starting optimization process [ run_id = t4ez4d3k ]...\n",
      "2023-12-03 19:24:50,735 [Thread-22 (_] [INFO ]  Epoch: 1/2: Loss = -34.9664993 :: Learning Rate = 0.0500000\n",
      "2023-12-03 19:24:51,135 [Thread-22 (_] [INFO ]  Epoch: 2/2: Loss = -16.6903934 :: Learning Rate = 0.0500000\n",
      "2023-12-03 19:24:51,173 [Thread-22 (_] [INFO ]  Completed run [ t4ez4d3k ]\n"
     ]
    },
    {
     "data": {
      "text/plain": "<IPython.core.display.HTML object>",
      "text/html": "Waiting for W&B process to finish... <strong style=\"color:green\">(success).</strong>"
     },
     "metadata": {},
     "output_type": "display_data"
    },
    {
     "data": {
      "text/plain": "VBox(children=(Label(value='0.109 MB of 0.109 MB uploaded (0.000 MB deduped)\\r'), FloatProgress(value=1.0, max…",
      "application/vnd.jupyter.widget-view+json": {
       "version_major": 2,
       "version_minor": 0,
       "model_id": "7984829995c442c4b7f22f1f5deb1269"
      }
     },
     "metadata": {},
     "output_type": "display_data"
    },
    {
     "data": {
      "text/plain": "<IPython.core.display.HTML object>",
      "text/html": "<style>\n    table.wandb td:nth-child(1) { padding: 0 10px; text-align: left ; width: auto;} td:nth-child(2) {text-align: left ; width: 100%}\n    .wandb-row { display: flex; flex-direction: row; flex-wrap: wrap; justify-content: flex-start; width: 100% }\n    .wandb-col { display: flex; flex-direction: column; flex-basis: 100%; flex: 1; padding: 10px; }\n    </style>\n<div class=\"wandb-row\"><div class=\"wandb-col\"><h3>Run history:</h3><br/><table class=\"wandb\"><tr><td>loss</td><td>▁█</td></tr></table><br/></div><div class=\"wandb-col\"><h3>Run summary:</h3><br/><table class=\"wandb\"><tr><td>loss</td><td>-16.69039</td></tr></table><br/></div></div>"
     },
     "metadata": {},
     "output_type": "display_data"
    },
    {
     "data": {
      "text/plain": "<IPython.core.display.HTML object>",
      "text/html": " View run <strong style=\"color:#cdcd00\">worldly-sweep-6</strong> at: <a href='https://wandb.ai/rohanprasad/testing/runs/t4ez4d3k' target=\"_blank\">https://wandb.ai/rohanprasad/testing/runs/t4ez4d3k</a><br/>Synced 6 W&B file(s), 2 media file(s), 0 artifact file(s) and 0 other file(s)"
     },
     "metadata": {},
     "output_type": "display_data"
    },
    {
     "data": {
      "text/plain": "<IPython.core.display.HTML object>",
      "text/html": "Find logs at: <code>./wandb/run-20231203_192444-t4ez4d3k/logs</code>"
     },
     "metadata": {},
     "output_type": "display_data"
    },
    {
     "name": "stderr",
     "output_type": "stream",
     "text": [
      "\u001B[34m\u001B[1mwandb\u001B[0m: Agent Starting Run: od0weeeg with config:\n",
      "\u001B[34m\u001B[1mwandb\u001B[0m: \tchannel: 2560\n",
      "\u001B[34m\u001B[1mwandb\u001B[0m: \tlearning_rate: 0.05\n",
      "\u001B[34m\u001B[1mwandb\u001B[0m: \tlinear_probe_layer: layer1_0_conv3\n",
      "\u001B[34m\u001B[1mwandb\u001B[0m: \tmodel: RN50x4\n",
      "\u001B[34m\u001B[1mwandb\u001B[0m: \tnum_iterations: 2\n",
      "\u001B[34m\u001B[1mwandb\u001B[0m: \tobjective: neuron\n",
      "\u001B[34m\u001B[1mwandb\u001B[0m: \toptimizer: SGD\n",
      "\u001B[34m\u001B[1mwandb\u001B[0m: \tuse_std_transforms: False\n",
      "\u001B[34m\u001B[1mwandb\u001B[0m: \tuse_transforms: True\n",
      "\u001B[34m\u001B[1mwandb\u001B[0m: \tvisualization_layer: layer4_5_conv3\n"
     ]
    },
    {
     "data": {
      "text/plain": "<IPython.core.display.HTML object>",
      "text/html": "wandb version 0.16.0 is available!  To upgrade, please run:\n $ pip install wandb --upgrade"
     },
     "metadata": {},
     "output_type": "display_data"
    },
    {
     "data": {
      "text/plain": "<IPython.core.display.HTML object>",
      "text/html": "Tracking run with wandb version 0.15.12"
     },
     "metadata": {},
     "output_type": "display_data"
    },
    {
     "data": {
      "text/plain": "<IPython.core.display.HTML object>",
      "text/html": "Run data is saved locally in <code>/Users/rohan/repositories/11785-f23-prj/faceted_visualization/ablations/wandb/run-20231203_192500-od0weeeg</code>"
     },
     "metadata": {},
     "output_type": "display_data"
    },
    {
     "data": {
      "text/plain": "<IPython.core.display.HTML object>",
      "text/html": "Syncing run <strong><a href='https://wandb.ai/rohanprasad/testing/runs/od0weeeg' target=\"_blank\">hardy-sweep-7</a></strong> to <a href='https://wandb.ai/rohanprasad/testing' target=\"_blank\">Weights & Biases</a> (<a href='https://wandb.me/run' target=\"_blank\">docs</a>)<br/>Sweep page: <a href='https://wandb.ai/rohanprasad/testing/sweeps/qsaz1i8g' target=\"_blank\">https://wandb.ai/rohanprasad/testing/sweeps/qsaz1i8g</a>"
     },
     "metadata": {},
     "output_type": "display_data"
    },
    {
     "data": {
      "text/plain": "<IPython.core.display.HTML object>",
      "text/html": " View project at <a href='https://wandb.ai/rohanprasad/testing' target=\"_blank\">https://wandb.ai/rohanprasad/testing</a>"
     },
     "metadata": {},
     "output_type": "display_data"
    },
    {
     "data": {
      "text/plain": "<IPython.core.display.HTML object>",
      "text/html": " View sweep at <a href='https://wandb.ai/rohanprasad/testing/sweeps/qsaz1i8g' target=\"_blank\">https://wandb.ai/rohanprasad/testing/sweeps/qsaz1i8g</a>"
     },
     "metadata": {},
     "output_type": "display_data"
    },
    {
     "data": {
      "text/plain": "<IPython.core.display.HTML object>",
      "text/html": " View run at <a href='https://wandb.ai/rohanprasad/testing/runs/od0weeeg' target=\"_blank\">https://wandb.ai/rohanprasad/testing/runs/od0weeeg</a>"
     },
     "metadata": {},
     "output_type": "display_data"
    },
    {
     "name": "stderr",
     "output_type": "stream",
     "text": [
      "2023-12-03 19:25:03,866 [Thread-25 (_] [INFO ]  Starting sweep [ run  od0weeeg ] with config = \n",
      "{'channel': 2560, 'learning_rate': 0.05, 'linear_probe_layer': 'layer1_0_conv3', 'model': 'RN50x4', 'num_iterations': 2, 'objective': 'neuron', 'optimizer': 'SGD', 'use_std_transforms': False, 'use_transforms': True, 'visualization_layer': 'layer4_5_conv3'}\n",
      "2023-12-03 19:25:03,867 [Thread-25 (_] [INFO ]  Loading CLIP model [ RN50x4 ].\n",
      "2023-12-03 19:25:08,443 [Thread-25 (_] [INFO ]  Finished loading model [ RN50x4 ]\n",
      "2023-12-03 19:25:08,444 [Thread-25 (_] [INFO ]  Finished loading transforms [ Compose(\n",
      "    Resize(size=288, interpolation=bicubic, max_size=None, antialias=warn)\n",
      "    CenterCrop(size=(288, 288))\n",
      "    Normalize(mean=(0.48145466, 0.4578275, 0.40821073), std=(0.26862954, 0.26130258, 0.27577711))\n",
      ") ]\n",
      "2023-12-03 19:25:08,444 [Thread-25 (_] [INFO ]  Registering hooks.\n",
      "2023-12-03 19:25:08,447 [Thread-25 (_] [INFO ]  Finished registering hooks.\n",
      "2023-12-03 19:25:08,453 [Thread-25 (_] [INFO ]  Retrieving weights of linear probe [ path = /Users/rohan/repositories/11785-f23-prj/faceted_visualization/probes/flower/RN50x4/layer1_0_conv3/version_4_20/model_checkpoint.pth ]\n",
      "2023-12-03 19:25:08,456 [Thread-25 (_] [INFO ]  Final list of transforms = [Resize(size=288, interpolation=bicubic, max_size=None, antialias=warn), CenterCrop(size=(288, 288)), Normalize(mean=(0.48145466, 0.4578275, 0.40821073), std=(0.26862954, 0.26130258, 0.27577711))]\n",
      "2023-12-03 19:25:08,457 [Thread-25 (_] [INFO ]  Starting optimization process [ run_id = od0weeeg ]...\n",
      "2023-12-03 19:25:08,974 [Thread-25 (_] [INFO ]  Epoch: 1/2: Loss = 0.0687082 :: Learning Rate = 0.0500000\n",
      "2023-12-03 19:25:09,437 [Thread-25 (_] [INFO ]  Epoch: 2/2: Loss = 0.1720607 :: Learning Rate = 0.0500000\n",
      "2023-12-03 19:25:09,474 [Thread-25 (_] [INFO ]  Completed run [ od0weeeg ]\n"
     ]
    },
    {
     "data": {
      "text/plain": "<IPython.core.display.HTML object>",
      "text/html": "Waiting for W&B process to finish... <strong style=\"color:green\">(success).</strong>"
     },
     "metadata": {},
     "output_type": "display_data"
    },
    {
     "data": {
      "text/plain": "<IPython.core.display.HTML object>",
      "text/html": "<style>\n    table.wandb td:nth-child(1) { padding: 0 10px; text-align: left ; width: auto;} td:nth-child(2) {text-align: left ; width: 100%}\n    .wandb-row { display: flex; flex-direction: row; flex-wrap: wrap; justify-content: flex-start; width: 100% }\n    .wandb-col { display: flex; flex-direction: column; flex-basis: 100%; flex: 1; padding: 10px; }\n    </style>\n<div class=\"wandb-row\"><div class=\"wandb-col\"><h3>Run history:</h3><br/><table class=\"wandb\"><tr><td>loss</td><td>▁█</td></tr></table><br/></div><div class=\"wandb-col\"><h3>Run summary:</h3><br/><table class=\"wandb\"><tr><td>loss</td><td>0.17206</td></tr></table><br/></div></div>"
     },
     "metadata": {},
     "output_type": "display_data"
    },
    {
     "data": {
      "text/plain": "<IPython.core.display.HTML object>",
      "text/html": " View run <strong style=\"color:#cdcd00\">hardy-sweep-7</strong> at: <a href='https://wandb.ai/rohanprasad/testing/runs/od0weeeg' target=\"_blank\">https://wandb.ai/rohanprasad/testing/runs/od0weeeg</a><br/>Synced 6 W&B file(s), 2 media file(s), 0 artifact file(s) and 0 other file(s)"
     },
     "metadata": {},
     "output_type": "display_data"
    },
    {
     "data": {
      "text/plain": "<IPython.core.display.HTML object>",
      "text/html": "Find logs at: <code>./wandb/run-20231203_192500-od0weeeg/logs</code>"
     },
     "metadata": {},
     "output_type": "display_data"
    },
    {
     "name": "stderr",
     "output_type": "stream",
     "text": [
      "\u001B[34m\u001B[1mwandb\u001B[0m: Agent Starting Run: sjlc85c3 with config:\n",
      "\u001B[34m\u001B[1mwandb\u001B[0m: \tchannel: 2560\n",
      "\u001B[34m\u001B[1mwandb\u001B[0m: \tlearning_rate: 0.05\n",
      "\u001B[34m\u001B[1mwandb\u001B[0m: \tlinear_probe_layer: layer1_0_conv3\n",
      "\u001B[34m\u001B[1mwandb\u001B[0m: \tmodel: RN50x4\n",
      "\u001B[34m\u001B[1mwandb\u001B[0m: \tnum_iterations: 2\n",
      "\u001B[34m\u001B[1mwandb\u001B[0m: \tobjective: neuron\n",
      "\u001B[34m\u001B[1mwandb\u001B[0m: \toptimizer: SGD\n",
      "\u001B[34m\u001B[1mwandb\u001B[0m: \tuse_std_transforms: False\n",
      "\u001B[34m\u001B[1mwandb\u001B[0m: \tuse_transforms: True\n",
      "\u001B[34m\u001B[1mwandb\u001B[0m: \tvisualization_layer: layer4_5_relu3\n"
     ]
    },
    {
     "data": {
      "text/plain": "<IPython.core.display.HTML object>",
      "text/html": "wandb version 0.16.0 is available!  To upgrade, please run:\n $ pip install wandb --upgrade"
     },
     "metadata": {},
     "output_type": "display_data"
    },
    {
     "data": {
      "text/plain": "<IPython.core.display.HTML object>",
      "text/html": "Tracking run with wandb version 0.15.12"
     },
     "metadata": {},
     "output_type": "display_data"
    },
    {
     "data": {
      "text/plain": "<IPython.core.display.HTML object>",
      "text/html": "Run data is saved locally in <code>/Users/rohan/repositories/11785-f23-prj/faceted_visualization/ablations/wandb/run-20231203_192515-sjlc85c3</code>"
     },
     "metadata": {},
     "output_type": "display_data"
    },
    {
     "data": {
      "text/plain": "<IPython.core.display.HTML object>",
      "text/html": "Syncing run <strong><a href='https://wandb.ai/rohanprasad/testing/runs/sjlc85c3' target=\"_blank\">comfy-sweep-8</a></strong> to <a href='https://wandb.ai/rohanprasad/testing' target=\"_blank\">Weights & Biases</a> (<a href='https://wandb.me/run' target=\"_blank\">docs</a>)<br/>Sweep page: <a href='https://wandb.ai/rohanprasad/testing/sweeps/qsaz1i8g' target=\"_blank\">https://wandb.ai/rohanprasad/testing/sweeps/qsaz1i8g</a>"
     },
     "metadata": {},
     "output_type": "display_data"
    },
    {
     "data": {
      "text/plain": "<IPython.core.display.HTML object>",
      "text/html": " View project at <a href='https://wandb.ai/rohanprasad/testing' target=\"_blank\">https://wandb.ai/rohanprasad/testing</a>"
     },
     "metadata": {},
     "output_type": "display_data"
    },
    {
     "data": {
      "text/plain": "<IPython.core.display.HTML object>",
      "text/html": " View sweep at <a href='https://wandb.ai/rohanprasad/testing/sweeps/qsaz1i8g' target=\"_blank\">https://wandb.ai/rohanprasad/testing/sweeps/qsaz1i8g</a>"
     },
     "metadata": {},
     "output_type": "display_data"
    },
    {
     "data": {
      "text/plain": "<IPython.core.display.HTML object>",
      "text/html": " View run at <a href='https://wandb.ai/rohanprasad/testing/runs/sjlc85c3' target=\"_blank\">https://wandb.ai/rohanprasad/testing/runs/sjlc85c3</a>"
     },
     "metadata": {},
     "output_type": "display_data"
    },
    {
     "name": "stderr",
     "output_type": "stream",
     "text": [
      "2023-12-03 19:25:17,686 [Thread-28 (_] [INFO ]  Starting sweep [ run  sjlc85c3 ] with config = \n",
      "{'channel': 2560, 'learning_rate': 0.05, 'linear_probe_layer': 'layer1_0_conv3', 'model': 'RN50x4', 'num_iterations': 2, 'objective': 'neuron', 'optimizer': 'SGD', 'use_std_transforms': False, 'use_transforms': True, 'visualization_layer': 'layer4_5_relu3'}\n",
      "2023-12-03 19:25:17,687 [Thread-28 (_] [INFO ]  Loading CLIP model [ RN50x4 ].\n",
      "2023-12-03 19:25:20,627 [Thread-28 (_] [INFO ]  Finished loading model [ RN50x4 ]\n",
      "2023-12-03 19:25:20,627 [Thread-28 (_] [INFO ]  Finished loading transforms [ Compose(\n",
      "    Resize(size=288, interpolation=bicubic, max_size=None, antialias=warn)\n",
      "    CenterCrop(size=(288, 288))\n",
      "    Normalize(mean=(0.48145466, 0.4578275, 0.40821073), std=(0.26862954, 0.26130258, 0.27577711))\n",
      ") ]\n",
      "2023-12-03 19:25:20,628 [Thread-28 (_] [INFO ]  Registering hooks.\n",
      "2023-12-03 19:25:20,629 [Thread-28 (_] [INFO ]  Finished registering hooks.\n",
      "2023-12-03 19:25:20,633 [Thread-28 (_] [INFO ]  Retrieving weights of linear probe [ path = /Users/rohan/repositories/11785-f23-prj/faceted_visualization/probes/flower/RN50x4/layer1_0_conv3/version_4_20/model_checkpoint.pth ]\n",
      "2023-12-03 19:25:20,637 [Thread-28 (_] [INFO ]  Final list of transforms = [Resize(size=288, interpolation=bicubic, max_size=None, antialias=warn), CenterCrop(size=(288, 288)), Normalize(mean=(0.48145466, 0.4578275, 0.40821073), std=(0.26862954, 0.26130258, 0.27577711))]\n",
      "2023-12-03 19:25:20,637 [Thread-28 (_] [INFO ]  Starting optimization process [ run_id = sjlc85c3 ]...\n",
      "2023-12-03 19:25:21,096 [Thread-28 (_] [INFO ]  Epoch: 1/2: Loss = 0.9961434 :: Learning Rate = 0.0500000\n",
      "2023-12-03 19:25:21,496 [Thread-28 (_] [INFO ]  Epoch: 2/2: Loss = -5.3109388 :: Learning Rate = 0.0500000\n",
      "2023-12-03 19:25:21,532 [Thread-28 (_] [INFO ]  Completed run [ sjlc85c3 ]\n"
     ]
    },
    {
     "data": {
      "text/plain": "<IPython.core.display.HTML object>",
      "text/html": "Waiting for W&B process to finish... <strong style=\"color:green\">(success).</strong>"
     },
     "metadata": {},
     "output_type": "display_data"
    },
    {
     "data": {
      "text/plain": "VBox(children=(Label(value='0.105 MB of 0.119 MB uploaded (0.000 MB deduped)\\r'), FloatProgress(value=0.882629…",
      "application/vnd.jupyter.widget-view+json": {
       "version_major": 2,
       "version_minor": 0,
       "model_id": "eabbbd0304ec46aca802f7c078842d76"
      }
     },
     "metadata": {},
     "output_type": "display_data"
    },
    {
     "data": {
      "text/plain": "<IPython.core.display.HTML object>",
      "text/html": "<style>\n    table.wandb td:nth-child(1) { padding: 0 10px; text-align: left ; width: auto;} td:nth-child(2) {text-align: left ; width: 100%}\n    .wandb-row { display: flex; flex-direction: row; flex-wrap: wrap; justify-content: flex-start; width: 100% }\n    .wandb-col { display: flex; flex-direction: column; flex-basis: 100%; flex: 1; padding: 10px; }\n    </style>\n<div class=\"wandb-row\"><div class=\"wandb-col\"><h3>Run history:</h3><br/><table class=\"wandb\"><tr><td>loss</td><td>█▁</td></tr></table><br/></div><div class=\"wandb-col\"><h3>Run summary:</h3><br/><table class=\"wandb\"><tr><td>loss</td><td>-5.31094</td></tr></table><br/></div></div>"
     },
     "metadata": {},
     "output_type": "display_data"
    },
    {
     "data": {
      "text/plain": "<IPython.core.display.HTML object>",
      "text/html": " View run <strong style=\"color:#cdcd00\">comfy-sweep-8</strong> at: <a href='https://wandb.ai/rohanprasad/testing/runs/sjlc85c3' target=\"_blank\">https://wandb.ai/rohanprasad/testing/runs/sjlc85c3</a><br/>Synced 6 W&B file(s), 2 media file(s), 0 artifact file(s) and 0 other file(s)"
     },
     "metadata": {},
     "output_type": "display_data"
    },
    {
     "data": {
      "text/plain": "<IPython.core.display.HTML object>",
      "text/html": "Find logs at: <code>./wandb/run-20231203_192515-sjlc85c3/logs</code>"
     },
     "metadata": {},
     "output_type": "display_data"
    },
    {
     "name": "stderr",
     "output_type": "stream",
     "text": [
      "\u001B[34m\u001B[1mwandb\u001B[0m: Sweep Agent: Waiting for job.\n",
      "\u001B[34m\u001B[1mwandb\u001B[0m: Job received.\n",
      "\u001B[34m\u001B[1mwandb\u001B[0m: Agent Starting Run: w5z7pkxo with config:\n",
      "\u001B[34m\u001B[1mwandb\u001B[0m: \tchannel: 2560\n",
      "\u001B[34m\u001B[1mwandb\u001B[0m: \tlearning_rate: 0.05\n",
      "\u001B[34m\u001B[1mwandb\u001B[0m: \tlinear_probe_layer: layer1_0_conv3\n",
      "\u001B[34m\u001B[1mwandb\u001B[0m: \tmodel: RN50x4\n",
      "\u001B[34m\u001B[1mwandb\u001B[0m: \tnum_iterations: 2\n",
      "\u001B[34m\u001B[1mwandb\u001B[0m: \tobjective: neuron\n",
      "\u001B[34m\u001B[1mwandb\u001B[0m: \toptimizer: SGD\n",
      "\u001B[34m\u001B[1mwandb\u001B[0m: \tuse_std_transforms: False\n",
      "\u001B[34m\u001B[1mwandb\u001B[0m: \tuse_transforms: True\n",
      "\u001B[34m\u001B[1mwandb\u001B[0m: \tvisualization_layer: layer4_5_bn3\n"
     ]
    },
    {
     "data": {
      "text/plain": "<IPython.core.display.HTML object>",
      "text/html": "wandb version 0.16.0 is available!  To upgrade, please run:\n $ pip install wandb --upgrade"
     },
     "metadata": {},
     "output_type": "display_data"
    },
    {
     "data": {
      "text/plain": "<IPython.core.display.HTML object>",
      "text/html": "Tracking run with wandb version 0.15.12"
     },
     "metadata": {},
     "output_type": "display_data"
    },
    {
     "data": {
      "text/plain": "<IPython.core.display.HTML object>",
      "text/html": "Run data is saved locally in <code>/Users/rohan/repositories/11785-f23-prj/faceted_visualization/ablations/wandb/run-20231203_192537-w5z7pkxo</code>"
     },
     "metadata": {},
     "output_type": "display_data"
    },
    {
     "data": {
      "text/plain": "<IPython.core.display.HTML object>",
      "text/html": "Syncing run <strong><a href='https://wandb.ai/rohanprasad/testing/runs/w5z7pkxo' target=\"_blank\">dashing-sweep-9</a></strong> to <a href='https://wandb.ai/rohanprasad/testing' target=\"_blank\">Weights & Biases</a> (<a href='https://wandb.me/run' target=\"_blank\">docs</a>)<br/>Sweep page: <a href='https://wandb.ai/rohanprasad/testing/sweeps/qsaz1i8g' target=\"_blank\">https://wandb.ai/rohanprasad/testing/sweeps/qsaz1i8g</a>"
     },
     "metadata": {},
     "output_type": "display_data"
    },
    {
     "data": {
      "text/plain": "<IPython.core.display.HTML object>",
      "text/html": " View project at <a href='https://wandb.ai/rohanprasad/testing' target=\"_blank\">https://wandb.ai/rohanprasad/testing</a>"
     },
     "metadata": {},
     "output_type": "display_data"
    },
    {
     "data": {
      "text/plain": "<IPython.core.display.HTML object>",
      "text/html": " View sweep at <a href='https://wandb.ai/rohanprasad/testing/sweeps/qsaz1i8g' target=\"_blank\">https://wandb.ai/rohanprasad/testing/sweeps/qsaz1i8g</a>"
     },
     "metadata": {},
     "output_type": "display_data"
    },
    {
     "data": {
      "text/plain": "<IPython.core.display.HTML object>",
      "text/html": " View run at <a href='https://wandb.ai/rohanprasad/testing/runs/w5z7pkxo' target=\"_blank\">https://wandb.ai/rohanprasad/testing/runs/w5z7pkxo</a>"
     },
     "metadata": {},
     "output_type": "display_data"
    },
    {
     "name": "stderr",
     "output_type": "stream",
     "text": [
      "2023-12-03 19:25:40,216 [Thread-31 (_] [INFO ]  Starting sweep [ run  w5z7pkxo ] with config = \n",
      "{'channel': 2560, 'learning_rate': 0.05, 'linear_probe_layer': 'layer1_0_conv3', 'model': 'RN50x4', 'num_iterations': 2, 'objective': 'neuron', 'optimizer': 'SGD', 'use_std_transforms': False, 'use_transforms': True, 'visualization_layer': 'layer4_5_bn3'}\n",
      "2023-12-03 19:25:40,216 [Thread-31 (_] [INFO ]  Loading CLIP model [ RN50x4 ].\n",
      "2023-12-03 19:25:43,634 [Thread-31 (_] [INFO ]  Finished loading model [ RN50x4 ]\n",
      "2023-12-03 19:25:43,635 [Thread-31 (_] [INFO ]  Finished loading transforms [ Compose(\n",
      "    Resize(size=288, interpolation=bicubic, max_size=None, antialias=warn)\n",
      "    CenterCrop(size=(288, 288))\n",
      "    Normalize(mean=(0.48145466, 0.4578275, 0.40821073), std=(0.26862954, 0.26130258, 0.27577711))\n",
      ") ]\n",
      "2023-12-03 19:25:43,635 [Thread-31 (_] [INFO ]  Registering hooks.\n",
      "2023-12-03 19:25:43,637 [Thread-31 (_] [INFO ]  Finished registering hooks.\n",
      "2023-12-03 19:25:43,641 [Thread-31 (_] [INFO ]  Retrieving weights of linear probe [ path = /Users/rohan/repositories/11785-f23-prj/faceted_visualization/probes/flower/RN50x4/layer1_0_conv3/version_4_20/model_checkpoint.pth ]\n",
      "2023-12-03 19:25:43,645 [Thread-31 (_] [INFO ]  Final list of transforms = [Resize(size=288, interpolation=bicubic, max_size=None, antialias=warn), CenterCrop(size=(288, 288)), Normalize(mean=(0.48145466, 0.4578275, 0.40821073), std=(0.26862954, 0.26130258, 0.27577711))]\n",
      "2023-12-03 19:25:43,646 [Thread-31 (_] [INFO ]  Starting optimization process [ run_id = w5z7pkxo ]...\n",
      "2023-12-03 19:25:44,159 [Thread-31 (_] [INFO ]  Epoch: 1/2: Loss = -3.8766732 :: Learning Rate = 0.0500000\n",
      "2023-12-03 19:25:44,709 [Thread-31 (_] [INFO ]  Epoch: 2/2: Loss = 17.9317379 :: Learning Rate = 0.0500000\n",
      "2023-12-03 19:25:44,756 [Thread-31 (_] [INFO ]  Completed run [ w5z7pkxo ]\n"
     ]
    },
    {
     "data": {
      "text/plain": "<IPython.core.display.HTML object>",
      "text/html": "Waiting for W&B process to finish... <strong style=\"color:green\">(success).</strong>"
     },
     "metadata": {},
     "output_type": "display_data"
    },
    {
     "data": {
      "text/plain": "VBox(children=(Label(value='0.149 MB of 0.149 MB uploaded (0.000 MB deduped)\\r'), FloatProgress(value=1.0, max…",
      "application/vnd.jupyter.widget-view+json": {
       "version_major": 2,
       "version_minor": 0,
       "model_id": "e1893e7def314069872305d839713811"
      }
     },
     "metadata": {},
     "output_type": "display_data"
    },
    {
     "data": {
      "text/plain": "<IPython.core.display.HTML object>",
      "text/html": "<style>\n    table.wandb td:nth-child(1) { padding: 0 10px; text-align: left ; width: auto;} td:nth-child(2) {text-align: left ; width: 100%}\n    .wandb-row { display: flex; flex-direction: row; flex-wrap: wrap; justify-content: flex-start; width: 100% }\n    .wandb-col { display: flex; flex-direction: column; flex-basis: 100%; flex: 1; padding: 10px; }\n    </style>\n<div class=\"wandb-row\"><div class=\"wandb-col\"><h3>Run history:</h3><br/><table class=\"wandb\"><tr><td>loss</td><td>▁█</td></tr></table><br/></div><div class=\"wandb-col\"><h3>Run summary:</h3><br/><table class=\"wandb\"><tr><td>loss</td><td>17.93174</td></tr></table><br/></div></div>"
     },
     "metadata": {},
     "output_type": "display_data"
    },
    {
     "data": {
      "text/plain": "<IPython.core.display.HTML object>",
      "text/html": " View run <strong style=\"color:#cdcd00\">dashing-sweep-9</strong> at: <a href='https://wandb.ai/rohanprasad/testing/runs/w5z7pkxo' target=\"_blank\">https://wandb.ai/rohanprasad/testing/runs/w5z7pkxo</a><br/>Synced 6 W&B file(s), 2 media file(s), 0 artifact file(s) and 0 other file(s)"
     },
     "metadata": {},
     "output_type": "display_data"
    },
    {
     "data": {
      "text/plain": "<IPython.core.display.HTML object>",
      "text/html": "Find logs at: <code>./wandb/run-20231203_192537-w5z7pkxo/logs</code>"
     },
     "metadata": {},
     "output_type": "display_data"
    },
    {
     "name": "stderr",
     "output_type": "stream",
     "text": [
      "\u001B[34m\u001B[1mwandb\u001B[0m: Agent Starting Run: oii35cjh with config:\n",
      "\u001B[34m\u001B[1mwandb\u001B[0m: \tchannel: 2560\n",
      "\u001B[34m\u001B[1mwandb\u001B[0m: \tlearning_rate: 0.05\n",
      "\u001B[34m\u001B[1mwandb\u001B[0m: \tlinear_probe_layer: layer1_0_conv3\n",
      "\u001B[34m\u001B[1mwandb\u001B[0m: \tmodel: RN50x4\n",
      "\u001B[34m\u001B[1mwandb\u001B[0m: \tnum_iterations: 2\n",
      "\u001B[34m\u001B[1mwandb\u001B[0m: \tobjective: neuron\n",
      "\u001B[34m\u001B[1mwandb\u001B[0m: \toptimizer: SGD\n",
      "\u001B[34m\u001B[1mwandb\u001B[0m: \tuse_std_transforms: False\n",
      "\u001B[34m\u001B[1mwandb\u001B[0m: \tuse_transforms: False\n",
      "\u001B[34m\u001B[1mwandb\u001B[0m: \tvisualization_layer: layer4_5_conv3\n"
     ]
    },
    {
     "data": {
      "text/plain": "<IPython.core.display.HTML object>",
      "text/html": "wandb version 0.16.0 is available!  To upgrade, please run:\n $ pip install wandb --upgrade"
     },
     "metadata": {},
     "output_type": "display_data"
    },
    {
     "data": {
      "text/plain": "<IPython.core.display.HTML object>",
      "text/html": "Tracking run with wandb version 0.15.12"
     },
     "metadata": {},
     "output_type": "display_data"
    },
    {
     "data": {
      "text/plain": "<IPython.core.display.HTML object>",
      "text/html": "Run data is saved locally in <code>/Users/rohan/repositories/11785-f23-prj/faceted_visualization/ablations/wandb/run-20231203_192552-oii35cjh</code>"
     },
     "metadata": {},
     "output_type": "display_data"
    },
    {
     "data": {
      "text/plain": "<IPython.core.display.HTML object>",
      "text/html": "Syncing run <strong><a href='https://wandb.ai/rohanprasad/testing/runs/oii35cjh' target=\"_blank\">hardy-sweep-10</a></strong> to <a href='https://wandb.ai/rohanprasad/testing' target=\"_blank\">Weights & Biases</a> (<a href='https://wandb.me/run' target=\"_blank\">docs</a>)<br/>Sweep page: <a href='https://wandb.ai/rohanprasad/testing/sweeps/qsaz1i8g' target=\"_blank\">https://wandb.ai/rohanprasad/testing/sweeps/qsaz1i8g</a>"
     },
     "metadata": {},
     "output_type": "display_data"
    },
    {
     "data": {
      "text/plain": "<IPython.core.display.HTML object>",
      "text/html": " View project at <a href='https://wandb.ai/rohanprasad/testing' target=\"_blank\">https://wandb.ai/rohanprasad/testing</a>"
     },
     "metadata": {},
     "output_type": "display_data"
    },
    {
     "data": {
      "text/plain": "<IPython.core.display.HTML object>",
      "text/html": " View sweep at <a href='https://wandb.ai/rohanprasad/testing/sweeps/qsaz1i8g' target=\"_blank\">https://wandb.ai/rohanprasad/testing/sweeps/qsaz1i8g</a>"
     },
     "metadata": {},
     "output_type": "display_data"
    },
    {
     "data": {
      "text/plain": "<IPython.core.display.HTML object>",
      "text/html": " View run at <a href='https://wandb.ai/rohanprasad/testing/runs/oii35cjh' target=\"_blank\">https://wandb.ai/rohanprasad/testing/runs/oii35cjh</a>"
     },
     "metadata": {},
     "output_type": "display_data"
    },
    {
     "name": "stderr",
     "output_type": "stream",
     "text": [
      "2023-12-03 19:25:55,340 [Thread-34 (_] [INFO ]  Starting sweep [ run  oii35cjh ] with config = \n",
      "{'channel': 2560, 'learning_rate': 0.05, 'linear_probe_layer': 'layer1_0_conv3', 'model': 'RN50x4', 'num_iterations': 2, 'objective': 'neuron', 'optimizer': 'SGD', 'use_std_transforms': False, 'use_transforms': False, 'visualization_layer': 'layer4_5_conv3'}\n",
      "2023-12-03 19:25:55,341 [Thread-34 (_] [INFO ]  Loading CLIP model [ RN50x4 ].\n",
      "2023-12-03 19:25:59,077 [Thread-34 (_] [INFO ]  Finished loading model [ RN50x4 ]\n",
      "2023-12-03 19:25:59,079 [Thread-34 (_] [INFO ]  Finished loading transforms [ Compose(\n",
      "    Resize(size=288, interpolation=bicubic, max_size=None, antialias=warn)\n",
      "    CenterCrop(size=(288, 288))\n",
      "    Normalize(mean=(0.48145466, 0.4578275, 0.40821073), std=(0.26862954, 0.26130258, 0.27577711))\n",
      ") ]\n",
      "2023-12-03 19:25:59,079 [Thread-34 (_] [INFO ]  Registering hooks.\n",
      "2023-12-03 19:25:59,081 [Thread-34 (_] [INFO ]  Finished registering hooks.\n",
      "2023-12-03 19:25:59,085 [Thread-34 (_] [INFO ]  Retrieving weights of linear probe [ path = /Users/rohan/repositories/11785-f23-prj/faceted_visualization/probes/flower/RN50x4/layer1_0_conv3/version_4_20/model_checkpoint.pth ]\n",
      "2023-12-03 19:25:59,088 [Thread-34 (_] [INFO ]  Final list of transforms = NA\n",
      "2023-12-03 19:25:59,089 [Thread-34 (_] [INFO ]  Starting optimization process [ run_id = oii35cjh ]...\n",
      "2023-12-03 19:25:59,732 [Thread-34 (_] [INFO ]  Epoch: 1/2: Loss = -0.2000677 :: Learning Rate = 0.0500000\n",
      "2023-12-03 19:26:00,264 [Thread-34 (_] [INFO ]  Epoch: 2/2: Loss = -0.1449288 :: Learning Rate = 0.0500000\n",
      "2023-12-03 19:26:00,321 [Thread-34 (_] [INFO ]  Completed run [ oii35cjh ]\n"
     ]
    },
    {
     "data": {
      "text/plain": "<IPython.core.display.HTML object>",
      "text/html": "Waiting for W&B process to finish... <strong style=\"color:green\">(success).</strong>"
     },
     "metadata": {},
     "output_type": "display_data"
    },
    {
     "data": {
      "text/plain": "VBox(children=(Label(value='0.104 MB of 0.104 MB uploaded (0.000 MB deduped)\\r'), FloatProgress(value=1.0, max…",
      "application/vnd.jupyter.widget-view+json": {
       "version_major": 2,
       "version_minor": 0,
       "model_id": "1ae89497e4844b149fef24ab464a5dcb"
      }
     },
     "metadata": {},
     "output_type": "display_data"
    },
    {
     "data": {
      "text/plain": "<IPython.core.display.HTML object>",
      "text/html": "<style>\n    table.wandb td:nth-child(1) { padding: 0 10px; text-align: left ; width: auto;} td:nth-child(2) {text-align: left ; width: 100%}\n    .wandb-row { display: flex; flex-direction: row; flex-wrap: wrap; justify-content: flex-start; width: 100% }\n    .wandb-col { display: flex; flex-direction: column; flex-basis: 100%; flex: 1; padding: 10px; }\n    </style>\n<div class=\"wandb-row\"><div class=\"wandb-col\"><h3>Run history:</h3><br/><table class=\"wandb\"><tr><td>loss</td><td>▁█</td></tr></table><br/></div><div class=\"wandb-col\"><h3>Run summary:</h3><br/><table class=\"wandb\"><tr><td>loss</td><td>-0.14493</td></tr></table><br/></div></div>"
     },
     "metadata": {},
     "output_type": "display_data"
    },
    {
     "data": {
      "text/plain": "<IPython.core.display.HTML object>",
      "text/html": " View run <strong style=\"color:#cdcd00\">hardy-sweep-10</strong> at: <a href='https://wandb.ai/rohanprasad/testing/runs/oii35cjh' target=\"_blank\">https://wandb.ai/rohanprasad/testing/runs/oii35cjh</a><br/>Synced 6 W&B file(s), 2 media file(s), 0 artifact file(s) and 0 other file(s)"
     },
     "metadata": {},
     "output_type": "display_data"
    },
    {
     "data": {
      "text/plain": "<IPython.core.display.HTML object>",
      "text/html": "Find logs at: <code>./wandb/run-20231203_192552-oii35cjh/logs</code>"
     },
     "metadata": {},
     "output_type": "display_data"
    },
    {
     "name": "stderr",
     "output_type": "stream",
     "text": [
      "\u001B[34m\u001B[1mwandb\u001B[0m: Agent Starting Run: xa8wv885 with config:\n",
      "\u001B[34m\u001B[1mwandb\u001B[0m: \tchannel: 2560\n",
      "\u001B[34m\u001B[1mwandb\u001B[0m: \tlearning_rate: 0.05\n",
      "\u001B[34m\u001B[1mwandb\u001B[0m: \tlinear_probe_layer: layer1_0_conv3\n",
      "\u001B[34m\u001B[1mwandb\u001B[0m: \tmodel: RN50x4\n",
      "\u001B[34m\u001B[1mwandb\u001B[0m: \tnum_iterations: 2\n",
      "\u001B[34m\u001B[1mwandb\u001B[0m: \tobjective: neuron\n",
      "\u001B[34m\u001B[1mwandb\u001B[0m: \toptimizer: SGD\n",
      "\u001B[34m\u001B[1mwandb\u001B[0m: \tuse_std_transforms: False\n",
      "\u001B[34m\u001B[1mwandb\u001B[0m: \tuse_transforms: False\n",
      "\u001B[34m\u001B[1mwandb\u001B[0m: \tvisualization_layer: layer4_5_relu3\n"
     ]
    },
    {
     "data": {
      "text/plain": "<IPython.core.display.HTML object>",
      "text/html": "wandb version 0.16.0 is available!  To upgrade, please run:\n $ pip install wandb --upgrade"
     },
     "metadata": {},
     "output_type": "display_data"
    },
    {
     "data": {
      "text/plain": "<IPython.core.display.HTML object>",
      "text/html": "Tracking run with wandb version 0.15.12"
     },
     "metadata": {},
     "output_type": "display_data"
    },
    {
     "data": {
      "text/plain": "<IPython.core.display.HTML object>",
      "text/html": "Run data is saved locally in <code>/Users/rohan/repositories/11785-f23-prj/faceted_visualization/ablations/wandb/run-20231203_192607-xa8wv885</code>"
     },
     "metadata": {},
     "output_type": "display_data"
    },
    {
     "data": {
      "text/plain": "<IPython.core.display.HTML object>",
      "text/html": "Syncing run <strong><a href='https://wandb.ai/rohanprasad/testing/runs/xa8wv885' target=\"_blank\">leafy-sweep-11</a></strong> to <a href='https://wandb.ai/rohanprasad/testing' target=\"_blank\">Weights & Biases</a> (<a href='https://wandb.me/run' target=\"_blank\">docs</a>)<br/>Sweep page: <a href='https://wandb.ai/rohanprasad/testing/sweeps/qsaz1i8g' target=\"_blank\">https://wandb.ai/rohanprasad/testing/sweeps/qsaz1i8g</a>"
     },
     "metadata": {},
     "output_type": "display_data"
    },
    {
     "data": {
      "text/plain": "<IPython.core.display.HTML object>",
      "text/html": " View project at <a href='https://wandb.ai/rohanprasad/testing' target=\"_blank\">https://wandb.ai/rohanprasad/testing</a>"
     },
     "metadata": {},
     "output_type": "display_data"
    },
    {
     "data": {
      "text/plain": "<IPython.core.display.HTML object>",
      "text/html": " View sweep at <a href='https://wandb.ai/rohanprasad/testing/sweeps/qsaz1i8g' target=\"_blank\">https://wandb.ai/rohanprasad/testing/sweeps/qsaz1i8g</a>"
     },
     "metadata": {},
     "output_type": "display_data"
    },
    {
     "data": {
      "text/plain": "<IPython.core.display.HTML object>",
      "text/html": " View run at <a href='https://wandb.ai/rohanprasad/testing/runs/xa8wv885' target=\"_blank\">https://wandb.ai/rohanprasad/testing/runs/xa8wv885</a>"
     },
     "metadata": {},
     "output_type": "display_data"
    },
    {
     "name": "stderr",
     "output_type": "stream",
     "text": [
      "2023-12-03 19:26:10,336 [Thread-37 (_] [INFO ]  Starting sweep [ run  xa8wv885 ] with config = \n",
      "{'channel': 2560, 'learning_rate': 0.05, 'linear_probe_layer': 'layer1_0_conv3', 'model': 'RN50x4', 'num_iterations': 2, 'objective': 'neuron', 'optimizer': 'SGD', 'use_std_transforms': False, 'use_transforms': False, 'visualization_layer': 'layer4_5_relu3'}\n",
      "2023-12-03 19:26:10,337 [Thread-37 (_] [INFO ]  Loading CLIP model [ RN50x4 ].\n",
      "2023-12-03 19:26:14,119 [Thread-37 (_] [INFO ]  Finished loading model [ RN50x4 ]\n",
      "2023-12-03 19:26:14,120 [Thread-37 (_] [INFO ]  Finished loading transforms [ Compose(\n",
      "    Resize(size=288, interpolation=bicubic, max_size=None, antialias=warn)\n",
      "    CenterCrop(size=(288, 288))\n",
      "    Normalize(mean=(0.48145466, 0.4578275, 0.40821073), std=(0.26862954, 0.26130258, 0.27577711))\n",
      ") ]\n",
      "2023-12-03 19:26:14,120 [Thread-37 (_] [INFO ]  Registering hooks.\n",
      "2023-12-03 19:26:14,122 [Thread-37 (_] [INFO ]  Finished registering hooks.\n",
      "2023-12-03 19:26:14,128 [Thread-37 (_] [INFO ]  Retrieving weights of linear probe [ path = /Users/rohan/repositories/11785-f23-prj/faceted_visualization/probes/flower/RN50x4/layer1_0_conv3/version_4_20/model_checkpoint.pth ]\n",
      "2023-12-03 19:26:14,131 [Thread-37 (_] [INFO ]  Final list of transforms = NA\n",
      "2023-12-03 19:26:14,131 [Thread-37 (_] [INFO ]  Starting optimization process [ run_id = xa8wv885 ]...\n",
      "2023-12-03 19:26:14,582 [Thread-37 (_] [INFO ]  Epoch: 1/2: Loss = -4.3633871 :: Learning Rate = 0.0500000\n",
      "2023-12-03 19:26:15,020 [Thread-37 (_] [INFO ]  Epoch: 2/2: Loss = -4.3406935 :: Learning Rate = 0.0500000\n",
      "2023-12-03 19:26:15,057 [Thread-37 (_] [INFO ]  Completed run [ xa8wv885 ]\n"
     ]
    },
    {
     "data": {
      "text/plain": "<IPython.core.display.HTML object>",
      "text/html": "Waiting for W&B process to finish... <strong style=\"color:green\">(success).</strong>"
     },
     "metadata": {},
     "output_type": "display_data"
    },
    {
     "data": {
      "text/plain": "VBox(children=(Label(value='0.104 MB of 0.104 MB uploaded (0.000 MB deduped)\\r'), FloatProgress(value=1.0, max…",
      "application/vnd.jupyter.widget-view+json": {
       "version_major": 2,
       "version_minor": 0,
       "model_id": "aa8a6887a3c64f179fd25a1f3a647c37"
      }
     },
     "metadata": {},
     "output_type": "display_data"
    },
    {
     "data": {
      "text/plain": "<IPython.core.display.HTML object>",
      "text/html": "<style>\n    table.wandb td:nth-child(1) { padding: 0 10px; text-align: left ; width: auto;} td:nth-child(2) {text-align: left ; width: 100%}\n    .wandb-row { display: flex; flex-direction: row; flex-wrap: wrap; justify-content: flex-start; width: 100% }\n    .wandb-col { display: flex; flex-direction: column; flex-basis: 100%; flex: 1; padding: 10px; }\n    </style>\n<div class=\"wandb-row\"><div class=\"wandb-col\"><h3>Run history:</h3><br/><table class=\"wandb\"><tr><td>loss</td><td>▁█</td></tr></table><br/></div><div class=\"wandb-col\"><h3>Run summary:</h3><br/><table class=\"wandb\"><tr><td>loss</td><td>-4.34069</td></tr></table><br/></div></div>"
     },
     "metadata": {},
     "output_type": "display_data"
    },
    {
     "data": {
      "text/plain": "<IPython.core.display.HTML object>",
      "text/html": " View run <strong style=\"color:#cdcd00\">leafy-sweep-11</strong> at: <a href='https://wandb.ai/rohanprasad/testing/runs/xa8wv885' target=\"_blank\">https://wandb.ai/rohanprasad/testing/runs/xa8wv885</a><br/>Synced 6 W&B file(s), 2 media file(s), 0 artifact file(s) and 0 other file(s)"
     },
     "metadata": {},
     "output_type": "display_data"
    },
    {
     "data": {
      "text/plain": "<IPython.core.display.HTML object>",
      "text/html": "Find logs at: <code>./wandb/run-20231203_192607-xa8wv885/logs</code>"
     },
     "metadata": {},
     "output_type": "display_data"
    },
    {
     "name": "stderr",
     "output_type": "stream",
     "text": [
      "\u001B[34m\u001B[1mwandb\u001B[0m: Agent Starting Run: tsl4qti9 with config:\n",
      "\u001B[34m\u001B[1mwandb\u001B[0m: \tchannel: 2560\n",
      "\u001B[34m\u001B[1mwandb\u001B[0m: \tlearning_rate: 0.05\n",
      "\u001B[34m\u001B[1mwandb\u001B[0m: \tlinear_probe_layer: layer1_0_conv3\n",
      "\u001B[34m\u001B[1mwandb\u001B[0m: \tmodel: RN50x4\n",
      "\u001B[34m\u001B[1mwandb\u001B[0m: \tnum_iterations: 2\n",
      "\u001B[34m\u001B[1mwandb\u001B[0m: \tobjective: neuron\n",
      "\u001B[34m\u001B[1mwandb\u001B[0m: \toptimizer: SGD\n",
      "\u001B[34m\u001B[1mwandb\u001B[0m: \tuse_std_transforms: False\n",
      "\u001B[34m\u001B[1mwandb\u001B[0m: \tuse_transforms: False\n",
      "\u001B[34m\u001B[1mwandb\u001B[0m: \tvisualization_layer: layer4_5_bn3\n"
     ]
    },
    {
     "data": {
      "text/plain": "<IPython.core.display.HTML object>",
      "text/html": "wandb version 0.16.0 is available!  To upgrade, please run:\n $ pip install wandb --upgrade"
     },
     "metadata": {},
     "output_type": "display_data"
    },
    {
     "data": {
      "text/plain": "<IPython.core.display.HTML object>",
      "text/html": "Tracking run with wandb version 0.15.12"
     },
     "metadata": {},
     "output_type": "display_data"
    },
    {
     "data": {
      "text/plain": "<IPython.core.display.HTML object>",
      "text/html": "Run data is saved locally in <code>/Users/rohan/repositories/11785-f23-prj/faceted_visualization/ablations/wandb/run-20231203_192624-tsl4qti9</code>"
     },
     "metadata": {},
     "output_type": "display_data"
    },
    {
     "data": {
      "text/plain": "<IPython.core.display.HTML object>",
      "text/html": "Syncing run <strong><a href='https://wandb.ai/rohanprasad/testing/runs/tsl4qti9' target=\"_blank\">young-sweep-12</a></strong> to <a href='https://wandb.ai/rohanprasad/testing' target=\"_blank\">Weights & Biases</a> (<a href='https://wandb.me/run' target=\"_blank\">docs</a>)<br/>Sweep page: <a href='https://wandb.ai/rohanprasad/testing/sweeps/qsaz1i8g' target=\"_blank\">https://wandb.ai/rohanprasad/testing/sweeps/qsaz1i8g</a>"
     },
     "metadata": {},
     "output_type": "display_data"
    },
    {
     "data": {
      "text/plain": "<IPython.core.display.HTML object>",
      "text/html": " View project at <a href='https://wandb.ai/rohanprasad/testing' target=\"_blank\">https://wandb.ai/rohanprasad/testing</a>"
     },
     "metadata": {},
     "output_type": "display_data"
    },
    {
     "data": {
      "text/plain": "<IPython.core.display.HTML object>",
      "text/html": " View sweep at <a href='https://wandb.ai/rohanprasad/testing/sweeps/qsaz1i8g' target=\"_blank\">https://wandb.ai/rohanprasad/testing/sweeps/qsaz1i8g</a>"
     },
     "metadata": {},
     "output_type": "display_data"
    },
    {
     "data": {
      "text/plain": "<IPython.core.display.HTML object>",
      "text/html": " View run at <a href='https://wandb.ai/rohanprasad/testing/runs/tsl4qti9' target=\"_blank\">https://wandb.ai/rohanprasad/testing/runs/tsl4qti9</a>"
     },
     "metadata": {},
     "output_type": "display_data"
    },
    {
     "name": "stderr",
     "output_type": "stream",
     "text": [
      "2023-12-03 19:26:26,739 [Thread-40 (_] [INFO ]  Starting sweep [ run  tsl4qti9 ] with config = \n",
      "{'channel': 2560, 'learning_rate': 0.05, 'linear_probe_layer': 'layer1_0_conv3', 'model': 'RN50x4', 'num_iterations': 2, 'objective': 'neuron', 'optimizer': 'SGD', 'use_std_transforms': False, 'use_transforms': False, 'visualization_layer': 'layer4_5_bn3'}\n",
      "2023-12-03 19:26:26,740 [Thread-40 (_] [INFO ]  Loading CLIP model [ RN50x4 ].\n",
      "2023-12-03 19:26:29,532 [Thread-40 (_] [INFO ]  Finished loading model [ RN50x4 ]\n",
      "2023-12-03 19:26:29,532 [Thread-40 (_] [INFO ]  Finished loading transforms [ Compose(\n",
      "    Resize(size=288, interpolation=bicubic, max_size=None, antialias=warn)\n",
      "    CenterCrop(size=(288, 288))\n",
      "    Normalize(mean=(0.48145466, 0.4578275, 0.40821073), std=(0.26862954, 0.26130258, 0.27577711))\n",
      ") ]\n",
      "2023-12-03 19:26:29,532 [Thread-40 (_] [INFO ]  Registering hooks.\n",
      "2023-12-03 19:26:29,534 [Thread-40 (_] [INFO ]  Finished registering hooks.\n",
      "2023-12-03 19:26:29,538 [Thread-40 (_] [INFO ]  Retrieving weights of linear probe [ path = /Users/rohan/repositories/11785-f23-prj/faceted_visualization/probes/flower/RN50x4/layer1_0_conv3/version_4_20/model_checkpoint.pth ]\n",
      "2023-12-03 19:26:29,540 [Thread-40 (_] [INFO ]  Final list of transforms = NA\n",
      "2023-12-03 19:26:29,540 [Thread-40 (_] [INFO ]  Starting optimization process [ run_id = tsl4qti9 ]...\n",
      "2023-12-03 19:26:29,941 [Thread-40 (_] [INFO ]  Epoch: 1/2: Loss = -14.0175095 :: Learning Rate = 0.0500000\n",
      "2023-12-03 19:26:30,345 [Thread-40 (_] [INFO ]  Epoch: 2/2: Loss = -15.4928837 :: Learning Rate = 0.0500000\n",
      "2023-12-03 19:26:30,383 [Thread-40 (_] [INFO ]  Completed run [ tsl4qti9 ]\n"
     ]
    },
    {
     "data": {
      "text/plain": "<IPython.core.display.HTML object>",
      "text/html": "Waiting for W&B process to finish... <strong style=\"color:green\">(success).</strong>"
     },
     "metadata": {},
     "output_type": "display_data"
    },
    {
     "data": {
      "text/plain": "VBox(children=(Label(value='0.108 MB of 0.108 MB uploaded (0.000 MB deduped)\\r'), FloatProgress(value=1.0, max…",
      "application/vnd.jupyter.widget-view+json": {
       "version_major": 2,
       "version_minor": 0,
       "model_id": "6f6fb243bfb14f7f93bb48c96339513a"
      }
     },
     "metadata": {},
     "output_type": "display_data"
    },
    {
     "data": {
      "text/plain": "<IPython.core.display.HTML object>",
      "text/html": "<style>\n    table.wandb td:nth-child(1) { padding: 0 10px; text-align: left ; width: auto;} td:nth-child(2) {text-align: left ; width: 100%}\n    .wandb-row { display: flex; flex-direction: row; flex-wrap: wrap; justify-content: flex-start; width: 100% }\n    .wandb-col { display: flex; flex-direction: column; flex-basis: 100%; flex: 1; padding: 10px; }\n    </style>\n<div class=\"wandb-row\"><div class=\"wandb-col\"><h3>Run history:</h3><br/><table class=\"wandb\"><tr><td>loss</td><td>█▁</td></tr></table><br/></div><div class=\"wandb-col\"><h3>Run summary:</h3><br/><table class=\"wandb\"><tr><td>loss</td><td>-15.49288</td></tr></table><br/></div></div>"
     },
     "metadata": {},
     "output_type": "display_data"
    },
    {
     "data": {
      "text/plain": "<IPython.core.display.HTML object>",
      "text/html": " View run <strong style=\"color:#cdcd00\">young-sweep-12</strong> at: <a href='https://wandb.ai/rohanprasad/testing/runs/tsl4qti9' target=\"_blank\">https://wandb.ai/rohanprasad/testing/runs/tsl4qti9</a><br/>Synced 6 W&B file(s), 2 media file(s), 0 artifact file(s) and 0 other file(s)"
     },
     "metadata": {},
     "output_type": "display_data"
    },
    {
     "data": {
      "text/plain": "<IPython.core.display.HTML object>",
      "text/html": "Find logs at: <code>./wandb/run-20231203_192624-tsl4qti9/logs</code>"
     },
     "metadata": {},
     "output_type": "display_data"
    }
   ],
   "source": [
    "sweep_id = wandb.sweep(sweep_config, project=\"testing\", entity=\"rohanprasad\")\n",
    "logger.info(\"Sweep ID = %s\", sweep_id)\n",
    "wandb.agent(sweep_id, function=perform_sweep)"
   ],
   "metadata": {
    "collapsed": false,
    "is_executing": true,
    "ExecuteTime": {
     "start_time": "2023-12-04T00:23:22.223925Z"
    }
   },
   "id": "78e184d24ac3dac7"
  },
  {
   "cell_type": "code",
   "execution_count": null,
   "outputs": [],
   "source": [],
   "metadata": {
    "collapsed": false,
    "is_executing": true
   },
   "id": "6119e715f8cddb1"
  }
 ],
 "metadata": {
  "kernelspec": {
   "display_name": "Python 3",
   "language": "python",
   "name": "python3"
  },
  "language_info": {
   "codemirror_mode": {
    "name": "ipython",
    "version": 2
   },
   "file_extension": ".py",
   "mimetype": "text/x-python",
   "name": "python",
   "nbconvert_exporter": "python",
   "pygments_lexer": "ipython2",
   "version": "2.7.6"
  }
 },
 "nbformat": 4,
 "nbformat_minor": 5
}

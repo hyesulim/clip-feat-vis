{
 "cells": [
  {
   "cell_type": "code",
   "execution_count": 1,
   "id": "7b725a9c",
   "metadata": {},
   "outputs": [
    {
     "name": "stdout",
     "output_type": "stream",
     "text": [
      "/apps/11785-f23-prj\n"
     ]
    },
    {
     "data": {
      "text/plain": [
       "'/apps/11785-f23-prj'"
      ]
     },
     "execution_count": 1,
     "metadata": {},
     "output_type": "execute_result"
    }
   ],
   "source": [
    "%cd ../../\n",
    "%pwd"
   ]
  },
  {
   "cell_type": "code",
   "execution_count": 2,
   "id": "dcdcdcd0",
   "metadata": {},
   "outputs": [],
   "source": [
    "from faceted_visualization.visualizer import main\n",
    "import os\n",
    "import ast\n",
    "import pprint\n",
    "logger = main.logger"
   ]
  },
  {
   "cell_type": "code",
   "execution_count": 4,
   "id": "5baf8855",
   "metadata": {},
   "outputs": [
    {
     "name": "stderr",
     "output_type": "stream",
     "text": [
      "2023-11-28 21:58:56,196 [MainThread  ] [INFO ]  Load properties = \n",
      "{'channel': 512,\n",
      " 'image_h': 224,\n",
      " 'image_w': 224,\n",
      " 'img_use_decorrelate': True,\n",
      " 'img_use_fft': True,\n",
      " 'learning_rate': 0.05,\n",
      " 'linear_probe_layer': 'layer1_2_relu3',\n",
      " 'linear_probe_model': 'model_checkpoint (1).pth',\n",
      " 'model': 'RN50',\n",
      " 'num_iterations': 512,\n",
      " 'objective': 'channel',\n",
      " 'optimizer': 'AdamW',\n",
      " 'output_directory': '/apps/11785-f23-prj/faceted_visualization/runs',\n",
      " 'probe_checkpoint_directory': '/apps/11785-f23-prj/faceted_visualization/linear_probes',\n",
      " 'visualization_layer': 'layer4_2_conv3'}\n"
     ]
    }
   ],
   "source": [
    "with open(os.path.join(\"faceted_visualization\", \"visualizer\", \"config\", \"run_configs.json\")) as f:\n",
    "    properties = ast.literal_eval(f.read())\n",
    "logger.info(\"Load properties = \\n%s\", pprint.pformat(properties))"
   ]
  },
  {
   "cell_type": "code",
   "execution_count": 5,
   "id": "03784230",
   "metadata": {},
   "outputs": [
    {
     "name": "stderr",
     "output_type": "stream",
     "text": [
      "2023-11-28 21:59:01,447 [MainThread  ] [INFO ]  Loading CLIP model [ RN50 ].\n",
      "2023-11-28 21:59:04,503 [MainThread  ] [INFO ]  Finished loading model [ RN50 ]\n",
      "2023-11-28 21:59:04,504 [MainThread  ] [INFO ]  Registering hooks.\n",
      "2023-11-28 21:59:04,506 [MainThread  ] [INFO ]  Finished registering hooks.\n",
      "2023-11-28 21:59:04,509 [MainThread  ] [INFO ]  Creating AdamW optimizer with params [ lr = 0.05000 ]\n",
      "2023-11-28 21:59:04,510 [MainThread  ] [INFO ]  Retrieving weights of linear probe [ path = /apps/11785-f23-prj/faceted_visualization/linear_probes/model_checkpoint (1).pth ]\n",
      "2023-11-28 21:59:04,514 [MainThread  ] [INFO ]  Starting optimization process [ run_id = run_20231128215844 ]...\n",
      "2023-11-28 21:59:06,135 [MainThread  ] [INFO ]  Epoch: 1/512: Loss = -4.6289062 :: Learning Rate = 0.0500000\n",
      "2023-11-28 21:59:08,919 [MainThread  ] [INFO ]  Epoch: 101/512: Loss = -7.3359375 :: Learning Rate = 0.0500000\n",
      "2023-11-28 21:59:11,620 [MainThread  ] [INFO ]  Epoch: 201/512: Loss = -7.0312500 :: Learning Rate = 0.0500000\n",
      "2023-11-28 21:59:14,361 [MainThread  ] [INFO ]  Epoch: 301/512: Loss = -5.8242188 :: Learning Rate = 0.0500000\n",
      "2023-11-28 21:59:17,055 [MainThread  ] [INFO ]  Epoch: 401/512: Loss = -6.7226562 :: Learning Rate = 0.0500000\n",
      "2023-11-28 21:59:19,812 [MainThread  ] [INFO ]  Epoch: 501/512: Loss = -10.3125000 :: Learning Rate = 0.0500000\n",
      "2023-11-28 21:59:20,121 [MainThread  ] [INFO ]  Saving image [ path = /apps/11785-f23-prj/faceted_visualization/runs/run_20231128215844/output.jpg ]\n"
     ]
    }
   ],
   "source": [
    "image_f = main.orchestrate(config=properties)"
   ]
  },
  {
   "cell_type": "code",
   "execution_count": null,
   "id": "6e2a97a6",
   "metadata": {},
   "outputs": [],
   "source": [
    "%matplotlib inline\n"
   ]
  }
 ],
 "metadata": {
  "kernelspec": {
   "display_name": "Python 3",
   "language": "python",
   "name": "python3"
  },
  "language_info": {
   "codemirror_mode": {
    "name": "ipython",
    "version": 3
   },
   "file_extension": ".py",
   "mimetype": "text/x-python",
   "name": "python",
   "nbconvert_exporter": "python",
   "pygments_lexer": "ipython3",
   "version": "3.10.13"
  }
 },
 "nbformat": 4,
 "nbformat_minor": 5
}

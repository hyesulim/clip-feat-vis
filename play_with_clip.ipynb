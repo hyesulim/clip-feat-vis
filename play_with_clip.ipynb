{
 "cells": [
  {
   "cell_type": "code",
   "execution_count": 1,
   "id": "03ffcc2b-051b-4345-b53c-7aac6007a815",
   "metadata": {},
   "outputs": [
    {
     "name": "stdout",
     "output_type": "stream",
     "text": [
      "Unexpected exception formatting exception. Falling back to standard exception\n"
     ]
    },
    {
     "name": "stderr",
     "output_type": "stream",
     "text": [
      "Traceback (most recent call last):\n",
      "  File \"/home/changdaeoh/.local/lib/python3.8/site-packages/IPython/core/interactiveshell.py\", line 3508, in run_code\n",
      "    exec(code_obj, self.user_global_ns, self.user_ns)\n",
      "  File \"/tmp/ipykernel_183586/4252012722.py\", line 5, in <module>\n",
      "    import clip\n",
      "  File \"/data2/changdae/lucent/clip/__init__.py\", line 1, in <module>\n",
      "    from .clip import *\n",
      "  File \"/data2/changdae/lucent/clip/clip.py\", line 14, in <module>\n",
      "    from .simple_tokenizer import SimpleTokenizer as _Tokenizer\n",
      "  File \"/data2/changdae/lucent/clip/simple_tokenizer.py\", line 6, in <module>\n",
      "    import ftfy\n",
      "ModuleNotFoundError: No module named 'ftfy'\n",
      "\n",
      "During handling of the above exception, another exception occurred:\n",
      "\n",
      "Traceback (most recent call last):\n",
      "  File \"/home/changdaeoh/.local/lib/python3.8/site-packages/IPython/core/interactiveshell.py\", line 2105, in showtraceback\n",
      "    stb = self.InteractiveTB.structured_traceback(\n",
      "  File \"/home/changdaeoh/.local/lib/python3.8/site-packages/IPython/core/ultratb.py\", line 1396, in structured_traceback\n",
      "    return FormattedTB.structured_traceback(\n",
      "  File \"/home/changdaeoh/.local/lib/python3.8/site-packages/IPython/core/ultratb.py\", line 1287, in structured_traceback\n",
      "    return VerboseTB.structured_traceback(\n",
      "  File \"/home/changdaeoh/.local/lib/python3.8/site-packages/IPython/core/ultratb.py\", line 1140, in structured_traceback\n",
      "    formatted_exception = self.format_exception_as_a_whole(etype, evalue, etb, number_of_lines_of_context,\n",
      "  File \"/home/changdaeoh/.local/lib/python3.8/site-packages/IPython/core/ultratb.py\", line 1030, in format_exception_as_a_whole\n",
      "    self.get_records(etb, number_of_lines_of_context, tb_offset) if etb else []\n",
      "  File \"/home/changdaeoh/.local/lib/python3.8/site-packages/IPython/core/ultratb.py\", line 1082, in get_records\n",
      "    style = stack_data.style_with_executing_node(style, self._tb_highlight)\n",
      "  File \"/home/changdaeoh/.local/lib/python3.8/site-packages/stack_data/core.py\", line 455, in style_with_executing_node\n",
      "    class NewStyle(style):\n",
      "  File \"/usr/lib/python3/dist-packages/pygments/style.py\", line 91, in __new__\n",
      "    ndef[4] = colorformat(styledef[3:])\n",
      "  File \"/usr/lib/python3/dist-packages/pygments/style.py\", line 58, in colorformat\n",
      "    assert False, \"wrong color format %r\" % text\n",
      "AssertionError: wrong color format 'ansiyellow'\n"
     ]
    }
   ],
   "source": [
    "import os\n",
    "os.environ['CUDA_VISIBLE_DEVICES']=\"7\"\n",
    "\n",
    "import torch\n",
    "import clip\n",
    "\n",
    "from lucent.optvis import render, param\n",
    "from lucent.modelzoo.util import get_model_layers"
   ]
  },
  {
   "cell_type": "code",
   "execution_count": null,
   "id": "8d262733-5871-40e8-956a-2322848e74fa",
   "metadata": {},
   "outputs": [],
   "source": [
    "SPATIAL_DECORRELATION = True\n",
    "CHANNEL_DECORRELATION = True\n",
    "CPPN = False"
   ]
  },
  {
   "cell_type": "code",
   "execution_count": null,
   "id": "3feb5352-ca49-40cb-854e-0c8954bf6028",
   "metadata": {},
   "outputs": [],
   "source": [
    "device = torch.device(\"cuda\" if torch.cuda.is_available() else \"cpu\")\n",
    "model, preprocess = clip.load(\"RN50\", device=device)\n",
    "model = model.visual\n",
    "model.to(device).eval()\n",
    "\n",
    "CPPN = False\n",
    "\n",
    "\n",
    "# if CPPN:\n",
    "#     # CPPN parameterization\n",
    "#     param_f = lambda: param.cppn(224)\n",
    "#     opt = lambda params: torch.optim.Adam(params, 5e-3)\n",
    "#     # Some objectives work better with CPPN than others\n",
    "#     obj = \"layer4.2.conv3:512\"\n",
    "# else:\n",
    "param_f = lambda: param.image(224, fft=SPATIAL_DECORRELATION, decorrelate=CHANNEL_DECORRELATION)\n",
    "opt = lambda params: torch.optim.Adam(params, 5e-2)\n",
    "#obj = \"layer4.2.conv3:512\"\n",
    "obj = \"layer4_2_conv3:512\"\n",
    "\n",
    "render.render_vis(model, obj, param_f, show_inline=True)"
   ]
  }
 ],
 "metadata": {
  "kernelspec": {
   "display_name": "Python 3 (ipykernel)",
   "language": "python",
   "name": "python3"
  },
  "language_info": {
   "codemirror_mode": {
    "name": "ipython",
    "version": 3
   },
   "file_extension": ".py",
   "mimetype": "text/x-python",
   "name": "python",
   "nbconvert_exporter": "python",
   "pygments_lexer": "ipython3",
   "version": "3.8.10"
  }
 },
 "nbformat": 4,
 "nbformat_minor": 5
}
